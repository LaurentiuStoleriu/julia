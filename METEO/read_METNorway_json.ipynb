{
 "cells": [
  {
   "cell_type": "code",
   "execution_count": null,
   "metadata": {},
   "outputs": [],
   "source": [
    "using Dates\n",
    "using JSON3\n",
    "using DataFrames"
   ]
  },
  {
   "cell_type": "code",
   "execution_count": null,
   "metadata": {},
   "outputs": [],
   "source": [
    "firstDate = Dates.DateTime(2023, 07, 19,   21, 0, 0)"
   ]
  },
  {
   "cell_type": "code",
   "execution_count": null,
   "metadata": {},
   "outputs": [],
   "source": [
    "lastDate  = Dates.DateTime(2024, 01, 20,    9, 0, 0)"
   ]
  },
  {
   "cell_type": "code",
   "execution_count": null,
   "metadata": {},
   "outputs": [],
   "source": [
    "measurementDate = collect(firstDate:Dates.Hour(6):lastDate);"
   ]
  },
  {
   "cell_type": "code",
   "execution_count": null,
   "metadata": {},
   "outputs": [],
   "source": [
    "filenames = [\"/home/lali/TITAN-ROG-sync/python/METEO/MET-Norway-\"*i*\".json\" for i in string.(measurementDate)]\n",
    "println(\"You have \", size(filenames)[1], \" MET-Norway files   ->   \", last(filenames))"
   ]
  },
  {
   "cell_type": "code",
   "execution_count": null,
   "metadata": {},
   "outputs": [],
   "source": [
    "function readOneFile(js)\n",
    "    f = open(js,\"r\") \n",
    "    inDict = JSON3.read(f)\n",
    "    close(f)\n",
    "    \n",
    "    return inDict\n",
    "end "
   ]
  },
  {
   "cell_type": "code",
   "execution_count": null,
   "metadata": {},
   "outputs": [],
   "source": [
    "myDict = readOneFile(filenames[1])\n",
    "@show nowTime = myDict.RO.now\n",
    "@show nowTemp = myDict.RO.temp"
   ]
  },
  {
   "cell_type": "code",
   "execution_count": null,
   "metadata": {},
   "outputs": [],
   "source": [
    "size(myDict.METNO)[1]"
   ]
  },
  {
   "cell_type": "code",
   "execution_count": null,
   "metadata": {},
   "outputs": [],
   "source": [
    "#[convert(Dates.Hour, Dates.DateTime(myDict.METNO[D].now)  - Dates.DateTime(nowTime)) for D in 1:39]"
   ]
  },
  {
   "cell_type": "code",
   "execution_count": null,
   "metadata": {},
   "outputs": [],
   "source": [
    "anticipateValues = [string(Dates.value(convert(Dates.Hour, Dates.DateTime(myDict.METNO[D].now)  - Dates.DateTime(nowTime) ))) for D in 1:size(myDict.METNO)[1]]"
   ]
  },
  {
   "cell_type": "code",
   "execution_count": null,
   "metadata": {},
   "outputs": [],
   "source": [
    "allData = DataFrame([name => Float64[] for name in anticipateValues])"
   ]
  },
  {
   "cell_type": "code",
   "execution_count": null,
   "metadata": {},
   "outputs": [],
   "source": [
    "insertcols!(allData, 1, :Data => DateTime[])\n",
    "insertcols!(allData, 2, :Real => Float64[])\n",
    "insertcols!(allData,    :\"228\" => Float64[]) # primul fișier are mai puține rânduri\n",
    "allowmissing!(allData)"
   ]
  },
  {
   "cell_type": "code",
   "execution_count": null,
   "metadata": {},
   "outputs": [],
   "source": [
    "#câte un rând pentru fiecare fișier\n",
    "for measurement in measurementDate\n",
    "    push!(allData, [measurement; missing; [missing for _ in anticipateValues]; missing])\n",
    "end\n",
    "#plus cele viitoare\n",
    "for future in 1:size(myDict.METNO)[1]\n",
    "    #println(lastDate + Hour(future*6))\n",
    "    push!(allData, [lastDate + Hour(future*6); missing; [missing for _ in anticipateValues]; missing])\n",
    "end"
   ]
  },
  {
   "cell_type": "markdown",
   "metadata": {},
   "source": [
    "Empty DF ready!"
   ]
  },
  {
   "cell_type": "code",
   "execution_count": null,
   "metadata": {},
   "outputs": [],
   "source": [
    "#filename = filenames[10]\n",
    "for filename in filenames\n",
    "    myDict = readOneFile(filename)\n",
    "    nowTime = Dates.DateTime(myDict.RO.now)\n",
    "    nowTemp = myDict.RO.temp\n",
    "    #println(\"La data de: \", nowTime, \"  a fost: \", nowTemp)\n",
    "    myRow = Int(Dates.value(convert(Dates.Hour, nowTime  - firstDate))/6+1)\n",
    "    allData[myRow,:Real] = nowTemp\n",
    "    for i in myDict.METNO\n",
    "        myRow = Int(Dates.value(convert(Dates.Hour, Dates.DateTime(i.now)  - firstDate))/6+1)\n",
    "        myCol = string(Dates.value(convert(Dates.Hour, Dates.DateTime(i.now)  - nowTime)))\n",
    "        #println(\"[\", myRow, \" \", myCol, \"]: \", i.now, \"  \", i.temp)\n",
    "        allData[myRow,myCol] = i.temp\n",
    "    end\n",
    "end"
   ]
  },
  {
   "cell_type": "markdown",
   "metadata": {},
   "source": [
    "DRAW"
   ]
  },
  {
   "cell_type": "code",
   "execution_count": null,
   "metadata": {},
   "outputs": [],
   "source": [
    "x = [parse(Int, x) for x in anticipateValues]\n",
    "y = allData[:,:Data]\n",
    "z = fill(NaN, size(y, 1), size(x, 1))\n",
    "for i in eachindex(x), j in eachindex(y)\n",
    "    myRow = Int(Dates.value(convert(Dates.Hour, Dates.DateTime(y[j])  - firstDate))/6+1)\n",
    "    if ismissing(allData[myRow, string(x[i])])\n",
    "        z[j, i] = 0.0\n",
    "    else\n",
    "        z[j, i] = allData[myRow, string(x[i])]\n",
    "    end\n",
    "end"
   ]
  },
  {
   "cell_type": "code",
   "execution_count": null,
   "metadata": {},
   "outputs": [],
   "source": [
    "using Plots"
   ]
  },
  {
   "cell_type": "code",
   "execution_count": null,
   "metadata": {},
   "outputs": [],
   "source": [
    "heatmap(x, y, z)"
   ]
  },
  {
   "cell_type": "code",
   "execution_count": null,
   "metadata": {},
   "outputs": [],
   "source": [
    "#using CairoMakie"
   ]
  },
  {
   "cell_type": "code",
   "execution_count": null,
   "metadata": {},
   "outputs": [],
   "source": [
    "#f = Figure()\n",
    "#Axis(f[1, 1])\n",
    "#co = CairoMakie.contourf!(x, y, z)\n",
    "#Colorbar(f[1, 2], co)\n",
    "#f"
   ]
  }
 ],
 "metadata": {
  "kernelspec": {
   "display_name": "Julia 1.10.0",
   "language": "julia",
   "name": "julia-1.10"
  },
  "language_info": {
   "file_extension": ".jl",
   "mimetype": "application/julia",
   "name": "julia",
   "version": "1.10.0"
  }
 },
 "nbformat": 4,
 "nbformat_minor": 2
}
