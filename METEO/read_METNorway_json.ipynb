{
 "cells": [
  {
   "cell_type": "code",
   "execution_count": 58,
   "metadata": {},
   "outputs": [],
   "source": [
    "using Dates\n",
    "using JSON3\n",
    "using DataFrames"
   ]
  },
  {
   "cell_type": "code",
   "execution_count": 59,
   "metadata": {},
   "outputs": [
    {
     "data": {
      "text/plain": [
       "2023-07-19T21:00:00"
      ]
     },
     "metadata": {},
     "output_type": "display_data"
    }
   ],
   "source": [
    "firstDate = Dates.DateTime(2023, 07, 19,   21, 0, 0)"
   ]
  },
  {
   "cell_type": "code",
   "execution_count": 60,
   "metadata": {},
   "outputs": [
    {
     "data": {
      "text/plain": [
       "2024-01-20T09:00:00"
      ]
     },
     "metadata": {},
     "output_type": "display_data"
    }
   ],
   "source": [
    "lastDate  = Dates.DateTime(2024, 01, 20,    9, 0, 0)"
   ]
  },
  {
   "cell_type": "code",
   "execution_count": 61,
   "metadata": {},
   "outputs": [],
   "source": [
    "measurementDate = collect(firstDate:Dates.Hour(6):lastDate);"
   ]
  },
  {
   "cell_type": "code",
   "execution_count": 62,
   "metadata": {},
   "outputs": [
    {
     "name": "stdout",
     "output_type": "stream",
     "text": [
      "You have 739 MET-Norway files   ->   /home/lali/TITAN-ROG-sync/python/METEO/MET-Norway-2024-01-20T09:00:00.json\n"
     ]
    }
   ],
   "source": [
    "filenames = [\"/home/lali/TITAN-ROG-sync/python/METEO/MET-Norway-\"*i*\".json\" for i in string.(measurementDate)]\n",
    "println(\"You have \", size(filenames)[1], \" MET-Norway files   ->   \", last(filenames))"
   ]
  },
  {
   "cell_type": "code",
   "execution_count": 63,
   "metadata": {},
   "outputs": [
    {
     "data": {
      "text/plain": [
       "readOneFile (generic function with 1 method)"
      ]
     },
     "metadata": {},
     "output_type": "display_data"
    }
   ],
   "source": [
    "function readOneFile(js)\n",
    "    f = open(js,\"r\") \n",
    "    inDict = JSON3.read(f)\n",
    "    close(f)\n",
    "    \n",
    "    return inDict\n",
    "end "
   ]
  },
  {
   "cell_type": "code",
   "execution_count": 64,
   "metadata": {},
   "outputs": [
    {
     "name": "stdout",
     "output_type": "stream",
     "text": [
      "nowTime = myDict.RO.now = \"2023-07-19T21:00:00\"\n",
      "nowTemp = myDict.RO.temp = 24.8\n"
     ]
    },
    {
     "data": {
      "text/plain": [
       "24.8"
      ]
     },
     "metadata": {},
     "output_type": "display_data"
    }
   ],
   "source": [
    "myDict = readOneFile(filenames[1])\n",
    "@show nowTime = myDict.RO.now\n",
    "@show nowTemp = myDict.RO.temp"
   ]
  },
  {
   "cell_type": "code",
   "execution_count": 65,
   "metadata": {},
   "outputs": [
    {
     "data": {
      "text/plain": [
       "38"
      ]
     },
     "metadata": {},
     "output_type": "display_data"
    }
   ],
   "source": [
    "size(myDict.METNO)[1]"
   ]
  },
  {
   "cell_type": "code",
   "execution_count": 66,
   "metadata": {},
   "outputs": [
    {
     "ename": "BoundsError",
     "evalue": "BoundsError: attempt to access 38-element JSON3.Array{JSON3.Object, Base.CodeUnits{UInt8, String}, SubArray{UInt64, 1, Vector{UInt64}, Tuple{UnitRange{Int64}}, true}} at index [39]",
     "output_type": "error",
     "traceback": [
      "BoundsError: attempt to access 38-element JSON3.Array{JSON3.Object, Base.CodeUnits{UInt8, String}, SubArray{UInt64, 1, Vector{UInt64}, Tuple{UnitRange{Int64}}, true}} at index [39]\n",
      "\n",
      "Stacktrace:\n",
      " [1] throw_boundserror(A::JSON3.Array{JSON3.Object, Base.CodeUnits{UInt8, String}, SubArray{UInt64, 1, Vector{UInt64}, Tuple{UnitRange{Int64}}, true}}, I::Tuple{Int64})\n",
      "   @ Base ./abstractarray.jl:734\n",
      " [2] checkbounds\n",
      "   @ Base ./abstractarray.jl:699 [inlined]\n",
      " [3] getindex(arr::JSON3.Array{JSON3.Object, Base.CodeUnits{UInt8, String}, SubArray{UInt64, 1, Vector{UInt64}, Tuple{UnitRange{Int64}}, true}}, i::Int64)\n",
      "   @ JSON3 ~/.julia/packages/JSON3/jSAdy/src/JSON3.jl:158\n",
      " [4] (::var\"#55#56\")(D::Int64)\n",
      "   @ Main ./none:0\n",
      " [5] iterate(g::Base.Generator, s::Vararg{Any})\n",
      "   @ Base ./generator.jl:47 [inlined]\n",
      " [6] collect_to!(dest::Vector{Hour}, itr::Base.Generator{UnitRange{Int64}, var\"#55#56\"}, offs::Int64, st::Int64)\n",
      "   @ Base ./array.jl:892\n",
      " [7] collect_to_with_first!(dest::Vector{Hour}, v1::Hour, itr::Base.Generator{UnitRange{Int64}, var\"#55#56\"}, st::Int64)\n",
      "   @ Base ./array.jl:870\n",
      " [8] collect(itr::Base.Generator{UnitRange{Int64}, var\"#55#56\"})\n",
      "   @ Base ./array.jl:844\n",
      " [9] top-level scope\n",
      "   @ ~/TITAN-ROG-sync/julia/METEO/read_METNorway_json.ipynb:1"
     ]
    }
   ],
   "source": [
    "[convert(Dates.Hour, Dates.DateTime(myDict.METNO[D].now)  - Dates.DateTime(nowTime)) for D in 1:39]"
   ]
  },
  {
   "cell_type": "code",
   "execution_count": 67,
   "metadata": {},
   "outputs": [
    {
     "data": {
      "text/plain": [
       "38-element Vector{String}:\n",
       " \"0\"\n",
       " \"6\"\n",
       " \"12\"\n",
       " \"18\"\n",
       " \"24\"\n",
       " \"30\"\n",
       " \"36\"\n",
       " \"42\"\n",
       " \"48\"\n",
       " \"54\"\n",
       " ⋮\n",
       " \"174\"\n",
       " \"180\"\n",
       " \"186\"\n",
       " \"192\"\n",
       " \"198\"\n",
       " \"204\"\n",
       " \"210\"\n",
       " \"216\"\n",
       " \"222\""
      ]
     },
     "metadata": {},
     "output_type": "display_data"
    }
   ],
   "source": [
    "anticipateValues = [string(Dates.value(convert(Dates.Hour, Dates.DateTime(myDict.METNO[D].now)  - Dates.DateTime(nowTime) ))) for D in 1:size(myDict.METNO)[1]]"
   ]
  },
  {
   "cell_type": "code",
   "execution_count": 68,
   "metadata": {},
   "outputs": [
    {
     "data": {
      "text/html": [
       "<div><div style = \"float: left;\"><span>0×38 DataFrame</span></div><div style = \"clear: both;\"></div></div><div class = \"data-frame\" style = \"overflow-x: scroll;\"><table class = \"data-frame\" style = \"margin-bottom: 6px;\"><thead><tr class = \"header\"><th class = \"rowNumber\" style = \"font-weight: bold; text-align: right;\">Row</th><th style = \"text-align: left;\">0</th><th style = \"text-align: left;\">6</th><th style = \"text-align: left;\">12</th><th style = \"text-align: left;\">18</th><th style = \"text-align: left;\">24</th><th style = \"text-align: left;\">30</th><th style = \"text-align: left;\">36</th><th style = \"text-align: left;\">42</th><th style = \"text-align: left;\">48</th><th style = \"text-align: left;\">54</th><th style = \"text-align: left;\">60</th><th style = \"text-align: left;\">66</th><th style = \"text-align: left;\">72</th><th style = \"text-align: left;\">78</th><th style = \"text-align: left;\">84</th><th style = \"text-align: left;\">90</th><th style = \"text-align: left;\">96</th><th style = \"text-align: left;\">102</th><th style = \"text-align: left;\">108</th><th style = \"text-align: left;\">114</th><th style = \"text-align: left;\">120</th><th style = \"text-align: left;\">126</th><th style = \"text-align: left;\">132</th><th style = \"text-align: left;\">138</th><th style = \"text-align: left;\">144</th><th style = \"text-align: left;\">150</th><th style = \"text-align: left;\">156</th><th style = \"text-align: left;\">162</th><th style = \"text-align: left;\">168</th><th style = \"text-align: left;\">174</th><th style = \"text-align: left;\">180</th><th style = \"text-align: left;\">186</th><th style = \"text-align: left;\">192</th><th style = \"text-align: left;\">198</th><th style = \"text-align: left;\">204</th><th style = \"text-align: left;\">210</th><th style = \"text-align: left;\">216</th><th style = \"text-align: left;\">222</th></tr><tr class = \"subheader headerLastRow\"><th class = \"rowNumber\" style = \"font-weight: bold; text-align: right;\"></th><th title = \"Float64\" style = \"text-align: left;\">Float64</th><th title = \"Float64\" style = \"text-align: left;\">Float64</th><th title = \"Float64\" style = \"text-align: left;\">Float64</th><th title = \"Float64\" style = \"text-align: left;\">Float64</th><th title = \"Float64\" style = \"text-align: left;\">Float64</th><th title = \"Float64\" style = \"text-align: left;\">Float64</th><th title = \"Float64\" style = \"text-align: left;\">Float64</th><th title = \"Float64\" style = \"text-align: left;\">Float64</th><th title = \"Float64\" style = \"text-align: left;\">Float64</th><th title = \"Float64\" style = \"text-align: left;\">Float64</th><th title = \"Float64\" style = \"text-align: left;\">Float64</th><th title = \"Float64\" style = \"text-align: left;\">Float64</th><th title = \"Float64\" style = \"text-align: left;\">Float64</th><th title = \"Float64\" style = \"text-align: left;\">Float64</th><th title = \"Float64\" style = \"text-align: left;\">Float64</th><th title = \"Float64\" style = \"text-align: left;\">Float64</th><th title = \"Float64\" style = \"text-align: left;\">Float64</th><th title = \"Float64\" style = \"text-align: left;\">Float64</th><th title = \"Float64\" style = \"text-align: left;\">Float64</th><th title = \"Float64\" style = \"text-align: left;\">Float64</th><th title = \"Float64\" style = \"text-align: left;\">Float64</th><th title = \"Float64\" style = \"text-align: left;\">Float64</th><th title = \"Float64\" style = \"text-align: left;\">Float64</th><th title = \"Float64\" style = \"text-align: left;\">Float64</th><th title = \"Float64\" style = \"text-align: left;\">Float64</th><th title = \"Float64\" style = \"text-align: left;\">Float64</th><th title = \"Float64\" style = \"text-align: left;\">Float64</th><th title = \"Float64\" style = \"text-align: left;\">Float64</th><th title = \"Float64\" style = \"text-align: left;\">Float64</th><th title = \"Float64\" style = \"text-align: left;\">Float64</th><th title = \"Float64\" style = \"text-align: left;\">Float64</th><th title = \"Float64\" style = \"text-align: left;\">Float64</th><th title = \"Float64\" style = \"text-align: left;\">Float64</th><th title = \"Float64\" style = \"text-align: left;\">Float64</th><th title = \"Float64\" style = \"text-align: left;\">Float64</th><th title = \"Float64\" style = \"text-align: left;\">Float64</th><th title = \"Float64\" style = \"text-align: left;\">Float64</th><th title = \"Float64\" style = \"text-align: left;\">Float64</th></tr></thead><tbody></tbody></table></div>"
      ],
      "text/latex": [
       "\\begin{tabular}{r|cccccccccc}\n",
       "\t& 0 & 6 & 12 & 18 & 24 & 30 & 36 & 42 & 48 & \\\\\n",
       "\t\\hline\n",
       "\t& Float64 & Float64 & Float64 & Float64 & Float64 & Float64 & Float64 & Float64 & Float64 & \\\\\n",
       "\t\\hline\n",
       "\\end{tabular}\n"
      ],
      "text/plain": [
       "\u001b[1m0×38 DataFrame\u001b[0m\n",
       "\u001b[1m Row \u001b[0m│\u001b[1m 0       \u001b[0m\u001b[1m 6       \u001b[0m\u001b[1m 12      \u001b[0m\u001b[1m 18      \u001b[0m\u001b[1m 24      \u001b[0m\u001b[1m 30      \u001b[0m\u001b[1m 36      \u001b[0m\u001b[1m 42      \u001b[0m\u001b[1m\u001b[0m ⋯\n",
       "     │\u001b[90m Float64 \u001b[0m\u001b[90m Float64 \u001b[0m\u001b[90m Float64 \u001b[0m\u001b[90m Float64 \u001b[0m\u001b[90m Float64 \u001b[0m\u001b[90m Float64 \u001b[0m\u001b[90m Float64 \u001b[0m\u001b[90m Float64 \u001b[0m\u001b[90m\u001b[0m ⋯\n",
       "─────┴──────────────────────────────────────────────────────────────────────────\n",
       "\u001b[36m                                                              30 columns omitted\u001b[0m"
      ]
     },
     "metadata": {},
     "output_type": "display_data"
    }
   ],
   "source": [
    "allData = DataFrame([name => Float64[] for name in anticipateValues])"
   ]
  },
  {
   "cell_type": "code",
   "execution_count": 69,
   "metadata": {},
   "outputs": [
    {
     "data": {
      "text/html": [
       "<div><div style = \"float: left;\"><span>0×41 DataFrame</span></div><div style = \"clear: both;\"></div></div><div class = \"data-frame\" style = \"overflow-x: scroll;\"><table class = \"data-frame\" style = \"margin-bottom: 6px;\"><thead><tr class = \"header\"><th class = \"rowNumber\" style = \"font-weight: bold; text-align: right;\">Row</th><th style = \"text-align: left;\">Data</th><th style = \"text-align: left;\">Real</th><th style = \"text-align: left;\">0</th><th style = \"text-align: left;\">6</th><th style = \"text-align: left;\">12</th><th style = \"text-align: left;\">18</th><th style = \"text-align: left;\">24</th><th style = \"text-align: left;\">30</th><th style = \"text-align: left;\">36</th><th style = \"text-align: left;\">42</th><th style = \"text-align: left;\">48</th><th style = \"text-align: left;\">54</th><th style = \"text-align: left;\">60</th><th style = \"text-align: left;\">66</th><th style = \"text-align: left;\">72</th><th style = \"text-align: left;\">78</th><th style = \"text-align: left;\">84</th><th style = \"text-align: left;\">90</th><th style = \"text-align: left;\">96</th><th style = \"text-align: left;\">102</th><th style = \"text-align: left;\">108</th><th style = \"text-align: left;\">114</th><th style = \"text-align: left;\">120</th><th style = \"text-align: left;\">126</th><th style = \"text-align: left;\">132</th><th style = \"text-align: left;\">138</th><th style = \"text-align: left;\">144</th><th style = \"text-align: left;\">150</th><th style = \"text-align: left;\">156</th><th style = \"text-align: left;\">162</th><th style = \"text-align: left;\">168</th><th style = \"text-align: left;\">174</th><th style = \"text-align: left;\">180</th><th style = \"text-align: left;\">186</th><th style = \"text-align: left;\">192</th><th style = \"text-align: left;\">198</th><th style = \"text-align: left;\">204</th><th style = \"text-align: left;\">210</th><th style = \"text-align: left;\">216</th><th style = \"text-align: left;\">222</th><th style = \"text-align: left;\">228</th></tr><tr class = \"subheader headerLastRow\"><th class = \"rowNumber\" style = \"font-weight: bold; text-align: right;\"></th><th title = \"Union{Missing, DateTime}\" style = \"text-align: left;\">DateTime?</th><th title = \"Union{Missing, Float64}\" style = \"text-align: left;\">Float64?</th><th title = \"Union{Missing, Float64}\" style = \"text-align: left;\">Float64?</th><th title = \"Union{Missing, Float64}\" style = \"text-align: left;\">Float64?</th><th title = \"Union{Missing, Float64}\" style = \"text-align: left;\">Float64?</th><th title = \"Union{Missing, Float64}\" style = \"text-align: left;\">Float64?</th><th title = \"Union{Missing, Float64}\" style = \"text-align: left;\">Float64?</th><th title = \"Union{Missing, Float64}\" style = \"text-align: left;\">Float64?</th><th title = \"Union{Missing, Float64}\" style = \"text-align: left;\">Float64?</th><th title = \"Union{Missing, Float64}\" style = \"text-align: left;\">Float64?</th><th title = \"Union{Missing, Float64}\" style = \"text-align: left;\">Float64?</th><th title = \"Union{Missing, Float64}\" style = \"text-align: left;\">Float64?</th><th title = \"Union{Missing, Float64}\" style = \"text-align: left;\">Float64?</th><th title = \"Union{Missing, Float64}\" style = \"text-align: left;\">Float64?</th><th title = \"Union{Missing, Float64}\" style = \"text-align: left;\">Float64?</th><th title = \"Union{Missing, Float64}\" style = \"text-align: left;\">Float64?</th><th title = \"Union{Missing, Float64}\" style = \"text-align: left;\">Float64?</th><th title = \"Union{Missing, Float64}\" style = \"text-align: left;\">Float64?</th><th title = \"Union{Missing, Float64}\" style = \"text-align: left;\">Float64?</th><th title = \"Union{Missing, Float64}\" style = \"text-align: left;\">Float64?</th><th title = \"Union{Missing, Float64}\" style = \"text-align: left;\">Float64?</th><th title = \"Union{Missing, Float64}\" style = \"text-align: left;\">Float64?</th><th title = \"Union{Missing, Float64}\" style = \"text-align: left;\">Float64?</th><th title = \"Union{Missing, Float64}\" style = \"text-align: left;\">Float64?</th><th title = \"Union{Missing, Float64}\" style = \"text-align: left;\">Float64?</th><th title = \"Union{Missing, Float64}\" style = \"text-align: left;\">Float64?</th><th title = \"Union{Missing, Float64}\" style = \"text-align: left;\">Float64?</th><th title = \"Union{Missing, Float64}\" style = \"text-align: left;\">Float64?</th><th title = \"Union{Missing, Float64}\" style = \"text-align: left;\">Float64?</th><th title = \"Union{Missing, Float64}\" style = \"text-align: left;\">Float64?</th><th title = \"Union{Missing, Float64}\" style = \"text-align: left;\">Float64?</th><th title = \"Union{Missing, Float64}\" style = \"text-align: left;\">Float64?</th><th title = \"Union{Missing, Float64}\" style = \"text-align: left;\">Float64?</th><th title = \"Union{Missing, Float64}\" style = \"text-align: left;\">Float64?</th><th title = \"Union{Missing, Float64}\" style = \"text-align: left;\">Float64?</th><th title = \"Union{Missing, Float64}\" style = \"text-align: left;\">Float64?</th><th title = \"Union{Missing, Float64}\" style = \"text-align: left;\">Float64?</th><th title = \"Union{Missing, Float64}\" style = \"text-align: left;\">Float64?</th><th title = \"Union{Missing, Float64}\" style = \"text-align: left;\">Float64?</th><th title = \"Union{Missing, Float64}\" style = \"text-align: left;\">Float64?</th><th title = \"Union{Missing, Float64}\" style = \"text-align: left;\">Float64?</th></tr></thead><tbody></tbody></table></div>"
      ],
      "text/latex": [
       "\\begin{tabular}{r|ccccccccc}\n",
       "\t& Data & Real & 0 & 6 & 12 & 18 & 24 & 30 & \\\\\n",
       "\t\\hline\n",
       "\t& DateTime? & Float64? & Float64? & Float64? & Float64? & Float64? & Float64? & Float64? & \\\\\n",
       "\t\\hline\n",
       "\\end{tabular}\n"
      ],
      "text/plain": [
       "\u001b[1m0×41 DataFrame\u001b[0m\n",
       "\u001b[1m Row \u001b[0m│\u001b[1m Data      \u001b[0m\u001b[1m Real     \u001b[0m\u001b[1m 0        \u001b[0m\u001b[1m 6        \u001b[0m\u001b[1m 12       \u001b[0m\u001b[1m 18       \u001b[0m\u001b[1m 24       \u001b[0m\u001b[1m \u001b[0m ⋯\n",
       "     │\u001b[90m DateTime? \u001b[0m\u001b[90m Float64? \u001b[0m\u001b[90m Float64? \u001b[0m\u001b[90m Float64? \u001b[0m\u001b[90m Float64? \u001b[0m\u001b[90m Float64? \u001b[0m\u001b[90m Float64? \u001b[0m\u001b[90m \u001b[0m ⋯\n",
       "─────┴──────────────────────────────────────────────────────────────────────────\n",
       "\u001b[36m                                                              34 columns omitted\u001b[0m"
      ]
     },
     "metadata": {},
     "output_type": "display_data"
    }
   ],
   "source": [
    "insertcols!(allData, 1, :Data => DateTime[])\n",
    "insertcols!(allData, 2, :Real => Float64[])\n",
    "insertcols!(allData,    :\"228\" => Float64[]) # primul fișier are mai puține rânduri\n",
    "allowmissing!(allData)"
   ]
  },
  {
   "cell_type": "code",
   "execution_count": 70,
   "metadata": {},
   "outputs": [],
   "source": [
    "#câte un rând pentru fiecare fișier\n",
    "for measurement in measurementDate\n",
    "    push!(allData, [measurement; missing; [missing for _ in anticipateValues]; missing])\n",
    "end\n",
    "#plus cele viitoare\n",
    "for future in 1:size(myDict.METNO)[1]\n",
    "    #println(lastDate + Hour(future*6))\n",
    "    push!(allData, [lastDate + Hour(future*6); missing; [missing for _ in anticipateValues]; missing])\n",
    "end"
   ]
  },
  {
   "cell_type": "markdown",
   "metadata": {},
   "source": [
    "Empty DF ready!"
   ]
  },
  {
   "cell_type": "code",
   "execution_count": 71,
   "metadata": {},
   "outputs": [],
   "source": [
    "#filename = filenames[10]\n",
    "for filename in filenames\n",
    "    myDict = readOneFile(filename)\n",
    "    nowTime = Dates.DateTime(myDict.RO.now)\n",
    "    nowTemp = myDict.RO.temp\n",
    "    #println(\"La data de: \", nowTime, \"  a fost: \", nowTemp)\n",
    "    myRow = Int(Dates.value(convert(Dates.Hour, nowTime  - firstDate))/6+1)\n",
    "    allData[myRow,:Real] = nowTemp\n",
    "    for i in myDict.METNO\n",
    "        myRow = Int(Dates.value(convert(Dates.Hour, Dates.DateTime(i.now)  - firstDate))/6+1)\n",
    "        myCol = string(Dates.value(convert(Dates.Hour, Dates.DateTime(i.now)  - nowTime)))\n",
    "        #println(\"[\", myRow, \" \", myCol, \"]: \", i.now, \"  \", i.temp)\n",
    "        allData[myRow,myCol] = i.temp\n",
    "    end\n",
    "end"
   ]
  },
  {
   "cell_type": "markdown",
   "metadata": {},
   "source": [
    "DRAW"
   ]
  },
  {
   "cell_type": "code",
   "execution_count": 72,
   "metadata": {},
   "outputs": [],
   "source": [
    "x = [parse(Int, x) for x in anticipateValues]\n",
    "y = allData[:,:Data]\n",
    "z = fill(NaN, size(y, 1), size(x, 1))\n",
    "for i in eachindex(x), j in eachindex(y)\n",
    "    myRow = Int(Dates.value(convert(Dates.Hour, Dates.DateTime(y[j])  - firstDate))/6+1)\n",
    "    if ismissing(allData[myRow, string(x[i])])\n",
    "        z[j, i] = 0.0\n",
    "    else\n",
    "        z[j, i] = allData[myRow, string(x[i])]\n",
    "    end\n",
    "end"
   ]
  },
  {
   "cell_type": "code",
   "execution_count": 73,
   "metadata": {},
   "outputs": [],
   "source": [
    "#using Plots"
   ]
  },
  {
   "cell_type": "code",
   "execution_count": 74,
   "metadata": {},
   "outputs": [],
   "source": [
    "#heatmap(x, y, z)"
   ]
  },
  {
   "cell_type": "code",
   "execution_count": 75,
   "metadata": {},
   "outputs": [],
   "source": [
    "using CairoMakie"
   ]
  },
  {
   "cell_type": "code",
   "execution_count": 76,
   "metadata": {},
   "outputs": [
    {
     "ename": "StackOverflowError",
     "evalue": "StackOverflowError:",
     "output_type": "error",
     "traceback": [
      "StackOverflowError:\n",
      "\n",
      "Stacktrace:\n",
      "  [1] splitprec(::Type{Float64}, i::Int128)\n",
      "    @ Base ./twiceprecision.jl:22\n",
      "  [2] TwicePrecision\n",
      "    @ Base ./twiceprecision.jl:211 [inlined]\n",
      "  [3] TwicePrecision\n",
      "    @ Base ./twiceprecision.jl:224 [inlined]\n",
      "  [4] Base.TwicePrecision{Float64}(nd::Tuple{Int128, Int128}, nb::Int64)\n",
      "    @ Base ./twiceprecision.jl:236\n",
      "  [5] steprangelen_hp(::Type{Float64}, ref::Tuple{Int128, Int128}, step::Tuple{Int128, Int128}, nb::Int64, len::Int64, offset::Int64)\n",
      "    @ Base ./twiceprecision.jl:344\n",
      "  [6] _linspace(::Type{Float64}, start_n::Int64, stop_n::Int64, len::Int64, den::Int64)\n",
      "    @ Base ./twiceprecision.jl:732\n",
      "  [7] range_start_stop_length(start::Float64, stop::Float64, len::Int64)\n",
      "    @ Base ./twiceprecision.jl:662\n",
      "  [8] _range\n",
      "    @ ./range.jl:166 [inlined]\n",
      "  [9] range\n",
      "    @ ./range.jl:147 [inlined]\n",
      " [10] to_linspace(interval::StepRangeLen{Float64, Base.TwicePrecision{Float64}, Base.TwicePrecision{Float64}, Int64}, N::Int64)\n",
      "    @ Makie ~/.julia/packages/Makie/fyNiH/src/conversions.jl:709\n",
      " [11] convert_arguments(P::VertexGrid, x::StepRangeLen{Float64, Base.TwicePrecision{Float64}, Base.TwicePrecision{Float64}, Int64}, y::LinRange{Millisecond, Int64}, z::Matrix{Float64}) (repeats 65347 times)\n",
      "    @ Makie ~/.julia/packages/Makie/fyNiH/src/conversions.jl:364\n",
      " [12] convert_arguments(P::VertexGrid, x::Vector{Int64}, y::Vector{Union{Missing, DateTime}}, z::Matrix{Float64})\n",
      "    @ Makie ~/.julia/packages/Makie/fyNiH/src/conversions.jl:364\n",
      " [13] convert_arguments(::Type{Plot{Makie.contourf}}, ::Vector{Int64}, ::Vararg{Any}; kw::@Kwargs{})\n",
      "    @ Makie ~/.julia/packages/Makie/fyNiH/src/conversions.jl:10\n",
      " [14] convert_arguments\n",
      "    @ Makie ~/.julia/packages/Makie/fyNiH/src/conversions.jl:7 [inlined]\n",
      " [15] (Plot{Makie.contourf})(args::Tuple{Vector{Int64}, Vector{Union{Missing, DateTime}}, Matrix{Float64}}, plot_attributes::Dict{Symbol, Any})\n",
      "    @ Makie ~/.julia/packages/Makie/fyNiH/src/interfaces.jl:139\n",
      " [16] _create_plot!(::Function, ::Dict{Symbol, Any}, ::Vector{Int64}, ::Vector{Union{Missing, DateTime}}, ::Vararg{Any})\n",
      "    @ Makie ~/.julia/packages/Makie/fyNiH/src/figureplotting.jl:257\n",
      " [17] contourf!(::Vector{Int64}, ::Vararg{Any}; kw::@Kwargs{})\n",
      "    @ Makie ~/.julia/packages/MakieCore/5nuEY/src/recipes.jl:176\n",
      " [18] top-level scope\n",
      "    @ ~/TITAN-ROG-sync/julia/METEO/read_METNorway_json.ipynb:4"
     ]
    }
   ],
   "source": [
    "f = Figure()\n",
    "Axis(f[1, 1])\n",
    "\n",
    "co = CairoMakie.contourf!(x, y, z)\n",
    "\n",
    "Colorbar(f[1, 2], co)\n",
    "\n",
    "f"
   ]
  }
 ],
 "metadata": {
  "kernelspec": {
   "display_name": "Julia 1.10.0",
   "language": "julia",
   "name": "julia-1.10"
  },
  "language_info": {
   "file_extension": ".jl",
   "mimetype": "application/julia",
   "name": "julia",
   "version": "1.10.0"
  }
 },
 "nbformat": 4,
 "nbformat_minor": 2
}
