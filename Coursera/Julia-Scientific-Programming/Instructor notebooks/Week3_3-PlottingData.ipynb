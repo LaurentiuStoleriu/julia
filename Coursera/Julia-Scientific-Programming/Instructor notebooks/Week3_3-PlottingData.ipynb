{
 "cells": [
  {
   "cell_type": "code",
   "execution_count": 1,
   "source": [
    "# Setting up a custom stylesheet in IJulia\n",
    "# New in 0.6\n",
    "file = open(\"style.css\") # A .css file in the same folder as this notebook file\n",
    "styl = readstring(file) # Read the file\n",
    "HTML(\"$styl\") # Output as HTML"
   ],
   "outputs": [
    {
     "output_type": "execute_result",
     "data": {
      "text/html": [
       "<link href='http://fonts.googleapis.com/css?family=Alegreya+Sans:100,300,400,500,700,800,900,100italic,300italic,400italic,500italic,700italic,800italic,900italic' rel='stylesheet' type='text/css'>\r\n",
       "<link href='http://fonts.googleapis.com/css?family=Arvo:400,700,400italic' rel='stylesheet' type='text/css'>\r\n",
       "<link href='http://fonts.googleapis.com/css?family=PT+Mono' rel='stylesheet' type='text/css'>\r\n",
       "<link href='http://fonts.googleapis.com/css?family=Shadows+Into+Light' rel='stylesheet' type='text/css'>\r\n",
       "<link href='http://fonts.googleapis.com/css?family=Philosopher:400,700,400italic,700italic' rel='stylesheet' type='text/css'>\r\n",
       "\r\n",
       "<style>\r\n",
       "\r\n",
       "@font-face {\r\n",
       "    font-family: \"Computer Modern\";\r\n",
       "    src: url('http://mirrors.ctan.org/fonts/cm-unicode/fonts/otf/cmunss.otf');\r\n",
       "}\r\n",
       "\r\n",
       "#notebook_panel { /* main background */\r\n",
       "    background: #ddd;\r\n",
       "    color: #000000;\r\n",
       "}\r\n",
       "\r\n",
       "\r\n",
       "\r\n",
       "/* Formatting for header cells */\r\n",
       ".text_cell_render h1 {\r\n",
       "    font-family: 'Philosopher', sans-serif;\r\n",
       "    font-weight: 400;\r\n",
       "    font-size: 2.2em;\r\n",
       "    line-height: 100%;\r\n",
       "    color: rgb(0, 80, 120);\r\n",
       "    margin-bottom: 0.1em;\r\n",
       "    margin-top: 0.1em;\r\n",
       "    display: block;\r\n",
       "}\t\r\n",
       ".text_cell_render h2 {\r\n",
       "    font-family: 'Philosopher', serif;\r\n",
       "    font-weight: 400;\r\n",
       "    font-size: 1.9em;\r\n",
       "    line-height: 100%;\r\n",
       "    color: rgb(200,100,0);\r\n",
       "    margin-bottom: 0.1em;\r\n",
       "    margin-top: 0.1em;\r\n",
       "    display: block;\r\n",
       "}\t\r\n",
       "\r\n",
       ".text_cell_render h3 {\r\n",
       "    font-family: 'Philosopher', serif;\r\n",
       "    margin-top:12px;\r\n",
       "    margin-bottom: 3px;\r\n",
       "    font-style: italic;\r\n",
       "    color: rgb(94,127,192);\r\n",
       "}\r\n",
       "\r\n",
       ".text_cell_render h4 {\r\n",
       "    font-family: 'Philosopher', serif;\r\n",
       "}\r\n",
       "\r\n",
       ".text_cell_render h5 {\r\n",
       "    font-family: 'Alegreya Sans', sans-serif;\r\n",
       "    font-weight: 300;\r\n",
       "    font-size: 16pt;\r\n",
       "    color: grey;\r\n",
       "    font-style: italic;\r\n",
       "    margin-bottom: .1em;\r\n",
       "    margin-top: 0.1em;\r\n",
       "    display: block;\r\n",
       "}\r\n",
       "\r\n",
       ".text_cell_render h6 {\r\n",
       "    font-family: 'PT Mono', sans-serif;\r\n",
       "    font-weight: 300;\r\n",
       "    font-size: 10pt;\r\n",
       "    color: grey;\r\n",
       "    margin-bottom: 1px;\r\n",
       "    margin-top: 1px;\r\n",
       "}\r\n",
       "\r\n",
       ".CodeMirror{\r\n",
       "        font-family: \"PT Mono\";\r\n",
       "        font-size: 100%;\r\n",
       "}\r\n",
       "\r\n",
       "</style>\r\n",
       "\r\n"
      ],
      "text/plain": [
       "HTML{String}(\"<link href='http://fonts.googleapis.com/css?family=Alegreya+Sans:100,300,400,500,700,800,900,100italic,300italic,400italic,500italic,700italic,800italic,900italic' rel='stylesheet' type='text/css'>\\r\\n<link href='http://fonts.googleapis.com/css?family=Arvo:400,700,400italic' rel='stylesheet' type='text/css'>\\r\\n<link href='http://fonts.googleapis.com/css?family=PT+Mono' rel='stylesheet' type='text/css'>\\r\\n<link href='http://fonts.googleapis.com/css?family=Shadows+Into+Light' rel='stylesheet' type='text/css'>\\r\\n<link href='http://fonts.googleapis.com/css?family=Philosopher:400,700,400italic,700italic' rel='stylesheet' type='text/css'>\\r\\n\\r\\n<style>\\r\\n\\r\\n@font-face {\\r\\n    font-family: \\\"Computer Modern\\\";\\r\\n    src: url('http://mirrors.ctan.org/fonts/cm-unicode/fonts/otf/cmunss.otf');\\r\\n}\\r\\n\\r\\n#notebook_panel { /* main background */\\r\\n    background: #ddd;\\r\\n    color: #000000;\\r\\n}\\r\\n\\r\\n\\r\\n\\r\\n/* Formatting for header cells */\\r\\n.text_cell_render h1 {\\r\\n    font-family: 'Philosopher', sans-serif;\\r\\n    font-weight: 400;\\r\\n    font-size: 2.2em;\\r\\n    line-height: 100%;\\r\\n    color: rgb(0, 80, 120);\\r\\n    margin-bottom: 0.1em;\\r\\n    margin-top: 0.1em;\\r\\n    display: block;\\r\\n}\\t\\r\\n.text_cell_render h2 {\\r\\n    font-family: 'Philosopher', serif;\\r\\n    font-weight: 400;\\r\\n    font-size: 1.9em;\\r\\n    line-height: 100%;\\r\\n    color: rgb(200,100,0);\\r\\n    margin-bottom: 0.1em;\\r\\n    margin-top: 0.1em;\\r\\n    display: block;\\r\\n}\\t\\r\\n\\r\\n.text_cell_render h3 {\\r\\n    font-family: 'Philosopher', serif;\\r\\n    margin-top:12px;\\r\\n    margin-bottom: 3px;\\r\\n    font-style: italic;\\r\\n    color: rgb(94,127,192);\\r\\n}\\r\\n\\r\\n.text_cell_render h4 {\\r\\n    font-family: 'Philosopher', serif;\\r\\n}\\r\\n\\r\\n.text_cell_render h5 {\\r\\n    font-family: 'Alegreya Sans', sans-serif;\\r\\n    font-weight: 300;\\r\\n    font-size: 16pt;\\r\\n    color: grey;\\r\\n    font-style: italic;\\r\\n    margin-bottom: .1em;\\r\\n    margin-top: 0.1em;\\r\\n    display: block;\\r\\n}\\r\\n\\r\\n.text_cell_render h6 {\\r\\n    font-family: 'PT Mono', sans-serif;\\r\\n    font-weight: 300;\\r\\n    font-size: 10pt;\\r\\n    color: grey;\\r\\n    margin-bottom: 1px;\\r\\n    margin-top: 1px;\\r\\n}\\r\\n\\r\\n.CodeMirror{\\r\\n        font-family: \\\"PT Mono\\\";\\r\\n        font-size: 100%;\\r\\n}\\r\\n\\r\\n</style>\\r\\n\\r\\n\")"
      ]
     },
     "metadata": {},
     "execution_count": 1
    }
   ],
   "metadata": {}
  },
  {
   "cell_type": "markdown",
   "source": [
    "<h1> Plotting data and an approximately fitted line simultaneously </h1>"
   ],
   "metadata": {}
  },
  {
   "cell_type": "markdown",
   "source": [
    "<h2>In this lecture</h2>\n",
    "\n",
    "- [Outcome](#Outcome)\n",
    "- [Julia's modify-the-argument functions](#Julia's-modify-the-argument-functions)\n",
    "- [The difference between plot() and plot!()](#The-difference-between-\"plot\"-and-\"plot!\")\n",
    "- [An example: approximating the cosine function](#An-example:-approximating-the-cosine-function)"
   ],
   "metadata": {}
  },
  {
   "cell_type": "markdown",
   "source": [
    "[Back to the top](#In-this-lecture)"
   ],
   "metadata": {}
  },
  {
   "cell_type": "markdown",
   "source": [
    "<h2>Outcome</h2>\n",
    "\n",
    "After this lecture, you will be able to\n",
    "- Explain how Julia's plot!() function differs from plot()\n",
    "- Use plot!() to overlay a fitted curve to a scatter of data\n",
    "- Modify the plot: adding labels, axis styles, line styles etc\n"
   ],
   "metadata": {}
  },
  {
   "cell_type": "markdown",
   "source": [
    "[Back to the top](#In-this-lecture)"
   ],
   "metadata": {}
  },
  {
   "cell_type": "markdown",
   "source": [
    "<h2>Julia's modify-the-argument functions</h2>\n",
    "\n",
    "A lovely feature of Julia is the convention of labelling modify-the-argument functions with an exclamation mark.\n",
    "\n",
    "For example, consider the function fill!(), illustrated below."
   ],
   "metadata": {}
  },
  {
   "cell_type": "code",
   "execution_count": 28,
   "source": [
    "# New in 0.6\n",
    "##tempvar = Array{Any}(4)\n",
    "tempvar = zeros(Int64, 1, 4) #Array{Int64, 4}(0, 4, 1)\n",
    "Array1 = [1, 2, 3, 4, 5]\n",
    "Array2 = [1 2; 3 4]\n",
    "##fill!(tempvar, \"hello ... word\")\n",
    "\n",
    "println(typeof(tempvar))\n",
    "println(typeof(Array1))\n",
    "println(typeof(Array2))\n",
    "\n",
    "tempvar = fill!(tempvar, 7)\n",
    "println(tempvar)\n",
    "Array1 = fill!(Array1, 10)\n",
    "println(Array1)\n",
    "Array2 = fill!(Array2, 10)\n",
    "println(Array2)"
   ],
   "outputs": [
    {
     "output_type": "stream",
     "name": "stdout",
     "text": [
      "Matrix{Int64}\n",
      "Vector{Int64}\n",
      "Matrix{Int64}\n",
      "[7 7 7 7]\n",
      "[10, 10, 10, 10, 10]\n",
      "[10 10; 10 10]\n"
     ]
    }
   ],
   "metadata": {}
  },
  {
   "cell_type": "code",
   "execution_count": 29,
   "source": [
    "fill!(tempvar, 777)"
   ],
   "outputs": [
    {
     "output_type": "execute_result",
     "data": {
      "text/plain": [
       "1×4 Matrix{Int64}:\n",
       " 777  777  777  777"
      ]
     },
     "metadata": {},
     "execution_count": 29
    }
   ],
   "metadata": {}
  },
  {
   "cell_type": "markdown",
   "source": [
    "Let's just look at how the help system briefly, comparing these two functions and also looking at all functions starting with \"a\" and with \"b\" to see how many of the modify-in-place functions Julia has."
   ],
   "metadata": {}
  },
  {
   "cell_type": "code",
   "execution_count": 5,
   "source": [
    "?b"
   ],
   "outputs": [
    {
     "output_type": "stream",
     "name": "stdout",
     "text": [
      "search: \u001b[1mb\u001b[22min \u001b[1mb\u001b[22mig \u001b[1mb\u001b[22mits \u001b[1mb\u001b[22mind \u001b[1mb\u001b[22mfft \u001b[1mb\u001b[22meta \u001b[1mb\u001b[22mase \u001b[1mb\u001b[22mreak \u001b[1mb\u001b[22megin \u001b[1mB\u001b[22mool \u001b[1mb\u001b[22mswap \u001b[1mb\u001b[22mrfft \u001b[1mb\u001b[22mfft! \u001b[1mB\u001b[22mase\n",
      "\n",
      "Couldn't find \u001b[36mb\n",
      "\u001b[39mPerhaps you meant !, $, %, &, *, +, -, /, :, <, >, I, \\, ^, e, |, ~, ×, ÷ or γ\n"
     ]
    },
    {
     "output_type": "execute_result",
     "data": {
      "text/markdown": [
       "No documentation found.\n",
       "\n",
       "Binding `b` does not exist.\n"
      ],
      "text/plain": [
       "No documentation found.\n",
       "\n",
       "Binding `b` does not exist.\n"
      ]
     },
     "metadata": {},
     "execution_count": 5
    }
   ],
   "metadata": {}
  },
  {
   "cell_type": "markdown",
   "source": [
    "We see that quite a few functions have a plain form and an exclamation form. And many of the exclamation-ending-modify-in-place functions do things like add or remove values. They tend to be low level functions. The advantage of course is that as values are created they are written to space in memory that is already in use. This can speed up one's code significantly, and can also be important when your data sets are so large that memory efficiency becomes an issue."
   ],
   "metadata": {}
  },
  {
   "cell_type": "markdown",
   "source": [
    "[Back to the top](#In-this-lecture)"
   ],
   "metadata": {}
  },
  {
   "cell_type": "markdown",
   "source": [
    "<h2>The difference between \"plot\" and \"plot!\"</h2>\n",
    "\n",
    "As we remarked, Plots is a package for using all the Julia plotting packages. The designer of Plots made the interesting choice (I think) to have only one active plot: if you want to make a different plot, you save your current plot and start on a new one. This simplifies the display of a plot. In our case, the notebook allows us to view different plots, because each plot is saved with its particular cell. In keeping with the idea of Plots, you cannot associate more than one plot with a cell.\n",
    "\n",
    "So in general, if you call plot() a second time, it wipes out the old plot and draws a completely new one. But Plots *also* doesn't allow you to specify multiple different x-values for your plot. You can plot many different curves, as we did for the different countries' Ebola numbers (week 2, lecture 5), but only if they all use the same x-values.\n",
    "\n",
    "To enable us to plot completely different curves, not only in style and colour and so on but also completely different x- and y-values, Plots gives us a function that modifies an existing plot. This function is plot!().\n",
    "\n",
    "So the idea is the following: specify a plot for the first set of data using \"plot()\", and then specify, on the same plot, a second set of data by using \"plot!\""
   ],
   "metadata": {}
  },
  {
   "cell_type": "markdown",
   "source": [
    "[Back to the top](#In-this-lecture)"
   ],
   "metadata": {}
  },
  {
   "cell_type": "markdown",
   "source": [
    "<h2>An example: approximating the cosine function</h2>\n",
    "\n",
    "An example will make this clear. It is well known that the cosine function has approximations based on  Taylor series. We will use the fact that \n",
    "\n",
    "$cos(x) \\approx 1 - \\dfrac{x^2}{2} + \\dfrac{x^4}{24} - \\dfrac{x^6}{720}$\n",
    "\n",
    "is an excellent approximation as long as $x$ is near zero. We will pretend the approximate values are experimental data, so there are just a few points. Then we compare the actual function as a curve, and compare them.\n",
    "\n",
    "While we're at it, let's practice writing functions. We will write a function that takes a whole vector as input, and one by one evaluates the elements using the approximation formula, and then returns an output vector of the same size as the input."
   ],
   "metadata": {}
  },
  {
   "cell_type": "code",
   "execution_count": 43,
   "source": [
    "# New in 0.6\n",
    "function approxcos(x)\n",
    "    #initialise the output ... note the use of size() to specify the dimensions of the output vector\n",
    "    outval = zeros(size(x))#Array{Any, 1}(size(x), 1)  \n",
    "    \n",
    "    # now we loop over the input vector, and for each  element calculate and store the approximation\n",
    "    ii = 0  # this will be the index into the vector\n",
    "    for aa in x   # this aa is just a number, an element of the vector\n",
    "        y = 1 - aa^2/2 + aa^4/24 - aa^6/720 + aa^8/(56*720) # the approximation ...\n",
    "        ii = ii+1            #this sets the index correctly\n",
    "        outval[ii] = y     # and this stores the approximation in the right place\n",
    "    end\n",
    "    return outval  \n",
    "end\n",
    "\n",
    "x1 = 6rand(10)  # rand() is one of several random number functions in Julia. It returns numbers that uniformly fill the interval [0, 1]\n",
    "#                   .... here we use it get a set of sampling points in the interval [0, 4]\n",
    "println(x1) \n",
    "x2 = range(0,stop=6,length=20) #linspace(0, 6, 200)   # look up linspace() using \"?\" ... it's a nice way to get evenly spaced points\n",
    "\n",
    "\n",
    "y1 = approxcos(x1)\n",
    "println(y1)\n",
    "#y2 = cos.(x2)\n"
   ],
   "outputs": [
    {
     "output_type": "stream",
     "name": "stdout",
     "text": [
      "[2.0474677331814086, 2.302604769813705, 4.6962926407818735, 3.7984413049098205, 1.2814261472210684, 2.5874609864329625, 2.77066714607822, 3.7984756468143206, 1.5888412537985341, 2.4457182044776364]\n",
      "[-0.4584784658472347, -0.6671066053707528, 1.2083428269066623, -0.6370441398117492, 0.28535189613067097, -0.8468323568439475, -0.9250555528113473, -0.6370094574841938, -0.01801622906544745, -0.7654758853586972]\n"
     ]
    }
   ],
   "metadata": {}
  },
  {
   "cell_type": "code",
   "execution_count": 45,
   "source": [
    "# now the plots\n",
    "using Plots;     # it is sometimes convenient to cram a line in this way\n",
    "\n",
    "#first the plot of the approximation points\n",
    "plot(x1, y1)\n",
    "\n",
    "#plot!(x2, y2, line = (:path, :red))   #then add the accurate line with plot!()"
   ],
   "outputs": [
    {
     "output_type": "error",
     "ename": "PyCall.PyError",
     "evalue": "PyError ($(Expr(:escape, :(ccall(#= /home/lali/.julia/packages/PyCall/BD546/src/pyfncall.jl:43 =# @pysym(:PyObject_Call), PyPtr, (PyPtr, PyPtr, PyPtr), o, pyargsptr, kw))))) <class 'AttributeError'>\nAttributeError(\"'Text' object has no property 'math_fontfamily'\")\n  File \"/home/lali/anaconda3/lib/python3.8/site-packages/matplotlib/axes/_base.py\", line 63, in wrapper\n    return get_method(self)(*args, **kwargs)\n  File \"/home/lali/anaconda3/lib/python3.8/site-packages/matplotlib/cbook/deprecation.py\", line 451, in wrapper\n    return func(*args, **kwargs)\n  File \"/home/lali/anaconda3/lib/python3.8/site-packages/matplotlib/axis.py\", line 1793, in _set_ticklabels\n    return self.set_ticklabels(labels, minor=minor, **kwargs)\n  File \"/home/lali/anaconda3/lib/python3.8/site-packages/matplotlib/axis.py\", line 1740, in set_ticklabels\n    tick.label1.update(kwargs)\n  File \"/home/lali/anaconda3/lib/python3.8/site-packages/matplotlib/text.py\", line 177, in update\n    super().update(kwargs)\n  File \"/home/lali/anaconda3/lib/python3.8/site-packages/matplotlib/artist.py\", line 996, in update\n    raise AttributeError(f\"{type(self).__name__!r} object \"\n",
     "traceback": [
      "PyError ($(Expr(:escape, :(ccall(#= /home/lali/.julia/packages/PyCall/BD546/src/pyfncall.jl:43 =# @pysym(:PyObject_Call), PyPtr, (PyPtr, PyPtr, PyPtr), o, pyargsptr, kw))))) <class 'AttributeError'>\nAttributeError(\"'Text' object has no property 'math_fontfamily'\")\n  File \"/home/lali/anaconda3/lib/python3.8/site-packages/matplotlib/axes/_base.py\", line 63, in wrapper\n    return get_method(self)(*args, **kwargs)\n  File \"/home/lali/anaconda3/lib/python3.8/site-packages/matplotlib/cbook/deprecation.py\", line 451, in wrapper\n    return func(*args, **kwargs)\n  File \"/home/lali/anaconda3/lib/python3.8/site-packages/matplotlib/axis.py\", line 1793, in _set_ticklabels\n    return self.set_ticklabels(labels, minor=minor, **kwargs)\n  File \"/home/lali/anaconda3/lib/python3.8/site-packages/matplotlib/axis.py\", line 1740, in set_ticklabels\n    tick.label1.update(kwargs)\n  File \"/home/lali/anaconda3/lib/python3.8/site-packages/matplotlib/text.py\", line 177, in update\n    super().update(kwargs)\n  File \"/home/lali/anaconda3/lib/python3.8/site-packages/matplotlib/artist.py\", line 996, in update\n    raise AttributeError(f\"{type(self).__name__!r} object \"\n",
      "",
      "Stacktrace:",
      "  [1] pyerr_check",
      "    @ ~/.julia/packages/PyCall/BD546/src/exception.jl:62 [inlined]",
      "  [2] pyerr_check",
      "    @ ~/.julia/packages/PyCall/BD546/src/exception.jl:66 [inlined]",
      "  [3] _handle_error(msg::String)",
      "    @ PyCall ~/.julia/packages/PyCall/BD546/src/exception.jl:83",
      "  [4] macro expansion",
      "    @ ~/.julia/packages/PyCall/BD546/src/exception.jl:97 [inlined]",
      "  [5] #107",
      "    @ ~/.julia/packages/PyCall/BD546/src/pyfncall.jl:43 [inlined]",
      "  [6] disable_sigint",
      "    @ ./c.jl:458 [inlined]",
      "  [7] __pycall!",
      "    @ ~/.julia/packages/PyCall/BD546/src/pyfncall.jl:42 [inlined]",
      "  [8] _pycall!(ret::PyCall.PyObject, o::PyCall.PyObject, args::Tuple{Vector{Float64}}, nargs::Int64, kw::PyCall.PyObject)",
      "    @ PyCall ~/.julia/packages/PyCall/BD546/src/pyfncall.jl:29",
      "  [9] _pycall!",
      "    @ ~/.julia/packages/PyCall/BD546/src/pyfncall.jl:11 [inlined]",
      " [10] (::PyCall.PyObject)(args::Vector{Float64}; kwargs::Base.Iterators.Pairs{Symbol, PyCall.PyDict{String, PyCall.PyAny, true}, Tuple{Symbol}, NamedTuple{(:fontdict,), Tuple{PyCall.PyDict{String, PyCall.PyAny, true}}}})",
      "    @ PyCall ~/.julia/packages/PyCall/BD546/src/pyfncall.jl:86",
      " [11] _before_layout_calcs(plt::Plots.Plot{Plots.PyPlotBackend})",
      "    @ Plots ~/.julia/packages/Plots/yfzIY/src/backends/pyplot.jl:1311",
      " [12] prepare_output(plt::Plots.Plot{Plots.PyPlotBackend})",
      "    @ Plots ~/.julia/packages/Plots/yfzIY/src/plot.jl:217",
      " [13] show(io::Base64.Base64EncodePipe, m::MIME{Symbol(\"image/png\")}, plt::Plots.Plot{Plots.PyPlotBackend})",
      "    @ Plots ~/.julia/packages/Plots/yfzIY/src/output.jl:212",
      " [14] base64encode(::Function, ::MIME{Symbol(\"image/png\")}, ::Vararg{Any, N} where N; context::Nothing)",
      "    @ Base64 /buildworker/worker/package_linux64/build/usr/share/julia/stdlib/v1.6/Base64/src/encode.jl:209",
      " [15] base64encode",
      "    @ /buildworker/worker/package_linux64/build/usr/share/julia/stdlib/v1.6/Base64/src/encode.jl:206 [inlined]",
      " [16] _ijulia_display_dict(plt::Plots.Plot{Plots.PyPlotBackend})",
      "    @ Plots ~/.julia/packages/Plots/yfzIY/src/ijulia.jl:44",
      " [17] display_dict(plt::Plots.Plot{Plots.PyPlotBackend})",
      "    @ Plots ~/.julia/packages/Plots/yfzIY/src/init.jl:93",
      " [18] #invokelatest#2",
      "    @ ./essentials.jl:708 [inlined]",
      " [19] invokelatest",
      "    @ ./essentials.jl:706 [inlined]",
      " [20] execute_request(socket::ZMQ.Socket, msg::IJulia.Msg)",
      "    @ IJulia ~/.julia/packages/IJulia/e8kqU/src/execute_request.jl:112",
      " [21] #invokelatest#2",
      "    @ ./essentials.jl:708 [inlined]",
      " [22] invokelatest",
      "    @ ./essentials.jl:706 [inlined]",
      " [23] eventloop(socket::ZMQ.Socket)",
      "    @ IJulia ~/.julia/packages/IJulia/e8kqU/src/eventloop.jl:8",
      " [24] (::IJulia.var\"#15#18\")()",
      "    @ IJulia ./task.jl:411"
     ]
    }
   ],
   "metadata": {}
  },
  {
   "cell_type": "markdown",
   "source": [
    "[Back to the top](#In-this-lecture)"
   ],
   "metadata": {}
  },
  {
   "cell_type": "code",
   "execution_count": null,
   "source": [],
   "outputs": [],
   "metadata": {
    "collapsed": true
   }
  }
 ],
 "metadata": {
  "hide_input": false,
  "kernelspec": {
   "display_name": "Julia 1.6.2",
   "language": "julia",
   "name": "julia-1.6"
  },
  "language_info": {
   "file_extension": ".jl",
   "name": "julia",
   "mimetype": "application/julia",
   "version": "1.6.2"
  },
  "varInspector": {
   "cols": {
    "lenName": 16,
    "lenType": 16,
    "lenVar": 40
   },
   "kernels_config": {
    "python": {
     "delete_cmd_postfix": "",
     "delete_cmd_prefix": "del ",
     "library": "var_list.py",
     "varRefreshCmd": "print(var_dic_list())"
    },
    "r": {
     "delete_cmd_postfix": ") ",
     "delete_cmd_prefix": "rm(",
     "library": "var_list.r",
     "varRefreshCmd": "cat(var_dic_list()) "
    }
   },
   "types_to_exclude": [
    "module",
    "function",
    "builtin_function_or_method",
    "instance",
    "_Feature"
   ],
   "window_display": false
  }
 },
 "nbformat": 4,
 "nbformat_minor": 1
}