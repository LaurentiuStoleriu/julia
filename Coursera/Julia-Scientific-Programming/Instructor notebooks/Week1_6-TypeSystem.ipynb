{
 "cells": [
  {
   "cell_type": "code",
   "execution_count": 1,
   "source": [
    "# Setting up a custom stylesheet in IJulia\n",
    "# New in 0.6\n",
    "file = open(\"style.css\") # A .css file in the same folder as this notebook file\n",
    "styl = readstring(file) # Read the file\n",
    "HTML(\"$styl\") # Output as HTML"
   ],
   "outputs": [
    {
     "output_type": "error",
     "ename": "LoadError",
     "evalue": "SystemError: opening file \"style.css\": No such file or directory",
     "traceback": [
      "SystemError: opening file \"style.css\": No such file or directory",
      "",
      "Stacktrace:",
      " [1] systemerror(p::String, errno::Int32; extrainfo::Nothing)",
      "   @ Base ./error.jl:168",
      " [2] #systemerror#62",
      "   @ ./error.jl:167 [inlined]",
      " [3] systemerror",
      "   @ ./error.jl:167 [inlined]",
      " [4] open(fname::String; lock::Bool, read::Nothing, write::Nothing, create::Nothing, truncate::Nothing, append::Nothing)",
      "   @ Base ./iostream.jl:293",
      " [5] open(fname::String)",
      "   @ Base ./iostream.jl:282",
      " [6] top-level scope",
      "   @ In[1]:3",
      " [7] eval",
      "   @ ./boot.jl:360 [inlined]",
      " [8] include_string(mapexpr::typeof(REPL.softscope), mod::Module, code::String, filename::String)",
      "   @ Base ./loading.jl:1116"
     ]
    }
   ],
   "metadata": {}
  },
  {
   "cell_type": "markdown",
   "source": [
    "# Julia's type system"
   ],
   "metadata": {}
  },
  {
   "cell_type": "markdown",
   "source": [
    "<h2>In this lecture</h2>\n",
    "\n",
    "- [Outcome](#Outcome)\n",
    "\n",
    "- [A word of reassurance](#A-word-of-reassurance)\n",
    "- [Types are formats for storing information](#Types-are-formats-for-storing-information)\n",
    "- [Stored information must also store its type](#Stored-information-must-also-store-its-type)\n",
    "- [In Julia, only values have types](#In-Julia,-only-values-have-types)\n",
    "- [The types Char, ASCIIString and UTF8String](#The-types-Char,-ASCIIString-and-UTF8String)\n",
    "- [The type Bool](#The-type-Bool)\n",
    "- [The types Int64 and Float64](#The-types-Int64-and-Float64)\n",
    "- [Concrete and abstract types](#Concrete-and-abstract-types)\n",
    "- [Julia has a tree of types](#Julia-has-a-tree-of-types)"
   ],
   "metadata": {}
  },
  {
   "cell_type": "markdown",
   "source": [
    "<hr>\n",
    "<h2>Outcome</h2>\n",
    "\n",
    "After this lecture, you will be able to: \n",
    "\n",
    "- Say what types are from the point of view of computer languages\n",
    "- Use the typeof() function to determine the type of a value\n",
    "- Describe Julia's tree of types in terms of abstract and concrete types\n",
    "- Describe the types Char, ASCIIString and UTF8String \n",
    "- Describe the types Int64 and Float64"
   ],
   "metadata": {}
  },
  {
   "cell_type": "markdown",
   "source": [
    "[Back to the top](#In-this-lecture)"
   ],
   "metadata": {}
  },
  {
   "cell_type": "markdown",
   "source": [
    "<h2>A word of reassurance</h2>\n",
    "\n",
    "## YOU CAN ALMOST ALWAYS IGNORE TYPES WHEN YOU WRITE JULIA CODE\n",
    "\n",
    "One of the nicest things about Julia is that, while its type system is totally amazing, you can ignore it if you like. People often do---you write code as rapidly as you can, to see whether an idea could possibly work. Then if you like what you see, but the code runs slowly, you tweak it. And in Julia, this means you work on getting the types right.\n",
    "\n",
    "There is one case however where type cannot be ignored: when you get an error message that complains about type. That is, for purposes of debugging it is essential to know about Julia's type system, and that is why we include it this early in the course, even though you need never specify type in any of the assignments in this course."
   ],
   "metadata": {}
  },
  {
   "cell_type": "markdown",
   "source": [
    "[Back to the top](#In-this-lecture)"
   ],
   "metadata": {}
  },
  {
   "cell_type": "markdown",
   "source": [
    "<h2>Types are formats for storing information</h2>\n",
    "\n",
    "We all know that information is stored and moved around in computers using zeros and ones. \n",
    "\n",
    "That means stuff like 00011100011000110111011011111010101101\n",
    "\n",
    "But how do we tell if this lot represents a number, or several numbers, or a colour, or a word, or what?\n",
    "\n",
    "This is where formats come in. If you knew what format to use, you could tell what that sequence of zeros and ones meant.\n",
    "\n",
    "Each computer language has its own way of specifying the formats of information that it can use. Those are its types. Julia also has a type system, which is quite elaborate.\n"
   ],
   "metadata": {}
  },
  {
   "cell_type": "markdown",
   "source": [
    "[Back to the top](#In-this-lecture)"
   ],
   "metadata": {}
  },
  {
   "cell_type": "markdown",
   "source": [
    "<h2>Stored information must also store its type</h2>\n",
    "\n",
    "This is obvious---without knowing the type, its just a bunch of meaningless zeros and ones!\n",
    "\n",
    "But the question is: *where* do you store the type for a given piece of information? Different languages do this in different ways. \n"
   ],
   "metadata": {}
  },
  {
   "cell_type": "markdown",
   "source": [
    "[Back to the top](#In-this-lecture)"
   ],
   "metadata": {}
  },
  {
   "cell_type": "markdown",
   "source": [
    "<h2>In Julia, only values have types</h2>\n",
    "\n",
    "We have so far seen Julia do things like the following:\n"
   ],
   "metadata": {}
  },
  {
   "cell_type": "code",
   "execution_count": 2,
   "source": [
    "1+3+5"
   ],
   "outputs": [
    {
     "output_type": "execute_result",
     "data": {
      "text/plain": [
       "9"
      ]
     },
     "metadata": {},
     "execution_count": 2
    }
   ],
   "metadata": {}
  },
  {
   "cell_type": "markdown",
   "source": [
    "Each of \"1\", \"3\" and \"5\" are symbols that stand for values, and so does the \"9\" that is the result of the calculation.\n",
    "\n",
    "In Julia, each of those values have a type. And values are the only things that have types in Julia. Of course, there is a lot of careful detail in how to make sure that the zeros and ones that specify the value remain connected with the zeros and ones that specify the type. In C, for instance, the programmmer must think about this all the time. Luckily in Julia we need not worry, those details are taken care of.\n",
    "\n",
    "It is easy to determine a type in Julia, by using the built-in function typeof():\n",
    "\n"
   ],
   "metadata": {}
  },
  {
   "cell_type": "code",
   "execution_count": 3,
   "source": [
    "typeof(1)"
   ],
   "outputs": [
    {
     "output_type": "execute_result",
     "data": {
      "text/plain": [
       "Int64"
      ]
     },
     "metadata": {},
     "execution_count": 3
    }
   ],
   "metadata": {}
  },
  {
   "cell_type": "code",
   "execution_count": 4,
   "source": [
    "typeof(1+3+5)"
   ],
   "outputs": [
    {
     "output_type": "execute_result",
     "data": {
      "text/plain": [
       "Int64"
      ]
     },
     "metadata": {},
     "execution_count": 4
    }
   ],
   "metadata": {}
  },
  {
   "cell_type": "code",
   "execution_count": 5,
   "source": [
    "typeof(\"Hello, world!\")"
   ],
   "outputs": [
    {
     "output_type": "execute_result",
     "data": {
      "text/plain": [
       "String"
      ]
     },
     "metadata": {},
     "execution_count": 5
    }
   ],
   "metadata": {}
  },
  {
   "cell_type": "code",
   "execution_count": 6,
   "source": [
    "typeof(\"αβγδ\")     # Greek letters via Unicode, easy in Julia  "
   ],
   "outputs": [
    {
     "output_type": "execute_result",
     "data": {
      "text/plain": [
       "String"
      ]
     },
     "metadata": {},
     "execution_count": 6
    }
   ],
   "metadata": {}
  },
  {
   "cell_type": "code",
   "execution_count": 7,
   "source": [
    "typeof(\"H\")"
   ],
   "outputs": [
    {
     "output_type": "execute_result",
     "data": {
      "text/plain": [
       "String"
      ]
     },
     "metadata": {},
     "execution_count": 7
    }
   ],
   "metadata": {}
  },
  {
   "cell_type": "code",
   "execution_count": 8,
   "source": [
    "typeof('H')"
   ],
   "outputs": [
    {
     "output_type": "execute_result",
     "data": {
      "text/plain": [
       "Char"
      ]
     },
     "metadata": {},
     "execution_count": 8
    }
   ],
   "metadata": {}
  },
  {
   "cell_type": "code",
   "execution_count": 5,
   "source": [
    "typeof(1+3+5.0)"
   ],
   "outputs": [
    {
     "output_type": "execute_result",
     "data": {
      "text/plain": [
       "Float64"
      ]
     },
     "metadata": {},
     "execution_count": 5
    }
   ],
   "metadata": {}
  },
  {
   "cell_type": "markdown",
   "source": [
    "### Julia is very sensitive to type: every single bit of work is done in terms of types.\n",
    "\n",
    "You need not worry about types at all, if you don't want to: Julia will automatically assign types to any values you create. \n",
    "\n",
    "On the other hand, it is possible to specify in great detail what types you want. You can even extend Julia's type system with your own user-defined types. This can be a great help in speeding up code (although in this course we do not go into that)."
   ],
   "metadata": {}
  },
  {
   "cell_type": "markdown",
   "source": [
    "[Back to the top](#In-this-lecture)"
   ],
   "metadata": {}
  },
  {
   "cell_type": "markdown",
   "source": [
    "<h2>The types Char, ASCIIString and UTF8String</h2>\n",
    "\n",
    "As we have seen, a string is a sequence of characters. For languages using the Roman letters, all the necessary characters are on a standard keyboard, so you just type them in. These are also the only alphabetic characters in the original ASCII list, which specifies exactly 128 characters.\n",
    "\n",
    "Other characters are available via Unicode, as we have already seen. You type \"\\\" followed by some more characters, followed by pressing Tab."
   ],
   "metadata": {}
  },
  {
   "cell_type": "code",
   "execution_count": 8,
   "source": [
    "#\"α ± ♢ ♣\"       # examples of entering Unicode characters\n",
    "println(\"αβ±γ⋄♢\")\n",
    "println(\"αβ±γ⋄♢\")"
   ],
   "outputs": [
    {
     "output_type": "stream",
     "name": "stdout",
     "text": [
      "αβ±γ⋄♢\n",
      "αβ±γ⋄♢\n"
     ]
    }
   ],
   "metadata": {}
  },
  {
   "cell_type": "markdown",
   "source": [
    "All of these characters of course have a value in the Julia language, so they have a type, namely Char.\n",
    "\n",
    "In Julia, types are given names that start with capital letters.\n",
    "\n",
    "Now here's the thing. Suppose you have lots of strings, but some of them use only ASCII while others use some Unicode characters that are not part of ASCII. To work with ASCII-only strings can be much faster, because ASCII has only a few characters, while Unicode has thousands. For example, if you want to test whether they're the same, you need only check the ASCII characters. But if you had to first read the whole string to decide whether it was pure ASCII or not, you'd be doing a lot of extra work and you would lose the advantages of speed.\n",
    "\n",
    "So the designers of Julia decided that it was worth having more types of string: we've seen ASCIIString for strings supposed to have only ASCII characters and UTF8String for string that have Unicode characters from the whole UTF8 specification in Unicode. There are other string types as well."
   ],
   "metadata": {}
  },
  {
   "cell_type": "markdown",
   "source": [
    "[Back to the top](#In-this-lecture)"
   ],
   "metadata": {}
  },
  {
   "cell_type": "markdown",
   "source": [
    "<h2>The type Bool</h2>\n",
    "\n",
    "Bool here is short for Boolean, which is named for George Boole, who suggested that all of logic could be presented in terms of the values \"true\" and \"false\". He invented an algebra for doing logical calculations using these values.\n",
    "\n",
    "This is an extremely simple type. In the computer, it occupies only eight bits, and it is limited to only two possible values.\n"
   ],
   "metadata": {}
  },
  {
   "cell_type": "code",
   "execution_count": 2,
   "source": [
    "typeof(true)"
   ],
   "outputs": [
    {
     "output_type": "execute_result",
     "data": {
      "text/plain": [
       "Bool"
      ]
     },
     "metadata": {},
     "execution_count": 2
    }
   ],
   "metadata": {}
  },
  {
   "cell_type": "markdown",
   "source": [
    "[Back to the top](#In-this-lecture)"
   ],
   "metadata": {}
  },
  {
   "cell_type": "markdown",
   "source": [
    "<h2>The types Int64 and Float64</h2>\n",
    "\n",
    "Of course, all scientific and technical computation depends on handling numbers very efficiently. Julia has a great many number types, but by far the two most important are Int64 for representing integers and Float64 for representing real numbers. To be precise, Float64 is a floating point format for real numbers.\n",
    "\n",
    "Both of them use 64 bits to represent the number. However, the way they interpret these bits is quite different, even if the values are the same.\n",
    "\n",
    "When we type them out, the difference is very simple: \n",
    "\n",
    "- an integer has no fractional part, so we type them without a decimal point. \n",
    "- for a floating point number, we always put in the decimal point, even if the fractional part is zero\n"
   ],
   "metadata": {
    "collapsed": true
   }
  },
  {
   "cell_type": "code",
   "execution_count": 3,
   "source": [
    "typeof(2)"
   ],
   "outputs": [
    {
     "output_type": "execute_result",
     "data": {
      "text/plain": [
       "Int64"
      ]
     },
     "metadata": {},
     "execution_count": 3
    }
   ],
   "metadata": {}
  },
  {
   "cell_type": "code",
   "execution_count": 14,
   "source": [
    "typeof(2.0)"
   ],
   "outputs": [
    {
     "output_type": "execute_result",
     "data": {
      "text/plain": [
       "Float64"
      ]
     },
     "metadata": {},
     "execution_count": 14
    }
   ],
   "metadata": {}
  },
  {
   "cell_type": "markdown",
   "source": [
    "This explains why \"1+3+5.\" above has the type Float64, not Int64, which may have surprised you.\n",
    "\n",
    "Julia compares values correctly, even if the types differ:"
   ],
   "metadata": {}
  },
  {
   "cell_type": "code",
   "execution_count": 4,
   "source": [
    "2.0 == 2     # true, although the types differ"
   ],
   "outputs": [
    {
     "output_type": "execute_result",
     "data": {
      "text/plain": [
       "true"
      ]
     },
     "metadata": {},
     "execution_count": 4
    }
   ],
   "metadata": {}
  },
  {
   "cell_type": "code",
   "execution_count": 16,
   "source": [
    "2 < 3/2      # false. Note that although both 3 and 2 are integers, 3/2 is not."
   ],
   "outputs": [
    {
     "output_type": "execute_result",
     "data": {
      "text/plain": [
       "false"
      ]
     },
     "metadata": {},
     "execution_count": 16
    }
   ],
   "metadata": {}
  },
  {
   "cell_type": "markdown",
   "source": [
    "There is a strict comparison operator, namely \"===\" which is true only if two values agree fully as to type as well as value."
   ],
   "metadata": {}
  },
  {
   "cell_type": "code",
   "execution_count": 17,
   "source": [
    "2.0 ===  2    # false. The values are equal but the types differ"
   ],
   "outputs": [
    {
     "output_type": "execute_result",
     "data": {
      "text/plain": [
       "false"
      ]
     },
     "metadata": {},
     "execution_count": 17
    }
   ],
   "metadata": {}
  },
  {
   "cell_type": "markdown",
   "source": [
    "[Back to the top](#In-this-lecture)"
   ],
   "metadata": {}
  },
  {
   "cell_type": "markdown",
   "source": [
    "<h2>Concrete and abstract types</h2>\n",
    "\n",
    "All the types above are concrete types. That is, they have no subtypes.\n",
    "\n",
    "But it is very useful to group types together. For example, both Int64 and Float64 are numbers, and one can do things with numbers without knowing exactly which type of number you are dealing with. For this purpose, Julia defines a supertype for every type (except the type Any). For example, Float64 has the supertype Real \n",
    "\n",
    "This can get complicated: Int64 has the supertype Signed, which has the supertype Integer, which has the supertype Real.\n",
    "\n",
    "Note that the type Real includes both Int64 and Float64. Types like Real and Integer, which can have subtypes, are called abstract types. The most abstract type of all is the type Any.\n",
    "\n",
    "Now. The actual type of a value in Julia must always be a concrete type. So where do abstract types come in? There are two answers:\n",
    "- some operations change the type of a value; abstract types help to guide this process\n",
    "- functions are written to operate on types. If you write your function to use an abstract type, it will work for all the types underneath that abstract type.\n",
    "\n",
    "As was noted above, you can write your Julia code without any type specifications at all. What happens is that Julia then uses abstract types to specify your code. Most of them time, this is absolutely fine. But it can seriously hamper speed, so if your aim is to write programs that run fast, you will need to learn how to use type specifications. As this course is for beginners, we do not cover that topic.\n"
   ],
   "metadata": {
    "collapsed": true
   }
  },
  {
   "cell_type": "markdown",
   "source": [
    "[Back to the top](#In-this-lecture)"
   ],
   "metadata": {}
  },
  {
   "cell_type": "markdown",
   "source": [
    "<h2>Julia has a tree of types</h2>\n",
    "\n",
    "This means that the most abstract type of all, namely the type Any, splits into subtypes that do not overlap, and this is again true for further splits into subtypes.\n",
    "\n",
    "A different way of saying this is that every type has exactly one direct supertype.\n",
    "\n",
    "What this means is that there can be no confusion about how types are related in Julia: you can trace any two types back to their lowest common supertype. This certainty is a very important aspect of the Julia type system."
   ],
   "metadata": {
    "collapsed": true
   }
  },
  {
   "cell_type": "markdown",
   "source": [
    "[Back to the top](#In-this-lecture)"
   ],
   "metadata": {}
  },
  {
   "cell_type": "code",
   "execution_count": null,
   "source": [],
   "outputs": [],
   "metadata": {
    "collapsed": true
   }
  }
 ],
 "metadata": {
  "hide_input": false,
  "kernelspec": {
   "display_name": "Julia 1.6.2",
   "language": "julia",
   "name": "julia-1.6"
  },
  "language_info": {
   "file_extension": ".jl",
   "name": "julia",
   "mimetype": "application/julia",
   "version": "1.6.2"
  },
  "varInspector": {
   "cols": {
    "lenName": 16,
    "lenType": 16,
    "lenVar": 40
   },
   "kernels_config": {
    "python": {
     "delete_cmd_postfix": "",
     "delete_cmd_prefix": "del ",
     "library": "var_list.py",
     "varRefreshCmd": "print(var_dic_list())"
    },
    "r": {
     "delete_cmd_postfix": ") ",
     "delete_cmd_prefix": "rm(",
     "library": "var_list.r",
     "varRefreshCmd": "cat(var_dic_list()) "
    }
   },
   "types_to_exclude": [
    "module",
    "function",
    "builtin_function_or_method",
    "instance",
    "_Feature"
   ],
   "window_display": false
  }
 },
 "nbformat": 4,
 "nbformat_minor": 1
}