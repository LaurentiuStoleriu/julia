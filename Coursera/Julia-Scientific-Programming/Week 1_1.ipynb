{
 "cells": [
  {
   "cell_type": "code",
   "execution_count": 6,
   "source": [
    "file = open(\"LoremIpsum.txt\");\n",
    "styl = read(file, String); #readstring(file);\n",
    "HTML(\"$styl\")"
   ],
   "outputs": [
    {
     "output_type": "display_data",
     "data": {
      "text/html": [
       "Lorem ipsum dolor sit amet, consectetur adipiscing elit. Cras vel tellus pharetra, vulputate nisi quis, semper elit. Mauris mollis est vitae convallis pharetra. Nulla pretium luctus massa, non dictum leo mollis eget. Donec non rutrum tortor, nec volutpat ligula. Nam pretium felis et faucibus convallis. Aliquam ut metus fringilla, semper massa vitae, venenatis risus. Nulla facilisi. Sed molestie bibendum magna et vehicula. Vivamus eu nibh vestibulum, mattis dolor in, cursus est. Suspendisse non lorem enim. Quisque in ultrices tellus, vel egestas odio.\n",
       "\n",
       "Pellentesque id suscipit leo. Curabitur id diam a tortor cursus tincidunt in ac diam. Aliquam molestie in nunc non faucibus. Curabitur nec semper metus. Fusce id massa sed justo pharetra lobortis. Pellentesque finibus tincidunt nisi, quis pellentesque odio luctus non. Aliquam pellentesque nulla sapien, sed pharetra libero dapibus eget. Aliquam quis nisl at augue luctus cursus. Aenean sit amet efficitur odio. Pellentesque ligula eros, pharetra eu dolor a, ultricies elementum lectus. Nunc a neque orci. Sed non sem sem.\n",
       "\n",
       "Donec odio ipsum, eleifend at consequat vitae, venenatis eu elit. Duis a euismod nibh, non bibendum arcu. Etiam viverra consectetur dolor, id fermentum augue porttitor eu. Integer aliquet magna dolor, in molestie purus egestas eu. Nam condimentum lacinia massa, at volutpat neque aliquam sed. Vestibulum varius laoreet eros vel mollis. Vestibulum tellus massa, hendrerit quis arcu placerat, congue malesuada augue. Vivamus in urna auctor, tempor enim sed, vehicula urna. Mauris nisi erat, dapibus et neque et, porttitor molestie leo. Proin tincidunt lorem metus, ac molestie tellus condimentum non. Pellentesque molestie sodales massa, nec ullamcorper odio pretium at.\n",
       "\n",
       "Duis finibus tellus at tincidunt iaculis. Duis fringilla sodales turpis, ut efficitur ex scelerisque quis. Donec arcu nisl, aliquam eu consequat eu, blandit a urna. Duis elementum non massa ac varius. Quisque in velit ultrices, auctor leo et, aliquet metus. Proin pulvinar sodales nisi et tristique. Suspendisse potenti. Morbi eu erat sit amet nisi efficitur sagittis vel id ipsum. Maecenas nec pellentesque lectus.\n",
       "\n",
       "Praesent consequat libero lectus. Pellentesque viverra porttitor finibus. Nulla facilisi. Sed vel lorem dapibus, semper nibh a, gravida ex. Cras dignissim sem in sem dapibus laoreet. Phasellus dictum mauris ut dui facilisis, ac tempus nibh commodo. Curabitur fermentum eros nulla, non vestibulum elit ullamcorper vitae. Sed at lorem iaculis, vehicula tellus vitae, mollis orci. Nulla facilisi."
      ],
      "text/plain": [
       "HTML{String}(\"Lorem ipsum dolor sit amet, consectetur adipiscing elit. Cras vel tellus pharetra, vulputate nisi quis, semper elit. Mauris mollis est vitae convallis pharetra. Nulla pretium luctus massa, non dictum leo mollis eget. Donec non rutrum tortor, nec volutpat ligula. Nam pretium felis et faucibus convallis. Aliquam ut metus fringilla, semper massa vitae, venenatis risus. Nulla facilisi. Sed molestie bibendum magna et vehicula. Vivamus eu nibh vestibulum, mattis dolor in, cursus est. Suspendisse non lorem enim. Quisque in ultrices tellus, vel egestas odio.\\n\\nPellentesque id suscipit leo. Curabitur id diam a tortor cursus tincidunt in ac diam. Aliquam molestie in nunc non faucibus. Curabitur nec semper metus. Fusce id massa sed justo pharetra lobortis. Pellentesque finibus tincidunt nisi, quis pellentesque odio luctus non. Aliquam pellentesque nulla sapien, sed pharetra libero dapibus eget. Aliquam quis nisl at augue luctus cursus. Aenean sit amet efficitur odio. Pellentesque ligula eros, pharetra eu dolor a, ultricies elementum lectus. Nunc a neque orci. Sed non sem sem.\\n\\nDonec odio ipsum, eleifend at consequat vitae, venenatis eu elit. Duis a euismod nibh, non bibendum arcu. Etiam viverra consectetur dolor, id fermentum augue porttitor eu. Integer aliquet magna dolor, in molestie purus egestas eu. Nam condimentum lacinia massa, at volutpat neque aliquam sed. Vestibulum varius laoreet eros vel mollis. Vestibulum tellus massa, hendrerit quis arcu placerat, congue malesuada augue. Vivamus in urna auctor, tempor enim sed, vehicula urna. Mauris nisi erat, dapibus et neque et, porttitor molestie leo. Proin tincidunt lorem metus, ac molestie tellus condimentum non. Pellentesque molestie sodales massa, nec ullamcorper odio pretium at.\\n\\nDuis finibus tellus at tincidunt iaculis. Duis fringilla sodales turpis, ut efficitur ex scelerisque quis. Donec arcu nisl, aliquam eu consequat eu, blandit a urna. Duis elementum non massa ac varius. Quisque in velit ultrices, auctor leo et, aliquet metus. Proin pulvinar sodales nisi et tristique. Suspendisse potenti. Morbi eu erat sit amet nisi efficitur sagittis vel id ipsum. Maecenas nec pellentesque lectus.\\n\\nPraesent consequat libero lectus. Pellentesque viverra porttitor finibus. Nulla facilisi. Sed vel lorem dapibus, semper nibh a, gravida ex. Cras dignissim sem in sem dapibus laoreet. Phasellus dictum mauris ut dui facilisis, ac tempus nibh commodo. Curabitur fermentum eros nulla, non vestibulum elit ullamcorper vitae. Sed at lorem iaculis, vehicula tellus vitae, mollis orci. Nulla facilisi.\")"
      ]
     },
     "metadata": {}
    }
   ],
   "metadata": {}
  },
  {
   "cell_type": "code",
   "execution_count": 7,
   "source": [
    "println(\"Hello!\" * \" My word!\")  # strings are combined using *"
   ],
   "outputs": [
    {
     "output_type": "stream",
     "name": "stdout",
     "text": [
      "Hello! My word!\n"
     ]
    }
   ],
   "metadata": {}
  },
  {
   "cell_type": "code",
   "execution_count": 8,
   "source": [
    "println(\"Hello!\" * \" My word!\"^3) # strings are repeated using ^"
   ],
   "outputs": [
    {
     "output_type": "stream",
     "name": "stdout",
     "text": [
      "Hello! My word! My word! My word!\n"
     ]
    }
   ],
   "metadata": {}
  },
  {
   "cell_type": "code",
   "execution_count": 9,
   "source": [
    "2 == 4-2  &&   2 === 4-2.0"
   ],
   "outputs": [
    {
     "output_type": "display_data",
     "data": {
      "text/plain": [
       "false"
      ]
     },
     "metadata": {}
    }
   ],
   "metadata": {}
  },
  {
   "cell_type": "code",
   "execution_count": 14,
   "source": [
    "Array{Int64, 3} #Array{Int64}(3)"
   ],
   "outputs": [
    {
     "output_type": "display_data",
     "data": {
      "text/plain": [
       "Array{Int64, 3}"
      ]
     },
     "metadata": {}
    }
   ],
   "metadata": {}
  },
  {
   "cell_type": "code",
   "execution_count": 17,
   "source": [
    "Array{nothing, 3} #Array{None}(3)"
   ],
   "outputs": [
    {
     "output_type": "display_data",
     "data": {
      "text/plain": [
       "Array{nothing, 3}"
      ]
     },
     "metadata": {}
    }
   ],
   "metadata": {}
  },
  {
   "cell_type": "code",
   "execution_count": 18,
   "source": [
    "#Array{Nullable}(3)"
   ],
   "outputs": [],
   "metadata": {}
  },
  {
   "cell_type": "markdown",
   "source": [
    "## ^^^Useful"
   ],
   "metadata": {}
  },
  {
   "cell_type": "code",
   "execution_count": 13,
   "source": [],
   "outputs": [],
   "metadata": {}
  }
 ],
 "metadata": {
  "kernelspec": {
   "display_name": "Julia 1.6.2",
   "language": "julia",
   "name": "julia-1.6"
  },
  "language_info": {
   "name": "julia",
   "version": "1.6.2",
   "mimetype": "application/julia",
   "file_extension": ".jl"
  }
 },
 "nbformat": 4,
 "nbformat_minor": 2
}