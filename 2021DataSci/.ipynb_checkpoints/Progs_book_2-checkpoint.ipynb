{
 "cells": [
  {
   "cell_type": "code",
   "execution_count": 1,
   "metadata": {},
   "outputs": [
    {
     "data": {
      "text/plain": [
       "Int64"
      ]
     },
     "execution_count": 1,
     "metadata": {},
     "output_type": "execute_result"
    }
   ],
   "source": [
    "age = 10\n",
    "typeof(age)"
   ]
  },
  {
   "cell_type": "code",
   "execution_count": 3,
   "metadata": {},
   "outputs": [
    {
     "data": {
      "text/html": [
       "5-element Vector{Method}:<ul><li> middle(x::<b>Union{Bool, Int128, Int16, Int32, Int64, Int8, UInt128, UInt16, UInt32, UInt64, UInt8}</b>) in Statistics at <a href=\"file:///buildworker/worker/package_linux64/build/usr/share/julia/stdlib/v1.6/Statistics/src/Statistics.jl\" target=\"_blank\">/home/lali/julia-1.6.3/share/julia/stdlib/v1.6/Statistics/src/Statistics.jl:735</a><li> connect(manager::<b>Distributed.ClusterManager</b>, pid::<b>Int64</b>, config::<b>Distributed.WorkerConfig</b>) in Distributed at <a href=\"file:///buildworker/worker/package_linux64/build/usr/share/julia/stdlib/v1.6/Distributed/src/managers.jl\" target=\"_blank\">/home/lali/julia-1.6.3/share/julia/stdlib/v1.6/Distributed/src/managers.jl:516</a><li> clear!(sym::<b>Symbol</b>, pid::<b>Int64</b>; <i>mod</i>) in Distributed at <a href=\"file:///buildworker/worker/package_linux64/build/usr/share/julia/stdlib/v1.6/Distributed/src/clusterserialize.jl\" target=\"_blank\">/home/lali/julia-1.6.3/share/julia/stdlib/v1.6/Distributed/src/clusterserialize.jl:249</a><li> clear!(syms, pid::<b>Int64</b>; <i>mod</i>) in Distributed at <a href=\"file:///buildworker/worker/package_linux64/build/usr/share/julia/stdlib/v1.6/Distributed/src/clusterserialize.jl\" target=\"_blank\">/home/lali/julia-1.6.3/share/julia/stdlib/v1.6/Distributed/src/clusterserialize.jl:251</a><li> rem(x::<b>Union{Int128, Int16, Int32, Int64, Int8}</b>, y::<b>Unsigned</b>) in Base at <a href=\"https://github.com/JuliaLang/julia/tree/ae8452a9e0b973991c30f27beb2201db1b0ea0d3/base/int.jl#L204\" target=\"_blank\">int.jl:204</a></ul>"
      ],
      "text/plain": [
       "[1] middle(x::Union{Bool, Int128, Int16, Int32, Int64, Int8, UInt128, UInt16, UInt32, UInt64, UInt8}) in Statistics at /home/lali/julia-1.6.3/share/julia/stdlib/v1.6/Statistics/src/Statistics.jl:735\n",
       "[2] connect(manager::Distributed.ClusterManager, pid::Int64, config::Distributed.WorkerConfig) in Distributed at /home/lali/julia-1.6.3/share/julia/stdlib/v1.6/Distributed/src/managers.jl:516\n",
       "[3] clear!(sym::Symbol, pid::Int64; mod) in Distributed at /home/lali/julia-1.6.3/share/julia/stdlib/v1.6/Distributed/src/clusterserialize.jl:249\n",
       "[4] clear!(syms, pid::Int64; mod) in Distributed at /home/lali/julia-1.6.3/share/julia/stdlib/v1.6/Distributed/src/clusterserialize.jl:251\n",
       "[5] rem(x::Union{Int128, Int16, Int32, Int64, Int8}, y::Unsigned) in Base at int.jl:204"
      ]
     },
     "execution_count": 3,
     "metadata": {},
     "output_type": "execute_result"
    }
   ],
   "source": [
    "first(methodswith(Int64), 5)  #  numai in REPL"
   ]
  },
  {
   "cell_type": "code",
   "execution_count": 4,
   "metadata": {},
   "outputs": [],
   "source": [
    "struct Language\n",
    "    name::String\n",
    "    title::String\n",
    "    year_of_birth::Int64\n",
    "    fast::Bool\n",
    "end"
   ]
  },
  {
   "cell_type": "code",
   "execution_count": 5,
   "metadata": {},
   "outputs": [
    {
     "data": {
      "text/plain": [
       "(:name, :title, :year_of_birth, :fast)"
      ]
     },
     "execution_count": 5,
     "metadata": {},
     "output_type": "execute_result"
    }
   ],
   "source": [
    "fieldnames(Language)   # numai in REPL"
   ]
  },
  {
   "cell_type": "code",
   "execution_count": 6,
   "metadata": {},
   "outputs": [
    {
     "data": {
      "text/plain": [
       "Language(\"Python\", \"Letargicus\", 1991, false)"
      ]
     },
     "execution_count": 6,
     "metadata": {},
     "output_type": "execute_result"
    }
   ],
   "source": [
    "julia = Language(\"Julia\", \"Rapidus\", 2012, true)\n",
    "python = Language(\"Python\", \"Letargicus\", 1991, false)"
   ]
  },
  {
   "cell_type": "code",
   "execution_count": 7,
   "metadata": {},
   "outputs": [
    {
     "data": {
      "text/plain": [
       "true"
      ]
     },
     "execution_count": 7,
     "metadata": {},
     "output_type": "execute_result"
    }
   ],
   "source": [
    "(6 isa Int64) && (6 isa Real)"
   ]
  },
  {
   "cell_type": "code",
   "execution_count": 8,
   "metadata": {},
   "outputs": [
    {
     "data": {
      "text/plain": [
       "true"
      ]
     },
     "execution_count": 8,
     "metadata": {},
     "output_type": "execute_result"
    }
   ],
   "source": [
    "1 == 1.0"
   ]
  },
  {
   "cell_type": "code",
   "execution_count": 9,
   "metadata": {},
   "outputs": [
    {
     "data": {
      "text/plain": [
       "round_number (generic function with 2 methods)"
      ]
     },
     "execution_count": 9,
     "metadata": {},
     "output_type": "execute_result"
    }
   ],
   "source": [
    "function round_number(x::Float64)\n",
    "    return round(x)\n",
    "end\n",
    "function round_number(x::Int64)\n",
    "    return x\n",
    "end"
   ]
  },
  {
   "cell_type": "code",
   "execution_count": 10,
   "metadata": {},
   "outputs": [
    {
     "data": {
      "text/html": [
       "# 2 methods for generic function <b>round_number</b>:<ul><li> round_number(x::<b>Float64</b>) in Main at In[9]:1</li> <li> round_number(x::<b>Int64</b>) in Main at In[9]:4</li> </ul>"
      ],
      "text/plain": [
       "# 2 methods for generic function \"round_number\":\n",
       "[1] round_number(x::Float64) in Main at In[9]:1\n",
       "[2] round_number(x::Int64) in Main at In[9]:4"
      ]
     },
     "execution_count": 10,
     "metadata": {},
     "output_type": "execute_result"
    }
   ],
   "source": [
    "methods(round_number)"
   ]
  },
  {
   "cell_type": "code",
   "execution_count": 11,
   "metadata": {},
   "outputs": [
    {
     "data": {
      "text/plain": [
       "round_number (generic function with 3 methods)"
      ]
     },
     "execution_count": 11,
     "metadata": {},
     "output_type": "execute_result"
    }
   ],
   "source": [
    "function round_number(x::AbstractFloat)\n",
    "    return round(x)\n",
    "end"
   ]
  },
  {
   "cell_type": "code",
   "execution_count": 12,
   "metadata": {},
   "outputs": [
    {
     "data": {
      "text/plain": [
       "1.0f0"
      ]
     },
     "execution_count": 12,
     "metadata": {},
     "output_type": "execute_result"
    }
   ],
   "source": [
    "x_32 = Float32(1.1)\n",
    "round_number(x_32)"
   ]
  },
  {
   "cell_type": "code",
   "execution_count": 13,
   "metadata": {},
   "outputs": [],
   "source": [
    "Base.show(io::IO, l::Language) = print(\n",
    "    io, l.name, \" \",\n",
    "    2021 - l.year_of_birth, \", years old, \",\n",
    "    \"has the following titles: \", l.title\n",
    ")"
   ]
  },
  {
   "cell_type": "code",
   "execution_count": 14,
   "metadata": {},
   "outputs": [
    {
     "data": {
      "text/plain": [
       "Julia 9, years old, has the following titles: Rapidus"
      ]
     },
     "execution_count": 14,
     "metadata": {},
     "output_type": "execute_result"
    }
   ],
   "source": [
    "julia"
   ]
  },
  {
   "cell_type": "code",
   "execution_count": 17,
   "metadata": {},
   "outputs": [
    {
     "data": {
      "text/plain": [
       "add_multiply (generic function with 1 method)"
      ]
     },
     "execution_count": 17,
     "metadata": {},
     "output_type": "execute_result"
    }
   ],
   "source": [
    "function add_multiply(x, y)\n",
    "    addition = x + y\n",
    "    multiplication = x * y\n",
    "    return addition, multiplication\n",
    "end"
   ]
  },
  {
   "cell_type": "code",
   "execution_count": 18,
   "metadata": {},
   "outputs": [
    {
     "data": {
      "text/plain": [
       "(3, 2)"
      ]
     },
     "execution_count": 18,
     "metadata": {},
     "output_type": "execute_result"
    }
   ],
   "source": [
    "return_1, return_2 = add_multiply(1, 2)"
   ]
  },
  {
   "cell_type": "code",
   "execution_count": 44,
   "metadata": {},
   "outputs": [],
   "source": []
  }
 ],
 "metadata": {
  "kernelspec": {
   "display_name": "Julia 1.6.3",
   "language": "julia",
   "name": "julia-1.6"
  },
  "language_info": {
   "file_extension": ".jl",
   "mimetype": "application/julia",
   "name": "julia",
   "version": "1.6.3"
  }
 },
 "nbformat": 4,
 "nbformat_minor": 4
}
