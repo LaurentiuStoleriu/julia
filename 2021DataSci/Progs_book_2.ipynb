{
 "cells": [
  {
   "cell_type": "code",
   "execution_count": 54,
   "metadata": {},
   "outputs": [
    {
     "data": {
      "text/plain": [
       "Int64"
      ]
     },
     "metadata": {},
     "output_type": "display_data"
    }
   ],
   "source": [
    "age = 10\n",
    "typeof(age)"
   ]
  },
  {
   "cell_type": "code",
   "execution_count": 55,
   "metadata": {},
   "outputs": [
    {
     "data": {
      "text/html": [
       "5-element Vector{Method}:<ul><li> (::<b>Type{T}</b>)(x::<b>AbstractChar</b>)<i> where T<:Union{AbstractChar, Number}</i> in Base at <a href=\"https://github.com/JuliaLang/julia/tree/ae8452a9e0b973991c30f27beb2201db1b0ea0d3/base/char.jl#L50\" target=\"_blank\">char.jl:50</a><li> (::<b>Type{T}</b>)(x::<b>BigInt</b>)<i> where T<:Union{Int128, Int16, Int32, Int64, Int8}</i> in Base.GMP at <a href=\"https://github.com/JuliaLang/julia/tree/ae8452a9e0b973991c30f27beb2201db1b0ea0d3/base/gmp.jl#L356\" target=\"_blank\">gmp.jl:356</a><li> (::<b>Type{T}</b>)(x::<b>Base.TwicePrecision</b>)<i> where T<:Number</i> in Base at <a href=\"https://github.com/JuliaLang/julia/tree/ae8452a9e0b973991c30f27beb2201db1b0ea0d3/base/twiceprecision.jl#L243\" target=\"_blank\">twiceprecision.jl:243</a><li> (::<b>Type{T}</b>)(z::<b>Complex</b>)<i> where T<:Real</i> in Base at <a href=\"https://github.com/JuliaLang/julia/tree/ae8452a9e0b973991c30f27beb2201db1b0ea0d3/base/complex.jl#L37\" target=\"_blank\">complex.jl:37</a><li> (::<b>Type{T}</b>)(x::<b>Rational</b>)<i> where T<:Integer</i> in Base at <a href=\"https://github.com/JuliaLang/julia/tree/ae8452a9e0b973991c30f27beb2201db1b0ea0d3/base/rational.jl#L110\" target=\"_blank\">rational.jl:110</a></ul>"
      ],
      "text/plain": [
       "[1] (::Type{T})(x::AbstractChar) where T<:Union{AbstractChar, Number} in Base at char.jl:50\n",
       "[2] (::Type{T})(x::BigInt) where T<:Union{Int128, Int16, Int32, Int64, Int8} in Base.GMP at gmp.jl:356\n",
       "[3] (::Type{T})(x::Base.TwicePrecision) where T<:Number in Base at twiceprecision.jl:243\n",
       "[4] (::Type{T})(z::Complex) where T<:Real in Base at complex.jl:37\n",
       "[5] (::Type{T})(x::Rational) where T<:Integer in Base at rational.jl:110"
      ]
     },
     "metadata": {},
     "output_type": "display_data"
    }
   ],
   "source": [
    "first(methods(Int64), 5)  #  numai in REPL"
   ]
  },
  {
   "cell_type": "code",
   "execution_count": 56,
   "metadata": {},
   "outputs": [],
   "source": [
    "struct Language\n",
    "    name::String\n",
    "    title::String\n",
    "    year_of_birth::Int64\n",
    "    fast::Bool\n",
    "end"
   ]
  },
  {
   "cell_type": "code",
   "execution_count": 57,
   "metadata": {},
   "outputs": [
    {
     "data": {
      "text/plain": [
       "(:name, :title, :year_of_birth, :fast)"
      ]
     },
     "metadata": {},
     "output_type": "display_data"
    }
   ],
   "source": [
    "fieldnames(Language)   # numai in REPL"
   ]
  },
  {
   "cell_type": "code",
   "execution_count": 58,
   "metadata": {},
   "outputs": [
    {
     "data": {
      "text/plain": [
       "Python 30, years old, has the following titles: Letargicus"
      ]
     },
     "metadata": {},
     "output_type": "display_data"
    }
   ],
   "source": [
    "julia = Language(\"Julia\", \"Rapidus\", 2012, true)\n",
    "python = Language(\"Python\", \"Letargicus\", 1991, false)"
   ]
  },
  {
   "cell_type": "code",
   "execution_count": 59,
   "metadata": {},
   "outputs": [
    {
     "data": {
      "text/plain": [
       "true"
      ]
     },
     "metadata": {},
     "output_type": "display_data"
    }
   ],
   "source": [
    "(6 isa Int64) && (6 isa Real)"
   ]
  },
  {
   "cell_type": "code",
   "execution_count": 60,
   "metadata": {},
   "outputs": [
    {
     "data": {
      "text/plain": [
       "true"
      ]
     },
     "metadata": {},
     "output_type": "display_data"
    }
   ],
   "source": [
    "1 == 1.0"
   ]
  },
  {
   "cell_type": "code",
   "execution_count": 61,
   "metadata": {},
   "outputs": [
    {
     "data": {
      "text/plain": [
       "round_number (generic function with 3 methods)"
      ]
     },
     "metadata": {},
     "output_type": "display_data"
    }
   ],
   "source": [
    "function round_number(x::Float64)\n",
    "    return round(x)\n",
    "end\n",
    "function round_number(x::Int64)\n",
    "    return x\n",
    "end"
   ]
  },
  {
   "cell_type": "code",
   "execution_count": 62,
   "metadata": {},
   "outputs": [
    {
     "data": {
      "text/html": [
       "# 3 methods for generic function <b>round_number</b>:<ul><li> round_number(x::<b>Float64</b>) in Main at <a href=\"https://github.com/LaurentiuStoleriu/julia/tree/2f70aaadf3b66059d623d6b3d7a4ca1a23d81b44//2021DataSci/Progs_book_2.ipynb#L1\" target=\"_blank\">/home/lali/TITAN-ROG-sync/julia/2021DataSci/Progs_book_2.ipynb:1</a></li> <li> round_number(x::<b>AbstractFloat</b>) in Main at <a href=\"https://github.com/LaurentiuStoleriu/julia/tree/2f70aaadf3b66059d623d6b3d7a4ca1a23d81b44//2021DataSci/Progs_book_2.ipynb#L1\" target=\"_blank\">/home/lali/TITAN-ROG-sync/julia/2021DataSci/Progs_book_2.ipynb:1</a></li> <li> round_number(x::<b>Int64</b>) in Main at <a href=\"https://github.com/LaurentiuStoleriu/julia/tree/2f70aaadf3b66059d623d6b3d7a4ca1a23d81b44//2021DataSci/Progs_book_2.ipynb#L4\" target=\"_blank\">/home/lali/TITAN-ROG-sync/julia/2021DataSci/Progs_book_2.ipynb:4</a></li> </ul>"
      ],
      "text/plain": [
       "# 3 methods for generic function \"round_number\":\n",
       "[1] round_number(x::Float64) in Main at /home/lali/TITAN-ROG-sync/julia/2021DataSci/Progs_book_2.ipynb:1\n",
       "[2] round_number(x::AbstractFloat) in Main at /home/lali/TITAN-ROG-sync/julia/2021DataSci/Progs_book_2.ipynb:1\n",
       "[3] round_number(x::Int64) in Main at /home/lali/TITAN-ROG-sync/julia/2021DataSci/Progs_book_2.ipynb:4"
      ]
     },
     "metadata": {},
     "output_type": "display_data"
    }
   ],
   "source": [
    "methods(round_number)"
   ]
  },
  {
   "cell_type": "code",
   "execution_count": 63,
   "metadata": {},
   "outputs": [
    {
     "data": {
      "text/plain": [
       "round_number (generic function with 3 methods)"
      ]
     },
     "metadata": {},
     "output_type": "display_data"
    }
   ],
   "source": [
    "function round_number(x::AbstractFloat)\n",
    "    return round(x)\n",
    "end"
   ]
  },
  {
   "cell_type": "code",
   "execution_count": 64,
   "metadata": {},
   "outputs": [
    {
     "data": {
      "text/plain": [
       "1.0f0"
      ]
     },
     "metadata": {},
     "output_type": "display_data"
    }
   ],
   "source": [
    "x_32 = Float32(1.1)\n",
    "round_number(x_32)"
   ]
  },
  {
   "cell_type": "code",
   "execution_count": 65,
   "metadata": {},
   "outputs": [],
   "source": [
    "Base.show(io::IO, l::Language) = print(\n",
    "    io, l.name, \" \",\n",
    "    2021 - l.year_of_birth, \", years old, \",\n",
    "    \"has the following titles: \", l.title\n",
    ")"
   ]
  },
  {
   "cell_type": "code",
   "execution_count": 66,
   "metadata": {},
   "outputs": [
    {
     "data": {
      "text/plain": [
       "Julia 9, years old, has the following titles: Rapidus"
      ]
     },
     "metadata": {},
     "output_type": "display_data"
    }
   ],
   "source": [
    "julia"
   ]
  },
  {
   "cell_type": "code",
   "execution_count": 67,
   "metadata": {},
   "outputs": [
    {
     "data": {
      "text/plain": [
       "add_multiply (generic function with 1 method)"
      ]
     },
     "metadata": {},
     "output_type": "display_data"
    }
   ],
   "source": [
    "function add_multiply(x, y)\n",
    "    addition = x + y\n",
    "    multiplication = x * y\n",
    "    return addition, multiplication\n",
    "end"
   ]
  },
  {
   "cell_type": "code",
   "execution_count": 68,
   "metadata": {},
   "outputs": [
    {
     "data": {
      "text/plain": [
       "(3, 2)"
      ]
     },
     "metadata": {},
     "output_type": "display_data"
    }
   ],
   "source": [
    "return_1, return_2 = add_multiply(1, 2)"
   ]
  },
  {
   "cell_type": "code",
   "execution_count": 69,
   "metadata": {},
   "outputs": [
    {
     "data": {
      "text/plain": [
       "2"
      ]
     },
     "metadata": {},
     "output_type": "display_data"
    }
   ],
   "source": [
    "all_returns = add_multiply(1, 2)\n",
    "last(all_returns)"
   ]
  },
  {
   "cell_type": "code",
   "execution_count": 70,
   "metadata": {},
   "outputs": [
    {
     "data": {
      "text/plain": [
       "logarithm (generic function with 1 method)"
      ]
     },
     "metadata": {},
     "output_type": "display_data"
    }
   ],
   "source": [
    "function logarithm(x::Real; base::Real=2.7182818284590)\n",
    "    return log(base, x)\n",
    "end"
   ]
  },
  {
   "cell_type": "code",
   "execution_count": 71,
   "metadata": {},
   "outputs": [
    {
     "data": {
      "text/plain": [
       "2.3025850929940845"
      ]
     },
     "metadata": {},
     "output_type": "display_data"
    }
   ],
   "source": [
    "logarithm(10)"
   ]
  },
  {
   "cell_type": "code",
   "execution_count": 72,
   "metadata": {},
   "outputs": [
    {
     "data": {
      "text/plain": [
       "3.3219280948873626"
      ]
     },
     "metadata": {},
     "output_type": "display_data"
    }
   ],
   "source": [
    "logarithm(10; base=2)"
   ]
  },
  {
   "cell_type": "code",
   "execution_count": 73,
   "metadata": {},
   "outputs": [
    {
     "name": "stdout",
     "output_type": "stream",
     "text": [
      "1\n",
      "2\n",
      "3\n",
      "4\n",
      "5\n",
      "6\n",
      "7\n",
      "8\n",
      "9\n",
      "10\n"
     ]
    }
   ],
   "source": [
    "for i in 1:10\n",
    "    println(i)\n",
    "end"
   ]
  },
  {
   "cell_type": "code",
   "execution_count": 74,
   "metadata": {},
   "outputs": [
    {
     "data": {
      "text/plain": [
       "3"
      ]
     },
     "metadata": {},
     "output_type": "display_data"
    }
   ],
   "source": [
    "n = 0\n",
    "while n < 3\n",
    "    global n += 1\n",
    "end\n",
    "n"
   ]
  },
  {
   "cell_type": "code",
   "execution_count": 93,
   "metadata": {},
   "outputs": [
    {
     "data": {
      "text/html": [
       "5-element Vector{Method}:<ul><li> String(s::<b>String</b>) in Core at <a href=\"file:///home/lali/julia-1.6.3/share/julia/base/boot.jl\" target=\"_blank\">boot.jl:350</a><li> String(v::<b>Vector{UInt8}</b>) in Base at <a href=\"https://github.com/JuliaLang/julia/tree/ae8452a9e0b973991c30f27beb2201db1b0ea0d3/base/strings/string.jl#L53\" target=\"_blank\">strings/string.jl:53</a><li> String(s::<b>Symbol</b>) in Base at <a href=\"https://github.com/JuliaLang/julia/tree/ae8452a9e0b973991c30f27beb2201db1b0ea0d3/base/strings/string.jl#L83\" target=\"_blank\">strings/string.jl:83</a><li> String(s::<b>Base.CodeUnits{UInt8, String}</b>) in Base at <a href=\"https://github.com/JuliaLang/julia/tree/ae8452a9e0b973991c30f27beb2201db1b0ea0d3/base/strings/string.jl#L91\" target=\"_blank\">strings/string.jl:91</a><li> String(v::<b>AbstractVector{UInt8}</b>) in Base at <a href=\"https://github.com/JuliaLang/julia/tree/ae8452a9e0b973991c30f27beb2201db1b0ea0d3/base/strings/string.jl#L52\" target=\"_blank\">strings/string.jl:52</a></ul>"
      ],
      "text/plain": [
       "[1] String(s::String) in Core at boot.jl:350\n",
       "[2] String(v::Vector{UInt8}) in Base at strings/string.jl:53\n",
       "[3] String(s::Symbol) in Base at strings/string.jl:83\n",
       "[4] String(s::Base.CodeUnits{UInt8, String}) in Base at strings/string.jl:91\n",
       "[5] String(v::AbstractVector{UInt8}) in Base at strings/string.jl:52"
      ]
     },
     "metadata": {},
     "output_type": "display_data"
    }
   ],
   "source": [
    "first(methods(String), 5)  # REPL"
   ]
  },
  {
   "cell_type": "code",
   "execution_count": 76,
   "metadata": {},
   "outputs": [
    {
     "data": {
      "text/plain": [
       "3-element Vector{Float64}:\n",
       " 0.0\n",
       " 0.6931471805599569\n",
       " 1.0986122886681282"
      ]
     },
     "metadata": {},
     "output_type": "display_data"
    }
   ],
   "source": [
    "logarithm.([1, 2, 3])"
   ]
  },
  {
   "cell_type": "code",
   "execution_count": 77,
   "metadata": {},
   "outputs": [
    {
     "data": {
      "text/plain": [
       "\"Hello Goodbye\""
      ]
     },
     "metadata": {},
     "output_type": "display_data"
    }
   ],
   "source": [
    "hello = \"Hello\"\n",
    "goodbye = \"Goodbye\"\n",
    "hello * goodbye\n",
    "join([hello, goodbye], \" \")"
   ]
  },
  {
   "cell_type": "code",
   "execution_count": 78,
   "metadata": {},
   "outputs": [
    {
     "data": {
      "text/plain": [
       "\"Hello Goodbye\""
      ]
     },
     "metadata": {},
     "output_type": "display_data"
    }
   ],
   "source": [
    "\"$hello $goodbye\""
   ]
  },
  {
   "cell_type": "code",
   "execution_count": 79,
   "metadata": {},
   "outputs": [
    {
     "data": {
      "text/plain": [
       "false"
      ]
     },
     "metadata": {},
     "output_type": "display_data"
    }
   ],
   "source": [
    "julia_string = \"Julia is an amazing opensource programming language\"\n",
    "occursin(\"Julia\", julia_string)\n",
    "startswith(\"Julia\", julia_string)\n",
    "endswith(\"Julia\", julia_string)"
   ]
  },
  {
   "cell_type": "code",
   "execution_count": 80,
   "metadata": {},
   "outputs": [
    {
     "data": {
      "text/plain": [
       "7-element Vector{SubString{String}}:\n",
       " \"Julia\"\n",
       " \"is\"\n",
       " \"an\"\n",
       " \"amazing\"\n",
       " \"opensource\"\n",
       " \"programming\"\n",
       " \"language\""
      ]
     },
     "metadata": {},
     "output_type": "display_data"
    }
   ],
   "source": [
    "split(julia_string, \" \")"
   ]
  },
  {
   "cell_type": "code",
   "execution_count": 81,
   "metadata": {},
   "outputs": [
    {
     "data": {
      "text/plain": [
       "Int64"
      ]
     },
     "metadata": {},
     "output_type": "display_data"
    }
   ],
   "source": [
    "typeof(tryparse(Int64, \"123\"))"
   ]
  },
  {
   "cell_type": "code",
   "execution_count": 82,
   "metadata": {},
   "outputs": [
    {
     "data": {
      "text/plain": [
       "Nothing"
      ]
     },
     "metadata": {},
     "output_type": "display_data"
    }
   ],
   "source": [
    "typeof(tryparse(Int64, \"abc\"))"
   ]
  },
  {
   "cell_type": "code",
   "execution_count": 83,
   "metadata": {},
   "outputs": [
    {
     "data": {
      "text/plain": [
       "Tuple{Int64, Int64}"
      ]
     },
     "metadata": {},
     "output_type": "display_data"
    }
   ],
   "source": [
    "return_multiple = add_multiply(1, 2)\n",
    "typeof(return_multiple)"
   ]
  },
  {
   "cell_type": "code",
   "execution_count": 84,
   "metadata": {},
   "outputs": [
    {
     "data": {
      "text/plain": [
       "10-element Vector{Int64}:\n",
       "  1\n",
       "  2\n",
       "  3\n",
       "  4\n",
       "  5\n",
       "  6\n",
       "  7\n",
       "  8\n",
       "  9\n",
       " 10"
      ]
     },
     "metadata": {},
     "output_type": "display_data"
    }
   ],
   "source": [
    "[x for x in 1:10]"
   ]
  },
  {
   "cell_type": "code",
   "execution_count": 85,
   "metadata": {},
   "outputs": [
    {
     "data": {
      "text/plain": [
       "6-element Vector{Float64}:\n",
       " 0.0\n",
       " 0.2\n",
       " 0.4\n",
       " 0.6\n",
       " 0.8\n",
       " 1.0"
      ]
     },
     "metadata": {},
     "output_type": "display_data"
    }
   ],
   "source": [
    "[x for x in 0.0:0.2:1.0]"
   ]
  },
  {
   "cell_type": "code",
   "execution_count": 86,
   "metadata": {},
   "outputs": [
    {
     "data": {
      "text/plain": [
       "10-element Vector{Float64}:\n",
       " 1.909796212e-313\n",
       " 2.33419537056e-313\n",
       " 3.39519326624e-313\n",
       " 3.8195924246e-313\n",
       " 4.03179200293e-313\n",
       " 4.243991592e-314\n",
       " 4.243991583e-314\n",
       " 2.121995792e-314\n",
       " 5.0e-324\n",
       " 0.0"
      ]
     },
     "metadata": {},
     "output_type": "display_data"
    }
   ],
   "source": [
    "my_vector = Vector{Float64}(undef, 10)"
   ]
  },
  {
   "cell_type": "code",
   "execution_count": 87,
   "metadata": {},
   "outputs": [
    {
     "data": {
      "text/plain": [
       "3×3 Matrix{Float64}:\n",
       " 6.93771e-310  6.93771e-310  6.93771e-310\n",
       " 6.93771e-310  6.93771e-310  6.93771e-310\n",
       " 6.93771e-310  6.93771e-310  6.93771e-310"
      ]
     },
     "metadata": {},
     "output_type": "display_data"
    }
   ],
   "source": [
    "my_matrix = Matrix{Float64}(undef, 3, 3)"
   ]
  },
  {
   "cell_type": "code",
   "execution_count": 88,
   "metadata": {},
   "outputs": [
    {
     "data": {
      "text/plain": [
       "3-element Vector{Float64}:\n",
       " 0.0\n",
       " 0.0\n",
       " 0.0"
      ]
     },
     "metadata": {},
     "output_type": "display_data"
    }
   ],
   "source": [
    "my_vector_zeros = zeros(3)"
   ]
  },
  {
   "cell_type": "code",
   "execution_count": 89,
   "metadata": {},
   "outputs": [
    {
     "data": {
      "text/plain": [
       "3×3 Matrix{Float64}:\n",
       " 1.0  1.0  1.0\n",
       " 1.0  1.0  1.0\n",
       " 1.0  1.0  1.0"
      ]
     },
     "metadata": {},
     "output_type": "display_data"
    }
   ],
   "source": [
    "my_matrix_ones = ones(3, 3)"
   ]
  },
  {
   "cell_type": "code",
   "execution_count": 90,
   "metadata": {},
   "outputs": [
    {
     "data": {
      "text/plain": [
       "2×2 Matrix{Float64}:\n",
       " 3.14  3.14\n",
       " 3.14  3.14"
      ]
     },
     "metadata": {},
     "output_type": "display_data"
    }
   ],
   "source": [
    "my_matrix_π = Matrix{Float64}(undef, 2, 2)\n",
    "fill!(my_matrix_π, 3.14)"
   ]
  },
  {
   "cell_type": "code",
   "execution_count": 91,
   "metadata": {},
   "outputs": [
    {
     "data": {
      "text/plain": [
       "3-element Vector{Int64}:\n",
       " 1\n",
       " 2\n",
       " 2"
      ]
     },
     "metadata": {},
     "output_type": "display_data"
    }
   ],
   "source": [
    "first([x*y for x in 1:5 for y in 1:2], 3)"
   ]
  },
  {
   "cell_type": "code",
   "execution_count": 92,
   "metadata": {},
   "outputs": [],
   "source": []
  }
 ],
 "metadata": {
  "kernelspec": {
   "display_name": "Julia 1.6.3",
   "language": "julia",
   "name": "julia-1.6"
  },
  "language_info": {
   "file_extension": ".jl",
   "mimetype": "application/julia",
   "name": "julia",
   "version": "1.6.3"
  }
 },
 "nbformat": 4,
 "nbformat_minor": 4
}
