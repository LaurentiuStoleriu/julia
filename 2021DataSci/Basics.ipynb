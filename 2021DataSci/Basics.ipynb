{
 "cells": [
  {
   "cell_type": "code",
   "execution_count": null,
   "id": "14209eb4",
   "metadata": {},
   "outputs": [],
   "source": [
    "nums=[1, 2, 3]"
   ]
  },
  {
   "cell_type": "code",
   "execution_count": null,
   "id": "3404fd1d",
   "metadata": {},
   "outputs": [],
   "source": [
    "nums"
   ]
  },
  {
   "cell_type": "code",
   "execution_count": null,
   "id": "26fb9f0c",
   "metadata": {},
   "outputs": [],
   "source": [
    "my_num = nums[1]"
   ]
  },
  {
   "cell_type": "code",
   "execution_count": null,
   "id": "fcc81e57",
   "metadata": {},
   "outputs": [],
   "source": [
    "typeof(my_num)"
   ]
  },
  {
   "cell_type": "code",
   "execution_count": 1,
   "id": "a0ee0fed",
   "metadata": {},
   "outputs": [
    {
     "name": "stdout",
     "output_type": "stream",
     "text": [
      "2.0152\n"
     ]
    }
   ],
   "source": [
    "v₀ = 7      # m/s\n",
    "g = 9.81    # m/s²\n",
    "t = 0.4     # s\n",
    "\n",
    "y = v₀ * t - g * t^2 / 2     #y = v₀*t - g*t²/2\n",
    "\n",
    "println(y)"
   ]
  },
  {
   "cell_type": "code",
   "execution_count": 2,
   "id": "2ba6e333",
   "metadata": {},
   "outputs": [],
   "source": [
    "using Unitful"
   ]
  },
  {
   "cell_type": "code",
   "execution_count": 3,
   "id": "2cc56e72",
   "metadata": {},
   "outputs": [
    {
     "data": {
      "text/plain": [
       "1 km"
      ]
     },
     "metadata": {},
     "output_type": "display_data"
    }
   ],
   "source": [
    "dist_km = 1u\"km\""
   ]
  },
  {
   "cell_type": "code",
   "execution_count": 4,
   "id": "25c3af3a",
   "metadata": {},
   "outputs": [
    {
     "data": {
      "text/plain": [
       "1000 m"
      ]
     },
     "metadata": {},
     "output_type": "display_data"
    }
   ],
   "source": [
    "dist_m = uconvert(u\"m\", dist_km)"
   ]
  },
  {
   "cell_type": "code",
   "execution_count": 5,
   "id": "bc531d9e",
   "metadata": {},
   "outputs": [
    {
     "data": {
      "text/plain": [
       "5.0 m s^-1"
      ]
     },
     "metadata": {},
     "output_type": "display_data"
    }
   ],
   "source": [
    "Δx = 10u\"m\"\n",
    "Δt = 2u\"s\"\n",
    "v = Δx / Δt"
   ]
  },
  {
   "cell_type": "code",
   "execution_count": null,
   "id": "12145e2f",
   "metadata": {},
   "outputs": [],
   "source": []
  }
 ],
 "metadata": {
  "kernelspec": {
   "display_name": "Julia 1.10.0",
   "language": "julia",
   "name": "julia-1.10"
  },
  "language_info": {
   "file_extension": ".jl",
   "mimetype": "application/julia",
   "name": "julia",
   "version": "1.10.0"
  }
 },
 "nbformat": 4,
 "nbformat_minor": 5
}
