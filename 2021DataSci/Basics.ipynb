{
 "cells": [
  {
   "cell_type": "code",
   "execution_count": 1,
   "id": "14209eb4",
   "metadata": {},
   "outputs": [
    {
     "data": {
      "text/plain": [
       "3-element Vector{Int64}:\n",
       " 1\n",
       " 2\n",
       " 3"
      ]
     },
     "metadata": {},
     "output_type": "display_data"
    }
   ],
   "source": [
    "nums=[1, 2, 3]"
   ]
  },
  {
   "cell_type": "code",
   "execution_count": 2,
   "id": "3404fd1d",
   "metadata": {},
   "outputs": [
    {
     "data": {
      "text/plain": [
       "3-element Vector{Int64}:\n",
       " 1\n",
       " 2\n",
       " 3"
      ]
     },
     "metadata": {},
     "output_type": "display_data"
    }
   ],
   "source": [
    "nums"
   ]
  },
  {
   "cell_type": "code",
   "execution_count": 3,
   "id": "26fb9f0c",
   "metadata": {},
   "outputs": [
    {
     "data": {
      "text/plain": [
       "1"
      ]
     },
     "metadata": {},
     "output_type": "display_data"
    }
   ],
   "source": [
    "my_num = nums[1]"
   ]
  },
  {
   "cell_type": "code",
   "execution_count": 4,
   "id": "fcc81e57",
   "metadata": {},
   "outputs": [
    {
     "data": {
      "text/plain": [
       "Int64"
      ]
     },
     "metadata": {},
     "output_type": "display_data"
    }
   ],
   "source": [
    "typeof(my_num)"
   ]
  },
  {
   "cell_type": "code",
   "execution_count": 5,
   "id": "a0ee0fed",
   "metadata": {},
   "outputs": [
    {
     "name": "stdout",
     "output_type": "stream",
     "text": [
      "2.0152\n"
     ]
    }
   ],
   "source": [
    "v₀ = 7      # m/s\n",
    "g = 9.81    # m/s²\n",
    "t = 0.4     # s\n",
    "\n",
    "y = v₀ * t - g * t^2 / 2     #y = v₀*t - g*t²/2\n",
    "\n",
    "println(y)"
   ]
  },
  {
   "cell_type": "code",
   "execution_count": 6,
   "id": "2ba6e333",
   "metadata": {},
   "outputs": [],
   "source": [
    "using Unitful"
   ]
  },
  {
   "cell_type": "code",
   "execution_count": 7,
   "id": "2cc56e72",
   "metadata": {},
   "outputs": [
    {
     "data": {
      "text/plain": [
       "1 km"
      ]
     },
     "metadata": {},
     "output_type": "display_data"
    }
   ],
   "source": [
    "dist_km = 1u\"km\""
   ]
  },
  {
   "cell_type": "code",
   "execution_count": 8,
   "id": "25c3af3a",
   "metadata": {},
   "outputs": [
    {
     "data": {
      "text/plain": [
       "1000 m"
      ]
     },
     "metadata": {},
     "output_type": "display_data"
    }
   ],
   "source": [
    "dist_m = uconvert(u\"m\", dist_km)"
   ]
  },
  {
   "cell_type": "code",
   "execution_count": 9,
   "id": "bc531d9e",
   "metadata": {},
   "outputs": [
    {
     "data": {
      "text/plain": [
       "5.0 m s^-1"
      ]
     },
     "metadata": {},
     "output_type": "display_data"
    }
   ],
   "source": [
    "Δx = 10u\"m\"\n",
    "Δt = 2u\"s\"\n",
    "v = Δx / Δt"
   ]
  },
  {
   "cell_type": "code",
   "execution_count": 10,
   "id": "12145e2f",
   "metadata": {},
   "outputs": [
    {
     "data": {
      "text/plain": [
       "412//5 °F"
      ]
     },
     "metadata": {},
     "output_type": "display_data"
    }
   ],
   "source": [
    "28u\"°C\" |> u\"°F\""
   ]
  },
  {
   "cell_type": "code",
   "execution_count": 11,
   "id": "10e60c58",
   "metadata": {},
   "outputs": [],
   "source": [
    "using Plots"
   ]
  },
  {
   "cell_type": "code",
   "execution_count": 12,
   "id": "591d6089",
   "metadata": {},
   "outputs": [
    {
     "data": {
      "text/plain": [
       "y₀ (generic function with 1 method)"
      ]
     },
     "metadata": {},
     "output_type": "display_data"
    }
   ],
   "source": [
    "y₀(t) = v₀ * t - g * t^2 / 2"
   ]
  },
  {
   "cell_type": "code",
   "execution_count": 13,
   "id": "dd1f7561",
   "metadata": {},
   "outputs": [
    {
     "data": {
      "image/png": "[encoded data removed]",
      "image/svg+xml": [
       "<?xml version=\"1.0\" encoding=\"utf-8\"?>\n",
       "<svg xmlns=\"http://www.w3.org/2000/svg\" xmlns:xlink=\"http://www.w3.org/1999/xlink\" width=\"600\" height=\"400\" viewBox=\"0 0 2400 1600\">\n",
       "<defs>\n",
       "  <clipPath id=\"clip500\">\n",
       "    <rect x=\"0\" y=\"0\" width=\"2400\" height=\"1600\"/>\n",
       "  </clipPath>\n",
       "</defs>\n",
       "<path clip-path=\"url(#clip500)\" d=\"M0 1600 L2400 1600 L2400 0 L0 0  Z\" fill=\"#ffffff\" fill-rule=\"evenodd\" fill-opacity=\"1\"/>\n",
       "<defs>\n",
       "  <clipPath id=\"clip501\">\n",
       "    <rect x=\"480\" y=\"0\" width=\"1681\" height=\"1600\"/>\n",
       "  </clipPath>\n",
       "</defs>\n",
       "<path clip-path=\"url(#clip500)\" d=\"M219.38 1423.18 L2352.76 1423.18 L2352.76 47.2441 L219.38 47.2441  Z\" fill=\"#ffffff\" fill-rule=\"evenodd\" fill-opacity=\"1\"/>\n",
       "<defs>\n",
       "  <clipPath id=\"clip502\">\n",
       "    <rect x=\"219\" y=\"47\" width=\"2134\" height=\"1377\"/>\n",
       "  </clipPath>\n",
       "</defs>\n",
       "<polyline clip-path=\"url(#clip502)\" style=\"stroke:#000000; stroke-linecap:round; stroke-linejoin:round; stroke-width:2; stroke-opacity:0.1; fill:none\" points=\"279.759,1423.18 279.759,47.2441 \"/>\n",
       "<polyline clip-path=\"url(#clip502)\" style=\"stroke:#000000; stroke-linecap:round; stroke-linejoin:round; stroke-width:2; stroke-opacity:0.1; fill:none\" points=\"782.913,1423.18 782.913,47.2441 \"/>\n",
       "<polyline clip-path=\"url(#clip502)\" style=\"stroke:#000000; stroke-linecap:round; stroke-linejoin:round; stroke-width:2; stroke-opacity:0.1; fill:none\" points=\"1286.07,1423.18 1286.07,47.2441 \"/>\n",
       "<polyline clip-path=\"url(#clip502)\" style=\"stroke:#000000; stroke-linecap:round; stroke-linejoin:round; stroke-width:2; stroke-opacity:0.1; fill:none\" points=\"1789.22,1423.18 1789.22,47.2441 \"/>\n",
       "<polyline clip-path=\"url(#clip502)\" style=\"stroke:#000000; stroke-linecap:round; stroke-linejoin:round; stroke-width:2; stroke-opacity:0.1; fill:none\" points=\"2292.38,1423.18 2292.38,47.2441 \"/>\n",
       "<polyline clip-path=\"url(#clip502)\" style=\"stroke:#000000; stroke-linecap:round; stroke-linejoin:round; stroke-width:2; stroke-opacity:0.1; fill:none\" points=\"219.38,1384.24 2352.76,1384.24 \"/>\n",
       "<polyline clip-path=\"url(#clip502)\" style=\"stroke:#000000; stroke-linecap:round; stroke-linejoin:round; stroke-width:2; stroke-opacity:0.1; fill:none\" points=\"219.38,1062.17 2352.76,1062.17 \"/>\n",
       "<polyline clip-path=\"url(#clip502)\" style=\"stroke:#000000; stroke-linecap:round; stroke-linejoin:round; stroke-width:2; stroke-opacity:0.1; fill:none\" points=\"219.38,740.107 2352.76,740.107 \"/>\n",
       "<polyline clip-path=\"url(#clip502)\" style=\"stroke:#000000; stroke-linecap:round; stroke-linejoin:round; stroke-width:2; stroke-opacity:0.1; fill:none\" points=\"219.38,418.042 2352.76,418.042 \"/>\n",
       "<polyline clip-path=\"url(#clip502)\" style=\"stroke:#000000; stroke-linecap:round; stroke-linejoin:round; stroke-width:2; stroke-opacity:0.1; fill:none\" points=\"219.38,95.9765 2352.76,95.9765 \"/>\n",
       "<polyline clip-path=\"url(#clip500)\" style=\"stroke:#000000; stroke-linecap:round; stroke-linejoin:round; stroke-width:4; stroke-opacity:1; fill:none\" points=\"219.38,1423.18 2352.76,1423.18 \"/>\n",
       "<polyline clip-path=\"url(#clip500)\" style=\"stroke:#000000; stroke-linecap:round; stroke-linejoin:round; stroke-width:4; stroke-opacity:1; fill:none\" points=\"279.759,1423.18 279.759,1404.28 \"/>\n",
       "<polyline clip-path=\"url(#clip500)\" style=\"stroke:#000000; stroke-linecap:round; stroke-linejoin:round; stroke-width:4; stroke-opacity:1; fill:none\" points=\"782.913,1423.18 782.913,1404.28 \"/>\n",
       "<polyline clip-path=\"url(#clip500)\" style=\"stroke:#000000; stroke-linecap:round; stroke-linejoin:round; stroke-width:4; stroke-opacity:1; fill:none\" points=\"1286.07,1423.18 1286.07,1404.28 \"/>\n",
       "<polyline clip-path=\"url(#clip500)\" style=\"stroke:#000000; stroke-linecap:round; stroke-linejoin:round; stroke-width:4; stroke-opacity:1; fill:none\" points=\"1789.22,1423.18 1789.22,1404.28 \"/>\n",
       "<polyline clip-path=\"url(#clip500)\" style=\"stroke:#000000; stroke-linecap:round; stroke-linejoin:round; stroke-width:4; stroke-opacity:1; fill:none\" points=\"2292.38,1423.18 2292.38,1404.28 \"/>\n",
       "<path clip-path=\"url(#clip500)\" d=\"M257.143 1454.1 Q253.532 1454.1 251.703 1457.66 Q249.898 1461.2 249.898 1468.33 Q249.898 1475.44 251.703 1479.01 Q253.532 1482.55 257.143 1482.55 Q260.777 1482.55 262.583 1479.01 Q264.412 1475.44 264.412 1468.33 Q264.412 1461.2 262.583 1457.66 Q260.777 1454.1 257.143 1454.1 M257.143 1450.39 Q262.953 1450.39 266.009 1455 Q269.087 1459.58 269.087 1468.33 Q269.087 1477.06 266.009 1481.67 Q262.953 1486.25 257.143 1486.25 Q251.333 1486.25 248.254 1481.67 Q245.199 1477.06 245.199 1468.33 Q245.199 1459.58 248.254 1455 Q251.333 1450.39 257.143 1450.39 Z\" fill=\"#000000\" fill-rule=\"nonzero\" fill-opacity=\"1\" /><path clip-path=\"url(#clip500)\" d=\"M277.305 1479.7 L282.189 1479.7 L282.189 1485.58 L277.305 1485.58 L277.305 1479.7 Z\" fill=\"#000000\" fill-rule=\"nonzero\" fill-opacity=\"1\" /><path clip-path=\"url(#clip500)\" d=\"M302.374 1454.1 Q298.763 1454.1 296.935 1457.66 Q295.129 1461.2 295.129 1468.33 Q295.129 1475.44 296.935 1479.01 Q298.763 1482.55 302.374 1482.55 Q306.009 1482.55 307.814 1479.01 Q309.643 1475.44 309.643 1468.33 Q309.643 1461.2 307.814 1457.66 Q306.009 1454.1 302.374 1454.1 M302.374 1450.39 Q308.184 1450.39 311.24 1455 Q314.319 1459.58 314.319 1468.33 Q314.319 1477.06 311.24 1481.67 Q308.184 1486.25 302.374 1486.25 Q296.564 1486.25 293.485 1481.67 Q290.43 1477.06 290.43 1468.33 Q290.43 1459.58 293.485 1455 Q296.564 1450.39 302.374 1450.39 Z\" fill=\"#000000\" fill-rule=\"nonzero\" fill-opacity=\"1\" /><path clip-path=\"url(#clip500)\" d=\"M760.911 1454.1 Q757.3 1454.1 755.471 1457.66 Q753.666 1461.2 753.666 1468.33 Q753.666 1475.44 755.471 1479.01 Q757.3 1482.55 760.911 1482.55 Q764.545 1482.55 766.351 1479.01 Q768.18 1475.44 768.18 1468.33 Q768.18 1461.2 766.351 1457.66 Q764.545 1454.1 760.911 1454.1 M760.911 1450.39 Q766.721 1450.39 769.777 1455 Q772.856 1459.58 772.856 1468.33 Q772.856 1477.06 769.777 1481.67 Q766.721 1486.25 760.911 1486.25 Q755.101 1486.25 752.022 1481.67 Q748.967 1477.06 748.967 1468.33 Q748.967 1459.58 752.022 1455 Q755.101 1450.39 760.911 1450.39 Z\" fill=\"#000000\" fill-rule=\"nonzero\" fill-opacity=\"1\" /><path clip-path=\"url(#clip500)\" d=\"M781.073 1479.7 L785.957 1479.7 L785.957 1485.58 L781.073 1485.58 L781.073 1479.7 Z\" fill=\"#000000\" fill-rule=\"nonzero\" fill-opacity=\"1\" /><path clip-path=\"url(#clip500)\" d=\"M796.953 1481.64 L804.591 1481.64 L804.591 1455.28 L796.281 1456.95 L796.281 1452.69 L804.545 1451.02 L809.221 1451.02 L809.221 1481.64 L816.86 1481.64 L816.86 1485.58 L796.953 1485.58 L796.953 1481.64 Z\" fill=\"#000000\" fill-rule=\"nonzero\" fill-opacity=\"1\" /><path clip-path=\"url(#clip500)\" d=\"M1264.25 1454.1 Q1260.64 1454.1 1258.81 1457.66 Q1257.01 1461.2 1257.01 1468.33 Q1257.01 1475.44 1258.81 1479.01 Q1260.64 1482.55 1264.25 1482.55 Q1267.89 1482.55 1269.69 1479.01 Q1271.52 1475.44 1271.52 1468.33 Q1271.52 1461.2 1269.69 1457.66 Q1267.89 1454.1 1264.25 1454.1 M1264.25 1450.39 Q1270.06 1450.39 1273.12 1455 Q1276.2 1459.58 1276.2 1468.33 Q1276.2 1477.06 1273.12 1481.67 Q1270.06 1486.25 1264.25 1486.25 Q1258.44 1486.25 1255.36 1481.67 Q1252.31 1477.06 1252.31 1468.33 Q1252.31 1459.58 1255.36 1455 Q1258.44 1450.39 1264.25 1450.39 Z\" fill=\"#000000\" fill-rule=\"nonzero\" fill-opacity=\"1\" /><path clip-path=\"url(#clip500)\" d=\"M1284.41 1479.7 L1289.3 1479.7 L1289.3 1485.58 L1284.41 1485.58 L1284.41 1479.7 Z\" fill=\"#000000\" fill-rule=\"nonzero\" fill-opacity=\"1\" /><path clip-path=\"url(#clip500)\" d=\"M1303.51 1481.64 L1319.83 1481.64 L1319.83 1485.58 L1297.89 1485.58 L1297.89 1481.64 Q1300.55 1478.89 1305.13 1474.26 Q1309.74 1469.61 1310.92 1468.27 Q1313.16 1465.74 1314.04 1464.01 Q1314.95 1462.25 1314.95 1460.56 Q1314.95 1457.8 1313 1456.07 Q1311.08 1454.33 1307.98 1454.33 Q1305.78 1454.33 1303.32 1455.09 Q1300.89 1455.86 1298.12 1457.41 L1298.12 1452.69 Q1300.94 1451.55 1303.39 1450.97 Q1305.85 1450.39 1307.89 1450.39 Q1313.26 1450.39 1316.45 1453.08 Q1319.64 1455.77 1319.64 1460.26 Q1319.64 1462.39 1318.83 1464.31 Q1318.05 1466.2 1315.94 1468.8 Q1315.36 1469.47 1312.26 1472.69 Q1309.16 1475.88 1303.51 1481.64 Z\" fill=\"#000000\" fill-rule=\"nonzero\" fill-opacity=\"1\" /><path clip-path=\"url(#clip500)\" d=\"M1766.93 1454.1 Q1763.32 1454.1 1761.49 1457.66 Q1759.69 1461.2 1759.69 1468.33 Q1759.69 1475.44 1761.49 1479.01 Q1763.32 1482.55 1766.93 1482.55 Q1770.57 1482.55 1772.37 1479.01 Q1774.2 1475.44 1774.2 1468.33 Q1774.2 1461.2 1772.37 1457.66 Q1770.57 1454.1 1766.93 1454.1 M1766.93 1450.39 Q1772.74 1450.39 1775.8 1455 Q1778.88 1459.58 1778.88 1468.33 Q1778.88 1477.06 1775.8 1481.67 Q1772.74 1486.25 1766.93 1486.25 Q1761.12 1486.25 1758.04 1481.67 Q1754.99 1477.06 1754.99 1468.33 Q1754.99 1459.58 1758.04 1455 Q1761.12 1450.39 1766.93 1450.39 Z\" fill=\"#000000\" fill-rule=\"nonzero\" fill-opacity=\"1\" /><path clip-path=\"url(#clip500)\" d=\"M1787.09 1479.7 L1791.98 1479.7 L1791.98 1485.58 L1787.09 1485.58 L1787.09 1479.7 Z\" fill=\"#000000\" fill-rule=\"nonzero\" fill-opacity=\"1\" /><path clip-path=\"url(#clip500)\" d=\"M1816.33 1466.95 Q1819.69 1467.66 1821.56 1469.93 Q1823.46 1472.2 1823.46 1475.53 Q1823.46 1480.65 1819.94 1483.45 Q1816.42 1486.25 1809.94 1486.25 Q1807.76 1486.25 1805.45 1485.81 Q1803.16 1485.39 1800.7 1484.54 L1800.7 1480.02 Q1802.65 1481.16 1804.96 1481.74 Q1807.28 1482.32 1809.8 1482.32 Q1814.2 1482.32 1816.49 1480.58 Q1818.81 1478.84 1818.81 1475.53 Q1818.81 1472.48 1816.65 1470.77 Q1814.52 1469.03 1810.7 1469.03 L1806.68 1469.03 L1806.68 1465.19 L1810.89 1465.19 Q1814.34 1465.19 1816.17 1463.82 Q1818 1462.43 1818 1459.84 Q1818 1457.18 1816.1 1455.77 Q1814.22 1454.33 1810.7 1454.33 Q1808.78 1454.33 1806.58 1454.75 Q1804.38 1455.16 1801.75 1456.04 L1801.75 1451.88 Q1804.41 1451.14 1806.72 1450.77 Q1809.06 1450.39 1811.12 1450.39 Q1816.44 1450.39 1819.55 1452.83 Q1822.65 1455.23 1822.65 1459.35 Q1822.65 1462.22 1821 1464.21 Q1819.36 1466.18 1816.33 1466.95 Z\" fill=\"#000000\" fill-rule=\"nonzero\" fill-opacity=\"1\" /><path clip-path=\"url(#clip500)\" d=\"M2269.52 1454.1 Q2265.91 1454.1 2264.08 1457.66 Q2262.27 1461.2 2262.27 1468.33 Q2262.27 1475.44 2264.08 1479.01 Q2265.91 1482.55 2269.52 1482.55 Q2273.15 1482.55 2274.96 1479.01 Q2276.79 1475.44 2276.79 1468.33 Q2276.79 1461.2 2274.96 1457.66 Q2273.15 1454.1 2269.52 1454.1 M2269.52 1450.39 Q2275.33 1450.39 2278.38 1455 Q2281.46 1459.58 2281.46 1468.33 Q2281.46 1477.06 2278.38 1481.67 Q2275.33 1486.25 2269.52 1486.25 Q2263.71 1486.25 2260.63 1481.67 Q2257.57 1477.06 2257.57 1468.33 Q2257.57 1459.58 2260.63 1455 Q2263.71 1450.39 2269.52 1450.39 Z\" fill=\"#000000\" fill-rule=\"nonzero\" fill-opacity=\"1\" /><path clip-path=\"url(#clip500)\" d=\"M2289.68 1479.7 L2294.56 1479.7 L2294.56 1485.58 L2289.68 1485.58 L2289.68 1479.7 Z\" fill=\"#000000\" fill-rule=\"nonzero\" fill-opacity=\"1\" /><path clip-path=\"url(#clip500)\" d=\"M2317.6 1455.09 L2305.79 1473.54 L2317.6 1473.54 L2317.6 1455.09 M2316.37 1451.02 L2322.25 1451.02 L2322.25 1473.54 L2327.18 1473.54 L2327.18 1477.43 L2322.25 1477.43 L2322.25 1485.58 L2317.6 1485.58 L2317.6 1477.43 L2302 1477.43 L2302 1472.92 L2316.37 1451.02 Z\" fill=\"#000000\" fill-rule=\"nonzero\" fill-opacity=\"1\" /><path clip-path=\"url(#clip500)\" d=\"M1244.74 1522.27 L1244.74 1532.4 L1256.8 1532.4 L1256.8 1536.95 L1244.74 1536.95 L1244.74 1556.3 Q1244.74 1560.66 1245.92 1561.9 Q1247.13 1563.14 1250.79 1563.14 L1256.8 1563.14 L1256.8 1568.04 L1250.79 1568.04 Q1244.01 1568.04 1241.43 1565.53 Q1238.85 1562.98 1238.85 1556.3 L1238.85 1536.95 L1234.55 1536.95 L1234.55 1532.4 L1238.85 1532.4 L1238.85 1522.27 L1244.74 1522.27 Z\" fill=\"#000000\" fill-rule=\"nonzero\" fill-opacity=\"1\" /><path clip-path=\"url(#clip500)\" d=\"M1278.57 1518.58 Q1274.31 1525.9 1272.24 1533.06 Q1270.17 1540.23 1270.17 1547.58 Q1270.17 1554.93 1272.24 1562.16 Q1274.34 1569.35 1278.57 1576.64 L1273.48 1576.64 Q1268.71 1569.16 1266.32 1561.93 Q1263.96 1554.71 1263.96 1547.58 Q1263.96 1540.48 1266.32 1533.29 Q1268.67 1526.09 1273.48 1518.58 L1278.57 1518.58 Z\" fill=\"#000000\" fill-rule=\"nonzero\" fill-opacity=\"1\" /><path clip-path=\"url(#clip500)\" d=\"M1312.66 1533.45 L1312.66 1538.98 Q1310.18 1537.71 1307.5 1537.07 Q1304.83 1536.44 1301.97 1536.44 Q1297.61 1536.44 1295.41 1537.77 Q1293.25 1539.11 1293.25 1541.79 Q1293.25 1543.82 1294.8 1545 Q1296.36 1546.15 1301.08 1547.2 L1303.08 1547.64 Q1309.32 1548.98 1311.93 1551.43 Q1314.57 1553.85 1314.57 1558.21 Q1314.57 1563.17 1310.62 1566.07 Q1306.71 1568.97 1299.83 1568.97 Q1296.97 1568.97 1293.85 1568.39 Q1290.76 1567.85 1287.33 1566.74 L1287.33 1560.69 Q1290.57 1562.38 1293.72 1563.24 Q1296.87 1564.07 1299.96 1564.07 Q1304.1 1564.07 1306.33 1562.66 Q1308.55 1561.23 1308.55 1558.65 Q1308.55 1556.27 1306.93 1554.99 Q1305.34 1553.72 1299.9 1552.54 L1297.86 1552.07 Q1292.42 1550.92 1290 1548.56 Q1287.58 1546.18 1287.58 1542.04 Q1287.58 1537.01 1291.14 1534.27 Q1294.71 1531.54 1301.27 1531.54 Q1304.51 1531.54 1307.38 1532.01 Q1310.24 1532.49 1312.66 1533.45 Z\" fill=\"#000000\" fill-rule=\"nonzero\" fill-opacity=\"1\" /><path clip-path=\"url(#clip500)\" d=\"M1322.97 1518.58 L1328.07 1518.58 Q1332.84 1526.09 1335.2 1533.29 Q1337.58 1540.48 1337.58 1547.58 Q1337.58 1554.71 1335.2 1561.93 Q1332.84 1569.16 1328.07 1576.64 L1322.97 1576.64 Q1327.21 1569.35 1329.28 1562.16 Q1331.38 1554.93 1331.38 1547.58 Q1331.38 1540.23 1329.28 1533.06 Q1327.21 1525.9 1322.97 1518.58 Z\" fill=\"#000000\" fill-rule=\"nonzero\" fill-opacity=\"1\" /><polyline clip-path=\"url(#clip500)\" style=\"stroke:#000000; stroke-linecap:round; stroke-linejoin:round; stroke-width:4; stroke-opacity:1; fill:none\" points=\"219.38,1423.18 219.38,47.2441 \"/>\n",
       "<polyline clip-path=\"url(#clip500)\" style=\"stroke:#000000; stroke-linecap:round; stroke-linejoin:round; stroke-width:4; stroke-opacity:1; fill:none\" points=\"219.38,1384.24 238.278,1384.24 \"/>\n",
       "<polyline clip-path=\"url(#clip500)\" style=\"stroke:#000000; stroke-linecap:round; stroke-linejoin:round; stroke-width:4; stroke-opacity:1; fill:none\" points=\"219.38,1062.17 238.278,1062.17 \"/>\n",
       "<polyline clip-path=\"url(#clip500)\" style=\"stroke:#000000; stroke-linecap:round; stroke-linejoin:round; stroke-width:4; stroke-opacity:1; fill:none\" points=\"219.38,740.107 238.278,740.107 \"/>\n",
       "<polyline clip-path=\"url(#clip500)\" style=\"stroke:#000000; stroke-linecap:round; stroke-linejoin:round; stroke-width:4; stroke-opacity:1; fill:none\" points=\"219.38,418.042 238.278,418.042 \"/>\n",
       "<polyline clip-path=\"url(#clip500)\" style=\"stroke:#000000; stroke-linecap:round; stroke-linejoin:round; stroke-width:4; stroke-opacity:1; fill:none\" points=\"219.38,95.9765 238.278,95.9765 \"/>\n",
       "<path clip-path=\"url(#clip500)\" d=\"M126.205 1370.04 Q122.593 1370.04 120.765 1373.6 Q118.959 1377.14 118.959 1384.27 Q118.959 1391.38 120.765 1394.94 Q122.593 1398.49 126.205 1398.49 Q129.839 1398.49 131.644 1394.94 Q133.473 1391.38 133.473 1384.27 Q133.473 1377.14 131.644 1373.6 Q129.839 1370.04 126.205 1370.04 M126.205 1366.33 Q132.015 1366.33 135.07 1370.94 Q138.149 1375.52 138.149 1384.27 Q138.149 1393 135.07 1397.61 Q132.015 1402.19 126.205 1402.19 Q120.394 1402.19 117.316 1397.61 Q114.26 1393 114.26 1384.27 Q114.26 1375.52 117.316 1370.94 Q120.394 1366.33 126.205 1366.33 Z\" fill=\"#000000\" fill-rule=\"nonzero\" fill-opacity=\"1\" /><path clip-path=\"url(#clip500)\" d=\"M146.366 1395.64 L151.251 1395.64 L151.251 1401.52 L146.366 1401.52 L146.366 1395.64 Z\" fill=\"#000000\" fill-rule=\"nonzero\" fill-opacity=\"1\" /><path clip-path=\"url(#clip500)\" d=\"M171.436 1370.04 Q167.825 1370.04 165.996 1373.6 Q164.19 1377.14 164.19 1384.27 Q164.19 1391.38 165.996 1394.94 Q167.825 1398.49 171.436 1398.49 Q175.07 1398.49 176.876 1394.94 Q178.704 1391.38 178.704 1384.27 Q178.704 1377.14 176.876 1373.6 Q175.07 1370.04 171.436 1370.04 M171.436 1366.33 Q177.246 1366.33 180.301 1370.94 Q183.38 1375.52 183.38 1384.27 Q183.38 1393 180.301 1397.61 Q177.246 1402.19 171.436 1402.19 Q165.626 1402.19 162.547 1397.61 Q159.491 1393 159.491 1384.27 Q159.491 1375.52 162.547 1370.94 Q165.626 1366.33 171.436 1366.33 Z\" fill=\"#000000\" fill-rule=\"nonzero\" fill-opacity=\"1\" /><path clip-path=\"url(#clip500)\" d=\"M127.2 1047.97 Q123.589 1047.97 121.76 1051.54 Q119.955 1055.08 119.955 1062.21 Q119.955 1069.31 121.76 1072.88 Q123.589 1076.42 127.2 1076.42 Q130.834 1076.42 132.64 1072.88 Q134.468 1069.31 134.468 1062.21 Q134.468 1055.08 132.64 1051.54 Q130.834 1047.97 127.2 1047.97 M127.2 1044.27 Q133.01 1044.27 136.066 1048.87 Q139.144 1053.46 139.144 1062.21 Q139.144 1070.93 136.066 1075.54 Q133.01 1080.12 127.2 1080.12 Q121.39 1080.12 118.311 1075.54 Q115.256 1070.93 115.256 1062.21 Q115.256 1053.46 118.311 1048.87 Q121.39 1044.27 127.2 1044.27 Z\" fill=\"#000000\" fill-rule=\"nonzero\" fill-opacity=\"1\" /><path clip-path=\"url(#clip500)\" d=\"M147.362 1073.57 L152.246 1073.57 L152.246 1079.45 L147.362 1079.45 L147.362 1073.57 Z\" fill=\"#000000\" fill-rule=\"nonzero\" fill-opacity=\"1\" /><path clip-path=\"url(#clip500)\" d=\"M162.477 1044.89 L180.834 1044.89 L180.834 1048.83 L166.76 1048.83 L166.76 1057.3 Q167.778 1056.95 168.797 1056.79 Q169.815 1056.61 170.834 1056.61 Q176.621 1056.61 180.001 1059.78 Q183.38 1062.95 183.38 1068.36 Q183.38 1073.94 179.908 1077.05 Q176.436 1080.12 170.116 1080.12 Q167.94 1080.12 165.672 1079.75 Q163.427 1079.38 161.019 1078.64 L161.019 1073.94 Q163.102 1075.08 165.325 1075.63 Q167.547 1076.19 170.024 1076.19 Q174.028 1076.19 176.366 1074.08 Q178.704 1071.98 178.704 1068.36 Q178.704 1064.75 176.366 1062.65 Q174.028 1060.54 170.024 1060.54 Q168.149 1060.54 166.274 1060.96 Q164.422 1061.37 162.477 1062.25 L162.477 1044.89 Z\" fill=\"#000000\" fill-rule=\"nonzero\" fill-opacity=\"1\" /><path clip-path=\"url(#clip500)\" d=\"M117.015 753.452 L124.654 753.452 L124.654 727.087 L116.343 728.753 L116.343 724.494 L124.607 722.827 L129.283 722.827 L129.283 753.452 L136.922 753.452 L136.922 757.387 L117.015 757.387 L117.015 753.452 Z\" fill=\"#000000\" fill-rule=\"nonzero\" fill-opacity=\"1\" /><path clip-path=\"url(#clip500)\" d=\"M146.366 751.508 L151.251 751.508 L151.251 757.387 L146.366 757.387 L146.366 751.508 Z\" fill=\"#000000\" fill-rule=\"nonzero\" fill-opacity=\"1\" /><path clip-path=\"url(#clip500)\" d=\"M171.436 725.906 Q167.825 725.906 165.996 729.471 Q164.19 733.012 164.19 740.142 Q164.19 747.249 165.996 750.813 Q167.825 754.355 171.436 754.355 Q175.07 754.355 176.876 750.813 Q178.704 747.249 178.704 740.142 Q178.704 733.012 176.876 729.471 Q175.07 725.906 171.436 725.906 M171.436 722.202 Q177.246 722.202 180.301 726.809 Q183.38 731.392 183.38 740.142 Q183.38 748.869 180.301 753.475 Q177.246 758.059 171.436 758.059 Q165.626 758.059 162.547 753.475 Q159.491 748.869 159.491 740.142 Q159.491 731.392 162.547 726.809 Q165.626 722.202 171.436 722.202 Z\" fill=\"#000000\" fill-rule=\"nonzero\" fill-opacity=\"1\" /><path clip-path=\"url(#clip500)\" d=\"M118.01 431.387 L125.649 431.387 L125.649 405.021 L117.339 406.688 L117.339 402.429 L125.603 400.762 L130.279 400.762 L130.279 431.387 L137.917 431.387 L137.917 435.322 L118.01 435.322 L118.01 431.387 Z\" fill=\"#000000\" fill-rule=\"nonzero\" fill-opacity=\"1\" /><path clip-path=\"url(#clip500)\" d=\"M147.362 429.442 L152.246 429.442 L152.246 435.322 L147.362 435.322 L147.362 429.442 Z\" fill=\"#000000\" fill-rule=\"nonzero\" fill-opacity=\"1\" /><path clip-path=\"url(#clip500)\" d=\"M162.477 400.762 L180.834 400.762 L180.834 404.697 L166.76 404.697 L166.76 413.169 Q167.778 412.822 168.797 412.66 Q169.815 412.475 170.834 412.475 Q176.621 412.475 180.001 415.646 Q183.38 418.817 183.38 424.234 Q183.38 429.813 179.908 432.915 Q176.436 435.993 170.116 435.993 Q167.94 435.993 165.672 435.623 Q163.427 435.252 161.019 434.512 L161.019 429.813 Q163.102 430.947 165.325 431.502 Q167.547 432.058 170.024 432.058 Q174.028 432.058 176.366 429.952 Q178.704 427.845 178.704 424.234 Q178.704 420.623 176.366 418.516 Q174.028 416.41 170.024 416.41 Q168.149 416.41 166.274 416.827 Q164.422 417.243 162.477 418.123 L162.477 400.762 Z\" fill=\"#000000\" fill-rule=\"nonzero\" fill-opacity=\"1\" /><path clip-path=\"url(#clip500)\" d=\"M120.232 109.321 L136.552 109.321 L136.552 113.256 L114.607 113.256 L114.607 109.321 Q117.269 106.567 121.853 101.937 Q126.459 97.2843 127.64 95.9417 Q129.885 93.4186 130.765 91.6825 Q131.667 89.9233 131.667 88.2334 Q131.667 85.4788 129.723 83.7427 Q127.802 82.0066 124.7 82.0066 Q122.501 82.0066 120.047 82.7705 Q117.617 83.5344 114.839 85.0853 L114.839 80.3631 Q117.663 79.2289 120.117 78.6502 Q122.57 78.0715 124.607 78.0715 Q129.978 78.0715 133.172 80.7566 Q136.367 83.4418 136.367 87.9325 Q136.367 90.0621 135.556 91.9834 Q134.769 93.8816 132.663 96.4741 Q132.084 97.1454 128.982 100.363 Q125.88 103.557 120.232 109.321 Z\" fill=\"#000000\" fill-rule=\"nonzero\" fill-opacity=\"1\" /><path clip-path=\"url(#clip500)\" d=\"M146.366 107.377 L151.251 107.377 L151.251 113.256 L146.366 113.256 L146.366 107.377 Z\" fill=\"#000000\" fill-rule=\"nonzero\" fill-opacity=\"1\" /><path clip-path=\"url(#clip500)\" d=\"M171.436 81.7751 Q167.825 81.7751 165.996 85.3399 Q164.19 88.8816 164.19 96.0112 Q164.19 103.118 165.996 106.682 Q167.825 110.224 171.436 110.224 Q175.07 110.224 176.876 106.682 Q178.704 103.118 178.704 96.0112 Q178.704 88.8816 176.876 85.3399 Q175.07 81.7751 171.436 81.7751 M171.436 78.0715 Q177.246 78.0715 180.301 82.6779 Q183.38 87.2612 183.38 96.0112 Q183.38 104.738 180.301 109.344 Q177.246 113.928 171.436 113.928 Q165.626 113.928 162.547 109.344 Q159.491 104.738 159.491 96.0112 Q159.491 87.2612 162.547 82.6779 Q165.626 78.0715 171.436 78.0715 Z\" fill=\"#000000\" fill-rule=\"nonzero\" fill-opacity=\"1\" /><path clip-path=\"url(#clip500)\" d=\"M67.3143 788.875 Q73.68 791.358 75.6216 793.713 Q77.5631 796.068 77.5631 800.015 L77.5631 804.694 L72.6615 804.694 L72.6615 801.256 Q72.6615 798.837 71.5157 797.5 Q70.3699 796.164 66.1048 794.54 L63.4312 793.49 L28.3562 807.908 L28.3562 801.702 L56.238 790.562 L28.3562 779.422 L28.3562 773.215 L67.3143 788.875 Z\" fill=\"#000000\" fill-rule=\"nonzero\" fill-opacity=\"1\" /><path clip-path=\"url(#clip500)\" d=\"M14.5426 751.063 Q21.8632 755.328 29.0246 757.396 Q36.186 759.465 43.5384 759.465 Q50.8908 759.465 58.1159 757.396 Q65.3091 755.296 72.5979 751.063 L72.5979 756.155 Q65.1182 760.929 57.8931 763.317 Q50.668 765.672 43.5384 765.672 Q36.4406 765.672 29.2474 763.317 Q22.0542 760.961 14.5426 756.155 L14.5426 751.063 Z\" fill=\"#000000\" fill-rule=\"nonzero\" fill-opacity=\"1\" /><path clip-path=\"url(#clip500)\" d=\"M35.1993 711.945 Q31.2526 709.749 29.3747 706.694 Q27.4968 703.638 27.4968 699.5 Q27.4968 693.93 31.4117 690.907 Q35.2948 687.883 42.4881 687.883 L64.0042 687.883 L64.0042 693.771 L42.679 693.771 Q37.5546 693.771 35.072 695.585 Q32.5894 697.4 32.5894 701.124 Q32.5894 705.675 35.6131 708.317 Q38.6368 710.959 43.8567 710.959 L64.0042 710.959 L64.0042 716.847 L42.679 716.847 Q37.5228 716.847 35.072 718.661 Q32.5894 720.475 32.5894 724.263 Q32.5894 728.751 35.6449 731.393 Q38.6686 734.034 43.8567 734.034 L64.0042 734.034 L64.0042 739.923 L28.3562 739.923 L28.3562 734.034 L33.8944 734.034 Q30.616 732.029 29.0564 729.228 Q27.4968 726.427 27.4968 722.576 Q27.4968 718.693 29.4702 715.988 Q31.4436 713.25 35.1993 711.945 Z\" fill=\"#000000\" fill-rule=\"nonzero\" fill-opacity=\"1\" /><path clip-path=\"url(#clip500)\" d=\"M14.5426 677.125 L14.5426 672.032 Q22.0542 667.258 29.2474 664.903 Q36.4406 662.516 43.5384 662.516 Q50.668 662.516 57.8931 664.903 Q65.1182 667.258 72.5979 672.032 L72.5979 677.125 Q65.3091 672.892 58.1159 670.823 Q50.8908 668.722 43.5384 668.722 Q36.186 668.722 29.0246 670.823 Q21.8632 672.892 14.5426 677.125 Z\" fill=\"#000000\" fill-rule=\"nonzero\" fill-opacity=\"1\" /><polyline clip-path=\"url(#clip502)\" style=\"stroke:#009af9; stroke-linecap:round; stroke-linejoin:round; stroke-width:4; stroke-opacity:1; fill:none\" points=\"279.759,1384.24 300.536,1365.67 422.229,1259.1 478.841,1210.78 554.722,1147.27 617.422,1095.88 675.728,1048.97 748.921,991.278 814.576,940.669 889.727,884.06 945.902,842.666 1017.75,790.871 1083.33,744.721 1157.96,693.503 1217.13,653.89 1290.63,605.892 1346.93,570.045 1426.29,520.85 1485.6,485.114 1553.04,445.54 1619.84,407.468 1693.33,366.869 1749.46,336.766 1820.29,299.9 1885.8,266.918 1953.37,234.026 2021.85,201.848 2093.36,169.497 2149.7,144.912 2277.98,91.8794 2292.38,86.1857 \"/>\n",
       "<path clip-path=\"url(#clip500)\" d=\"M290.493 196.789 L556.261 196.789 L556.261 93.1086 L290.493 93.1086  Z\" fill=\"#ffffff\" fill-rule=\"evenodd\" fill-opacity=\"1\"/>\n",
       "<polyline clip-path=\"url(#clip500)\" style=\"stroke:#000000; stroke-linecap:round; stroke-linejoin:round; stroke-width:4; stroke-opacity:1; fill:none\" points=\"290.493,196.789 556.261,196.789 556.261,93.1086 290.493,93.1086 290.493,196.789 \"/>\n",
       "<polyline clip-path=\"url(#clip500)\" style=\"stroke:#009af9; stroke-linecap:round; stroke-linejoin:round; stroke-width:4; stroke-opacity:1; fill:none\" points=\"314.197,144.949 456.422,144.949 \"/>\n",
       "<path clip-path=\"url(#clip500)\" d=\"M493.969 164.636 Q492.163 169.266 490.45 170.678 Q488.737 172.09 485.867 172.09 L482.464 172.09 L482.464 168.525 L484.964 168.525 Q486.723 168.525 487.695 167.692 Q488.668 166.858 489.848 163.756 L490.612 161.812 L480.126 136.303 L484.64 136.303 L492.742 156.581 L500.844 136.303 L505.357 136.303 L493.969 164.636 Z\" fill=\"#000000\" fill-rule=\"nonzero\" fill-opacity=\"1\" /><path clip-path=\"url(#clip500)\" d=\"M512.649 158.293 L520.288 158.293 L520.288 131.928 L511.978 133.595 L511.978 129.335 L520.242 127.669 L524.918 127.669 L524.918 158.293 L532.556 158.293 L532.556 162.229 L512.649 162.229 L512.649 158.293 Z\" fill=\"#000000\" fill-rule=\"nonzero\" fill-opacity=\"1\" /></svg>\n"
      ],
      "text/html": [
       "<?xml version=\"1.0\" encoding=\"utf-8\"?>\n",
       "<svg xmlns=\"http://www.w3.org/2000/svg\" xmlns:xlink=\"http://www.w3.org/1999/xlink\" width=\"600\" height=\"400\" viewBox=\"0 0 2400 1600\">\n",
       "<defs>\n",
       "  <clipPath id=\"clip550\">\n",
       "    <rect x=\"0\" y=\"0\" width=\"2400\" height=\"1600\"/>\n",
       "  </clipPath>\n",
       "</defs>\n",
       "<path clip-path=\"url(#clip550)\" d=\"M0 1600 L2400 1600 L2400 0 L0 0  Z\" fill=\"#ffffff\" fill-rule=\"evenodd\" fill-opacity=\"1\"/>\n",
       "<defs>\n",
       "  <clipPath id=\"clip551\">\n",
       "    <rect x=\"480\" y=\"0\" width=\"1681\" height=\"1600\"/>\n",
       "  </clipPath>\n",
       "</defs>\n",
       "<path clip-path=\"url(#clip550)\" d=\"M219.38 1423.18 L2352.76 1423.18 L2352.76 47.2441 L219.38 47.2441  Z\" fill=\"#ffffff\" fill-rule=\"evenodd\" fill-opacity=\"1\"/>\n",
       "<defs>\n",
       "  <clipPath id=\"clip552\">\n",
       "    <rect x=\"219\" y=\"47\" width=\"2134\" height=\"1377\"/>\n",
       "  </clipPath>\n",
       "</defs>\n",
       "<polyline clip-path=\"url(#clip552)\" style=\"stroke:#000000; stroke-linecap:round; stroke-linejoin:round; stroke-width:2; stroke-opacity:0.1; fill:none\" points=\"279.759,1423.18 279.759,47.2441 \"/>\n",
       "<polyline clip-path=\"url(#clip552)\" style=\"stroke:#000000; stroke-linecap:round; stroke-linejoin:round; stroke-width:2; stroke-opacity:0.1; fill:none\" points=\"782.913,1423.18 782.913,47.2441 \"/>\n",
       "<polyline clip-path=\"url(#clip552)\" style=\"stroke:#000000; stroke-linecap:round; stroke-linejoin:round; stroke-width:2; stroke-opacity:0.1; fill:none\" points=\"1286.07,1423.18 1286.07,47.2441 \"/>\n",
       "<polyline clip-path=\"url(#clip552)\" style=\"stroke:#000000; stroke-linecap:round; stroke-linejoin:round; stroke-width:2; stroke-opacity:0.1; fill:none\" points=\"1789.22,1423.18 1789.22,47.2441 \"/>\n",
       "<polyline clip-path=\"url(#clip552)\" style=\"stroke:#000000; stroke-linecap:round; stroke-linejoin:round; stroke-width:2; stroke-opacity:0.1; fill:none\" points=\"2292.38,1423.18 2292.38,47.2441 \"/>\n",
       "<polyline clip-path=\"url(#clip552)\" style=\"stroke:#000000; stroke-linecap:round; stroke-linejoin:round; stroke-width:2; stroke-opacity:0.1; fill:none\" points=\"219.38,1384.24 2352.76,1384.24 \"/>\n",
       "<polyline clip-path=\"url(#clip552)\" style=\"stroke:#000000; stroke-linecap:round; stroke-linejoin:round; stroke-width:2; stroke-opacity:0.1; fill:none\" points=\"219.38,1062.17 2352.76,1062.17 \"/>\n",
       "<polyline clip-path=\"url(#clip552)\" style=\"stroke:#000000; stroke-linecap:round; stroke-linejoin:round; stroke-width:2; stroke-opacity:0.1; fill:none\" points=\"219.38,740.107 2352.76,740.107 \"/>\n",
       "<polyline clip-path=\"url(#clip552)\" style=\"stroke:#000000; stroke-linecap:round; stroke-linejoin:round; stroke-width:2; stroke-opacity:0.1; fill:none\" points=\"219.38,418.042 2352.76,418.042 \"/>\n",
       "<polyline clip-path=\"url(#clip552)\" style=\"stroke:#000000; stroke-linecap:round; stroke-linejoin:round; stroke-width:2; stroke-opacity:0.1; fill:none\" points=\"219.38,95.9765 2352.76,95.9765 \"/>\n",
       "<polyline clip-path=\"url(#clip550)\" style=\"stroke:#000000; stroke-linecap:round; stroke-linejoin:round; stroke-width:4; stroke-opacity:1; fill:none\" points=\"219.38,1423.18 2352.76,1423.18 \"/>\n",
       "<polyline clip-path=\"url(#clip550)\" style=\"stroke:#000000; stroke-linecap:round; stroke-linejoin:round; stroke-width:4; stroke-opacity:1; fill:none\" points=\"279.759,1423.18 279.759,1404.28 \"/>\n",
       "<polyline clip-path=\"url(#clip550)\" style=\"stroke:#000000; stroke-linecap:round; stroke-linejoin:round; stroke-width:4; stroke-opacity:1; fill:none\" points=\"782.913,1423.18 782.913,1404.28 \"/>\n",
       "<polyline clip-path=\"url(#clip550)\" style=\"stroke:#000000; stroke-linecap:round; stroke-linejoin:round; stroke-width:4; stroke-opacity:1; fill:none\" points=\"1286.07,1423.18 1286.07,1404.28 \"/>\n",
       "<polyline clip-path=\"url(#clip550)\" style=\"stroke:#000000; stroke-linecap:round; stroke-linejoin:round; stroke-width:4; stroke-opacity:1; fill:none\" points=\"1789.22,1423.18 1789.22,1404.28 \"/>\n",
       "<polyline clip-path=\"url(#clip550)\" style=\"stroke:#000000; stroke-linecap:round; stroke-linejoin:round; stroke-width:4; stroke-opacity:1; fill:none\" points=\"2292.38,1423.18 2292.38,1404.28 \"/>\n",
       "<path clip-path=\"url(#clip550)\" d=\"M257.143 1454.1 Q253.532 1454.1 251.703 1457.66 Q249.898 1461.2 249.898 1468.33 Q249.898 1475.44 251.703 1479.01 Q253.532 1482.55 257.143 1482.55 Q260.777 1482.55 262.583 1479.01 Q264.412 1475.44 264.412 1468.33 Q264.412 1461.2 262.583 1457.66 Q260.777 1454.1 257.143 1454.1 M257.143 1450.39 Q262.953 1450.39 266.009 1455 Q269.087 1459.58 269.087 1468.33 Q269.087 1477.06 266.009 1481.67 Q262.953 1486.25 257.143 1486.25 Q251.333 1486.25 248.254 1481.67 Q245.199 1477.06 245.199 1468.33 Q245.199 1459.58 248.254 1455 Q251.333 1450.39 257.143 1450.39 Z\" fill=\"#000000\" fill-rule=\"nonzero\" fill-opacity=\"1\" /><path clip-path=\"url(#clip550)\" d=\"M277.305 1479.7 L282.189 1479.7 L282.189 1485.58 L277.305 1485.58 L277.305 1479.7 Z\" fill=\"#000000\" fill-rule=\"nonzero\" fill-opacity=\"1\" /><path clip-path=\"url(#clip550)\" d=\"M302.374 1454.1 Q298.763 1454.1 296.935 1457.66 Q295.129 1461.2 295.129 1468.33 Q295.129 1475.44 296.935 1479.01 Q298.763 1482.55 302.374 1482.55 Q306.009 1482.55 307.814 1479.01 Q309.643 1475.44 309.643 1468.33 Q309.643 1461.2 307.814 1457.66 Q306.009 1454.1 302.374 1454.1 M302.374 1450.39 Q308.184 1450.39 311.24 1455 Q314.319 1459.58 314.319 1468.33 Q314.319 1477.06 311.24 1481.67 Q308.184 1486.25 302.374 1486.25 Q296.564 1486.25 293.485 1481.67 Q290.43 1477.06 290.43 1468.33 Q290.43 1459.58 293.485 1455 Q296.564 1450.39 302.374 1450.39 Z\" fill=\"#000000\" fill-rule=\"nonzero\" fill-opacity=\"1\" /><path clip-path=\"url(#clip550)\" d=\"M760.911 1454.1 Q757.3 1454.1 755.471 1457.66 Q753.666 1461.2 753.666 1468.33 Q753.666 1475.44 755.471 1479.01 Q757.3 1482.55 760.911 1482.55 Q764.545 1482.55 766.351 1479.01 Q768.18 1475.44 768.18 1468.33 Q768.18 1461.2 766.351 1457.66 Q764.545 1454.1 760.911 1454.1 M760.911 1450.39 Q766.721 1450.39 769.777 1455 Q772.856 1459.58 772.856 1468.33 Q772.856 1477.06 769.777 1481.67 Q766.721 1486.25 760.911 1486.25 Q755.101 1486.25 752.022 1481.67 Q748.967 1477.06 748.967 1468.33 Q748.967 1459.58 752.022 1455 Q755.101 1450.39 760.911 1450.39 Z\" fill=\"#000000\" fill-rule=\"nonzero\" fill-opacity=\"1\" /><path clip-path=\"url(#clip550)\" d=\"M781.073 1479.7 L785.957 1479.7 L785.957 1485.58 L781.073 1485.58 L781.073 1479.7 Z\" fill=\"#000000\" fill-rule=\"nonzero\" fill-opacity=\"1\" /><path clip-path=\"url(#clip550)\" d=\"M796.953 1481.64 L804.591 1481.64 L804.591 1455.28 L796.281 1456.95 L796.281 1452.69 L804.545 1451.02 L809.221 1451.02 L809.221 1481.64 L816.86 1481.64 L816.86 1485.58 L796.953 1485.58 L796.953 1481.64 Z\" fill=\"#000000\" fill-rule=\"nonzero\" fill-opacity=\"1\" /><path clip-path=\"url(#clip550)\" d=\"M1264.25 1454.1 Q1260.64 1454.1 1258.81 1457.66 Q1257.01 1461.2 1257.01 1468.33 Q1257.01 1475.44 1258.81 1479.01 Q1260.64 1482.55 1264.25 1482.55 Q1267.89 1482.55 1269.69 1479.01 Q1271.52 1475.44 1271.52 1468.33 Q1271.52 1461.2 1269.69 1457.66 Q1267.89 1454.1 1264.25 1454.1 M1264.25 1450.39 Q1270.06 1450.39 1273.12 1455 Q1276.2 1459.58 1276.2 1468.33 Q1276.2 1477.06 1273.12 1481.67 Q1270.06 1486.25 1264.25 1486.25 Q1258.44 1486.25 1255.36 1481.67 Q1252.31 1477.06 1252.31 1468.33 Q1252.31 1459.58 1255.36 1455 Q1258.44 1450.39 1264.25 1450.39 Z\" fill=\"#000000\" fill-rule=\"nonzero\" fill-opacity=\"1\" /><path clip-path=\"url(#clip550)\" d=\"M1284.41 1479.7 L1289.3 1479.7 L1289.3 1485.58 L1284.41 1485.58 L1284.41 1479.7 Z\" fill=\"#000000\" fill-rule=\"nonzero\" fill-opacity=\"1\" /><path clip-path=\"url(#clip550)\" d=\"M1303.51 1481.64 L1319.83 1481.64 L1319.83 1485.58 L1297.89 1485.58 L1297.89 1481.64 Q1300.55 1478.89 1305.13 1474.26 Q1309.74 1469.61 1310.92 1468.27 Q1313.16 1465.74 1314.04 1464.01 Q1314.95 1462.25 1314.95 1460.56 Q1314.95 1457.8 1313 1456.07 Q1311.08 1454.33 1307.98 1454.33 Q1305.78 1454.33 1303.32 1455.09 Q1300.89 1455.86 1298.12 1457.41 L1298.12 1452.69 Q1300.94 1451.55 1303.39 1450.97 Q1305.85 1450.39 1307.89 1450.39 Q1313.26 1450.39 1316.45 1453.08 Q1319.64 1455.77 1319.64 1460.26 Q1319.64 1462.39 1318.83 1464.31 Q1318.05 1466.2 1315.94 1468.8 Q1315.36 1469.47 1312.26 1472.69 Q1309.16 1475.88 1303.51 1481.64 Z\" fill=\"#000000\" fill-rule=\"nonzero\" fill-opacity=\"1\" /><path clip-path=\"url(#clip550)\" d=\"M1766.93 1454.1 Q1763.32 1454.1 1761.49 1457.66 Q1759.69 1461.2 1759.69 1468.33 Q1759.69 1475.44 1761.49 1479.01 Q1763.32 1482.55 1766.93 1482.55 Q1770.57 1482.55 1772.37 1479.01 Q1774.2 1475.44 1774.2 1468.33 Q1774.2 1461.2 1772.37 1457.66 Q1770.57 1454.1 1766.93 1454.1 M1766.93 1450.39 Q1772.74 1450.39 1775.8 1455 Q1778.88 1459.58 1778.88 1468.33 Q1778.88 1477.06 1775.8 1481.67 Q1772.74 1486.25 1766.93 1486.25 Q1761.12 1486.25 1758.04 1481.67 Q1754.99 1477.06 1754.99 1468.33 Q1754.99 1459.58 1758.04 1455 Q1761.12 1450.39 1766.93 1450.39 Z\" fill=\"#000000\" fill-rule=\"nonzero\" fill-opacity=\"1\" /><path clip-path=\"url(#clip550)\" d=\"M1787.09 1479.7 L1791.98 1479.7 L1791.98 1485.58 L1787.09 1485.58 L1787.09 1479.7 Z\" fill=\"#000000\" fill-rule=\"nonzero\" fill-opacity=\"1\" /><path clip-path=\"url(#clip550)\" d=\"M1816.33 1466.95 Q1819.69 1467.66 1821.56 1469.93 Q1823.46 1472.2 1823.46 1475.53 Q1823.46 1480.65 1819.94 1483.45 Q1816.42 1486.25 1809.94 1486.25 Q1807.76 1486.25 1805.45 1485.81 Q1803.16 1485.39 1800.7 1484.54 L1800.7 1480.02 Q1802.65 1481.16 1804.96 1481.74 Q1807.28 1482.32 1809.8 1482.32 Q1814.2 1482.32 1816.49 1480.58 Q1818.81 1478.84 1818.81 1475.53 Q1818.81 1472.48 1816.65 1470.77 Q1814.52 1469.03 1810.7 1469.03 L1806.68 1469.03 L1806.68 1465.19 L1810.89 1465.19 Q1814.34 1465.19 1816.17 1463.82 Q1818 1462.43 1818 1459.84 Q1818 1457.18 1816.1 1455.77 Q1814.22 1454.33 1810.7 1454.33 Q1808.78 1454.33 1806.58 1454.75 Q1804.38 1455.16 1801.75 1456.04 L1801.75 1451.88 Q1804.41 1451.14 1806.72 1450.77 Q1809.06 1450.39 1811.12 1450.39 Q1816.44 1450.39 1819.55 1452.83 Q1822.65 1455.23 1822.65 1459.35 Q1822.65 1462.22 1821 1464.21 Q1819.36 1466.18 1816.33 1466.95 Z\" fill=\"#000000\" fill-rule=\"nonzero\" fill-opacity=\"1\" /><path clip-path=\"url(#clip550)\" d=\"M2269.52 1454.1 Q2265.91 1454.1 2264.08 1457.66 Q2262.27 1461.2 2262.27 1468.33 Q2262.27 1475.44 2264.08 1479.01 Q2265.91 1482.55 2269.52 1482.55 Q2273.15 1482.55 2274.96 1479.01 Q2276.79 1475.44 2276.79 1468.33 Q2276.79 1461.2 2274.96 1457.66 Q2273.15 1454.1 2269.52 1454.1 M2269.52 1450.39 Q2275.33 1450.39 2278.38 1455 Q2281.46 1459.58 2281.46 1468.33 Q2281.46 1477.06 2278.38 1481.67 Q2275.33 1486.25 2269.52 1486.25 Q2263.71 1486.25 2260.63 1481.67 Q2257.57 1477.06 2257.57 1468.33 Q2257.57 1459.58 2260.63 1455 Q2263.71 1450.39 2269.52 1450.39 Z\" fill=\"#000000\" fill-rule=\"nonzero\" fill-opacity=\"1\" /><path clip-path=\"url(#clip550)\" d=\"M2289.68 1479.7 L2294.56 1479.7 L2294.56 1485.58 L2289.68 1485.58 L2289.68 1479.7 Z\" fill=\"#000000\" fill-rule=\"nonzero\" fill-opacity=\"1\" /><path clip-path=\"url(#clip550)\" d=\"M2317.6 1455.09 L2305.79 1473.54 L2317.6 1473.54 L2317.6 1455.09 M2316.37 1451.02 L2322.25 1451.02 L2322.25 1473.54 L2327.18 1473.54 L2327.18 1477.43 L2322.25 1477.43 L2322.25 1485.58 L2317.6 1485.58 L2317.6 1477.43 L2302 1477.43 L2302 1472.92 L2316.37 1451.02 Z\" fill=\"#000000\" fill-rule=\"nonzero\" fill-opacity=\"1\" /><path clip-path=\"url(#clip550)\" d=\"M1244.74 1522.27 L1244.74 1532.4 L1256.8 1532.4 L1256.8 1536.95 L1244.74 1536.95 L1244.74 1556.3 Q1244.74 1560.66 1245.92 1561.9 Q1247.13 1563.14 1250.79 1563.14 L1256.8 1563.14 L1256.8 1568.04 L1250.79 1568.04 Q1244.01 1568.04 1241.43 1565.53 Q1238.85 1562.98 1238.85 1556.3 L1238.85 1536.95 L1234.55 1536.95 L1234.55 1532.4 L1238.85 1532.4 L1238.85 1522.27 L1244.74 1522.27 Z\" fill=\"#000000\" fill-rule=\"nonzero\" fill-opacity=\"1\" /><path clip-path=\"url(#clip550)\" d=\"M1278.57 1518.58 Q1274.31 1525.9 1272.24 1533.06 Q1270.17 1540.23 1270.17 1547.58 Q1270.17 1554.93 1272.24 1562.16 Q1274.34 1569.35 1278.57 1576.64 L1273.48 1576.64 Q1268.71 1569.16 1266.32 1561.93 Q1263.96 1554.71 1263.96 1547.58 Q1263.96 1540.48 1266.32 1533.29 Q1268.67 1526.09 1273.48 1518.58 L1278.57 1518.58 Z\" fill=\"#000000\" fill-rule=\"nonzero\" fill-opacity=\"1\" /><path clip-path=\"url(#clip550)\" d=\"M1312.66 1533.45 L1312.66 1538.98 Q1310.18 1537.71 1307.5 1537.07 Q1304.83 1536.44 1301.97 1536.44 Q1297.61 1536.44 1295.41 1537.77 Q1293.25 1539.11 1293.25 1541.79 Q1293.25 1543.82 1294.8 1545 Q1296.36 1546.15 1301.08 1547.2 L1303.08 1547.64 Q1309.32 1548.98 1311.93 1551.43 Q1314.57 1553.85 1314.57 1558.21 Q1314.57 1563.17 1310.62 1566.07 Q1306.71 1568.97 1299.83 1568.97 Q1296.97 1568.97 1293.85 1568.39 Q1290.76 1567.85 1287.33 1566.74 L1287.33 1560.69 Q1290.57 1562.38 1293.72 1563.24 Q1296.87 1564.07 1299.96 1564.07 Q1304.1 1564.07 1306.33 1562.66 Q1308.55 1561.23 1308.55 1558.65 Q1308.55 1556.27 1306.93 1554.99 Q1305.34 1553.72 1299.9 1552.54 L1297.86 1552.07 Q1292.42 1550.92 1290 1548.56 Q1287.58 1546.18 1287.58 1542.04 Q1287.58 1537.01 1291.14 1534.27 Q1294.71 1531.54 1301.27 1531.54 Q1304.51 1531.54 1307.38 1532.01 Q1310.24 1532.49 1312.66 1533.45 Z\" fill=\"#000000\" fill-rule=\"nonzero\" fill-opacity=\"1\" /><path clip-path=\"url(#clip550)\" d=\"M1322.97 1518.58 L1328.07 1518.58 Q1332.84 1526.09 1335.2 1533.29 Q1337.58 1540.48 1337.58 1547.58 Q1337.58 1554.71 1335.2 1561.93 Q1332.84 1569.16 1328.07 1576.64 L1322.97 1576.64 Q1327.21 1569.35 1329.28 1562.16 Q1331.38 1554.93 1331.38 1547.58 Q1331.38 1540.23 1329.28 1533.06 Q1327.21 1525.9 1322.97 1518.58 Z\" fill=\"#000000\" fill-rule=\"nonzero\" fill-opacity=\"1\" /><polyline clip-path=\"url(#clip550)\" style=\"stroke:#000000; stroke-linecap:round; stroke-linejoin:round; stroke-width:4; stroke-opacity:1; fill:none\" points=\"219.38,1423.18 219.38,47.2441 \"/>\n",
       "<polyline clip-path=\"url(#clip550)\" style=\"stroke:#000000; stroke-linecap:round; stroke-linejoin:round; stroke-width:4; stroke-opacity:1; fill:none\" points=\"219.38,1384.24 238.278,1384.24 \"/>\n",
       "<polyline clip-path=\"url(#clip550)\" style=\"stroke:#000000; stroke-linecap:round; stroke-linejoin:round; stroke-width:4; stroke-opacity:1; fill:none\" points=\"219.38,1062.17 238.278,1062.17 \"/>\n",
       "<polyline clip-path=\"url(#clip550)\" style=\"stroke:#000000; stroke-linecap:round; stroke-linejoin:round; stroke-width:4; stroke-opacity:1; fill:none\" points=\"219.38,740.107 238.278,740.107 \"/>\n",
       "<polyline clip-path=\"url(#clip550)\" style=\"stroke:#000000; stroke-linecap:round; stroke-linejoin:round; stroke-width:4; stroke-opacity:1; fill:none\" points=\"219.38,418.042 238.278,418.042 \"/>\n",
       "<polyline clip-path=\"url(#clip550)\" style=\"stroke:#000000; stroke-linecap:round; stroke-linejoin:round; stroke-width:4; stroke-opacity:1; fill:none\" points=\"219.38,95.9765 238.278,95.9765 \"/>\n",
       "<path clip-path=\"url(#clip550)\" d=\"M126.205 1370.04 Q122.593 1370.04 120.765 1373.6 Q118.959 1377.14 118.959 1384.27 Q118.959 1391.38 120.765 1394.94 Q122.593 1398.49 126.205 1398.49 Q129.839 1398.49 131.644 1394.94 Q133.473 1391.38 133.473 1384.27 Q133.473 1377.14 131.644 1373.6 Q129.839 1370.04 126.205 1370.04 M126.205 1366.33 Q132.015 1366.33 135.07 1370.94 Q138.149 1375.52 138.149 1384.27 Q138.149 1393 135.07 1397.61 Q132.015 1402.19 126.205 1402.19 Q120.394 1402.19 117.316 1397.61 Q114.26 1393 114.26 1384.27 Q114.26 1375.52 117.316 1370.94 Q120.394 1366.33 126.205 1366.33 Z\" fill=\"#000000\" fill-rule=\"nonzero\" fill-opacity=\"1\" /><path clip-path=\"url(#clip550)\" d=\"M146.366 1395.64 L151.251 1395.64 L151.251 1401.52 L146.366 1401.52 L146.366 1395.64 Z\" fill=\"#000000\" fill-rule=\"nonzero\" fill-opacity=\"1\" /><path clip-path=\"url(#clip550)\" d=\"M171.436 1370.04 Q167.825 1370.04 165.996 1373.6 Q164.19 1377.14 164.19 1384.27 Q164.19 1391.38 165.996 1394.94 Q167.825 1398.49 171.436 1398.49 Q175.07 1398.49 176.876 1394.94 Q178.704 1391.38 178.704 1384.27 Q178.704 1377.14 176.876 1373.6 Q175.07 1370.04 171.436 1370.04 M171.436 1366.33 Q177.246 1366.33 180.301 1370.94 Q183.38 1375.52 183.38 1384.27 Q183.38 1393 180.301 1397.61 Q177.246 1402.19 171.436 1402.19 Q165.626 1402.19 162.547 1397.61 Q159.491 1393 159.491 1384.27 Q159.491 1375.52 162.547 1370.94 Q165.626 1366.33 171.436 1366.33 Z\" fill=\"#000000\" fill-rule=\"nonzero\" fill-opacity=\"1\" /><path clip-path=\"url(#clip550)\" d=\"M127.2 1047.97 Q123.589 1047.97 121.76 1051.54 Q119.955 1055.08 119.955 1062.21 Q119.955 1069.31 121.76 1072.88 Q123.589 1076.42 127.2 1076.42 Q130.834 1076.42 132.64 1072.88 Q134.468 1069.31 134.468 1062.21 Q134.468 1055.08 132.64 1051.54 Q130.834 1047.97 127.2 1047.97 M127.2 1044.27 Q133.01 1044.27 136.066 1048.87 Q139.144 1053.46 139.144 1062.21 Q139.144 1070.93 136.066 1075.54 Q133.01 1080.12 127.2 1080.12 Q121.39 1080.12 118.311 1075.54 Q115.256 1070.93 115.256 1062.21 Q115.256 1053.46 118.311 1048.87 Q121.39 1044.27 127.2 1044.27 Z\" fill=\"#000000\" fill-rule=\"nonzero\" fill-opacity=\"1\" /><path clip-path=\"url(#clip550)\" d=\"M147.362 1073.57 L152.246 1073.57 L152.246 1079.45 L147.362 1079.45 L147.362 1073.57 Z\" fill=\"#000000\" fill-rule=\"nonzero\" fill-opacity=\"1\" /><path clip-path=\"url(#clip550)\" d=\"M162.477 1044.89 L180.834 1044.89 L180.834 1048.83 L166.76 1048.83 L166.76 1057.3 Q167.778 1056.95 168.797 1056.79 Q169.815 1056.61 170.834 1056.61 Q176.621 1056.61 180.001 1059.78 Q183.38 1062.95 183.38 1068.36 Q183.38 1073.94 179.908 1077.05 Q176.436 1080.12 170.116 1080.12 Q167.94 1080.12 165.672 1079.75 Q163.427 1079.38 161.019 1078.64 L161.019 1073.94 Q163.102 1075.08 165.325 1075.63 Q167.547 1076.19 170.024 1076.19 Q174.028 1076.19 176.366 1074.08 Q178.704 1071.98 178.704 1068.36 Q178.704 1064.75 176.366 1062.65 Q174.028 1060.54 170.024 1060.54 Q168.149 1060.54 166.274 1060.96 Q164.422 1061.37 162.477 1062.25 L162.477 1044.89 Z\" fill=\"#000000\" fill-rule=\"nonzero\" fill-opacity=\"1\" /><path clip-path=\"url(#clip550)\" d=\"M117.015 753.452 L124.654 753.452 L124.654 727.087 L116.343 728.753 L116.343 724.494 L124.607 722.827 L129.283 722.827 L129.283 753.452 L136.922 753.452 L136.922 757.387 L117.015 757.387 L117.015 753.452 Z\" fill=\"#000000\" fill-rule=\"nonzero\" fill-opacity=\"1\" /><path clip-path=\"url(#clip550)\" d=\"M146.366 751.508 L151.251 751.508 L151.251 757.387 L146.366 757.387 L146.366 751.508 Z\" fill=\"#000000\" fill-rule=\"nonzero\" fill-opacity=\"1\" /><path clip-path=\"url(#clip550)\" d=\"M171.436 725.906 Q167.825 725.906 165.996 729.471 Q164.19 733.012 164.19 740.142 Q164.19 747.249 165.996 750.813 Q167.825 754.355 171.436 754.355 Q175.07 754.355 176.876 750.813 Q178.704 747.249 178.704 740.142 Q178.704 733.012 176.876 729.471 Q175.07 725.906 171.436 725.906 M171.436 722.202 Q177.246 722.202 180.301 726.809 Q183.38 731.392 183.38 740.142 Q183.38 748.869 180.301 753.475 Q177.246 758.059 171.436 758.059 Q165.626 758.059 162.547 753.475 Q159.491 748.869 159.491 740.142 Q159.491 731.392 162.547 726.809 Q165.626 722.202 171.436 722.202 Z\" fill=\"#000000\" fill-rule=\"nonzero\" fill-opacity=\"1\" /><path clip-path=\"url(#clip550)\" d=\"M118.01 431.387 L125.649 431.387 L125.649 405.021 L117.339 406.688 L117.339 402.429 L125.603 400.762 L130.279 400.762 L130.279 431.387 L137.917 431.387 L137.917 435.322 L118.01 435.322 L118.01 431.387 Z\" fill=\"#000000\" fill-rule=\"nonzero\" fill-opacity=\"1\" /><path clip-path=\"url(#clip550)\" d=\"M147.362 429.442 L152.246 429.442 L152.246 435.322 L147.362 435.322 L147.362 429.442 Z\" fill=\"#000000\" fill-rule=\"nonzero\" fill-opacity=\"1\" /><path clip-path=\"url(#clip550)\" d=\"M162.477 400.762 L180.834 400.762 L180.834 404.697 L166.76 404.697 L166.76 413.169 Q167.778 412.822 168.797 412.66 Q169.815 412.475 170.834 412.475 Q176.621 412.475 180.001 415.646 Q183.38 418.817 183.38 424.234 Q183.38 429.813 179.908 432.915 Q176.436 435.993 170.116 435.993 Q167.94 435.993 165.672 435.623 Q163.427 435.252 161.019 434.512 L161.019 429.813 Q163.102 430.947 165.325 431.502 Q167.547 432.058 170.024 432.058 Q174.028 432.058 176.366 429.952 Q178.704 427.845 178.704 424.234 Q178.704 420.623 176.366 418.516 Q174.028 416.41 170.024 416.41 Q168.149 416.41 166.274 416.827 Q164.422 417.243 162.477 418.123 L162.477 400.762 Z\" fill=\"#000000\" fill-rule=\"nonzero\" fill-opacity=\"1\" /><path clip-path=\"url(#clip550)\" d=\"M120.232 109.321 L136.552 109.321 L136.552 113.256 L114.607 113.256 L114.607 109.321 Q117.269 106.567 121.853 101.937 Q126.459 97.2843 127.64 95.9417 Q129.885 93.4186 130.765 91.6825 Q131.667 89.9233 131.667 88.2334 Q131.667 85.4788 129.723 83.7427 Q127.802 82.0066 124.7 82.0066 Q122.501 82.0066 120.047 82.7705 Q117.617 83.5344 114.839 85.0853 L114.839 80.3631 Q117.663 79.2289 120.117 78.6502 Q122.57 78.0715 124.607 78.0715 Q129.978 78.0715 133.172 80.7566 Q136.367 83.4418 136.367 87.9325 Q136.367 90.0621 135.556 91.9834 Q134.769 93.8816 132.663 96.4741 Q132.084 97.1454 128.982 100.363 Q125.88 103.557 120.232 109.321 Z\" fill=\"#000000\" fill-rule=\"nonzero\" fill-opacity=\"1\" /><path clip-path=\"url(#clip550)\" d=\"M146.366 107.377 L151.251 107.377 L151.251 113.256 L146.366 113.256 L146.366 107.377 Z\" fill=\"#000000\" fill-rule=\"nonzero\" fill-opacity=\"1\" /><path clip-path=\"url(#clip550)\" d=\"M171.436 81.7751 Q167.825 81.7751 165.996 85.3399 Q164.19 88.8816 164.19 96.0112 Q164.19 103.118 165.996 106.682 Q167.825 110.224 171.436 110.224 Q175.07 110.224 176.876 106.682 Q178.704 103.118 178.704 96.0112 Q178.704 88.8816 176.876 85.3399 Q175.07 81.7751 171.436 81.7751 M171.436 78.0715 Q177.246 78.0715 180.301 82.6779 Q183.38 87.2612 183.38 96.0112 Q183.38 104.738 180.301 109.344 Q177.246 113.928 171.436 113.928 Q165.626 113.928 162.547 109.344 Q159.491 104.738 159.491 96.0112 Q159.491 87.2612 162.547 82.6779 Q165.626 78.0715 171.436 78.0715 Z\" fill=\"#000000\" fill-rule=\"nonzero\" fill-opacity=\"1\" /><path clip-path=\"url(#clip550)\" d=\"M67.3143 788.875 Q73.68 791.358 75.6216 793.713 Q77.5631 796.068 77.5631 800.015 L77.5631 804.694 L72.6615 804.694 L72.6615 801.256 Q72.6615 798.837 71.5157 797.5 Q70.3699 796.164 66.1048 794.54 L63.4312 793.49 L28.3562 807.908 L28.3562 801.702 L56.238 790.562 L28.3562 779.422 L28.3562 773.215 L67.3143 788.875 Z\" fill=\"#000000\" fill-rule=\"nonzero\" fill-opacity=\"1\" /><path clip-path=\"url(#clip550)\" d=\"M14.5426 751.063 Q21.8632 755.328 29.0246 757.396 Q36.186 759.465 43.5384 759.465 Q50.8908 759.465 58.1159 757.396 Q65.3091 755.296 72.5979 751.063 L72.5979 756.155 Q65.1182 760.929 57.8931 763.317 Q50.668 765.672 43.5384 765.672 Q36.4406 765.672 29.2474 763.317 Q22.0542 760.961 14.5426 756.155 L14.5426 751.063 Z\" fill=\"#000000\" fill-rule=\"nonzero\" fill-opacity=\"1\" /><path clip-path=\"url(#clip550)\" d=\"M35.1993 711.945 Q31.2526 709.749 29.3747 706.694 Q27.4968 703.638 27.4968 699.5 Q27.4968 693.93 31.4117 690.907 Q35.2948 687.883 42.4881 687.883 L64.0042 687.883 L64.0042 693.771 L42.679 693.771 Q37.5546 693.771 35.072 695.585 Q32.5894 697.4 32.5894 701.124 Q32.5894 705.675 35.6131 708.317 Q38.6368 710.959 43.8567 710.959 L64.0042 710.959 L64.0042 716.847 L42.679 716.847 Q37.5228 716.847 35.072 718.661 Q32.5894 720.475 32.5894 724.263 Q32.5894 728.751 35.6449 731.393 Q38.6686 734.034 43.8567 734.034 L64.0042 734.034 L64.0042 739.923 L28.3562 739.923 L28.3562 734.034 L33.8944 734.034 Q30.616 732.029 29.0564 729.228 Q27.4968 726.427 27.4968 722.576 Q27.4968 718.693 29.4702 715.988 Q31.4436 713.25 35.1993 711.945 Z\" fill=\"#000000\" fill-rule=\"nonzero\" fill-opacity=\"1\" /><path clip-path=\"url(#clip550)\" d=\"M14.5426 677.125 L14.5426 672.032 Q22.0542 667.258 29.2474 664.903 Q36.4406 662.516 43.5384 662.516 Q50.668 662.516 57.8931 664.903 Q65.1182 667.258 72.5979 672.032 L72.5979 677.125 Q65.3091 672.892 58.1159 670.823 Q50.8908 668.722 43.5384 668.722 Q36.186 668.722 29.0246 670.823 Q21.8632 672.892 14.5426 677.125 Z\" fill=\"#000000\" fill-rule=\"nonzero\" fill-opacity=\"1\" /><polyline clip-path=\"url(#clip552)\" style=\"stroke:#009af9; stroke-linecap:round; stroke-linejoin:round; stroke-width:4; stroke-opacity:1; fill:none\" points=\"279.759,1384.24 300.536,1365.67 422.229,1259.1 478.841,1210.78 554.722,1147.27 617.422,1095.88 675.728,1048.97 748.921,991.278 814.576,940.669 889.727,884.06 945.902,842.666 1017.75,790.871 1083.33,744.721 1157.96,693.503 1217.13,653.89 1290.63,605.892 1346.93,570.045 1426.29,520.85 1485.6,485.114 1553.04,445.54 1619.84,407.468 1693.33,366.869 1749.46,336.766 1820.29,299.9 1885.8,266.918 1953.37,234.026 2021.85,201.848 2093.36,169.497 2149.7,144.912 2277.98,91.8794 2292.38,86.1857 \"/>\n",
       "<path clip-path=\"url(#clip550)\" d=\"M290.493 196.789 L556.261 196.789 L556.261 93.1086 L290.493 93.1086  Z\" fill=\"#ffffff\" fill-rule=\"evenodd\" fill-opacity=\"1\"/>\n",
       "<polyline clip-path=\"url(#clip550)\" style=\"stroke:#000000; stroke-linecap:round; stroke-linejoin:round; stroke-width:4; stroke-opacity:1; fill:none\" points=\"290.493,196.789 556.261,196.789 556.261,93.1086 290.493,93.1086 290.493,196.789 \"/>\n",
       "<polyline clip-path=\"url(#clip550)\" style=\"stroke:#009af9; stroke-linecap:round; stroke-linejoin:round; stroke-width:4; stroke-opacity:1; fill:none\" points=\"314.197,144.949 456.422,144.949 \"/>\n",
       "<path clip-path=\"url(#clip550)\" d=\"M493.969 164.636 Q492.163 169.266 490.45 170.678 Q488.737 172.09 485.867 172.09 L482.464 172.09 L482.464 168.525 L484.964 168.525 Q486.723 168.525 487.695 167.692 Q488.668 166.858 489.848 163.756 L490.612 161.812 L480.126 136.303 L484.64 136.303 L492.742 156.581 L500.844 136.303 L505.357 136.303 L493.969 164.636 Z\" fill=\"#000000\" fill-rule=\"nonzero\" fill-opacity=\"1\" /><path clip-path=\"url(#clip550)\" d=\"M512.649 158.293 L520.288 158.293 L520.288 131.928 L511.978 133.595 L511.978 129.335 L520.242 127.669 L524.918 127.669 L524.918 158.293 L532.556 158.293 L532.556 162.229 L512.649 162.229 L512.649 158.293 Z\" fill=\"#000000\" fill-rule=\"nonzero\" fill-opacity=\"1\" /></svg>\n"
      ]
     },
     "metadata": {},
     "output_type": "display_data"
    }
   ],
   "source": [
    "plot(y₀, 0, 0.4)\n",
    "plot!(xlab=\"t(s)\", ylab=\"y(m)\")"
   ]
  },
  {
   "cell_type": "code",
   "execution_count": 14,
   "id": "2a022f9b",
   "metadata": {},
   "outputs": [
    {
     "data": {
      "application/vnd.plotly.v1+json": {
       "data": [
        {
         "colorbar": {
          "len": 0.914342738407699,
          "title": "",
          "x": 0.9934383202099737,
          "y": 0.5329861111111112
         },
         "legendgroup": "y1",
         "line": {
          "color": "rgba(0, 154, 250, 1.000)",
          "dash": "solid",
          "shape": "linear",
          "width": 1
         },
         "mode": "lines",
         "name": "y1",
         "showlegend": true,
         "type": "scatter",
         "x": [
          0,
          0.00412948259397328,
          0.0283154848583024,
          0.03956680940345998,
          0.05464777804655131,
          0.06710931256579386,
          0.07869730421925276,
          0.09324421326844136,
          0.10629286862939148,
          0.12122881615709481,
          0.13239343662361377,
          0.14667319926217534,
          0.15970639238675904,
          0.17453977540917254,
          0.18629854121212555,
          0.20090729292257004,
          0.21209523549446826,
          0.22786863120261658,
          0.23965580181076424,
          0.25306046227693196,
          0.26633567980069583,
          0.2809408513534748,
          0.2920966801180389,
          0.3061743773242941,
          0.319194778399059,
          0.33262306793981233,
          0.34623418971314196,
          0.3604467541561409,
          0.3716426694319378,
          0.39713936933749816,
          0.4
         ],
         "xaxis": "x",
         "y": [
          0,
          0.028822735024860238,
          0.19427572842917532,
          0.26928872937097637,
          0.3678862541650489,
          0.44767473647942996,
          0.5205031613185621,
          0.6100630522531014,
          0.6886325373209542,
          0.776515744222761,
          0.8407791081560383,
          0.9211909955274897,
          0.9928371703794195,
          1.0723518545187747,
          1.1338512351095362,
          1.2083669040438134,
          1.2640182208113562,
          1.3403926437307303,
          1.3958724117849963,
          1.4573090098683936,
          1.516415082892192,
          1.579445287064373,
          1.6261798528472904,
          1.6834124558068049,
          1.7346160201302274,
          1.785681568956162,
          1.835637178202414,
          1.8858605431297604,
          1.9240285533166186,
          2.006360561447948,
          2.0152
         ],
         "yaxis": "y"
        }
       ],
       "layout": {
        "annotations": [],
        "height": 400,
        "legend": {
         "bgcolor": "rgba(255, 255, 255, 1.000)",
         "bordercolor": "rgba(0, 0, 0, 1.000)",
         "borderwidth": 1,
         "font": {
          "color": "rgba(0, 0, 0, 1.000)",
          "family": "sans-serif",
          "size": 11
         },
         "title": {
          "font": {
           "color": "rgba(0, 0, 0, 1.000)",
           "family": "sans-serif",
           "size": 15
          },
          "text": ""
         },
         "tracegroupgap": 0,
         "traceorder": "normal",
         "x": 1,
         "xanchor": "auto",
         "y": 1,
         "yanchor": "auto"
        },
        "margin": {
         "b": 20,
         "l": 0,
         "r": 0,
         "t": 20
        },
        "paper_bgcolor": "rgba(255, 255, 255, 1.000)",
        "plot_bgcolor": "rgba(255, 255, 255, 1.000)",
        "showlegend": true,
        "width": 600,
        "xaxis": {
         "anchor": "y",
         "domain": [
          0.07646908719743364,
          0.9934383202099737
         ],
         "gridcolor": "rgba(0, 0, 0, 0.100)",
         "gridwidth": 0.5,
         "linecolor": "rgba(0, 0, 0, 1.000)",
         "mirror": false,
         "range": [
          -0.01200000000000001,
          0.41200000000000003
         ],
         "showgrid": true,
         "showline": true,
         "showticklabels": true,
         "tickangle": 0,
         "tickcolor": "rgb(0, 0, 0)",
         "tickfont": {
          "color": "rgba(0, 0, 0, 1.000)",
          "family": "sans-serif",
          "size": 11
         },
         "tickmode": "array",
         "ticks": "inside",
         "ticktext": [
          "0.0",
          "0.1",
          "0.2",
          "0.3",
          "0.4"
         ],
         "tickvals": [
          0,
          0.1,
          0.2,
          0.30000000000000004,
          0.4
         ],
         "title": "t(s)",
         "titlefont": {
          "color": "rgba(0, 0, 0, 1.000)",
          "family": "sans-serif",
          "size": 15
         },
         "type": "-",
         "visible": true,
         "zeroline": false,
         "zerolinecolor": "rgba(0, 0, 0, 1.000)"
        },
        "yaxis": {
         "anchor": "x",
         "domain": [
          0.07581474190726165,
          0.9901574803149606
         ],
         "gridcolor": "rgba(0, 0, 0, 0.100)",
         "gridwidth": 0.5,
         "linecolor": "rgba(0, 0, 0, 1.000)",
         "mirror": false,
         "range": [
          -0.060456000000000065,
          2.0756560000000004
         ],
         "showgrid": true,
         "showline": true,
         "showticklabels": true,
         "tickangle": 0,
         "tickcolor": "rgb(0, 0, 0)",
         "tickfont": {
          "color": "rgba(0, 0, 0, 1.000)",
          "family": "sans-serif",
          "size": 11
         },
         "tickmode": "array",
         "ticks": "inside",
         "ticktext": [
          "0.0",
          "0.5",
          "1.0",
          "1.5",
          "2.0"
         ],
         "tickvals": [
          0,
          0.5,
          1,
          1.5,
          2
         ],
         "title": "y(m)",
         "titlefont": {
          "color": "rgba(0, 0, 0, 1.000)",
          "family": "sans-serif",
          "size": 15
         },
         "type": "-",
         "visible": true,
         "zeroline": false,
         "zerolinecolor": "rgba(0, 0, 0, 1.000)"
        }
       }
      },
      "image/png": "[encoded data removed]",
      "image/svg+xml": [
       "<svg class=\"main-svg\" xmlns=\"http://www.w3.org/2000/svg\" xmlns:xlink=\"http://www.w3.org/1999/xlink\" width=\"700\" height=\"500\" style=\"\" viewBox=\"0 0 700 500\"><rect x=\"0\" y=\"0\" width=\"700\" height=\"500\" style=\"fill: rgb(255, 255, 255); fill-opacity: 1;\"/><defs id=\"defs-ba98f6\"><g class=\"clips\"><clipPath id=\"clipba98f6xyplot\" class=\"plotclip\"><rect width=\"641.8784631087781\" height=\"420.5976596675415\"/></clipPath><clipPath class=\"axesclip\" id=\"clipba98f6x\"><rect x=\"53.52836103820355\" y=\"0\" width=\"641.8784631087781\" height=\"500\"/></clipPath><clipPath class=\"axesclip\" id=\"clipba98f6y\"><rect x=\"0\" y=\"24.527559055118104\" width=\"700\" height=\"420.5976596675415\"/></clipPath><clipPath class=\"axesclip\" id=\"clipba98f6xy\"><rect x=\"53.52836103820355\" y=\"24.527559055118104\" width=\"641.8784631087781\" height=\"420.5976596675415\"/></clipPath></g><g class=\"gradients\"/><g class=\"patterns\"/></defs><g class=\"bglayer\"/><g class=\"layer-below\"><g class=\"imagelayer\"/><g class=\"shapelayer\"/></g><g class=\"cartesianlayer\"><g class=\"subplot xy\"><g class=\"layer-subplot\"><g class=\"shapelayer\"/><g class=\"imagelayer\"/></g><g class=\"minor-gridlayer\"><g class=\"x\"/><g class=\"y\"/></g><g class=\"gridlayer\"><g class=\"x\"><path class=\"xgrid crisp\" transform=\"translate(71.69836103820356,0)\" d=\"M0,24.527559055118104v420.5976596675415\" style=\"stroke: rgb(0, 0, 0); stroke-opacity: 0.1; stroke-width: 0.5px;\"/><path class=\"xgrid crisp\" transform=\"translate(223.07836103820355,0)\" d=\"M0,24.527559055118104v420.5976596675415\" style=\"stroke: rgb(0, 0, 0); stroke-opacity: 0.1; stroke-width: 0.5px;\"/><path class=\"xgrid crisp\" transform=\"translate(374.46836103820357,0)\" d=\"M0,24.527559055118104v420.5976596675415\" style=\"stroke: rgb(0, 0, 0); stroke-opacity: 0.1; stroke-width: 0.5px;\"/><path class=\"xgrid crisp\" transform=\"translate(525.8583610382035,0)\" d=\"M0,24.527559055118104v420.5976596675415\" style=\"stroke: rgb(0, 0, 0); stroke-opacity: 0.1; stroke-width: 0.5px;\"/><path class=\"xgrid crisp\" transform=\"translate(677.2383610382036,0)\" d=\"M0,24.527559055118104v420.5976596675415\" style=\"stroke: rgb(0, 0, 0); stroke-opacity: 0.1; stroke-width: 0.5px;\"/></g><g class=\"y\"><path class=\"ygrid crisp\" transform=\"translate(0,433.2175590551181)\" d=\"M53.52836103820355,0h641.8784631087781\" style=\"stroke: rgb(0, 0, 0); stroke-opacity: 0.1; stroke-width: 0.5px;\"/><path class=\"ygrid crisp\" transform=\"translate(0,334.7675590551181)\" d=\"M53.52836103820355,0h641.8784631087781\" style=\"stroke: rgb(0, 0, 0); stroke-opacity: 0.1; stroke-width: 0.5px;\"/><path class=\"ygrid crisp\" transform=\"translate(0,236.32755905511812)\" d=\"M53.52836103820355,0h641.8784631087781\" style=\"stroke: rgb(0, 0, 0); stroke-opacity: 0.1; stroke-width: 0.5px;\"/><path class=\"ygrid crisp\" transform=\"translate(0,137.8775590551181)\" d=\"M53.52836103820355,0h641.8784631087781\" style=\"stroke: rgb(0, 0, 0); stroke-opacity: 0.1; stroke-width: 0.5px;\"/><path class=\"ygrid crisp\" transform=\"translate(0,39.4275590551181)\" d=\"M53.52836103820355,0h641.8784631087781\" style=\"stroke: rgb(0, 0, 0); stroke-opacity: 0.1; stroke-width: 0.5px;\"/></g></g><g class=\"zerolinelayer\"/><g class=\"layer-between\"><g class=\"shapelayer\"/><g class=\"imagelayer\"/></g><path class=\"xlines-below\"/><path class=\"ylines-below\"/><g class=\"overlines-below\"/><g class=\"xaxislayer-below\"/><g class=\"yaxislayer-below\"/><g class=\"overaxes-below\"/><g class=\"overplot\"><g class=\"xy\" transform=\"translate(53.52836103820355,24.527559055118104)\" clip-path=\"url(#clipba98f6xyplot)\"><g class=\"scatterlayer mlayer\"><g class=\"trace scatter trace7ea8e1\" style=\"stroke-miterlimit: 2; opacity: 1;\"><g class=\"fills\"/><g class=\"errorbars\"/><g class=\"lines\"><path class=\"js-line\" d=\"M18.17,408.69L61.03,370.44L78.07,355.67L137.3,306.21L159.33,288.57L201.69,255.8L218.59,243.15L259.94,213.21L282.4,197.55L322.31,170.77L339.25,159.81L380.97,133.85L401.27,121.75L443.47,97.7L460.36,88.5L501.38,67.15L521.71,57.1L563.83,37.37L580.78,29.86L623.71,11.9\" style=\"vector-effect: none; fill: none; stroke: rgb(0, 154, 250); stroke-opacity: 1; stroke-width: 1px; opacity: 1;\"/></g><g class=\"points\"/><g class=\"text\"/></g></g></g></g><path class=\"xlines-above crisp\" d=\"M52.52836103820355,445.6252187226596H695.4068241469816\" style=\"fill: none; stroke-width: 1px; stroke: rgb(0, 0, 0); stroke-opacity: 1;\"/><path class=\"ylines-above crisp\" d=\"M53.02836103820355,24.527559055118104V445.1252187226596\" style=\"fill: none; stroke-width: 1px; stroke: rgb(0, 0, 0); stroke-opacity: 1;\"/><g class=\"overlines-above\"/><g class=\"xaxislayer-above\"><path class=\"xtick ticks crisp\" d=\"M0,445.1252187226596v-5\" transform=\"translate(71.69836103820356,0)\" style=\"stroke: rgb(0, 0, 0); stroke-opacity: 1; stroke-width: 1px;\"/><path class=\"xtick ticks crisp\" d=\"M0,445.1252187226596v-5\" transform=\"translate(223.07836103820355,0)\" style=\"stroke: rgb(0, 0, 0); stroke-opacity: 1; stroke-width: 1px;\"/><path class=\"xtick ticks crisp\" d=\"M0,445.1252187226596v-5\" transform=\"translate(374.46836103820357,0)\" style=\"stroke: rgb(0, 0, 0); stroke-opacity: 1; stroke-width: 1px;\"/><path class=\"xtick ticks crisp\" d=\"M0,445.1252187226596v-5\" transform=\"translate(525.8583610382035,0)\" style=\"stroke: rgb(0, 0, 0); stroke-opacity: 1; stroke-width: 1px;\"/><path class=\"xtick ticks crisp\" d=\"M0,445.1252187226596v-5\" transform=\"translate(677.2383610382036,0)\" style=\"stroke: rgb(0, 0, 0); stroke-opacity: 1; stroke-width: 1px;\"/><g class=\"xtick\"><text text-anchor=\"middle\" x=\"0\" y=\"459.3252187226596\" transform=\"translate(71.69836103820356,0)\" style=\"font-family: sans-serif; font-size: 11px; fill: rgb(0, 0, 0); fill-opacity: 1; white-space: pre; opacity: 1;\">0.0</text></g><g class=\"xtick\"><text text-anchor=\"middle\" x=\"0\" y=\"459.3252187226596\" style=\"font-family: sans-serif; font-size: 11px; fill: rgb(0, 0, 0); fill-opacity: 1; white-space: pre; opacity: 1;\" transform=\"translate(223.07836103820355,0)\">0.1</text></g><g class=\"xtick\"><text text-anchor=\"middle\" x=\"0\" y=\"459.3252187226596\" style=\"font-family: sans-serif; font-size: 11px; fill: rgb(0, 0, 0); fill-opacity: 1; white-space: pre; opacity: 1;\" transform=\"translate(374.46836103820357,0)\">0.2</text></g><g class=\"xtick\"><text text-anchor=\"middle\" x=\"0\" y=\"459.3252187226596\" style=\"font-family: sans-serif; font-size: 11px; fill: rgb(0, 0, 0); fill-opacity: 1; white-space: pre; opacity: 1;\" transform=\"translate(525.8583610382035,0)\">0.3</text></g><g class=\"xtick\"><text text-anchor=\"middle\" x=\"0\" y=\"459.3252187226596\" style=\"font-family: sans-serif; font-size: 11px; fill: rgb(0, 0, 0); fill-opacity: 1; white-space: pre; opacity: 1;\" transform=\"translate(677.2383610382036,0)\">0.4</text></g></g><g class=\"yaxislayer-above\"><path class=\"ytick ticks crisp\" d=\"M53.52836103820355,0h5\" transform=\"translate(0,433.2175590551181)\" style=\"stroke: rgb(0, 0, 0); stroke-opacity: 1; stroke-width: 1px;\"/><path class=\"ytick ticks crisp\" d=\"M53.52836103820355,0h5\" transform=\"translate(0,334.7675590551181)\" style=\"stroke: rgb(0, 0, 0); stroke-opacity: 1; stroke-width: 1px;\"/><path class=\"ytick ticks crisp\" d=\"M53.52836103820355,0h5\" transform=\"translate(0,236.32755905511812)\" style=\"stroke: rgb(0, 0, 0); stroke-opacity: 1; stroke-width: 1px;\"/><path class=\"ytick ticks crisp\" d=\"M53.52836103820355,0h5\" transform=\"translate(0,137.8775590551181)\" style=\"stroke: rgb(0, 0, 0); stroke-opacity: 1; stroke-width: 1px;\"/><path class=\"ytick ticks crisp\" d=\"M53.52836103820355,0h5\" transform=\"translate(0,39.4275590551181)\" style=\"stroke: rgb(0, 0, 0); stroke-opacity: 1; stroke-width: 1px;\"/><g class=\"ytick\"><text text-anchor=\"end\" x=\"50.328361038203546\" y=\"3.8499999999999996\" transform=\"translate(0,433.2175590551181)\" style=\"font-family: sans-serif; font-size: 11px; fill: rgb(0, 0, 0); fill-opacity: 1; white-space: pre; opacity: 1;\">0.0</text></g><g class=\"ytick\"><text text-anchor=\"end\" x=\"50.328361038203546\" y=\"3.8499999999999996\" style=\"font-family: sans-serif; font-size: 11px; fill: rgb(0, 0, 0); fill-opacity: 1; white-space: pre; opacity: 1;\" transform=\"translate(0,334.7675590551181)\">0.5</text></g><g class=\"ytick\"><text text-anchor=\"end\" x=\"50.328361038203546\" y=\"3.8499999999999996\" style=\"font-family: sans-serif; font-size: 11px; fill: rgb(0, 0, 0); fill-opacity: 1; white-space: pre; opacity: 1;\" transform=\"translate(0,236.32755905511812)\">1.0</text></g><g class=\"ytick\"><text text-anchor=\"end\" x=\"50.328361038203546\" y=\"3.8499999999999996\" style=\"font-family: sans-serif; font-size: 11px; fill: rgb(0, 0, 0); fill-opacity: 1; white-space: pre; opacity: 1;\" transform=\"translate(0,137.8775590551181)\">1.5</text></g><g class=\"ytick\"><text text-anchor=\"end\" x=\"50.328361038203546\" y=\"3.8499999999999996\" style=\"font-family: sans-serif; font-size: 11px; fill: rgb(0, 0, 0); fill-opacity: 1; white-space: pre; opacity: 1;\" transform=\"translate(0,39.4275590551181)\">2.0</text></g></g><g class=\"overaxes-above\"/></g></g><g class=\"polarlayer\"/><g class=\"smithlayer\"/><g class=\"ternarylayer\"/><g class=\"geolayer\"/><g class=\"funnelarealayer\"/><g class=\"pielayer\"/><g class=\"iciclelayer\"/><g class=\"treemaplayer\"/><g class=\"sunburstlayer\"/><g class=\"glimages\"/><defs id=\"topdefs-ba98f6\"><g class=\"clips\"/><clipPath id=\"legendba98f6\"><rect width=\"57\" height=\"29\" x=\"1\" y=\"1\"/></clipPath></defs><g class=\"layer-above\"><g class=\"imagelayer\"/><g class=\"shapelayer\"/></g><g class=\"infolayer\"><g class=\"legend\" pointer-events=\"all\" transform=\"translate(641,20)\"><rect class=\"bg\" shape-rendering=\"crispEdges\" style=\"stroke: rgb(0, 0, 0); stroke-opacity: 1; fill: rgb(255, 255, 255); fill-opacity: 1; stroke-width: 1px;\" width=\"58\" height=\"30\" x=\"0.5\" y=\"0.5\"/><g class=\"scrollbox\" transform=\"\" clip-path=\"url(#legendba98f6)\"><g class=\"groups\"><g class=\"traces\" transform=\"translate(1,15.5)\" style=\"opacity: 1;\"><text class=\"legendtext\" text-anchor=\"start\" x=\"40\" y=\"4.29\" style=\"font-family: sans-serif; font-size: 11px; fill: rgb(0, 0, 0); fill-opacity: 1; white-space: pre;\">y1</text><g class=\"layers\" style=\"opacity: 1;\"><g class=\"legendfill\"/><g class=\"legendlines\"><path class=\"js-line\" d=\"M5,0h30\" style=\"fill: none; stroke: rgb(0, 154, 250); stroke-opacity: 1; stroke-width: 1px;\"/></g><g class=\"legendsymbols\"><g class=\"legendpoints\"/></g></g><rect class=\"legendtoggle\" x=\"0\" y=\"-9.5\" width=\"51.625\" height=\"19\" style=\"fill: rgb(0, 0, 0); fill-opacity: 0;\"/></g></g></g><rect class=\"scrollbar\" rx=\"20\" ry=\"3\" width=\"0\" height=\"0\" style=\"fill: rgb(128, 139, 164); fill-opacity: 1;\" x=\"0\" y=\"0\"/></g><g class=\"g-gtitle\"/><g class=\"g-xtitle\"><text class=\"xtitle\" x=\"374.4675925925926\" y=\"486.328125\" text-anchor=\"middle\" style=\"opacity: 1; font-family: sans-serif; font-size: 15px; fill: rgb(0, 0, 0); fill-opacity: 1; white-space: pre;\">t(s)</text></g><g class=\"g-ytitle\"><text class=\"ytitle\" transform=\"rotate(-90,15.28125,234.82638888888886)\" x=\"15.28125\" y=\"234.82638888888886\" text-anchor=\"middle\" style=\"opacity: 1; font-family: sans-serif; font-size: 15px; fill: rgb(0, 0, 0); fill-opacity: 1; white-space: pre;\">y(m)</text></g></g></svg>"
      ],
      "text/html": [
       "<script src=\"https://cdn.plot.ly/plotly-2.6.3.min.js\"></script>    <div id=\"f865ef56-a3a6-499f-9390-c987ce20df55\" style=\"width:600px;height:400px;\"></div>\n",
       "    <script>\n",
       "    \n",
       "    Plotly.newPlot('f865ef56-a3a6-499f-9390-c987ce20df55', [\n",
       "    {\n",
       "        \"showlegend\": true,\n",
       "        \"mode\": \"lines\",\n",
       "        \"xaxis\": \"x\",\n",
       "        \"colorbar\": {\n",
       "            \"y\": 0.5329861111111112,\n",
       "            \"title\": \"\",\n",
       "            \"len\": 0.914342738407699,\n",
       "            \"x\": 0.9934383202099737\n",
       "        },\n",
       "        \"name\": \"y1\",\n",
       "        \"yaxis\": \"y\",\n",
       "        \"legendgroup\": \"y1\",\n",
       "        \"line\": {\n",
       "            \"color\": \"rgba(0, 154, 250, 1.000)\",\n",
       "            \"shape\": \"linear\",\n",
       "            \"dash\": \"solid\",\n",
       "            \"width\": 1\n",
       "        },\n",
       "        \"y\": [\n",
       "            0.0,\n",
       "            0.028822735024860238,\n",
       "            0.19427572842917532,\n",
       "            0.26928872937097637,\n",
       "            0.3678862541650489,\n",
       "            0.44767473647942996,\n",
       "            0.5205031613185621,\n",
       "            0.6100630522531014,\n",
       "            0.6886325373209542,\n",
       "            0.776515744222761,\n",
       "            0.8407791081560383,\n",
       "            0.9211909955274897,\n",
       "            0.9928371703794195,\n",
       "            1.0723518545187747,\n",
       "            1.1338512351095362,\n",
       "            1.2083669040438134,\n",
       "            1.2640182208113562,\n",
       "            1.3403926437307303,\n",
       "            1.3958724117849963,\n",
       "            1.4573090098683936,\n",
       "            1.516415082892192,\n",
       "            1.579445287064373,\n",
       "            1.6261798528472904,\n",
       "            1.6834124558068049,\n",
       "            1.7346160201302274,\n",
       "            1.785681568956162,\n",
       "            1.835637178202414,\n",
       "            1.8858605431297604,\n",
       "            1.9240285533166186,\n",
       "            2.006360561447948,\n",
       "            2.0152\n",
       "        ],\n",
       "        \"type\": \"scatter\",\n",
       "        \"x\": [\n",
       "            0.0,\n",
       "            0.00412948259397328,\n",
       "            0.0283154848583024,\n",
       "            0.03956680940345998,\n",
       "            0.05464777804655131,\n",
       "            0.06710931256579386,\n",
       "            0.07869730421925276,\n",
       "            0.09324421326844136,\n",
       "            0.10629286862939148,\n",
       "            0.12122881615709481,\n",
       "            0.13239343662361377,\n",
       "            0.14667319926217534,\n",
       "            0.15970639238675904,\n",
       "            0.17453977540917254,\n",
       "            0.18629854121212555,\n",
       "            0.20090729292257004,\n",
       "            0.21209523549446826,\n",
       "            0.22786863120261658,\n",
       "            0.23965580181076424,\n",
       "            0.25306046227693196,\n",
       "            0.26633567980069583,\n",
       "            0.2809408513534748,\n",
       "            0.2920966801180389,\n",
       "            0.3061743773242941,\n",
       "            0.319194778399059,\n",
       "            0.33262306793981233,\n",
       "            0.34623418971314196,\n",
       "            0.3604467541561409,\n",
       "            0.3716426694319378,\n",
       "            0.39713936933749816,\n",
       "            0.4\n",
       "        ]\n",
       "    }\n",
       "]\n",
       ", {\n",
       "    \"showlegend\": true,\n",
       "    \"xaxis\": {\n",
       "        \"showticklabels\": true,\n",
       "        \"gridwidth\": 0.5,\n",
       "        \"tickvals\": [\n",
       "            0.0,\n",
       "            0.1,\n",
       "            0.2,\n",
       "            0.30000000000000004,\n",
       "            0.4\n",
       "        ],\n",
       "        \"range\": [\n",
       "            -0.01200000000000001,\n",
       "            0.41200000000000003\n",
       "        ],\n",
       "        \"domain\": [\n",
       "            0.07646908719743364,\n",
       "            0.9934383202099737\n",
       "        ],\n",
       "        \"mirror\": false,\n",
       "        \"tickangle\": 0,\n",
       "        \"showline\": true,\n",
       "        \"ticktext\": [\n",
       "            \"0.0\",\n",
       "            \"0.1\",\n",
       "            \"0.2\",\n",
       "            \"0.3\",\n",
       "            \"0.4\"\n",
       "        ],\n",
       "        \"zeroline\": false,\n",
       "        \"tickfont\": {\n",
       "            \"color\": \"rgba(0, 0, 0, 1.000)\",\n",
       "            \"family\": \"sans-serif\",\n",
       "            \"size\": 11\n",
       "        },\n",
       "        \"zerolinecolor\": \"rgba(0, 0, 0, 1.000)\",\n",
       "        \"anchor\": \"y\",\n",
       "        \"visible\": true,\n",
       "        \"ticks\": \"inside\",\n",
       "        \"tickmode\": \"array\",\n",
       "        \"linecolor\": \"rgba(0, 0, 0, 1.000)\",\n",
       "        \"showgrid\": true,\n",
       "        \"title\": \"t(s)\",\n",
       "        \"gridcolor\": \"rgba(0, 0, 0, 0.100)\",\n",
       "        \"titlefont\": {\n",
       "            \"color\": \"rgba(0, 0, 0, 1.000)\",\n",
       "            \"family\": \"sans-serif\",\n",
       "            \"size\": 15\n",
       "        },\n",
       "        \"tickcolor\": \"rgb(0, 0, 0)\",\n",
       "        \"type\": \"-\"\n",
       "    },\n",
       "    \"paper_bgcolor\": \"rgba(255, 255, 255, 1.000)\",\n",
       "    \"annotations\": [],\n",
       "    \"height\": 400,\n",
       "    \"margin\": {\n",
       "        \"l\": 0,\n",
       "        \"b\": 20,\n",
       "        \"r\": 0,\n",
       "        \"t\": 20\n",
       "    },\n",
       "    \"plot_bgcolor\": \"rgba(255, 255, 255, 1.000)\",\n",
       "    \"yaxis\": {\n",
       "        \"showticklabels\": true,\n",
       "        \"gridwidth\": 0.5,\n",
       "        \"tickvals\": [\n",
       "            0.0,\n",
       "            0.5,\n",
       "            1.0,\n",
       "            1.5,\n",
       "            2.0\n",
       "        ],\n",
       "        \"range\": [\n",
       "            -0.060456000000000065,\n",
       "            2.0756560000000004\n",
       "        ],\n",
       "        \"domain\": [\n",
       "            0.07581474190726165,\n",
       "            0.9901574803149606\n",
       "        ],\n",
       "        \"mirror\": false,\n",
       "        \"tickangle\": 0,\n",
       "        \"showline\": true,\n",
       "        \"ticktext\": [\n",
       "            \"0.0\",\n",
       "            \"0.5\",\n",
       "            \"1.0\",\n",
       "            \"1.5\",\n",
       "            \"2.0\"\n",
       "        ],\n",
       "        \"zeroline\": false,\n",
       "        \"tickfont\": {\n",
       "            \"color\": \"rgba(0, 0, 0, 1.000)\",\n",
       "            \"family\": \"sans-serif\",\n",
       "            \"size\": 11\n",
       "        },\n",
       "        \"zerolinecolor\": \"rgba(0, 0, 0, 1.000)\",\n",
       "        \"anchor\": \"x\",\n",
       "        \"visible\": true,\n",
       "        \"ticks\": \"inside\",\n",
       "        \"tickmode\": \"array\",\n",
       "        \"linecolor\": \"rgba(0, 0, 0, 1.000)\",\n",
       "        \"showgrid\": true,\n",
       "        \"title\": \"y(m)\",\n",
       "        \"gridcolor\": \"rgba(0, 0, 0, 0.100)\",\n",
       "        \"titlefont\": {\n",
       "            \"color\": \"rgba(0, 0, 0, 1.000)\",\n",
       "            \"family\": \"sans-serif\",\n",
       "            \"size\": 15\n",
       "        },\n",
       "        \"tickcolor\": \"rgb(0, 0, 0)\",\n",
       "        \"type\": \"-\"\n",
       "    },\n",
       "    \"legend\": {\n",
       "        \"yanchor\": \"auto\",\n",
       "        \"xanchor\": \"auto\",\n",
       "        \"bordercolor\": \"rgba(0, 0, 0, 1.000)\",\n",
       "        \"bgcolor\": \"rgba(255, 255, 255, 1.000)\",\n",
       "        \"borderwidth\": 1,\n",
       "        \"tracegroupgap\": 0,\n",
       "        \"y\": 1.0,\n",
       "        \"font\": {\n",
       "            \"color\": \"rgba(0, 0, 0, 1.000)\",\n",
       "            \"family\": \"sans-serif\",\n",
       "            \"size\": 11\n",
       "        },\n",
       "        \"title\": {\n",
       "            \"font\": {\n",
       "                \"color\": \"rgba(0, 0, 0, 1.000)\",\n",
       "                \"family\": \"sans-serif\",\n",
       "                \"size\": 15\n",
       "            },\n",
       "            \"text\": \"\"\n",
       "        },\n",
       "        \"traceorder\": \"normal\",\n",
       "        \"x\": 1.0\n",
       "    },\n",
       "    \"width\": 600\n",
       "}\n",
       ");\n",
       "    \n",
       "    </script>\n"
      ]
     },
     "metadata": {},
     "output_type": "display_data"
    }
   ],
   "source": [
    "plotly()\n",
    "plot(y₀, 0, 0.4)\n",
    "plot!(xlab=\"t(s)\", ylab=\"y(m)\")"
   ]
  },
  {
   "cell_type": "code",
   "execution_count": 16,
   "id": "d2d44dfb",
   "metadata": {},
   "outputs": [
    {
     "data": {
      "text/plain": [
       "2×2 Matrix{Int64}:\n",
       " 19  22\n",
       " 43  50"
      ]
     },
     "metadata": {},
     "output_type": "display_data"
    }
   ],
   "source": [
    "A = [1 2 ; 3 4]\n",
    "B = [5 6 ; 7 8]\n",
    "A*B"
   ]
  },
  {
   "cell_type": "code",
   "execution_count": null,
   "id": "6c3e7fa7",
   "metadata": {},
   "outputs": [],
   "source": []
  }
 ],
 "metadata": {
  "kernelspec": {
   "display_name": "Julia 1.10.0",
   "language": "julia",
   "name": "julia-1.10"
  },
  "language_info": {
   "file_extension": ".jl",
   "mimetype": "application/julia",
   "name": "julia",
   "version": "1.10.0"
  }
 },
 "nbformat": 4,
 "nbformat_minor": 5
}
