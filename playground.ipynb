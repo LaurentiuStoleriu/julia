{
 "cells": [
  {
   "cell_type": "markdown",
   "metadata": {},
   "source": [
    "cont1 = 0\n",
    "cont2 = 0\n",
    "a = \"\"\n",
    "occur = [0,0,0,0,0,0,0,0,0,0]\n",
    "for j = 1000:9999\n",
    "    if isodd(j)\n",
    "        cont1 += 1\n",
    "        contp = 0\n",
    "        conti = 0\n",
    "        for c in string(j)\n",
    "            if isodd(parse(Int64, c))\n",
    "                conti += 1\n",
    "            else\n",
    "                contp += 1\n",
    "            end\n",
    "        end\n",
    "        if (conti == 2) && (contp == 2)\n",
    "            cont2 += 1\n",
    "        end\n",
    "    end\n",
    "end\n",
    "cont1\n",
    "cont2"
   ]
  },
  {
   "cell_type": "code",
   "execution_count": 16,
   "metadata": {},
   "outputs": [],
   "source": [
    "using CSV, DataFrames"
   ]
  },
  {
   "cell_type": "code",
   "execution_count": 17,
   "metadata": {},
   "outputs": [
    {
     "data": {
      "text/plain": [
       "\"/mnt/f/_Download/access.log\""
      ]
     },
     "metadata": {},
     "output_type": "display_data"
    }
   ],
   "source": [
    "root = dirname(\"/mnt/f/_Download/\")\n",
    "inputLOG = joinpath(root, \"access.log\")"
   ]
  },
  {
   "cell_type": "code",
   "execution_count": 18,
   "metadata": {},
   "outputs": [
    {
     "data": {
      "text/html": [
       "<div class=\"data-frame\"><p>2,490,861 rows × 8 columns (omitted printing of 4 columns)</p><table class=\"data-frame\"><thead><tr><th></th><th>Column1</th><th>Column2</th><th>Column3</th><th>Column4</th></tr><tr><th></th><th title=\"String15\">String15</th><th title=\"Dates.Time\">Time</th><th title=\"String7\">String7</th><th title=\"String\">String</th></tr></thead><tbody><tr><th>1</th><td>89.42.92.180</td><td>07:38:38</td><td>+0300]</td><td>GET / HTTP/1.1</td></tr><tr><th>2</th><td>89.42.92.180</td><td>07:38:38</td><td>+0300]</td><td>GET /css/lightbox.css HTTP/1.1</td></tr><tr><th>3</th><td>89.42.92.180</td><td>07:38:38</td><td>+0300]</td><td>GET /js/prototype.js HTTP/1.1</td></tr><tr><th>4</th><td>89.42.92.180</td><td>07:38:38</td><td>+0300]</td><td>GET /js/scriptaculous.js?load=effects,builder HTTP/1.1</td></tr><tr><th>5</th><td>89.42.92.180</td><td>07:38:38</td><td>+0300]</td><td>GET /js/lightbox.js HTTP/1.1</td></tr><tr><th>6</th><td>89.42.92.180</td><td>07:38:38</td><td>+0300]</td><td>GET /1.png HTTP/1.1</td></tr><tr><th>7</th><td>89.42.92.180</td><td>07:38:38</td><td>+0300]</td><td>GET /5.png HTTP/1.1</td></tr><tr><th>8</th><td>89.42.92.180</td><td>07:38:38</td><td>+0300]</td><td>GET /4.png HTTP/1.1</td></tr><tr><th>9</th><td>89.42.92.180</td><td>07:38:38</td><td>+0300]</td><td>GET /3.png HTTP/1.1</td></tr><tr><th>10</th><td>89.42.92.180</td><td>07:38:38</td><td>+0300]</td><td>GET /2.png HTTP/1.1</td></tr><tr><th>11</th><td>89.42.92.180</td><td>07:38:38</td><td>+0300]</td><td>GET /images/sigla_60fiz.png HTTP/1.1</td></tr><tr><th>12</th><td>89.42.92.180</td><td>07:38:38</td><td>+0300]</td><td>GET /js/effects.js HTTP/1.1</td></tr><tr><th>13</th><td>89.42.92.180</td><td>07:38:38</td><td>+0300]</td><td>GET /js/builder.js HTTP/1.1</td></tr><tr><th>14</th><td>89.42.92.180</td><td>07:38:38</td><td>+0300]</td><td>GET /images/loading.gif HTTP/1.1</td></tr><tr><th>15</th><td>89.42.92.180</td><td>07:38:38</td><td>+0300]</td><td>GET /images/closelabel.gif HTTP/1.1</td></tr><tr><th>16</th><td>89.42.92.180</td><td>07:38:48</td><td>+0300]</td><td>GET /moodle/ HTTP/1.1</td></tr><tr><th>17</th><td>89.42.92.180</td><td>07:38:48</td><td>+0300]</td><td>GET /moodle/lib/javascript-static.js HTTP/1.1</td></tr><tr><th>18</th><td>89.42.92.180</td><td>07:38:48</td><td>+0300]</td><td>GET /moodle/theme/standard/styles.php HTTP/1.1</td></tr><tr><th>19</th><td>89.42.92.180</td><td>07:38:48</td><td>+0300]</td><td>GET /moodle/theme/simplicity/styles.php HTTP/1.1</td></tr><tr><th>20</th><td>89.42.92.180</td><td>07:38:48</td><td>+0300]</td><td>GET /moodle/lib/overlib/overlib.js HTTP/1.1</td></tr><tr><th>21</th><td>89.42.92.180</td><td>07:38:48</td><td>+0300]</td><td>GET /moodle/lib/overlib/overlib_cssstyle.js HTTP/1.1</td></tr><tr><th>22</th><td>89.42.92.180</td><td>07:38:48</td><td>+0300]</td><td>GET /moodle/lib/javascript-mod.php HTTP/1.1</td></tr><tr><th>23</th><td>89.42.92.180</td><td>07:38:48</td><td>+0300]</td><td>GET /moodle/lib/cookies.js HTTP/1.1</td></tr><tr><th>24</th><td>89.42.92.180</td><td>07:38:48</td><td>+0300]</td><td>GET /moodle/lib/ufo.js HTTP/1.1</td></tr><tr><th>&vellip;</th><td>&vellip;</td><td>&vellip;</td><td>&vellip;</td><td>&vellip;</td></tr></tbody></table></div>"
      ],
      "text/latex": [
       "\\begin{tabular}{r|ccccc}\n",
       "\t& Column1 & Column2 & Column3 & Column4 & \\\\\n",
       "\t\\hline\n",
       "\t& String15 & Time & String7 & String & \\\\\n",
       "\t\\hline\n",
       "\t1 & 89.42.92.180 & 07:38:38 & +0300] & GET / HTTP/1.1 & $\\dots$ \\\\\n",
       "\t2 & 89.42.92.180 & 07:38:38 & +0300] & GET /css/lightbox.css HTTP/1.1 & $\\dots$ \\\\\n",
       "\t3 & 89.42.92.180 & 07:38:38 & +0300] & GET /js/prototype.js HTTP/1.1 & $\\dots$ \\\\\n",
       "\t4 & 89.42.92.180 & 07:38:38 & +0300] & GET /js/scriptaculous.js?load=effects,builder HTTP/1.1 & $\\dots$ \\\\\n",
       "\t5 & 89.42.92.180 & 07:38:38 & +0300] & GET /js/lightbox.js HTTP/1.1 & $\\dots$ \\\\\n",
       "\t6 & 89.42.92.180 & 07:38:38 & +0300] & GET /1.png HTTP/1.1 & $\\dots$ \\\\\n",
       "\t7 & 89.42.92.180 & 07:38:38 & +0300] & GET /5.png HTTP/1.1 & $\\dots$ \\\\\n",
       "\t8 & 89.42.92.180 & 07:38:38 & +0300] & GET /4.png HTTP/1.1 & $\\dots$ \\\\\n",
       "\t9 & 89.42.92.180 & 07:38:38 & +0300] & GET /3.png HTTP/1.1 & $\\dots$ \\\\\n",
       "\t10 & 89.42.92.180 & 07:38:38 & +0300] & GET /2.png HTTP/1.1 & $\\dots$ \\\\\n",
       "\t11 & 89.42.92.180 & 07:38:38 & +0300] & GET /images/sigla\\_60fiz.png HTTP/1.1 & $\\dots$ \\\\\n",
       "\t12 & 89.42.92.180 & 07:38:38 & +0300] & GET /js/effects.js HTTP/1.1 & $\\dots$ \\\\\n",
       "\t13 & 89.42.92.180 & 07:38:38 & +0300] & GET /js/builder.js HTTP/1.1 & $\\dots$ \\\\\n",
       "\t14 & 89.42.92.180 & 07:38:38 & +0300] & GET /images/loading.gif HTTP/1.1 & $\\dots$ \\\\\n",
       "\t15 & 89.42.92.180 & 07:38:38 & +0300] & GET /images/closelabel.gif HTTP/1.1 & $\\dots$ \\\\\n",
       "\t16 & 89.42.92.180 & 07:38:48 & +0300] & GET /moodle/ HTTP/1.1 & $\\dots$ \\\\\n",
       "\t17 & 89.42.92.180 & 07:38:48 & +0300] & GET /moodle/lib/javascript-static.js HTTP/1.1 & $\\dots$ \\\\\n",
       "\t18 & 89.42.92.180 & 07:38:48 & +0300] & GET /moodle/theme/standard/styles.php HTTP/1.1 & $\\dots$ \\\\\n",
       "\t19 & 89.42.92.180 & 07:38:48 & +0300] & GET /moodle/theme/simplicity/styles.php HTTP/1.1 & $\\dots$ \\\\\n",
       "\t20 & 89.42.92.180 & 07:38:48 & +0300] & GET /moodle/lib/overlib/overlib.js HTTP/1.1 & $\\dots$ \\\\\n",
       "\t21 & 89.42.92.180 & 07:38:48 & +0300] & GET /moodle/lib/overlib/overlib\\_cssstyle.js HTTP/1.1 & $\\dots$ \\\\\n",
       "\t22 & 89.42.92.180 & 07:38:48 & +0300] & GET /moodle/lib/javascript-mod.php HTTP/1.1 & $\\dots$ \\\\\n",
       "\t23 & 89.42.92.180 & 07:38:48 & +0300] & GET /moodle/lib/cookies.js HTTP/1.1 & $\\dots$ \\\\\n",
       "\t24 & 89.42.92.180 & 07:38:48 & +0300] & GET /moodle/lib/ufo.js HTTP/1.1 & $\\dots$ \\\\\n",
       "\t$\\dots$ & $\\dots$ & $\\dots$ & $\\dots$ & $\\dots$ &  \\\\\n",
       "\\end{tabular}\n"
      ],
      "text/plain": [
       "\u001b[1m2490861×8 DataFrame\u001b[0m\n",
       "\u001b[1m     Row \u001b[0m│\u001b[1m Column1       \u001b[0m\u001b[1m Column2  \u001b[0m\u001b[1m Column3 \u001b[0m\u001b[1m Column4                          \u001b[0m ⋯\n",
       "\u001b[1m         \u001b[0m│\u001b[90m String15      \u001b[0m\u001b[90m Time     \u001b[0m\u001b[90m String7 \u001b[0m\u001b[90m String                           \u001b[0m ⋯\n",
       "─────────┼──────────────────────────────────────────────────────────────────────\n",
       "       1 │ 89.42.92.180   07:38:38  +0300]   GET / HTTP/1.1                    ⋯\n",
       "       2 │ 89.42.92.180   07:38:38  +0300]   GET /css/lightbox.css HTTP/1.1\n",
       "       3 │ 89.42.92.180   07:38:38  +0300]   GET /js/prototype.js HTTP/1.1\n",
       "       4 │ 89.42.92.180   07:38:38  +0300]   GET /js/scriptaculous.js?load=ef…\n",
       "       5 │ 89.42.92.180   07:38:38  +0300]   GET /js/lightbox.js HTTP/1.1      ⋯\n",
       "       6 │ 89.42.92.180   07:38:38  +0300]   GET /1.png HTTP/1.1\n",
       "       7 │ 89.42.92.180   07:38:38  +0300]   GET /5.png HTTP/1.1\n",
       "       8 │ 89.42.92.180   07:38:38  +0300]   GET /4.png HTTP/1.1\n",
       "    ⋮    │       ⋮           ⋮         ⋮                     ⋮                 ⋱\n",
       " 2490855 │ 192.168.0.4    17:34:13  +0300]   GET /moodle/theme/simplicity/sty… ⋯\n",
       " 2490856 │ 192.168.0.4    17:34:15  +0300]   GET /moodle/course/view.php?id=7…\n",
       " 2490857 │ 192.168.0.4    17:34:16  +0300]   GET /moodle/course/view.php?id=7…\n",
       " 2490858 │ 192.168.0.4    17:34:18  +0300]   GET /moodle/course/view.php?id=7…\n",
       " 2490859 │ 192.168.0.4    17:34:19  +0300]   GET /moodle/course/view.php?id=7… ⋯\n",
       " 2490860 │ 192.168.0.4    17:34:21  +0300]   GET /moodle/course/view.php?id=7…\n",
       " 2490861 │ 192.168.0.4    17:34:24  +0300]   GET /moodle/course/view.php?id=7…\n",
       "\u001b[36m                                              4 columns and 2490846 rows omitted\u001b[0m"
      ]
     },
     "metadata": {},
     "output_type": "display_data"
    }
   ],
   "source": [
    "LOG = CSV.read(inputLOG, DataFrame; header=false, delim=' ')"
   ]
  },
  {
   "cell_type": "code",
   "execution_count": 30,
   "metadata": {},
   "outputs": [
    {
     "data": {
      "text/html": [
       "<div class=\"data-frame\"><p>2,301,234 rows × 8 columns (omitted printing of 2 columns)</p><table class=\"data-frame\"><thead><tr><th></th><th>Column1</th><th>Column2</th><th>Column3</th><th>Column4</th><th>Column5</th><th>Column6</th></tr><tr><th></th><th title=\"String15\">String15</th><th title=\"Dates.Time\">Time</th><th title=\"String7\">String7</th><th title=\"String\">String</th><th title=\"Int64\">Int64</th><th title=\"Int64\">Int64</th></tr></thead><tbody><tr><th>1</th><td>79.112.158.144</td><td>07:39:00</td><td>+0300]</td><td>GET /phi.html HTTP/1.1</td><td>404</td><td>1994</td></tr><tr><th>2</th><td>83.103.226.247</td><td>07:39:12</td><td>+0300]</td><td>GET /phi.html HTTP/1.1</td><td>404</td><td>1994</td></tr><tr><th>3</th><td>79.112.158.144</td><td>07:39:21</td><td>+0300]</td><td>GET /phi.html HTTP/1.1</td><td>404</td><td>1994</td></tr><tr><th>4</th><td>109.103.122.235</td><td>07:40:35</td><td>+0300]</td><td>GET /phi.html HTTP/1.1</td><td>404</td><td>1994</td></tr><tr><th>5</th><td>83.103.226.247</td><td>07:41:09</td><td>+0300]</td><td>GET /phi.html HTTP/1.1</td><td>404</td><td>1994</td></tr><tr><th>6</th><td>86.120.225.65</td><td>07:41:14</td><td>+0300]</td><td>GET /phi.html HTTP/1.1</td><td>404</td><td>1994</td></tr><tr><th>7</th><td>86.125.92.70</td><td>07:42:09</td><td>+0300]</td><td>GET /phi.html HTTP/1.1</td><td>404</td><td>1994</td></tr><tr><th>8</th><td>86.125.92.70</td><td>07:42:10</td><td>+0300]</td><td>GET /phi.html HTTP/1.1</td><td>404</td><td>1994</td></tr><tr><th>9</th><td>89.39.71.5</td><td>07:42:14</td><td>+0300]</td><td>GET /phi.html HTTP/1.1</td><td>404</td><td>1994</td></tr><tr><th>10</th><td>89.39.71.5</td><td>07:42:17</td><td>+0300]</td><td>GET /phi.html HTTP/1.1</td><td>404</td><td>1994</td></tr><tr><th>11</th><td>83.103.226.247</td><td>07:42:17</td><td>+0300]</td><td>GET /phi.html HTTP/1.1</td><td>404</td><td>1994</td></tr><tr><th>12</th><td>83.103.226.247</td><td>07:43:28</td><td>+0300]</td><td>GET /phi.html HTTP/1.1</td><td>404</td><td>1994</td></tr><tr><th>13</th><td>83.103.226.247</td><td>07:44:11</td><td>+0300]</td><td>GET /phi.html HTTP/1.1</td><td>404</td><td>1994</td></tr><tr><th>14</th><td>83.103.226.247</td><td>07:45:02</td><td>+0300]</td><td>GET /phi/48-phi.html HTTP/1.1</td><td>404</td><td>1994</td></tr><tr><th>15</th><td>213.233.88.70</td><td>07:45:04</td><td>+0300]</td><td>GET /phi.html HTTP/1.1</td><td>404</td><td>1994</td></tr><tr><th>16</th><td>109.166.128.152</td><td>07:45:28</td><td>+0300]</td><td>GET /phi.html HTTP/1.1</td><td>404</td><td>1994</td></tr><tr><th>17</th><td>109.166.128.152</td><td>07:45:35</td><td>+0300]</td><td>GET /phi/48-phi.html HTTP/1.1</td><td>404</td><td>1994</td></tr><tr><th>18</th><td>83.103.226.247</td><td>07:46:49</td><td>+0300]</td><td>GET /phi/48-phi.html HTTP/1.1</td><td>404</td><td>1994</td></tr><tr><th>19</th><td>86.126.141.71</td><td>07:49:11</td><td>+0300]</td><td>GET /phi.html HTTP/1.1</td><td>404</td><td>1994</td></tr><tr><th>20</th><td>82.79.100.211</td><td>07:50:27</td><td>+0300]</td><td>GET /phi.html HTTP/1.1</td><td>404</td><td>1994</td></tr><tr><th>21</th><td>31.5.182.128</td><td>07:50:50</td><td>+0300]</td><td>GET /phi/48-phi.html HTTP/1.1</td><td>404</td><td>1994</td></tr><tr><th>22</th><td>83.103.226.247</td><td>07:51:14</td><td>+0300]</td><td>GET /phi.html HTTP/1.1</td><td>404</td><td>1994</td></tr><tr><th>23</th><td>86.122.24.8</td><td>07:51:21</td><td>+0300]</td><td>GET /phi.html HTTP/1.1</td><td>404</td><td>1994</td></tr><tr><th>24</th><td>82.79.100.211</td><td>07:51:26</td><td>+0300]</td><td>GET /phi/48-phi.html HTTP/1.1</td><td>404</td><td>1994</td></tr><tr><th>&vellip;</th><td>&vellip;</td><td>&vellip;</td><td>&vellip;</td><td>&vellip;</td><td>&vellip;</td><td>&vellip;</td></tr></tbody></table></div>"
      ],
      "text/latex": [
       "\\begin{tabular}{r|ccccccc}\n",
       "\t& Column1 & Column2 & Column3 & Column4 & Column5 & Column6 & \\\\\n",
       "\t\\hline\n",
       "\t& String15 & Time & String7 & String & Int64 & Int64 & \\\\\n",
       "\t\\hline\n",
       "\t1 & 79.112.158.144 & 07:39:00 & +0300] & GET /phi.html HTTP/1.1 & 404 & 1994 & $\\dots$ \\\\\n",
       "\t2 & 83.103.226.247 & 07:39:12 & +0300] & GET /phi.html HTTP/1.1 & 404 & 1994 & $\\dots$ \\\\\n",
       "\t3 & 79.112.158.144 & 07:39:21 & +0300] & GET /phi.html HTTP/1.1 & 404 & 1994 & $\\dots$ \\\\\n",
       "\t4 & 109.103.122.235 & 07:40:35 & +0300] & GET /phi.html HTTP/1.1 & 404 & 1994 & $\\dots$ \\\\\n",
       "\t5 & 83.103.226.247 & 07:41:09 & +0300] & GET /phi.html HTTP/1.1 & 404 & 1994 & $\\dots$ \\\\\n",
       "\t6 & 86.120.225.65 & 07:41:14 & +0300] & GET /phi.html HTTP/1.1 & 404 & 1994 & $\\dots$ \\\\\n",
       "\t7 & 86.125.92.70 & 07:42:09 & +0300] & GET /phi.html HTTP/1.1 & 404 & 1994 & $\\dots$ \\\\\n",
       "\t8 & 86.125.92.70 & 07:42:10 & +0300] & GET /phi.html HTTP/1.1 & 404 & 1994 & $\\dots$ \\\\\n",
       "\t9 & 89.39.71.5 & 07:42:14 & +0300] & GET /phi.html HTTP/1.1 & 404 & 1994 & $\\dots$ \\\\\n",
       "\t10 & 89.39.71.5 & 07:42:17 & +0300] & GET /phi.html HTTP/1.1 & 404 & 1994 & $\\dots$ \\\\\n",
       "\t11 & 83.103.226.247 & 07:42:17 & +0300] & GET /phi.html HTTP/1.1 & 404 & 1994 & $\\dots$ \\\\\n",
       "\t12 & 83.103.226.247 & 07:43:28 & +0300] & GET /phi.html HTTP/1.1 & 404 & 1994 & $\\dots$ \\\\\n",
       "\t13 & 83.103.226.247 & 07:44:11 & +0300] & GET /phi.html HTTP/1.1 & 404 & 1994 & $\\dots$ \\\\\n",
       "\t14 & 83.103.226.247 & 07:45:02 & +0300] & GET /phi/48-phi.html HTTP/1.1 & 404 & 1994 & $\\dots$ \\\\\n",
       "\t15 & 213.233.88.70 & 07:45:04 & +0300] & GET /phi.html HTTP/1.1 & 404 & 1994 & $\\dots$ \\\\\n",
       "\t16 & 109.166.128.152 & 07:45:28 & +0300] & GET /phi.html HTTP/1.1 & 404 & 1994 & $\\dots$ \\\\\n",
       "\t17 & 109.166.128.152 & 07:45:35 & +0300] & GET /phi/48-phi.html HTTP/1.1 & 404 & 1994 & $\\dots$ \\\\\n",
       "\t18 & 83.103.226.247 & 07:46:49 & +0300] & GET /phi/48-phi.html HTTP/1.1 & 404 & 1994 & $\\dots$ \\\\\n",
       "\t19 & 86.126.141.71 & 07:49:11 & +0300] & GET /phi.html HTTP/1.1 & 404 & 1994 & $\\dots$ \\\\\n",
       "\t20 & 82.79.100.211 & 07:50:27 & +0300] & GET /phi.html HTTP/1.1 & 404 & 1994 & $\\dots$ \\\\\n",
       "\t21 & 31.5.182.128 & 07:50:50 & +0300] & GET /phi/48-phi.html HTTP/1.1 & 404 & 1994 & $\\dots$ \\\\\n",
       "\t22 & 83.103.226.247 & 07:51:14 & +0300] & GET /phi.html HTTP/1.1 & 404 & 1994 & $\\dots$ \\\\\n",
       "\t23 & 86.122.24.8 & 07:51:21 & +0300] & GET /phi.html HTTP/1.1 & 404 & 1994 & $\\dots$ \\\\\n",
       "\t24 & 82.79.100.211 & 07:51:26 & +0300] & GET /phi/48-phi.html HTTP/1.1 & 404 & 1994 & $\\dots$ \\\\\n",
       "\t$\\dots$ & $\\dots$ & $\\dots$ & $\\dots$ & $\\dots$ & $\\dots$ & $\\dots$ &  \\\\\n",
       "\\end{tabular}\n"
      ],
      "text/plain": [
       "\u001b[1m2301234×8 DataFrame\u001b[0m\n",
       "\u001b[1m     Row \u001b[0m│\u001b[1m Column1         \u001b[0m\u001b[1m Column2  \u001b[0m\u001b[1m Column3 \u001b[0m\u001b[1m Column4                       \u001b[0m\u001b[1m \u001b[0m ⋯\n",
       "\u001b[1m         \u001b[0m│\u001b[90m String15        \u001b[0m\u001b[90m Time     \u001b[0m\u001b[90m String7 \u001b[0m\u001b[90m String                        \u001b[0m\u001b[90m \u001b[0m ⋯\n",
       "─────────┼──────────────────────────────────────────────────────────────────────\n",
       "       1 │ 79.112.158.144   07:39:00  +0300]   GET /phi.html HTTP/1.1          ⋯\n",
       "       2 │ 83.103.226.247   07:39:12  +0300]   GET /phi.html HTTP/1.1\n",
       "       3 │ 79.112.158.144   07:39:21  +0300]   GET /phi.html HTTP/1.1\n",
       "       4 │ 109.103.122.235  07:40:35  +0300]   GET /phi.html HTTP/1.1\n",
       "       5 │ 83.103.226.247   07:41:09  +0300]   GET /phi.html HTTP/1.1          ⋯\n",
       "       6 │ 86.120.225.65    07:41:14  +0300]   GET /phi.html HTTP/1.1\n",
       "       7 │ 86.125.92.70     07:42:09  +0300]   GET /phi.html HTTP/1.1\n",
       "       8 │ 86.125.92.70     07:42:10  +0300]   GET /phi.html HTTP/1.1\n",
       "    ⋮    │        ⋮            ⋮         ⋮                   ⋮                 ⋱\n",
       " 2301228 │ 79.118.250.87    17:15:12  +0300]   GET /phi.html HTTP/1.1          ⋯\n",
       " 2301229 │ 46.214.159.216   17:15:15  +0300]   GET /phi.html HTTP/1.1\n",
       " 2301230 │ 109.166.139.104  17:15:24  +0300]   GET /phi.html HTTP/1.1\n",
       " 2301231 │ 5.14.148.116     17:15:28  +0300]   GET /phi.html HTTP/1.1\n",
       " 2301232 │ 86.125.61.144    17:15:52  +0300]   GET /phi.html HTTP/1.1          ⋯\n",
       " 2301233 │ 86.125.61.144    17:16:05  +0300]   GET /phi.html HTTP/1.1\n",
       " 2301234 │ 86.125.61.144    17:16:09  +0300]   GET /phi/48-phi.html HTTP/1.1\n",
       "\u001b[36m                                              4 columns and 2301219 rows omitted\u001b[0m"
      ]
     },
     "metadata": {},
     "output_type": "display_data"
    }
   ],
   "source": [
    "LOG2 = filter(row -> occursin(r\"phi.html\", row.Column4), LOG)"
   ]
  },
  {
   "cell_type": "code",
   "execution_count": 52,
   "metadata": {},
   "outputs": [
    {
     "data": {
      "text/plain": [
       "false"
      ]
     },
     "metadata": {},
     "output_type": "display_data"
    }
   ],
   "source": [
    "import Dates\n",
    "a = LOG2[1,:Column2]\n",
    "Dates.hour(a) > 11"
   ]
  },
  {
   "cell_type": "code",
   "execution_count": 54,
   "metadata": {},
   "outputs": [
    {
     "data": {
      "text/html": [
       "<div class=\"data-frame\"><p>2,299,870 rows × 8 columns (omitted printing of 2 columns)</p><table class=\"data-frame\"><thead><tr><th></th><th>Column1</th><th>Column2</th><th>Column3</th><th>Column4</th><th>Column5</th><th>Column6</th></tr><tr><th></th><th title=\"String15\">String15</th><th title=\"Dates.Time\">Time</th><th title=\"String7\">String7</th><th title=\"String\">String</th><th title=\"Int64\">Int64</th><th title=\"Int64\">Int64</th></tr></thead><tbody><tr><th>1</th><td>79.114.162.57</td><td>12:00:05</td><td>+0300]</td><td>GET /phi.html HTTP/1.1</td><td>404</td><td>1994</td></tr><tr><th>2</th><td>89.39.81.51</td><td>12:00:18</td><td>+0300]</td><td>GET /phi.html HTTP/1.1</td><td>404</td><td>1994</td></tr><tr><th>3</th><td>185.128.242.66</td><td>12:00:23</td><td>+0300]</td><td>GET /phi.html HTTP/1.1</td><td>404</td><td>1994</td></tr><tr><th>4</th><td>5.13.142.187</td><td>12:00:30</td><td>+0300]</td><td>GET /phi.html HTTP/1.1</td><td>404</td><td>1994</td></tr><tr><th>5</th><td>86.120.159.44</td><td>12:00:54</td><td>+0300]</td><td>GET /phi.html HTTP/1.1</td><td>404</td><td>1994</td></tr><tr><th>6</th><td>95.65.16.64</td><td>12:01:19</td><td>+0300]</td><td>GET /phi.html HTTP/1.1</td><td>404</td><td>1994</td></tr><tr><th>7</th><td>83.103.236.56</td><td>12:01:24</td><td>+0300]</td><td>GET /phi.html HTTP/1.1</td><td>404</td><td>1994</td></tr><tr><th>8</th><td>5.13.141.83</td><td>12:01:43</td><td>+0300]</td><td>GET /phi.html HTTP/1.1</td><td>404</td><td>1994</td></tr><tr><th>9</th><td>95.77.218.29</td><td>12:02:19</td><td>+0300]</td><td>GET /phi.html HTTP/1.1</td><td>404</td><td>1994</td></tr><tr><th>10</th><td>82.78.87.29</td><td>12:02:26</td><td>+0300]</td><td>GET /phi.html HTTP/1.1</td><td>404</td><td>1994</td></tr><tr><th>11</th><td>82.79.207.44</td><td>12:02:28</td><td>+0300]</td><td>GET /phi.html HTTP/1.1</td><td>404</td><td>1994</td></tr><tr><th>12</th><td>82.79.207.44</td><td>12:02:47</td><td>+0300]</td><td>GET /phi.html HTTP/1.1</td><td>404</td><td>1994</td></tr><tr><th>13</th><td>82.79.207.44</td><td>12:02:48</td><td>+0300]</td><td>GET /phi.html HTTP/1.1</td><td>404</td><td>1994</td></tr><tr><th>14</th><td>86.123.29.133</td><td>12:02:54</td><td>+0300]</td><td>GET /phi.html HTTP/1.1</td><td>404</td><td>1994</td></tr><tr><th>15</th><td>82.79.100.161</td><td>12:03:22</td><td>+0300]</td><td>GET /phi.html HTTP/1.1</td><td>404</td><td>1994</td></tr><tr><th>16</th><td>86.124.207.115</td><td>12:03:30</td><td>+0300]</td><td>GET /phi.html HTTP/1.1</td><td>404</td><td>1994</td></tr><tr><th>17</th><td>62.231.72.152</td><td>12:03:42</td><td>+0300]</td><td>GET /phi/48-phi.html HTTP/1.1</td><td>404</td><td>1994</td></tr><tr><th>18</th><td>62.231.72.152</td><td>12:03:42</td><td>+0300]</td><td>GET /phi.html HTTP/1.1</td><td>404</td><td>1994</td></tr><tr><th>19</th><td>86.126.84.29</td><td>12:03:45</td><td>+0300]</td><td>GET /phi.html HTTP/1.1</td><td>404</td><td>1994</td></tr><tr><th>20</th><td>82.79.100.161</td><td>12:03:48</td><td>+0300]</td><td>GET /phi/48-phi.html HTTP/1.1</td><td>404</td><td>1994</td></tr><tr><th>21</th><td>185.128.242.66</td><td>12:04:09</td><td>+0300]</td><td>GET /phi.html HTTP/1.1</td><td>404</td><td>1994</td></tr><tr><th>22</th><td>86.120.125.40</td><td>12:04:15</td><td>+0300]</td><td>GET /phi/48-phi.html HTTP/1.1</td><td>404</td><td>1994</td></tr><tr><th>23</th><td>185.70.188.150</td><td>12:04:51</td><td>+0300]</td><td>GET /phi.html HTTP/1.1</td><td>404</td><td>1994</td></tr><tr><th>24</th><td>109.166.134.9</td><td>12:05:02</td><td>+0300]</td><td>GET /phi.html HTTP/1.1</td><td>404</td><td>1994</td></tr><tr><th>&vellip;</th><td>&vellip;</td><td>&vellip;</td><td>&vellip;</td><td>&vellip;</td><td>&vellip;</td><td>&vellip;</td></tr></tbody></table></div>"
      ],
      "text/latex": [
       "\\begin{tabular}{r|ccccccc}\n",
       "\t& Column1 & Column2 & Column3 & Column4 & Column5 & Column6 & \\\\\n",
       "\t\\hline\n",
       "\t& String15 & Time & String7 & String & Int64 & Int64 & \\\\\n",
       "\t\\hline\n",
       "\t1 & 79.114.162.57 & 12:00:05 & +0300] & GET /phi.html HTTP/1.1 & 404 & 1994 & $\\dots$ \\\\\n",
       "\t2 & 89.39.81.51 & 12:00:18 & +0300] & GET /phi.html HTTP/1.1 & 404 & 1994 & $\\dots$ \\\\\n",
       "\t3 & 185.128.242.66 & 12:00:23 & +0300] & GET /phi.html HTTP/1.1 & 404 & 1994 & $\\dots$ \\\\\n",
       "\t4 & 5.13.142.187 & 12:00:30 & +0300] & GET /phi.html HTTP/1.1 & 404 & 1994 & $\\dots$ \\\\\n",
       "\t5 & 86.120.159.44 & 12:00:54 & +0300] & GET /phi.html HTTP/1.1 & 404 & 1994 & $\\dots$ \\\\\n",
       "\t6 & 95.65.16.64 & 12:01:19 & +0300] & GET /phi.html HTTP/1.1 & 404 & 1994 & $\\dots$ \\\\\n",
       "\t7 & 83.103.236.56 & 12:01:24 & +0300] & GET /phi.html HTTP/1.1 & 404 & 1994 & $\\dots$ \\\\\n",
       "\t8 & 5.13.141.83 & 12:01:43 & +0300] & GET /phi.html HTTP/1.1 & 404 & 1994 & $\\dots$ \\\\\n",
       "\t9 & 95.77.218.29 & 12:02:19 & +0300] & GET /phi.html HTTP/1.1 & 404 & 1994 & $\\dots$ \\\\\n",
       "\t10 & 82.78.87.29 & 12:02:26 & +0300] & GET /phi.html HTTP/1.1 & 404 & 1994 & $\\dots$ \\\\\n",
       "\t11 & 82.79.207.44 & 12:02:28 & +0300] & GET /phi.html HTTP/1.1 & 404 & 1994 & $\\dots$ \\\\\n",
       "\t12 & 82.79.207.44 & 12:02:47 & +0300] & GET /phi.html HTTP/1.1 & 404 & 1994 & $\\dots$ \\\\\n",
       "\t13 & 82.79.207.44 & 12:02:48 & +0300] & GET /phi.html HTTP/1.1 & 404 & 1994 & $\\dots$ \\\\\n",
       "\t14 & 86.123.29.133 & 12:02:54 & +0300] & GET /phi.html HTTP/1.1 & 404 & 1994 & $\\dots$ \\\\\n",
       "\t15 & 82.79.100.161 & 12:03:22 & +0300] & GET /phi.html HTTP/1.1 & 404 & 1994 & $\\dots$ \\\\\n",
       "\t16 & 86.124.207.115 & 12:03:30 & +0300] & GET /phi.html HTTP/1.1 & 404 & 1994 & $\\dots$ \\\\\n",
       "\t17 & 62.231.72.152 & 12:03:42 & +0300] & GET /phi/48-phi.html HTTP/1.1 & 404 & 1994 & $\\dots$ \\\\\n",
       "\t18 & 62.231.72.152 & 12:03:42 & +0300] & GET /phi.html HTTP/1.1 & 404 & 1994 & $\\dots$ \\\\\n",
       "\t19 & 86.126.84.29 & 12:03:45 & +0300] & GET /phi.html HTTP/1.1 & 404 & 1994 & $\\dots$ \\\\\n",
       "\t20 & 82.79.100.161 & 12:03:48 & +0300] & GET /phi/48-phi.html HTTP/1.1 & 404 & 1994 & $\\dots$ \\\\\n",
       "\t21 & 185.128.242.66 & 12:04:09 & +0300] & GET /phi.html HTTP/1.1 & 404 & 1994 & $\\dots$ \\\\\n",
       "\t22 & 86.120.125.40 & 12:04:15 & +0300] & GET /phi/48-phi.html HTTP/1.1 & 404 & 1994 & $\\dots$ \\\\\n",
       "\t23 & 185.70.188.150 & 12:04:51 & +0300] & GET /phi.html HTTP/1.1 & 404 & 1994 & $\\dots$ \\\\\n",
       "\t24 & 109.166.134.9 & 12:05:02 & +0300] & GET /phi.html HTTP/1.1 & 404 & 1994 & $\\dots$ \\\\\n",
       "\t$\\dots$ & $\\dots$ & $\\dots$ & $\\dots$ & $\\dots$ & $\\dots$ & $\\dots$ &  \\\\\n",
       "\\end{tabular}\n"
      ],
      "text/plain": [
       "\u001b[1m2299870×8 DataFrame\u001b[0m\n",
       "\u001b[1m     Row \u001b[0m│\u001b[1m Column1         \u001b[0m\u001b[1m Column2  \u001b[0m\u001b[1m Column3 \u001b[0m\u001b[1m Column4                       \u001b[0m\u001b[1m \u001b[0m ⋯\n",
       "\u001b[1m         \u001b[0m│\u001b[90m String15        \u001b[0m\u001b[90m Time     \u001b[0m\u001b[90m String7 \u001b[0m\u001b[90m String                        \u001b[0m\u001b[90m \u001b[0m ⋯\n",
       "─────────┼──────────────────────────────────────────────────────────────────────\n",
       "       1 │ 79.114.162.57    12:00:05  +0300]   GET /phi.html HTTP/1.1          ⋯\n",
       "       2 │ 89.39.81.51      12:00:18  +0300]   GET /phi.html HTTP/1.1\n",
       "       3 │ 185.128.242.66   12:00:23  +0300]   GET /phi.html HTTP/1.1\n",
       "       4 │ 5.13.142.187     12:00:30  +0300]   GET /phi.html HTTP/1.1\n",
       "       5 │ 86.120.159.44    12:00:54  +0300]   GET /phi.html HTTP/1.1          ⋯\n",
       "       6 │ 95.65.16.64      12:01:19  +0300]   GET /phi.html HTTP/1.1\n",
       "       7 │ 83.103.236.56    12:01:24  +0300]   GET /phi.html HTTP/1.1\n",
       "       8 │ 5.13.141.83      12:01:43  +0300]   GET /phi.html HTTP/1.1\n",
       "    ⋮    │        ⋮            ⋮         ⋮                   ⋮                 ⋱\n",
       " 2299864 │ 213.233.110.52   13:55:29  +0300]   GET /phi.html HTTP/1.1          ⋯\n",
       " 2299865 │ 5.14.130.84      13:55:42  +0300]   GET /phi.html HTTP/1.1\n",
       " 2299866 │ 79.118.139.54    13:55:45  +0300]   GET /phi.html HTTP/1.1\n",
       " 2299867 │ 5.14.130.84      13:55:48  +0300]   GET /phi.html HTTP/1.1\n",
       " 2299868 │ 213.233.110.52   13:56:14  +0300]   GET /phi.html HTTP/1.1          ⋯\n",
       " 2299869 │ 86.126.120.128   13:57:05  +0300]   GET /phi.html HTTP/1.1\n",
       " 2299870 │ 79.112.111.11    13:59:31  +0300]   GET /phi.html HTTP/1.1\n",
       "\u001b[36m                                              4 columns and 2299855 rows omitted\u001b[0m"
      ]
     },
     "metadata": {},
     "output_type": "display_data"
    }
   ],
   "source": [
    "LOG3 = filter(row -> Dates.hour(row.Column2) > 11, LOG2)\n",
    "LOG4 = filter(row -> Dates.hour(row.Column2) < 14, LOG3)"
   ]
  },
  {
   "cell_type": "code",
   "execution_count": 55,
   "metadata": {},
   "outputs": [
    {
     "data": {
      "text/html": [
       "<div class=\"data-frame\"><p>5,610 rows × 2 columns</p><table class=\"data-frame\"><thead><tr><th></th><th>Column1</th><th>count</th></tr><tr><th></th><th title=\"String15\">String15</th><th title=\"Int64\">Int64</th></tr></thead><tbody><tr><th>1</th><td>79.114.162.57</td><td>1</td></tr><tr><th>2</th><td>89.39.81.51</td><td>1</td></tr><tr><th>3</th><td>185.128.242.66</td><td>5</td></tr><tr><th>4</th><td>5.13.142.187</td><td>1</td></tr><tr><th>5</th><td>86.120.159.44</td><td>8</td></tr><tr><th>6</th><td>95.65.16.64</td><td>1</td></tr><tr><th>7</th><td>83.103.236.56</td><td>1</td></tr><tr><th>8</th><td>5.13.141.83</td><td>6</td></tr><tr><th>9</th><td>95.77.218.29</td><td>1</td></tr><tr><th>10</th><td>82.78.87.29</td><td>12</td></tr><tr><th>11</th><td>82.79.207.44</td><td>12</td></tr><tr><th>12</th><td>86.123.29.133</td><td>5</td></tr><tr><th>13</th><td>82.79.100.161</td><td>4</td></tr><tr><th>14</th><td>86.124.207.115</td><td>1</td></tr><tr><th>15</th><td>62.231.72.152</td><td>2</td></tr><tr><th>16</th><td>86.126.84.29</td><td>2</td></tr><tr><th>17</th><td>86.120.125.40</td><td>1</td></tr><tr><th>18</th><td>185.70.188.150</td><td>1</td></tr><tr><th>19</th><td>109.166.134.9</td><td>1</td></tr><tr><th>20</th><td>37.233.25.76</td><td>1</td></tr><tr><th>21</th><td>89.123.213.75</td><td>3</td></tr><tr><th>22</th><td>95.76.200.233</td><td>1</td></tr><tr><th>23</th><td>5.13.111.55</td><td>1</td></tr><tr><th>24</th><td>109.102.192.215</td><td>2</td></tr><tr><th>&vellip;</th><td>&vellip;</td><td>&vellip;</td></tr></tbody></table></div>"
      ],
      "text/latex": [
       "\\begin{tabular}{r|cc}\n",
       "\t& Column1 & count\\\\\n",
       "\t\\hline\n",
       "\t& String15 & Int64\\\\\n",
       "\t\\hline\n",
       "\t1 & 79.114.162.57 & 1 \\\\\n",
       "\t2 & 89.39.81.51 & 1 \\\\\n",
       "\t3 & 185.128.242.66 & 5 \\\\\n",
       "\t4 & 5.13.142.187 & 1 \\\\\n",
       "\t5 & 86.120.159.44 & 8 \\\\\n",
       "\t6 & 95.65.16.64 & 1 \\\\\n",
       "\t7 & 83.103.236.56 & 1 \\\\\n",
       "\t8 & 5.13.141.83 & 6 \\\\\n",
       "\t9 & 95.77.218.29 & 1 \\\\\n",
       "\t10 & 82.78.87.29 & 12 \\\\\n",
       "\t11 & 82.79.207.44 & 12 \\\\\n",
       "\t12 & 86.123.29.133 & 5 \\\\\n",
       "\t13 & 82.79.100.161 & 4 \\\\\n",
       "\t14 & 86.124.207.115 & 1 \\\\\n",
       "\t15 & 62.231.72.152 & 2 \\\\\n",
       "\t16 & 86.126.84.29 & 2 \\\\\n",
       "\t17 & 86.120.125.40 & 1 \\\\\n",
       "\t18 & 185.70.188.150 & 1 \\\\\n",
       "\t19 & 109.166.134.9 & 1 \\\\\n",
       "\t20 & 37.233.25.76 & 1 \\\\\n",
       "\t21 & 89.123.213.75 & 3 \\\\\n",
       "\t22 & 95.76.200.233 & 1 \\\\\n",
       "\t23 & 5.13.111.55 & 1 \\\\\n",
       "\t24 & 109.102.192.215 & 2 \\\\\n",
       "\t$\\dots$ & $\\dots$ & $\\dots$ \\\\\n",
       "\\end{tabular}\n"
      ],
      "text/plain": [
       "\u001b[1m5610×2 DataFrame\u001b[0m\n",
       "\u001b[1m  Row \u001b[0m│\u001b[1m Column1         \u001b[0m\u001b[1m count \u001b[0m\n",
       "\u001b[1m      \u001b[0m│\u001b[90m String15        \u001b[0m\u001b[90m Int64 \u001b[0m\n",
       "──────┼────────────────────────\n",
       "    1 │ 79.114.162.57        1\n",
       "    2 │ 89.39.81.51          1\n",
       "    3 │ 185.128.242.66       5\n",
       "    4 │ 5.13.142.187         1\n",
       "    5 │ 86.120.159.44        8\n",
       "    6 │ 95.65.16.64          1\n",
       "    7 │ 83.103.236.56        1\n",
       "    8 │ 5.13.141.83          6\n",
       "  ⋮   │        ⋮           ⋮\n",
       " 5604 │ 86.120.159.56        1\n",
       " 5605 │ 81.18.65.220         1\n",
       " 5606 │ 213.233.110.52       2\n",
       " 5607 │ 5.14.130.84          2\n",
       " 5608 │ 79.118.139.54        1\n",
       " 5609 │ 86.126.120.128       1\n",
       " 5610 │ 79.112.111.11        1\n",
       "\u001b[36m              5595 rows omitted\u001b[0m"
      ]
     },
     "metadata": {},
     "output_type": "display_data"
    }
   ],
   "source": [
    "summary = combine(groupby(LOG4, :Column1), nrow=>:count)"
   ]
  },
  {
   "cell_type": "code",
   "execution_count": 56,
   "metadata": {},
   "outputs": [
    {
     "data": {
      "text/html": [
       "<div class=\"data-frame\"><p>5,610 rows × 2 columns</p><table class=\"data-frame\"><thead><tr><th></th><th>Column1</th><th>count</th></tr><tr><th></th><th title=\"String15\">String15</th><th title=\"Int64\">Int64</th></tr></thead><tbody><tr><th>1</th><td>103.213.242.34</td><td>9425</td></tr><tr><th>2</th><td>212.38.189.118</td><td>6523</td></tr><tr><th>3</th><td>103.146.206.254</td><td>6384</td></tr><tr><th>4</th><td>43.228.125.91</td><td>5287</td></tr><tr><th>5</th><td>85.159.25.85</td><td>5236</td></tr><tr><th>6</th><td>103.100.112.36</td><td>4767</td></tr><tr><th>7</th><td>66.33.205.87</td><td>4621</td></tr><tr><th>8</th><td>8.141.149.151</td><td>4415</td></tr><tr><th>9</th><td>78.129.240.80</td><td>4363</td></tr><tr><th>10</th><td>98.167.146.158</td><td>4309</td></tr><tr><th>11</th><td>144.126.142.41</td><td>4131</td></tr><tr><th>12</th><td>45.154.255.147</td><td>3837</td></tr><tr><th>13</th><td>139.162.100.214</td><td>3821</td></tr><tr><th>14</th><td>151.80.252.69</td><td>3642</td></tr><tr><th>15</th><td>45.154.255.138</td><td>3399</td></tr><tr><th>16</th><td>89.40.111.170</td><td>3353</td></tr><tr><th>17</th><td>34.116.151.123</td><td>3193</td></tr><tr><th>18</th><td>64.71.139.237</td><td>3187</td></tr><tr><th>19</th><td>103.97.179.154</td><td>3172</td></tr><tr><th>20</th><td>178.169.251.117</td><td>3168</td></tr><tr><th>21</th><td>66.6.6.15</td><td>3150</td></tr><tr><th>22</th><td>118.193.18.194</td><td>3148</td></tr><tr><th>23</th><td>110.76.188.26</td><td>3145</td></tr><tr><th>24</th><td>59.27.17.103</td><td>3145</td></tr><tr><th>&vellip;</th><td>&vellip;</td><td>&vellip;</td></tr></tbody></table></div>"
      ],
      "text/latex": [
       "\\begin{tabular}{r|cc}\n",
       "\t& Column1 & count\\\\\n",
       "\t\\hline\n",
       "\t& String15 & Int64\\\\\n",
       "\t\\hline\n",
       "\t1 & 103.213.242.34 & 9425 \\\\\n",
       "\t2 & 212.38.189.118 & 6523 \\\\\n",
       "\t3 & 103.146.206.254 & 6384 \\\\\n",
       "\t4 & 43.228.125.91 & 5287 \\\\\n",
       "\t5 & 85.159.25.85 & 5236 \\\\\n",
       "\t6 & 103.100.112.36 & 4767 \\\\\n",
       "\t7 & 66.33.205.87 & 4621 \\\\\n",
       "\t8 & 8.141.149.151 & 4415 \\\\\n",
       "\t9 & 78.129.240.80 & 4363 \\\\\n",
       "\t10 & 98.167.146.158 & 4309 \\\\\n",
       "\t11 & 144.126.142.41 & 4131 \\\\\n",
       "\t12 & 45.154.255.147 & 3837 \\\\\n",
       "\t13 & 139.162.100.214 & 3821 \\\\\n",
       "\t14 & 151.80.252.69 & 3642 \\\\\n",
       "\t15 & 45.154.255.138 & 3399 \\\\\n",
       "\t16 & 89.40.111.170 & 3353 \\\\\n",
       "\t17 & 34.116.151.123 & 3193 \\\\\n",
       "\t18 & 64.71.139.237 & 3187 \\\\\n",
       "\t19 & 103.97.179.154 & 3172 \\\\\n",
       "\t20 & 178.169.251.117 & 3168 \\\\\n",
       "\t21 & 66.6.6.15 & 3150 \\\\\n",
       "\t22 & 118.193.18.194 & 3148 \\\\\n",
       "\t23 & 110.76.188.26 & 3145 \\\\\n",
       "\t24 & 59.27.17.103 & 3145 \\\\\n",
       "\t$\\dots$ & $\\dots$ & $\\dots$ \\\\\n",
       "\\end{tabular}\n"
      ],
      "text/plain": [
       "\u001b[1m5610×2 DataFrame\u001b[0m\n",
       "\u001b[1m  Row \u001b[0m│\u001b[1m Column1         \u001b[0m\u001b[1m count \u001b[0m\n",
       "\u001b[1m      \u001b[0m│\u001b[90m String15        \u001b[0m\u001b[90m Int64 \u001b[0m\n",
       "──────┼────────────────────────\n",
       "    1 │ 103.213.242.34    9425\n",
       "    2 │ 212.38.189.118    6523\n",
       "    3 │ 103.146.206.254   6384\n",
       "    4 │ 43.228.125.91     5287\n",
       "    5 │ 85.159.25.85      5236\n",
       "    6 │ 103.100.112.36    4767\n",
       "    7 │ 66.33.205.87      4621\n",
       "    8 │ 8.141.149.151     4415\n",
       "  ⋮   │        ⋮           ⋮\n",
       " 5604 │ 188.27.186.229       1\n",
       " 5605 │ 46.97.176.215        1\n",
       " 5606 │ 86.120.159.56        1\n",
       " 5607 │ 81.18.65.220         1\n",
       " 5608 │ 79.118.139.54        1\n",
       " 5609 │ 86.126.120.128       1\n",
       " 5610 │ 79.112.111.11        1\n",
       "\u001b[36m              5595 rows omitted\u001b[0m"
      ]
     },
     "metadata": {},
     "output_type": "display_data"
    }
   ],
   "source": [
    "WhatIWant = sort!(summary, [:count], rev=true)"
   ]
  },
  {
   "cell_type": "code",
   "execution_count": 28,
   "metadata": {},
   "outputs": [],
   "source": [
    "using Printf\n",
    "outputMINEtxt = joinpath(root, \"access.txt\")\n",
    "open(outputMINEtxt, \"w\") do file\n",
    "    for (row_index, IP) in enumerate(eachrow(WhatIWant))\n",
    "        write(file, \"$(IP.Column1) \\t $(IP.count)\\n\")\n",
    "    end\n",
    "end"
   ]
  },
  {
   "cell_type": "code",
   "execution_count": null,
   "metadata": {},
   "outputs": [],
   "source": []
  }
 ],
 "metadata": {
  "kernelspec": {
   "display_name": "Julia 1.7.2",
   "language": "julia",
   "name": "julia-1.7"
  },
  "language_info": {
   "file_extension": ".jl",
   "mimetype": "application/julia",
   "name": "julia",
   "version": "1.7.2"
  },
  "orig_nbformat": 4
 },
 "nbformat": 4,
 "nbformat_minor": 2
}
