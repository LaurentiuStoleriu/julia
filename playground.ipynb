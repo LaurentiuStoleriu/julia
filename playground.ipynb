{
 "cells": [
  {
   "cell_type": "code",
   "execution_count": 20,
   "metadata": {},
   "outputs": [
    {
     "data": {
      "text/plain": [
       "1625"
      ]
     },
     "metadata": {},
     "output_type": "display_data"
    }
   ],
   "source": [
    "cont1 = 0\n",
    "cont2 = 0\n",
    "a = \"\"\n",
    "occur = [0,0,0,0,0,0,0,0,0,0]\n",
    "for j = 1000:9999\n",
    "    if isodd(j)\n",
    "        cont1 += 1\n",
    "        contp = 0\n",
    "        conti = 0\n",
    "        for c in string(j)\n",
    "            if isodd(parse(Int64, c))\n",
    "                conti += 1\n",
    "            else\n",
    "                contp += 1\n",
    "            end\n",
    "        end\n",
    "        if (conti == 2) && (contp == 2)\n",
    "            cont2 += 1\n",
    "        end\n",
    "    end\n",
    "end\n",
    "cont1\n",
    "cont2"
   ]
  },
  {
   "cell_type": "code",
   "execution_count": 21,
   "metadata": {},
   "outputs": [
    {
     "data": {
      "text/plain": [
       "0.3611111111111111"
      ]
     },
     "metadata": {},
     "output_type": "display_data"
    }
   ],
   "source": []
  },
  {
   "cell_type": "code",
   "execution_count": 27,
   "metadata": {},
   "outputs": [
    {
     "data": {
      "text/plain": [
       "3"
      ]
     },
     "metadata": {},
     "output_type": "display_data"
    }
   ],
   "source": []
  },
  {
   "cell_type": "code",
   "execution_count": null,
   "metadata": {},
   "outputs": [],
   "source": []
  },
  {
   "cell_type": "code",
   "execution_count": null,
   "metadata": {},
   "outputs": [],
   "source": []
  }
 ],
 "metadata": {
  "kernelspec": {
   "display_name": "Julia 1.6.5",
   "language": "julia",
   "name": "julia-1.6"
  },
  "language_info": {
   "file_extension": ".jl",
   "mimetype": "application/julia",
   "name": "julia",
   "version": "1.6.5"
  },
  "orig_nbformat": 4
 },
 "nbformat": 4,
 "nbformat_minor": 2
}
