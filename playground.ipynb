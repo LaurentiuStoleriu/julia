{
 "cells": [
  {
   "cell_type": "markdown",
   "metadata": {},
   "source": [
    "cont1 = 0\n",
    "cont2 = 0\n",
    "a = \"\"\n",
    "occur = [0,0,0,0,0,0,0,0,0,0]\n",
    "for j = 1000:9999\n",
    "    if isodd(j)\n",
    "        cont1 += 1\n",
    "        contp = 0\n",
    "        conti = 0\n",
    "        for c in string(j)\n",
    "            if isodd(parse(Int64, c))\n",
    "                conti += 1\n",
    "            else\n",
    "                contp += 1\n",
    "            end\n",
    "        end\n",
    "        if (conti == 2) && (contp == 2)\n",
    "            cont2 += 1\n",
    "        end\n",
    "    end\n",
    "end\n",
    "cont1\n",
    "cont2"
   ]
  },
  {
   "cell_type": "markdown",
   "metadata": {},
   "source": [
    "using CSV, DataFrames"
   ]
  },
  {
   "cell_type": "markdown",
   "metadata": {},
   "source": [
    "root = dirname(\"/mnt/f/_Download/\")\n",
    "inputLOG = joinpath(root, \"access.log\")"
   ]
  },
  {
   "cell_type": "markdown",
   "metadata": {},
   "source": [
    "LOG = CSV.read(inputLOG, DataFrame; header=false, delim=' ')"
   ]
  },
  {
   "cell_type": "markdown",
   "metadata": {},
   "source": [
    "LOG2 = filter(row -> occursin(r\"phi.html\", row.Column4), LOG)"
   ]
  },
  {
   "cell_type": "markdown",
   "metadata": {},
   "source": [
    "import Dates\n",
    "a = LOG2[1,:Column2]\n",
    "Dates.hour(a) > 11"
   ]
  },
  {
   "cell_type": "markdown",
   "metadata": {},
   "source": [
    "LOG3 = filter(row -> Dates.hour(row.Column2) > 11, LOG2)\n",
    "LOG4 = filter(row -> Dates.hour(row.Column2) < 14, LOG3)"
   ]
  },
  {
   "cell_type": "markdown",
   "metadata": {},
   "source": [
    "summary = combine(groupby(LOG4, :Column1), nrow=>:count)"
   ]
  },
  {
   "cell_type": "markdown",
   "metadata": {},
   "source": [
    "WhatIWant = sort!(summary, [:count], rev=true)"
   ]
  },
  {
   "cell_type": "markdown",
   "metadata": {},
   "source": [
    "using Printf\n",
    "outputMINEtxt = joinpath(root, \"access.txt\")\n",
    "open(outputMINEtxt, \"w\") do file\n",
    "    for (row_index, IP) in enumerate(eachrow(WhatIWant))\n",
    "        write(file, \"$(IP.Column1) \\t $(IP.count)\\n\")\n",
    "    end\n",
    "end"
   ]
  },
  {
   "cell_type": "code",
   "execution_count": null,
   "metadata": {},
   "outputs": [],
   "source": []
  }
 ],
 "metadata": {
  "kernelspec": {
   "display_name": "Julia 1.7.2",
   "language": "julia",
   "name": "julia-1.7"
  },
  "language_info": {
   "file_extension": ".jl",
   "mimetype": "application/julia",
   "name": "julia",
   "version": "1.7.2"
  },
  "orig_nbformat": 4
 },
 "nbformat": 4,
 "nbformat_minor": 2
}
