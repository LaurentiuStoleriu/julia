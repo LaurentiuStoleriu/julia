{
 "cells": [
  {
   "cell_type": "code",
   "execution_count": 29,
   "metadata": {},
   "outputs": [],
   "source": [
    "using CSV, DataFrames"
   ]
  },
  {
   "cell_type": "code",
   "execution_count": 30,
   "metadata": {},
   "outputs": [
    {
     "data": {
      "text/plain": [
       "\"/home/lali/TITAN-ROG-sync/julia/ISI/ISI_Journal_Citation_Report_2022_export.csv\""
      ]
     },
     "metadata": {},
     "output_type": "display_data"
    }
   ],
   "source": [
    "root = dirname(@__FILE__)\n",
    "inputScores = joinpath(root, \"ISI_Journal_Citation_Report_2022_export.csv\")"
   ]
  },
  {
   "cell_type": "code",
   "execution_count": 31,
   "metadata": {},
   "outputs": [
    {
     "data": {
      "text/plain": [
       "5-element Vector{Type}:\n",
       " String\n",
       " String\n",
       " Union{Missing, Float64}\n",
       " Union{Missing, Float64}\n",
       " Missing"
      ]
     },
     "metadata": {},
     "output_type": "display_data"
    }
   ],
   "source": [
    "Scores = CSV.read(inputScores, DataFrame)\n",
    "eltype.(eachcol(Scores))"
   ]
  },
  {
   "cell_type": "code",
   "execution_count": 32,
   "metadata": {},
   "outputs": [
    {
     "data": {
      "text/plain": [
       "\"/home/lali/TITAN-ROG-sync/julia/ISI/ISI_JCR_2023_NameEquiv.csv\""
      ]
     },
     "metadata": {},
     "output_type": "display_data"
    }
   ],
   "source": [
    "inputNames = joinpath(root, \"ISI_JCR_2023_NameEquiv.csv\")"
   ]
  },
  {
   "cell_type": "code",
   "execution_count": 33,
   "metadata": {},
   "outputs": [
    {
     "data": {
      "text/plain": [
       "7-element Vector{Type}:\n",
       " String31\n",
       " String\n",
       " String15\n",
       " Union{Missing, String1}\n",
       " Union{Missing, String1}\n",
       " Union{Missing, String1}\n",
       " Union{Missing, String1}"
      ]
     },
     "metadata": {},
     "output_type": "display_data"
    }
   ],
   "source": [
    "Names = CSV.read(inputNames, DataFrame)\n",
    "eltype.(eachcol(Names))"
   ]
  },
  {
   "cell_type": "code",
   "execution_count": 34,
   "metadata": {},
   "outputs": [
    {
     "data": {
      "text/html": [
       "<div><div style = \"float: left;\"><span>DataFrameRow (5 columns)</span></div><div style = \"clear: both;\"></div></div><div class = \"data-frame\" style = \"overflow-x: scroll;\"><table class = \"data-frame\" style = \"margin-bottom: 6px;\"><thead><tr class = \"header\"><th class = \"rowLabel\" style = \"font-weight: bold; text-align: right;\">Row</th><th style = \"text-align: left;\">JournalFullName</th><th style = \"text-align: left;\">ISSN</th><th style = \"text-align: left;\">2022IF</th><th style = \"text-align: left;\">2022AI</th><th style = \"text-align: left;\">Column5</th></tr><tr class = \"subheader headerLastRow\"><th class = \"rowLabel\" style = \"font-weight: bold; text-align: right;\"></th><th title = \"String\" style = \"text-align: left;\">String</th><th title = \"String\" style = \"text-align: left;\">String</th><th title = \"Union{Missing, Float64}\" style = \"text-align: left;\">Float64?</th><th title = \"Union{Missing, Float64}\" style = \"text-align: left;\">Float64?</th><th title = \"Missing\" style = \"text-align: left;\">Missing</th></tr></thead><tbody><tr><td class = \"rowLabel\" style = \"font-weight: bold; text-align: right;\">1234</td><td style = \"text-align: left;\">ANNALI DELLA SCUOLA NORMALE SUPERIORE DI PISA-CLASSE DI SCIENZE</td><td style = \"text-align: left;\">0391-173X</td><td style = \"text-align: right;\">1.4</td><td style = \"text-align: right;\">1.518</td><td style = \"font-style: italic; text-align: right;\">missing</td></tr></tbody></table></div>"
      ],
      "text/latex": [
       "\\begin{tabular}{r|cccc}\n",
       "\t& JournalFullName & ISSN & 2022IF & \\\\\n",
       "\t\\hline\n",
       "\t& String & String & Float64? & \\\\\n",
       "\t\\hline\n",
       "\t1234 & ANNALI DELLA SCUOLA NORMALE SUPERIORE DI PISA-CLASSE DI SCIENZE & 0391-173X & 1.4 & $\\dots$ \\\\\n",
       "\\end{tabular}\n"
      ],
      "text/plain": [
       "\u001b[1mDataFrameRow\u001b[0m\n",
       "\u001b[1m  Row \u001b[0m│\u001b[1m JournalFullName                   \u001b[0m\u001b[1m ISSN      \u001b[0m\u001b[1m 2022IF   \u001b[0m\u001b[1m 2022AI   \u001b[0m\u001b[1m Colu\u001b[0m ⋯\n",
       "      │\u001b[90m String                            \u001b[0m\u001b[90m String    \u001b[0m\u001b[90m Float64? \u001b[0m\u001b[90m Float64? \u001b[0m\u001b[90m Miss\u001b[0m ⋯\n",
       "──────┼─────────────────────────────────────────────────────────────────────────\n",
       " 1234 │ ANNALI DELLA SCUOLA NORMALE SUPE…  0391-173X       1.4     1.518 \u001b[90m miss\u001b[0m ⋯\n",
       "\u001b[36m                                                                1 column omitted\u001b[0m"
      ]
     },
     "metadata": {},
     "output_type": "display_data"
    }
   ],
   "source": [
    "Scores[1234,:]"
   ]
  },
  {
   "cell_type": "code",
   "execution_count": 35,
   "metadata": {},
   "outputs": [
    {
     "data": {
      "text/html": [
       "<div><div style = \"float: left;\"><span>DataFrameRow (7 columns)</span></div><div style = \"clear: both;\"></div></div><div class = \"data-frame\" style = \"overflow-x: scroll;\"><table class = \"data-frame\" style = \"margin-bottom: 6px;\"><thead><tr class = \"header\"><th class = \"rowLabel\" style = \"font-weight: bold; text-align: right;\">Row</th><th style = \"text-align: left;\">Title20</th><th style = \"text-align: left;\">Title</th><th style = \"text-align: left;\">Country/Region</th><th style = \"text-align: left;\">SCIE</th><th style = \"text-align: left;\">SSCI</th><th style = \"text-align: left;\">AHCI</th><th style = \"text-align: left;\">ESCI</th></tr><tr class = \"subheader headerLastRow\"><th class = \"rowLabel\" style = \"font-weight: bold; text-align: right;\"></th><th title = \"String31\" style = \"text-align: left;\">String31</th><th title = \"String\" style = \"text-align: left;\">String</th><th title = \"String15\" style = \"text-align: left;\">String15</th><th title = \"Union{Missing, String1}\" style = \"text-align: left;\">String1?</th><th title = \"Union{Missing, String1}\" style = \"text-align: left;\">String1?</th><th title = \"Union{Missing, String1}\" style = \"text-align: left;\">String1?</th><th title = \"Union{Missing, String1}\" style = \"text-align: left;\">String1?</th></tr></thead><tbody><tr><td class = \"rowLabel\" style = \"font-weight: bold; text-align: right;\">1234</td><td style = \"text-align: left;\">ANN CLIN PSYCHIATRY</td><td style = \"text-align: left;\">ANNALS OF CLINICAL PSYCHIATRY</td><td style = \"text-align: left;\">UNITED STATES</td><td style = \"text-align: left;\">X</td><td style = \"text-align: left;\">X</td><td style = \"font-style: italic; text-align: left;\">missing</td><td style = \"font-style: italic; text-align: left;\">missing</td></tr></tbody></table></div>"
      ],
      "text/latex": [
       "\\begin{tabular}{r|cccccc}\n",
       "\t& Title20 & Title & Country/Region & SCIE & SSCI & \\\\\n",
       "\t\\hline\n",
       "\t& String31 & String & String15 & String1? & String1? & \\\\\n",
       "\t\\hline\n",
       "\t1234 & ANN CLIN PSYCHIATRY & ANNALS OF CLINICAL PSYCHIATRY & UNITED STATES & X & X & $\\dots$ \\\\\n",
       "\\end{tabular}\n"
      ],
      "text/plain": [
       "\u001b[1mDataFrameRow\u001b[0m\n",
       "\u001b[1m  Row \u001b[0m│\u001b[1m Title20             \u001b[0m\u001b[1m Title                         \u001b[0m\u001b[1m Country/Region \u001b[0m\u001b[1m SC\u001b[0m ⋯\n",
       "      │\u001b[90m String31            \u001b[0m\u001b[90m String                        \u001b[0m\u001b[90m String15       \u001b[0m\u001b[90m St\u001b[0m ⋯\n",
       "──────┼─────────────────────────────────────────────────────────────────────────\n",
       " 1234 │ ANN CLIN PSYCHIATRY  ANNALS OF CLINICAL PSYCHIATRY  UNITED STATES   X  ⋯\n",
       "\u001b[36m                                                               4 columns omitted\u001b[0m"
      ]
     },
     "metadata": {},
     "output_type": "display_data"
    }
   ],
   "source": [
    "Names[1234,:]"
   ]
  },
  {
   "cell_type": "code",
   "execution_count": 36,
   "metadata": {},
   "outputs": [],
   "source": [
    "Scores = select(Scores, Not([:\"Column5\"]));"
   ]
  },
  {
   "cell_type": "code",
   "execution_count": 37,
   "metadata": {},
   "outputs": [],
   "source": [
    "rename!(Names,:\"Title20\" => :\"Journal\")\n",
    "rename!(Names,:\"Title\" => :\"JournalFullName\")\n",
    "Names = select(Names, Not([:\"Country/Region\", :\"SCIE\", :\"SSCI\", :\"AHCI\", :\"ESCI\"]));"
   ]
  },
  {
   "cell_type": "code",
   "execution_count": 38,
   "metadata": {},
   "outputs": [
    {
     "data": {
      "text/html": [
       "<div><div style = \"float: left;\"><span>DataFrameRow (4 columns)</span></div><div style = \"clear: both;\"></div></div><div class = \"data-frame\" style = \"overflow-x: scroll;\"><table class = \"data-frame\" style = \"margin-bottom: 6px;\"><thead><tr class = \"header\"><th class = \"rowLabel\" style = \"font-weight: bold; text-align: right;\">Row</th><th style = \"text-align: left;\">JournalFullName</th><th style = \"text-align: left;\">ISSN</th><th style = \"text-align: left;\">2022IF</th><th style = \"text-align: left;\">2022AI</th></tr><tr class = \"subheader headerLastRow\"><th class = \"rowLabel\" style = \"font-weight: bold; text-align: right;\"></th><th title = \"String\" style = \"text-align: left;\">String</th><th title = \"String\" style = \"text-align: left;\">String</th><th title = \"Union{Missing, Float64}\" style = \"text-align: left;\">Float64?</th><th title = \"Union{Missing, Float64}\" style = \"text-align: left;\">Float64?</th></tr></thead><tbody><tr><td class = \"rowLabel\" style = \"font-weight: bold; text-align: right;\">1234</td><td style = \"text-align: left;\">ANNALI DELLA SCUOLA NORMALE SUPERIORE DI PISA-CLASSE DI SCIENZE</td><td style = \"text-align: left;\">0391-173X</td><td style = \"text-align: right;\">1.4</td><td style = \"text-align: right;\">1.518</td></tr></tbody></table></div>"
      ],
      "text/latex": [
       "\\begin{tabular}{r|cccc}\n",
       "\t& JournalFullName & ISSN & 2022IF & \\\\\n",
       "\t\\hline\n",
       "\t& String & String & Float64? & \\\\\n",
       "\t\\hline\n",
       "\t1234 & ANNALI DELLA SCUOLA NORMALE SUPERIORE DI PISA-CLASSE DI SCIENZE & 0391-173X & 1.4 & $\\dots$ \\\\\n",
       "\\end{tabular}\n"
      ],
      "text/plain": [
       "\u001b[1mDataFrameRow\u001b[0m\n",
       "\u001b[1m  Row \u001b[0m│\u001b[1m JournalFullName                   \u001b[0m\u001b[1m ISSN      \u001b[0m\u001b[1m 2022IF   \u001b[0m\u001b[1m 2022AI   \u001b[0m\n",
       "      │\u001b[90m String                            \u001b[0m\u001b[90m String    \u001b[0m\u001b[90m Float64? \u001b[0m\u001b[90m Float64? \u001b[0m\n",
       "──────┼──────────────────────────────────────────────────────────────────\n",
       " 1234 │ ANNALI DELLA SCUOLA NORMALE SUPE…  0391-173X       1.4     1.518"
      ]
     },
     "metadata": {},
     "output_type": "display_data"
    }
   ],
   "source": [
    "Scores[1234,:]"
   ]
  },
  {
   "cell_type": "code",
   "execution_count": 39,
   "metadata": {},
   "outputs": [
    {
     "data": {
      "text/html": [
       "<div><div style = \"float: left;\"><span>DataFrameRow (2 columns)</span></div><div style = \"clear: both;\"></div></div><div class = \"data-frame\" style = \"overflow-x: scroll;\"><table class = \"data-frame\" style = \"margin-bottom: 6px;\"><thead><tr class = \"header\"><th class = \"rowLabel\" style = \"font-weight: bold; text-align: right;\">Row</th><th style = \"text-align: left;\">Journal</th><th style = \"text-align: left;\">JournalFullName</th></tr><tr class = \"subheader headerLastRow\"><th class = \"rowLabel\" style = \"font-weight: bold; text-align: right;\"></th><th title = \"String31\" style = \"text-align: left;\">String31</th><th title = \"String\" style = \"text-align: left;\">String</th></tr></thead><tbody><tr><td class = \"rowLabel\" style = \"font-weight: bold; text-align: right;\">1234</td><td style = \"text-align: left;\">ANN CLIN PSYCHIATRY</td><td style = \"text-align: left;\">ANNALS OF CLINICAL PSYCHIATRY</td></tr></tbody></table></div>"
      ],
      "text/latex": [
       "\\begin{tabular}{r|cc}\n",
       "\t& Journal & JournalFullName\\\\\n",
       "\t\\hline\n",
       "\t& String31 & String\\\\\n",
       "\t\\hline\n",
       "\t1234 & ANN CLIN PSYCHIATRY & ANNALS OF CLINICAL PSYCHIATRY \\\\\n",
       "\\end{tabular}\n"
      ],
      "text/plain": [
       "\u001b[1mDataFrameRow\u001b[0m\n",
       "\u001b[1m  Row \u001b[0m│\u001b[1m Journal             \u001b[0m\u001b[1m JournalFullName               \u001b[0m\n",
       "      │\u001b[90m String31            \u001b[0m\u001b[90m String                        \u001b[0m\n",
       "──────┼────────────────────────────────────────────────────\n",
       " 1234 │ ANN CLIN PSYCHIATRY  ANNALS OF CLINICAL PSYCHIATRY"
      ]
     },
     "metadata": {},
     "output_type": "display_data"
    }
   ],
   "source": [
    "Names[1234,:]"
   ]
  },
  {
   "cell_type": "code",
   "execution_count": 40,
   "metadata": {},
   "outputs": [],
   "source": [
    "Scores_new = outerjoin(Scores, Names; on=:\"JournalFullName\", makeunique=true);"
   ]
  },
  {
   "cell_type": "code",
   "execution_count": 41,
   "metadata": {},
   "outputs": [],
   "source": [
    "select!(Scores_new, :\"Journal\", :\"JournalFullName\", :\"ISSN\", :\"2022IF\", :\"2022AI\");"
   ]
  },
  {
   "cell_type": "code",
   "execution_count": 42,
   "metadata": {},
   "outputs": [
    {
     "data": {
      "text/plain": [
       "\"/home/lali/TITAN-ROG-sync/julia/ISI/ISI_Journal_Citation_Report_2022_exportPLUS.csv\""
      ]
     },
     "metadata": {},
     "output_type": "display_data"
    }
   ],
   "source": [
    "root = dirname(@__FILE__)\n",
    "outputScores = joinpath(root, \"ISI_Journal_Citation_Report_2022_exportPLUS.csv\")\n",
    "CSV.write(outputScores, Scores_new; delim='\\t')\n"
   ]
  }
 ],
 "metadata": {
  "kernelspec": {
   "display_name": "Julia 1.10.0",
   "language": "julia",
   "name": "julia-1.10"
  },
  "language_info": {
   "file_extension": ".jl",
   "mimetype": "application/julia",
   "name": "julia",
   "version": "1.10.0"
  },
  "orig_nbformat": 4
 },
 "nbformat": 4,
 "nbformat_minor": 2
}
