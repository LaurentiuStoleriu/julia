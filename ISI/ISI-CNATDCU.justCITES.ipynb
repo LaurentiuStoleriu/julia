{
 "cells": [
  {
   "cell_type": "code",
   "execution_count": 8,
   "metadata": {},
   "outputs": [],
   "source": [
    "using CSV, DataFrames"
   ]
  },
  {
   "cell_type": "code",
   "execution_count": 9,
   "metadata": {},
   "outputs": [
    {
     "data": {
      "text/plain": [
       "\"/mnt/e/Stoleriu/Doc/CV/auto\""
      ]
     },
     "metadata": {},
     "output_type": "display_data"
    }
   ],
   "source": [
    "#primAuthor = \"Enachescu\"\n",
    "#fileOwnPapers = \"CE_JL_savedrecs_mine.txt\"\n",
    "fileCitations = \"CE_JL_savedrecs_PART.txt\"\n",
    "root = dirname(\"/mnt/e/Stoleriu/Doc/CV/auto/\")"
   ]
  },
  {
   "cell_type": "code",
   "execution_count": 10,
   "metadata": {},
   "outputs": [
    {
     "data": {
      "text/plain": [
       "\"/mnt/e/Stoleriu/Doc/CV/auto/CE_JL_savedrecs_PART.txt\""
      ]
     },
     "metadata": {},
     "output_type": "display_data"
    }
   ],
   "source": [
    "#inputMINE = joinpath(root, fileOwnPapers)\n",
    "inputCIT = joinpath(root, fileCitations)"
   ]
  },
  {
   "cell_type": "code",
   "execution_count": 11,
   "metadata": {},
   "outputs": [],
   "source": [
    "#MINEraw = CSV.read(inputMINE, DataFrame; header=true, delim='\\t');"
   ]
  },
  {
   "cell_type": "code",
   "execution_count": 12,
   "metadata": {},
   "outputs": [],
   "source": [
    "#VSCodeServer.vscodedisplay(MINEraw)"
   ]
  },
  {
   "cell_type": "code",
   "execution_count": 13,
   "metadata": {},
   "outputs": [
    {
     "name": "stderr",
     "output_type": "stream",
     "text": [
      "┌ Warning: thread = 1 warning: only found 70 / 71 columns around data row: 198. Filling remaining columns with `missing`\n",
      "└ @ CSV /home/lali/.julia/packages/CSV/jFiCn/src/file.jl:578\n",
      "┌ Warning: thread = 1 warning: only found 70 / 71 columns around data row: 198. Filling remaining columns with `missing`\n",
      "└ @ CSV /home/lali/.julia/packages/CSV/jFiCn/src/file.jl:578\n",
      "┌ Warning: thread = 1 warning: only found 70 / 71 columns around data row: 198. Filling remaining columns with `missing`\n",
      "└ @ CSV /home/lali/.julia/packages/CSV/jFiCn/src/file.jl:578\n",
      "┌ Warning: thread = 1 warning: only found 70 / 71 columns around data row: 198. Filling remaining columns with `missing`\n",
      "└ @ CSV /home/lali/.julia/packages/CSV/jFiCn/src/file.jl:578\n",
      "┌ Warning: thread = 1 warning: only found 70 / 71 columns around data row: 198. Filling remaining columns with `missing`\n",
      "└ @ CSV /home/lali/.julia/packages/CSV/jFiCn/src/file.jl:578\n",
      "┌ Warning: thread = 1 warning: only found 70 / 71 columns around data row: 198. Filling remaining columns with `missing`\n",
      "└ @ CSV /home/lali/.julia/packages/CSV/jFiCn/src/file.jl:578\n",
      "┌ Warning: thread = 1 warning: only found 32 / 71 columns around data row: 217. Filling remaining columns with `missing`\n",
      "└ @ CSV /home/lali/.julia/packages/CSV/jFiCn/src/file.jl:578\n"
     ]
    }
   ],
   "source": [
    "#MINECITEraw = DataFrame()\n",
    "#allowmissing!(MINECITEraw)\n",
    "MINECITEraw = CSV.read(inputCIT, DataFrame; header=true, delim='\\t');"
   ]
  },
  {
   "cell_type": "code",
   "execution_count": 14,
   "metadata": {},
   "outputs": [],
   "source": [
    "VSCodeServer.vscodedisplay(MINECITEraw)"
   ]
  }
 ],
 "metadata": {
  "kernelspec": {
   "display_name": "Julia 1.7.2",
   "language": "julia",
   "name": "julia-1.7"
  },
  "language_info": {
   "file_extension": ".jl",
   "mimetype": "application/julia",
   "name": "julia",
   "version": "1.7.2"
  },
  "orig_nbformat": 4
 },
 "nbformat": 4,
 "nbformat_minor": 2
}
