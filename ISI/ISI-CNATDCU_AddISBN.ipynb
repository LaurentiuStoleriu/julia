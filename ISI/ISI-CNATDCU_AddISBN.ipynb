{
 "cells": [
  {
   "cell_type": "code",
   "execution_count": null,
   "metadata": {},
   "outputs": [],
   "source": [
    "using CSV, DataFrames"
   ]
  },
  {
   "cell_type": "code",
   "execution_count": null,
   "metadata": {},
   "outputs": [],
   "source": [
    "root = dirname(@__FILE__)\n",
    "#inputAIS = joinpath(root, \"AI_factor_full.txt\")\n",
    "inputAIS = joinpath(root, \"AI_factor_full_1997-2021.txt\")"
   ]
  },
  {
   "cell_type": "code",
   "execution_count": null,
   "metadata": {},
   "outputs": [],
   "source": [
    "AIS = CSV.read(inputAIS, DataFrame)\n",
    "eltype.(eachcol(AIS));"
   ]
  },
  {
   "cell_type": "code",
   "execution_count": null,
   "metadata": {},
   "outputs": [],
   "source": [
    "#VSCodeServer.vscodedisplay(AIS)"
   ]
  },
  {
   "cell_type": "code",
   "execution_count": null,
   "metadata": {},
   "outputs": [],
   "source": [
    "root = dirname(@__FILE__)\n",
    "#inputISI = joinpath(root, \"IF_factor_full.txt\")\n",
    "inputISI = joinpath(root, \"IF_factor_full_1997-2021.txt\")"
   ]
  },
  {
   "cell_type": "code",
   "execution_count": null,
   "metadata": {},
   "outputs": [],
   "source": [
    "ISI = CSV.read(inputISI, DataFrame)\n",
    "eltype.(eachcol(ISI));"
   ]
  },
  {
   "cell_type": "code",
   "execution_count": null,
   "metadata": {},
   "outputs": [],
   "source": [
    "#VSCodeServer.vscodedisplay(ISI)"
   ]
  },
  {
   "cell_type": "code",
   "execution_count": null,
   "metadata": {},
   "outputs": [],
   "source": [
    "AIS[1, [1, 2, 25, 26]]"
   ]
  },
  {
   "cell_type": "code",
   "execution_count": null,
   "metadata": {},
   "outputs": [],
   "source": [
    "ISI[1, [1, 2, 25, 26]]"
   ]
  },
  {
   "cell_type": "code",
   "execution_count": null,
   "metadata": {},
   "outputs": [],
   "source": [
    "root = dirname(@__FILE__)\n",
    "inputISSN = joinpath(root, \"ISI_Journal_Citation_Report_2021_ISSNs.csv\")\n",
    "LoadedAIS2021 = CSV.read(inputISSN, DataFrame; header=true, missingstring=[\"Not Available\",\"\",\"N/A\"]);\n"
   ]
  },
  {
   "cell_type": "code",
   "execution_count": null,
   "metadata": {},
   "outputs": [],
   "source": [
    "LoadedAIS2021.\"2021AI\" = replace(LoadedAIS2021.\"2021AI\", missing => 0)\n",
    "LoadedAIS2021.\"2021IF\" = replace(LoadedAIS2021.\"2021IF\", missing => 0)\n",
    "eltype.(eachcol(LoadedAIS2021))"
   ]
  },
  {
   "cell_type": "code",
   "execution_count": null,
   "metadata": {},
   "outputs": [],
   "source": [
    "ISI2021 = LoadedAIS2021[!, [1, 2, 3, 4]]\n",
    "AIS2021 = LoadedAIS2021[!, [1, 2, 3, 5]]\n",
    "\n",
    "rename!(AIS2021,:\"2021AI\" => :\"2021\")\n",
    "#AIS2021.\"2021\" = replace(AIS2021.\"2021\", \"N/A\" => 0)\n",
    "AIS2021[876, :]"
   ]
  },
  {
   "cell_type": "code",
   "execution_count": null,
   "metadata": {},
   "outputs": [],
   "source": [
    "rename!(ISI2021,:\"2021IF\" => :\"2021\")\n",
    "#ISI2021.\"2021\" = replace(ISI2022.\"2022\", \"N/A\" => 0)\n",
    "ISI2021[876, :]"
   ]
  },
  {
   "cell_type": "code",
   "execution_count": null,
   "metadata": {},
   "outputs": [],
   "source": [
    "AIS[1, [1, 2, 23, 24, 25, 26]]"
   ]
  },
  {
   "cell_type": "code",
   "execution_count": null,
   "metadata": {},
   "outputs": [],
   "source": [
    "AIS2021[876, :]"
   ]
  },
  {
   "cell_type": "code",
   "execution_count": null,
   "metadata": {},
   "outputs": [],
   "source": [
    "AIS = select(AIS, Not([:\"2021\"]))\n",
    "AIS[1, :]"
   ]
  },
  {
   "cell_type": "code",
   "execution_count": null,
   "metadata": {},
   "outputs": [],
   "source": [
    "#AIS = leftjoin(AIS, AIS2022; on=:\"Journal\", makeunique=true)\n",
    "AIS_new = outerjoin(AIS, AIS2021; on=:\"Journal\", makeunique=true)\n",
    "AIS_new[1, :]"
   ]
  },
  {
   "cell_type": "code",
   "execution_count": null,
   "metadata": {},
   "outputs": [],
   "source": [
    "AIS_new.\"2021\" = replace(AIS_new.\"2021\", missing => 0)\n",
    "insertcols!(AIS_new, :\"2022\" => AIS_new.\"2021\");\n",
    "AIS_new[1, :]"
   ]
  },
  {
   "cell_type": "code",
   "execution_count": null,
   "metadata": {},
   "outputs": [],
   "source": [
    "#BRING new columns\n",
    "AIS = AIS_new[!, [1, 26, 27, 2, 3, 4, 5, 6, 7, 8, 9, 10, 11, 12, 13, 14, 15, 16, 17, 18, 19, 20, 21, 22, 23, 24, 25, 28, 29]]\n",
    "AIS[1, :]"
   ]
  },
  {
   "cell_type": "code",
   "execution_count": null,
   "metadata": {},
   "outputs": [],
   "source": [
    "ISI = select(ISI, Not([:\"2021\"]));\n",
    "ISI[1, :]"
   ]
  },
  {
   "cell_type": "code",
   "execution_count": null,
   "metadata": {},
   "outputs": [],
   "source": [
    "ISI_new = outerjoin(ISI, ISI2021; on=:\"Journal\", makeunique=true)\n",
    "ISI_new.\"2021\" = replace(ISI_new.\"2021\", missing => 0)\n",
    "insertcols!(ISI_new, :\"2022\" => ISI_new.\"2021\");\n",
    "#BRING new columns\n",
    "ISI = ISI_new[!, [1, 26, 27, 2, 3, 4, 5, 6, 7, 8, 9, 10, 11, 12, 13, 14, 15, 16, 17, 18, 19, 20, 21, 22, 23, 24, 25, 28, 29]]\n",
    "ISI[1, :]"
   ]
  },
  {
   "cell_type": "code",
   "execution_count": null,
   "metadata": {},
   "outputs": [],
   "source": [
    "#AIS = coalesce.(AIS, 0.0);\n",
    "#ISI = coalesce.(ISI, 0.0);\n",
    "for col in [4,5,6,7,8,9,10,11,12,13,14,15,16,17,18,19,20,21,22,23,24,25,26,27,28,29]\n",
    "    AIS[ismissing.(AIS[:,col]), col] .= 0.0\n",
    "    ISI[ismissing.(ISI[:,col]), col] .= 0.0\n",
    "end"
   ]
  },
  {
   "cell_type": "code",
   "execution_count": null,
   "metadata": {},
   "outputs": [],
   "source": []
  },
  {
   "cell_type": "code",
   "execution_count": null,
   "metadata": {},
   "outputs": [],
   "source": []
  },
  {
   "cell_type": "code",
   "execution_count": null,
   "metadata": {},
   "outputs": [],
   "source": [
    "root = dirname(@__FILE__)\n",
    "outputAIS = joinpath(root, \"AI_factor_full_1997-2022_plus.txt\")\n",
    "CSV.write(outputAIS, AIS; delim='\\t')\n",
    "outputISI = joinpath(root, \"IF_factor_full_1997-2022_plus.txt\")\n",
    "CSV.write(outputISI, ISI; delim='\\t')"
   ]
  },
  {
   "cell_type": "code",
   "execution_count": null,
   "metadata": {},
   "outputs": [],
   "source": []
  }
 ],
 "metadata": {
  "kernelspec": {
   "display_name": "Julia 1.10.0",
   "language": "julia",
   "name": "julia-1.10"
  },
  "language_info": {
   "file_extension": ".jl",
   "mimetype": "application/julia",
   "name": "julia",
   "version": "1.10.0"
  },
  "orig_nbformat": 4
 },
 "nbformat": 4,
 "nbformat_minor": 2
}
