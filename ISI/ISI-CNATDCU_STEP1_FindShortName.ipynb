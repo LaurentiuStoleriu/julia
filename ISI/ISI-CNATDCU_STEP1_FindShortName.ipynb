{
 "cells": [
  {
   "cell_type": "code",
   "execution_count": 46,
   "metadata": {},
   "outputs": [],
   "source": [
    "using CSV, DataFrames"
   ]
  },
  {
   "cell_type": "code",
   "execution_count": 47,
   "metadata": {},
   "outputs": [
    {
     "data": {
      "text/plain": [
       "\"/home/lali/TITAN-ROG-sync/julia/ISI/ISI_Journal_Citation_Report_2023_export.csv\""
      ]
     },
     "metadata": {},
     "output_type": "display_data"
    }
   ],
   "source": [
    "root = dirname(@__FILE__)\n",
    "inputScores = joinpath(root, \"ISI_Journal_Citation_Report_2023_export.csv\")"
   ]
  },
  {
   "cell_type": "code",
   "execution_count": 48,
   "metadata": {},
   "outputs": [
    {
     "data": {
      "text/plain": [
       "4-element Vector{DataType}:\n",
       " String\n",
       " String15\n",
       " Float64\n",
       " Float64"
      ]
     },
     "metadata": {},
     "output_type": "display_data"
    }
   ],
   "source": [
    "Scores = CSV.read(inputScores, DataFrame)\n",
    "eltype.(eachcol(Scores))"
   ]
  },
  {
   "cell_type": "code",
   "execution_count": 49,
   "metadata": {},
   "outputs": [
    {
     "data": {
      "text/plain": [
       "\"/home/lali/TITAN-ROG-sync/julia/ISI/ISI_JCR_2024_NameEquiv.csv\""
      ]
     },
     "metadata": {},
     "output_type": "display_data"
    }
   ],
   "source": [
    "inputNames = joinpath(root, \"ISI_JCR_2024_NameEquiv.csv\")"
   ]
  },
  {
   "cell_type": "code",
   "execution_count": 50,
   "metadata": {},
   "outputs": [
    {
     "data": {
      "text/plain": [
       "7-element Vector{Type}:\n",
       " String31\n",
       " String\n",
       " String15\n",
       " Union{Missing, String1}\n",
       " Union{Missing, String1}\n",
       " Union{Missing, String1}\n",
       " Union{Missing, String1}"
      ]
     },
     "metadata": {},
     "output_type": "display_data"
    }
   ],
   "source": [
    "Names = CSV.read(inputNames, DataFrame)\n",
    "eltype.(eachcol(Names))"
   ]
  },
  {
   "cell_type": "code",
   "execution_count": 51,
   "metadata": {},
   "outputs": [
    {
     "data": {
      "text/html": [
       "<div><div style = \"float: left;\"><span>DataFrameRow (4 columns)</span></div><div style = \"clear: both;\"></div></div><div class = \"data-frame\" style = \"overflow-x: scroll;\"><table class = \"data-frame\" style = \"margin-bottom: 6px;\"><thead><tr class = \"header\"><th class = \"rowLabel\" style = \"font-weight: bold; text-align: right;\">Row</th><th style = \"text-align: left;\">JournalFullName</th><th style = \"text-align: left;\">ISSN</th><th style = \"text-align: left;\">2023IF</th><th style = \"text-align: left;\">2023AI</th></tr><tr class = \"subheader headerLastRow\"><th class = \"rowLabel\" style = \"font-weight: bold; text-align: right;\"></th><th title = \"String\" style = \"text-align: left;\">String</th><th title = \"String15\" style = \"text-align: left;\">String15</th><th title = \"Float64\" style = \"text-align: left;\">Float64</th><th title = \"Float64\" style = \"text-align: left;\">Float64</th></tr></thead><tbody><tr><td class = \"rowLabel\" style = \"font-weight: bold; text-align: right;\">1234</td><td style = \"text-align: left;\">ANNALES BOTANICI FENNICI</td><td style = \"text-align: left;\">0003-3847</td><td style = \"text-align: right;\">0.6</td><td style = \"text-align: right;\">0.158</td></tr></tbody></table></div>"
      ],
      "text/latex": [
       "\\begin{tabular}{r|cccc}\n",
       "\t& JournalFullName & ISSN & 2023IF & 2023AI\\\\\n",
       "\t\\hline\n",
       "\t& String & String15 & Float64 & Float64\\\\\n",
       "\t\\hline\n",
       "\t1234 & ANNALES BOTANICI FENNICI & 0003-3847 & 0.6 & 0.158 \\\\\n",
       "\\end{tabular}\n"
      ],
      "text/plain": [
       "\u001b[1mDataFrameRow\u001b[0m\n",
       "\u001b[1m  Row \u001b[0m│\u001b[1m JournalFullName          \u001b[0m\u001b[1m ISSN      \u001b[0m\u001b[1m 2023IF  \u001b[0m\u001b[1m 2023AI  \u001b[0m\n",
       "      │\u001b[90m String                   \u001b[0m\u001b[90m String15  \u001b[0m\u001b[90m Float64 \u001b[0m\u001b[90m Float64 \u001b[0m\n",
       "──────┼───────────────────────────────────────────────────────\n",
       " 1234 │ ANNALES BOTANICI FENNICI  0003-3847      0.6    0.158"
      ]
     },
     "metadata": {},
     "output_type": "display_data"
    }
   ],
   "source": [
    "Scores[1234,:]"
   ]
  },
  {
   "cell_type": "code",
   "execution_count": 52,
   "metadata": {},
   "outputs": [
    {
     "data": {
      "text/html": [
       "<div><div style = \"float: left;\"><span>DataFrameRow (7 columns)</span></div><div style = \"clear: both;\"></div></div><div class = \"data-frame\" style = \"overflow-x: scroll;\"><table class = \"data-frame\" style = \"margin-bottom: 6px;\"><thead><tr class = \"header\"><th class = \"rowLabel\" style = \"font-weight: bold; text-align: right;\">Row</th><th style = \"text-align: left;\">Title20</th><th style = \"text-align: left;\">Title</th><th style = \"text-align: left;\">Country</th><th style = \"text-align: left;\">SCIE</th><th style = \"text-align: left;\">SSCI</th><th style = \"text-align: left;\">AHCI</th><th style = \"text-align: left;\">ESCI</th></tr><tr class = \"subheader headerLastRow\"><th class = \"rowLabel\" style = \"font-weight: bold; text-align: right;\"></th><th title = \"String31\" style = \"text-align: left;\">String31</th><th title = \"String\" style = \"text-align: left;\">String</th><th title = \"String15\" style = \"text-align: left;\">String15</th><th title = \"Union{Missing, String1}\" style = \"text-align: left;\">String1?</th><th title = \"Union{Missing, String1}\" style = \"text-align: left;\">String1?</th><th title = \"Union{Missing, String1}\" style = \"text-align: left;\">String1?</th><th title = \"Union{Missing, String1}\" style = \"text-align: left;\">String1?</th></tr></thead><tbody><tr><td class = \"rowLabel\" style = \"font-weight: bold; text-align: right;\">1234</td><td style = \"text-align: left;\">ANN ACAD MED SINGAP</td><td style = \"text-align: left;\">ANNALS ACADEMY OF MEDICINE SINGAPORE</td><td style = \"text-align: left;\">SINGAPORE</td><td style = \"text-align: left;\">X</td><td style = \"font-style: italic; text-align: left;\">missing</td><td style = \"font-style: italic; text-align: left;\">missing</td><td style = \"font-style: italic; text-align: left;\">missing</td></tr></tbody></table></div>"
      ],
      "text/latex": [
       "\\begin{tabular}{r|ccccc}\n",
       "\t& Title20 & Title & Country & SCIE & \\\\\n",
       "\t\\hline\n",
       "\t& String31 & String & String15 & String1? & \\\\\n",
       "\t\\hline\n",
       "\t1234 & ANN ACAD MED SINGAP & ANNALS ACADEMY OF MEDICINE SINGAPORE & SINGAPORE & X & $\\dots$ \\\\\n",
       "\\end{tabular}\n"
      ],
      "text/plain": [
       "\u001b[1mDataFrameRow\u001b[0m\n",
       "\u001b[1m  Row \u001b[0m│\u001b[1m Title20             \u001b[0m\u001b[1m Title                             \u001b[0m\u001b[1m Country   \u001b[0m\u001b[1m SCI\u001b[0m ⋯\n",
       "      │\u001b[90m String31            \u001b[0m\u001b[90m String                            \u001b[0m\u001b[90m String15  \u001b[0m\u001b[90m Str\u001b[0m ⋯\n",
       "──────┼─────────────────────────────────────────────────────────────────────────\n",
       " 1234 │ ANN ACAD MED SINGAP  ANNALS ACADEMY OF MEDICINE SINGA…  SINGAPORE  X   ⋯\n",
       "\u001b[36m                                                               4 columns omitted\u001b[0m"
      ]
     },
     "metadata": {},
     "output_type": "display_data"
    }
   ],
   "source": [
    "Names[1234,:]"
   ]
  },
  {
   "cell_type": "code",
   "execution_count": 53,
   "metadata": {},
   "outputs": [],
   "source": [
    "#Scores = select(Scores, Not([:\"Column5\"]));"
   ]
  },
  {
   "cell_type": "code",
   "execution_count": 54,
   "metadata": {},
   "outputs": [],
   "source": [
    "rename!(Names,:\"Title20\" => :\"Journal\")\n",
    "rename!(Names,:\"Title\" => :\"JournalFullName\")\n",
    "Names = select(Names, Not([:\"Country\", :\"SCIE\", :\"SSCI\", :\"AHCI\", :\"ESCI\"]));"
   ]
  },
  {
   "cell_type": "code",
   "execution_count": 55,
   "metadata": {},
   "outputs": [
    {
     "data": {
      "text/html": [
       "<div><div style = \"float: left;\"><span>DataFrameRow (4 columns)</span></div><div style = \"clear: both;\"></div></div><div class = \"data-frame\" style = \"overflow-x: scroll;\"><table class = \"data-frame\" style = \"margin-bottom: 6px;\"><thead><tr class = \"header\"><th class = \"rowLabel\" style = \"font-weight: bold; text-align: right;\">Row</th><th style = \"text-align: left;\">JournalFullName</th><th style = \"text-align: left;\">ISSN</th><th style = \"text-align: left;\">2023IF</th><th style = \"text-align: left;\">2023AI</th></tr><tr class = \"subheader headerLastRow\"><th class = \"rowLabel\" style = \"font-weight: bold; text-align: right;\"></th><th title = \"String\" style = \"text-align: left;\">String</th><th title = \"String15\" style = \"text-align: left;\">String15</th><th title = \"Float64\" style = \"text-align: left;\">Float64</th><th title = \"Float64\" style = \"text-align: left;\">Float64</th></tr></thead><tbody><tr><td class = \"rowLabel\" style = \"font-weight: bold; text-align: right;\">1234</td><td style = \"text-align: left;\">ANNALES BOTANICI FENNICI</td><td style = \"text-align: left;\">0003-3847</td><td style = \"text-align: right;\">0.6</td><td style = \"text-align: right;\">0.158</td></tr></tbody></table></div>"
      ],
      "text/latex": [
       "\\begin{tabular}{r|cccc}\n",
       "\t& JournalFullName & ISSN & 2023IF & 2023AI\\\\\n",
       "\t\\hline\n",
       "\t& String & String15 & Float64 & Float64\\\\\n",
       "\t\\hline\n",
       "\t1234 & ANNALES BOTANICI FENNICI & 0003-3847 & 0.6 & 0.158 \\\\\n",
       "\\end{tabular}\n"
      ],
      "text/plain": [
       "\u001b[1mDataFrameRow\u001b[0m\n",
       "\u001b[1m  Row \u001b[0m│\u001b[1m JournalFullName          \u001b[0m\u001b[1m ISSN      \u001b[0m\u001b[1m 2023IF  \u001b[0m\u001b[1m 2023AI  \u001b[0m\n",
       "      │\u001b[90m String                   \u001b[0m\u001b[90m String15  \u001b[0m\u001b[90m Float64 \u001b[0m\u001b[90m Float64 \u001b[0m\n",
       "──────┼───────────────────────────────────────────────────────\n",
       " 1234 │ ANNALES BOTANICI FENNICI  0003-3847      0.6    0.158"
      ]
     },
     "metadata": {},
     "output_type": "display_data"
    }
   ],
   "source": [
    "Scores[1234,:]"
   ]
  },
  {
   "cell_type": "code",
   "execution_count": 56,
   "metadata": {},
   "outputs": [
    {
     "data": {
      "text/html": [
       "<div><div style = \"float: left;\"><span>DataFrameRow (2 columns)</span></div><div style = \"clear: both;\"></div></div><div class = \"data-frame\" style = \"overflow-x: scroll;\"><table class = \"data-frame\" style = \"margin-bottom: 6px;\"><thead><tr class = \"header\"><th class = \"rowLabel\" style = \"font-weight: bold; text-align: right;\">Row</th><th style = \"text-align: left;\">Journal</th><th style = \"text-align: left;\">JournalFullName</th></tr><tr class = \"subheader headerLastRow\"><th class = \"rowLabel\" style = \"font-weight: bold; text-align: right;\"></th><th title = \"String31\" style = \"text-align: left;\">String31</th><th title = \"String\" style = \"text-align: left;\">String</th></tr></thead><tbody><tr><td class = \"rowLabel\" style = \"font-weight: bold; text-align: right;\">1234</td><td style = \"text-align: left;\">ANN ACAD MED SINGAP</td><td style = \"text-align: left;\">ANNALS ACADEMY OF MEDICINE SINGAPORE</td></tr></tbody></table></div>"
      ],
      "text/latex": [
       "\\begin{tabular}{r|cc}\n",
       "\t& Journal & JournalFullName\\\\\n",
       "\t\\hline\n",
       "\t& String31 & String\\\\\n",
       "\t\\hline\n",
       "\t1234 & ANN ACAD MED SINGAP & ANNALS ACADEMY OF MEDICINE SINGAPORE \\\\\n",
       "\\end{tabular}\n"
      ],
      "text/plain": [
       "\u001b[1mDataFrameRow\u001b[0m\n",
       "\u001b[1m  Row \u001b[0m│\u001b[1m Journal             \u001b[0m\u001b[1m JournalFullName                   \u001b[0m\n",
       "      │\u001b[90m String31            \u001b[0m\u001b[90m String                            \u001b[0m\n",
       "──────┼────────────────────────────────────────────────────────\n",
       " 1234 │ ANN ACAD MED SINGAP  ANNALS ACADEMY OF MEDICINE SINGA…"
      ]
     },
     "metadata": {},
     "output_type": "display_data"
    }
   ],
   "source": [
    "Names[1234,:]"
   ]
  },
  {
   "cell_type": "code",
   "execution_count": 57,
   "metadata": {},
   "outputs": [],
   "source": [
    "Scores_new = outerjoin(Scores, Names; on=:\"JournalFullName\", makeunique=true);"
   ]
  },
  {
   "cell_type": "code",
   "execution_count": 58,
   "metadata": {},
   "outputs": [],
   "source": [
    "select!(Scores_new, :\"Journal\", :\"JournalFullName\", :\"ISSN\", :\"2023IF\", :\"2023AI\");"
   ]
  },
  {
   "cell_type": "code",
   "execution_count": 59,
   "metadata": {},
   "outputs": [
    {
     "data": {
      "text/plain": [
       "\"/home/lali/TITAN-ROG-sync/julia/ISI/ISI_Journal_Citation_Report_2023_exportPLUS.csv\""
      ]
     },
     "metadata": {},
     "output_type": "display_data"
    }
   ],
   "source": [
    "root = dirname(@__FILE__)\n",
    "outputScores = joinpath(root, \"ISI_Journal_Citation_Report_2023_exportPLUS.csv\")\n",
    "CSV.write(outputScores, Scores_new; delim='\\t')\n"
   ]
  },
  {
   "cell_type": "code",
   "execution_count": 60,
   "metadata": {},
   "outputs": [],
   "source": []
  }
 ],
 "metadata": {
  "kernelspec": {
   "display_name": "Julia 1.10.0",
   "language": "julia",
   "name": "julia-1.10"
  },
  "language_info": {
   "file_extension": ".jl",
   "mimetype": "application/julia",
   "name": "julia",
   "version": "1.10.0"
  },
  "orig_nbformat": 4
 },
 "nbformat": 4,
 "nbformat_minor": 2
}
