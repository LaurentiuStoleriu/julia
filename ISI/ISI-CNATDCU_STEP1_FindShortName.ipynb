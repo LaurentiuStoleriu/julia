{
 "cells": [
  {
   "cell_type": "code",
   "execution_count": 1,
   "metadata": {},
   "outputs": [],
   "source": [
    "using CSV, DataFrames"
   ]
  },
  {
   "cell_type": "code",
   "execution_count": 2,
   "metadata": {},
   "outputs": [
    {
     "data": {
      "text/plain": [
       "\"/home/lali/TITAN-ROG-sync/julia/ISI/ISI_Journal_Citation_Report_2024_export.csv\""
      ]
     },
     "metadata": {},
     "output_type": "display_data"
    }
   ],
   "source": [
    "root = dirname(@__FILE__)\n",
    "inputScores = joinpath(root, \"ISI_Journal_Citation_Report_2024_export.csv\")"
   ]
  },
  {
   "cell_type": "code",
   "execution_count": 3,
   "metadata": {},
   "outputs": [
    {
     "data": {
      "text/plain": [
       "4-element Vector{DataType}:\n",
       " String\n",
       " String15\n",
       " Float64\n",
       " Float64"
      ]
     },
     "metadata": {},
     "output_type": "display_data"
    }
   ],
   "source": [
    "Scores = CSV.read(inputScores, DataFrame)\n",
    "eltype.(eachcol(Scores))"
   ]
  },
  {
   "cell_type": "code",
   "execution_count": 5,
   "metadata": {},
   "outputs": [
    {
     "data": {
      "text/html": [
       "<div><div style = \"float: left;\"><span>DataFrameRow (4 columns)</span></div><div style = \"clear: both;\"></div></div><div class = \"data-frame\" style = \"overflow-x: scroll;\"><table class = \"data-frame\" style = \"margin-bottom: 6px;\"><thead><tr class = \"header\"><th class = \"rowLabel\" style = \"font-weight: bold; text-align: right;\">Row</th><th style = \"text-align: left;\">JournalFullName</th><th style = \"text-align: left;\">ISSN</th><th style = \"text-align: left;\">2024IF</th><th style = \"text-align: left;\">2024AI</th></tr><tr class = \"subheader headerLastRow\"><th class = \"rowLabel\" style = \"font-weight: bold; text-align: right;\"></th><th title = \"String\" style = \"text-align: left;\">String</th><th title = \"String15\" style = \"text-align: left;\">String15</th><th title = \"Float64\" style = \"text-align: left;\">Float64</th><th title = \"Float64\" style = \"text-align: left;\">Float64</th></tr></thead><tbody><tr><td class = \"rowLabel\" style = \"font-weight: bold; text-align: right;\">1</td><td style = \"text-align: left;\">20 Et 21-Revue D Histoire</td><td style = \"text-align: left;\">2649-664X</td><td style = \"text-align: right;\">0.0</td><td style = \"text-align: right;\">0.018</td></tr></tbody></table></div>"
      ],
      "text/latex": [
       "\\begin{tabular}{r|cccc}\n",
       "\t& JournalFullName & ISSN & 2024IF & 2024AI\\\\\n",
       "\t\\hline\n",
       "\t& String & String15 & Float64 & Float64\\\\\n",
       "\t\\hline\n",
       "\t1 & 20 Et 21-Revue D Histoire & 2649-664X & 0.0 & 0.018 \\\\\n",
       "\\end{tabular}\n"
      ],
      "text/plain": [
       "\u001b[1mDataFrameRow\u001b[0m\n",
       "\u001b[1m Row \u001b[0m│\u001b[1m JournalFullName           \u001b[0m\u001b[1m ISSN      \u001b[0m\u001b[1m 2024IF  \u001b[0m\u001b[1m 2024AI  \u001b[0m\n",
       "     │\u001b[90m String                    \u001b[0m\u001b[90m String15  \u001b[0m\u001b[90m Float64 \u001b[0m\u001b[90m Float64 \u001b[0m\n",
       "─────┼────────────────────────────────────────────────────────\n",
       "   1 │ 20 Et 21-Revue D Histoire  2649-664X      0.0    0.018"
      ]
     },
     "metadata": {},
     "output_type": "display_data"
    }
   ],
   "source": [
    "Scores[1, :]"
   ]
  },
  {
   "cell_type": "code",
   "execution_count": 6,
   "metadata": {},
   "outputs": [],
   "source": [
    "for c in eachcol(Scores)\n",
    "    if typeof(c) == Array{String,1}\n",
    "        c .= uppercase.(c)\n",
    "    end\n",
    "end"
   ]
  },
  {
   "cell_type": "code",
   "execution_count": 7,
   "metadata": {},
   "outputs": [
    {
     "data": {
      "text/html": [
       "<div><div style = \"float: left;\"><span>DataFrameRow (4 columns)</span></div><div style = \"clear: both;\"></div></div><div class = \"data-frame\" style = \"overflow-x: scroll;\"><table class = \"data-frame\" style = \"margin-bottom: 6px;\"><thead><tr class = \"header\"><th class = \"rowLabel\" style = \"font-weight: bold; text-align: right;\">Row</th><th style = \"text-align: left;\">JournalFullName</th><th style = \"text-align: left;\">ISSN</th><th style = \"text-align: left;\">2024IF</th><th style = \"text-align: left;\">2024AI</th></tr><tr class = \"subheader headerLastRow\"><th class = \"rowLabel\" style = \"font-weight: bold; text-align: right;\"></th><th title = \"String\" style = \"text-align: left;\">String</th><th title = \"String15\" style = \"text-align: left;\">String15</th><th title = \"Float64\" style = \"text-align: left;\">Float64</th><th title = \"Float64\" style = \"text-align: left;\">Float64</th></tr></thead><tbody><tr><td class = \"rowLabel\" style = \"font-weight: bold; text-align: right;\">1</td><td style = \"text-align: left;\">20 ET 21-REVUE D HISTOIRE</td><td style = \"text-align: left;\">2649-664X</td><td style = \"text-align: right;\">0.0</td><td style = \"text-align: right;\">0.018</td></tr></tbody></table></div>"
      ],
      "text/latex": [
       "\\begin{tabular}{r|cccc}\n",
       "\t& JournalFullName & ISSN & 2024IF & 2024AI\\\\\n",
       "\t\\hline\n",
       "\t& String & String15 & Float64 & Float64\\\\\n",
       "\t\\hline\n",
       "\t1 & 20 ET 21-REVUE D HISTOIRE & 2649-664X & 0.0 & 0.018 \\\\\n",
       "\\end{tabular}\n"
      ],
      "text/plain": [
       "\u001b[1mDataFrameRow\u001b[0m\n",
       "\u001b[1m Row \u001b[0m│\u001b[1m JournalFullName           \u001b[0m\u001b[1m ISSN      \u001b[0m\u001b[1m 2024IF  \u001b[0m\u001b[1m 2024AI  \u001b[0m\n",
       "     │\u001b[90m String                    \u001b[0m\u001b[90m String15  \u001b[0m\u001b[90m Float64 \u001b[0m\u001b[90m Float64 \u001b[0m\n",
       "─────┼────────────────────────────────────────────────────────\n",
       "   1 │ 20 ET 21-REVUE D HISTOIRE  2649-664X      0.0    0.018"
      ]
     },
     "metadata": {},
     "output_type": "display_data"
    }
   ],
   "source": [
    "Scores[1, :]"
   ]
  },
  {
   "cell_type": "code",
   "execution_count": 8,
   "metadata": {},
   "outputs": [
    {
     "data": {
      "text/plain": [
       "\"/home/lali/TITAN-ROG-sync/julia/ISI/ISI_JCR_2025_NameEquiv.csv\""
      ]
     },
     "metadata": {},
     "output_type": "display_data"
    }
   ],
   "source": [
    "inputNames = joinpath(root, \"ISI_JCR_2025_NameEquiv.csv\")"
   ]
  },
  {
   "cell_type": "code",
   "execution_count": 9,
   "metadata": {},
   "outputs": [
    {
     "data": {
      "text/plain": [
       "7-element Vector{Type}:\n",
       " String31\n",
       " String\n",
       " String31\n",
       " Union{Missing, String1}\n",
       " Union{Missing, String1}\n",
       " Union{Missing, String1}\n",
       " Union{Missing, String1}"
      ]
     },
     "metadata": {},
     "output_type": "display_data"
    }
   ],
   "source": [
    "Names = CSV.read(inputNames, DataFrame)\n",
    "eltype.(eachcol(Names))"
   ]
  },
  {
   "cell_type": "code",
   "execution_count": 10,
   "metadata": {},
   "outputs": [
    {
     "data": {
      "text/html": [
       "<div><div style = \"float: left;\"><span>DataFrameRow (4 columns)</span></div><div style = \"clear: both;\"></div></div><div class = \"data-frame\" style = \"overflow-x: scroll;\"><table class = \"data-frame\" style = \"margin-bottom: 6px;\"><thead><tr class = \"header\"><th class = \"rowLabel\" style = \"font-weight: bold; text-align: right;\">Row</th><th style = \"text-align: left;\">JournalFullName</th><th style = \"text-align: left;\">ISSN</th><th style = \"text-align: left;\">2024IF</th><th style = \"text-align: left;\">2024AI</th></tr><tr class = \"subheader headerLastRow\"><th class = \"rowLabel\" style = \"font-weight: bold; text-align: right;\"></th><th title = \"String\" style = \"text-align: left;\">String</th><th title = \"String15\" style = \"text-align: left;\">String15</th><th title = \"Float64\" style = \"text-align: left;\">Float64</th><th title = \"Float64\" style = \"text-align: left;\">Float64</th></tr></thead><tbody><tr><td class = \"rowLabel\" style = \"font-weight: bold; text-align: right;\">1234</td><td style = \"text-align: left;\">ANIMAL BIOLOGY</td><td style = \"text-align: left;\">1570-7555</td><td style = \"text-align: right;\">0.9</td><td style = \"text-align: right;\">0.251</td></tr></tbody></table></div>"
      ],
      "text/latex": [
       "\\begin{tabular}{r|cccc}\n",
       "\t& JournalFullName & ISSN & 2024IF & 2024AI\\\\\n",
       "\t\\hline\n",
       "\t& String & String15 & Float64 & Float64\\\\\n",
       "\t\\hline\n",
       "\t1234 & ANIMAL BIOLOGY & 1570-7555 & 0.9 & 0.251 \\\\\n",
       "\\end{tabular}\n"
      ],
      "text/plain": [
       "\u001b[1mDataFrameRow\u001b[0m\n",
       "\u001b[1m  Row \u001b[0m│\u001b[1m JournalFullName \u001b[0m\u001b[1m ISSN      \u001b[0m\u001b[1m 2024IF  \u001b[0m\u001b[1m 2024AI  \u001b[0m\n",
       "      │\u001b[90m String          \u001b[0m\u001b[90m String15  \u001b[0m\u001b[90m Float64 \u001b[0m\u001b[90m Float64 \u001b[0m\n",
       "──────┼──────────────────────────────────────────────\n",
       " 1234 │ ANIMAL BIOLOGY   1570-7555      0.9    0.251"
      ]
     },
     "metadata": {},
     "output_type": "display_data"
    }
   ],
   "source": [
    "Scores[1234,:]"
   ]
  },
  {
   "cell_type": "code",
   "execution_count": 11,
   "metadata": {},
   "outputs": [
    {
     "data": {
      "text/html": [
       "<div><div style = \"float: left;\"><span>DataFrameRow (7 columns)</span></div><div style = \"clear: both;\"></div></div><div class = \"data-frame\" style = \"overflow-x: scroll;\"><table class = \"data-frame\" style = \"margin-bottom: 6px;\"><thead><tr class = \"header\"><th class = \"rowLabel\" style = \"font-weight: bold; text-align: right;\">Row</th><th style = \"text-align: left;\">Title20</th><th style = \"text-align: left;\">Title</th><th style = \"text-align: left;\">Country</th><th style = \"text-align: left;\">SCIE</th><th style = \"text-align: left;\">SSCI</th><th style = \"text-align: left;\">AHCI</th><th style = \"text-align: left;\">ESCI</th></tr><tr class = \"subheader headerLastRow\"><th class = \"rowLabel\" style = \"font-weight: bold; text-align: right;\"></th><th title = \"String31\" style = \"text-align: left;\">String31</th><th title = \"String\" style = \"text-align: left;\">String</th><th title = \"String31\" style = \"text-align: left;\">String31</th><th title = \"Union{Missing, String1}\" style = \"text-align: left;\">String1?</th><th title = \"Union{Missing, String1}\" style = \"text-align: left;\">String1?</th><th title = \"Union{Missing, String1}\" style = \"text-align: left;\">String1?</th><th title = \"Union{Missing, String1}\" style = \"text-align: left;\">String1?</th></tr></thead><tbody><tr><td class = \"rowLabel\" style = \"font-weight: bold; text-align: right;\">1234</td><td style = \"text-align: left;\">ANIM BIODIV CONSERV</td><td style = \"text-align: left;\">ANIMAL BIODIVERSITY AND CONSERVATION</td><td style = \"text-align: left;\">SPAIN</td><td style = \"text-align: left;\">X</td><td style = \"font-style: italic; text-align: left;\">missing</td><td style = \"font-style: italic; text-align: left;\">missing</td><td style = \"font-style: italic; text-align: left;\">missing</td></tr></tbody></table></div>"
      ],
      "text/latex": [
       "\\begin{tabular}{r|cccccc}\n",
       "\t& Title20 & Title & Country & SCIE & SSCI & \\\\\n",
       "\t\\hline\n",
       "\t& String31 & String & String31 & String1? & String1? & \\\\\n",
       "\t\\hline\n",
       "\t1234 & ANIM BIODIV CONSERV & ANIMAL BIODIVERSITY AND CONSERVATION & SPAIN & X & \\emph{missing} & $\\dots$ \\\\\n",
       "\\end{tabular}\n"
      ],
      "text/plain": [
       "\u001b[1mDataFrameRow\u001b[0m\n",
       "\u001b[1m  Row \u001b[0m│\u001b[1m Title20             \u001b[0m\u001b[1m Title                             \u001b[0m\u001b[1m Country  \u001b[0m\u001b[1m SCIE\u001b[0m ⋯\n",
       "      │\u001b[90m String31            \u001b[0m\u001b[90m String                            \u001b[0m\u001b[90m String31 \u001b[0m\u001b[90m Stri\u001b[0m ⋯\n",
       "──────┼─────────────────────────────────────────────────────────────────────────\n",
       " 1234 │ ANIM BIODIV CONSERV  ANIMAL BIODIVERSITY AND CONSERVA…  SPAIN     X    ⋯\n",
       "\u001b[36m                                                               4 columns omitted\u001b[0m"
      ]
     },
     "metadata": {},
     "output_type": "display_data"
    }
   ],
   "source": [
    "Names[1234,:]"
   ]
  },
  {
   "cell_type": "code",
   "execution_count": 12,
   "metadata": {},
   "outputs": [],
   "source": [
    "#Scores = select(Scores, Not([:\"Column5\"]));"
   ]
  },
  {
   "cell_type": "code",
   "execution_count": 13,
   "metadata": {},
   "outputs": [],
   "source": [
    "rename!(Names,:\"Title20\" => :\"Journal\")\n",
    "rename!(Names,:\"Title\" => :\"JournalFullName\")\n",
    "Names = select(Names, Not([:\"Country\", :\"SCIE\", :\"SSCI\", :\"AHCI\", :\"ESCI\"]));"
   ]
  },
  {
   "cell_type": "code",
   "execution_count": 14,
   "metadata": {},
   "outputs": [
    {
     "data": {
      "text/html": [
       "<div><div style = \"float: left;\"><span>DataFrameRow (4 columns)</span></div><div style = \"clear: both;\"></div></div><div class = \"data-frame\" style = \"overflow-x: scroll;\"><table class = \"data-frame\" style = \"margin-bottom: 6px;\"><thead><tr class = \"header\"><th class = \"rowLabel\" style = \"font-weight: bold; text-align: right;\">Row</th><th style = \"text-align: left;\">JournalFullName</th><th style = \"text-align: left;\">ISSN</th><th style = \"text-align: left;\">2024IF</th><th style = \"text-align: left;\">2024AI</th></tr><tr class = \"subheader headerLastRow\"><th class = \"rowLabel\" style = \"font-weight: bold; text-align: right;\"></th><th title = \"String\" style = \"text-align: left;\">String</th><th title = \"String15\" style = \"text-align: left;\">String15</th><th title = \"Float64\" style = \"text-align: left;\">Float64</th><th title = \"Float64\" style = \"text-align: left;\">Float64</th></tr></thead><tbody><tr><td class = \"rowLabel\" style = \"font-weight: bold; text-align: right;\">1234</td><td style = \"text-align: left;\">ANIMAL BIOLOGY</td><td style = \"text-align: left;\">1570-7555</td><td style = \"text-align: right;\">0.9</td><td style = \"text-align: right;\">0.251</td></tr></tbody></table></div>"
      ],
      "text/latex": [
       "\\begin{tabular}{r|cccc}\n",
       "\t& JournalFullName & ISSN & 2024IF & 2024AI\\\\\n",
       "\t\\hline\n",
       "\t& String & String15 & Float64 & Float64\\\\\n",
       "\t\\hline\n",
       "\t1234 & ANIMAL BIOLOGY & 1570-7555 & 0.9 & 0.251 \\\\\n",
       "\\end{tabular}\n"
      ],
      "text/plain": [
       "\u001b[1mDataFrameRow\u001b[0m\n",
       "\u001b[1m  Row \u001b[0m│\u001b[1m JournalFullName \u001b[0m\u001b[1m ISSN      \u001b[0m\u001b[1m 2024IF  \u001b[0m\u001b[1m 2024AI  \u001b[0m\n",
       "      │\u001b[90m String          \u001b[0m\u001b[90m String15  \u001b[0m\u001b[90m Float64 \u001b[0m\u001b[90m Float64 \u001b[0m\n",
       "──────┼──────────────────────────────────────────────\n",
       " 1234 │ ANIMAL BIOLOGY   1570-7555      0.9    0.251"
      ]
     },
     "metadata": {},
     "output_type": "display_data"
    }
   ],
   "source": [
    "Scores[1234,:]"
   ]
  },
  {
   "cell_type": "code",
   "execution_count": 15,
   "metadata": {},
   "outputs": [
    {
     "data": {
      "text/html": [
       "<div><div style = \"float: left;\"><span>DataFrameRow (2 columns)</span></div><div style = \"clear: both;\"></div></div><div class = \"data-frame\" style = \"overflow-x: scroll;\"><table class = \"data-frame\" style = \"margin-bottom: 6px;\"><thead><tr class = \"header\"><th class = \"rowLabel\" style = \"font-weight: bold; text-align: right;\">Row</th><th style = \"text-align: left;\">Journal</th><th style = \"text-align: left;\">JournalFullName</th></tr><tr class = \"subheader headerLastRow\"><th class = \"rowLabel\" style = \"font-weight: bold; text-align: right;\"></th><th title = \"String31\" style = \"text-align: left;\">String31</th><th title = \"String\" style = \"text-align: left;\">String</th></tr></thead><tbody><tr><td class = \"rowLabel\" style = \"font-weight: bold; text-align: right;\">1234</td><td style = \"text-align: left;\">ANIM BIODIV CONSERV</td><td style = \"text-align: left;\">ANIMAL BIODIVERSITY AND CONSERVATION</td></tr></tbody></table></div>"
      ],
      "text/latex": [
       "\\begin{tabular}{r|cc}\n",
       "\t& Journal & JournalFullName\\\\\n",
       "\t\\hline\n",
       "\t& String31 & String\\\\\n",
       "\t\\hline\n",
       "\t1234 & ANIM BIODIV CONSERV & ANIMAL BIODIVERSITY AND CONSERVATION \\\\\n",
       "\\end{tabular}\n"
      ],
      "text/plain": [
       "\u001b[1mDataFrameRow\u001b[0m\n",
       "\u001b[1m  Row \u001b[0m│\u001b[1m Journal             \u001b[0m\u001b[1m JournalFullName                   \u001b[0m\n",
       "      │\u001b[90m String31            \u001b[0m\u001b[90m String                            \u001b[0m\n",
       "──────┼────────────────────────────────────────────────────────\n",
       " 1234 │ ANIM BIODIV CONSERV  ANIMAL BIODIVERSITY AND CONSERVA…"
      ]
     },
     "metadata": {},
     "output_type": "display_data"
    }
   ],
   "source": [
    "Names[1234,:]"
   ]
  },
  {
   "cell_type": "code",
   "execution_count": 16,
   "metadata": {},
   "outputs": [],
   "source": [
    "Scores_new = outerjoin(Scores, Names; on=:\"JournalFullName\", makeunique=true);"
   ]
  },
  {
   "cell_type": "code",
   "execution_count": 17,
   "metadata": {},
   "outputs": [],
   "source": [
    "select!(Scores_new, :\"Journal\", :\"JournalFullName\", :\"ISSN\", :\"2024IF\", :\"2024AI\");"
   ]
  },
  {
   "cell_type": "code",
   "execution_count": 18,
   "metadata": {},
   "outputs": [
    {
     "data": {
      "text/plain": [
       "\"/home/lali/TITAN-ROG-sync/julia/ISI/ISI_Journal_Citation_Report_2024_exportPLUS.csv\""
      ]
     },
     "metadata": {},
     "output_type": "display_data"
    }
   ],
   "source": [
    "root = dirname(@__FILE__)\n",
    "outputScores = joinpath(root, \"ISI_Journal_Citation_Report_2024_exportPLUS.csv\")\n",
    "CSV.write(outputScores, Scores_new; delim='\\t')\n"
   ]
  },
  {
   "cell_type": "code",
   "execution_count": null,
   "metadata": {},
   "outputs": [],
   "source": []
  }
 ],
 "metadata": {
  "kernelspec": {
   "display_name": "Julia 1.10.0",
   "language": "julia",
   "name": "julia-1.10"
  },
  "language_info": {
   "file_extension": ".jl",
   "mimetype": "application/julia",
   "name": "julia",
   "version": "1.10.0"
  },
  "orig_nbformat": 4
 },
 "nbformat": 4,
 "nbformat_minor": 2
}
