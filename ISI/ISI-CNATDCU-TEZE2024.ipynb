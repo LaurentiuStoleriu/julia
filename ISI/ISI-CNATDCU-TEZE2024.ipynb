{
 "cells": [
  {
   "cell_type": "code",
   "execution_count": 1,
   "metadata": {},
   "outputs": [],
   "source": [
    "using CSV, DataFrames, Printf"
   ]
  },
  {
   "cell_type": "code",
   "execution_count": 2,
   "metadata": {},
   "outputs": [
    {
     "name": "stdout",
     "output_type": "stream",
     "text": [
      "primAuthor = \"Badiceanu\" = \"Badiceanu\"\n",
      "inputAIS = joinpath(root, \"ISI/AI_factor_full_1997-2024_plus.txt\") = \"/home/lali/TITAN-ROG-sync/julia/ISI/AI_factor_full_1997-2024_plus.txt\"\n",
      "inputISI = joinpath(root, \"ISI/IF_factor_full_1997-2024_plus.txt\") = \"/home/lali/TITAN-ROG-sync/julia/ISI/IF_factor_full_1997-2024_plus.txt\"\n",
      "inputMINE = joinpath(root, fileOwnPapers) = \"/home/lali/TITAN-ROG-sync/julia/ISI-Teze/TZ.2024.11.29.BM.savedrecs.txt\"\n"
     ]
    }
   ],
   "source": [
    "@show primAuthor = \"Badiceanu\"\n",
    "fileOwnPapers = \"ISI-Teze/TZ.2024.11.29.BM.savedrecs.txt\"\n",
    "#root = dirname(@__FILE__)\n",
    "root = dirname(\"/home/lali/TITAN-ROG-sync/julia/\")\n",
    "@show inputAIS = joinpath(root, \"ISI/AI_factor_full_1997-2024_plus.txt\")\n",
    "@show inputISI = joinpath(root, \"ISI/IF_factor_full_1997-2024_plus.txt\")\n",
    "\n",
    "@show inputMINE = joinpath(root, fileOwnPapers);"
   ]
  },
  {
   "cell_type": "code",
   "execution_count": 3,
   "metadata": {},
   "outputs": [
    {
     "name": "stdout",
     "output_type": "stream",
     "text": [
      "AIFirstYear = 1997 = 1997\n",
      "AILastYear = 2024 = 2024\n"
     ]
    }
   ],
   "source": [
    "@show AIFirstYear = 1997;\n",
    "@show AILastYear = 2024;"
   ]
  },
  {
   "cell_type": "code",
   "execution_count": 4,
   "metadata": {},
   "outputs": [],
   "source": [
    "AIS = CSV.read(inputAIS, DataFrame; header=true, delim='\\t');"
   ]
  },
  {
   "cell_type": "code",
   "execution_count": 5,
   "metadata": {},
   "outputs": [],
   "source": [
    "ISI = CSV.read(inputISI, DataFrame; header=true, delim='\\t');"
   ]
  },
  {
   "cell_type": "code",
   "execution_count": 6,
   "metadata": {},
   "outputs": [],
   "source": [
    "#@show AIS[8157, [1, 3, 5, 6,    29, 30]];\n",
    "#@show ISI[8157, [1, 3, 5, 6,    29, 30]];\n",
    "AIS = dropmissing(AIS, :Journal)\n",
    "ISI = dropmissing(ISI, :Journal);"
   ]
  },
  {
   "cell_type": "code",
   "execution_count": 7,
   "metadata": {},
   "outputs": [],
   "source": [
    "MINEraw = CSV.read(inputMINE, DataFrame; header=true, delim='\\t');\n",
    "MINE = MINEraw[:, [2, 9, 25, 33, 44, 47, 48, 54, 55, 56, 57]];\n",
    "#                 AU TI  RP  NR  J9  PY  VL  BP  EP  AR  DI\n",
    "\n",
    "sort!(MINE, [:PY], rev = true)\n",
    "eltype.(eachcol(MINE));\n",
    "\n",
    "MINEraw=nothing;"
   ]
  },
  {
   "cell_type": "code",
   "execution_count": 8,
   "metadata": {},
   "outputs": [
    {
     "name": "stdout",
     "output_type": "stream",
     "text": [
      "MINE[1, [:AU, :J9, :PY]] = DataFrameRow\n",
      " Row │ AU                                 J9         PY\n",
      "     │ String                             String31   Int64\n",
      "─────┼─────────────────────────────────────────────────────\n",
      "   1 │ Enaki, NA; Munteanu, I; Paslari,…  MATERIALS   2023\n"
     ]
    }
   ],
   "source": [
    "@show MINE[1, [:AU, :J9, :PY]];"
   ]
  },
  {
   "cell_type": "code",
   "execution_count": 9,
   "metadata": {},
   "outputs": [],
   "source": [
    "#   PT\tAU\tBA\tBE\tGP\tAF\tBF\tCA\tTI\tSO\tSE\tBS\tLA\tDT\tCT\tCY\tCL\tSP\tHO\tDE\tID\tAB\tC1\t\n",
    "#   1   2   3   4   5   6   7   8   9   10  11  12  13  14  15  16  17  18  19  20  21  22  23  \n",
    "\n",
    "#   C3\tRP\tEM\tRI\tOI\tFU\tFP\tFX\tCR\tNR\tTC\tZ9\tU1\tU2\tPU\tPI\tPA\tSN\tEI\tBN\tJ9\tJI\tPD\t\n",
    "#   24  25  26  27  28  29  30  31  32  33  34  35  36  37  38  39  40  41  42  43  44  45  46  \n",
    "\n",
    "#   PY\tVL\tIS\tPN\tSU\tSI\tMA\tBP\tEP\tAR\tDI\tDL\tD2\tEA\tPG\tWC\tWE\tSC\tGA\tPM\tOA\tHC\tHP\tDA\tUT\n",
    "#   47  48  49  50  51  52  53  54  55  56  57  58  59  60  61  62  63  64  65  66  67  68  69  70  71\n",
    "\n",
    "#   ######  2   9   32  44  46  47  48  54  55  56  57\n",
    "#   ######  AU  TI  CR  J9  PD  PY  VL  BP  EP  AR  DI"
   ]
  },
  {
   "cell_type": "markdown",
   "metadata": {},
   "source": [
    "###########################################################  \n",
    "####################  Finished loading   ########################## \n",
    "###########################################################"
   ]
  },
  {
   "cell_type": "code",
   "execution_count": 10,
   "metadata": {},
   "outputs": [],
   "source": [
    "rename!(MINE,:\"J9\" => :\"Journal\")\n",
    "\n",
    "insertcols!(MINE, :NA => 0);\n",
    "insertcols!(MINE, :NEFF => 0.0);\n",
    "insertcols!(MINE, :PRIM => 0);\n",
    "insertcols!(MINE, :AI => 0.0);\n",
    "insertcols!(MINE, :AINEFF => 0.0);\n",
    "insertcols!(MINE, :IF => 0.0);\n",
    "insertcols!(MINE, :IFNA => 0.0);\n",
    "insertcols!(MINE, :TIMESC => 0);\n",
    "insertcols!(MINE, :CT => 0.0);\n"
   ]
  },
  {
   "cell_type": "markdown",
   "metadata": {},
   "source": [
    "Găsim numarul de autori și prim autor"
   ]
  },
  {
   "cell_type": "code",
   "execution_count": 11,
   "metadata": {},
   "outputs": [],
   "source": [
    "for (row_index, lucrare) in enumerate(eachrow(MINE))\n",
    "    MINE[row_index, :NA] = (1+count(\";\", lucrare[:AU]))\n",
    "\n",
    "    if MINE[row_index, :NA] <= 5\n",
    "        MINE[row_index, :NEFF] = MINE[row_index, :NA]\n",
    "    elseif MINE[row_index, :NA] <= 15\n",
    "        MINE[row_index, :NEFF] = (MINE[row_index, :NA] + 5.0) / 2.0\n",
    "    elseif MINE[row_index, :NA] <= 75\n",
    "        MINE[row_index, :NEFF] = (MINE[row_index, :NA] + 15.0) / 3.0\n",
    "    else\n",
    "        MINE[row_index, :NEFF] = (MINE[row_index, :NA] + 45.0) / 4.0\n",
    "    end\n",
    "\n",
    "    #println( titlecase(MINE[row_index, :AU]))\n",
    "    #println(findfirst(primAuthor, titlecase(MINE[row_index, :AU]))[1])\n",
    "    \n",
    "    if findfirst(primAuthor, titlecase(MINE[row_index, :AU]))[1] == 1\n",
    "        MINE[row_index, :PRIM] = 1\n",
    "    elseif !ismissing(lucrare[:RP])\n",
    "        if occursin(primAuthor, lucrare[:RP])\n",
    "            MINE[row_index, :PRIM] = 1\n",
    "        end\n",
    "    end\n",
    "\n",
    "    #println(row_index, MINE[row_index, [:NA]])\n",
    "    #println(row_index, MINE[row_index, [:PRIM]])\n",
    "end"
   ]
  },
  {
   "cell_type": "markdown",
   "metadata": {},
   "source": [
    "În caz că lipsește un publication year:"
   ]
  },
  {
   "cell_type": "code",
   "execution_count": 12,
   "metadata": {},
   "outputs": [],
   "source": [
    "#MINE.PY = Int64.(MINE.PY)\n",
    "#MINE[ismissing.(MINE[!, :PY]), [1, 6, 7, 8, 12, 14, 15, 16, 17]]"
   ]
  },
  {
   "cell_type": "markdown",
   "metadata": {},
   "source": [
    "Subseturi (?):"
   ]
  },
  {
   "cell_type": "code",
   "execution_count": 13,
   "metadata": {},
   "outputs": [],
   "source": [
    "#AISsubset = filter(r -> any(occursin.(Vector(MINE[1, [:Journal]]), r.Journal)), AIS)\n",
    "#size(AISsubset, 1);"
   ]
  },
  {
   "cell_type": "code",
   "execution_count": 14,
   "metadata": {},
   "outputs": [],
   "source": [
    "#ISIsubset = filter(r -> any(occursin.(Vector(MINE[1, [:Journal]]), r.Journal)), ISI)\n",
    "#size(ISIsubset, 1);"
   ]
  },
  {
   "cell_type": "markdown",
   "metadata": {},
   "source": [
    "Căutare MINE"
   ]
  },
  {
   "cell_type": "code",
   "execution_count": 15,
   "metadata": {},
   "outputs": [],
   "source": [
    "for (row_index, lucrare) in enumerate(eachrow(MINE))\n",
    "    #lucrare = MINE[1, :]\n",
    "    if(ismissing(lucrare[:Journal]))\n",
    "        continue\n",
    "    end\n",
    "    for AISrow in eachrow(AIS)\n",
    "    #for AISrow in eachrow(AISsubset)\n",
    "        if( lucrare[:Journal] == AISrow[:Journal] )\n",
    "            if (lucrare[:PY] >= AIFirstYear)\n",
    "                anString = string(lucrare[:PY])\n",
    "            else\n",
    "                anString = string(AIFirstYear)\n",
    "            end\n",
    "            if (lucrare[:PY] > AILastYear)\n",
    "                anString = string(AILastYear)\n",
    "            end\n",
    "            #println(AISrow[anString])\n",
    "            MINE[row_index, :AI] = AISrow[anString]\n",
    "            MINE[row_index, :AINEFF] = MINE[row_index, :AI] / MINE[row_index, :NEFF]\n",
    "        end\n",
    "    end\n",
    "    for ISIrow in eachrow(ISI)\n",
    "    #for ISIrow in eachrow(ISIsubset)\n",
    "        if( lucrare[:Journal] == ISIrow[:Journal] )\n",
    "            if (lucrare[:PY] >= AIFirstYear)\n",
    "                anString = string(lucrare[:PY])\n",
    "            else\n",
    "                anString = string(AIFirstYear)\n",
    "            end\n",
    "            if (lucrare[:PY] > AILastYear)\n",
    "                anString = string(AILastYear)\n",
    "            end\n",
    "            #println(ISIrow[anString])\n",
    "            MINE[row_index, :IF] = ISIrow[anString]\n",
    "            MINE[row_index, :IFNA] = ISIrow[anString] / MINE[row_index, :NA]\n",
    "        end\n",
    "    end\n",
    "end"
   ]
  },
  {
   "cell_type": "markdown",
   "metadata": {},
   "source": [
    "Rezultate MINE:"
   ]
  },
  {
   "cell_type": "code",
   "execution_count": 16,
   "metadata": {},
   "outputs": [
    {
     "data": {
      "text/plain": [
       "(0.37987088376020267, 0.438, 2.9850000000000003)"
      ]
     },
     "metadata": {},
     "output_type": "display_data"
    }
   ],
   "source": [
    "I = sum(MINE[!, :AINEFF]);\n",
    "P = sum(MINE[!, :PRIM] .* MINE[!, :AI]);\n",
    "\n",
    "sumAI = sum(MINE[!, :AI]);\n",
    "\n",
    "I, P, sumAI"
   ]
  },
  {
   "cell_type": "code",
   "execution_count": 19,
   "metadata": {},
   "outputs": [
    {
     "name": "stdout",
     "output_type": "stream",
     "text": [
      "Enaki, NA; ---            MATERIALS --- 2023 --- IF= 3.10 --- AIS= 0.51\n",
      "Badiceanu, ---             COATINGS --- 2022 --- IF= 3.40 --- AIS= 0.44\n",
      "Nikolov, A ---    OPT LASER TECHNOL --- 2021 --- IF= 4.94 --- AIS= 0.67\n",
      "Stankova,  ---      J PHYS CONF SER --- 2021 --- IF= 0.00 --- AIS= 0.00\n",
      "Enaki, N;  ---   J PHYS D APPL PHYS --- 2018 --- IF= 2.83 --- AIS= 0.70\n",
      "Duta, L; R ---        APPL SURF SCI --- 2018 --- IF= 5.16 --- AIS= 0.67\n"
     ]
    },
    {
     "data": {
      "text/plain": [
       "2.9850000000000003"
      ]
     },
     "metadata": {},
     "output_type": "display_data"
    }
   ],
   "source": [
    "for (row_index, lucrare) in enumerate(eachrow(MINE))\n",
    "    @printf(\"%10s --- %20s --- %4d --- IF=%5.2f --- AIS=%5.2f\\n\",MINE[row_index, :AU][1:10], MINE[row_index, :Journal], MINE[row_index, :PY], MINE[row_index, :IF], MINE[row_index, :AI]);\n",
    "end\n",
    "sumAI"
   ]
  },
  {
   "cell_type": "code",
   "execution_count": 18,
   "metadata": {},
   "outputs": [],
   "source": []
  }
 ],
 "metadata": {
  "kernelspec": {
   "display_name": "Julia 1.10.0",
   "language": "julia",
   "name": "julia-1.10"
  },
  "language_info": {
   "file_extension": ".jl",
   "mimetype": "application/julia",
   "name": "julia",
   "version": "1.10.0"
  }
 },
 "nbformat": 4,
 "nbformat_minor": 2
}
