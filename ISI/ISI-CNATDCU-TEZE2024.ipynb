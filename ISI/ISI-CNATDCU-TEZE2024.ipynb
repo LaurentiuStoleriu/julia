{
 "cells": [
  {
   "cell_type": "code",
   "execution_count": null,
   "metadata": {},
   "outputs": [],
   "source": [
    "using CSV, DataFrames, Printf"
   ]
  },
  {
   "cell_type": "code",
   "execution_count": null,
   "metadata": {},
   "outputs": [],
   "source": [
    "@show primAuthor = \"Ivan\"\n",
    "fileOwnPapers = \"ISI-Teze/TZ.2024.11.29_6_IR.savedrecs.txt\"\n",
    "#root = dirname(@__FILE__)\n",
    "root = dirname(\"/home/lali/TITAN-ROG-sync/julia/\")\n",
    "@show inputAIS = joinpath(root, \"ISI/AI_factor_full_1997-2024_plus.txt\")\n",
    "@show inputISI = joinpath(root, \"ISI/IF_factor_full_1997-2024_plus.txt\")\n",
    "\n",
    "@show inputMINE = joinpath(root, fileOwnPapers);"
   ]
  },
  {
   "cell_type": "code",
   "execution_count": null,
   "metadata": {},
   "outputs": [],
   "source": [
    "@show AIFirstYear = 1997;\n",
    "@show AILastYear = 2024;"
   ]
  },
  {
   "cell_type": "code",
   "execution_count": null,
   "metadata": {},
   "outputs": [],
   "source": [
    "AIS = CSV.read(inputAIS, DataFrame; header=true, delim='\\t');"
   ]
  },
  {
   "cell_type": "code",
   "execution_count": null,
   "metadata": {},
   "outputs": [],
   "source": [
    "ISI = CSV.read(inputISI, DataFrame; header=true, delim='\\t');"
   ]
  },
  {
   "cell_type": "code",
   "execution_count": null,
   "metadata": {},
   "outputs": [],
   "source": [
    "#@show AIS[8157, [1, 3, 5, 6,    29, 30]];\n",
    "#@show ISI[8157, [1, 3, 5, 6,    29, 30]];\n",
    "AIS = dropmissing(AIS, :Journal)\n",
    "ISI = dropmissing(ISI, :Journal);"
   ]
  },
  {
   "cell_type": "code",
   "execution_count": null,
   "metadata": {},
   "outputs": [],
   "source": [
    "MINEraw = CSV.read(inputMINE, DataFrame; header=true, delim='\\t');\n",
    "MINE = MINEraw[:, [2, 9, 25, 33, 44, 47, 48, 54, 55, 56, 57]];\n",
    "#                 AU TI  RP  NR  J9  PY  VL  BP  EP  AR  DI\n",
    "\n",
    "sort!(MINE, [:PY], rev = true)\n",
    "eltype.(eachcol(MINE));\n",
    "\n",
    "MINEraw=nothing;"
   ]
  },
  {
   "cell_type": "code",
   "execution_count": null,
   "metadata": {},
   "outputs": [],
   "source": [
    "@show MINE[1, [:AU, :J9, :PY]];"
   ]
  },
  {
   "cell_type": "code",
   "execution_count": null,
   "metadata": {},
   "outputs": [],
   "source": [
    "#   PT\tAU\tBA\tBE\tGP\tAF\tBF\tCA\tTI\tSO\tSE\tBS\tLA\tDT\tCT\tCY\tCL\tSP\tHO\tDE\tID\tAB\tC1\t\n",
    "#   1   2   3   4   5   6   7   8   9   10  11  12  13  14  15  16  17  18  19  20  21  22  23  \n",
    "\n",
    "#   C3\tRP\tEM\tRI\tOI\tFU\tFP\tFX\tCR\tNR\tTC\tZ9\tU1\tU2\tPU\tPI\tPA\tSN\tEI\tBN\tJ9\tJI\tPD\t\n",
    "#   24  25  26  27  28  29  30  31  32  33  34  35  36  37  38  39  40  41  42  43  44  45  46  \n",
    "\n",
    "#   PY\tVL\tIS\tPN\tSU\tSI\tMA\tBP\tEP\tAR\tDI\tDL\tD2\tEA\tPG\tWC\tWE\tSC\tGA\tPM\tOA\tHC\tHP\tDA\tUT\n",
    "#   47  48  49  50  51  52  53  54  55  56  57  58  59  60  61  62  63  64  65  66  67  68  69  70  71\n",
    "\n",
    "#   ######  2   9   32  44  46  47  48  54  55  56  57\n",
    "#   ######  AU  TI  CR  J9  PD  PY  VL  BP  EP  AR  DI"
   ]
  },
  {
   "cell_type": "markdown",
   "metadata": {},
   "source": [
    "###########################################################  \n",
    "####################  Finished loading   ########################## \n",
    "###########################################################"
   ]
  },
  {
   "cell_type": "code",
   "execution_count": null,
   "metadata": {},
   "outputs": [],
   "source": [
    "rename!(MINE,:\"J9\" => :\"Journal\")\n",
    "\n",
    "insertcols!(MINE, :NA => 0);\n",
    "insertcols!(MINE, :NEFF => 0.0);\n",
    "insertcols!(MINE, :PRIM => 0);\n",
    "insertcols!(MINE, :AI => 0.0);\n",
    "insertcols!(MINE, :AINEFF => 0.0);\n",
    "insertcols!(MINE, :IF => 0.0);\n",
    "insertcols!(MINE, :IFNA => 0.0);\n",
    "insertcols!(MINE, :TIMESC => 0);\n",
    "insertcols!(MINE, :CT => 0.0);\n"
   ]
  },
  {
   "cell_type": "markdown",
   "metadata": {},
   "source": [
    "Găsim numarul de autori și prim autor"
   ]
  },
  {
   "cell_type": "code",
   "execution_count": null,
   "metadata": {},
   "outputs": [],
   "source": [
    "for (row_index, lucrare) in enumerate(eachrow(MINE))\n",
    "    MINE[row_index, :NA] = (1+count(\";\", lucrare[:AU]))\n",
    "\n",
    "    if MINE[row_index, :NA] <= 5\n",
    "        MINE[row_index, :NEFF] = MINE[row_index, :NA]\n",
    "    elseif MINE[row_index, :NA] <= 15\n",
    "        MINE[row_index, :NEFF] = (MINE[row_index, :NA] + 5.0) / 2.0\n",
    "    elseif MINE[row_index, :NA] <= 75\n",
    "        MINE[row_index, :NEFF] = (MINE[row_index, :NA] + 15.0) / 3.0\n",
    "    else\n",
    "        MINE[row_index, :NEFF] = (MINE[row_index, :NA] + 45.0) / 4.0\n",
    "    end\n",
    "\n",
    "    #println( titlecase(MINE[row_index, :AU]))\n",
    "    #println(findfirst(primAuthor, titlecase(MINE[row_index, :AU]))[1])\n",
    "    \n",
    "    if findfirst(primAuthor, titlecase(MINE[row_index, :AU]))[1] == 1\n",
    "        MINE[row_index, :PRIM] = 1\n",
    "    elseif !ismissing(lucrare[:RP])\n",
    "        if occursin(primAuthor, lucrare[:RP])\n",
    "            MINE[row_index, :PRIM] = 1\n",
    "        end\n",
    "    end\n",
    "\n",
    "    #println(row_index, MINE[row_index, [:NA]])\n",
    "    #println(row_index, MINE[row_index, [:PRIM]])\n",
    "end"
   ]
  },
  {
   "cell_type": "markdown",
   "metadata": {},
   "source": [
    "În caz că lipsește un publication year:"
   ]
  },
  {
   "cell_type": "code",
   "execution_count": null,
   "metadata": {},
   "outputs": [],
   "source": [
    "#MINE.PY = Int64.(MINE.PY)\n",
    "#MINE[ismissing.(MINE[!, :PY]), [1, 6, 7, 8, 12, 14, 15, 16, 17]]"
   ]
  },
  {
   "cell_type": "markdown",
   "metadata": {},
   "source": [
    "Subseturi (?):"
   ]
  },
  {
   "cell_type": "code",
   "execution_count": null,
   "metadata": {},
   "outputs": [],
   "source": [
    "#AISsubset = filter(r -> any(occursin.(Vector(MINE[1, [:Journal]]), r.Journal)), AIS)\n",
    "#size(AISsubset, 1);"
   ]
  },
  {
   "cell_type": "code",
   "execution_count": null,
   "metadata": {},
   "outputs": [],
   "source": [
    "#ISIsubset = filter(r -> any(occursin.(Vector(MINE[1, [:Journal]]), r.Journal)), ISI)\n",
    "#size(ISIsubset, 1);"
   ]
  },
  {
   "cell_type": "markdown",
   "metadata": {},
   "source": [
    "Căutare MINE"
   ]
  },
  {
   "cell_type": "code",
   "execution_count": null,
   "metadata": {},
   "outputs": [],
   "source": [
    "for (row_index, lucrare) in enumerate(eachrow(MINE))\n",
    "    #lucrare = MINE[1, :]\n",
    "    if(ismissing(lucrare[:Journal]))\n",
    "        continue\n",
    "    end\n",
    "    for AISrow in eachrow(AIS)\n",
    "    #for AISrow in eachrow(AISsubset)\n",
    "        if( lucrare[:Journal] == AISrow[:Journal] )\n",
    "            if (lucrare[:PY] >= AIFirstYear)\n",
    "                anString = string(lucrare[:PY])\n",
    "            else\n",
    "                anString = string(AIFirstYear)\n",
    "            end\n",
    "            if (lucrare[:PY] > AILastYear)\n",
    "                anString = string(AILastYear)\n",
    "            end\n",
    "            #println(AISrow[anString])\n",
    "            MINE[row_index, :AI] = AISrow[anString]\n",
    "            MINE[row_index, :AINEFF] = MINE[row_index, :AI] / MINE[row_index, :NEFF]\n",
    "        end\n",
    "    end\n",
    "    for ISIrow in eachrow(ISI)\n",
    "    #for ISIrow in eachrow(ISIsubset)\n",
    "        if( lucrare[:Journal] == ISIrow[:Journal] )\n",
    "            if (lucrare[:PY] >= AIFirstYear)\n",
    "                anString = string(lucrare[:PY])\n",
    "            else\n",
    "                anString = string(AIFirstYear)\n",
    "            end\n",
    "            if (lucrare[:PY] > AILastYear)\n",
    "                anString = string(AILastYear)\n",
    "            end\n",
    "            #println(ISIrow[anString])\n",
    "            MINE[row_index, :IF] = ISIrow[anString]\n",
    "            MINE[row_index, :IFNA] = ISIrow[anString] / MINE[row_index, :NA]\n",
    "        end\n",
    "    end\n",
    "end"
   ]
  },
  {
   "cell_type": "markdown",
   "metadata": {},
   "source": [
    "Rezultate MINE:"
   ]
  },
  {
   "cell_type": "code",
   "execution_count": null,
   "metadata": {},
   "outputs": [],
   "source": [
    "I = sum(MINE[!, :AINEFF]);\n",
    "P = sum(MINE[!, :PRIM] .* MINE[!, :AI]);\n",
    "\n",
    "sumAI = sum(MINE[!, :AI]);\n",
    "\n",
    "I, P, sumAI"
   ]
  },
  {
   "cell_type": "code",
   "execution_count": null,
   "metadata": {},
   "outputs": [],
   "source": [
    "for (row_index, lucrare) in enumerate(eachrow(MINE))\n",
    "    @printf(\"%10s --- %20s --- %4d --- IF=%6.3f --- AIS=%6.3f\\n\",MINE[row_index, :AU][1:10], MINE[row_index, :Journal], MINE[row_index, :PY], MINE[row_index, :IF], MINE[row_index, :AI]);\n",
    "end\n",
    "sumAI"
   ]
  },
  {
   "cell_type": "code",
   "execution_count": null,
   "metadata": {},
   "outputs": [],
   "source": []
  }
 ],
 "metadata": {
  "kernelspec": {
   "display_name": "Julia 1.11.2",
   "language": "julia",
   "name": "julia-1.11"
  },
  "language_info": {
   "file_extension": ".jl",
   "mimetype": "application/julia",
   "name": "julia",
   "version": "1.11.2"
  }
 },
 "nbformat": 4,
 "nbformat_minor": 2
}
