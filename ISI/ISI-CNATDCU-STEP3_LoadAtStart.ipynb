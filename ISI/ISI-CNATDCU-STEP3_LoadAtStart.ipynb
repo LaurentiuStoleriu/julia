{
 "cells": [
  {
   "cell_type": "code",
   "execution_count": 1,
   "metadata": {},
   "outputs": [],
   "source": [
    "using CSV, DataFrames"
   ]
  },
  {
   "cell_type": "code",
   "execution_count": 2,
   "metadata": {},
   "outputs": [
    {
     "name": "stdout",
     "output_type": "stream",
     "text": [
      "primAuthor = \"Tanasa\" = \"Tanasa\"\n",
      "inputAIS = joinpath(root, \"AI_factor_full_1997-2024_plus.txt\") = \"/home/lali/TITAN-ROG-sync/julia/ISI/AI_factor_full_1997-2024_plus.txt\"\n",
      "inputISI = joinpath(root, \"IF_factor_full_1997-2024_plus.txt\") = \"/home/lali/TITAN-ROG-sync/julia/ISI/IF_factor_full_1997-2024_plus.txt\"\n",
      "inputMINE = joinpath(root, fileOwnPapers) = \"/home/lali/TITAN-ROG-sync/julia/ISI/RT_JL_savedrecs_mine.txt\"\n",
      "inputCIT = joinpath(root, fileCitations) = \"/home/lali/TITAN-ROG-sync/julia/ISI/RT_JL_savedrecs.txt\"\n"
     ]
    }
   ],
   "source": [
    "@show primAuthor = \"Tanasa\"\n",
    "fileOwnPapers = \"RT_JL_savedrecs_mine.txt\"\n",
    "fileCitations = \"RT_JL_savedrecs.txt\"\n",
    "fileOwnCSV    = \"RT_JL_MINE_test.csv\"\n",
    "fileOwnTXT    = \"RT_JL_total.txt\"\n",
    "fileOwnTXT5   = \"RT_JL_total5.txt\"\n",
    "fileOwnUAIC   = \"RT_JL_UAIC1.txt\"\n",
    "#root = dirname(@__FILE__)\n",
    "root = dirname(\"/home/lali/TITAN-ROG-sync/julia/ISI/\")\n",
    "@show inputAIS = joinpath(root, \"AI_factor_full_1997-2024_plus.txt\")\n",
    "@show inputISI = joinpath(root, \"IF_factor_full_1997-2024_plus.txt\")\n",
    "\n",
    "@show inputMINE = joinpath(root, fileOwnPapers);\n",
    "@show inputCIT = joinpath(root, fileCitations);"
   ]
  },
  {
   "cell_type": "code",
   "execution_count": 3,
   "metadata": {},
   "outputs": [
    {
     "name": "stdout",
     "output_type": "stream",
     "text": [
      "AIFirstYear = 1997 = 1997\n",
      "AILastYear = 2024 = 2024\n",
      "ANini = 1997 = 1997\n",
      "ANini5 = 2021 = 2021\n",
      "ANfin = 2024 = 2024\n"
     ]
    }
   ],
   "source": [
    "@show AIFirstYear = 1997;\n",
    "@show AILastYear = 2024;\n",
    "\n",
    "@show ANini  = 1997;\n",
    "@show ANini5 = 2021;\n",
    "@show ANfin  = 2024;"
   ]
  },
  {
   "cell_type": "code",
   "execution_count": 4,
   "metadata": {},
   "outputs": [],
   "source": [
    "AIS = CSV.read(inputAIS, DataFrame; header=true, delim='\\t');"
   ]
  },
  {
   "cell_type": "code",
   "execution_count": 5,
   "metadata": {},
   "outputs": [],
   "source": [
    "ISI = CSV.read(inputISI, DataFrame; header=true, delim='\\t');"
   ]
  },
  {
   "cell_type": "code",
   "execution_count": 6,
   "metadata": {},
   "outputs": [],
   "source": [
    "#@show AIS[8157, [1, 3, 5, 6,    29, 30]];\n",
    "#@show ISI[8157, [1, 3, 5, 6,    29, 30]];\n",
    "AIS = dropmissing(AIS, :Journal)\n",
    "ISI = dropmissing(ISI, :Journal);"
   ]
  },
  {
   "cell_type": "code",
   "execution_count": 7,
   "metadata": {},
   "outputs": [],
   "source": [
    "MINEraw = CSV.read(inputMINE, DataFrame; header=true, delim='\\t');\n",
    "MINE = MINEraw[:, [2, 9, 25, 33, 44, 47, 48, 54, 55, 56, 57]];\n",
    "#                 AU TI  RP  NR  J9  PY  VL  BP  EP  AR  DI\n",
    "\n",
    "sort!(MINE, [:PY], rev = true)\n",
    "eltype.(eachcol(MINE));\n",
    "\n",
    "MINEraw=nothing;"
   ]
  },
  {
   "cell_type": "code",
   "execution_count": 8,
   "metadata": {},
   "outputs": [
    {
     "name": "stdout",
     "output_type": "stream",
     "text": [
      "MINE[1, [:AU, :J9, :PY]] = DataFrameRow\n",
      " Row │ AU                                 J9            PY\n",
      "     │ String                             String31      Int64\n",
      "─────┼────────────────────────────────────────────────────────\n",
      "   1 │ Andriesei, A; Plesca, D; Capu, R…  ROM REP PHYS   2023\n"
     ]
    }
   ],
   "source": [
    "@show MINE[1, [:AU, :J9, :PY]];"
   ]
  },
  {
   "cell_type": "code",
   "execution_count": 9,
   "metadata": {},
   "outputs": [],
   "source": [
    "#   PT\tAU\tBA\tBE\tGP\tAF\tBF\tCA\tTI\tSO\tSE\tBS\tLA\tDT\tCT\tCY\tCL\tSP\tHO\tDE\tID\tAB\tC1\t\n",
    "#   1   2   3   4   5   6   7   8   9   10  11  12  13  14  15  16  17  18  19  20  21  22  23  \n",
    "\n",
    "#   C3\tRP\tEM\tRI\tOI\tFU\tFP\tFX\tCR\tNR\tTC\tZ9\tU1\tU2\tPU\tPI\tPA\tSN\tEI\tBN\tJ9\tJI\tPD\t\n",
    "#   24  25  26  27  28  29  30  31  32  33  34  35  36  37  38  39  40  41  42  43  44  45  46  \n",
    "\n",
    "#   PY\tVL\tIS\tPN\tSU\tSI\tMA\tBP\tEP\tAR\tDI\tDL\tD2\tEA\tPG\tWC\tWE\tSC\tGA\tPM\tOA\tHC\tHP\tDA\tUT\n",
    "#   47  48  49  50  51  52  53  54  55  56  57  58  59  60  61  62  63  64  65  66  67  68  69  70  71\n",
    "\n",
    "#   ######  2   9   32  44  46  47  48  54  55  56  57\n",
    "#   ######  AU  TI  CR  J9  PD  PY  VL  BP  EP  AR  DI"
   ]
  },
  {
   "cell_type": "code",
   "execution_count": 10,
   "metadata": {},
   "outputs": [],
   "source": [
    "MINECITEraw = CSV.read(inputCIT, DataFrame; rows_to_check = 1000, header=true, delim='\\t');\n",
    "MINECITE = MINECITEraw[:, [2, 9, 32, 44, 46, 47, 48, 54, 55, 56, 57]];\n",
    "#                         AU TI  CR  J9  PD  PY  VL  BP  EP  AR  DI\n",
    "MINECITEraw=nothing;"
   ]
  },
  {
   "cell_type": "code",
   "execution_count": 11,
   "metadata": {},
   "outputs": [],
   "source": [
    "# @show MINECITE[1, [:AU, :J9, :PY]];"
   ]
  },
  {
   "cell_type": "markdown",
   "metadata": {},
   "source": [
    "###########################################################  \n",
    "####################  Finished loading   ########################## \n",
    "###########################################################"
   ]
  },
  {
   "cell_type": "code",
   "execution_count": 12,
   "metadata": {},
   "outputs": [],
   "source": [
    "rename!(MINE,:\"J9\" => :\"Journal\")\n",
    "rename!(MINECITE,:\"J9\" => :\"Journal\");\n",
    "\n",
    "insertcols!(MINE, :NA => 0);\n",
    "insertcols!(MINE, :NEFF => 0.0);\n",
    "insertcols!(MINE, :PRIM => 0);\n",
    "insertcols!(MINE, :AI => 0.0);\n",
    "insertcols!(MINE, :AINEFF => 0.0);\n",
    "insertcols!(MINE, :IF => 0.0);\n",
    "insertcols!(MINE, :IFNA => 0.0);\n",
    "insertcols!(MINE, :TIMESC => 0);\n",
    "insertcols!(MINE, :CT => 0.0);\n",
    "### 5 ani\n",
    "insertcols!(MINE, :PRIM5 => 0);\n",
    "insertcols!(MINE, :AINEFF5 => 0.0);\n",
    "insertcols!(MINE, :IFNA5 => 0.0);\n",
    "insertcols!(MINE, :TIMESC5 => 0);\n",
    "insertcols!(MINE, :CT5 => 0.0);\n",
    "### UAIC\n",
    "insertcols!(MINE, :UAIC1 => 0.0);\n",
    "insertcols!(MINE, :UAIC9 => 0.0);"
   ]
  },
  {
   "cell_type": "markdown",
   "metadata": {},
   "source": [
    "Găsim numarul de autori și prim autor"
   ]
  },
  {
   "cell_type": "code",
   "execution_count": 13,
   "metadata": {},
   "outputs": [],
   "source": [
    "for (row_index, lucrare) in enumerate(eachrow(MINE))\n",
    "    MINE[row_index, :NA] = (1+count(\";\", lucrare[:AU]))\n",
    "\n",
    "    if MINE[row_index, :NA] <= 5\n",
    "        MINE[row_index, :NEFF] = MINE[row_index, :NA]\n",
    "    elseif MINE[row_index, :NA] <= 15\n",
    "        MINE[row_index, :NEFF] = (MINE[row_index, :NA] + 5.0) / 2.0\n",
    "    elseif MINE[row_index, :NA] <= 75\n",
    "        MINE[row_index, :NEFF] = (MINE[row_index, :NA] + 15.0) / 3.0\n",
    "    else\n",
    "        MINE[row_index, :NEFF] = (MINE[row_index, :NA] + 45.0) / 4.0\n",
    "    end\n",
    "\n",
    "    #println( titlecase(MINE[row_index, :AU]))\n",
    "    #println(findfirst(primAuthor, titlecase(MINE[row_index, :AU]))[1])\n",
    "    if findfirst(primAuthor, titlecase(MINE[row_index, :AU]))[1] == 1\n",
    "        MINE[row_index, :PRIM] = 1\n",
    "        if (MINE[row_index, :PY] <= ANfin) && (MINE[row_index, :PY] >= ANini5)\n",
    "            MINE[row_index, :PRIM5] = 1\n",
    "        end\n",
    "    elseif !ismissing(lucrare[:RP])\n",
    "        if occursin(primAuthor, lucrare[:RP])\n",
    "            MINE[row_index, :PRIM] = 1\n",
    "            if (MINE[row_index, :PY] <= ANfin) && (MINE[row_index, :PY] >= ANini5)\n",
    "                MINE[row_index, :PRIM5] = 1\n",
    "            end\n",
    "        end\n",
    "    end\n",
    "    #println(row_index, MINE[row_index, [:NA]])\n",
    "    #println(row_index, MINE[row_index, [:PRIM]])\n",
    "end"
   ]
  },
  {
   "cell_type": "markdown",
   "metadata": {},
   "source": [
    "În caz că lipsește un publication year:"
   ]
  },
  {
   "cell_type": "code",
   "execution_count": 14,
   "metadata": {},
   "outputs": [
    {
     "data": {
      "text/html": [
       "<div><div style = \"float: left;\"><span>0×9 DataFrame</span></div><div style = \"clear: both;\"></div></div><div class = \"data-frame\" style = \"overflow-x: scroll;\"><table class = \"data-frame\" style = \"margin-bottom: 6px;\"><thead><tr class = \"header\"><th class = \"rowNumber\" style = \"font-weight: bold; text-align: right;\">Row</th><th style = \"text-align: left;\">AU</th><th style = \"text-align: left;\">PY</th><th style = \"text-align: left;\">VL</th><th style = \"text-align: left;\">BP</th><th style = \"text-align: left;\">NA</th><th style = \"text-align: left;\">PRIM</th><th style = \"text-align: left;\">AI</th><th style = \"text-align: left;\">AINEFF</th><th style = \"text-align: left;\">IF</th></tr><tr class = \"subheader headerLastRow\"><th class = \"rowNumber\" style = \"font-weight: bold; text-align: right;\"></th><th title = \"String\" style = \"text-align: left;\">String</th><th title = \"Int64\" style = \"text-align: left;\">Int64</th><th title = \"Int64\" style = \"text-align: left;\">Int64</th><th title = \"Union{Missing, Int64}\" style = \"text-align: left;\">Int64?</th><th title = \"Int64\" style = \"text-align: left;\">Int64</th><th title = \"Int64\" style = \"text-align: left;\">Int64</th><th title = \"Float64\" style = \"text-align: left;\">Float64</th><th title = \"Float64\" style = \"text-align: left;\">Float64</th><th title = \"Float64\" style = \"text-align: left;\">Float64</th></tr></thead><tbody></tbody></table></div>"
      ],
      "text/latex": [
       "\\begin{tabular}{r|ccccccccc}\n",
       "\t& AU & PY & VL & BP & NA & PRIM & AI & AINEFF & IF\\\\\n",
       "\t\\hline\n",
       "\t& String & Int64 & Int64 & Int64? & Int64 & Int64 & Float64 & Float64 & Float64\\\\\n",
       "\t\\hline\n",
       "\\end{tabular}\n"
      ],
      "text/plain": [
       "\u001b[1m0×9 DataFrame\u001b[0m\n",
       "\u001b[1m Row \u001b[0m│\u001b[1m AU     \u001b[0m\u001b[1m PY    \u001b[0m\u001b[1m VL    \u001b[0m\u001b[1m BP     \u001b[0m\u001b[1m NA    \u001b[0m\u001b[1m PRIM  \u001b[0m\u001b[1m AI      \u001b[0m\u001b[1m AINEFF  \u001b[0m\u001b[1m IF      \u001b[0m\n",
       "     │\u001b[90m String \u001b[0m\u001b[90m Int64 \u001b[0m\u001b[90m Int64 \u001b[0m\u001b[90m Int64? \u001b[0m\u001b[90m Int64 \u001b[0m\u001b[90m Int64 \u001b[0m\u001b[90m Float64 \u001b[0m\u001b[90m Float64 \u001b[0m\u001b[90m Float64 \u001b[0m\n",
       "─────┴───────────────────────────────────────────────────────────────────────"
      ]
     },
     "metadata": {},
     "output_type": "display_data"
    }
   ],
   "source": [
    "MINE.PY = Int64.(MINE.PY)\n",
    "MINE[ismissing.(MINE[!, :PY]), [1, 6, 7, 8, 12, 14, 15, 16, 17]]"
   ]
  },
  {
   "cell_type": "markdown",
   "metadata": {},
   "source": [
    "Subseturi (?):"
   ]
  },
  {
   "cell_type": "code",
   "execution_count": 15,
   "metadata": {},
   "outputs": [],
   "source": [
    "#AISsubset = filter(r -> any(occursin.(Vector(MINE[1, [:Journal]]), r.Journal)), AIS)\n",
    "#size(AISsubset, 1);"
   ]
  },
  {
   "cell_type": "code",
   "execution_count": 16,
   "metadata": {},
   "outputs": [],
   "source": [
    "#ISIsubset = filter(r -> any(occursin.(Vector(MINE[1, [:Journal]]), r.Journal)), ISI)\n",
    "#size(ISIsubset, 1);"
   ]
  },
  {
   "cell_type": "markdown",
   "metadata": {},
   "source": [
    "Căutare MINE"
   ]
  },
  {
   "cell_type": "code",
   "execution_count": 17,
   "metadata": {},
   "outputs": [],
   "source": [
    "for (row_index, lucrare) in enumerate(eachrow(MINE))\n",
    "    #lucrare = MINE[1, :]\n",
    "    if(ismissing(lucrare[:Journal]))\n",
    "        continue\n",
    "    end\n",
    "    for AISrow in eachrow(AIS)\n",
    "    #for AISrow in eachrow(AISsubset)\n",
    "        if( lucrare[:Journal] == AISrow[:Journal] )\n",
    "            if (lucrare[:PY] >= AIFirstYear)\n",
    "                anString = string(lucrare[:PY])\n",
    "            else\n",
    "                anString = string(AIFirstYear)\n",
    "            end\n",
    "            if (lucrare[:PY] > AILastYear)\n",
    "                anString = string(AILastYear)\n",
    "            end\n",
    "            #println(AISrow[anString])\n",
    "            MINE[row_index, :AI] = AISrow[anString]\n",
    "            MINE[row_index, :AINEFF] = MINE[row_index, :AI] / MINE[row_index, :NEFF]\n",
    "            if (MINE[row_index, :PY] <= ANfin) && (MINE[row_index, :PY] >= ANini5)\n",
    "                MINE[row_index, :AINEFF5] = MINE[row_index, :AINEFF]\n",
    "            end\n",
    "        end\n",
    "    end\n",
    "    for ISIrow in eachrow(ISI)\n",
    "    #for ISIrow in eachrow(ISIsubset)\n",
    "        if( lucrare[:Journal] == ISIrow[:Journal] )\n",
    "            if (lucrare[:PY] >= AIFirstYear)\n",
    "                anString = string(lucrare[:PY])\n",
    "            else\n",
    "                anString = string(AIFirstYear)\n",
    "            end\n",
    "            if (lucrare[:PY] > AILastYear)\n",
    "                anString = string(AILastYear)\n",
    "            end\n",
    "            #println(ISIrow[anString])\n",
    "            MINE[row_index, :IF] = ISIrow[anString]\n",
    "            MINE[row_index, :IFNA] = ISIrow[anString] / MINE[row_index, :NA]\n",
    "            if (MINE[row_index, :PY] <= ANfin) && (MINE[row_index, :PY] >= ANini5)\n",
    "                MINE[row_index, :IFNA5] = MINE[row_index, :IFNA]\n",
    "                MINE[row_index, :UAIC1] = (25 + 60*MINE[row_index, :IF]) / MINE[row_index, :NA]\n",
    "            end\n",
    "        end\n",
    "    end\n",
    "end"
   ]
  },
  {
   "cell_type": "markdown",
   "metadata": {},
   "source": [
    "Rezultate MINE:"
   ]
  },
  {
   "cell_type": "code",
   "execution_count": 18,
   "metadata": {},
   "outputs": [
    {
     "data": {
      "text/plain": [
       "(6.809322727272727, 9.686, 2.0372045454545455, 0.0, 429.4828354978355)"
      ]
     },
     "metadata": {},
     "output_type": "display_data"
    }
   ],
   "source": [
    "I = sum(MINE[!, :AINEFF]);\n",
    "P = sum(MINE[!, :PRIM] .* MINE[!, :AI]);\n",
    "I5 = sum(MINE[!, :AINEFF5]);\n",
    "P5 = sum(MINE[!, :PRIM5] .* MINE[!, :AI]);\n",
    "UAIC_1_1 = sum(MINE[!, :UAIC1]);\n",
    "\n",
    "I, P, I5, P5, UAIC_1_1"
   ]
  },
  {
   "cell_type": "markdown",
   "metadata": {},
   "source": [
    "###########################################################  \n",
    "####################  Citări   ################################## \n",
    "###########################################################"
   ]
  },
  {
   "cell_type": "markdown",
   "metadata": {},
   "source": [
    "Verificare prezență autocitări"
   ]
  },
  {
   "cell_type": "code",
   "execution_count": 19,
   "metadata": {},
   "outputs": [],
   "source": [
    "# eliminare autocitari\n",
    "MINECITE = filter(row -> !(occursin(primAuthor, row.AU)),  MINECITE);"
   ]
  },
  {
   "cell_type": "code",
   "execution_count": 20,
   "metadata": {},
   "outputs": [],
   "source": [
    "# print autocitari\n",
    "for (row_indexCIT, lucrareCIT) in enumerate(eachrow(MINECITE))\n",
    "    if( occursin(primAuthor, lucrareCIT.AU) )\n",
    "        println(row_indexCIT, \"  \", lucrareCIT.AU)\n",
    "    end\n",
    "end"
   ]
  },
  {
   "cell_type": "markdown",
   "metadata": {},
   "source": [
    "Unele citări fără PY (early access) - CHECK!!!"
   ]
  },
  {
   "cell_type": "code",
   "execution_count": 21,
   "metadata": {},
   "outputs": [],
   "source": [
    "# print citări fără PY (early access) și set to 2024\n",
    "for (row_indexCIT, lucrareCIT) in enumerate(eachrow(MINECITE))\n",
    "    if( ismissing(lucrareCIT.PY) )\n",
    "        println(row_indexCIT, \"  \", lucrareCIT.AU)\n",
    "        lucrareCIT.PY = 2024\n",
    "    end\n",
    "end"
   ]
  },
  {
   "cell_type": "code",
   "execution_count": 22,
   "metadata": {},
   "outputs": [],
   "source": [
    "CITES = Vector{Int64}[];\n",
    "for i in 1:size(MINE)[1]\n",
    "    push!(CITES, [0])\n",
    "end\n",
    "CITES_IFs = Vector{Float64}[];\n",
    "for i in 1:size(MINE)[1]\n",
    "    push!(CITES_IFs, [0.0])\n",
    "end"
   ]
  },
  {
   "cell_type": "code",
   "execution_count": 23,
   "metadata": {},
   "outputs": [],
   "source": [
    "CITES5 = Vector{Int64}[];\n",
    "for i in 1:size(MINE)[1]\n",
    "    push!(CITES5, [0])\n",
    "end\n",
    "CITES5_IFs = Vector{Float64}[];\n",
    "for i in 1:size(MINE)[1]\n",
    "    push!(CITES5_IFs, [0.0])\n",
    "end"
   ]
  },
  {
   "cell_type": "code",
   "execution_count": 24,
   "metadata": {},
   "outputs": [],
   "source": [
    "for (row_indexMINE, lucrareMINE) in enumerate(eachrow(MINE))\n",
    "    calcul_cit_UAIC = 0.0\n",
    "    if ( ismissing(lucrareMINE[:DI]) )\n",
    "        #println(\"Skip paper $row_indexMINE noDOI\")\n",
    "        continue\n",
    "    end\n",
    "    #println(\"Analyzing paper \", lucrareMINE[:DI])\n",
    "    for (row_indexCIT, lucrareCIT) in enumerate(eachrow(MINECITE))\n",
    "        if ( occursin(lucrareMINE[:DI], lucrareCIT[:CR]) )\n",
    "            #println(\"Paper $row_indexMINE cited by $row_indexCIT\")\n",
    "            ISI_value = 0.0\n",
    "            push!(CITES[row_indexMINE], row_indexCIT)\n",
    "            push!(CITES_IFs[row_indexMINE], ISI_value)\n",
    "            if (( !ismissing(lucrareCIT[:PY]) ) && ( !ismissing(lucrareCIT[:Journal]) ))\n",
    "                for ISIrow in eachrow(ISI)\n",
    "                    if( lucrareCIT[:Journal] == ISIrow[:Journal] )\n",
    "                        an_publicare_citare = lucrareCIT[:PY]\n",
    "                        if (an_publicare_citare > AILastYear)\n",
    "                            an_publicare_citare = AILastYear\n",
    "                        end\n",
    "                        if (an_publicare_citare < AIFirstYear)\n",
    "                            an_publicare_citare = AIFirstYear\n",
    "                        end\n",
    "                        ISI_value = ISIrow[string(an_publicare_citare)]\n",
    "                        push!(CITES_IFs[row_indexMINE], ISI_value)\n",
    "                        #CITES_IFs[row_indexMINE, size(CITES_IFs[row_indexMINE])] = ISI_value\n",
    "                        break\n",
    "                    end\n",
    "                end\n",
    "                if (lucrareCIT[:PY] <= ANfin) && (lucrareCIT[:PY] >= ANini5)\n",
    "                    push!(CITES5[row_indexMINE], row_indexCIT)\n",
    "                    push!(CITES5_IFs[row_indexMINE], ISI_value)\n",
    "                    calcul_cit_UAIC = calcul_cit_UAIC + (10 + 20 * ISI_value) / lucrareMINE[:NA]\n",
    "                end\n",
    "            end\n",
    "        end\n",
    "    end\n",
    "    MINE[row_indexMINE, :TIMESC] = size(CITES[row_indexMINE])[1]-1\n",
    "    MINE[row_indexMINE, :CT] = MINE[row_indexMINE, :TIMESC] / MINE[row_indexMINE, :NEFF]\n",
    "    MINE[row_indexMINE, :TIMESC5] = size(CITES5[row_indexMINE])[1]-1\n",
    "    MINE[row_indexMINE, :CT5] = MINE[row_indexMINE, :TIMESC5] / MINE[row_indexMINE, :NEFF]\n",
    "    MINE[row_indexMINE, :UAIC9] = calcul_cit_UAIC\n",
    "end;"
   ]
  },
  {
   "cell_type": "code",
   "execution_count": 25,
   "metadata": {},
   "outputs": [],
   "source": [
    "#@show CITES[27]\n",
    "#size(CITES5_IFs[2])"
   ]
  },
  {
   "cell_type": "code",
   "execution_count": 26,
   "metadata": {},
   "outputs": [
    {
     "data": {
      "text/plain": [
       "(92.47229437229437, 22.27619047619048, 2134.89597979798)"
      ]
     },
     "metadata": {},
     "output_type": "display_data"
    }
   ],
   "source": [
    "C = sum(MINE[!, :CT])\n",
    "C5 = sum(MINE[!, :CT5])\n",
    "UAIC_1_9 = sum(MINE[!, :UAIC9])\n",
    "\n",
    "C, C5, UAIC_1_9"
   ]
  },
  {
   "cell_type": "markdown",
   "metadata": {},
   "source": [
    "###########################################################  \n",
    "####################  SAVE   ################################## \n",
    "###########################################################"
   ]
  },
  {
   "cell_type": "code",
   "execution_count": 27,
   "metadata": {},
   "outputs": [],
   "source": [
    "using Printf"
   ]
  },
  {
   "cell_type": "code",
   "execution_count": 28,
   "metadata": {},
   "outputs": [
    {
     "name": "stdout",
     "output_type": "stream",
     "text": [
      "outputMINEUAICtxt = joinpath(root, fileOwnUAIC) = \"/home/lali/TITAN-ROG-sync/julia/ISI/RT_JL_UAIC1.txt\"\n",
      "outputMINEtxt = joinpath(root, fileOwnTXT) = \"/home/lali/TITAN-ROG-sync/julia/ISI/RT_JL_total.txt\"\n",
      "outputMINEtxt5 = joinpath(root, fileOwnTXT5) = \"/home/lali/TITAN-ROG-sync/julia/ISI/RT_JL_total5.txt\"\n",
      "outputMINEcsv = joinpath(root, fileOwnCSV) = \"/home/lali/TITAN-ROG-sync/julia/ISI/RT_JL_MINE_test.csv\"\n"
     ]
    },
    {
     "data": {
      "text/plain": [
       "\"/home/lali/TITAN-ROG-sync/julia/ISI/RT_JL_MINE_test.csv\""
      ]
     },
     "metadata": {},
     "output_type": "display_data"
    }
   ],
   "source": [
    "@show outputMINEUAICtxt = joinpath(root, fileOwnUAIC)\n",
    "@show outputMINEtxt  = joinpath(root, fileOwnTXT)\n",
    "@show outputMINEtxt5 = joinpath(root, fileOwnTXT5)\n",
    "\n",
    "@show outputMINEcsv = joinpath(root, fileOwnCSV)\n",
    "\n",
    "CSV.write(outputMINEcsv, MINE)"
   ]
  },
  {
   "cell_type": "code",
   "execution_count": 29,
   "metadata": {},
   "outputs": [],
   "source": [
    "#ENV[\"COLUMNS\"]=500\n",
    "#MINE[1, filter(x -> !(x in [\"CR\",\"RP\"]), names(MINE))]"
   ]
  },
  {
   "cell_type": "code",
   "execution_count": 30,
   "metadata": {},
   "outputs": [
    {
     "data": {
      "text/plain": [
       "77"
      ]
     },
     "metadata": {},
     "output_type": "display_data"
    }
   ],
   "source": [
    "open(outputMINEUAICtxt, \"w\") do file\n",
    "    for (row_indexMINE, lucrareMINE) in enumerate(eachrow(MINE))\n",
    "        if ( !ismissing(lucrareMINE.BP) )\n",
    "            write(file, \"[$row_indexMINE] \\t $(lucrareMINE.AU); $(lucrareMINE.TI); $(lucrareMINE.Journal), vol.$(lucrareMINE.VL), pp.$(lucrareMINE.BP)-$(lucrareMINE.EP) ($(lucrareMINE.PY)), DOI:$(lucrareMINE.DI) \\n\")\n",
    "        else\n",
    "            write(file, \"[$row_indexMINE] \\t $(lucrareMINE.AU); $(lucrareMINE.TI); $(lucrareMINE.Journal), vol.$(lucrareMINE.VL), art.no.$(lucrareMINE.AR) ($(lucrareMINE.PY)), DOI:$(lucrareMINE.DI) \\n\")\n",
    "        end\n",
    "        contor = 1\n",
    "        for (idx_citare, citare) in enumerate(CITES5[row_indexMINE])\n",
    "            if (citare == 0)\n",
    "                continue\n",
    "            end\n",
    "            write(file, \"\\t\\t[$row_indexMINE.$contor] $(MINECITE[citare,:].AU); $(MINECITE[citare,:].TI); $(MINECITE[citare,:].Journal), vol.$(MINECITE[citare,:].VL) ($(MINECITE[citare,:].PY)), DOI:$(MINECITE[citare,:].DI) \\n\")\n",
    "            write(file, \"\\t\\t\\tIF citare: $(CITES5_IFs[row_indexMINE][idx_citare])\\n\")\n",
    "            contor = contor + 1\n",
    "        end\n",
    "        write(file, \"nr.autori: $(lucrareMINE.NA) \\t\\t IF: $(lucrareMINE.IF) \\t\\t UAIC I.1(ISI): $(@sprintf(\"%8.4f\", lucrareMINE.UAIC1)) \\t\\t nr.citari: $(lucrareMINE.TIMESC5) \\t\\t UAIC I.9(Citari): $(@sprintf(\"%9.4f\", lucrareMINE.UAIC9)) \\n\")\n",
    "        write(file, '-'^400, '\\n')\n",
    "    end\n",
    "    write(file, '-'^400, '\\n')\n",
    "    write(file, '-'^400, '\\n')\n",
    "    write(file, \"Total criteriul I.1(UAIC) = $(@sprintf(\"%9.4f\", UAIC_1_1))\\t\\t\\tTotal criteriul I.9(UAIC) = $(@sprintf(\"%9.4f\", UAIC_1_9))\")\n",
    "end"
   ]
  },
  {
   "cell_type": "code",
   "execution_count": 31,
   "metadata": {},
   "outputs": [
    {
     "data": {
      "text/plain": [
       "51"
      ]
     },
     "metadata": {},
     "output_type": "display_data"
    }
   ],
   "source": [
    "open(outputMINEtxt, \"w\") do file\n",
    "    for (row_indexMINE, lucrareMINE) in enumerate(eachrow(MINE))\n",
    "        if ( !ismissing(lucrareMINE.BP) )\n",
    "            write(file, \"[$row_indexMINE] \\t $(lucrareMINE.AU); $(lucrareMINE.TI); $(lucrareMINE.Journal), vol.$(lucrareMINE.VL), pp.$(lucrareMINE.BP)-$(lucrareMINE.EP) ($(lucrareMINE.PY)), DOI:$(lucrareMINE.DI) \\n\")\n",
    "        else\n",
    "            write(file, \"[$row_indexMINE] \\t $(lucrareMINE.AU); $(lucrareMINE.TI); $(lucrareMINE.Journal), vol.$(lucrareMINE.VL), art.no.$(lucrareMINE.AR) ($(lucrareMINE.PY)), DOI:$(lucrareMINE.DI) \\n\")\n",
    "        end\n",
    "        contor = 1\n",
    "        for (idx_citare, citare) in enumerate(CITES[row_indexMINE])\n",
    "            if (citare == 0)\n",
    "                continue\n",
    "            end\n",
    "            write(file, \"\\t\\t[$row_indexMINE.$contor] $(MINECITE[citare,:].AU); $(MINECITE[citare,:].TI); $(MINECITE[citare,:].Journal), vol.$(MINECITE[citare,:].VL) ($(MINECITE[citare,:].PY)), DOI:$(MINECITE[citare,:].DI) \\n\")\n",
    "            #write(file, \"\\t\\t\\tIF citare: $(CITES5_IFs[row_indexMINE][idx_citare])\\n\")\n",
    "            contor = contor + 1\n",
    "        end\n",
    "        write(file, \"nr.autori: $(lucrareMINE.NA) \\t\\t IF: $(lucrareMINE.IF) \\t\\t nr.citari: $(lucrareMINE.TIMESC5) \\n\")\n",
    "        write(file, '-'^400, '\\n')\n",
    "    end\n",
    "    write(file, '-'^400, '\\n')\n",
    "    write(file, '-'^400, '\\n')\n",
    "    #write(file, \"Total criteriul I.1(UAIC) = $(@sprintf(\"%9.4f\", UAIC_1_1))\\t\\t\\tTotal criteriul I.9(UAIC) = $(@sprintf(\"%9.4f\", UAIC_1_9))\")\n",
    "    write(file, \"P = $(@sprintf(\"%9.4f\", P)) \\t\\t\\t I = $(@sprintf(\"%9.4f\", I)) \\t\\t\\t C = $(@sprintf(\"%9.4f\", C)) \\n\")\n",
    "end"
   ]
  },
  {
   "cell_type": "code",
   "execution_count": 32,
   "metadata": {},
   "outputs": [
    {
     "data": {
      "text/plain": [
       "51"
      ]
     },
     "metadata": {},
     "output_type": "display_data"
    }
   ],
   "source": [
    "open(outputMINEtxt5, \"w\") do file\n",
    "    for (row_indexMINE, lucrareMINE) in enumerate(eachrow(MINE))\n",
    "        if ( !ismissing(lucrareMINE.BP) )\n",
    "            write(file, \"[$row_indexMINE] \\t $(lucrareMINE.AU); $(lucrareMINE.TI); $(lucrareMINE.Journal), vol.$(lucrareMINE.VL), pp.$(lucrareMINE.BP)-$(lucrareMINE.EP) ($(lucrareMINE.PY)), DOI:$(lucrareMINE.DI) \\n\")\n",
    "        else\n",
    "            write(file, \"[$row_indexMINE] \\t $(lucrareMINE.AU); $(lucrareMINE.TI); $(lucrareMINE.Journal), vol.$(lucrareMINE.VL), art.no.$(lucrareMINE.AR) ($(lucrareMINE.PY)), DOI:$(lucrareMINE.DI) \\n\")\n",
    "        end\n",
    "        contor = 1\n",
    "        for (idx_citare, citare) in enumerate(CITES5[row_indexMINE])\n",
    "            if (citare == 0)\n",
    "                continue\n",
    "            end\n",
    "            write(file, \"\\t\\t[$row_indexMINE.$contor] $(MINECITE[citare,:].AU); $(MINECITE[citare,:].TI); $(MINECITE[citare,:].Journal), vol.$(MINECITE[citare,:].VL) ($(MINECITE[citare,:].PY)), DOI:$(MINECITE[citare,:].DI) \\n\")\n",
    "            #write(file, \"\\t\\t\\tIF citare: $(CITES5_IFs[row_indexMINE][idx_citare])\\n\")\n",
    "            contor = contor + 1\n",
    "        end\n",
    "        write(file, \"nr.autori: $(lucrareMINE.NA) \\t\\t IF: $(lucrareMINE.IF) \\t\\t nr.citari: $(lucrareMINE.TIMESC5) \\n\")\n",
    "        write(file, '-'^400, '\\n')\n",
    "    end\n",
    "    write(file, '-'^400, '\\n')\n",
    "    write(file, '-'^400, '\\n')\n",
    "    #write(file, \"Total criteriul I.1(UAIC) = $(@sprintf(\"%9.4f\", UAIC_1_1))\\t\\t\\tTotal criteriul I.9(UAIC) = $(@sprintf(\"%9.4f\", UAIC_1_9))\")\n",
    "    write(file, \"P = $(@sprintf(\"%9.4f\", P5)) \\t\\t\\t I = $(@sprintf(\"%9.4f\", I5)) \\t\\t\\t C = $(@sprintf(\"%9.4f\", C5)) \\n\")\n",
    "end"
   ]
  }
 ],
 "metadata": {
  "kernelspec": {
   "display_name": "Julia 1.10.0",
   "language": "julia",
   "name": "julia-1.10"
  },
  "language_info": {
   "file_extension": ".jl",
   "mimetype": "application/julia",
   "name": "julia",
   "version": "1.10.0"
  }
 },
 "nbformat": 4,
 "nbformat_minor": 2
}
