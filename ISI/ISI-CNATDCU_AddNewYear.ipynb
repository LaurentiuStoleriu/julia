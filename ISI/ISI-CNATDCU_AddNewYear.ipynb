{
 "cells": [
  {
   "cell_type": "code",
   "execution_count": null,
   "metadata": {},
   "outputs": [],
   "source": [
    "using CSV, DataFrames"
   ]
  },
  {
   "cell_type": "code",
   "execution_count": null,
   "metadata": {},
   "outputs": [],
   "source": [
    "root = dirname(@__FILE__)\n",
    "#inputAIS = joinpath(root, \"AI_factor_full.txt\")\n",
    "inputAIS = joinpath(root, \"AI_factor_full_1997-2021.txt\")\n"
   ]
  },
  {
   "cell_type": "code",
   "execution_count": null,
   "metadata": {},
   "outputs": [],
   "source": [
    "# INTIAL _ CAND NU AVEAM NUME DE COLOANE\n",
    "##AIS = DataFrame(CSV.File(inputAIS))\n",
    "#AIS = CSV.read(inputAIS, DataFrame; header=[\"Journal\",\"1997\",\"1998\",\"1999\",\n",
    "#                                            \"2000\",\"2001\",\"2002\",\"2003\",\"2004\",\n",
    "#                                            \"2005\",\"2006\",\"2007\",\"2008\",\"2009\",\n",
    "#                                            \"2010\",\"2011\",\"2012\",\"2013\",\"2014\",\n",
    "#                                            \"2015\",\"2016\",\"2017\",\"2018\",\"2019\"], missingstring=[\"Not Available\",\"\"])\n",
    "#AIS = select!(AIS, Not(:\"2019\"));\n",
    "#AIS.\"2018\" = replace(AIS.\"2018\", missing => 0);\n",
    "#eltype.(eachcol(AIS));"
   ]
  },
  {
   "cell_type": "code",
   "execution_count": null,
   "metadata": {},
   "outputs": [],
   "source": [
    "AIS = CSV.read(inputAIS, DataFrame)\n",
    "eltype.(eachcol(AIS));"
   ]
  },
  {
   "cell_type": "code",
   "execution_count": null,
   "metadata": {},
   "outputs": [],
   "source": [
    "#VSCodeServer.vscodedisplay(AIS)"
   ]
  },
  {
   "cell_type": "code",
   "execution_count": null,
   "metadata": {},
   "outputs": [],
   "source": [
    "root = dirname(@__FILE__)\n",
    "#inputISI = joinpath(root, \"IF_factor_full.txt\")\n",
    "inputISI = joinpath(root, \"IF_factor_full_1997-2021.txt\")"
   ]
  },
  {
   "cell_type": "code",
   "execution_count": null,
   "metadata": {},
   "outputs": [],
   "source": [
    "# INTIAL _ CAND NU AVEAM NUME DE COLOANE\n",
    "#ISI = CSV.read(inputISI, DataFrame; header=[\"Journal\",\"1997\",\"1998\",\"1999\",\n",
    "#                                            \"2000\",\"2001\",\"2002\",\"2003\",\"2004\",\n",
    "#                                            \"2005\",\"2006\",\"2007\",\"2008\",\"2009\",\n",
    "#                                            \"2010\",\"2011\",\"2012\",\"2013\",\"2014\",\n",
    "#                                           \"2015\",\"2016\",\"2017\",\"2018\",\"2019\"], missingstring=[\"Not Available\",\"\"])\n",
    "#ISI = select!(ISI, Not(:\"2019\"));\n",
    "#ISI.\"2018\" = replace(ISI.\"2018\", missing => 0);\n",
    "#eltype.(eachcol(ISI));"
   ]
  },
  {
   "cell_type": "code",
   "execution_count": null,
   "metadata": {},
   "outputs": [],
   "source": [
    "ISI = CSV.read(inputISI, DataFrame)\n",
    "eltype.(eachcol(ISI));"
   ]
  },
  {
   "cell_type": "code",
   "execution_count": null,
   "metadata": {},
   "outputs": [],
   "source": [
    "#VSCodeServer.vscodedisplay(ISI)"
   ]
  },
  {
   "cell_type": "code",
   "execution_count": null,
   "metadata": {},
   "outputs": [],
   "source": [
    "AIS[2, [1, 2, 23, 24, 25, 26]]"
   ]
  },
  {
   "cell_type": "code",
   "execution_count": null,
   "metadata": {},
   "outputs": [],
   "source": [
    "ISI[2, [1, 2, 23, 24, 25, 26]]"
   ]
  },
  {
   "cell_type": "code",
   "execution_count": null,
   "metadata": {},
   "outputs": [],
   "source": [
    "#root = dirname(@__FILE__)\n",
    "#inputAIS = joinpath(root, \"ISI_Journal_Citation_Report_2019.csv\")\n",
    "#AIS2019 = CSV.read(inputAIS, DataFrame; header=true, missingstring=[\"Not Available\",\"\"])\n",
    "#AIS2019.\"Article Influence Score\" = replace(AIS2019.\"Article Influence Score\", missing => 0)\n",
    "#AIS2019.\"Journal Impact Factor\" = replace(AIS2019.\"Journal Impact Factor\", missing => 0)\n",
    "#eltype.(eachcol(AIS2019))\n",
    "#AIS2019[9060, [3, 6, 14]]\n"
   ]
  },
  {
   "cell_type": "code",
   "execution_count": null,
   "metadata": {},
   "outputs": [],
   "source": [
    "#ISI2019 = AIS2019[!, [3, 6]]\n",
    "#AIS2019 = AIS2019[!, [3, 14]]\n",
    "#rename!(AIS2019,:\"JCR Abbreviated Title\" => :\"Journal\")\n",
    "##rename!(AIS2019,:\"Journal Impact Factor\" => :\"ISI2019\")\n",
    "#rename!(AIS2019,:\"Article Influence Score\" => :\"2019\")\n",
    "#AIS2019[9060, :]"
   ]
  },
  {
   "cell_type": "code",
   "execution_count": null,
   "metadata": {},
   "outputs": [],
   "source": [
    "#rename!(ISI2019,:\"JCR Abbreviated Title\" => :\"Journal\")\n",
    "#rename!(ISI2019,:\"Journal Impact Factor\" => :\"2019\")\n",
    "##rename!(ISI2019,:\"Article Influence Score\" => :\"2019\")\n",
    "#ISI2019[9060, :]"
   ]
  },
  {
   "cell_type": "code",
   "execution_count": null,
   "metadata": {},
   "outputs": [],
   "source": [
    "root = dirname(@__FILE__)\n",
    "inputAIS = joinpath(root, \"ISI_Journal_Citation_Report_2021.csv\")\n",
    "AIS2021 = CSV.read(inputAIS, DataFrame; header=true, missingstring=[\"Not Available\",\"\"])\n",
    "AIS2021.\"Article Influence Score\" = replace(AIS2021.\"Article Influence Score\", missing => 0)\n",
    "AIS2021.\"Journal Impact Factor\" = replace(AIS2021.\"Journal Impact Factor\", missing => 0)\n",
    "eltype.(eachcol(AIS2021))\n",
    "#AIS2020[9685, [2, 5, 13]]\n",
    "ISI2021 = AIS2021[!, [2, 7]]\n",
    "AIS2021 = AIS2021[!, [2, 10]]\n",
    "rename!(AIS2021,:\"JCR Abbreviated Title\" => :\"Journal\")\n",
    "#rename!(AIS2020,:\"Journal Impact Factor\" => :\"ISI2020\")\n",
    "rename!(AIS2021,:\"Article Influence Score\" => :\"2021\")\n",
    "AIS2021.\"2021\" = replace(AIS2021.\"2021\", \"N/A\" => 0)\n",
    "AIS2021[9166, :]"
   ]
  },
  {
   "cell_type": "code",
   "execution_count": null,
   "metadata": {},
   "outputs": [],
   "source": [
    "#VSCodeServer.vscodedisplay(AIS2021)\n",
    "#eltype.(eachcol(AIS2021))"
   ]
  },
  {
   "cell_type": "code",
   "execution_count": null,
   "metadata": {},
   "outputs": [],
   "source": [
    "rename!(ISI2021,:\"JCR Abbreviated Title\" => :\"Journal\")\n",
    "rename!(ISI2021,:\"Journal Impact Factor\" => :\"2021\")\n",
    "#rename!(ISI2019,:\"Article Influence Score\" => :\"2019\")\n",
    "ISI2021.\"2021\" = replace(ISI2021.\"2021\", \"N/A\" => 0)\n",
    "ISI2021[9166, :]"
   ]
  },
  {
   "cell_type": "code",
   "execution_count": null,
   "metadata": {},
   "outputs": [],
   "source": [
    "AIS[2, [1, 2, 23, 24, 25, 26]]"
   ]
  },
  {
   "cell_type": "code",
   "execution_count": null,
   "metadata": {},
   "outputs": [],
   "source": [
    "AIS2021[2, [1, 2]]"
   ]
  },
  {
   "cell_type": "code",
   "execution_count": null,
   "metadata": {},
   "outputs": [],
   "source": [
    "AIS = select!(AIS, Not([:\"2021\"]));\n",
    "#VSCodeServer.vscodedisplay(AIS)"
   ]
  },
  {
   "cell_type": "code",
   "execution_count": null,
   "metadata": {},
   "outputs": [],
   "source": [
    "#AIS = leftjoin(AIS, AIS2019; on=:\"Journal\", makeunique=true)\n",
    "AIS = leftjoin(AIS, AIS2021; on=:\"Journal\", makeunique=true)\n",
    "#AIS.\"2019\" = replace(AIS.\"2019\", missing => 0)\n",
    "AIS.\"2021\" = replace(AIS.\"2021\", missing => 0)\n",
    "insertcols!(AIS, :\"2022\" => AIS.\"2021\")\n",
    "AIS[2, [1, 2, 23, 24, 25, 26, 27]]"
   ]
  },
  {
   "cell_type": "code",
   "execution_count": null,
   "metadata": {},
   "outputs": [],
   "source": [
    "ISI = select!(ISI, Not([:\"2021\"]));\n",
    "#VSCodeServer.vscodedisplay(AIS)"
   ]
  },
  {
   "cell_type": "code",
   "execution_count": null,
   "metadata": {},
   "outputs": [],
   "source": [
    "#ISI = leftjoin(ISI, ISI2019; on=:\"Journal\", makeunique=true)\n",
    "ISI = leftjoin(ISI, ISI2021; on=:\"Journal\", makeunique=true)\n",
    "#ISI.\"2019\" = replace(ISI.\"2019\", missing => 0)\n",
    "ISI.\"2021\" = replace(ISI.\"2021\", missing => 0)\n",
    "insertcols!(ISI, :\"2022\" => ISI.\"2021\")\n",
    "ISI[2, [1, 2, 23, 24, 25, 26, 27]]"
   ]
  },
  {
   "cell_type": "code",
   "execution_count": null,
   "metadata": {},
   "outputs": [],
   "source": [
    "root = dirname(@__FILE__)\n",
    "outputAIS = joinpath(root, \"AI_factor_full_1997-2022.txt\")\n",
    "CSV.write(outputAIS, AIS; delim='\\t')\n",
    "outputISI = joinpath(root, \"IF_factor_full_1997-2022.txt\")\n",
    "CSV.write(outputISI, ISI; delim='\\t')"
   ]
  },
  {
   "cell_type": "code",
   "execution_count": null,
   "metadata": {},
   "outputs": [],
   "source": []
  }
 ],
 "metadata": {
  "kernelspec": {
   "display_name": "Julia 1.7.2",
   "language": "julia",
   "name": "julia-1.7"
  },
  "language_info": {
   "file_extension": ".jl",
   "mimetype": "application/julia",
   "name": "julia",
   "version": "1.7.2"
  },
  "orig_nbformat": 4
 },
 "nbformat": 4,
 "nbformat_minor": 2
}
