{
 "cells": [
  {
   "cell_type": "code",
   "execution_count": 1,
   "metadata": {},
   "outputs": [],
   "source": [
    "using CSV, DataFrames"
   ]
  },
  {
   "cell_type": "code",
   "execution_count": 2,
   "metadata": {},
   "outputs": [
    {
     "data": {
      "text/plain": [
       "\"/home/lali/TITAN-ROG-sync/julia/ISI/AI_factor_full_1997-2022_plus.txt\""
      ]
     },
     "metadata": {},
     "output_type": "display_data"
    }
   ],
   "source": [
    "root = dirname(@__FILE__)\n",
    "#inputAIS = joinpath(root, \"AI_factor_full.txt\")\n",
    "inputAIS = joinpath(root, \"AI_factor_full_1997-2022_plus.txt\")"
   ]
  },
  {
   "cell_type": "code",
   "execution_count": 3,
   "metadata": {},
   "outputs": [],
   "source": [
    "AIS = CSV.read(inputAIS, DataFrame)\n",
    "eltype.(eachcol(AIS));"
   ]
  },
  {
   "cell_type": "code",
   "execution_count": 4,
   "metadata": {},
   "outputs": [],
   "source": [
    "#VSCodeServer.vscodedisplay(AIS)"
   ]
  },
  {
   "cell_type": "code",
   "execution_count": 5,
   "metadata": {},
   "outputs": [
    {
     "data": {
      "text/plain": [
       "\"/home/lali/TITAN-ROG-sync/julia/ISI/IF_factor_full_1997-2022_plus.txt\""
      ]
     },
     "metadata": {},
     "output_type": "display_data"
    }
   ],
   "source": [
    "root = dirname(@__FILE__)\n",
    "#inputISI = joinpath(root, \"IF_factor_full.txt\")\n",
    "inputISI = joinpath(root, \"IF_factor_full_1997-2022_plus.txt\")"
   ]
  },
  {
   "cell_type": "code",
   "execution_count": 6,
   "metadata": {},
   "outputs": [],
   "source": [
    "ISI = CSV.read(inputISI, DataFrame)\n",
    "eltype.(eachcol(ISI));"
   ]
  },
  {
   "cell_type": "code",
   "execution_count": 7,
   "metadata": {},
   "outputs": [],
   "source": [
    "#VSCodeServer.vscodedisplay(ISI)"
   ]
  },
  {
   "cell_type": "code",
   "execution_count": 8,
   "metadata": {},
   "outputs": [
    {
     "data": {
      "text/html": [
       "<div><div style = \"float: left;\"><span>DataFrameRow (6 columns)</span></div><div style = \"clear: both;\"></div></div><div class = \"data-frame\" style = \"overflow-x: scroll;\"><table class = \"data-frame\" style = \"margin-bottom: 6px;\"><thead><tr class = \"header\"><th class = \"rowLabel\" style = \"font-weight: bold; text-align: right;\">Row</th><th style = \"text-align: left;\">Journal</th><th style = \"text-align: left;\">JournalFullName</th><th style = \"text-align: left;\">ISSN</th><th style = \"text-align: left;\">2020</th><th style = \"text-align: left;\">2021</th><th style = \"text-align: left;\">2022</th></tr><tr class = \"subheader headerLastRow\"><th class = \"rowLabel\" style = \"font-weight: bold; text-align: right;\"></th><th title = \"String31\" style = \"text-align: left;\">String31</th><th title = \"Union{Missing, String}\" style = \"text-align: left;\">String?</th><th title = \"Union{Missing, String15}\" style = \"text-align: left;\">String15?</th><th title = \"Float64\" style = \"text-align: left;\">Float64</th><th title = \"Float64\" style = \"text-align: left;\">Float64</th><th title = \"Float64\" style = \"text-align: left;\">Float64</th></tr></thead><tbody><tr><td class = \"rowLabel\" style = \"font-weight: bold; text-align: right;\">1</td><td style = \"text-align: left;\">ANNU REV BIOCHEM</td><td style = \"text-align: left;\">ANNUAL REVIEW OF BIOCHEMISTRY</td><td style = \"text-align: left;\">0066-4154</td><td style = \"text-align: right;\">12.328</td><td style = \"text-align: right;\">12.444</td><td style = \"text-align: right;\">12.444</td></tr></tbody></table></div>"
      ],
      "text/latex": [
       "\\begin{tabular}{r|cccccc}\n",
       "\t& Journal & JournalFullName & ISSN & 2020 & 2021 & 2022\\\\\n",
       "\t\\hline\n",
       "\t& String31 & String? & String15? & Float64 & Float64 & Float64\\\\\n",
       "\t\\hline\n",
       "\t1 & ANNU REV BIOCHEM & ANNUAL REVIEW OF BIOCHEMISTRY & 0066-4154 & 12.328 & 12.444 & 12.444 \\\\\n",
       "\\end{tabular}\n"
      ],
      "text/plain": [
       "\u001b[1mDataFrameRow\u001b[0m\n",
       "\u001b[1m Row \u001b[0m│\u001b[1m Journal          \u001b[0m\u001b[1m JournalFullName               \u001b[0m\u001b[1m ISSN      \u001b[0m\u001b[1m 2020    \u001b[0m\u001b[1m 20\u001b[0m ⋯\n",
       "     │\u001b[90m String31         \u001b[0m\u001b[90m String?                       \u001b[0m\u001b[90m String15? \u001b[0m\u001b[90m Float64 \u001b[0m\u001b[90m Fl\u001b[0m ⋯\n",
       "─────┼──────────────────────────────────────────────────────────────────────────\n",
       "   1 │ ANNU REV BIOCHEM  ANNUAL REVIEW OF BIOCHEMISTRY  0066-4154   12.328   1 ⋯\n",
       "\u001b[36m                                                               2 columns omitted\u001b[0m"
      ]
     },
     "metadata": {},
     "output_type": "display_data"
    }
   ],
   "source": [
    "AIS[1, [1, 2, 3, 27, 28, 29]]"
   ]
  },
  {
   "cell_type": "code",
   "execution_count": 9,
   "metadata": {},
   "outputs": [
    {
     "data": {
      "text/html": [
       "<div><div style = \"float: left;\"><span>DataFrameRow (6 columns)</span></div><div style = \"clear: both;\"></div></div><div class = \"data-frame\" style = \"overflow-x: scroll;\"><table class = \"data-frame\" style = \"margin-bottom: 6px;\"><thead><tr class = \"header\"><th class = \"rowLabel\" style = \"font-weight: bold; text-align: right;\">Row</th><th style = \"text-align: left;\">Journal</th><th style = \"text-align: left;\">JournalFullName</th><th style = \"text-align: left;\">ISSN</th><th style = \"text-align: left;\">2020</th><th style = \"text-align: left;\">2021</th><th style = \"text-align: left;\">2022</th></tr><tr class = \"subheader headerLastRow\"><th class = \"rowLabel\" style = \"font-weight: bold; text-align: right;\"></th><th title = \"String31\" style = \"text-align: left;\">String31</th><th title = \"Union{Missing, String}\" style = \"text-align: left;\">String?</th><th title = \"Union{Missing, String15}\" style = \"text-align: left;\">String15?</th><th title = \"Float64\" style = \"text-align: left;\">Float64</th><th title = \"Float64\" style = \"text-align: left;\">Float64</th><th title = \"Float64\" style = \"text-align: left;\">Float64</th></tr></thead><tbody><tr><td class = \"rowLabel\" style = \"font-weight: bold; text-align: right;\">1</td><td style = \"text-align: left;\">ANNU REV BIOCHEM</td><td style = \"text-align: left;\">ANNUAL REVIEW OF BIOCHEMISTRY</td><td style = \"text-align: left;\">0066-4154</td><td style = \"text-align: right;\">23.643</td><td style = \"text-align: right;\">27.258</td><td style = \"text-align: right;\">27.258</td></tr></tbody></table></div>"
      ],
      "text/latex": [
       "\\begin{tabular}{r|cccccc}\n",
       "\t& Journal & JournalFullName & ISSN & 2020 & 2021 & 2022\\\\\n",
       "\t\\hline\n",
       "\t& String31 & String? & String15? & Float64 & Float64 & Float64\\\\\n",
       "\t\\hline\n",
       "\t1 & ANNU REV BIOCHEM & ANNUAL REVIEW OF BIOCHEMISTRY & 0066-4154 & 23.643 & 27.258 & 27.258 \\\\\n",
       "\\end{tabular}\n"
      ],
      "text/plain": [
       "\u001b[1mDataFrameRow\u001b[0m\n",
       "\u001b[1m Row \u001b[0m│\u001b[1m Journal          \u001b[0m\u001b[1m JournalFullName               \u001b[0m\u001b[1m ISSN      \u001b[0m\u001b[1m 2020    \u001b[0m\u001b[1m 20\u001b[0m ⋯\n",
       "     │\u001b[90m String31         \u001b[0m\u001b[90m String?                       \u001b[0m\u001b[90m String15? \u001b[0m\u001b[90m Float64 \u001b[0m\u001b[90m Fl\u001b[0m ⋯\n",
       "─────┼──────────────────────────────────────────────────────────────────────────\n",
       "   1 │ ANNU REV BIOCHEM  ANNUAL REVIEW OF BIOCHEMISTRY  0066-4154   23.643   2 ⋯\n",
       "\u001b[36m                                                               2 columns omitted\u001b[0m"
      ]
     },
     "metadata": {},
     "output_type": "display_data"
    }
   ],
   "source": [
    "ISI[1, [1, 2, 3, 27, 28, 29]]"
   ]
  },
  {
   "cell_type": "code",
   "execution_count": 10,
   "metadata": {},
   "outputs": [],
   "source": [
    "root = dirname(@__FILE__)\n",
    "inputAIS = joinpath(root, \"ISI_Journal_Citation_Report_2022_export.csv\")\n",
    "AIS2022 = CSV.read(inputAIS, DataFrame; header=true, missingstring=[\"Not Available\",\"\", \"N/A\"]);\n"
   ]
  },
  {
   "cell_type": "code",
   "execution_count": 11,
   "metadata": {},
   "outputs": [
    {
     "data": {
      "text/plain": [
       "5-element Vector{DataType}:\n",
       " String\n",
       " String\n",
       " Float64\n",
       " Float64\n",
       " Missing"
      ]
     },
     "metadata": {},
     "output_type": "display_data"
    }
   ],
   "source": [
    "AIS2022.\"2022AI\" = replace(AIS2022.\"2022AI\", missing => 0)\n",
    "AIS2022.\"2022IF\" = replace(AIS2022.\"2022IF\", missing => 0)\n",
    "eltype.(eachcol(AIS2022))"
   ]
  },
  {
   "cell_type": "code",
   "execution_count": 12,
   "metadata": {},
   "outputs": [
    {
     "data": {
      "text/html": [
       "<div><div style = \"float: left;\"><span>DataFrameRow (3 columns)</span></div><div style = \"clear: both;\"></div></div><div class = \"data-frame\" style = \"overflow-x: scroll;\"><table class = \"data-frame\" style = \"margin-bottom: 6px;\"><thead><tr class = \"header\"><th class = \"rowLabel\" style = \"font-weight: bold; text-align: right;\">Row</th><th style = \"text-align: left;\">JournalFullName</th><th style = \"text-align: left;\">ISSN</th><th style = \"text-align: left;\">2022</th></tr><tr class = \"subheader headerLastRow\"><th class = \"rowLabel\" style = \"font-weight: bold; text-align: right;\"></th><th title = \"String\" style = \"text-align: left;\">String</th><th title = \"String\" style = \"text-align: left;\">String</th><th title = \"Float64\" style = \"text-align: left;\">Float64</th></tr></thead><tbody><tr><td class = \"rowLabel\" style = \"font-weight: bold; text-align: right;\">876</td><td style = \"text-align: left;\">AMERASIA JOURNAL</td><td style = \"text-align: left;\">0044-7471</td><td style = \"text-align: right;\">0.28</td></tr></tbody></table></div>"
      ],
      "text/latex": [
       "\\begin{tabular}{r|ccc}\n",
       "\t& JournalFullName & ISSN & 2022\\\\\n",
       "\t\\hline\n",
       "\t& String & String & Float64\\\\\n",
       "\t\\hline\n",
       "\t876 & AMERASIA JOURNAL & 0044-7471 & 0.28 \\\\\n",
       "\\end{tabular}\n"
      ],
      "text/plain": [
       "\u001b[1mDataFrameRow\u001b[0m\n",
       "\u001b[1m Row \u001b[0m│\u001b[1m JournalFullName  \u001b[0m\u001b[1m ISSN      \u001b[0m\u001b[1m 2022    \u001b[0m\n",
       "     │\u001b[90m String           \u001b[0m\u001b[90m String    \u001b[0m\u001b[90m Float64 \u001b[0m\n",
       "─────┼──────────────────────────────────────\n",
       " 876 │ AMERASIA JOURNAL  0044-7471     0.28"
      ]
     },
     "metadata": {},
     "output_type": "display_data"
    }
   ],
   "source": [
    "ISI2022 = AIS2022[!, [1, 2, 3]]\n",
    "AIS2022 = AIS2022[!, [1, 2, 4]]\n",
    "\n",
    "rename!(AIS2022,:\"2022AI\" => :\"2022\")\n",
    "AIS2022.\"2022\" = replace(AIS2022.\"2022\", \"N/A\" => 0)\n",
    "AIS2022[876, :]"
   ]
  },
  {
   "cell_type": "code",
   "execution_count": 13,
   "metadata": {},
   "outputs": [
    {
     "data": {
      "text/html": [
       "<div><div style = \"float: left;\"><span>DataFrameRow (3 columns)</span></div><div style = \"clear: both;\"></div></div><div class = \"data-frame\" style = \"overflow-x: scroll;\"><table class = \"data-frame\" style = \"margin-bottom: 6px;\"><thead><tr class = \"header\"><th class = \"rowLabel\" style = \"font-weight: bold; text-align: right;\">Row</th><th style = \"text-align: left;\">JournalFullName</th><th style = \"text-align: left;\">ISSN</th><th style = \"text-align: left;\">2022</th></tr><tr class = \"subheader headerLastRow\"><th class = \"rowLabel\" style = \"font-weight: bold; text-align: right;\"></th><th title = \"String\" style = \"text-align: left;\">String</th><th title = \"String\" style = \"text-align: left;\">String</th><th title = \"Float64\" style = \"text-align: left;\">Float64</th></tr></thead><tbody><tr><td class = \"rowLabel\" style = \"font-weight: bold; text-align: right;\">876</td><td style = \"text-align: left;\">AMERASIA JOURNAL</td><td style = \"text-align: left;\">0044-7471</td><td style = \"text-align: right;\">0.4</td></tr></tbody></table></div>"
      ],
      "text/latex": [
       "\\begin{tabular}{r|ccc}\n",
       "\t& JournalFullName & ISSN & 2022\\\\\n",
       "\t\\hline\n",
       "\t& String & String & Float64\\\\\n",
       "\t\\hline\n",
       "\t876 & AMERASIA JOURNAL & 0044-7471 & 0.4 \\\\\n",
       "\\end{tabular}\n"
      ],
      "text/plain": [
       "\u001b[1mDataFrameRow\u001b[0m\n",
       "\u001b[1m Row \u001b[0m│\u001b[1m JournalFullName  \u001b[0m\u001b[1m ISSN      \u001b[0m\u001b[1m 2022    \u001b[0m\n",
       "     │\u001b[90m String           \u001b[0m\u001b[90m String    \u001b[0m\u001b[90m Float64 \u001b[0m\n",
       "─────┼──────────────────────────────────────\n",
       " 876 │ AMERASIA JOURNAL  0044-7471      0.4"
      ]
     },
     "metadata": {},
     "output_type": "display_data"
    }
   ],
   "source": [
    "rename!(ISI2022,:\"2022IF\" => :\"2022\")\n",
    "ISI2022.\"2022\" = replace(ISI2022.\"2022\", \"N/A\" => 0)\n",
    "ISI2022[876, :]"
   ]
  },
  {
   "cell_type": "code",
   "execution_count": 14,
   "metadata": {},
   "outputs": [
    {
     "data": {
      "text/html": [
       "<div><div style = \"float: left;\"><span>DataFrameRow (6 columns)</span></div><div style = \"clear: both;\"></div></div><div class = \"data-frame\" style = \"overflow-x: scroll;\"><table class = \"data-frame\" style = \"margin-bottom: 6px;\"><thead><tr class = \"header\"><th class = \"rowLabel\" style = \"font-weight: bold; text-align: right;\">Row</th><th style = \"text-align: left;\">Journal</th><th style = \"text-align: left;\">JournalFullName</th><th style = \"text-align: left;\">ISSN</th><th style = \"text-align: left;\">2020</th><th style = \"text-align: left;\">2021</th><th style = \"text-align: left;\">2022</th></tr><tr class = \"subheader headerLastRow\"><th class = \"rowLabel\" style = \"font-weight: bold; text-align: right;\"></th><th title = \"String31\" style = \"text-align: left;\">String31</th><th title = \"Union{Missing, String}\" style = \"text-align: left;\">String?</th><th title = \"Union{Missing, String15}\" style = \"text-align: left;\">String15?</th><th title = \"Float64\" style = \"text-align: left;\">Float64</th><th title = \"Float64\" style = \"text-align: left;\">Float64</th><th title = \"Float64\" style = \"text-align: left;\">Float64</th></tr></thead><tbody><tr><td class = \"rowLabel\" style = \"font-weight: bold; text-align: right;\">1</td><td style = \"text-align: left;\">ANNU REV BIOCHEM</td><td style = \"text-align: left;\">ANNUAL REVIEW OF BIOCHEMISTRY</td><td style = \"text-align: left;\">0066-4154</td><td style = \"text-align: right;\">12.328</td><td style = \"text-align: right;\">12.444</td><td style = \"text-align: right;\">12.444</td></tr></tbody></table></div>"
      ],
      "text/latex": [
       "\\begin{tabular}{r|cccccc}\n",
       "\t& Journal & JournalFullName & ISSN & 2020 & 2021 & 2022\\\\\n",
       "\t\\hline\n",
       "\t& String31 & String? & String15? & Float64 & Float64 & Float64\\\\\n",
       "\t\\hline\n",
       "\t1 & ANNU REV BIOCHEM & ANNUAL REVIEW OF BIOCHEMISTRY & 0066-4154 & 12.328 & 12.444 & 12.444 \\\\\n",
       "\\end{tabular}\n"
      ],
      "text/plain": [
       "\u001b[1mDataFrameRow\u001b[0m\n",
       "\u001b[1m Row \u001b[0m│\u001b[1m Journal          \u001b[0m\u001b[1m JournalFullName               \u001b[0m\u001b[1m ISSN      \u001b[0m\u001b[1m 2020    \u001b[0m\u001b[1m 20\u001b[0m ⋯\n",
       "     │\u001b[90m String31         \u001b[0m\u001b[90m String?                       \u001b[0m\u001b[90m String15? \u001b[0m\u001b[90m Float64 \u001b[0m\u001b[90m Fl\u001b[0m ⋯\n",
       "─────┼──────────────────────────────────────────────────────────────────────────\n",
       "   1 │ ANNU REV BIOCHEM  ANNUAL REVIEW OF BIOCHEMISTRY  0066-4154   12.328   1 ⋯\n",
       "\u001b[36m                                                               2 columns omitted\u001b[0m"
      ]
     },
     "metadata": {},
     "output_type": "display_data"
    }
   ],
   "source": [
    "AIS[1, [1, 2, 3, 27, 28, 29]]"
   ]
  },
  {
   "cell_type": "code",
   "execution_count": 15,
   "metadata": {},
   "outputs": [
    {
     "data": {
      "text/html": [
       "<div><div style = \"float: left;\"><span>DataFrameRow (3 columns)</span></div><div style = \"clear: both;\"></div></div><div class = \"data-frame\" style = \"overflow-x: scroll;\"><table class = \"data-frame\" style = \"margin-bottom: 6px;\"><thead><tr class = \"header\"><th class = \"rowLabel\" style = \"font-weight: bold; text-align: right;\">Row</th><th style = \"text-align: left;\">JournalFullName</th><th style = \"text-align: left;\">ISSN</th><th style = \"text-align: left;\">2022</th></tr><tr class = \"subheader headerLastRow\"><th class = \"rowLabel\" style = \"font-weight: bold; text-align: right;\"></th><th title = \"String\" style = \"text-align: left;\">String</th><th title = \"String\" style = \"text-align: left;\">String</th><th title = \"Float64\" style = \"text-align: left;\">Float64</th></tr></thead><tbody><tr><td class = \"rowLabel\" style = \"font-weight: bold; text-align: right;\">876</td><td style = \"text-align: left;\">AMERASIA JOURNAL</td><td style = \"text-align: left;\">0044-7471</td><td style = \"text-align: right;\">0.28</td></tr></tbody></table></div>"
      ],
      "text/latex": [
       "\\begin{tabular}{r|ccc}\n",
       "\t& JournalFullName & ISSN & 2022\\\\\n",
       "\t\\hline\n",
       "\t& String & String & Float64\\\\\n",
       "\t\\hline\n",
       "\t876 & AMERASIA JOURNAL & 0044-7471 & 0.28 \\\\\n",
       "\\end{tabular}\n"
      ],
      "text/plain": [
       "\u001b[1mDataFrameRow\u001b[0m\n",
       "\u001b[1m Row \u001b[0m│\u001b[1m JournalFullName  \u001b[0m\u001b[1m ISSN      \u001b[0m\u001b[1m 2022    \u001b[0m\n",
       "     │\u001b[90m String           \u001b[0m\u001b[90m String    \u001b[0m\u001b[90m Float64 \u001b[0m\n",
       "─────┼──────────────────────────────────────\n",
       " 876 │ AMERASIA JOURNAL  0044-7471     0.28"
      ]
     },
     "metadata": {},
     "output_type": "display_data"
    }
   ],
   "source": [
    "AIS2022[876, [1, 2, 3]]"
   ]
  },
  {
   "cell_type": "markdown",
   "metadata": {},
   "source": [
    "De aici incepe partea AIS ce poate fi repetata la IF"
   ]
  },
  {
   "cell_type": "code",
   "execution_count": 16,
   "metadata": {},
   "outputs": [
    {
     "data": {
      "text/html": [
       "<div><div style = \"float: left;\"><span>DataFrameRow (28 columns)</span></div><div style = \"clear: both;\"></div></div><div class = \"data-frame\" style = \"overflow-x: scroll;\"><table class = \"data-frame\" style = \"margin-bottom: 6px;\"><thead><tr class = \"header\"><th class = \"rowLabel\" style = \"font-weight: bold; text-align: right;\">Row</th><th style = \"text-align: left;\">Journal</th><th style = \"text-align: left;\">JournalFullName</th><th style = \"text-align: left;\">ISSN</th><th style = \"text-align: left;\">1997</th><th style = \"text-align: left;\">1998</th><th style = \"text-align: left;\">1999</th><th style = \"text-align: left;\">2000</th><th style = \"text-align: left;\">2001</th><th style = \"text-align: left;\">2002</th><th style = \"text-align: left;\">2003</th><th style = \"text-align: left;\">2004</th><th style = \"text-align: left;\">2005</th><th style = \"text-align: left;\">2006</th><th style = \"text-align: left;\">2007</th><th style = \"text-align: left;\">2008</th><th style = \"text-align: left;\">2009</th><th style = \"text-align: left;\">2010</th><th style = \"text-align: left;\">2011</th><th style = \"text-align: left;\">2012</th><th style = \"text-align: left;\">2013</th><th style = \"text-align: left;\">2014</th><th style = \"text-align: left;\">2015</th><th style = \"text-align: left;\">2016</th><th style = \"text-align: left;\">2017</th><th style = \"text-align: left;\">2018</th><th style = \"text-align: left;\">2019</th><th style = \"text-align: left;\">2020</th><th style = \"text-align: left;\">2021</th></tr><tr class = \"subheader headerLastRow\"><th class = \"rowLabel\" style = \"font-weight: bold; text-align: right;\"></th><th title = \"String31\" style = \"text-align: left;\">String31</th><th title = \"Union{Missing, String}\" style = \"text-align: left;\">String?</th><th title = \"String15\" style = \"text-align: left;\">String15</th><th title = \"Float64\" style = \"text-align: left;\">Float64</th><th title = \"Float64\" style = \"text-align: left;\">Float64</th><th title = \"Float64\" style = \"text-align: left;\">Float64</th><th title = \"Float64\" style = \"text-align: left;\">Float64</th><th title = \"Float64\" style = \"text-align: left;\">Float64</th><th title = \"Float64\" style = \"text-align: left;\">Float64</th><th title = \"Float64\" style = \"text-align: left;\">Float64</th><th title = \"Float64\" style = \"text-align: left;\">Float64</th><th title = \"Float64\" style = \"text-align: left;\">Float64</th><th title = \"Float64\" style = \"text-align: left;\">Float64</th><th title = \"Float64\" style = \"text-align: left;\">Float64</th><th title = \"Float64\" style = \"text-align: left;\">Float64</th><th title = \"Float64\" style = \"text-align: left;\">Float64</th><th title = \"Float64\" style = \"text-align: left;\">Float64</th><th title = \"Float64\" style = \"text-align: left;\">Float64</th><th title = \"Float64\" style = \"text-align: left;\">Float64</th><th title = \"Float64\" style = \"text-align: left;\">Float64</th><th title = \"Float64\" style = \"text-align: left;\">Float64</th><th title = \"Float64\" style = \"text-align: left;\">Float64</th><th title = \"Float64\" style = \"text-align: left;\">Float64</th><th title = \"Float64\" style = \"text-align: left;\">Float64</th><th title = \"Float64\" style = \"text-align: left;\">Float64</th><th title = \"Float64\" style = \"text-align: left;\">Float64</th><th title = \"Float64\" style = \"text-align: left;\">Float64</th><th title = \"Float64\" style = \"text-align: left;\">Float64</th></tr></thead><tbody><tr><td class = \"rowLabel\" style = \"font-weight: bold; text-align: right;\">1</td><td style = \"text-align: left;\">ANNU REV BIOCHEM</td><td style = \"text-align: left;\">ANNUAL REVIEW OF BIOCHEMISTRY</td><td style = \"text-align: left;\">0066-4154</td><td style = \"text-align: right;\">20.985</td><td style = \"text-align: right;\">20.985</td><td style = \"text-align: right;\">20.985</td><td style = \"text-align: right;\">20.985</td><td style = \"text-align: right;\">20.985</td><td style = \"text-align: right;\">20.985</td><td style = \"text-align: right;\">20.985</td><td style = \"text-align: right;\">20.985</td><td style = \"text-align: right;\">20.985</td><td style = \"text-align: right;\">20.985</td><td style = \"text-align: right;\">20.985</td><td style = \"text-align: right;\">20.891</td><td style = \"text-align: right;\">19.302</td><td style = \"text-align: right;\">20.037</td><td style = \"text-align: right;\">19.755</td><td style = \"text-align: right;\">17.412</td><td style = \"text-align: right;\">17.89</td><td style = \"text-align: right;\">16.865</td><td style = \"text-align: right;\">14.518</td><td style = \"text-align: right;\">14.034</td><td style = \"text-align: right;\">14.031</td><td style = \"text-align: right;\">12.193</td><td style = \"text-align: right;\">11.564</td><td style = \"text-align: right;\">12.328</td><td style = \"text-align: right;\">12.444</td></tr></tbody></table></div>"
      ],
      "text/latex": [
       "\\begin{tabular}{r|ccccccc}\n",
       "\t& Journal & JournalFullName & ISSN & 1997 & 1998 & 1999 & \\\\\n",
       "\t\\hline\n",
       "\t& String31 & String? & String15 & Float64 & Float64 & Float64 & \\\\\n",
       "\t\\hline\n",
       "\t1 & ANNU REV BIOCHEM & ANNUAL REVIEW OF BIOCHEMISTRY & 0066-4154 & 20.985 & 20.985 & 20.985 & $\\dots$ \\\\\n",
       "\\end{tabular}\n"
      ],
      "text/plain": [
       "\u001b[1mDataFrameRow\u001b[0m\n",
       "\u001b[1m Row \u001b[0m│\u001b[1m Journal          \u001b[0m\u001b[1m JournalFullName               \u001b[0m\u001b[1m ISSN      \u001b[0m\u001b[1m 1997    \u001b[0m\u001b[1m 19\u001b[0m ⋯\n",
       "     │\u001b[90m String31         \u001b[0m\u001b[90m String?                       \u001b[0m\u001b[90m String15  \u001b[0m\u001b[90m Float64 \u001b[0m\u001b[90m Fl\u001b[0m ⋯\n",
       "─────┼──────────────────────────────────────────────────────────────────────────\n",
       "   1 │ ANNU REV BIOCHEM  ANNUAL REVIEW OF BIOCHEMISTRY  0066-4154   20.985   2 ⋯\n",
       "\u001b[36m                                                              24 columns omitted\u001b[0m"
      ]
     },
     "metadata": {},
     "output_type": "display_data"
    }
   ],
   "source": [
    "AIS = select(AIS, Not([:\"2022\"]))\n",
    "AIS = dropmissing(AIS, :ISSN)\n",
    "AIS[1, :]"
   ]
  },
  {
   "cell_type": "code",
   "execution_count": 17,
   "metadata": {},
   "outputs": [],
   "source": [
    "#AIS = leftjoin(AIS, AIS2022; on=:\"Journal\", makeunique=true)\n",
    "AIS_new = outerjoin(AIS, AIS2022; on=:\"ISSN\", makeunique=true);"
   ]
  },
  {
   "cell_type": "markdown",
   "metadata": {},
   "source": [
    "Aici avem si reviste noi (ISSNuri noi) cu AIS pe ultimul an si nimic in rest"
   ]
  },
  {
   "cell_type": "code",
   "execution_count": 18,
   "metadata": {},
   "outputs": [],
   "source": [
    "for row in eachrow( AIS_new )\n",
    "    if ismissing(row[:JournalFullName])\n",
    "        row[:JournalFullName] = row[:JournalFullName_1]\n",
    "    end\n",
    "end\n",
    "AIS_new = select!(AIS_new, Not([:JournalFullName_1]));\n",
    "AIS_new.\"1997\" = replace(AIS_new.\"1997\", missing => 0)\n",
    "AIS_new.\"1998\" = replace(AIS_new.\"1998\", missing => 0)\n",
    "AIS_new.\"1999\" = replace(AIS_new.\"1999\", missing => 0)\n",
    "AIS_new.\"2000\" = replace(AIS_new.\"2000\", missing => 0)\n",
    "AIS_new.\"2001\" = replace(AIS_new.\"2001\", missing => 0)\n",
    "AIS_new.\"2002\" = replace(AIS_new.\"2002\", missing => 0)\n",
    "AIS_new.\"2003\" = replace(AIS_new.\"2003\", missing => 0)\n",
    "AIS_new.\"2004\" = replace(AIS_new.\"2004\", missing => 0)\n",
    "AIS_new.\"2005\" = replace(AIS_new.\"2005\", missing => 0)\n",
    "AIS_new.\"2006\" = replace(AIS_new.\"2006\", missing => 0)\n",
    "AIS_new.\"2007\" = replace(AIS_new.\"2007\", missing => 0)\n",
    "AIS_new.\"2008\" = replace(AIS_new.\"2008\", missing => 0)\n",
    "AIS_new.\"2009\" = replace(AIS_new.\"2009\", missing => 0)\n",
    "AIS_new.\"2010\" = replace(AIS_new.\"2010\", missing => 0)\n",
    "AIS_new.\"2011\" = replace(AIS_new.\"2011\", missing => 0)\n",
    "AIS_new.\"2012\" = replace(AIS_new.\"2012\", missing => 0)\n",
    "AIS_new.\"2013\" = replace(AIS_new.\"2013\", missing => 0)\n",
    "AIS_new.\"2014\" = replace(AIS_new.\"2014\", missing => 0)\n",
    "AIS_new.\"2015\" = replace(AIS_new.\"2015\", missing => 0)\n",
    "AIS_new.\"2016\" = replace(AIS_new.\"2016\", missing => 0)\n",
    "AIS_new.\"2017\" = replace(AIS_new.\"2017\", missing => 0)\n",
    "AIS_new.\"2018\" = replace(AIS_new.\"2018\", missing => 0)\n",
    "AIS_new.\"2019\" = replace(AIS_new.\"2019\", missing => 0)\n",
    "AIS_new.\"2020\" = replace(AIS_new.\"2020\", missing => 0)\n",
    "AIS_new.\"2021\" = replace(AIS_new.\"2021\", missing => 0)\n",
    "AIS_new.\"2022\" = replace(AIS_new.\"2022\", missing => 0);"
   ]
  },
  {
   "cell_type": "code",
   "execution_count": 19,
   "metadata": {},
   "outputs": [],
   "source": [
    "insertcols!(AIS_new, :\"2023\" => AIS_new.\"2022\");"
   ]
  },
  {
   "cell_type": "markdown",
   "metadata": {},
   "source": [
    "Aceleasi lucruri pentru IF"
   ]
  },
  {
   "cell_type": "code",
   "execution_count": 20,
   "metadata": {},
   "outputs": [
    {
     "data": {
      "text/html": [
       "<div><div style = \"float: left;\"><span>DataFrameRow (28 columns)</span></div><div style = \"clear: both;\"></div></div><div class = \"data-frame\" style = \"overflow-x: scroll;\"><table class = \"data-frame\" style = \"margin-bottom: 6px;\"><thead><tr class = \"header\"><th class = \"rowLabel\" style = \"font-weight: bold; text-align: right;\">Row</th><th style = \"text-align: left;\">Journal</th><th style = \"text-align: left;\">JournalFullName</th><th style = \"text-align: left;\">ISSN</th><th style = \"text-align: left;\">1997</th><th style = \"text-align: left;\">1998</th><th style = \"text-align: left;\">1999</th><th style = \"text-align: left;\">2000</th><th style = \"text-align: left;\">2001</th><th style = \"text-align: left;\">2002</th><th style = \"text-align: left;\">2003</th><th style = \"text-align: left;\">2004</th><th style = \"text-align: left;\">2005</th><th style = \"text-align: left;\">2006</th><th style = \"text-align: left;\">2007</th><th style = \"text-align: left;\">2008</th><th style = \"text-align: left;\">2009</th><th style = \"text-align: left;\">2010</th><th style = \"text-align: left;\">2011</th><th style = \"text-align: left;\">2012</th><th style = \"text-align: left;\">2013</th><th style = \"text-align: left;\">2014</th><th style = \"text-align: left;\">2015</th><th style = \"text-align: left;\">2016</th><th style = \"text-align: left;\">2017</th><th style = \"text-align: left;\">2018</th><th style = \"text-align: left;\">2019</th><th style = \"text-align: left;\">2020</th><th style = \"text-align: left;\">2021</th></tr><tr class = \"subheader headerLastRow\"><th class = \"rowLabel\" style = \"font-weight: bold; text-align: right;\"></th><th title = \"String31\" style = \"text-align: left;\">String31</th><th title = \"Union{Missing, String}\" style = \"text-align: left;\">String?</th><th title = \"String15\" style = \"text-align: left;\">String15</th><th title = \"Float64\" style = \"text-align: left;\">Float64</th><th title = \"Float64\" style = \"text-align: left;\">Float64</th><th title = \"Float64\" style = \"text-align: left;\">Float64</th><th title = \"Float64\" style = \"text-align: left;\">Float64</th><th title = \"Float64\" style = \"text-align: left;\">Float64</th><th title = \"Float64\" style = \"text-align: left;\">Float64</th><th title = \"Float64\" style = \"text-align: left;\">Float64</th><th title = \"Float64\" style = \"text-align: left;\">Float64</th><th title = \"Float64\" style = \"text-align: left;\">Float64</th><th title = \"Float64\" style = \"text-align: left;\">Float64</th><th title = \"Float64\" style = \"text-align: left;\">Float64</th><th title = \"Float64\" style = \"text-align: left;\">Float64</th><th title = \"Float64\" style = \"text-align: left;\">Float64</th><th title = \"Float64\" style = \"text-align: left;\">Float64</th><th title = \"Float64\" style = \"text-align: left;\">Float64</th><th title = \"Float64\" style = \"text-align: left;\">Float64</th><th title = \"Float64\" style = \"text-align: left;\">Float64</th><th title = \"Float64\" style = \"text-align: left;\">Float64</th><th title = \"Float64\" style = \"text-align: left;\">Float64</th><th title = \"Float64\" style = \"text-align: left;\">Float64</th><th title = \"Float64\" style = \"text-align: left;\">Float64</th><th title = \"Float64\" style = \"text-align: left;\">Float64</th><th title = \"Float64\" style = \"text-align: left;\">Float64</th><th title = \"Float64\" style = \"text-align: left;\">Float64</th><th title = \"Float64\" style = \"text-align: left;\">Float64</th></tr></thead><tbody><tr><td class = \"rowLabel\" style = \"font-weight: bold; text-align: right;\">1</td><td style = \"text-align: left;\">ANNU REV BIOCHEM</td><td style = \"text-align: left;\">ANNUAL REVIEW OF BIOCHEMISTRY</td><td style = \"text-align: left;\">0066-4154</td><td style = \"text-align: right;\">40.782</td><td style = \"text-align: right;\">39.0</td><td style = \"text-align: right;\">37.111</td><td style = \"text-align: right;\">43.429</td><td style = \"text-align: right;\">31.639</td><td style = \"text-align: right;\">36.278</td><td style = \"text-align: right;\">37.647</td><td style = \"text-align: right;\">31.538</td><td style = \"text-align: right;\">33.456</td><td style = \"text-align: right;\">36.525</td><td style = \"text-align: right;\">31.19</td><td style = \"text-align: right;\">30.016</td><td style = \"text-align: right;\">29.875</td><td style = \"text-align: right;\">29.742</td><td style = \"text-align: right;\">34.317</td><td style = \"text-align: right;\">27.681</td><td style = \"text-align: right;\">26.534</td><td style = \"text-align: right;\">30.283</td><td style = \"text-align: right;\">21.407</td><td style = \"text-align: right;\">19.939</td><td style = \"text-align: right;\">20.154</td><td style = \"text-align: right;\">26.922</td><td style = \"text-align: right;\">25.787</td><td style = \"text-align: right;\">23.643</td><td style = \"text-align: right;\">27.258</td></tr></tbody></table></div>"
      ],
      "text/latex": [
       "\\begin{tabular}{r|ccccccc}\n",
       "\t& Journal & JournalFullName & ISSN & 1997 & 1998 & 1999 & \\\\\n",
       "\t\\hline\n",
       "\t& String31 & String? & String15 & Float64 & Float64 & Float64 & \\\\\n",
       "\t\\hline\n",
       "\t1 & ANNU REV BIOCHEM & ANNUAL REVIEW OF BIOCHEMISTRY & 0066-4154 & 40.782 & 39.0 & 37.111 & $\\dots$ \\\\\n",
       "\\end{tabular}\n"
      ],
      "text/plain": [
       "\u001b[1mDataFrameRow\u001b[0m\n",
       "\u001b[1m Row \u001b[0m│\u001b[1m Journal          \u001b[0m\u001b[1m JournalFullName               \u001b[0m\u001b[1m ISSN      \u001b[0m\u001b[1m 1997    \u001b[0m\u001b[1m 19\u001b[0m ⋯\n",
       "     │\u001b[90m String31         \u001b[0m\u001b[90m String?                       \u001b[0m\u001b[90m String15  \u001b[0m\u001b[90m Float64 \u001b[0m\u001b[90m Fl\u001b[0m ⋯\n",
       "─────┼──────────────────────────────────────────────────────────────────────────\n",
       "   1 │ ANNU REV BIOCHEM  ANNUAL REVIEW OF BIOCHEMISTRY  0066-4154   40.782     ⋯\n",
       "\u001b[36m                                                              24 columns omitted\u001b[0m"
      ]
     },
     "metadata": {},
     "output_type": "display_data"
    }
   ],
   "source": [
    "ISI = select(ISI, Not([:\"2022\"]))\n",
    "ISI = dropmissing(ISI, :ISSN)\n",
    "ISI[1, :]"
   ]
  },
  {
   "cell_type": "code",
   "execution_count": 21,
   "metadata": {},
   "outputs": [],
   "source": [
    "ISI_new = outerjoin(ISI, ISI2022; on=:\"ISSN\", makeunique=true);"
   ]
  },
  {
   "cell_type": "code",
   "execution_count": 22,
   "metadata": {},
   "outputs": [],
   "source": [
    "for row in eachrow( ISI_new )\n",
    "    if ismissing(row[:JournalFullName])\n",
    "        row[:JournalFullName] = row[:JournalFullName_1]\n",
    "    end\n",
    "end\n",
    "ISI_new = select!(ISI_new, Not([:JournalFullName_1]));\n",
    "ISI_new.\"1997\" = replace(ISI_new.\"1997\", missing => 0)\n",
    "ISI_new.\"1998\" = replace(ISI_new.\"1998\", missing => 0)\n",
    "ISI_new.\"1999\" = replace(ISI_new.\"1999\", missing => 0)\n",
    "ISI_new.\"2000\" = replace(ISI_new.\"2000\", missing => 0)\n",
    "ISI_new.\"2001\" = replace(ISI_new.\"2001\", missing => 0)\n",
    "ISI_new.\"2002\" = replace(ISI_new.\"2002\", missing => 0)\n",
    "ISI_new.\"2003\" = replace(ISI_new.\"2003\", missing => 0)\n",
    "ISI_new.\"2004\" = replace(ISI_new.\"2004\", missing => 0)\n",
    "ISI_new.\"2005\" = replace(ISI_new.\"2005\", missing => 0)\n",
    "ISI_new.\"2006\" = replace(ISI_new.\"2006\", missing => 0)\n",
    "ISI_new.\"2007\" = replace(ISI_new.\"2007\", missing => 0)\n",
    "ISI_new.\"2008\" = replace(ISI_new.\"2008\", missing => 0)\n",
    "ISI_new.\"2009\" = replace(ISI_new.\"2009\", missing => 0)\n",
    "ISI_new.\"2010\" = replace(ISI_new.\"2010\", missing => 0)\n",
    "ISI_new.\"2011\" = replace(ISI_new.\"2011\", missing => 0)\n",
    "ISI_new.\"2012\" = replace(ISI_new.\"2012\", missing => 0)\n",
    "ISI_new.\"2013\" = replace(ISI_new.\"2013\", missing => 0)\n",
    "ISI_new.\"2014\" = replace(ISI_new.\"2014\", missing => 0)\n",
    "ISI_new.\"2015\" = replace(ISI_new.\"2015\", missing => 0)\n",
    "ISI_new.\"2016\" = replace(ISI_new.\"2016\", missing => 0)\n",
    "ISI_new.\"2017\" = replace(ISI_new.\"2017\", missing => 0)\n",
    "ISI_new.\"2018\" = replace(ISI_new.\"2018\", missing => 0)\n",
    "ISI_new.\"2019\" = replace(ISI_new.\"2019\", missing => 0)\n",
    "ISI_new.\"2020\" = replace(ISI_new.\"2020\", missing => 0)\n",
    "ISI_new.\"2021\" = replace(ISI_new.\"2021\", missing => 0)\n",
    "ISI_new.\"2022\" = replace(ISI_new.\"2022\", missing => 0);"
   ]
  },
  {
   "cell_type": "code",
   "execution_count": 23,
   "metadata": {},
   "outputs": [],
   "source": [
    "insertcols!(ISI_new, :\"2023\" => ISI_new.\"2022\");"
   ]
  },
  {
   "cell_type": "code",
   "execution_count": 25,
   "metadata": {},
   "outputs": [
    {
     "data": {
      "text/plain": [
       "\"/home/lali/TITAN-ROG-sync/julia/ISI/IF_factor_full_1997-2023_plus.txt\""
      ]
     },
     "metadata": {},
     "output_type": "display_data"
    }
   ],
   "source": [
    "root = dirname(@__FILE__)\n",
    "outputAIS = joinpath(root, \"AI_factor_full_1997-2023_plus.txt\")\n",
    "CSV.write(outputAIS, AIS_new; delim='\\t')\n",
    "outputISI = joinpath(root, \"IF_factor_full_1997-2023_plus.txt\")\n",
    "CSV.write(outputISI, ISI_new; delim='\\t')"
   ]
  },
  {
   "cell_type": "code",
   "execution_count": null,
   "metadata": {},
   "outputs": [],
   "source": []
  }
 ],
 "metadata": {
  "kernelspec": {
   "display_name": "Julia 1.10.0",
   "language": "julia",
   "name": "julia-1.10"
  },
  "language_info": {
   "file_extension": ".jl",
   "mimetype": "application/julia",
   "name": "julia",
   "version": "1.10.0"
  },
  "orig_nbformat": 4
 },
 "nbformat": 4,
 "nbformat_minor": 2
}
