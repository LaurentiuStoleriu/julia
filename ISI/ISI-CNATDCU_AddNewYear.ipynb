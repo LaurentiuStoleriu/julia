{
 "cells": [
  {
   "cell_type": "code",
   "execution_count": 1,
   "metadata": {},
   "outputs": [],
   "source": [
    "using CSV, DataFrames"
   ]
  },
  {
   "cell_type": "code",
   "execution_count": 2,
   "metadata": {},
   "outputs": [
    {
     "data": {
      "text/plain": [
       "\"/home/lali/TITAN-ROG-sync/julia/ISI/AI_factor_full_1997-2022.txt\""
      ]
     },
     "metadata": {},
     "output_type": "display_data"
    }
   ],
   "source": [
    "root = dirname(@__FILE__)\n",
    "#inputAIS = joinpath(root, \"AI_factor_full.txt\")\n",
    "inputAIS = joinpath(root, \"AI_factor_full_1997-2022.txt\")"
   ]
  },
  {
   "cell_type": "code",
   "execution_count": 3,
   "metadata": {},
   "outputs": [],
   "source": [
    "AIS = CSV.read(inputAIS, DataFrame)\n",
    "eltype.(eachcol(AIS));"
   ]
  },
  {
   "cell_type": "code",
   "execution_count": 4,
   "metadata": {},
   "outputs": [],
   "source": [
    "#VSCodeServer.vscodedisplay(AIS)"
   ]
  },
  {
   "cell_type": "code",
   "execution_count": 5,
   "metadata": {},
   "outputs": [
    {
     "data": {
      "text/plain": [
       "\"/home/lali/TITAN-ROG-sync/julia/ISI/IF_factor_full_1997-2022.txt\""
      ]
     },
     "metadata": {},
     "output_type": "display_data"
    }
   ],
   "source": [
    "root = dirname(@__FILE__)\n",
    "#inputISI = joinpath(root, \"IF_factor_full.txt\")\n",
    "inputISI = joinpath(root, \"IF_factor_full_1997-2022.txt\")"
   ]
  },
  {
   "cell_type": "code",
   "execution_count": 6,
   "metadata": {},
   "outputs": [],
   "source": [
    "ISI = CSV.read(inputISI, DataFrame)\n",
    "eltype.(eachcol(ISI));"
   ]
  },
  {
   "cell_type": "code",
   "execution_count": 7,
   "metadata": {},
   "outputs": [],
   "source": [
    "#VSCodeServer.vscodedisplay(ISI)"
   ]
  },
  {
   "cell_type": "code",
   "execution_count": 9,
   "metadata": {},
   "outputs": [
    {
     "data": {
      "text/html": [
       "<div><div style = \"float: left;\"><span>DataFrameRow (5 columns)</span></div><div style = \"clear: both;\"></div></div><div class = \"data-frame\" style = \"overflow-x: scroll;\"><table class = \"data-frame\" style = \"margin-bottom: 6px;\"><thead><tr class = \"header\"><th class = \"rowLabel\" style = \"font-weight: bold; text-align: right;\">Row</th><th style = \"text-align: left;\">Journal</th><th style = \"text-align: left;\">1997</th><th style = \"text-align: left;\">2020</th><th style = \"text-align: left;\">2021</th><th style = \"text-align: left;\">2022</th></tr><tr class = \"subheader headerLastRow\"><th class = \"rowLabel\" style = \"font-weight: bold; text-align: right;\"></th><th title = \"String31\" style = \"text-align: left;\">String31</th><th title = \"Float64\" style = \"text-align: left;\">Float64</th><th title = \"Float64\" style = \"text-align: left;\">Float64</th><th title = \"Float64\" style = \"text-align: left;\">Float64</th><th title = \"Float64\" style = \"text-align: left;\">Float64</th></tr></thead><tbody><tr><td class = \"rowLabel\" style = \"font-weight: bold; text-align: right;\">1</td><td style = \"text-align: left;\">ANNU REV BIOCHEM</td><td style = \"text-align: right;\">20.985</td><td style = \"text-align: right;\">12.328</td><td style = \"text-align: right;\">12.444</td><td style = \"text-align: right;\">12.444</td></tr></tbody></table></div>"
      ],
      "text/latex": [
       "\\begin{tabular}{r|ccccc}\n",
       "\t& Journal & 1997 & 2020 & 2021 & 2022\\\\\n",
       "\t\\hline\n",
       "\t& String31 & Float64 & Float64 & Float64 & Float64\\\\\n",
       "\t\\hline\n",
       "\t1 & ANNU REV BIOCHEM & 20.985 & 12.328 & 12.444 & 12.444 \\\\\n",
       "\\end{tabular}\n"
      ],
      "text/plain": [
       "\u001b[1mDataFrameRow\u001b[0m\n",
       "\u001b[1m Row \u001b[0m│\u001b[1m Journal          \u001b[0m\u001b[1m 1997    \u001b[0m\u001b[1m 2020    \u001b[0m\u001b[1m 2021    \u001b[0m\u001b[1m 2022    \u001b[0m\n",
       "     │\u001b[90m String31         \u001b[0m\u001b[90m Float64 \u001b[0m\u001b[90m Float64 \u001b[0m\u001b[90m Float64 \u001b[0m\u001b[90m Float64 \u001b[0m\n",
       "─────┼──────────────────────────────────────────────────────\n",
       "   1 │ ANNU REV BIOCHEM   20.985   12.328   12.444   12.444"
      ]
     },
     "metadata": {},
     "output_type": "display_data"
    }
   ],
   "source": [
    "AIS[1, [1, 2, 25, 26, 27]]"
   ]
  },
  {
   "cell_type": "code",
   "execution_count": 10,
   "metadata": {},
   "outputs": [
    {
     "data": {
      "text/html": [
       "<div><div style = \"float: left;\"><span>DataFrameRow (5 columns)</span></div><div style = \"clear: both;\"></div></div><div class = \"data-frame\" style = \"overflow-x: scroll;\"><table class = \"data-frame\" style = \"margin-bottom: 6px;\"><thead><tr class = \"header\"><th class = \"rowLabel\" style = \"font-weight: bold; text-align: right;\">Row</th><th style = \"text-align: left;\">Journal</th><th style = \"text-align: left;\">1997</th><th style = \"text-align: left;\">2020</th><th style = \"text-align: left;\">2021</th><th style = \"text-align: left;\">2022</th></tr><tr class = \"subheader headerLastRow\"><th class = \"rowLabel\" style = \"font-weight: bold; text-align: right;\"></th><th title = \"String31\" style = \"text-align: left;\">String31</th><th title = \"Float64\" style = \"text-align: left;\">Float64</th><th title = \"Float64\" style = \"text-align: left;\">Float64</th><th title = \"Float64\" style = \"text-align: left;\">Float64</th><th title = \"Float64\" style = \"text-align: left;\">Float64</th></tr></thead><tbody><tr><td class = \"rowLabel\" style = \"font-weight: bold; text-align: right;\">1</td><td style = \"text-align: left;\">ANNU REV BIOCHEM</td><td style = \"text-align: right;\">40.782</td><td style = \"text-align: right;\">23.643</td><td style = \"text-align: right;\">27.258</td><td style = \"text-align: right;\">27.258</td></tr></tbody></table></div>"
      ],
      "text/latex": [
       "\\begin{tabular}{r|ccccc}\n",
       "\t& Journal & 1997 & 2020 & 2021 & 2022\\\\\n",
       "\t\\hline\n",
       "\t& String31 & Float64 & Float64 & Float64 & Float64\\\\\n",
       "\t\\hline\n",
       "\t1 & ANNU REV BIOCHEM & 40.782 & 23.643 & 27.258 & 27.258 \\\\\n",
       "\\end{tabular}\n"
      ],
      "text/plain": [
       "\u001b[1mDataFrameRow\u001b[0m\n",
       "\u001b[1m Row \u001b[0m│\u001b[1m Journal          \u001b[0m\u001b[1m 1997    \u001b[0m\u001b[1m 2020    \u001b[0m\u001b[1m 2021    \u001b[0m\u001b[1m 2022    \u001b[0m\n",
       "     │\u001b[90m String31         \u001b[0m\u001b[90m Float64 \u001b[0m\u001b[90m Float64 \u001b[0m\u001b[90m Float64 \u001b[0m\u001b[90m Float64 \u001b[0m\n",
       "─────┼──────────────────────────────────────────────────────\n",
       "   1 │ ANNU REV BIOCHEM   40.782   23.643   27.258   27.258"
      ]
     },
     "metadata": {},
     "output_type": "display_data"
    }
   ],
   "source": [
    "ISI[1, [1, 2, 25, 26, 27]]"
   ]
  },
  {
   "cell_type": "code",
   "execution_count": 11,
   "metadata": {},
   "outputs": [],
   "source": [
    "root = dirname(@__FILE__)\n",
    "inputAIS = joinpath(root, \"ISI_Journal_Citation_Report_2022_prepared.csv\")\n",
    "AIS2022 = CSV.read(inputAIS, DataFrame; header=true, missingstring=[\"Not Available\",\"\"]);\n"
   ]
  },
  {
   "cell_type": "code",
   "execution_count": 12,
   "metadata": {},
   "outputs": [
    {
     "data": {
      "text/plain": [
       "6-element Vector{DataType}:\n",
       " String\n",
       " String31\n",
       " String15\n",
       " String15\n",
       " Float64\n",
       " Float64"
      ]
     },
     "metadata": {},
     "output_type": "display_data"
    }
   ],
   "source": [
    "AIS2022.\"2022AI\" = replace(AIS2022.\"2022AI\", missing => 0)\n",
    "AIS2022.\"2022IF\" = replace(AIS2022.\"2022IF\", missing => 0)\n",
    "eltype.(eachcol(AIS2022))"
   ]
  },
  {
   "cell_type": "code",
   "execution_count": 13,
   "metadata": {},
   "outputs": [
    {
     "data": {
      "text/html": [
       "<div><div style = \"float: left;\"><span>DataFrameRow (5 columns)</span></div><div style = \"clear: both;\"></div></div><div class = \"data-frame\" style = \"overflow-x: scroll;\"><table class = \"data-frame\" style = \"margin-bottom: 6px;\"><thead><tr class = \"header\"><th class = \"rowLabel\" style = \"font-weight: bold; text-align: right;\">Row</th><th style = \"text-align: left;\">JournalFullName</th><th style = \"text-align: left;\">Journal</th><th style = \"text-align: left;\">ISSN</th><th style = \"text-align: left;\">eISSN</th><th style = \"text-align: left;\">2022</th></tr><tr class = \"subheader headerLastRow\"><th class = \"rowLabel\" style = \"font-weight: bold; text-align: right;\"></th><th title = \"String\" style = \"text-align: left;\">String</th><th title = \"String31\" style = \"text-align: left;\">String31</th><th title = \"String15\" style = \"text-align: left;\">String15</th><th title = \"String15\" style = \"text-align: left;\">String15</th><th title = \"Float64\" style = \"text-align: left;\">Float64</th></tr></thead><tbody><tr><td class = \"rowLabel\" style = \"font-weight: bold; text-align: right;\">876</td><td style = \"text-align: left;\">APPLIED MATHEMATICS AND COMPUTATION</td><td style = \"text-align: left;\">APPL MATH COMPUT</td><td style = \"text-align: left;\">0096-3003</td><td style = \"text-align: left;\">1873-5649</td><td style = \"text-align: right;\">0.824</td></tr></tbody></table></div>"
      ],
      "text/latex": [
       "\\begin{tabular}{r|ccccc}\n",
       "\t& JournalFullName & Journal & ISSN & eISSN & 2022\\\\\n",
       "\t\\hline\n",
       "\t& String & String31 & String15 & String15 & Float64\\\\\n",
       "\t\\hline\n",
       "\t876 & APPLIED MATHEMATICS AND COMPUTATION & APPL MATH COMPUT & 0096-3003 & 1873-5649 & 0.824 \\\\\n",
       "\\end{tabular}\n"
      ],
      "text/plain": [
       "\u001b[1mDataFrameRow\u001b[0m\n",
       "\u001b[1m Row \u001b[0m│\u001b[1m JournalFullName                   \u001b[0m\u001b[1m Journal          \u001b[0m\u001b[1m ISSN      \u001b[0m\u001b[1m eISSN  \u001b[0m ⋯\n",
       "     │\u001b[90m String                            \u001b[0m\u001b[90m String31         \u001b[0m\u001b[90m String15  \u001b[0m\u001b[90m String1\u001b[0m ⋯\n",
       "─────┼──────────────────────────────────────────────────────────────────────────\n",
       " 876 │ APPLIED MATHEMATICS AND COMPUTAT…  APPL MATH COMPUT  0096-3003  1873-56 ⋯\n",
       "\u001b[36m                                                               2 columns omitted\u001b[0m"
      ]
     },
     "metadata": {},
     "output_type": "display_data"
    }
   ],
   "source": [
    "ISI2022 = AIS2022[!, [1, 2, 3, 4, 5]]\n",
    "AIS2022 = AIS2022[!, [1, 2, 3, 4, 6]]\n",
    "\n",
    "rename!(AIS2022,:\"2022AI\" => :\"2022\")\n",
    "AIS2022.\"2022\" = replace(AIS2022.\"2022\", \"N/A\" => 0)\n",
    "AIS2022[876, :]"
   ]
  },
  {
   "cell_type": "code",
   "execution_count": 14,
   "metadata": {},
   "outputs": [
    {
     "data": {
      "text/html": [
       "<div><div style = \"float: left;\"><span>DataFrameRow (5 columns)</span></div><div style = \"clear: both;\"></div></div><div class = \"data-frame\" style = \"overflow-x: scroll;\"><table class = \"data-frame\" style = \"margin-bottom: 6px;\"><thead><tr class = \"header\"><th class = \"rowLabel\" style = \"font-weight: bold; text-align: right;\">Row</th><th style = \"text-align: left;\">JournalFullName</th><th style = \"text-align: left;\">Journal</th><th style = \"text-align: left;\">ISSN</th><th style = \"text-align: left;\">eISSN</th><th style = \"text-align: left;\">2022</th></tr><tr class = \"subheader headerLastRow\"><th class = \"rowLabel\" style = \"font-weight: bold; text-align: right;\"></th><th title = \"String\" style = \"text-align: left;\">String</th><th title = \"String31\" style = \"text-align: left;\">String31</th><th title = \"String15\" style = \"text-align: left;\">String15</th><th title = \"String15\" style = \"text-align: left;\">String15</th><th title = \"Float64\" style = \"text-align: left;\">Float64</th></tr></thead><tbody><tr><td class = \"rowLabel\" style = \"font-weight: bold; text-align: right;\">876</td><td style = \"text-align: left;\">APPLIED MATHEMATICS AND COMPUTATION</td><td style = \"text-align: left;\">APPL MATH COMPUT</td><td style = \"text-align: left;\">0096-3003</td><td style = \"text-align: left;\">1873-5649</td><td style = \"text-align: right;\">4.0</td></tr></tbody></table></div>"
      ],
      "text/latex": [
       "\\begin{tabular}{r|ccccc}\n",
       "\t& JournalFullName & Journal & ISSN & eISSN & 2022\\\\\n",
       "\t\\hline\n",
       "\t& String & String31 & String15 & String15 & Float64\\\\\n",
       "\t\\hline\n",
       "\t876 & APPLIED MATHEMATICS AND COMPUTATION & APPL MATH COMPUT & 0096-3003 & 1873-5649 & 4.0 \\\\\n",
       "\\end{tabular}\n"
      ],
      "text/plain": [
       "\u001b[1mDataFrameRow\u001b[0m\n",
       "\u001b[1m Row \u001b[0m│\u001b[1m JournalFullName                   \u001b[0m\u001b[1m Journal          \u001b[0m\u001b[1m ISSN      \u001b[0m\u001b[1m eISSN  \u001b[0m ⋯\n",
       "     │\u001b[90m String                            \u001b[0m\u001b[90m String31         \u001b[0m\u001b[90m String15  \u001b[0m\u001b[90m String1\u001b[0m ⋯\n",
       "─────┼──────────────────────────────────────────────────────────────────────────\n",
       " 876 │ APPLIED MATHEMATICS AND COMPUTAT…  APPL MATH COMPUT  0096-3003  1873-56 ⋯\n",
       "\u001b[36m                                                               2 columns omitted\u001b[0m"
      ]
     },
     "metadata": {},
     "output_type": "display_data"
    }
   ],
   "source": [
    "rename!(ISI2022,:\"2022IF\" => :\"2022\")\n",
    "ISI2022.\"2022\" = replace(ISI2022.\"2022\", \"N/A\" => 0)\n",
    "ISI2022[876, :]"
   ]
  },
  {
   "cell_type": "code",
   "execution_count": 15,
   "metadata": {},
   "outputs": [
    {
     "data": {
      "text/html": [
       "<div><div style = \"float: left;\"><span>DataFrameRow (7 columns)</span></div><div style = \"clear: both;\"></div></div><div class = \"data-frame\" style = \"overflow-x: scroll;\"><table class = \"data-frame\" style = \"margin-bottom: 6px;\"><thead><tr class = \"header\"><th class = \"rowLabel\" style = \"font-weight: bold; text-align: right;\">Row</th><th style = \"text-align: left;\">Journal</th><th style = \"text-align: left;\">1997</th><th style = \"text-align: left;\">2018</th><th style = \"text-align: left;\">2019</th><th style = \"text-align: left;\">2020</th><th style = \"text-align: left;\">2021</th><th style = \"text-align: left;\">2022</th></tr><tr class = \"subheader headerLastRow\"><th class = \"rowLabel\" style = \"font-weight: bold; text-align: right;\"></th><th title = \"String31\" style = \"text-align: left;\">String31</th><th title = \"Float64\" style = \"text-align: left;\">Float64</th><th title = \"Float64\" style = \"text-align: left;\">Float64</th><th title = \"Float64\" style = \"text-align: left;\">Float64</th><th title = \"Float64\" style = \"text-align: left;\">Float64</th><th title = \"Float64\" style = \"text-align: left;\">Float64</th><th title = \"Float64\" style = \"text-align: left;\">Float64</th></tr></thead><tbody><tr><td class = \"rowLabel\" style = \"font-weight: bold; text-align: right;\">1</td><td style = \"text-align: left;\">ANNU REV BIOCHEM</td><td style = \"text-align: right;\">20.985</td><td style = \"text-align: right;\">12.193</td><td style = \"text-align: right;\">11.564</td><td style = \"text-align: right;\">12.328</td><td style = \"text-align: right;\">12.444</td><td style = \"text-align: right;\">12.444</td></tr></tbody></table></div>"
      ],
      "text/latex": [
       "\\begin{tabular}{r|ccccccc}\n",
       "\t& Journal & 1997 & 2018 & 2019 & 2020 & 2021 & 2022\\\\\n",
       "\t\\hline\n",
       "\t& String31 & Float64 & Float64 & Float64 & Float64 & Float64 & Float64\\\\\n",
       "\t\\hline\n",
       "\t1 & ANNU REV BIOCHEM & 20.985 & 12.193 & 11.564 & 12.328 & 12.444 & 12.444 \\\\\n",
       "\\end{tabular}\n"
      ],
      "text/plain": [
       "\u001b[1mDataFrameRow\u001b[0m\n",
       "\u001b[1m Row \u001b[0m│\u001b[1m Journal          \u001b[0m\u001b[1m 1997    \u001b[0m\u001b[1m 2018    \u001b[0m\u001b[1m 2019    \u001b[0m\u001b[1m 2020    \u001b[0m\u001b[1m 2021    \u001b[0m\u001b[1m 2022    \u001b[0m\n",
       "     │\u001b[90m String31         \u001b[0m\u001b[90m Float64 \u001b[0m\u001b[90m Float64 \u001b[0m\u001b[90m Float64 \u001b[0m\u001b[90m Float64 \u001b[0m\u001b[90m Float64 \u001b[0m\u001b[90m Float64 \u001b[0m\n",
       "─────┼────────────────────────────────────────────────────────────────────────\n",
       "   1 │ ANNU REV BIOCHEM   20.985   12.193   11.564   12.328   12.444   12.444"
      ]
     },
     "metadata": {},
     "output_type": "display_data"
    }
   ],
   "source": [
    "AIS[1, [1, 2, 23, 24, 25, 26, 27]]"
   ]
  },
  {
   "cell_type": "code",
   "execution_count": 19,
   "metadata": {},
   "outputs": [
    {
     "data": {
      "text/html": [
       "<div><div style = \"float: left;\"><span>DataFrameRow (5 columns)</span></div><div style = \"clear: both;\"></div></div><div class = \"data-frame\" style = \"overflow-x: scroll;\"><table class = \"data-frame\" style = \"margin-bottom: 6px;\"><thead><tr class = \"header\"><th class = \"rowLabel\" style = \"font-weight: bold; text-align: right;\">Row</th><th style = \"text-align: left;\">JournalFullName</th><th style = \"text-align: left;\">Journal</th><th style = \"text-align: left;\">ISSN</th><th style = \"text-align: left;\">eISSN</th><th style = \"text-align: left;\">2022</th></tr><tr class = \"subheader headerLastRow\"><th class = \"rowLabel\" style = \"font-weight: bold; text-align: right;\"></th><th title = \"String\" style = \"text-align: left;\">String</th><th title = \"String31\" style = \"text-align: left;\">String31</th><th title = \"String15\" style = \"text-align: left;\">String15</th><th title = \"String15\" style = \"text-align: left;\">String15</th><th title = \"Float64\" style = \"text-align: left;\">Float64</th></tr></thead><tbody><tr><td class = \"rowLabel\" style = \"font-weight: bold; text-align: right;\">876</td><td style = \"text-align: left;\">APPLIED MATHEMATICS AND COMPUTATION</td><td style = \"text-align: left;\">APPL MATH COMPUT</td><td style = \"text-align: left;\">0096-3003</td><td style = \"text-align: left;\">1873-5649</td><td style = \"text-align: right;\">0.824</td></tr></tbody></table></div>"
      ],
      "text/latex": [
       "\\begin{tabular}{r|ccccc}\n",
       "\t& JournalFullName & Journal & ISSN & eISSN & 2022\\\\\n",
       "\t\\hline\n",
       "\t& String & String31 & String15 & String15 & Float64\\\\\n",
       "\t\\hline\n",
       "\t876 & APPLIED MATHEMATICS AND COMPUTATION & APPL MATH COMPUT & 0096-3003 & 1873-5649 & 0.824 \\\\\n",
       "\\end{tabular}\n"
      ],
      "text/plain": [
       "\u001b[1mDataFrameRow\u001b[0m\n",
       "\u001b[1m Row \u001b[0m│\u001b[1m JournalFullName                   \u001b[0m\u001b[1m Journal          \u001b[0m\u001b[1m ISSN      \u001b[0m\u001b[1m eISSN  \u001b[0m ⋯\n",
       "     │\u001b[90m String                            \u001b[0m\u001b[90m String31         \u001b[0m\u001b[90m String15  \u001b[0m\u001b[90m String1\u001b[0m ⋯\n",
       "─────┼──────────────────────────────────────────────────────────────────────────\n",
       " 876 │ APPLIED MATHEMATICS AND COMPUTAT…  APPL MATH COMPUT  0096-3003  1873-56 ⋯\n",
       "\u001b[36m                                                               2 columns omitted\u001b[0m"
      ]
     },
     "metadata": {},
     "output_type": "display_data"
    }
   ],
   "source": [
    "AIS2022[876, [1, 2, 3, 4, 5]]"
   ]
  },
  {
   "cell_type": "code",
   "execution_count": 20,
   "metadata": {},
   "outputs": [
    {
     "data": {
      "text/html": [
       "<div><div style = \"float: left;\"><span>DataFrameRow (26 columns)</span></div><div style = \"clear: both;\"></div></div><div class = \"data-frame\" style = \"overflow-x: scroll;\"><table class = \"data-frame\" style = \"margin-bottom: 6px;\"><thead><tr class = \"header\"><th class = \"rowLabel\" style = \"font-weight: bold; text-align: right;\">Row</th><th style = \"text-align: left;\">Journal</th><th style = \"text-align: left;\">1997</th><th style = \"text-align: left;\">1998</th><th style = \"text-align: left;\">1999</th><th style = \"text-align: left;\">2000</th><th style = \"text-align: left;\">2001</th><th style = \"text-align: left;\">2002</th><th style = \"text-align: left;\">2003</th><th style = \"text-align: left;\">2004</th><th style = \"text-align: left;\">2005</th><th style = \"text-align: left;\">2006</th><th style = \"text-align: left;\">2007</th><th style = \"text-align: left;\">2008</th><th style = \"text-align: left;\">2009</th><th style = \"text-align: left;\">2010</th><th style = \"text-align: left;\">2011</th><th style = \"text-align: left;\">2012</th><th style = \"text-align: left;\">2013</th><th style = \"text-align: left;\">2014</th><th style = \"text-align: left;\">2015</th><th style = \"text-align: left;\">2016</th><th style = \"text-align: left;\">2017</th><th style = \"text-align: left;\">2018</th><th style = \"text-align: left;\">2019</th><th style = \"text-align: left;\">2020</th><th style = \"text-align: left;\">2021</th></tr><tr class = \"subheader headerLastRow\"><th class = \"rowLabel\" style = \"font-weight: bold; text-align: right;\"></th><th title = \"String31\" style = \"text-align: left;\">String31</th><th title = \"Float64\" style = \"text-align: left;\">Float64</th><th title = \"Float64\" style = \"text-align: left;\">Float64</th><th title = \"Float64\" style = \"text-align: left;\">Float64</th><th title = \"Float64\" style = \"text-align: left;\">Float64</th><th title = \"Float64\" style = \"text-align: left;\">Float64</th><th title = \"Float64\" style = \"text-align: left;\">Float64</th><th title = \"Float64\" style = \"text-align: left;\">Float64</th><th title = \"Float64\" style = \"text-align: left;\">Float64</th><th title = \"Float64\" style = \"text-align: left;\">Float64</th><th title = \"Float64\" style = \"text-align: left;\">Float64</th><th title = \"Float64\" style = \"text-align: left;\">Float64</th><th title = \"Float64\" style = \"text-align: left;\">Float64</th><th title = \"Float64\" style = \"text-align: left;\">Float64</th><th title = \"Float64\" style = \"text-align: left;\">Float64</th><th title = \"Float64\" style = \"text-align: left;\">Float64</th><th title = \"Float64\" style = \"text-align: left;\">Float64</th><th title = \"Float64\" style = \"text-align: left;\">Float64</th><th title = \"Float64\" style = \"text-align: left;\">Float64</th><th title = \"Float64\" style = \"text-align: left;\">Float64</th><th title = \"Float64\" style = \"text-align: left;\">Float64</th><th title = \"Float64\" style = \"text-align: left;\">Float64</th><th title = \"Float64\" style = \"text-align: left;\">Float64</th><th title = \"Float64\" style = \"text-align: left;\">Float64</th><th title = \"Float64\" style = \"text-align: left;\">Float64</th><th title = \"Float64\" style = \"text-align: left;\">Float64</th></tr></thead><tbody><tr><td class = \"rowLabel\" style = \"font-weight: bold; text-align: right;\">1</td><td style = \"text-align: left;\">ANNU REV BIOCHEM</td><td style = \"text-align: right;\">20.985</td><td style = \"text-align: right;\">20.985</td><td style = \"text-align: right;\">20.985</td><td style = \"text-align: right;\">20.985</td><td style = \"text-align: right;\">20.985</td><td style = \"text-align: right;\">20.985</td><td style = \"text-align: right;\">20.985</td><td style = \"text-align: right;\">20.985</td><td style = \"text-align: right;\">20.985</td><td style = \"text-align: right;\">20.985</td><td style = \"text-align: right;\">20.985</td><td style = \"text-align: right;\">20.891</td><td style = \"text-align: right;\">19.302</td><td style = \"text-align: right;\">20.037</td><td style = \"text-align: right;\">19.755</td><td style = \"text-align: right;\">17.412</td><td style = \"text-align: right;\">17.89</td><td style = \"text-align: right;\">16.865</td><td style = \"text-align: right;\">14.518</td><td style = \"text-align: right;\">14.034</td><td style = \"text-align: right;\">14.031</td><td style = \"text-align: right;\">12.193</td><td style = \"text-align: right;\">11.564</td><td style = \"text-align: right;\">12.328</td><td style = \"text-align: right;\">12.444</td></tr></tbody></table></div>"
      ],
      "text/latex": [
       "\\begin{tabular}{r|ccccccccc}\n",
       "\t& Journal & 1997 & 1998 & 1999 & 2000 & 2001 & 2002 & 2003 & \\\\\n",
       "\t\\hline\n",
       "\t& String31 & Float64 & Float64 & Float64 & Float64 & Float64 & Float64 & Float64 & \\\\\n",
       "\t\\hline\n",
       "\t1 & ANNU REV BIOCHEM & 20.985 & 20.985 & 20.985 & 20.985 & 20.985 & 20.985 & 20.985 & $\\dots$ \\\\\n",
       "\\end{tabular}\n"
      ],
      "text/plain": [
       "\u001b[1mDataFrameRow\u001b[0m\n",
       "\u001b[1m Row \u001b[0m│\u001b[1m Journal          \u001b[0m\u001b[1m 1997    \u001b[0m\u001b[1m 1998    \u001b[0m\u001b[1m 1999    \u001b[0m\u001b[1m 2000    \u001b[0m\u001b[1m 2001    \u001b[0m\u001b[1m 2002    \u001b[0m\u001b[1m\u001b[0m ⋯\n",
       "     │\u001b[90m String31         \u001b[0m\u001b[90m Float64 \u001b[0m\u001b[90m Float64 \u001b[0m\u001b[90m Float64 \u001b[0m\u001b[90m Float64 \u001b[0m\u001b[90m Float64 \u001b[0m\u001b[90m Float64 \u001b[0m\u001b[90m\u001b[0m ⋯\n",
       "─────┼──────────────────────────────────────────────────────────────────────────\n",
       "   1 │ ANNU REV BIOCHEM   20.985   20.985   20.985   20.985   20.985   20.985  ⋯\n",
       "\u001b[36m                                                              19 columns omitted\u001b[0m"
      ]
     },
     "metadata": {},
     "output_type": "display_data"
    }
   ],
   "source": [
    "AIS = select(AIS, Not([:\"2022\"]))\n",
    "AIS[1, :]"
   ]
  },
  {
   "cell_type": "code",
   "execution_count": 22,
   "metadata": {},
   "outputs": [],
   "source": [
    "#AIS = leftjoin(AIS, AIS2022; on=:\"Journal\", makeunique=true)\n",
    "AIS_new = outerjoin(AIS, AIS2022; on=:\"Journal\", makeunique=true);1"
   ]
  },
  {
   "cell_type": "code",
   "execution_count": null,
   "metadata": {},
   "outputs": [],
   "source": [
    "AIS.\"2022\" = replace(AIS.\"2022\", missing => 0)\n",
    "insertcols!(AIS, :\"2023\" => AIS.\"2022\")"
   ]
  },
  {
   "cell_type": "code",
   "execution_count": null,
   "metadata": {},
   "outputs": [],
   "source": [
    "#BRING new columns\n",
    "AIS = AIS[!, [1, 27, 28, 29, 2, 3, 4, 5, 6, 7, 8, 9, 10, 11, 12, 13, 14, 15, 16, 17, 18, 19, 20, 21, 22, 23, 24, 25, 26, 30, 31]]\n",
    "AIS[1, :]"
   ]
  },
  {
   "cell_type": "code",
   "execution_count": null,
   "metadata": {},
   "outputs": [],
   "source": [
    "ISI = select(ISI, Not([:\"2022\"]));\n",
    "ISI[1, :]"
   ]
  },
  {
   "cell_type": "code",
   "execution_count": null,
   "metadata": {},
   "outputs": [],
   "source": [
    "ISI = leftjoin(ISI, ISI2022; on=:\"Journal\", makeunique=true)\n",
    "ISI.\"2022\" = replace(ISI.\"2022\", missing => 0)\n",
    "insertcols!(ISI, :\"2023\" => ISI.\"2022\")\n",
    "#BRING new columns\n",
    "ISI = ISI[!, [1, 27, 28, 29, 2, 3, 4, 5, 6, 7, 8, 9, 10, 11, 12, 13, 14, 15, 16, 17, 18, 19, 20, 21, 22, 23, 24, 25, 26, 30, 31]]\n",
    "ISI[1, :]"
   ]
  },
  {
   "cell_type": "code",
   "execution_count": null,
   "metadata": {},
   "outputs": [],
   "source": [
    "root = dirname(@__FILE__)\n",
    "outputAIS = joinpath(root, \"AI_factor_full_1997-2023_plus.txt\")\n",
    "CSV.write(outputAIS, AIS; delim='\\t')\n",
    "outputISI = joinpath(root, \"IF_factor_full_1997-2023_plus.txt\")\n",
    "CSV.write(outputISI, ISI; delim='\\t')"
   ]
  },
  {
   "cell_type": "code",
   "execution_count": null,
   "metadata": {},
   "outputs": [],
   "source": []
  }
 ],
 "metadata": {
  "kernelspec": {
   "display_name": "Julia 1.10.0",
   "language": "julia",
   "name": "julia-1.10"
  },
  "language_info": {
   "file_extension": ".jl",
   "mimetype": "application/julia",
   "name": "julia",
   "version": "1.10.0"
  },
  "orig_nbformat": 4
 },
 "nbformat": 4,
 "nbformat_minor": 2
}
