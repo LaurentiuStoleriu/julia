{
 "cells": [
  {
   "cell_type": "code",
   "execution_count": 8,
   "metadata": {},
   "outputs": [],
   "source": [
    "using CSV"
   ]
  },
  {
   "cell_type": "code",
   "execution_count": 9,
   "metadata": {},
   "outputs": [
    {
     "data": {
      "text/plain": [
       "\"/home/lali/TITAN-ROG-sync/julia/ISI/IF_factor_full_1997-2021.txt\""
      ]
     },
     "metadata": {},
     "output_type": "display_data"
    }
   ],
   "source": [
    "root = dirname(@__FILE__)\n",
    "inputAIS = joinpath(root, \"AI_factor_full_1997-2021.txt\")\n",
    "inputISI = joinpath(root, \"IF_factor_full_1997-2021.txt\")"
   ]
  },
  {
   "cell_type": "code",
   "execution_count": 10,
   "metadata": {},
   "outputs": [
    {
     "data": {
      "text/plain": [
       "(Journal = String31[\"ANNU REV BIOCHEM\", \"NAT GENET\", \"ANNU REV IMMUNOL\", \"CELL\", \"NAT MED\", \"NEW ENGL J MED\", \"NATURE\", \"SCIENCE\", \"ENDOCR REV\", \"ANNU REV NEUROSCI\"  …  \"SMITH COLL STUD SOC\", \"HIST ECON IDEAS\", \"INTERLEND DOC SUPPLY\", \"MIL LAW REV\", \"REV INT PSYCHOL SOC\", \"RECH ECON LOUVAIN\", \"J E ASIA INT LAW\", \"TRANSYLV REV\", \"ROAD TRANSP RES\", \"POLICY REV\"], 1997 = [20.985, 13.779, 26.653, 18.188, 12.745, 17.864, 16.996, 16.539, 9.23, 17.191  …  0.0, 0.0, 0.0, 0.0, 0.0, 0.0, 0.0, 0.0, 0.0, 0.0], 1998 = [20.985, 13.779, 26.653, 18.188, 12.745, 17.864, 16.996, 16.539, 9.23, 17.191  …  0.0, 0.0, 0.0, 0.0, 0.0, 0.0, 0.0, 0.0, 0.0, 0.0], 1999 = [20.985, 13.779, 26.653, 18.188, 12.745, 17.864, 16.996, 16.539, 9.23, 17.191  …  0.0, 0.0, 0.0, 0.0, 0.0, 0.0, 0.0, 0.0, 0.0, 0.0], 2000 = [20.985, 13.779, 26.653, 18.188, 12.745, 17.864, 16.996, 16.539, 9.23, 17.191  …  0.0, 0.0, 0.0, 0.0, 0.0, 0.0, 0.0, 0.0, 0.0, 0.0], 2001 = [20.985, 13.779, 26.653, 18.188, 12.745, 17.864, 16.996, 16.539, 9.23, 17.191  …  0.0, 0.0, 0.0, 0.0, 0.0, 0.0, 0.0, 0.0, 0.0, 0.0], 2002 = [20.985, 13.779, 26.653, 18.188, 12.745, 17.864, 16.996, 16.539, 9.23, 17.191  …  0.0, 0.0, 0.0, 0.0, 0.0, 0.0, 0.0, 0.0, 0.0, 0.0], 2003 = [20.985, 13.779, 26.653, 18.188, 12.745, 17.864, 16.996, 16.539, 9.23, 17.191  …  0.0, 0.0, 0.0, 0.0, 0.0, 0.0, 0.0, 0.0, 0.0, 0.0], 2004 = [20.985, 13.779, 26.653, 18.188, 12.745, 17.864, 16.996, 16.539, 9.23, 17.191  …  0.0, 0.0, 0.0, 0.0, 0.0, 0.0, 0.0, 0.0, 0.0, 0.0], 2005 = [20.985, 13.779, 26.653, 18.188, 12.745, 17.864, 16.996, 16.539, 9.23, 17.191  …  0.0, 0.0, 0.0, 0.0, 0.0, 0.0, 0.0, 0.0, 0.0, 0.0], 2006 = [20.985, 13.779, 26.653, 18.188, 12.745, 17.864, 16.996, 16.539, 9.23, 17.191  …  0.0, 0.0, 0.0, 0.0, 0.0, 0.0, 0.0, 0.0, 0.0, 0.0], 2007 = [20.985, 13.779, 26.653, 18.188, 12.745, 17.864, 16.996, 16.539, 9.23, 17.191  …  0.0, 0.0, 0.0, 0.0, 0.0, 0.0, 0.0, 0.0, 0.0, 0.0], 2008 = [20.891, 14.505, 24.671, 18.871, 12.958, 18.763, 17.279, 16.286, 8.339, 18.915  …  0.0, 0.0, 0.0, 0.0, 0.0, 0.0, 0.0, 0.0, 0.0, 0.0], 2009 = [19.302, 15.586, 21.37, 20.124, 12.254, 19.868, 18.062, 16.58, 8.674, 19.291  …  0.0, 0.0, 0.0, 0.0, 0.0, 0.0, 0.0, 0.0, 0.0, 0.0], 2010 = [20.037, 17.7, 25.132, 20.591, 12.479, 21.349, 19.306, 16.818, 7.863, 16.82  …  0.0, 0.0, 0.0, 0.0, 0.0, 0.0, 0.0, 0.0, 0.0, 0.0], 2011 = [19.755, 17.584, 23.427, 20.554, 12.156, 21.304, 20.373, 17.525, 8.159, 16.169  …  0.0, 0.0, 0.0, 0.0, 0.0, 0.0, 0.0, 0.0, 0.0, 0.0], 2012 = [17.412, 17.402, 23.191, 19.272, 12.39, 21.642, 20.801, 17.697, 7.821, 17.03  …  0.0, 0.0, 0.0, 0.0, 0.0, 0.0, 0.0, 0.0, 0.0, 0.0], 2013 = [17.89, 16.173, 23.737, 20.124, 12.3, 22.412, 22.184, 17.698, 8.571, 15.009  …  0.0, 0.0, 0.0, 0.0, 0.0, 0.0, 0.0, 0.0, 0.0, 0.0], 2014 = [16.865, 15.919, 23.711, 19.361, 12.48, 24.284, 21.96, 17.885, 7.574, 13.624  …  0.0, 0.0, 0.0, 0.0, 0.0, 0.0, 0.0, 0.0, 0.0, 0.0], 2015 = [14.518, 16.807, 20.366, 18.967, 13.038, 25.797, 22.261, 18.048, 6.412, 11.517  …  0.0, 0.0, 0.0, 0.0, 0.0, 0.0, 0.0, 0.0, 0.0, 0.0], 2016 = [14.034, 16.456, 20.551, 20.061, 14.872, 27.769, 22.976, 19.162, 6.358, 11.953  …  0.057, 0.135, 0.016, 0.072, 0.09, 0.129, 0.033, 0.003, 0.085, 0.057], 2017 = [14.031, 16.652, 16.988, 19.509, 15.143, 29.423, 22.535, 19.907, 6.051, 10.168  …  0.0, 0.0, 0.012, 0.0, 0.243, 0.0, 0.032, 0.0, 0.0, 0.0], 2018 = [12.193, 16.807, 14.749, 20.369, 15.662, 30.593, 22.396, 20.001, 5.911, 9.802  …  0.0, 0.11, 0.133, 0.0, 0.243, 0.0, 0.032, 0.0, 0.0, 0.0], 2019 = [11.564, 16.922, 12.645, 20.841, 16.437, 31.319, 21.96, 20.309, 5.814, 8.554  …  0.0, 0.0, 0.0, 0.0, 0.0, 0.0, 0.0, 0.0, 0.0, 0.0], 2020 = [12.328, 19.017, 13.651, 23.88, 20.808, 37.239, 23.887, 22.107, 7.265, 8.785  …  0.0, 0.0, 0.0, 0.0, 0.0, 0.0, 0.0, 0.0, 0.0, 0.0], 2021 = [12.328, 19.017, 13.651, 23.88, 20.808, 37.239, 23.887, 22.107, 7.265, 8.785  …  0.0, 0.0, 0.0, 0.0, 0.0, 0.0, 0.0, 0.0, 0.0, 0.0])"
      ]
     },
     "metadata": {},
     "output_type": "display_data"
    }
   ],
   "source": [
    "AIS = CSV.read(inputAIS, NamedTuple; header=true)\n",
    "AIS[8157, [1, 2, 3, 14, 25, 26]]"
   ]
  },
  {
   "cell_type": "code",
   "execution_count": null,
   "metadata": {},
   "outputs": [],
   "source": [
    "ISI = CSV.read(inputISI, DataFrame; header=true)\n",
    "ISI[8157, [1, 2, 3, 14, 25, 26]]"
   ]
  },
  {
   "cell_type": "code",
   "execution_count": null,
   "metadata": {},
   "outputs": [],
   "source": [
    "root = dirname(@__FILE__)\n",
    "inputMINE = joinpath(root, \"LS_savedrecs_mine.txt\")\n",
    "inputCIT = joinpath(root, \"LS_savedrecs.txt\")"
   ]
  },
  {
   "cell_type": "code",
   "execution_count": null,
   "metadata": {},
   "outputs": [],
   "source": [
    "MINEraw = CSV.read(inputMINE, DataFrame; header=true)\n",
    "eltype.(eachcol(MINEraw));"
   ]
  },
  {
   "cell_type": "code",
   "execution_count": null,
   "metadata": {},
   "outputs": [],
   "source": [
    "MINE = MINEraw[:, [2, 9, 24, 30, 32, 42, 45, 46, 47, 52, 53, 54, 55]];\n",
    "eltype.(eachcol(MINE));"
   ]
  },
  {
   "cell_type": "code",
   "execution_count": null,
   "metadata": {},
   "outputs": [],
   "source": [
    "MINE[1, [:PY]] .= 2021   # ADV MAT no year!!!!\n",
    "eltype.(eachcol(MINE));"
   ]
  },
  {
   "cell_type": "code",
   "execution_count": null,
   "metadata": {},
   "outputs": [],
   "source": [
    "#root = dirname(\"/mnt/d/Stoleriu/\")\n",
    "#outputMINE = joinpath(root, \"MINE_test.csv\")\n",
    "#CSV.write(outputMINE, MINE)"
   ]
  },
  {
   "cell_type": "markdown",
   "metadata": {},
   "source": [
    "Pregatim MINE cu noi coloane"
   ]
  },
  {
   "cell_type": "code",
   "execution_count": null,
   "metadata": {},
   "outputs": [],
   "source": [
    "rename!(MINE,:\"J9\" => :\"Journal\")\n",
    "insertcols!(MINE, :NA => 0);\n",
    "insertcols!(MINE, :PRIM => 0);\n",
    "insertcols!(MINE, :AI => 0.0);\n",
    "insertcols!(MINE, :IF => 0.0);"
   ]
  },
  {
   "cell_type": "markdown",
   "metadata": {},
   "source": [
    "Gasim numarul de autori si prim autor"
   ]
  },
  {
   "cell_type": "code",
   "execution_count": null,
   "metadata": {},
   "outputs": [],
   "source": [
    "for (row_index, lucrare) in enumerate(eachrow(MINE))\n",
    "    MINE[row_index, [:NA]] .= (1+count(\";\", lucrare[:AU]))\n",
    "    if occursin(\"Stoleriu\", lucrare[:RP])\n",
    "        MINE[row_index, [:PRIM]] .= 1\n",
    "    end\n",
    "    #println(row_index, MINE[row_index, [:NA]])\n",
    "    #println(row_index, MINE[row_index, [:PRIM]])\n",
    "end"
   ]
  },
  {
   "cell_type": "code",
   "execution_count": null,
   "metadata": {},
   "outputs": [],
   "source": [
    "#MINE[:, [6, 7, 8, 12, 14, 15, 16, 17]]\n",
    "MINE.PY = Int64.(MINE.PY)\n",
    "MINE[ismissing.(MINE[!, :PY]), [1, 6, 7, 8, 12, 14, 15, 16, 17]]"
   ]
  },
  {
   "cell_type": "code",
   "execution_count": null,
   "metadata": {},
   "outputs": [],
   "source": [
    "#root = dirname(\"/mnt/d/Stoleriu/\")\n",
    "#outputMINE = joinpath(root, \"MINE_test.csv\")\n",
    "#CSV.write(outputMINE, MINE)"
   ]
  },
  {
   "cell_type": "code",
   "execution_count": null,
   "metadata": {},
   "outputs": [],
   "source": [
    "AISsubsect = filter(r -> any(occursin.(Vector(MINE[1, [:Journal]]), r.Journal)), AIS)\n",
    "#subsect2 = filter(r -> ([\"ADV MATER\"][1] .== r.Journal[1]), AIS)\n",
    "size(subsect, 1)\n",
    "#[\"ADV MATER\"][1] .== subsect[1, [:Journal]][1]"
   ]
  },
  {
   "cell_type": "code",
   "execution_count": null,
   "metadata": {},
   "outputs": [],
   "source": [
    "for (row_index, lucrare) in enumerate(eachrow(MINE))\n",
    "    #lucrare = MINE[1, :]\n",
    "    if(ismissing(lucrare[:Journal]))\n",
    "        continue\n",
    "    end\n",
    "    for AISrow in eachrow(AIS)\n",
    "        if( lucrare[:Journal] .== AISrow[:Journal] )\n",
    "            anString = string(lucrare[:PY])\n",
    "            #println(AISrow[anString])\n",
    "            MINE[row_index, [:AI]] .= AISrow[anString]\n",
    "        end\n",
    "    end\n",
    "    for ISIrow in eachrow(ISI)\n",
    "        if( lucrare[:Journal] .== ISIrow[:Journal] )\n",
    "            anString = string(lucrare[:PY])\n",
    "            #println(ISIrow[anString])\n",
    "            MINE[row_index, [:IF]] .= ISIrow[anString]\n",
    "        end\n",
    "    end\n",
    "end"
   ]
  },
  {
   "cell_type": "code",
   "execution_count": null,
   "metadata": {},
   "outputs": [],
   "source": [
    "root = dirname(\"/mnt/d/Stoleriu/\")\n",
    "outputMINE = joinpath(root, \"MINE_test.csv\")\n",
    "CSV.write(outputMINE, MINE)"
   ]
  }
 ],
 "metadata": {
  "kernelspec": {
   "display_name": "Julia 1.6.3",
   "language": "julia",
   "name": "julia-1.6"
  },
  "language_info": {
   "file_extension": ".jl",
   "mimetype": "application/julia",
   "name": "julia",
   "version": "1.6.3"
  },
  "orig_nbformat": 4
 },
 "nbformat": 4,
 "nbformat_minor": 2
}
