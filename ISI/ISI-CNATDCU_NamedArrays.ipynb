{
 "cells": [
  {
   "cell_type": "code",
   "execution_count": 1,
   "metadata": {},
   "outputs": [],
   "source": [
    "using CSV, DataFrames, NamedArrays"
   ]
  },
  {
   "cell_type": "code",
   "execution_count": 2,
   "metadata": {},
   "outputs": [
    {
     "data": {
      "text/plain": [
       "\"/home/lali/TITAN-ROG-sync/julia/ISI/IF_factor_full_1997-2021.txt\""
      ]
     },
     "metadata": {},
     "output_type": "display_data"
    }
   ],
   "source": [
    "root = dirname(@__FILE__)\n",
    "inputAIS = joinpath(root, \"AI_factor_full_1997-2021.txt\")\n",
    "inputISI = joinpath(root, \"IF_factor_full_1997-2021.txt\")"
   ]
  },
  {
   "cell_type": "code",
   "execution_count": 4,
   "metadata": {},
   "outputs": [
    {
     "data": {
      "text/html": [
       "<p>DataFrameRow (6 columns)</p><div class=\"data-frame\"><table class=\"data-frame\"><thead><tr><th></th><th>Journal</th><th>1997</th><th>1998</th><th>2009</th><th>2020</th><th>2021</th></tr><tr><th></th><th title=\"String31\">String31</th><th title=\"Float64\">Float64</th><th title=\"Float64\">Float64</th><th title=\"Float64\">Float64</th><th title=\"Float64\">Float64</th><th title=\"Float64\">Float64</th></tr></thead><tbody><tr><th>8157</th><td>IEEE MAGN LETT</td><td>0.789</td><td>0.789</td><td>0.789</td><td>0.409</td><td>0.409</td></tr></tbody></table></div>"
      ],
      "text/latex": [
       "\\begin{tabular}{r|cccccc}\n",
       "\t& Journal & 1997 & 1998 & 2009 & 2020 & 2021\\\\\n",
       "\t\\hline\n",
       "\t& String31 & Float64 & Float64 & Float64 & Float64 & Float64\\\\\n",
       "\t\\hline\n",
       "\t8157 & IEEE MAGN LETT & 0.789 & 0.789 & 0.789 & 0.409 & 0.409 \\\\\n",
       "\\end{tabular}\n"
      ],
      "text/plain": [
       "\u001b[1mDataFrameRow\u001b[0m\n",
       "\u001b[1m  Row \u001b[0m│\u001b[1m Journal        \u001b[0m\u001b[1m 1997    \u001b[0m\u001b[1m 1998    \u001b[0m\u001b[1m 2009    \u001b[0m\u001b[1m 2020    \u001b[0m\u001b[1m 2021    \u001b[0m\n",
       "\u001b[1m      \u001b[0m│\u001b[90m String31       \u001b[0m\u001b[90m Float64 \u001b[0m\u001b[90m Float64 \u001b[0m\u001b[90m Float64 \u001b[0m\u001b[90m Float64 \u001b[0m\u001b[90m Float64 \u001b[0m\n",
       "──────┼─────────────────────────────────────────────────────────────\n",
       " 8157 │ IEEE MAGN LETT    0.789    0.789    0.789    0.409    0.409"
      ]
     },
     "metadata": {},
     "output_type": "display_data"
    }
   ],
   "source": [
    "AIS = CSV.read(inputAIS, DataFrame; header=true)\n",
    "AIS[8157, [1, 2, 3, 14, 25, 26]]"
   ]
  },
  {
   "cell_type": "code",
   "execution_count": 5,
   "metadata": {},
   "outputs": [
    {
     "ename": "MethodError",
     "evalue": "MethodError: no method matching NamedArray(::DataFrame)\nClosest candidates are:\n  NamedArray(!Matched::DataType, !Matched::Int64...) at /home/lali/.julia/packages/NamedArrays/TuJLn/src/constructors.jl:86\n  NamedArray(!Matched::AbstractVector{T}) where T at /home/lali/.julia/packages/NamedArrays/TuJLn/src/constructors.jl:73\n  NamedArray(!Matched::AbstractVector{T}, !Matched::AbstractVector{VT}) where {T, VT} at /home/lali/.julia/packages/NamedArrays/TuJLn/src/constructors.jl:73\n  ...",
     "output_type": "error",
     "traceback": [
      "MethodError: no method matching NamedArray(::DataFrame)\n",
      "Closest candidates are:\n",
      "  NamedArray(!Matched::DataType, !Matched::Int64...) at /home/lali/.julia/packages/NamedArrays/TuJLn/src/constructors.jl:86\n",
      "  NamedArray(!Matched::AbstractVector{T}) where T at /home/lali/.julia/packages/NamedArrays/TuJLn/src/constructors.jl:73\n",
      "  NamedArray(!Matched::AbstractVector{T}, !Matched::AbstractVector{VT}) where {T, VT} at /home/lali/.julia/packages/NamedArrays/TuJLn/src/constructors.jl:73\n",
      "  ...\n",
      "\n",
      "Stacktrace:\n",
      "  [1] top-level scope\n",
      "    @ ~/TITAN-ROG-sync/julia/ISI/ISI-CNATDCU_NamedArrays.ipynb:1\n",
      "  [2] eval\n",
      "    @ ./boot.jl:360 [inlined]\n",
      "  [3] include_string(mapexpr::typeof(REPL.softscope), mod::Module, code::String, filename::String)\n",
      "    @ Base ./loading.jl:1116\n",
      "  [4] #invokelatest#2\n",
      "    @ ./essentials.jl:708 [inlined]\n",
      "  [5] invokelatest\n",
      "    @ ./essentials.jl:706 [inlined]\n",
      "  [6] (::VSCodeServer.var\"#148#149\"{VSCodeServer.NotebookRunCellArguments, String})()\n",
      "    @ VSCodeServer ~/.vscode-server/extensions/julialang.language-julia-insider-1.5.4/scripts/packages/VSCodeServer/src/serve_notebook.jl:18\n",
      "  [7] withpath(f::VSCodeServer.var\"#148#149\"{VSCodeServer.NotebookRunCellArguments, String}, path::String)\n",
      "    @ VSCodeServer ~/.vscode-server/extensions/julialang.language-julia-insider-1.5.4/scripts/packages/VSCodeServer/src/repl.jl:185\n",
      "  [8] notebook_runcell_request(conn::VSCodeServer.JSONRPC.JSONRPCEndpoint{Base.PipeEndpoint, Base.PipeEndpoint}, params::VSCodeServer.NotebookRunCellArguments)\n",
      "    @ VSCodeServer ~/.vscode-server/extensions/julialang.language-julia-insider-1.5.4/scripts/packages/VSCodeServer/src/serve_notebook.jl:14\n",
      "  [9] dispatch_msg(x::VSCodeServer.JSONRPC.JSONRPCEndpoint{Base.PipeEndpoint, Base.PipeEndpoint}, dispatcher::VSCodeServer.JSONRPC.MsgDispatcher, msg::Dict{String, Any})\n",
      "    @ VSCodeServer.JSONRPC ~/.vscode-server/extensions/julialang.language-julia-insider-1.5.4/scripts/packages/JSONRPC/src/typed.jl:67\n",
      " [10] serve_notebook(pipename::String; crashreporting_pipename::String)\n",
      "    @ VSCodeServer ~/.vscode-server/extensions/julialang.language-julia-insider-1.5.4/scripts/packages/VSCodeServer/src/serve_notebook.jl:94\n",
      " [11] top-level scope\n",
      "    @ ~/.vscode-server/extensions/julialang.language-julia-insider-1.5.4/scripts/notebook/notebook.jl:12\n",
      " [12] include(mod::Module, _path::String)\n",
      "    @ Base ./Base.jl:386\n",
      " [13] exec_options(opts::Base.JLOptions)\n",
      "    @ Base ./client.jl:285\n",
      " [14] _start()\n",
      "    @ Base ./client.jl:485"
     ]
    }
   ],
   "source": [
    "AISn = NamedArray(AIS)"
   ]
  },
  {
   "cell_type": "code",
   "execution_count": null,
   "metadata": {},
   "outputs": [],
   "source": [
    "ISI = CSV.read(inputISI, DataFrame; header=true)\n",
    "ISI[8157, [1, 2, 3, 14, 25, 26]]"
   ]
  },
  {
   "cell_type": "code",
   "execution_count": null,
   "metadata": {},
   "outputs": [],
   "source": [
    "root = dirname(@__FILE__)\n",
    "inputMINE = joinpath(root, \"LS_savedrecs_mine.txt\")\n",
    "inputCIT = joinpath(root, \"LS_savedrecs.txt\")"
   ]
  },
  {
   "cell_type": "code",
   "execution_count": null,
   "metadata": {},
   "outputs": [],
   "source": [
    "MINEraw = CSV.read(inputMINE, DataFrame; header=true)\n",
    "eltype.(eachcol(MINEraw));"
   ]
  },
  {
   "cell_type": "code",
   "execution_count": null,
   "metadata": {},
   "outputs": [],
   "source": [
    "MINE = MINEraw[:, [2, 9, 24, 30, 32, 42, 45, 46, 47, 52, 53, 54, 55]];\n",
    "eltype.(eachcol(MINE));"
   ]
  },
  {
   "cell_type": "code",
   "execution_count": null,
   "metadata": {},
   "outputs": [],
   "source": [
    "MINE[1, [:PY]] .= 2021   # ADV MAT no year!!!!\n",
    "eltype.(eachcol(MINE));"
   ]
  },
  {
   "cell_type": "code",
   "execution_count": null,
   "metadata": {},
   "outputs": [],
   "source": [
    "#root = dirname(\"/mnt/d/Stoleriu/\")\n",
    "#outputMINE = joinpath(root, \"MINE_test.csv\")\n",
    "#CSV.write(outputMINE, MINE)"
   ]
  },
  {
   "cell_type": "markdown",
   "metadata": {},
   "source": [
    "Pregatim MINE cu noi coloane"
   ]
  },
  {
   "cell_type": "code",
   "execution_count": null,
   "metadata": {},
   "outputs": [],
   "source": [
    "rename!(MINE,:\"J9\" => :\"Journal\")\n",
    "insertcols!(MINE, :NA => 0);\n",
    "insertcols!(MINE, :PRIM => 0);\n",
    "insertcols!(MINE, :AI => 0.0);\n",
    "insertcols!(MINE, :IF => 0.0);"
   ]
  },
  {
   "cell_type": "markdown",
   "metadata": {},
   "source": [
    "Gasim numarul de autori si prim autor"
   ]
  },
  {
   "cell_type": "code",
   "execution_count": null,
   "metadata": {},
   "outputs": [],
   "source": [
    "for (row_index, lucrare) in enumerate(eachrow(MINE))\n",
    "    MINE[row_index, [:NA]] .= (1+count(\";\", lucrare[:AU]))\n",
    "    if occursin(\"Stoleriu\", lucrare[:RP])\n",
    "        MINE[row_index, [:PRIM]] .= 1\n",
    "    end\n",
    "    #println(row_index, MINE[row_index, [:NA]])\n",
    "    #println(row_index, MINE[row_index, [:PRIM]])\n",
    "end"
   ]
  },
  {
   "cell_type": "code",
   "execution_count": null,
   "metadata": {},
   "outputs": [],
   "source": [
    "#MINE[:, [6, 7, 8, 12, 14, 15, 16, 17]]\n",
    "MINE.PY = Int64.(MINE.PY)\n",
    "MINE[ismissing.(MINE[!, :PY]), [1, 6, 7, 8, 12, 14, 15, 16, 17]]"
   ]
  },
  {
   "cell_type": "code",
   "execution_count": null,
   "metadata": {},
   "outputs": [],
   "source": [
    "#root = dirname(\"/mnt/d/Stoleriu/\")\n",
    "#outputMINE = joinpath(root, \"MINE_test.csv\")\n",
    "#CSV.write(outputMINE, MINE)"
   ]
  },
  {
   "cell_type": "code",
   "execution_count": null,
   "metadata": {},
   "outputs": [],
   "source": [
    "AISsubsect = filter(r -> any(occursin.(Vector(MINE[1, [:Journal]]), r.Journal)), AIS)\n",
    "#subsect2 = filter(r -> ([\"ADV MATER\"][1] .== r.Journal[1]), AIS)\n",
    "size(subsect, 1)\n",
    "#[\"ADV MATER\"][1] .== subsect[1, [:Journal]][1]"
   ]
  },
  {
   "cell_type": "code",
   "execution_count": null,
   "metadata": {},
   "outputs": [],
   "source": [
    "for (row_index, lucrare) in enumerate(eachrow(MINE))\n",
    "    #lucrare = MINE[1, :]\n",
    "    if(ismissing(lucrare[:Journal]))\n",
    "        continue\n",
    "    end\n",
    "    for AISrow in eachrow(AIS)\n",
    "        if( lucrare[:Journal] .== AISrow[:Journal] )\n",
    "            anString = string(lucrare[:PY])\n",
    "            #println(AISrow[anString])\n",
    "            MINE[row_index, [:AI]] .= AISrow[anString]\n",
    "        end\n",
    "    end\n",
    "    for ISIrow in eachrow(ISI)\n",
    "        if( lucrare[:Journal] .== ISIrow[:Journal] )\n",
    "            anString = string(lucrare[:PY])\n",
    "            #println(ISIrow[anString])\n",
    "            MINE[row_index, [:IF]] .= ISIrow[anString]\n",
    "        end\n",
    "    end\n",
    "end"
   ]
  },
  {
   "cell_type": "code",
   "execution_count": null,
   "metadata": {},
   "outputs": [],
   "source": [
    "root = dirname(\"/mnt/d/Stoleriu/\")\n",
    "outputMINE = joinpath(root, \"MINE_test.csv\")\n",
    "CSV.write(outputMINE, MINE)"
   ]
  }
 ],
 "metadata": {
  "kernelspec": {
   "display_name": "Julia 1.6.3",
   "language": "julia",
   "name": "julia-1.6"
  },
  "language_info": {
   "file_extension": ".jl",
   "mimetype": "application/julia",
   "name": "julia",
   "version": "1.6.3"
  },
  "orig_nbformat": 4
 },
 "nbformat": 4,
 "nbformat_minor": 2
}
