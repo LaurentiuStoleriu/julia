{
 "cells": [
  {
   "cell_type": "code",
   "execution_count": 1,
   "metadata": {},
   "outputs": [],
   "source": [
    "using CSV, DataFrames"
   ]
  },
  {
   "cell_type": "code",
   "execution_count": 2,
   "metadata": {},
   "outputs": [
    {
     "data": {
      "text/plain": [
       "\"/home/lali/TITAN-ROG-sync/julia/ISI/AI_factor_full_1997-2023_plus.txt\""
      ]
     },
     "metadata": {},
     "output_type": "display_data"
    }
   ],
   "source": [
    "root = dirname(@__FILE__)\n",
    "#inputAIS = joinpath(root, \"AI_factor_full.txt\")\n",
    "inputAIS = joinpath(root, \"AI_factor_full_1997-2023_plus.txt\")"
   ]
  },
  {
   "cell_type": "code",
   "execution_count": 3,
   "metadata": {},
   "outputs": [],
   "source": [
    "AIS = CSV.read(inputAIS, DataFrame)\n",
    "eltype.(eachcol(AIS));"
   ]
  },
  {
   "cell_type": "code",
   "execution_count": 4,
   "metadata": {},
   "outputs": [
    {
     "data": {
      "text/plain": [
       "\"/home/lali/TITAN-ROG-sync/julia/ISI/IF_factor_full_1997-2023_plus.txt\""
      ]
     },
     "metadata": {},
     "output_type": "display_data"
    }
   ],
   "source": [
    "root = dirname(@__FILE__)\n",
    "#inputISI = joinpath(root, \"IF_factor_full.txt\")\n",
    "inputISI = joinpath(root, \"IF_factor_full_1997-2023_plus.txt\")"
   ]
  },
  {
   "cell_type": "code",
   "execution_count": 5,
   "metadata": {},
   "outputs": [],
   "source": [
    "ISI = CSV.read(inputISI, DataFrame)\n",
    "eltype.(eachcol(ISI));"
   ]
  },
  {
   "cell_type": "code",
   "execution_count": 6,
   "metadata": {},
   "outputs": [
    {
     "data": {
      "text/html": [
       "<div><div style = \"float: left;\"><span>DataFrameRow (7 columns)</span></div><div style = \"clear: both;\"></div></div><div class = \"data-frame\" style = \"overflow-x: scroll;\"><table class = \"data-frame\" style = \"margin-bottom: 6px;\"><thead><tr class = \"header\"><th class = \"rowLabel\" style = \"font-weight: bold; text-align: right;\">Row</th><th style = \"text-align: left;\">Journal</th><th style = \"text-align: left;\">JournalFullName</th><th style = \"text-align: left;\">ISSN</th><th style = \"text-align: left;\">2020</th><th style = \"text-align: left;\">2021</th><th style = \"text-align: left;\">2022</th><th style = \"text-align: left;\">2023</th></tr><tr class = \"subheader headerLastRow\"><th class = \"rowLabel\" style = \"font-weight: bold; text-align: right;\"></th><th title = \"String31\" style = \"text-align: left;\">String31</th><th title = \"String\" style = \"text-align: left;\">String</th><th title = \"String15\" style = \"text-align: left;\">String15</th><th title = \"Float64\" style = \"text-align: left;\">Float64</th><th title = \"Float64\" style = \"text-align: left;\">Float64</th><th title = \"Float64\" style = \"text-align: left;\">Float64</th><th title = \"Float64\" style = \"text-align: left;\">Float64</th></tr></thead><tbody><tr><td class = \"rowLabel\" style = \"font-weight: bold; text-align: right;\">1</td><td style = \"text-align: left;\">2D MATER</td><td style = \"text-align: left;\">2D MATERIALS</td><td style = \"text-align: left;\">2053-1583</td><td style = \"text-align: right;\">2.17</td><td style = \"text-align: right;\">1.858</td><td style = \"text-align: right;\">1.64</td><td style = \"text-align: right;\">1.64</td></tr></tbody></table></div>"
      ],
      "text/latex": [
       "\\begin{tabular}{r|ccccccc}\n",
       "\t& Journal & JournalFullName & ISSN & 2020 & 2021 & 2022 & 2023\\\\\n",
       "\t\\hline\n",
       "\t& String31 & String & String15 & Float64 & Float64 & Float64 & Float64\\\\\n",
       "\t\\hline\n",
       "\t1 & 2D MATER & 2D MATERIALS & 2053-1583 & 2.17 & 1.858 & 1.64 & 1.64 \\\\\n",
       "\\end{tabular}\n"
      ],
      "text/plain": [
       "\u001b[1mDataFrameRow\u001b[0m\n",
       "\u001b[1m Row \u001b[0m│\u001b[1m Journal  \u001b[0m\u001b[1m JournalFullName \u001b[0m\u001b[1m ISSN      \u001b[0m\u001b[1m 2020    \u001b[0m\u001b[1m 2021    \u001b[0m\u001b[1m 2022    \u001b[0m\u001b[1m 2023  \u001b[0m ⋯\n",
       "     │\u001b[90m String31 \u001b[0m\u001b[90m String          \u001b[0m\u001b[90m String15  \u001b[0m\u001b[90m Float64 \u001b[0m\u001b[90m Float64 \u001b[0m\u001b[90m Float64 \u001b[0m\u001b[90m Float6\u001b[0m ⋯\n",
       "─────┼──────────────────────────────────────────────────────────────────────────\n",
       "   1 │ 2D MATER  2D MATERIALS     2053-1583     2.17    1.858     1.64     1.6 ⋯\n",
       "\u001b[36m                                                                1 column omitted\u001b[0m"
      ]
     },
     "metadata": {},
     "output_type": "display_data"
    }
   ],
   "source": [
    "AIS[1, [1, 2, 3, 27, 28, 29, 30]]"
   ]
  },
  {
   "cell_type": "code",
   "execution_count": 7,
   "metadata": {},
   "outputs": [
    {
     "data": {
      "text/html": [
       "<div><div style = \"float: left;\"><span>DataFrameRow (7 columns)</span></div><div style = \"clear: both;\"></div></div><div class = \"data-frame\" style = \"overflow-x: scroll;\"><table class = \"data-frame\" style = \"margin-bottom: 6px;\"><thead><tr class = \"header\"><th class = \"rowLabel\" style = \"font-weight: bold; text-align: right;\">Row</th><th style = \"text-align: left;\">Journal</th><th style = \"text-align: left;\">JournalFullName</th><th style = \"text-align: left;\">ISSN</th><th style = \"text-align: left;\">2020</th><th style = \"text-align: left;\">2021</th><th style = \"text-align: left;\">2022</th><th style = \"text-align: left;\">2023</th></tr><tr class = \"subheader headerLastRow\"><th class = \"rowLabel\" style = \"font-weight: bold; text-align: right;\"></th><th title = \"String31\" style = \"text-align: left;\">String31</th><th title = \"String\" style = \"text-align: left;\">String</th><th title = \"String15\" style = \"text-align: left;\">String15</th><th title = \"Float64\" style = \"text-align: left;\">Float64</th><th title = \"Float64\" style = \"text-align: left;\">Float64</th><th title = \"Float64\" style = \"text-align: left;\">Float64</th><th title = \"Float64\" style = \"text-align: left;\">Float64</th></tr></thead><tbody><tr><td class = \"rowLabel\" style = \"font-weight: bold; text-align: right;\">1</td><td style = \"text-align: left;\">2D MATER</td><td style = \"text-align: left;\">2D MATERIALS</td><td style = \"text-align: left;\">2053-1583</td><td style = \"text-align: right;\">7.103</td><td style = \"text-align: right;\">6.861</td><td style = \"text-align: right;\">5.5</td><td style = \"text-align: right;\">5.5</td></tr></tbody></table></div>"
      ],
      "text/latex": [
       "\\begin{tabular}{r|ccccccc}\n",
       "\t& Journal & JournalFullName & ISSN & 2020 & 2021 & 2022 & 2023\\\\\n",
       "\t\\hline\n",
       "\t& String31 & String & String15 & Float64 & Float64 & Float64 & Float64\\\\\n",
       "\t\\hline\n",
       "\t1 & 2D MATER & 2D MATERIALS & 2053-1583 & 7.103 & 6.861 & 5.5 & 5.5 \\\\\n",
       "\\end{tabular}\n"
      ],
      "text/plain": [
       "\u001b[1mDataFrameRow\u001b[0m\n",
       "\u001b[1m Row \u001b[0m│\u001b[1m Journal  \u001b[0m\u001b[1m JournalFullName \u001b[0m\u001b[1m ISSN      \u001b[0m\u001b[1m 2020    \u001b[0m\u001b[1m 2021    \u001b[0m\u001b[1m 2022    \u001b[0m\u001b[1m 2023  \u001b[0m ⋯\n",
       "     │\u001b[90m String31 \u001b[0m\u001b[90m String          \u001b[0m\u001b[90m String15  \u001b[0m\u001b[90m Float64 \u001b[0m\u001b[90m Float64 \u001b[0m\u001b[90m Float64 \u001b[0m\u001b[90m Float6\u001b[0m ⋯\n",
       "─────┼──────────────────────────────────────────────────────────────────────────\n",
       "   1 │ 2D MATER  2D MATERIALS     2053-1583    7.103    6.861      5.5      5. ⋯\n",
       "\u001b[36m                                                                1 column omitted\u001b[0m"
      ]
     },
     "metadata": {},
     "output_type": "display_data"
    }
   ],
   "source": [
    "ISI[1, [1, 2, 3, 27, 28, 29, 30]]"
   ]
  },
  {
   "cell_type": "code",
   "execution_count": 8,
   "metadata": {},
   "outputs": [],
   "source": [
    "root = dirname(@__FILE__)\n",
    "inputAIS = joinpath(root, \"ISI_Journal_Citation_Report_2023_exportPLUS.csv\")\n",
    "AIS2023 = CSV.read(inputAIS, DataFrame; header=true, missingstring=[\"Not Available\",\"\", \"N/A\"]);\n"
   ]
  },
  {
   "cell_type": "code",
   "execution_count": 9,
   "metadata": {},
   "outputs": [
    {
     "data": {
      "text/plain": [
       "5-element Vector{Type}:\n",
       " String31\n",
       " String\n",
       " Union{Missing, String15}\n",
       " Float64\n",
       " Float64"
      ]
     },
     "metadata": {},
     "output_type": "display_data"
    }
   ],
   "source": [
    "AIS2023.\"2023AI\" = replace(AIS2023.\"2023AI\", missing => 0)\n",
    "AIS2023.\"2023IF\" = replace(AIS2023.\"2023IF\", missing => 0)\n",
    "eltype.(eachcol(AIS2023))"
   ]
  },
  {
   "cell_type": "code",
   "execution_count": 10,
   "metadata": {},
   "outputs": [
    {
     "data": {
      "text/html": [
       "<div><div style = \"float: left;\"><span>DataFrameRow (4 columns)</span></div><div style = \"clear: both;\"></div></div><div class = \"data-frame\" style = \"overflow-x: scroll;\"><table class = \"data-frame\" style = \"margin-bottom: 6px;\"><thead><tr class = \"header\"><th class = \"rowLabel\" style = \"font-weight: bold; text-align: right;\">Row</th><th style = \"text-align: left;\">Journal</th><th style = \"text-align: left;\">JournalFullName</th><th style = \"text-align: left;\">ISSN</th><th style = \"text-align: left;\">2023</th></tr><tr class = \"subheader headerLastRow\"><th class = \"rowLabel\" style = \"font-weight: bold; text-align: right;\"></th><th title = \"String31\" style = \"text-align: left;\">String31</th><th title = \"String\" style = \"text-align: left;\">String</th><th title = \"Union{Missing, String15}\" style = \"text-align: left;\">String15?</th><th title = \"Float64\" style = \"text-align: left;\">Float64</th></tr></thead><tbody><tr><td class = \"rowLabel\" style = \"font-weight: bold; text-align: right;\">876</td><td style = \"text-align: left;\">ALPHA PSYCHIAT</td><td style = \"text-align: left;\">ALPHA PSYCHIATRY</td><td style = \"font-style: italic; text-align: left;\">missing</td><td style = \"text-align: right;\">0.267</td></tr></tbody></table></div>"
      ],
      "text/latex": [
       "\\begin{tabular}{r|cccc}\n",
       "\t& Journal & JournalFullName & ISSN & 2023\\\\\n",
       "\t\\hline\n",
       "\t& String31 & String & String15? & Float64\\\\\n",
       "\t\\hline\n",
       "\t876 & ALPHA PSYCHIAT & ALPHA PSYCHIATRY & \\emph{missing} & 0.267 \\\\\n",
       "\\end{tabular}\n"
      ],
      "text/plain": [
       "\u001b[1mDataFrameRow\u001b[0m\n",
       "\u001b[1m Row \u001b[0m│\u001b[1m Journal        \u001b[0m\u001b[1m JournalFullName  \u001b[0m\u001b[1m ISSN      \u001b[0m\u001b[1m 2023    \u001b[0m\n",
       "     │\u001b[90m String31       \u001b[0m\u001b[90m String           \u001b[0m\u001b[90m String15? \u001b[0m\u001b[90m Float64 \u001b[0m\n",
       "─────┼──────────────────────────────────────────────────────\n",
       " 876 │ ALPHA PSYCHIAT  ALPHA PSYCHIATRY \u001b[90m missing   \u001b[0m   0.267"
      ]
     },
     "metadata": {},
     "output_type": "display_data"
    }
   ],
   "source": [
    "ISI2023 = AIS2023[!, [1, 2, 3, 4]]\n",
    "AIS2023 = AIS2023[!, [1, 2, 3, 5]]\n",
    "\n",
    "rename!(AIS2023,:\"2023AI\" => :\"2023\")\n",
    "AIS2023.\"2023\" = replace(AIS2023.\"2023\", \"N/A\" => 0)\n",
    "AIS2023[876, :]"
   ]
  },
  {
   "cell_type": "code",
   "execution_count": 11,
   "metadata": {},
   "outputs": [
    {
     "data": {
      "text/html": [
       "<div><div style = \"float: left;\"><span>DataFrameRow (4 columns)</span></div><div style = \"clear: both;\"></div></div><div class = \"data-frame\" style = \"overflow-x: scroll;\"><table class = \"data-frame\" style = \"margin-bottom: 6px;\"><thead><tr class = \"header\"><th class = \"rowLabel\" style = \"font-weight: bold; text-align: right;\">Row</th><th style = \"text-align: left;\">Journal</th><th style = \"text-align: left;\">JournalFullName</th><th style = \"text-align: left;\">ISSN</th><th style = \"text-align: left;\">2023</th></tr><tr class = \"subheader headerLastRow\"><th class = \"rowLabel\" style = \"font-weight: bold; text-align: right;\"></th><th title = \"String31\" style = \"text-align: left;\">String31</th><th title = \"String\" style = \"text-align: left;\">String</th><th title = \"Union{Missing, String15}\" style = \"text-align: left;\">String15?</th><th title = \"Float64\" style = \"text-align: left;\">Float64</th></tr></thead><tbody><tr><td class = \"rowLabel\" style = \"font-weight: bold; text-align: right;\">876</td><td style = \"text-align: left;\">ALPHA PSYCHIAT</td><td style = \"text-align: left;\">ALPHA PSYCHIATRY</td><td style = \"font-style: italic; text-align: left;\">missing</td><td style = \"text-align: right;\">1.3</td></tr></tbody></table></div>"
      ],
      "text/latex": [
       "\\begin{tabular}{r|cccc}\n",
       "\t& Journal & JournalFullName & ISSN & 2023\\\\\n",
       "\t\\hline\n",
       "\t& String31 & String & String15? & Float64\\\\\n",
       "\t\\hline\n",
       "\t876 & ALPHA PSYCHIAT & ALPHA PSYCHIATRY & \\emph{missing} & 1.3 \\\\\n",
       "\\end{tabular}\n"
      ],
      "text/plain": [
       "\u001b[1mDataFrameRow\u001b[0m\n",
       "\u001b[1m Row \u001b[0m│\u001b[1m Journal        \u001b[0m\u001b[1m JournalFullName  \u001b[0m\u001b[1m ISSN      \u001b[0m\u001b[1m 2023    \u001b[0m\n",
       "     │\u001b[90m String31       \u001b[0m\u001b[90m String           \u001b[0m\u001b[90m String15? \u001b[0m\u001b[90m Float64 \u001b[0m\n",
       "─────┼──────────────────────────────────────────────────────\n",
       " 876 │ ALPHA PSYCHIAT  ALPHA PSYCHIATRY \u001b[90m missing   \u001b[0m     1.3"
      ]
     },
     "metadata": {},
     "output_type": "display_data"
    }
   ],
   "source": [
    "rename!(ISI2023,:\"2023IF\" => :\"2023\")\n",
    "ISI2023.\"2023\" = replace(ISI2023.\"2023\", \"N/A\" => 0)\n",
    "ISI2023[876, :]"
   ]
  },
  {
   "cell_type": "code",
   "execution_count": 12,
   "metadata": {},
   "outputs": [
    {
     "data": {
      "text/html": [
       "<div><div style = \"float: left;\"><span>DataFrameRow (6 columns)</span></div><div style = \"clear: both;\"></div></div><div class = \"data-frame\" style = \"overflow-x: scroll;\"><table class = \"data-frame\" style = \"margin-bottom: 6px;\"><thead><tr class = \"header\"><th class = \"rowLabel\" style = \"font-weight: bold; text-align: right;\">Row</th><th style = \"text-align: left;\">Journal</th><th style = \"text-align: left;\">JournalFullName</th><th style = \"text-align: left;\">ISSN</th><th style = \"text-align: left;\">2020</th><th style = \"text-align: left;\">2021</th><th style = \"text-align: left;\">2022</th></tr><tr class = \"subheader headerLastRow\"><th class = \"rowLabel\" style = \"font-weight: bold; text-align: right;\"></th><th title = \"String31\" style = \"text-align: left;\">String31</th><th title = \"String\" style = \"text-align: left;\">String</th><th title = \"String15\" style = \"text-align: left;\">String15</th><th title = \"Float64\" style = \"text-align: left;\">Float64</th><th title = \"Float64\" style = \"text-align: left;\">Float64</th><th title = \"Float64\" style = \"text-align: left;\">Float64</th></tr></thead><tbody><tr><td class = \"rowLabel\" style = \"font-weight: bold; text-align: right;\">1</td><td style = \"text-align: left;\">2D MATER</td><td style = \"text-align: left;\">2D MATERIALS</td><td style = \"text-align: left;\">2053-1583</td><td style = \"text-align: right;\">2.17</td><td style = \"text-align: right;\">1.858</td><td style = \"text-align: right;\">1.64</td></tr></tbody></table></div>"
      ],
      "text/latex": [
       "\\begin{tabular}{r|cccccc}\n",
       "\t& Journal & JournalFullName & ISSN & 2020 & 2021 & 2022\\\\\n",
       "\t\\hline\n",
       "\t& String31 & String & String15 & Float64 & Float64 & Float64\\\\\n",
       "\t\\hline\n",
       "\t1 & 2D MATER & 2D MATERIALS & 2053-1583 & 2.17 & 1.858 & 1.64 \\\\\n",
       "\\end{tabular}\n"
      ],
      "text/plain": [
       "\u001b[1mDataFrameRow\u001b[0m\n",
       "\u001b[1m Row \u001b[0m│\u001b[1m Journal  \u001b[0m\u001b[1m JournalFullName \u001b[0m\u001b[1m ISSN      \u001b[0m\u001b[1m 2020    \u001b[0m\u001b[1m 2021    \u001b[0m\u001b[1m 2022    \u001b[0m\n",
       "     │\u001b[90m String31 \u001b[0m\u001b[90m String          \u001b[0m\u001b[90m String15  \u001b[0m\u001b[90m Float64 \u001b[0m\u001b[90m Float64 \u001b[0m\u001b[90m Float64 \u001b[0m\n",
       "─────┼─────────────────────────────────────────────────────────────────\n",
       "   1 │ 2D MATER  2D MATERIALS     2053-1583     2.17    1.858     1.64"
      ]
     },
     "metadata": {},
     "output_type": "display_data"
    }
   ],
   "source": [
    "AIS[1, [1, 2, 3, 27, 28, 29]]"
   ]
  },
  {
   "cell_type": "code",
   "execution_count": 13,
   "metadata": {},
   "outputs": [
    {
     "data": {
      "text/html": [
       "<div><div style = \"float: left;\"><span>DataFrameRow (3 columns)</span></div><div style = \"clear: both;\"></div></div><div class = \"data-frame\" style = \"overflow-x: scroll;\"><table class = \"data-frame\" style = \"margin-bottom: 6px;\"><thead><tr class = \"header\"><th class = \"rowLabel\" style = \"font-weight: bold; text-align: right;\">Row</th><th style = \"text-align: left;\">Journal</th><th style = \"text-align: left;\">JournalFullName</th><th style = \"text-align: left;\">ISSN</th></tr><tr class = \"subheader headerLastRow\"><th class = \"rowLabel\" style = \"font-weight: bold; text-align: right;\"></th><th title = \"String31\" style = \"text-align: left;\">String31</th><th title = \"String\" style = \"text-align: left;\">String</th><th title = \"Union{Missing, String15}\" style = \"text-align: left;\">String15?</th></tr></thead><tbody><tr><td class = \"rowLabel\" style = \"font-weight: bold; text-align: right;\">876</td><td style = \"text-align: left;\">ALPHA PSYCHIAT</td><td style = \"text-align: left;\">ALPHA PSYCHIATRY</td><td style = \"font-style: italic; text-align: left;\">missing</td></tr></tbody></table></div>"
      ],
      "text/latex": [
       "\\begin{tabular}{r|ccc}\n",
       "\t& Journal & JournalFullName & ISSN\\\\\n",
       "\t\\hline\n",
       "\t& String31 & String & String15?\\\\\n",
       "\t\\hline\n",
       "\t876 & ALPHA PSYCHIAT & ALPHA PSYCHIATRY & \\emph{missing} \\\\\n",
       "\\end{tabular}\n"
      ],
      "text/plain": [
       "\u001b[1mDataFrameRow\u001b[0m\n",
       "\u001b[1m Row \u001b[0m│\u001b[1m Journal        \u001b[0m\u001b[1m JournalFullName  \u001b[0m\u001b[1m ISSN      \u001b[0m\n",
       "     │\u001b[90m String31       \u001b[0m\u001b[90m String           \u001b[0m\u001b[90m String15? \u001b[0m\n",
       "─────┼─────────────────────────────────────────────\n",
       " 876 │ ALPHA PSYCHIAT  ALPHA PSYCHIATRY \u001b[90m missing   \u001b[0m"
      ]
     },
     "metadata": {},
     "output_type": "display_data"
    }
   ],
   "source": [
    "AIS2023[876, [1, 2, 3]]"
   ]
  },
  {
   "cell_type": "markdown",
   "metadata": {},
   "source": [
    "De aici incepe partea AIS ce poate fi repetata la IF"
   ]
  },
  {
   "cell_type": "code",
   "execution_count": 14,
   "metadata": {},
   "outputs": [
    {
     "data": {
      "text/html": [
       "<div><div style = \"float: left;\"><span>DataFrameRow (29 columns)</span></div><div style = \"clear: both;\"></div></div><div class = \"data-frame\" style = \"overflow-x: scroll;\"><table class = \"data-frame\" style = \"margin-bottom: 6px;\"><thead><tr class = \"header\"><th class = \"rowLabel\" style = \"font-weight: bold; text-align: right;\">Row</th><th style = \"text-align: left;\">Journal</th><th style = \"text-align: left;\">JournalFullName</th><th style = \"text-align: left;\">ISSN</th><th style = \"text-align: left;\">1997</th><th style = \"text-align: left;\">1998</th><th style = \"text-align: left;\">1999</th><th style = \"text-align: left;\">2000</th><th style = \"text-align: left;\">2001</th><th style = \"text-align: left;\">2002</th><th style = \"text-align: left;\">2003</th><th style = \"text-align: left;\">2004</th><th style = \"text-align: left;\">2005</th><th style = \"text-align: left;\">2006</th><th style = \"text-align: left;\">2007</th><th style = \"text-align: left;\">2008</th><th style = \"text-align: left;\">2009</th><th style = \"text-align: left;\">2010</th><th style = \"text-align: left;\">2011</th><th style = \"text-align: left;\">2012</th><th style = \"text-align: left;\">2013</th><th style = \"text-align: left;\">2014</th><th style = \"text-align: left;\">2015</th><th style = \"text-align: left;\">2016</th><th style = \"text-align: left;\">2017</th><th style = \"text-align: left;\">2018</th><th style = \"text-align: left;\">2019</th><th style = \"text-align: left;\">2020</th><th style = \"text-align: left;\">2021</th><th style = \"text-align: left;\">2022</th></tr><tr class = \"subheader headerLastRow\"><th class = \"rowLabel\" style = \"font-weight: bold; text-align: right;\"></th><th title = \"String31\" style = \"text-align: left;\">String31</th><th title = \"String\" style = \"text-align: left;\">String</th><th title = \"String15\" style = \"text-align: left;\">String15</th><th title = \"Float64\" style = \"text-align: left;\">Float64</th><th title = \"Float64\" style = \"text-align: left;\">Float64</th><th title = \"Float64\" style = \"text-align: left;\">Float64</th><th title = \"Float64\" style = \"text-align: left;\">Float64</th><th title = \"Float64\" style = \"text-align: left;\">Float64</th><th title = \"Float64\" style = \"text-align: left;\">Float64</th><th title = \"Float64\" style = \"text-align: left;\">Float64</th><th title = \"Float64\" style = \"text-align: left;\">Float64</th><th title = \"Float64\" style = \"text-align: left;\">Float64</th><th title = \"Float64\" style = \"text-align: left;\">Float64</th><th title = \"Float64\" style = \"text-align: left;\">Float64</th><th title = \"Float64\" style = \"text-align: left;\">Float64</th><th title = \"Float64\" style = \"text-align: left;\">Float64</th><th title = \"Float64\" style = \"text-align: left;\">Float64</th><th title = \"Float64\" style = \"text-align: left;\">Float64</th><th title = \"Float64\" style = \"text-align: left;\">Float64</th><th title = \"Float64\" style = \"text-align: left;\">Float64</th><th title = \"Float64\" style = \"text-align: left;\">Float64</th><th title = \"Float64\" style = \"text-align: left;\">Float64</th><th title = \"Float64\" style = \"text-align: left;\">Float64</th><th title = \"Float64\" style = \"text-align: left;\">Float64</th><th title = \"Float64\" style = \"text-align: left;\">Float64</th><th title = \"Float64\" style = \"text-align: left;\">Float64</th><th title = \"Float64\" style = \"text-align: left;\">Float64</th><th title = \"Float64\" style = \"text-align: left;\">Float64</th><th title = \"Float64\" style = \"text-align: left;\">Float64</th></tr></thead><tbody><tr><td class = \"rowLabel\" style = \"font-weight: bold; text-align: right;\">1</td><td style = \"text-align: left;\">2D MATER</td><td style = \"text-align: left;\">2D MATERIALS</td><td style = \"text-align: left;\">2053-1583</td><td style = \"text-align: right;\">5.146</td><td style = \"text-align: right;\">5.146</td><td style = \"text-align: right;\">5.146</td><td style = \"text-align: right;\">5.146</td><td style = \"text-align: right;\">5.146</td><td style = \"text-align: right;\">5.146</td><td style = \"text-align: right;\">5.146</td><td style = \"text-align: right;\">5.146</td><td style = \"text-align: right;\">5.146</td><td style = \"text-align: right;\">5.146</td><td style = \"text-align: right;\">5.146</td><td style = \"text-align: right;\">5.146</td><td style = \"text-align: right;\">5.146</td><td style = \"text-align: right;\">5.146</td><td style = \"text-align: right;\">5.146</td><td style = \"text-align: right;\">5.146</td><td style = \"text-align: right;\">5.146</td><td style = \"text-align: right;\">5.146</td><td style = \"text-align: right;\">5.146</td><td style = \"text-align: right;\">2.708</td><td style = \"text-align: right;\">2.646</td><td style = \"text-align: right;\">2.729</td><td style = \"text-align: right;\">2.439</td><td style = \"text-align: right;\">2.17</td><td style = \"text-align: right;\">1.858</td><td style = \"text-align: right;\">1.64</td></tr></tbody></table></div>"
      ],
      "text/latex": [
       "\\begin{tabular}{r|ccccccccc}\n",
       "\t& Journal & JournalFullName & ISSN & 1997 & 1998 & 1999 & 2000 & 2001 & \\\\\n",
       "\t\\hline\n",
       "\t& String31 & String & String15 & Float64 & Float64 & Float64 & Float64 & Float64 & \\\\\n",
       "\t\\hline\n",
       "\t1 & 2D MATER & 2D MATERIALS & 2053-1583 & 5.146 & 5.146 & 5.146 & 5.146 & 5.146 & $\\dots$ \\\\\n",
       "\\end{tabular}\n"
      ],
      "text/plain": [
       "\u001b[1mDataFrameRow\u001b[0m\n",
       "\u001b[1m Row \u001b[0m│\u001b[1m Journal  \u001b[0m\u001b[1m JournalFullName \u001b[0m\u001b[1m ISSN      \u001b[0m\u001b[1m 1997    \u001b[0m\u001b[1m 1998    \u001b[0m\u001b[1m 1999    \u001b[0m\u001b[1m 2000  \u001b[0m ⋯\n",
       "     │\u001b[90m String31 \u001b[0m\u001b[90m String          \u001b[0m\u001b[90m String15  \u001b[0m\u001b[90m Float64 \u001b[0m\u001b[90m Float64 \u001b[0m\u001b[90m Float64 \u001b[0m\u001b[90m Float6\u001b[0m ⋯\n",
       "─────┼──────────────────────────────────────────────────────────────────────────\n",
       "   1 │ 2D MATER  2D MATERIALS     2053-1583    5.146    5.146    5.146    5.14 ⋯\n",
       "\u001b[36m                                                              23 columns omitted\u001b[0m"
      ]
     },
     "metadata": {},
     "output_type": "display_data"
    }
   ],
   "source": [
    "AIS = select(AIS, Not([:\"2023\"]))\n",
    "AIS = dropmissing(AIS, :ISSN)\n",
    "AIS[1, :]"
   ]
  },
  {
   "cell_type": "code",
   "execution_count": 15,
   "metadata": {},
   "outputs": [],
   "source": [
    "#AIS = leftjoin(AIS, AIS2022; on=:\"Journal\", makeunique=true)\n",
    "AIS_new = outerjoin(AIS, AIS2023; on=:\"Journal\", makeunique=true);"
   ]
  },
  {
   "cell_type": "markdown",
   "metadata": {},
   "source": [
    "Aici avem si reviste noi (ISSNuri noi) cu AIS pe ultimul an si nimic in rest"
   ]
  },
  {
   "cell_type": "code",
   "execution_count": 16,
   "metadata": {},
   "outputs": [],
   "source": [
    "for row in eachrow( AIS_new )\n",
    "    if ismissing(row[:\"JournalFullName\"])\n",
    "        row[:\"JournalFullName\"] = row[:\"JournalFullName_1\"]\n",
    "        row[:\"ISSN\"] = row[:\"ISSN_1\"]\n",
    "    end\n",
    "end\n",
    "AIS_new = select!(AIS_new, Not([:\"JournalFullName_1\", :\"ISSN_1\"]));\n",
    "AIS_new.\"1997\" = replace(AIS_new.\"1997\", missing => 0)\n",
    "AIS_new.\"1998\" = replace(AIS_new.\"1998\", missing => 0)\n",
    "AIS_new.\"1999\" = replace(AIS_new.\"1999\", missing => 0)\n",
    "AIS_new.\"2000\" = replace(AIS_new.\"2000\", missing => 0)\n",
    "AIS_new.\"2001\" = replace(AIS_new.\"2001\", missing => 0)\n",
    "AIS_new.\"2002\" = replace(AIS_new.\"2002\", missing => 0)\n",
    "AIS_new.\"2003\" = replace(AIS_new.\"2003\", missing => 0)\n",
    "AIS_new.\"2004\" = replace(AIS_new.\"2004\", missing => 0)\n",
    "AIS_new.\"2005\" = replace(AIS_new.\"2005\", missing => 0)\n",
    "AIS_new.\"2006\" = replace(AIS_new.\"2006\", missing => 0)\n",
    "AIS_new.\"2007\" = replace(AIS_new.\"2007\", missing => 0)\n",
    "AIS_new.\"2008\" = replace(AIS_new.\"2008\", missing => 0)\n",
    "AIS_new.\"2009\" = replace(AIS_new.\"2009\", missing => 0)\n",
    "AIS_new.\"2010\" = replace(AIS_new.\"2010\", missing => 0)\n",
    "AIS_new.\"2011\" = replace(AIS_new.\"2011\", missing => 0)\n",
    "AIS_new.\"2012\" = replace(AIS_new.\"2012\", missing => 0)\n",
    "AIS_new.\"2013\" = replace(AIS_new.\"2013\", missing => 0)\n",
    "AIS_new.\"2014\" = replace(AIS_new.\"2014\", missing => 0)\n",
    "AIS_new.\"2015\" = replace(AIS_new.\"2015\", missing => 0)\n",
    "AIS_new.\"2016\" = replace(AIS_new.\"2016\", missing => 0)\n",
    "AIS_new.\"2017\" = replace(AIS_new.\"2017\", missing => 0)\n",
    "AIS_new.\"2018\" = replace(AIS_new.\"2018\", missing => 0)\n",
    "AIS_new.\"2019\" = replace(AIS_new.\"2019\", missing => 0)\n",
    "AIS_new.\"2020\" = replace(AIS_new.\"2020\", missing => 0)\n",
    "AIS_new.\"2021\" = replace(AIS_new.\"2021\", missing => 0)\n",
    "AIS_new.\"2022\" = replace(AIS_new.\"2022\", missing => 0)\n",
    "AIS_new.\"2023\" = replace(AIS_new.\"2023\", missing => 0);"
   ]
  },
  {
   "cell_type": "code",
   "execution_count": 17,
   "metadata": {},
   "outputs": [],
   "source": [
    "insertcols!(AIS_new, :\"2024\" => AIS_new.\"2023\");"
   ]
  },
  {
   "cell_type": "markdown",
   "metadata": {},
   "source": [
    "Aceleasi lucruri pentru IF"
   ]
  },
  {
   "cell_type": "code",
   "execution_count": 18,
   "metadata": {},
   "outputs": [
    {
     "data": {
      "text/html": [
       "<div><div style = \"float: left;\"><span>DataFrameRow (29 columns)</span></div><div style = \"clear: both;\"></div></div><div class = \"data-frame\" style = \"overflow-x: scroll;\"><table class = \"data-frame\" style = \"margin-bottom: 6px;\"><thead><tr class = \"header\"><th class = \"rowLabel\" style = \"font-weight: bold; text-align: right;\">Row</th><th style = \"text-align: left;\">Journal</th><th style = \"text-align: left;\">JournalFullName</th><th style = \"text-align: left;\">ISSN</th><th style = \"text-align: left;\">1997</th><th style = \"text-align: left;\">1998</th><th style = \"text-align: left;\">1999</th><th style = \"text-align: left;\">2000</th><th style = \"text-align: left;\">2001</th><th style = \"text-align: left;\">2002</th><th style = \"text-align: left;\">2003</th><th style = \"text-align: left;\">2004</th><th style = \"text-align: left;\">2005</th><th style = \"text-align: left;\">2006</th><th style = \"text-align: left;\">2007</th><th style = \"text-align: left;\">2008</th><th style = \"text-align: left;\">2009</th><th style = \"text-align: left;\">2010</th><th style = \"text-align: left;\">2011</th><th style = \"text-align: left;\">2012</th><th style = \"text-align: left;\">2013</th><th style = \"text-align: left;\">2014</th><th style = \"text-align: left;\">2015</th><th style = \"text-align: left;\">2016</th><th style = \"text-align: left;\">2017</th><th style = \"text-align: left;\">2018</th><th style = \"text-align: left;\">2019</th><th style = \"text-align: left;\">2020</th><th style = \"text-align: left;\">2021</th><th style = \"text-align: left;\">2022</th></tr><tr class = \"subheader headerLastRow\"><th class = \"rowLabel\" style = \"font-weight: bold; text-align: right;\"></th><th title = \"String31\" style = \"text-align: left;\">String31</th><th title = \"String\" style = \"text-align: left;\">String</th><th title = \"String15\" style = \"text-align: left;\">String15</th><th title = \"Float64\" style = \"text-align: left;\">Float64</th><th title = \"Float64\" style = \"text-align: left;\">Float64</th><th title = \"Float64\" style = \"text-align: left;\">Float64</th><th title = \"Float64\" style = \"text-align: left;\">Float64</th><th title = \"Float64\" style = \"text-align: left;\">Float64</th><th title = \"Float64\" style = \"text-align: left;\">Float64</th><th title = \"Float64\" style = \"text-align: left;\">Float64</th><th title = \"Float64\" style = \"text-align: left;\">Float64</th><th title = \"Float64\" style = \"text-align: left;\">Float64</th><th title = \"Float64\" style = \"text-align: left;\">Float64</th><th title = \"Float64\" style = \"text-align: left;\">Float64</th><th title = \"Float64\" style = \"text-align: left;\">Float64</th><th title = \"Float64\" style = \"text-align: left;\">Float64</th><th title = \"Float64\" style = \"text-align: left;\">Float64</th><th title = \"Float64\" style = \"text-align: left;\">Float64</th><th title = \"Float64\" style = \"text-align: left;\">Float64</th><th title = \"Float64\" style = \"text-align: left;\">Float64</th><th title = \"Float64\" style = \"text-align: left;\">Float64</th><th title = \"Float64\" style = \"text-align: left;\">Float64</th><th title = \"Float64\" style = \"text-align: left;\">Float64</th><th title = \"Float64\" style = \"text-align: left;\">Float64</th><th title = \"Float64\" style = \"text-align: left;\">Float64</th><th title = \"Float64\" style = \"text-align: left;\">Float64</th><th title = \"Float64\" style = \"text-align: left;\">Float64</th><th title = \"Float64\" style = \"text-align: left;\">Float64</th><th title = \"Float64\" style = \"text-align: left;\">Float64</th></tr></thead><tbody><tr><td class = \"rowLabel\" style = \"font-weight: bold; text-align: right;\">1</td><td style = \"text-align: left;\">2D MATER</td><td style = \"text-align: left;\">2D MATERIALS</td><td style = \"text-align: left;\">2053-1583</td><td style = \"text-align: right;\">9.611</td><td style = \"text-align: right;\">9.611</td><td style = \"text-align: right;\">9.611</td><td style = \"text-align: right;\">9.611</td><td style = \"text-align: right;\">9.611</td><td style = \"text-align: right;\">9.611</td><td style = \"text-align: right;\">9.611</td><td style = \"text-align: right;\">9.611</td><td style = \"text-align: right;\">9.611</td><td style = \"text-align: right;\">9.611</td><td style = \"text-align: right;\">9.611</td><td style = \"text-align: right;\">9.611</td><td style = \"text-align: right;\">9.611</td><td style = \"text-align: right;\">9.611</td><td style = \"text-align: right;\">9.611</td><td style = \"text-align: right;\">9.611</td><td style = \"text-align: right;\">9.611</td><td style = \"text-align: right;\">9.611</td><td style = \"text-align: right;\">9.611</td><td style = \"text-align: right;\">6.937</td><td style = \"text-align: right;\">7.042</td><td style = \"text-align: right;\">7.343</td><td style = \"text-align: right;\">7.14</td><td style = \"text-align: right;\">7.103</td><td style = \"text-align: right;\">6.861</td><td style = \"text-align: right;\">5.5</td></tr></tbody></table></div>"
      ],
      "text/latex": [
       "\\begin{tabular}{r|ccccccccc}\n",
       "\t& Journal & JournalFullName & ISSN & 1997 & 1998 & 1999 & 2000 & 2001 & \\\\\n",
       "\t\\hline\n",
       "\t& String31 & String & String15 & Float64 & Float64 & Float64 & Float64 & Float64 & \\\\\n",
       "\t\\hline\n",
       "\t1 & 2D MATER & 2D MATERIALS & 2053-1583 & 9.611 & 9.611 & 9.611 & 9.611 & 9.611 & $\\dots$ \\\\\n",
       "\\end{tabular}\n"
      ],
      "text/plain": [
       "\u001b[1mDataFrameRow\u001b[0m\n",
       "\u001b[1m Row \u001b[0m│\u001b[1m Journal  \u001b[0m\u001b[1m JournalFullName \u001b[0m\u001b[1m ISSN      \u001b[0m\u001b[1m 1997    \u001b[0m\u001b[1m 1998    \u001b[0m\u001b[1m 1999    \u001b[0m\u001b[1m 2000  \u001b[0m ⋯\n",
       "     │\u001b[90m String31 \u001b[0m\u001b[90m String          \u001b[0m\u001b[90m String15  \u001b[0m\u001b[90m Float64 \u001b[0m\u001b[90m Float64 \u001b[0m\u001b[90m Float64 \u001b[0m\u001b[90m Float6\u001b[0m ⋯\n",
       "─────┼──────────────────────────────────────────────────────────────────────────\n",
       "   1 │ 2D MATER  2D MATERIALS     2053-1583    9.611    9.611    9.611    9.61 ⋯\n",
       "\u001b[36m                                                              23 columns omitted\u001b[0m"
      ]
     },
     "metadata": {},
     "output_type": "display_data"
    }
   ],
   "source": [
    "ISI = select(ISI, Not([:\"2023\"]))\n",
    "ISI = dropmissing(ISI, :ISSN)\n",
    "ISI[1, :]"
   ]
  },
  {
   "cell_type": "code",
   "execution_count": 19,
   "metadata": {},
   "outputs": [],
   "source": [
    "ISI_new = outerjoin(ISI, ISI2023; on=:\"Journal\", makeunique=true);"
   ]
  },
  {
   "cell_type": "code",
   "execution_count": 20,
   "metadata": {},
   "outputs": [],
   "source": [
    "for row in eachrow( ISI_new )\n",
    "    if ismissing(row[:\"JournalFullName\"])\n",
    "        row[:\"JournalFullName\"] = row[:\"JournalFullName_1\"]\n",
    "        row[:\"ISSN\"] = row[:\"ISSN_1\"]\n",
    "    end\n",
    "end\n",
    "ISI_new = select!(ISI_new, Not([:\"JournalFullName_1\", :\"ISSN_1\"]));\n",
    "ISI_new.\"1997\" = replace(ISI_new.\"1997\", missing => 0)\n",
    "ISI_new.\"1998\" = replace(ISI_new.\"1998\", missing => 0)\n",
    "ISI_new.\"1999\" = replace(ISI_new.\"1999\", missing => 0)\n",
    "ISI_new.\"2000\" = replace(ISI_new.\"2000\", missing => 0)\n",
    "ISI_new.\"2001\" = replace(ISI_new.\"2001\", missing => 0)\n",
    "ISI_new.\"2002\" = replace(ISI_new.\"2002\", missing => 0)\n",
    "ISI_new.\"2003\" = replace(ISI_new.\"2003\", missing => 0)\n",
    "ISI_new.\"2004\" = replace(ISI_new.\"2004\", missing => 0)\n",
    "ISI_new.\"2005\" = replace(ISI_new.\"2005\", missing => 0)\n",
    "ISI_new.\"2006\" = replace(ISI_new.\"2006\", missing => 0)\n",
    "ISI_new.\"2007\" = replace(ISI_new.\"2007\", missing => 0)\n",
    "ISI_new.\"2008\" = replace(ISI_new.\"2008\", missing => 0)\n",
    "ISI_new.\"2009\" = replace(ISI_new.\"2009\", missing => 0)\n",
    "ISI_new.\"2010\" = replace(ISI_new.\"2010\", missing => 0)\n",
    "ISI_new.\"2011\" = replace(ISI_new.\"2011\", missing => 0)\n",
    "ISI_new.\"2012\" = replace(ISI_new.\"2012\", missing => 0)\n",
    "ISI_new.\"2013\" = replace(ISI_new.\"2013\", missing => 0)\n",
    "ISI_new.\"2014\" = replace(ISI_new.\"2014\", missing => 0)\n",
    "ISI_new.\"2015\" = replace(ISI_new.\"2015\", missing => 0)\n",
    "ISI_new.\"2016\" = replace(ISI_new.\"2016\", missing => 0)\n",
    "ISI_new.\"2017\" = replace(ISI_new.\"2017\", missing => 0)\n",
    "ISI_new.\"2018\" = replace(ISI_new.\"2018\", missing => 0)\n",
    "ISI_new.\"2019\" = replace(ISI_new.\"2019\", missing => 0)\n",
    "ISI_new.\"2020\" = replace(ISI_new.\"2020\", missing => 0)\n",
    "ISI_new.\"2021\" = replace(ISI_new.\"2021\", missing => 0)\n",
    "ISI_new.\"2022\" = replace(ISI_new.\"2022\", missing => 0)\n",
    "ISI_new.\"2023\" = replace(ISI_new.\"2023\", missing => 0);"
   ]
  },
  {
   "cell_type": "code",
   "execution_count": 21,
   "metadata": {},
   "outputs": [],
   "source": [
    "insertcols!(ISI_new, :\"2024\" => ISI_new.\"2023\");"
   ]
  },
  {
   "cell_type": "code",
   "execution_count": 22,
   "metadata": {},
   "outputs": [
    {
     "data": {
      "text/plain": [
       "\"/home/lali/TITAN-ROG-sync/julia/ISI/IF_factor_full_1997-2024_plus.txt\""
      ]
     },
     "metadata": {},
     "output_type": "display_data"
    }
   ],
   "source": [
    "root = dirname(@__FILE__)\n",
    "outputAIS = joinpath(root, \"AI_factor_full_1997-2024_plus.txt\")\n",
    "CSV.write(outputAIS, AIS_new; delim='\\t')\n",
    "outputISI = joinpath(root, \"IF_factor_full_1997-2024_plus.txt\")\n",
    "CSV.write(outputISI, ISI_new; delim='\\t')"
   ]
  },
  {
   "cell_type": "code",
   "execution_count": null,
   "metadata": {},
   "outputs": [],
   "source": []
  }
 ],
 "metadata": {
  "kernelspec": {
   "display_name": "Julia 1.10.0",
   "language": "julia",
   "name": "julia-1.10"
  },
  "language_info": {
   "file_extension": ".jl",
   "mimetype": "application/julia",
   "name": "julia",
   "version": "1.10.0"
  },
  "orig_nbformat": 4
 },
 "nbformat": 4,
 "nbformat_minor": 2
}
