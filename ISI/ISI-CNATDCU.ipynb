{
 "cells": [
  {
   "cell_type": "code",
   "execution_count": 1,
   "metadata": {},
   "outputs": [],
   "source": [
    "using CSV, DataFrames"
   ]
  },
  {
   "cell_type": "code",
   "execution_count": 2,
   "metadata": {},
   "outputs": [
    {
     "data": {
      "text/plain": [
       "\"/home/lali/TITAN-ROG-sync/julia/ISI/IF_factor_full_1997-2021.txt\""
      ]
     },
     "metadata": {},
     "output_type": "display_data"
    }
   ],
   "source": [
    "root = dirname(@__FILE__)\n",
    "inputAIS = joinpath(root, \"AI_factor_full_1997-2021.txt\")\n",
    "inputISI = joinpath(root, \"IF_factor_full_1997-2021.txt\")"
   ]
  },
  {
   "cell_type": "code",
   "execution_count": 3,
   "metadata": {},
   "outputs": [
    {
     "data": {
      "text/html": [
       "<p>DataFrameRow (6 columns)</p><div class=\"data-frame\"><table class=\"data-frame\"><thead><tr><th></th><th>Journal</th><th>1997</th><th>1998</th><th>2009</th><th>2020</th><th>2021</th></tr><tr><th></th><th title=\"String31\">String31</th><th title=\"Float64\">Float64</th><th title=\"Float64\">Float64</th><th title=\"Float64\">Float64</th><th title=\"Float64\">Float64</th><th title=\"Float64\">Float64</th></tr></thead><tbody><tr><th>8157</th><td>IEEE MAGN LETT</td><td>0.789</td><td>0.789</td><td>0.789</td><td>0.409</td><td>0.409</td></tr></tbody></table></div>"
      ],
      "text/latex": [
       "\\begin{tabular}{r|cccccc}\n",
       "\t& Journal & 1997 & 1998 & 2009 & 2020 & 2021\\\\\n",
       "\t\\hline\n",
       "\t& String31 & Float64 & Float64 & Float64 & Float64 & Float64\\\\\n",
       "\t\\hline\n",
       "\t8157 & IEEE MAGN LETT & 0.789 & 0.789 & 0.789 & 0.409 & 0.409 \\\\\n",
       "\\end{tabular}\n"
      ],
      "text/plain": [
       "\u001b[1mDataFrameRow\u001b[0m\n",
       "\u001b[1m  Row \u001b[0m│\u001b[1m Journal        \u001b[0m\u001b[1m 1997    \u001b[0m\u001b[1m 1998    \u001b[0m\u001b[1m 2009    \u001b[0m\u001b[1m 2020    \u001b[0m\u001b[1m 2021    \u001b[0m\n",
       "\u001b[1m      \u001b[0m│\u001b[90m String31       \u001b[0m\u001b[90m Float64 \u001b[0m\u001b[90m Float64 \u001b[0m\u001b[90m Float64 \u001b[0m\u001b[90m Float64 \u001b[0m\u001b[90m Float64 \u001b[0m\n",
       "──────┼─────────────────────────────────────────────────────────────\n",
       " 8157 │ IEEE MAGN LETT    0.789    0.789    0.789    0.409    0.409"
      ]
     },
     "metadata": {},
     "output_type": "display_data"
    }
   ],
   "source": [
    "AIS = CSV.read(inputAIS, DataFrame; header=true)\n",
    "AIS[8157, [1, 2, 3, 14, 25, 26]]"
   ]
  },
  {
   "cell_type": "code",
   "execution_count": 4,
   "metadata": {},
   "outputs": [
    {
     "data": {
      "text/html": [
       "<p>DataFrameRow (6 columns)</p><div class=\"data-frame\"><table class=\"data-frame\"><thead><tr><th></th><th>Journal</th><th>1997</th><th>1998</th><th>2009</th><th>2020</th><th>2021</th></tr><tr><th></th><th title=\"String31\">String31</th><th title=\"Float64\">Float64</th><th title=\"Float64\">Float64</th><th title=\"Float64\">Float64</th><th title=\"Float64\">Float64</th><th title=\"Float64\">Float64</th></tr></thead><tbody><tr><th>8157</th><td>IEEE MAGN LETT</td><td>1.692</td><td>1.692</td><td>1.692</td><td>1.549</td><td>1.549</td></tr></tbody></table></div>"
      ],
      "text/latex": [
       "\\begin{tabular}{r|cccccc}\n",
       "\t& Journal & 1997 & 1998 & 2009 & 2020 & 2021\\\\\n",
       "\t\\hline\n",
       "\t& String31 & Float64 & Float64 & Float64 & Float64 & Float64\\\\\n",
       "\t\\hline\n",
       "\t8157 & IEEE MAGN LETT & 1.692 & 1.692 & 1.692 & 1.549 & 1.549 \\\\\n",
       "\\end{tabular}\n"
      ],
      "text/plain": [
       "\u001b[1mDataFrameRow\u001b[0m\n",
       "\u001b[1m  Row \u001b[0m│\u001b[1m Journal        \u001b[0m\u001b[1m 1997    \u001b[0m\u001b[1m 1998    \u001b[0m\u001b[1m 2009    \u001b[0m\u001b[1m 2020    \u001b[0m\u001b[1m 2021    \u001b[0m\n",
       "\u001b[1m      \u001b[0m│\u001b[90m String31       \u001b[0m\u001b[90m Float64 \u001b[0m\u001b[90m Float64 \u001b[0m\u001b[90m Float64 \u001b[0m\u001b[90m Float64 \u001b[0m\u001b[90m Float64 \u001b[0m\n",
       "──────┼─────────────────────────────────────────────────────────────\n",
       " 8157 │ IEEE MAGN LETT    1.692    1.692    1.692    1.549    1.549"
      ]
     },
     "metadata": {},
     "output_type": "display_data"
    }
   ],
   "source": [
    "ISI = CSV.read(inputISI, DataFrame; header=true)\n",
    "ISI[8157, [1, 2, 3, 14, 25, 26]]"
   ]
  },
  {
   "cell_type": "code",
   "execution_count": 5,
   "metadata": {},
   "outputs": [],
   "source": []
  }
 ],
 "metadata": {
  "kernelspec": {
   "display_name": "Julia 1.6.3",
   "language": "julia",
   "name": "julia-1.6"
  },
  "language_info": {
   "file_extension": ".jl",
   "mimetype": "application/julia",
   "name": "julia",
   "version": "1.6.3"
  },
  "orig_nbformat": 4
 },
 "nbformat": 4,
 "nbformat_minor": 2
}
