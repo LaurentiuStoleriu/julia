{
 "cells": [
  {
   "cell_type": "code",
   "execution_count": 1,
   "metadata": {},
   "outputs": [],
   "source": [
    "using CSV, DataFrames"
   ]
  },
  {
   "cell_type": "code",
   "execution_count": 2,
   "metadata": {},
   "outputs": [
    {
     "data": {
      "text/plain": [
       "\"LS_savedrecs_848.txt\""
      ]
     },
     "metadata": {},
     "output_type": "display_data"
    }
   ],
   "source": [
    "primAuthor = \"Stoleriu\"\n",
    "fileOwnPapers = \"LS_savedrecs_mine.txt\"\n",
    "fileCitations = \"LS_savedrecs_848.txt\""
   ]
  },
  {
   "cell_type": "code",
   "execution_count": 3,
   "metadata": {},
   "outputs": [
    {
     "data": {
      "text/plain": [
       "\"/mnt/e/Stoleriu/Doc/CV/auto/IF_factor_full_1997-2021.txt\""
      ]
     },
     "metadata": {},
     "output_type": "display_data"
    }
   ],
   "source": [
    "#root = dirname(@__FILE__)\n",
    "root = dirname(\"/mnt/e/Stoleriu/Doc/CV/auto/\")\n",
    "inputAIS = joinpath(root, \"AI_factor_full_1997-2021.txt\")\n",
    "inputISI = joinpath(root, \"IF_factor_full_1997-2021.txt\")"
   ]
  },
  {
   "cell_type": "markdown",
   "metadata": {},
   "source": [
    "Pentru calculele pe 5 ani:"
   ]
  },
  {
   "cell_type": "code",
   "execution_count": 4,
   "metadata": {},
   "outputs": [
    {
     "data": {
      "text/plain": [
       "2021"
      ]
     },
     "metadata": {},
     "output_type": "display_data"
    }
   ],
   "source": [
    "ANini = 2017\n",
    "ANfin = 2021"
   ]
  },
  {
   "cell_type": "code",
   "execution_count": 5,
   "metadata": {},
   "outputs": [
    {
     "data": {
      "text/html": [
       "<p>DataFrameRow (6 columns)</p><div class=\"data-frame\"><table class=\"data-frame\"><thead><tr><th></th><th>Journal</th><th>1997</th><th>1998</th><th>2009</th><th>2020</th><th>2021</th></tr><tr><th></th><th title=\"String31\">String31</th><th title=\"Float64\">Float64</th><th title=\"Float64\">Float64</th><th title=\"Float64\">Float64</th><th title=\"Float64\">Float64</th><th title=\"Float64\">Float64</th></tr></thead><tbody><tr><th>8157</th><td>IEEE MAGN LETT</td><td>0.789</td><td>0.789</td><td>0.789</td><td>0.409</td><td>0.409</td></tr></tbody></table></div>"
      ],
      "text/latex": [
       "\\begin{tabular}{r|cccccc}\n",
       "\t& Journal & 1997 & 1998 & 2009 & 2020 & 2021\\\\\n",
       "\t\\hline\n",
       "\t& String31 & Float64 & Float64 & Float64 & Float64 & Float64\\\\\n",
       "\t\\hline\n",
       "\t8157 & IEEE MAGN LETT & 0.789 & 0.789 & 0.789 & 0.409 & 0.409 \\\\\n",
       "\\end{tabular}\n"
      ],
      "text/plain": [
       "\u001b[1mDataFrameRow\u001b[0m\n",
       "\u001b[1m  Row \u001b[0m│\u001b[1m Journal        \u001b[0m\u001b[1m 1997    \u001b[0m\u001b[1m 1998    \u001b[0m\u001b[1m 2009    \u001b[0m\u001b[1m 2020    \u001b[0m\u001b[1m 2021    \u001b[0m\n",
       "\u001b[1m      \u001b[0m│\u001b[90m String31       \u001b[0m\u001b[90m Float64 \u001b[0m\u001b[90m Float64 \u001b[0m\u001b[90m Float64 \u001b[0m\u001b[90m Float64 \u001b[0m\u001b[90m Float64 \u001b[0m\n",
       "──────┼─────────────────────────────────────────────────────────────\n",
       " 8157 │ IEEE MAGN LETT    0.789    0.789    0.789    0.409    0.409"
      ]
     },
     "metadata": {},
     "output_type": "display_data"
    }
   ],
   "source": [
    "AIS = CSV.read(inputAIS, DataFrame; header=true)\n",
    "AIS[8157, [1, 2, 3, 14, 25, 26]]"
   ]
  },
  {
   "cell_type": "code",
   "execution_count": 6,
   "metadata": {},
   "outputs": [
    {
     "data": {
      "text/html": [
       "<p>DataFrameRow (6 columns)</p><div class=\"data-frame\"><table class=\"data-frame\"><thead><tr><th></th><th>Journal</th><th>1997</th><th>1998</th><th>2009</th><th>2020</th><th>2021</th></tr><tr><th></th><th title=\"String31\">String31</th><th title=\"Float64\">Float64</th><th title=\"Float64\">Float64</th><th title=\"Float64\">Float64</th><th title=\"Float64\">Float64</th><th title=\"Float64\">Float64</th></tr></thead><tbody><tr><th>8157</th><td>IEEE MAGN LETT</td><td>1.692</td><td>1.692</td><td>1.692</td><td>1.549</td><td>1.549</td></tr></tbody></table></div>"
      ],
      "text/latex": [
       "\\begin{tabular}{r|cccccc}\n",
       "\t& Journal & 1997 & 1998 & 2009 & 2020 & 2021\\\\\n",
       "\t\\hline\n",
       "\t& String31 & Float64 & Float64 & Float64 & Float64 & Float64\\\\\n",
       "\t\\hline\n",
       "\t8157 & IEEE MAGN LETT & 1.692 & 1.692 & 1.692 & 1.549 & 1.549 \\\\\n",
       "\\end{tabular}\n"
      ],
      "text/plain": [
       "\u001b[1mDataFrameRow\u001b[0m\n",
       "\u001b[1m  Row \u001b[0m│\u001b[1m Journal        \u001b[0m\u001b[1m 1997    \u001b[0m\u001b[1m 1998    \u001b[0m\u001b[1m 2009    \u001b[0m\u001b[1m 2020    \u001b[0m\u001b[1m 2021    \u001b[0m\n",
       "\u001b[1m      \u001b[0m│\u001b[90m String31       \u001b[0m\u001b[90m Float64 \u001b[0m\u001b[90m Float64 \u001b[0m\u001b[90m Float64 \u001b[0m\u001b[90m Float64 \u001b[0m\u001b[90m Float64 \u001b[0m\n",
       "──────┼─────────────────────────────────────────────────────────────\n",
       " 8157 │ IEEE MAGN LETT    1.692    1.692    1.692    1.549    1.549"
      ]
     },
     "metadata": {},
     "output_type": "display_data"
    }
   ],
   "source": [
    "ISI = CSV.read(inputISI, DataFrame; header=true)\n",
    "ISI[8157, [1, 2, 3, 14, 25, 26]]"
   ]
  },
  {
   "cell_type": "code",
   "execution_count": 7,
   "metadata": {},
   "outputs": [
    {
     "data": {
      "text/plain": [
       "\"/mnt/e/Stoleriu/Doc/CV/auto/LS_savedrecs_848.txt\""
      ]
     },
     "metadata": {},
     "output_type": "display_data"
    }
   ],
   "source": [
    "#root = dirname(@__FILE__)\n",
    "root = dirname(\"/mnt/e/Stoleriu/Doc/CV/auto/\")\n",
    "inputMINE = joinpath(root, fileOwnPapers)\n",
    "inputCIT = joinpath(root, fileCitations)"
   ]
  },
  {
   "cell_type": "code",
   "execution_count": 8,
   "metadata": {},
   "outputs": [
    {
     "name": "stderr",
     "output_type": "stream",
     "text": [
      "┌ Warning: thread = 1 warning: parsed expected 67 columns, but didn't reach end of line around data row: 1. Parsing extra columns and widening final columnset\n",
      "└ @ CSV /home/lali/.julia/packages/CSV/nofYz/src/file.jl:635\n"
     ]
    }
   ],
   "source": [
    "MINEraw = CSV.read(inputMINE, DataFrame; header=true)\n",
    "eltype.(eachcol(MINEraw));"
   ]
  },
  {
   "cell_type": "code",
   "execution_count": 9,
   "metadata": {},
   "outputs": [],
   "source": [
    "MINE = MINEraw[:, [2, 9, 24, 30, 32, 42, 45, 46, 47, 52, 53, 54, 55]];\n",
    "eltype.(eachcol(MINE));"
   ]
  },
  {
   "cell_type": "code",
   "execution_count": 10,
   "metadata": {},
   "outputs": [],
   "source": [
    "MINE[1, :PY] = 2021   # ADV MAT no year!!!!\n",
    "eltype.(eachcol(MINE));"
   ]
  },
  {
   "cell_type": "code",
   "execution_count": 11,
   "metadata": {},
   "outputs": [],
   "source": [
    "#root = dirname(\"/mnt/d/Stoleriu/\")\n",
    "#outputMINE = joinpath(root, \"MINE_test.csv\")\n",
    "#CSV.write(outputMINE, MINE)"
   ]
  },
  {
   "cell_type": "markdown",
   "metadata": {},
   "source": [
    "Pregatim MINE cu noi coloane"
   ]
  },
  {
   "cell_type": "code",
   "execution_count": 12,
   "metadata": {},
   "outputs": [],
   "source": [
    "rename!(MINE,:\"J9\" => :\"Journal\")\n",
    "insertcols!(MINE, :NA => 0);\n",
    "insertcols!(MINE, :NEFF => 0.0);\n",
    "insertcols!(MINE, :PRIM => 0);\n",
    "insertcols!(MINE, :AI => 0.0);\n",
    "insertcols!(MINE, :AINEFF => 0.0);\n",
    "insertcols!(MINE, :IF => 0.0);\n",
    "insertcols!(MINE, :IFNA => 0.0);\n",
    "insertcols!(MINE, :TIMESC => 0);\n",
    "insertcols!(MINE, :CT => 0.0);\n",
    "### 5 ani\n",
    "insertcols!(MINE, :PRIM5 => 0);\n",
    "insertcols!(MINE, :AINEFF5 => 0.0);\n",
    "insertcols!(MINE, :IFNA5 => 0.0);\n",
    "insertcols!(MINE, :TIMESC5 => 0);\n",
    "insertcols!(MINE, :CT5 => 0.0);\n",
    "### UAIC\n",
    "insertcols!(MINE, :UAIC1 => 0.0);\n",
    "insertcols!(MINE, :UAIC9 => 0.0);"
   ]
  },
  {
   "cell_type": "markdown",
   "metadata": {},
   "source": [
    "Gasim numarul de autori si prim autor"
   ]
  },
  {
   "cell_type": "code",
   "execution_count": 13,
   "metadata": {},
   "outputs": [],
   "source": [
    "for (row_index, lucrare) in enumerate(eachrow(MINE))\n",
    "    MINE[row_index, :NA] = (1+count(\";\", lucrare[:AU]))\n",
    "\n",
    "    if MINE[row_index, :NA] <= 5\n",
    "        MINE[row_index, :NEFF] = MINE[row_index, :NA]\n",
    "    elseif MINE[row_index, :NA] <= 15\n",
    "        MINE[row_index, :NEFF] = (MINE[row_index, :NA] + 5.0) / 2.0\n",
    "    elseif MINE[row_index, :NA] <= 75\n",
    "        MINE[row_index, :NEFF] = (MINE[row_index, :NA] + 15.0) / 3.0\n",
    "    else\n",
    "        MINE[row_index, :NEFF] = (MINE[row_index, :NA] + 45.0) / 4.0\n",
    "    end\n",
    "\n",
    "    if findfirst(primAuthor, MINE[row_index, :AU])[1] == 1\n",
    "        MINE[row_index, :PRIM] = 1\n",
    "        if (MINE[row_index, :PY] <= ANfin) && (MINE[row_index, :PY] >= ANini)\n",
    "            MINE[row_index, :PRIM5] = 1\n",
    "        end\n",
    "    elseif occursin(primAuthor, lucrare[:RP])\n",
    "        MINE[row_index, :PRIM] = 1\n",
    "        if (MINE[row_index, :PY] <= ANfin) && (MINE[row_index, :PY] >= ANini)\n",
    "            MINE[row_index, :PRIM5] = 1\n",
    "        end\n",
    "    end\n",
    "    #println(row_index, MINE[row_index, [:NA]])\n",
    "    #println(row_index, MINE[row_index, [:PRIM]])\n",
    "end"
   ]
  },
  {
   "cell_type": "code",
   "execution_count": 14,
   "metadata": {},
   "outputs": [
    {
     "data": {
      "text/html": [
       "<div class=\"data-frame\"><p>0 rows × 9 columns</p><table class=\"data-frame\"><thead><tr><th></th><th>AU</th><th>Journal</th><th>PY</th><th>VL</th><th>AR</th><th>NA</th><th>NEFF</th><th>PRIM</th><th>AI</th></tr><tr><th></th><th title=\"String\">String</th><th title=\"Union{Missing, String31}\">String31?</th><th title=\"Int64\">Int64</th><th title=\"Union{Missing, Int64}\">Int64?</th><th title=\"Union{Missing, String7}\">String7?</th><th title=\"Int64\">Int64</th><th title=\"Float64\">Float64</th><th title=\"Int64\">Int64</th><th title=\"Float64\">Float64</th></tr></thead><tbody></tbody></table></div>"
      ],
      "text/latex": [
       "\\begin{tabular}{r|ccccccccc}\n",
       "\t& AU & Journal & PY & VL & AR & NA & NEFF & PRIM & AI\\\\\n",
       "\t\\hline\n",
       "\t& String & String31? & Int64 & Int64? & String7? & Int64 & Float64 & Int64 & Float64\\\\\n",
       "\t\\hline\n",
       "\\end{tabular}\n"
      ],
      "text/plain": [
       "\u001b[1m0×9 DataFrame\u001b[0m"
      ]
     },
     "metadata": {},
     "output_type": "display_data"
    }
   ],
   "source": [
    "#MINE[:, [6, 7, 8, 12, 14, 15, 16, 17]]\n",
    "MINE.PY = Int64.(MINE.PY)\n",
    "MINE[ismissing.(MINE[!, :PY]), [1, 6, 7, 8, 12, 14, 15, 16, 17]]"
   ]
  },
  {
   "cell_type": "code",
   "execution_count": 15,
   "metadata": {},
   "outputs": [],
   "source": [
    "#root = dirname(\"/mnt/d/Stoleriu/\")\n",
    "#outputMINE = joinpath(root, \"MINE_test.csv\")\n",
    "#CSV.write(outputMINE, MINE)"
   ]
  },
  {
   "cell_type": "code",
   "execution_count": 16,
   "metadata": {},
   "outputs": [
    {
     "data": {
      "text/plain": [
       "10"
      ]
     },
     "metadata": {},
     "output_type": "display_data"
    }
   ],
   "source": [
    "AISsubsect = filter(r -> any(occursin.(Vector(MINE[1, [:Journal]]), r.Journal)), AIS)\n",
    "#subsect2 = filter(r -> ([\"ADV MATER\"][1] .== r.Journal[1]), AIS)\n",
    "size(AISsubsect, 1)\n",
    "#[\"ADV MATER\"][1] .== subsect[1, [:Journal]][1]"
   ]
  },
  {
   "cell_type": "code",
   "execution_count": 17,
   "metadata": {},
   "outputs": [],
   "source": [
    "for (row_index, lucrare) in enumerate(eachrow(MINE))\n",
    "    #lucrare = MINE[1, :]\n",
    "    if(ismissing(lucrare[:Journal]))\n",
    "        continue\n",
    "    end\n",
    "    for AISrow in eachrow(AIS)\n",
    "        if( lucrare[:Journal] == AISrow[:Journal] )\n",
    "            anString = string(lucrare[:PY])\n",
    "            #println(AISrow[anString])\n",
    "            MINE[row_index, :AI] = AISrow[anString]\n",
    "            MINE[row_index, :AINEFF] = MINE[row_index, :AI] / MINE[row_index, :NEFF]\n",
    "            if (MINE[row_index, :PY] <= ANfin) && (MINE[row_index, :PY] >= ANini)\n",
    "                MINE[row_index, :AINEFF5] = MINE[row_index, :AINEFF]\n",
    "            end\n",
    "            \n",
    "        end\n",
    "    end\n",
    "    for ISIrow in eachrow(ISI)\n",
    "        if( lucrare[:Journal] == ISIrow[:Journal] )\n",
    "            anString = string(lucrare[:PY])\n",
    "            #println(ISIrow[anString])\n",
    "            MINE[row_index, :IF] = ISIrow[anString]\n",
    "            MINE[row_index, :IFNA] = ISIrow[anString] / MINE[row_index, :NA]\n",
    "            if (MINE[row_index, :PY] <= ANfin) && (MINE[row_index, :PY] >= ANini)\n",
    "                MINE[row_index, :IFNA5] = MINE[row_index, :IFNA]\n",
    "                MINE[row_index, :UAIC1] = (25 + 60*MINE[row_index, :IF]) / MINE[row_index, :NA]\n",
    "            end\n",
    "        end\n",
    "    end\n",
    "end"
   ]
  },
  {
   "cell_type": "code",
   "execution_count": 18,
   "metadata": {},
   "outputs": [],
   "source": [
    "#root = dirname(\"/mnt/d/Stoleriu/\")\n",
    "#outputMINE = joinpath(root, \"MINE_test.csv\")\n",
    "#CSV.write(outputMINE, MINE)"
   ]
  },
  {
   "cell_type": "code",
   "execution_count": 19,
   "metadata": {},
   "outputs": [
    {
     "data": {
      "text/plain": [
       "14.938599034299036"
      ]
     },
     "metadata": {},
     "output_type": "display_data"
    }
   ],
   "source": [
    "I = sum(MINE[!, :AINEFF])"
   ]
  },
  {
   "cell_type": "code",
   "execution_count": 20,
   "metadata": {},
   "outputs": [
    {
     "data": {
      "text/plain": [
       "10.668"
      ]
     },
     "metadata": {},
     "output_type": "display_data"
    }
   ],
   "source": [
    "P = sum(MINE[!, :PRIM] .* MINE[!, :AI])"
   ]
  },
  {
   "cell_type": "code",
   "execution_count": 21,
   "metadata": {},
   "outputs": [
    {
     "data": {
      "text/plain": [
       "1.977089826839827"
      ]
     },
     "metadata": {},
     "output_type": "display_data"
    }
   ],
   "source": [
    "I5 = sum(MINE[!, :AINEFF5])"
   ]
  },
  {
   "cell_type": "code",
   "execution_count": 22,
   "metadata": {},
   "outputs": [
    {
     "data": {
      "text/plain": [
       "2.2920000000000003"
      ]
     },
     "metadata": {},
     "output_type": "display_data"
    }
   ],
   "source": [
    "P5 = sum(MINE[!, :PRIM5] .* MINE[!, :AI])"
   ]
  },
  {
   "cell_type": "code",
   "execution_count": 23,
   "metadata": {},
   "outputs": [
    {
     "data": {
      "text/plain": [
       "540.1797777777778"
      ]
     },
     "metadata": {},
     "output_type": "display_data"
    }
   ],
   "source": [
    "UAIC_1_1 = sum(MINE[!, :UAIC1])"
   ]
  },
  {
   "cell_type": "markdown",
   "metadata": {},
   "source": [
    "############################\n",
    "Citations\n",
    "############################"
   ]
  },
  {
   "cell_type": "code",
   "execution_count": 24,
   "metadata": {},
   "outputs": [
    {
     "name": "stderr",
     "output_type": "stream",
     "text": [
      "┌ Warning: thread = 1 warning: parsed expected 67 columns, but didn't reach end of line around data row: 1. Parsing extra columns and widening final columnset\n",
      "└ @ CSV /home/lali/.julia/packages/CSV/nofYz/src/file.jl:635\n"
     ]
    }
   ],
   "source": [
    "MINECITEraw = CSV.read(inputCIT, DataFrame; header=true);\n",
    "# autocitari\n",
    "#for (row_indexCIT, lucrareCIT) in enumerate(eachrow(MINECITEraw))\n",
    "#    if( occursin(primAuthor, lucrareCIT.AU) )\n",
    "#        println(lucrareCIT.AU)\n",
    "#    end\n",
    "#end\n",
    "eltype.(eachcol(MINECITEraw));"
   ]
  },
  {
   "cell_type": "code",
   "execution_count": 25,
   "metadata": {},
   "outputs": [],
   "source": [
    "# eliminare autocitari\n",
    "MINECITEraw = filter(row -> !(occursin(primAuthor, row.AU)),  MINECITEraw);\n",
    "for (row_indexCIT, lucrareCIT) in enumerate(eachrow(MINECITEraw))\n",
    "    if( occursin(primAuthor, lucrareCIT.AU) )\n",
    "        println(lucrareCIT.AU)\n",
    "    end\n",
    "end"
   ]
  },
  {
   "cell_type": "code",
   "execution_count": 26,
   "metadata": {},
   "outputs": [],
   "source": [
    "MINECITE = MINECITEraw[:, [2, 9, 30, 42, 45, 46, 47, 52, 53, 54, 55]];\n",
    "eltype.(eachcol(MINECITE));\n",
    "rename!(MINECITE,:\"J9\" => :\"Journal\");"
   ]
  },
  {
   "cell_type": "code",
   "execution_count": 27,
   "metadata": {},
   "outputs": [],
   "source": [
    "#CITES = fill!(Vector{Vector{Int64}}(undef, size(MINE)[1]), [0]);\n",
    "CITES = Vector{Int64}[];\n",
    "for i in 1:size(MINE)[1]\n",
    "    push!(CITES, [0])\n",
    "end\n",
    "CITES_IFs = Vector{Float64}[];\n",
    "for i in 1:size(MINE)[1]\n",
    "    push!(CITES_IFs, [0.0])\n",
    "end"
   ]
  },
  {
   "cell_type": "code",
   "execution_count": 28,
   "metadata": {},
   "outputs": [],
   "source": [
    "CITES5 = Vector{Int64}[];\n",
    "for i in 1:size(MINE)[1]\n",
    "    push!(CITES5, [0])\n",
    "end\n",
    "CITES5_IFs = Vector{Float64}[];\n",
    "for i in 1:size(MINE)[1]\n",
    "    push!(CITES5_IFs, [0.0])\n",
    "end"
   ]
  },
  {
   "cell_type": "code",
   "execution_count": 29,
   "metadata": {},
   "outputs": [],
   "source": [
    "for (row_indexMINE, lucrareMINE) in enumerate(eachrow(MINE))\n",
    "    calcul_cit_UAIC = 0.0\n",
    "    if ( ismissing(lucrareMINE[:DI]) )\n",
    "        #println(\"Skip paper $row_indexMINE noDOI\")\n",
    "        continue\n",
    "    end\n",
    "    #println(\"Analyzing paper \", lucrareMINE[:DI])\n",
    "    for (row_indexCIT, lucrareCIT) in enumerate(eachrow(MINECITE))\n",
    "        if ( occursin(lucrareMINE[:DI], lucrareCIT[:CR]) )\n",
    "            #println(\"Paper $row_indexMINE cited by $row_indexCIT\")\n",
    "            ISI_value = 0.0\n",
    "            push!(CITES[row_indexMINE], row_indexCIT)\n",
    "            push!(CITES_IFs[row_indexMINE], ISI_value)\n",
    "            if (( !ismissing(lucrareCIT[:PY]) ) && ( !ismissing(lucrareCIT[:Journal]) ))\n",
    "                for ISIrow in eachrow(ISI)\n",
    "                    if( lucrareCIT[:Journal] == ISIrow[:Journal] )\n",
    "                        an_publicare_citare = lucrareCIT[:PY]\n",
    "                        if (an_publicare_citare > ANfin)\n",
    "                            an_publicare_citare = ANfin\n",
    "                        end\n",
    "                        ISI_value = ISIrow[string(an_publicare_citare)]\n",
    "                        push!(CITES_IFs[row_indexMINE], ISI_value)\n",
    "                        #CITES_IFs[row_indexMINE, size(CITES_IFs[row_indexMINE])] = ISI_value\n",
    "                        break\n",
    "                    end\n",
    "                end\n",
    "                if (lucrareCIT[:PY] <= ANfin) && (lucrareCIT[:PY] >= ANini)\n",
    "                    push!(CITES5[row_indexMINE], row_indexCIT)\n",
    "                    push!(CITES5_IFs[row_indexMINE], ISI_value)\n",
    "                    calcul_cit_UAIC = calcul_cit_UAIC + (10 + 20 * ISI_value) / lucrareMINE[:NA]\n",
    "                end\n",
    "            end\n",
    "        end\n",
    "    end\n",
    "    MINE[row_indexMINE, :TIMESC] = size(CITES[row_indexMINE])[1]-1\n",
    "    MINE[row_indexMINE, :CT] = MINE[row_indexMINE, :TIMESC] / MINE[row_indexMINE, :NEFF]\n",
    "    MINE[row_indexMINE, :TIMESC5] = size(CITES5[row_indexMINE])[1]-1\n",
    "    MINE[row_indexMINE, :CT5] = MINE[row_indexMINE, :TIMESC5] / MINE[row_indexMINE, :NEFF]\n",
    "    MINE[row_indexMINE, :UAIC9] = calcul_cit_UAIC\n",
    "\n",
    "end;"
   ]
  },
  {
   "cell_type": "code",
   "execution_count": 30,
   "metadata": {},
   "outputs": [
    {
     "data": {
      "text/plain": [
       "3-element Vector{Int64}:\n",
       "  0\n",
       " 10\n",
       " 15"
      ]
     },
     "metadata": {},
     "output_type": "display_data"
    }
   ],
   "source": [
    "CITES5[2]"
   ]
  },
  {
   "cell_type": "code",
   "execution_count": 31,
   "metadata": {},
   "outputs": [
    {
     "data": {
      "text/plain": [
       "(3,)"
      ]
     },
     "metadata": {},
     "output_type": "display_data"
    }
   ],
   "source": [
    "size(CITES5_IFs[2])"
   ]
  },
  {
   "cell_type": "code",
   "execution_count": 32,
   "metadata": {},
   "outputs": [
    {
     "data": {
      "text/plain": [
       "232.75604395604398"
      ]
     },
     "metadata": {},
     "output_type": "display_data"
    }
   ],
   "source": [
    "C = sum(MINE[!, :CT])"
   ]
  },
  {
   "cell_type": "code",
   "execution_count": 33,
   "metadata": {},
   "outputs": [
    {
     "data": {
      "text/plain": [
       "100.96641691641692"
      ]
     },
     "metadata": {},
     "output_type": "display_data"
    }
   ],
   "source": [
    "C5 = sum(MINE[!, :CT5])"
   ]
  },
  {
   "cell_type": "code",
   "execution_count": 34,
   "metadata": {},
   "outputs": [
    {
     "data": {
      "text/plain": [
       "8166.905238095238"
      ]
     },
     "metadata": {},
     "output_type": "display_data"
    }
   ],
   "source": [
    "UAIC_1_9 = sum(MINE[!, :UAIC9])"
   ]
  },
  {
   "cell_type": "code",
   "execution_count": 35,
   "metadata": {},
   "outputs": [
    {
     "data": {
      "text/plain": [
       "\"/mnt/e/Stoleriu/Doc/CV/auto/LS_MINE_test.csv\""
      ]
     },
     "metadata": {},
     "output_type": "display_data"
    }
   ],
   "source": [
    "root = dirname(\"/mnt/e/Stoleriu/Doc/CV/auto/\")\n",
    "outputMINEcsv = joinpath(root, \"LS_MINE_test.csv\")\n",
    "CSV.write(outputMINEcsv, MINE)"
   ]
  },
  {
   "cell_type": "code",
   "execution_count": 36,
   "metadata": {},
   "outputs": [
    {
     "data": {
      "text/html": [
       "<p>DataFrameRow (27 columns)</p><div class=\"data-frame\"><table class=\"data-frame\"><thead><tr><th></th><th>AU</th><th>TI</th><th>TC</th><th>Journal</th><th>PY</th><th>VL</th><th>IS</th><th>BP</th><th>EP</th><th>AR</th><th>DI</th><th>NA</th><th>NEFF</th><th>PRIM</th><th>AI</th><th>AINEFF</th><th>IF</th><th>IFNA</th><th>TIMESC</th><th>CT</th><th>PRIM5</th><th>AINEFF5</th><th>IFNA5</th><th>TIMESC5</th><th>CT5</th><th>UAIC1</th><th>UAIC9</th></tr><tr><th></th><th title=\"String\">String</th><th title=\"String\">String</th><th title=\"Int64\">Int64</th><th title=\"Union{Missing, String31}\">String31?</th><th title=\"Int64\">Int64</th><th title=\"Union{Missing, Int64}\">Int64?</th><th title=\"Union{Missing, String7}\">String7?</th><th title=\"Union{Missing, String7}\">String7?</th><th title=\"Union{Missing, String7}\">String7?</th><th title=\"Union{Missing, String7}\">String7?</th><th title=\"Union{Missing, String63}\">String63?</th><th title=\"Int64\">Int64</th><th title=\"Float64\">Float64</th><th title=\"Int64\">Int64</th><th title=\"Float64\">Float64</th><th title=\"Float64\">Float64</th><th title=\"Float64\">Float64</th><th title=\"Float64\">Float64</th><th title=\"Int64\">Int64</th><th title=\"Float64\">Float64</th><th title=\"Int64\">Int64</th><th title=\"Float64\">Float64</th><th title=\"Float64\">Float64</th><th title=\"Int64\">Int64</th><th title=\"Float64\">Float64</th><th title=\"Float64\">Float64</th><th title=\"Float64\">Float64</th></tr></thead><tbody><tr><th>3</th><td>Amanoloaei, G; Stancu, A; Stoleriu, L</td><td>Dynamic Stoner-Wohlfarth Model for Time-Dependent Magnetization Analysis</td><td>0</td><td>IEEE MAGN LETT</td><td>2021</td><td>12</td><td><em>missing</em></td><td><em>missing</em></td><td><em>missing</em></td><td><em>missing</em></td><td>10.1109/LMAG.2021.3110488</td><td>3</td><td>3.0</td><td>1</td><td>0.409</td><td>0.136333</td><td>1.549</td><td>0.516333</td><td>0</td><td>0.0</td><td>1</td><td>0.136333</td><td>0.516333</td><td>0</td><td>0.0</td><td>39.3133</td><td>0.0</td></tr></tbody></table></div>"
      ],
      "text/latex": [
       "\\begin{tabular}{r|ccccccccccccccccccccccccccc}\n",
       "\t& AU & TI & TC & Journal & PY & VL & IS & BP & EP & AR & DI & NA & NEFF & PRIM & AI & AINEFF & IF & IFNA & TIMESC & CT & PRIM5 & AINEFF5 & IFNA5 & TIMESC5 & CT5 & UAIC1 & UAIC9\\\\\n",
       "\t\\hline\n",
       "\t& String & String & Int64 & String31? & Int64 & Int64? & String7? & String7? & String7? & String7? & String63? & Int64 & Float64 & Int64 & Float64 & Float64 & Float64 & Float64 & Int64 & Float64 & Int64 & Float64 & Float64 & Int64 & Float64 & Float64 & Float64\\\\\n",
       "\t\\hline\n",
       "\t3 & Amanoloaei, G; Stancu, A; Stoleriu, L & Dynamic Stoner-Wohlfarth Model for Time-Dependent Magnetization Analysis & 0 & IEEE MAGN LETT & 2021 & 12 & \\emph{missing} & \\emph{missing} & \\emph{missing} & \\emph{missing} & 10.1109/LMAG.2021.3110488 & 3 & 3.0 & 1 & 0.409 & 0.136333 & 1.549 & 0.516333 & 0 & 0.0 & 1 & 0.136333 & 0.516333 & 0 & 0.0 & 39.3133 & 0.0 \\\\\n",
       "\\end{tabular}\n"
      ],
      "text/plain": [
       "\u001b[1mDataFrameRow\u001b[0m\n",
       "\u001b[1m Row \u001b[0m│\u001b[1m AU                                \u001b[0m\u001b[1m TI                                \u001b[0m\u001b[1m TC    \u001b[0m\u001b[1m Journal        \u001b[0m\u001b[1m PY    \u001b[0m\u001b[1m VL     \u001b[0m\u001b[1m IS       \u001b[0m\u001b[1m BP       \u001b[0m\u001b[1m EP       \u001b[0m\u001b[1m AR       \u001b[0m\u001b[1m DI                        \u001b[0m\u001b[1m NA    \u001b[0m\u001b[1m NEFF    \u001b[0m\u001b[1m PRIM  \u001b[0m\u001b[1m AI      \u001b[0m\u001b[1m AINEFF   \u001b[0m\u001b[1m IF      \u001b[0m\u001b[1m IFNA     \u001b[0m\u001b[1m TIMESC \u001b[0m\u001b[1m CT      \u001b[0m\u001b[1m PRIM5 \u001b[0m\u001b[1m AINEFF5  \u001b[0m\u001b[1m IFNA5    \u001b[0m\u001b[1m TIMESC5 \u001b[0m\u001b[1m CT5     \u001b[0m\u001b[1m UAIC1   \u001b[0m\u001b[1m UAIC9   \u001b[0m\n",
       "\u001b[1m     \u001b[0m│\u001b[90m String                            \u001b[0m\u001b[90m String                            \u001b[0m\u001b[90m Int64 \u001b[0m\u001b[90m String31?      \u001b[0m\u001b[90m Int64 \u001b[0m\u001b[90m Int64? \u001b[0m\u001b[90m String7? \u001b[0m\u001b[90m String7? \u001b[0m\u001b[90m String7? \u001b[0m\u001b[90m String7? \u001b[0m\u001b[90m String63?                 \u001b[0m\u001b[90m Int64 \u001b[0m\u001b[90m Float64 \u001b[0m\u001b[90m Int64 \u001b[0m\u001b[90m Float64 \u001b[0m\u001b[90m Float64  \u001b[0m\u001b[90m Float64 \u001b[0m\u001b[90m Float64  \u001b[0m\u001b[90m Int64  \u001b[0m\u001b[90m Float64 \u001b[0m\u001b[90m Int64 \u001b[0m\u001b[90m Float64  \u001b[0m\u001b[90m Float64  \u001b[0m\u001b[90m Int64   \u001b[0m\u001b[90m Float64 \u001b[0m\u001b[90m Float64 \u001b[0m\u001b[90m Float64 \u001b[0m\n",
       "─────┼────────────────────────────────────────────────────────────────────────────────────────────────────────────────────────────────────────────────────────────────────────────────────────────────────────────────────────────────────────────────────────────────────────────────────────────────────────────────────────────\n",
       "   3 │ Amanoloaei, G; Stancu, A; Stoler…  Dynamic Stoner-Wohlfarth Model f…      0  IEEE MAGN LETT   2021      12 \u001b[90m missing  \u001b[0m\u001b[90m missing  \u001b[0m\u001b[90m missing  \u001b[0m\u001b[90m missing  \u001b[0m 10.1109/LMAG.2021.3110488      3      3.0      1    0.409  0.136333    1.549  0.516333       0      0.0      1  0.136333  0.516333        0      0.0  39.3133      0.0"
      ]
     },
     "metadata": {},
     "output_type": "display_data"
    }
   ],
   "source": [
    "ENV[\"COLUMNS\"]=500\n",
    "MINE[3, filter(x -> !(x in [\"CR\",\"RP\"]), names(MINE))]"
   ]
  },
  {
   "cell_type": "code",
   "execution_count": 37,
   "metadata": {},
   "outputs": [
    {
     "data": {
      "text/plain": [
       "77"
      ]
     },
     "metadata": {},
     "output_type": "display_data"
    }
   ],
   "source": [
    "using Printf\n",
    "outputMINEtxt = joinpath(root, \"LS_UAIC_test.txt\")\n",
    "open(outputMINEtxt, \"w\") do file\n",
    "    for (row_indexMINE, lucrareMINE) in enumerate(eachrow(MINE))\n",
    "        if ( !ismissing(lucrareMINE.BP) )\n",
    "            write(file, \"[$row_indexMINE] \\t $(lucrareMINE.AU); $(lucrareMINE.TI); $(lucrareMINE.Journal), vol.$(lucrareMINE.VL), pp.$(lucrareMINE.BP)-$(lucrareMINE.EP) ($(lucrareMINE.PY)), DOI:$(lucrareMINE.DI) \\n\")\n",
    "        else\n",
    "            write(file, \"[$row_indexMINE] \\t $(lucrareMINE.AU); $(lucrareMINE.TI); $(lucrareMINE.Journal), vol.$(lucrareMINE.VL), art.no.$(lucrareMINE.AR) ($(lucrareMINE.PY)), DOI:$(lucrareMINE.DI) \\n\")\n",
    "        end\n",
    "        contor = 1\n",
    "        for (idx_citare, citare) in enumerate(CITES5[row_indexMINE])\n",
    "            if (citare == 0)\n",
    "                continue\n",
    "            end\n",
    "            write(file, \"\\t\\t[$row_indexMINE.$contor] $(MINECITE[citare,:].AU); $(MINECITE[citare,:].TI); $(MINECITE[citare,:].Journal), vol.$(MINECITE[citare,:].VL) ($(MINECITE[citare,:].PY)), DOI:$(MINECITE[citare,:].DI) \\n\")\n",
    "            write(file, \"\\t\\t\\tIF citare: $(CITES5_IFs[row_indexMINE][idx_citare])\\n\")\n",
    "            contor = contor + 1\n",
    "        end\n",
    "        write(file, \"nr.autori: $(lucrareMINE.NA) \\t\\t IF: $(lucrareMINE.IF) \\t\\t UAIC I.1(ISI): $(@sprintf(\"%8.4f\", lucrareMINE.UAIC1)) \\t\\t nr.citari: $(lucrareMINE.TIMESC5) \\t\\t UAIC I.9(Citari): $(@sprintf(\"%9.4f\", lucrareMINE.UAIC9)) \\n\")\n",
    "        write(file, '-'^400, '\\n')\n",
    "    end\n",
    "    write(file, '-'^400, '\\n')\n",
    "    write(file, '-'^400, '\\n')\n",
    "    write(file, \"Total criteriul I.1(UAIC) = $(@sprintf(\"%9.4f\", UAIC_1_1))\\t\\t\\tTotal criteriul I.9(UAIC) = $(@sprintf(\"%9.4f\", UAIC_1_9))\")\n",
    "end"
   ]
  },
  {
   "cell_type": "code",
   "execution_count": 38,
   "metadata": {},
   "outputs": [],
   "source": []
  },
  {
   "cell_type": "code",
   "execution_count": 39,
   "metadata": {},
   "outputs": [],
   "source": []
  },
  {
   "cell_type": "code",
   "execution_count": 40,
   "metadata": {},
   "outputs": [],
   "source": []
  }
 ],
 "metadata": {
  "kernelspec": {
   "display_name": "Julia 1.6.3",
   "language": "julia",
   "name": "julia-1.6"
  },
  "language_info": {
   "file_extension": ".jl",
   "mimetype": "application/julia",
   "name": "julia",
   "version": "1.6.3"
  },
  "orig_nbformat": 4
 },
 "nbformat": 4,
 "nbformat_minor": 2
}
