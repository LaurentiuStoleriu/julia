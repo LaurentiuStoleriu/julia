{
 "cells": [
  {
   "cell_type": "code",
   "execution_count": 162,
   "metadata": {},
   "outputs": [],
   "source": [
    "using CSV, DataFrames"
   ]
  },
  {
   "cell_type": "code",
   "execution_count": 163,
   "metadata": {},
   "outputs": [
    {
     "data": {
      "text/plain": [
       "\"PP_JL_savedrecs.txt\""
      ]
     },
     "metadata": {},
     "output_type": "display_data"
    }
   ],
   "source": [
    "primAuthor = \"Postolache\"\n",
    "fileOwnPapers = \"PP_JL_savedrecs_mine.txt\"\n",
    "fileCitations = \"PP_JL_savedrecs.txt\""
   ]
  },
  {
   "cell_type": "code",
   "execution_count": 164,
   "metadata": {},
   "outputs": [
    {
     "data": {
      "text/plain": [
       "\"PP_JL_UAIC1.txt\""
      ]
     },
     "metadata": {},
     "output_type": "display_data"
    }
   ],
   "source": [
    "fileOwnCSV = \"PP_JL_MINE_test.csv\"\n",
    "fileOwnTXT = \"PP_JL_total.txt\"\n",
    "fileOwnUAIC = \"PP_JL_UAIC1.txt\""
   ]
  },
  {
   "cell_type": "code",
   "execution_count": 165,
   "metadata": {},
   "outputs": [
    {
     "data": {
      "text/plain": [
       "2021"
      ]
     },
     "metadata": {},
     "output_type": "display_data"
    }
   ],
   "source": [
    "#root = dirname(@__FILE__)\n",
    "root = dirname(\"/mnt/e/Stoleriu/Doc/CV/auto/\")\n",
    "inputAIS = joinpath(root, \"AI_factor_full_1997-2021.txt\")\n",
    "inputISI = joinpath(root, \"IF_factor_full_1997-2021.txt\")\n",
    "AIFirstYear = 1997\n",
    "AILastYear = 2021"
   ]
  },
  {
   "cell_type": "markdown",
   "metadata": {},
   "source": [
    "Pentru calculele pe 5 ani (sau orce alta durata):"
   ]
  },
  {
   "cell_type": "code",
   "execution_count": 166,
   "metadata": {},
   "outputs": [
    {
     "data": {
      "text/plain": [
       "2022"
      ]
     },
     "metadata": {},
     "output_type": "display_data"
    }
   ],
   "source": [
    "ANini = 1997\n",
    "ANfin = 2022"
   ]
  },
  {
   "cell_type": "code",
   "execution_count": 167,
   "metadata": {},
   "outputs": [
    {
     "data": {
      "text/html": [
       "<p>DataFrameRow (6 columns)</p><div class=\"data-frame\"><table class=\"data-frame\"><thead><tr><th></th><th>Journal</th><th>1997</th><th>1998</th><th>2009</th><th>2020</th><th>2021</th></tr><tr><th></th><th title=\"String31\">String31</th><th title=\"Float64\">Float64</th><th title=\"Float64\">Float64</th><th title=\"Float64\">Float64</th><th title=\"Float64\">Float64</th><th title=\"Float64\">Float64</th></tr></thead><tbody><tr><th>8157</th><td>IEEE MAGN LETT</td><td>0.789</td><td>0.789</td><td>0.789</td><td>0.409</td><td>0.409</td></tr></tbody></table></div>"
      ],
      "text/latex": [
       "\\begin{tabular}{r|cccccc}\n",
       "\t& Journal & 1997 & 1998 & 2009 & 2020 & 2021\\\\\n",
       "\t\\hline\n",
       "\t& String31 & Float64 & Float64 & Float64 & Float64 & Float64\\\\\n",
       "\t\\hline\n",
       "\t8157 & IEEE MAGN LETT & 0.789 & 0.789 & 0.789 & 0.409 & 0.409 \\\\\n",
       "\\end{tabular}\n"
      ],
      "text/plain": [
       "\u001b[1mDataFrameRow\u001b[0m\n",
       "\u001b[1m  Row \u001b[0m│\u001b[1m Journal        \u001b[0m\u001b[1m 1997    \u001b[0m\u001b[1m 1998    \u001b[0m\u001b[1m 2009    \u001b[0m\u001b[1m 2020    \u001b[0m\u001b[1m 2021    \u001b[0m\n",
       "\u001b[1m      \u001b[0m│\u001b[90m String31       \u001b[0m\u001b[90m Float64 \u001b[0m\u001b[90m Float64 \u001b[0m\u001b[90m Float64 \u001b[0m\u001b[90m Float64 \u001b[0m\u001b[90m Float64 \u001b[0m\n",
       "──────┼─────────────────────────────────────────────────────────────\n",
       " 8157 │ IEEE MAGN LETT    0.789    0.789    0.789    0.409    0.409"
      ]
     },
     "metadata": {},
     "output_type": "display_data"
    }
   ],
   "source": [
    "AIS = CSV.read(inputAIS, DataFrame; header=true, delim='\\t')\n",
    "AIS[8157, [1, 2, 3, 14, 25, 26]]"
   ]
  },
  {
   "cell_type": "code",
   "execution_count": 168,
   "metadata": {},
   "outputs": [
    {
     "data": {
      "text/html": [
       "<p>DataFrameRow (6 columns)</p><div class=\"data-frame\"><table class=\"data-frame\"><thead><tr><th></th><th>Journal</th><th>1997</th><th>1998</th><th>2009</th><th>2020</th><th>2021</th></tr><tr><th></th><th title=\"String31\">String31</th><th title=\"Float64\">Float64</th><th title=\"Float64\">Float64</th><th title=\"Float64\">Float64</th><th title=\"Float64\">Float64</th><th title=\"Float64\">Float64</th></tr></thead><tbody><tr><th>8157</th><td>IEEE MAGN LETT</td><td>1.692</td><td>1.692</td><td>1.692</td><td>1.549</td><td>1.549</td></tr></tbody></table></div>"
      ],
      "text/latex": [
       "\\begin{tabular}{r|cccccc}\n",
       "\t& Journal & 1997 & 1998 & 2009 & 2020 & 2021\\\\\n",
       "\t\\hline\n",
       "\t& String31 & Float64 & Float64 & Float64 & Float64 & Float64\\\\\n",
       "\t\\hline\n",
       "\t8157 & IEEE MAGN LETT & 1.692 & 1.692 & 1.692 & 1.549 & 1.549 \\\\\n",
       "\\end{tabular}\n"
      ],
      "text/plain": [
       "\u001b[1mDataFrameRow\u001b[0m\n",
       "\u001b[1m  Row \u001b[0m│\u001b[1m Journal        \u001b[0m\u001b[1m 1997    \u001b[0m\u001b[1m 1998    \u001b[0m\u001b[1m 2009    \u001b[0m\u001b[1m 2020    \u001b[0m\u001b[1m 2021    \u001b[0m\n",
       "\u001b[1m      \u001b[0m│\u001b[90m String31       \u001b[0m\u001b[90m Float64 \u001b[0m\u001b[90m Float64 \u001b[0m\u001b[90m Float64 \u001b[0m\u001b[90m Float64 \u001b[0m\u001b[90m Float64 \u001b[0m\n",
       "──────┼─────────────────────────────────────────────────────────────\n",
       " 8157 │ IEEE MAGN LETT    1.692    1.692    1.692    1.549    1.549"
      ]
     },
     "metadata": {},
     "output_type": "display_data"
    }
   ],
   "source": [
    "ISI = CSV.read(inputISI, DataFrame; header=true, delim='\\t')\n",
    "ISI[8157, [1, 2, 3, 14, 25, 26]]"
   ]
  },
  {
   "cell_type": "code",
   "execution_count": 169,
   "metadata": {},
   "outputs": [
    {
     "data": {
      "text/plain": [
       "\"/mnt/e/Stoleriu/Doc/CV/auto/PP_JL_savedrecs.txt\""
      ]
     },
     "metadata": {},
     "output_type": "display_data"
    }
   ],
   "source": [
    "#root = dirname(@__FILE__)\n",
    "#root = dirname(\"/mnt/e/Stoleriu/Doc/CV/auto/\")\n",
    "inputMINE = joinpath(root, fileOwnPapers)\n",
    "inputCIT = joinpath(root, fileCitations)"
   ]
  },
  {
   "cell_type": "code",
   "execution_count": 170,
   "metadata": {},
   "outputs": [
    {
     "name": "stderr",
     "output_type": "stream",
     "text": [
      "┌ Warning: thread = 1 warning: parsed expected 69 columns, but didn't reach end of line around data row: 1. Parsing extra columns and widening final columnset\n",
      "└ @ CSV /home/lali/.julia/packages/CSV/9LsxT/src/file.jl:635\n"
     ]
    }
   ],
   "source": [
    "MINEraw = CSV.read(inputMINE, DataFrame; header=true, delim='\\t')\n",
    "sort!(MINEraw, [:PY], rev = true)\n",
    "eltype.(eachcol(MINEraw));"
   ]
  },
  {
   "cell_type": "code",
   "execution_count": 171,
   "metadata": {},
   "outputs": [],
   "source": [
    "#MINE = MINEraw[:, [2, 9, 24, 30, 32, 42, 45, 46, 47, 52, 53, 54, 55]];\n",
    "#MINE = MINEraw[:, [2, 9, 24, 32, 42, 45, 46, 47, 52, 53, 54, 55]];  # fara citari (col 30)\n",
    "MINE = MINEraw[:, [2, 9, 25, 32, 43, 46, 47, 53, 54, 55, 56]];  # fara citari (col 30)\n",
    "eltype.(eachcol(MINE));"
   ]
  },
  {
   "cell_type": "code",
   "execution_count": 172,
   "metadata": {},
   "outputs": [],
   "source": [
    "#MINE[2, :PY] = 2021   # ADV MAT no year!!!!\n",
    "eltype.(eachcol(MINE));"
   ]
  },
  {
   "cell_type": "code",
   "execution_count": 173,
   "metadata": {},
   "outputs": [],
   "source": [
    "#VSCodeServer.vscodedisplay(MINE)"
   ]
  },
  {
   "cell_type": "markdown",
   "metadata": {},
   "source": [
    "Pregatim MINE cu noi coloane"
   ]
  },
  {
   "cell_type": "code",
   "execution_count": 174,
   "metadata": {},
   "outputs": [],
   "source": [
    "rename!(MINE,:\"J9\" => :\"Journal\")\n",
    "insertcols!(MINE, :NA => 0);\n",
    "insertcols!(MINE, :NEFF => 0.0);\n",
    "insertcols!(MINE, :PRIM => 0);\n",
    "insertcols!(MINE, :AI => 0.0);\n",
    "insertcols!(MINE, :AINEFF => 0.0);\n",
    "insertcols!(MINE, :IF => 0.0);\n",
    "insertcols!(MINE, :IFNA => 0.0);\n",
    "insertcols!(MINE, :TIMESC => 0);\n",
    "insertcols!(MINE, :CT => 0.0);\n",
    "### 5 ani\n",
    "insertcols!(MINE, :PRIM5 => 0);\n",
    "insertcols!(MINE, :AINEFF5 => 0.0);\n",
    "insertcols!(MINE, :IFNA5 => 0.0);\n",
    "insertcols!(MINE, :TIMESC5 => 0);\n",
    "insertcols!(MINE, :CT5 => 0.0);\n",
    "### UAIC\n",
    "insertcols!(MINE, :UAIC1 => 0.0);\n",
    "insertcols!(MINE, :UAIC9 => 0.0);"
   ]
  },
  {
   "cell_type": "code",
   "execution_count": 175,
   "metadata": {},
   "outputs": [],
   "source": [
    "#VSCodeServer.vscodedisplay(MINE)"
   ]
  },
  {
   "cell_type": "markdown",
   "metadata": {},
   "source": [
    "Gasim numarul de autori si prim autor"
   ]
  },
  {
   "cell_type": "code",
   "execution_count": 176,
   "metadata": {},
   "outputs": [],
   "source": [
    "for (row_index, lucrare) in enumerate(eachrow(MINE))\n",
    "    MINE[row_index, :NA] = (1+count(\";\", lucrare[:AU]))\n",
    "\n",
    "    if MINE[row_index, :NA] <= 5\n",
    "        MINE[row_index, :NEFF] = MINE[row_index, :NA]\n",
    "    elseif MINE[row_index, :NA] <= 15\n",
    "        MINE[row_index, :NEFF] = (MINE[row_index, :NA] + 5.0) / 2.0\n",
    "    elseif MINE[row_index, :NA] <= 75\n",
    "        MINE[row_index, :NEFF] = (MINE[row_index, :NA] + 15.0) / 3.0\n",
    "    else\n",
    "        MINE[row_index, :NEFF] = (MINE[row_index, :NA] + 45.0) / 4.0\n",
    "    end\n",
    "\n",
    "    #println( titlecase(MINE[row_index, :AU]))\n",
    "    #println(findfirst(primAuthor, titlecase(MINE[row_index, :AU]))[1])\n",
    "    if findfirst(primAuthor, titlecase(MINE[row_index, :AU]))[1] == 1\n",
    "        MINE[row_index, :PRIM] = 1\n",
    "        if (MINE[row_index, :PY] <= ANfin) && (MINE[row_index, :PY] >= ANini)\n",
    "            MINE[row_index, :PRIM5] = 1\n",
    "        end\n",
    "    elseif !ismissing(lucrare[:RP])\n",
    "        if occursin(primAuthor, lucrare[:RP])\n",
    "            MINE[row_index, :PRIM] = 1\n",
    "            if (MINE[row_index, :PY] <= ANfin) && (MINE[row_index, :PY] >= ANini)\n",
    "                MINE[row_index, :PRIM5] = 1\n",
    "            end\n",
    "        end\n",
    "    end\n",
    "    #println(row_index, MINE[row_index, [:NA]])\n",
    "    #println(row_index, MINE[row_index, [:PRIM]])\n",
    "end"
   ]
  },
  {
   "cell_type": "code",
   "execution_count": 177,
   "metadata": {},
   "outputs": [],
   "source": [
    "#VSCodeServer.vscodedisplay(MINE)"
   ]
  },
  {
   "cell_type": "code",
   "execution_count": 178,
   "metadata": {},
   "outputs": [
    {
     "data": {
      "text/html": [
       "<div class=\"data-frame\"><p>0 rows × 9 columns</p><table class=\"data-frame\"><thead><tr><th></th><th>AU</th><th>PY</th><th>VL</th><th>BP</th><th>NA</th><th>PRIM</th><th>AI</th><th>AINEFF</th><th>IF</th></tr><tr><th></th><th title=\"String\">String</th><th title=\"Int64\">Int64</th><th title=\"Union{Missing, Int64}\">Int64?</th><th title=\"Union{Missing, Int64}\">Int64?</th><th title=\"Int64\">Int64</th><th title=\"Int64\">Int64</th><th title=\"Float64\">Float64</th><th title=\"Float64\">Float64</th><th title=\"Float64\">Float64</th></tr></thead><tbody></tbody></table></div>"
      ],
      "text/latex": [
       "\\begin{tabular}{r|ccccccccc}\n",
       "\t& AU & PY & VL & BP & NA & PRIM & AI & AINEFF & IF\\\\\n",
       "\t\\hline\n",
       "\t& String & Int64 & Int64? & Int64? & Int64 & Int64 & Float64 & Float64 & Float64\\\\\n",
       "\t\\hline\n",
       "\\end{tabular}\n"
      ],
      "text/plain": [
       "\u001b[1m0×9 DataFrame\u001b[0m"
      ]
     },
     "metadata": {},
     "output_type": "display_data"
    }
   ],
   "source": [
    "#MINE[:, [6, 7, 8, 12, 14, 15, 16, 17]]\n",
    "MINE.PY = Int64.(MINE.PY)\n",
    "MINE[ismissing.(MINE[!, :PY]), [1, 6, 7, 8, 12, 14, 15, 16, 17]]"
   ]
  },
  {
   "cell_type": "code",
   "execution_count": 179,
   "metadata": {},
   "outputs": [],
   "source": [
    "#root = dirname(\"/mnt/d/Stoleriu/\")\n",
    "#outputMINE = joinpath(root, \"MINE_test.csv\")\n",
    "#CSV.write(outputMINE, MINE)"
   ]
  },
  {
   "cell_type": "code",
   "execution_count": 180,
   "metadata": {},
   "outputs": [
    {
     "data": {
      "text/plain": [
       "1"
      ]
     },
     "metadata": {},
     "output_type": "display_data"
    }
   ],
   "source": [
    "AISsubsect = filter(r -> any(occursin.(Vector(MINE[1, [:Journal]]), r.Journal)), AIS)\n",
    "#subsect2 = filter(r -> ([\"ADV MATER\"][1] .== r.Journal[1]), AIS)\n",
    "size(AISsubsect, 1)\n",
    "#[\"ADV MATER\"][1] .== subsect[1, [:Journal]][1]"
   ]
  },
  {
   "cell_type": "code",
   "execution_count": 181,
   "metadata": {},
   "outputs": [],
   "source": [
    "for (row_index, lucrare) in enumerate(eachrow(MINE))\n",
    "    #lucrare = MINE[1, :]\n",
    "    if(ismissing(lucrare[:Journal]))\n",
    "        continue\n",
    "    end\n",
    "    for AISrow in eachrow(AIS)\n",
    "        if( lucrare[:Journal] == AISrow[:Journal] )\n",
    "            if (lucrare[:PY] >= AIFirstYear)\n",
    "                anString = string(lucrare[:PY])\n",
    "            else\n",
    "                anString = string(AIFirstYear)\n",
    "            end\n",
    "            if (lucrare[:PY] > AILastYear)\n",
    "                anString = string(AILastYear)\n",
    "            end\n",
    "            #println(AISrow[anString])\n",
    "            MINE[row_index, :AI] = AISrow[anString]\n",
    "            MINE[row_index, :AINEFF] = MINE[row_index, :AI] / MINE[row_index, :NEFF]\n",
    "            if (MINE[row_index, :PY] <= ANfin) && (MINE[row_index, :PY] >= ANini)\n",
    "                MINE[row_index, :AINEFF5] = MINE[row_index, :AINEFF]\n",
    "            end\n",
    "            \n",
    "        end\n",
    "    end\n",
    "    for ISIrow in eachrow(ISI)\n",
    "        if( lucrare[:Journal] == ISIrow[:Journal] )\n",
    "            if (lucrare[:PY] >= AIFirstYear)\n",
    "                anString = string(lucrare[:PY])\n",
    "            else\n",
    "                anString = string(AIFirstYear)\n",
    "            end\n",
    "            if (lucrare[:PY] > AILastYear)\n",
    "                anString = string(AILastYear)\n",
    "            end\n",
    "            #println(ISIrow[anString])\n",
    "            MINE[row_index, :IF] = ISIrow[anString]\n",
    "            MINE[row_index, :IFNA] = ISIrow[anString] / MINE[row_index, :NA]\n",
    "            if (MINE[row_index, :PY] <= ANfin) && (MINE[row_index, :PY] >= ANini)\n",
    "                MINE[row_index, :IFNA5] = MINE[row_index, :IFNA]\n",
    "                MINE[row_index, :UAIC1] = (25 + 60*MINE[row_index, :IF]) / MINE[row_index, :NA]\n",
    "            end\n",
    "        end\n",
    "    end\n",
    "end"
   ]
  },
  {
   "cell_type": "code",
   "execution_count": 182,
   "metadata": {},
   "outputs": [],
   "source": [
    "#VSCodeServer.vscodedisplay(MINE)\n",
    "#root = dirname(\"/mnt/d/Stoleriu/\")\n",
    "#outputMINE = joinpath(root, \"MINE_test.csv\")\n",
    "#CSV.write(outputMINE, MINE)"
   ]
  },
  {
   "cell_type": "code",
   "execution_count": 183,
   "metadata": {},
   "outputs": [
    {
     "data": {
      "text/plain": [
       "4.35763653026847"
      ]
     },
     "metadata": {},
     "output_type": "display_data"
    }
   ],
   "source": [
    "I = sum(MINE[!, :AINEFF])"
   ]
  },
  {
   "cell_type": "code",
   "execution_count": 184,
   "metadata": {},
   "outputs": [
    {
     "data": {
      "text/plain": [
       "0.331"
      ]
     },
     "metadata": {},
     "output_type": "display_data"
    }
   ],
   "source": [
    "P = sum(MINE[!, :PRIM] .* MINE[!, :AI])"
   ]
  },
  {
   "cell_type": "code",
   "execution_count": 185,
   "metadata": {},
   "outputs": [
    {
     "data": {
      "text/plain": [
       "4.35763653026847"
      ]
     },
     "metadata": {},
     "output_type": "display_data"
    }
   ],
   "source": [
    "I5 = sum(MINE[!, :AINEFF5])"
   ]
  },
  {
   "cell_type": "code",
   "execution_count": 186,
   "metadata": {},
   "outputs": [
    {
     "data": {
      "text/plain": [
       "0.331"
      ]
     },
     "metadata": {},
     "output_type": "display_data"
    }
   ],
   "source": [
    "P5 = sum(MINE[!, :PRIM5] .* MINE[!, :AI])"
   ]
  },
  {
   "cell_type": "code",
   "execution_count": 187,
   "metadata": {},
   "outputs": [
    {
     "data": {
      "text/plain": [
       "1034.1658190920512"
      ]
     },
     "metadata": {},
     "output_type": "display_data"
    }
   ],
   "source": [
    "UAIC_1_1 = sum(MINE[!, :UAIC1])"
   ]
  },
  {
   "cell_type": "markdown",
   "metadata": {},
   "source": [
    "############################\n",
    "Citations\n",
    "############################"
   ]
  },
  {
   "cell_type": "code",
   "execution_count": 188,
   "metadata": {},
   "outputs": [
    {
     "name": "stderr",
     "output_type": "stream",
     "text": [
      "┌ Warning: thread = 1 warning: parsed expected 69 columns, but didn't reach end of line around data row: 1. Parsing extra columns and widening final columnset\n",
      "└ @ CSV /home/lali/.julia/packages/CSV/9LsxT/src/file.jl:635\n"
     ]
    }
   ],
   "source": [
    "MINECITEraw = CSV.read(inputCIT, DataFrame; header=true, delim='\\t');\n",
    "# autocitari\n",
    "#for (row_indexCIT, lucrareCIT) in enumerate(eachrow(MINECITEraw))\n",
    "#    if( occursin(primAuthor, lucrareCIT.AU) )\n",
    "#        println(lucrareCIT.AU)\n",
    "#    end\n",
    "#end\n",
    "eltype.(eachcol(MINECITEraw));"
   ]
  },
  {
   "cell_type": "code",
   "execution_count": 189,
   "metadata": {},
   "outputs": [],
   "source": [
    "#MINECITEraw\n",
    "#VSCodeServer.vscodedisplay(MINECITEraw)"
   ]
  },
  {
   "cell_type": "code",
   "execution_count": 190,
   "metadata": {},
   "outputs": [],
   "source": [
    "# eliminare autocitari\n",
    "MINECITEraw = filter(row -> !(occursin(primAuthor, row.AU)),  MINECITEraw);\n",
    "for (row_indexCIT, lucrareCIT) in enumerate(eachrow(MINECITEraw))\n",
    "    if( occursin(primAuthor, lucrareCIT.AU) )\n",
    "        println(lucrareCIT.AU)\n",
    "    end\n",
    "end"
   ]
  },
  {
   "cell_type": "code",
   "execution_count": 191,
   "metadata": {},
   "outputs": [],
   "source": [
    "#unele citari missing PY (early access)\n",
    "for (row_indexCIT, lucrareCIT) in enumerate(eachrow(MINECITEraw))\n",
    "    if( ismissing(lucrareCIT.PY) )\n",
    "        lucrareCIT.PY = 2021\n",
    "    end\n",
    "end"
   ]
  },
  {
   "cell_type": "code",
   "execution_count": 192,
   "metadata": {},
   "outputs": [],
   "source": [
    "#VSCodeServer.vscodedisplay(MINECITEraw[1,1:70])"
   ]
  },
  {
   "cell_type": "code",
   "execution_count": 193,
   "metadata": {},
   "outputs": [],
   "source": [
    "MINECITE = MINECITEraw[:, [2, 9, 31, 43, 45, 46, 47, 53, 54, 55, 56]];\n",
    "#MINEraw[:, [2, 9, 25, 32, 43, 46, 47, 53, 54, 55, 56]];  # fara citari (col 30)\n",
    "eltype.(eachcol(MINECITE));\n",
    "rename!(MINECITE,:\"J9\" => :\"Journal\");"
   ]
  },
  {
   "cell_type": "code",
   "execution_count": 194,
   "metadata": {},
   "outputs": [],
   "source": [
    "#VSCodeServer.vscodedisplay(MINECITE)"
   ]
  },
  {
   "cell_type": "code",
   "execution_count": 195,
   "metadata": {},
   "outputs": [],
   "source": [
    "#CITES = fill!(Vector{Vector{Int64}}(undef, size(MINE)[1]), [0]);\n",
    "CITES = Vector{Int64}[];\n",
    "for i in 1:size(MINE)[1]\n",
    "    push!(CITES, [0])\n",
    "end\n",
    "CITES_IFs = Vector{Float64}[];\n",
    "for i in 1:size(MINE)[1]\n",
    "    push!(CITES_IFs, [0.0])\n",
    "end"
   ]
  },
  {
   "cell_type": "code",
   "execution_count": 196,
   "metadata": {},
   "outputs": [],
   "source": [
    "CITES5 = Vector{Int64}[];\n",
    "for i in 1:size(MINE)[1]\n",
    "    push!(CITES5, [0])\n",
    "end\n",
    "CITES5_IFs = Vector{Float64}[];\n",
    "for i in 1:size(MINE)[1]\n",
    "    push!(CITES5_IFs, [0.0])\n",
    "end"
   ]
  },
  {
   "cell_type": "code",
   "execution_count": 197,
   "metadata": {},
   "outputs": [],
   "source": [
    "for (row_indexMINE, lucrareMINE) in enumerate(eachrow(MINE))\n",
    "    calcul_cit_UAIC = 0.0\n",
    "    if ( ismissing(lucrareMINE[:DI]) )\n",
    "        #println(\"Skip paper $row_indexMINE noDOI\")\n",
    "        continue\n",
    "    end\n",
    "    #println(\"Analyzing paper \", lucrareMINE[:DI])\n",
    "    for (row_indexCIT, lucrareCIT) in enumerate(eachrow(MINECITE))\n",
    "        if ( occursin(lucrareMINE[:DI], lucrareCIT[:CR]) )\n",
    "            #println(\"Paper $row_indexMINE cited by $row_indexCIT\")\n",
    "            ISI_value = 0.0\n",
    "            push!(CITES[row_indexMINE], row_indexCIT)\n",
    "            push!(CITES_IFs[row_indexMINE], ISI_value)\n",
    "            if (( !ismissing(lucrareCIT[:PY]) ) && ( !ismissing(lucrareCIT[:Journal]) ))\n",
    "                for ISIrow in eachrow(ISI)\n",
    "                    if( lucrareCIT[:Journal] == ISIrow[:Journal] )\n",
    "                        an_publicare_citare = lucrareCIT[:PY]\n",
    "                        if (an_publicare_citare > AILastYear)\n",
    "                            an_publicare_citare = AILastYear\n",
    "                        end\n",
    "                        if (an_publicare_citare < AIFirstYear)\n",
    "                            an_publicare_citare = AIFirstYear\n",
    "                        end\n",
    "                        ISI_value = ISIrow[string(an_publicare_citare)]\n",
    "                        push!(CITES_IFs[row_indexMINE], ISI_value)\n",
    "                        #CITES_IFs[row_indexMINE, size(CITES_IFs[row_indexMINE])] = ISI_value\n",
    "                        break\n",
    "                    end\n",
    "                end\n",
    "                if (lucrareCIT[:PY] <= ANfin) && (lucrareCIT[:PY] >= ANini)\n",
    "                    push!(CITES5[row_indexMINE], row_indexCIT)\n",
    "                    push!(CITES5_IFs[row_indexMINE], ISI_value)\n",
    "                    calcul_cit_UAIC = calcul_cit_UAIC + (10 + 20 * ISI_value) / lucrareMINE[:NA]\n",
    "                end\n",
    "            end\n",
    "        end\n",
    "    end\n",
    "    MINE[row_indexMINE, :TIMESC] = size(CITES[row_indexMINE])[1]-1\n",
    "    MINE[row_indexMINE, :CT] = MINE[row_indexMINE, :TIMESC] / MINE[row_indexMINE, :NEFF]\n",
    "    MINE[row_indexMINE, :TIMESC5] = size(CITES5[row_indexMINE])[1]-1\n",
    "    MINE[row_indexMINE, :CT5] = MINE[row_indexMINE, :TIMESC5] / MINE[row_indexMINE, :NEFF]\n",
    "    MINE[row_indexMINE, :UAIC9] = calcul_cit_UAIC\n",
    "\n",
    "end;"
   ]
  },
  {
   "cell_type": "code",
   "execution_count": 198,
   "metadata": {},
   "outputs": [
    {
     "data": {
      "text/plain": [
       "1-element Vector{Int64}:\n",
       " 0"
      ]
     },
     "metadata": {},
     "output_type": "display_data"
    }
   ],
   "source": [
    "CITES5[2]"
   ]
  },
  {
   "cell_type": "code",
   "execution_count": 199,
   "metadata": {},
   "outputs": [
    {
     "data": {
      "text/plain": [
       "(1,)"
      ]
     },
     "metadata": {},
     "output_type": "display_data"
    }
   ],
   "source": [
    "size(CITES5_IFs[2])"
   ]
  },
  {
   "cell_type": "code",
   "execution_count": 200,
   "metadata": {},
   "outputs": [
    {
     "data": {
      "text/plain": [
       "177.88615457885615"
      ]
     },
     "metadata": {},
     "output_type": "display_data"
    }
   ],
   "source": [
    "C = sum(MINE[!, :CT])"
   ]
  },
  {
   "cell_type": "code",
   "execution_count": 201,
   "metadata": {},
   "outputs": [
    {
     "data": {
      "text/plain": [
       "175.22165241435397"
      ]
     },
     "metadata": {},
     "output_type": "display_data"
    }
   ],
   "source": [
    "C5 = sum(MINE[!, :CT5])"
   ]
  },
  {
   "cell_type": "code",
   "execution_count": 202,
   "metadata": {},
   "outputs": [
    {
     "data": {
      "text/plain": [
       "10526.09268938577"
      ]
     },
     "metadata": {},
     "output_type": "display_data"
    }
   ],
   "source": [
    "UAIC_1_9 = sum(MINE[!, :UAIC9])"
   ]
  },
  {
   "cell_type": "code",
   "execution_count": 203,
   "metadata": {},
   "outputs": [
    {
     "data": {
      "text/plain": [
       "\"/mnt/e/Stoleriu/Doc/CV/auto/PP_JL_MINE_test.csv\""
      ]
     },
     "metadata": {},
     "output_type": "display_data"
    }
   ],
   "source": [
    "outputMINEcsv = joinpath(root, fileOwnCSV)\n",
    "CSV.write(outputMINEcsv, MINE)"
   ]
  },
  {
   "cell_type": "code",
   "execution_count": 204,
   "metadata": {},
   "outputs": [],
   "source": [
    "ENV[\"COLUMNS\"]=500\n",
    "MINE[1, filter(x -> !(x in [\"CR\",\"RP\"]), names(MINE))];"
   ]
  },
  {
   "cell_type": "code",
   "execution_count": 205,
   "metadata": {},
   "outputs": [
    {
     "data": {
      "text/plain": [
       "78"
      ]
     },
     "metadata": {},
     "output_type": "display_data"
    }
   ],
   "source": [
    "using Printf\n",
    "outputMINEtxt = joinpath(root, fileOwnUAIC)\n",
    "open(outputMINEtxt, \"w\") do file\n",
    "    for (row_indexMINE, lucrareMINE) in enumerate(eachrow(MINE))\n",
    "        if ( !ismissing(lucrareMINE.BP) )\n",
    "            write(file, \"[$row_indexMINE] \\t $(lucrareMINE.AU); $(lucrareMINE.TI); $(lucrareMINE.Journal), vol.$(lucrareMINE.VL), pp.$(lucrareMINE.BP)-$(lucrareMINE.EP) ($(lucrareMINE.PY)), DOI:$(lucrareMINE.DI) \\n\")\n",
    "        else\n",
    "            write(file, \"[$row_indexMINE] \\t $(lucrareMINE.AU); $(lucrareMINE.TI); $(lucrareMINE.Journal), vol.$(lucrareMINE.VL), art.no.$(lucrareMINE.AR) ($(lucrareMINE.PY)), DOI:$(lucrareMINE.DI) \\n\")\n",
    "        end\n",
    "        contor = 1\n",
    "        for (idx_citare, citare) in enumerate(CITES5[row_indexMINE])\n",
    "            if (citare == 0)\n",
    "                continue\n",
    "            end\n",
    "            write(file, \"\\t\\t[$row_indexMINE.$contor] $(MINECITE[citare,:].AU); $(MINECITE[citare,:].TI); $(MINECITE[citare,:].Journal), vol.$(MINECITE[citare,:].VL) ($(MINECITE[citare,:].PY)), DOI:$(MINECITE[citare,:].DI) \\n\")\n",
    "            write(file, \"\\t\\t\\tIF citare: $(CITES5_IFs[row_indexMINE][idx_citare])\\n\")\n",
    "            contor = contor + 1\n",
    "        end\n",
    "        write(file, \"nr.autori: $(lucrareMINE.NA) \\t\\t IF: $(lucrareMINE.IF) \\t\\t UAIC I.1(ISI): $(@sprintf(\"%8.4f\", lucrareMINE.UAIC1)) \\t\\t nr.citari: $(lucrareMINE.TIMESC5) \\t\\t UAIC I.9(Citari): $(@sprintf(\"%9.4f\", lucrareMINE.UAIC9)) \\n\")\n",
    "        write(file, '-'^400, '\\n')\n",
    "    end\n",
    "    write(file, '-'^400, '\\n')\n",
    "    write(file, '-'^400, '\\n')\n",
    "    write(file, \"Total criteriul I.1(UAIC) = $(@sprintf(\"%9.4f\", UAIC_1_1))\\t\\t\\tTotal criteriul I.9(UAIC) = $(@sprintf(\"%9.4f\", UAIC_1_9))\")\n",
    "end"
   ]
  },
  {
   "cell_type": "code",
   "execution_count": 206,
   "metadata": {},
   "outputs": [
    {
     "data": {
      "text/plain": [
       "121"
      ]
     },
     "metadata": {},
     "output_type": "display_data"
    }
   ],
   "source": [
    "outputMINEtxt = joinpath(root, fileOwnTXT)\n",
    "open(outputMINEtxt, \"w\") do file\n",
    "    for (row_indexMINE, lucrareMINE) in enumerate(eachrow(MINE))\n",
    "        if ( !ismissing(lucrareMINE.BP) )\n",
    "            write(file, \"[$row_indexMINE] \\t $(lucrareMINE.AU); $(lucrareMINE.TI); $(lucrareMINE.Journal), vol.$(lucrareMINE.VL), pp.$(lucrareMINE.BP)-$(lucrareMINE.EP) ($(lucrareMINE.PY)), DOI:$(lucrareMINE.DI) \\n\")\n",
    "        else\n",
    "            write(file, \"[$row_indexMINE] \\t $(lucrareMINE.AU); $(lucrareMINE.TI); $(lucrareMINE.Journal), vol.$(lucrareMINE.VL), art.no.$(lucrareMINE.AR) ($(lucrareMINE.PY)), DOI:$(lucrareMINE.DI) \\n\")\n",
    "        end\n",
    "        contor = 1\n",
    "        for (idx_citare, citare) in enumerate(CITES5[row_indexMINE])\n",
    "            if (citare == 0)\n",
    "                continue\n",
    "            end\n",
    "            write(file, \"\\t\\t[$row_indexMINE.$contor] $(MINECITE[citare,:].AU); $(MINECITE[citare,:].TI); $(MINECITE[citare,:].Journal), vol.$(MINECITE[citare,:].VL) ($(MINECITE[citare,:].PY)), DOI:$(MINECITE[citare,:].DI) \\n\")\n",
    "            #write(file, \"\\t\\t\\tIF citare: $(CITES5_IFs[row_indexMINE][idx_citare])\\n\")\n",
    "            contor = contor + 1\n",
    "        end\n",
    "        write(file, \"autori=$(lucrareMINE.NA) \\t autori_eff=$(lucrareMINE.NEFF) \\t AIS=$(lucrareMINE.AI) \\t prim=$(@sprintf(\"%5.3f\", lucrareMINE.PRIM)) \\t inf=$(@sprintf(\"%5.3f\", lucrareMINE.AINEFF)) \\t citari=$(lucrareMINE.TIMESC) \\t cit=$(@sprintf(\"%5.3f\", lucrareMINE.CT)) \\n\")\n",
    "        write(file, '-'^400, '\\n')\n",
    "    end\n",
    "    write(file, '*'^120, '\\n')\n",
    "    write(file, \"P = $(@sprintf(\"%9.4f\", P)) \\t\\t\\t I = $(@sprintf(\"%9.4f\", I)) \\t\\t\\t C = $(@sprintf(\"%9.4f\", C)) \\n\")\n",
    "    write(file, '*'^120, '\\n')\n",
    "end"
   ]
  },
  {
   "cell_type": "code",
   "execution_count": 207,
   "metadata": {},
   "outputs": [],
   "source": []
  }
 ],
 "metadata": {
  "kernelspec": {
   "display_name": "Julia 1.6.5",
   "language": "julia",
   "name": "julia-1.6"
  },
  "language_info": {
   "file_extension": ".jl",
   "mimetype": "application/julia",
   "name": "julia",
   "version": "1.6.5"
  },
  "orig_nbformat": 4
 },
 "nbformat": 4,
 "nbformat_minor": 2
}
