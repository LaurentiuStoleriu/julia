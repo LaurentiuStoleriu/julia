{
 "cells": [
  {
   "cell_type": "code",
   "execution_count": 1,
   "metadata": {},
   "outputs": [],
   "source": [
    "using CSV, DataFrames"
   ]
  },
  {
   "cell_type": "code",
   "execution_count": 2,
   "metadata": {},
   "outputs": [
    {
     "data": {
      "text/plain": [
       "\"LS_savedrecs.txt\""
      ]
     },
     "metadata": {},
     "output_type": "display_data"
    }
   ],
   "source": [
    "primAuthor = \"Stoleriu\"\n",
    "fileOwnPapers = \"LS_savedrecs_mine.txt\"\n",
    "fileCitations = \"LS_savedrecs.txt\""
   ]
  },
  {
   "cell_type": "code",
   "execution_count": 3,
   "metadata": {},
   "outputs": [
    {
     "data": {
      "text/plain": [
       "\"/home/lali/TITAN-ROG-sync/julia/ISI/IF_factor_full_1997-2021.txt\""
      ]
     },
     "metadata": {},
     "output_type": "display_data"
    }
   ],
   "source": [
    "root = dirname(@__FILE__)\n",
    "inputAIS = joinpath(root, \"AI_factor_full_1997-2021.txt\")\n",
    "inputISI = joinpath(root, \"IF_factor_full_1997-2021.txt\")"
   ]
  },
  {
   "cell_type": "code",
   "execution_count": 4,
   "metadata": {},
   "outputs": [
    {
     "data": {
      "text/html": [
       "<p>DataFrameRow (6 columns)</p><div class=\"data-frame\"><table class=\"data-frame\"><thead><tr><th></th><th>Journal</th><th>1997</th><th>1998</th><th>2009</th><th>2020</th><th>2021</th></tr><tr><th></th><th title=\"String31\">String31</th><th title=\"Float64\">Float64</th><th title=\"Float64\">Float64</th><th title=\"Float64\">Float64</th><th title=\"Float64\">Float64</th><th title=\"Float64\">Float64</th></tr></thead><tbody><tr><th>8157</th><td>IEEE MAGN LETT</td><td>0.789</td><td>0.789</td><td>0.789</td><td>0.409</td><td>0.409</td></tr></tbody></table></div>"
      ],
      "text/latex": [
       "\\begin{tabular}{r|cccccc}\n",
       "\t& Journal & 1997 & 1998 & 2009 & 2020 & 2021\\\\\n",
       "\t\\hline\n",
       "\t& String31 & Float64 & Float64 & Float64 & Float64 & Float64\\\\\n",
       "\t\\hline\n",
       "\t8157 & IEEE MAGN LETT & 0.789 & 0.789 & 0.789 & 0.409 & 0.409 \\\\\n",
       "\\end{tabular}\n"
      ],
      "text/plain": [
       "\u001b[1mDataFrameRow\u001b[0m\n",
       "\u001b[1m  Row \u001b[0m│\u001b[1m Journal        \u001b[0m\u001b[1m 1997    \u001b[0m\u001b[1m 1998    \u001b[0m\u001b[1m 2009    \u001b[0m\u001b[1m 2020    \u001b[0m\u001b[1m 2021    \u001b[0m\n",
       "\u001b[1m      \u001b[0m│\u001b[90m String31       \u001b[0m\u001b[90m Float64 \u001b[0m\u001b[90m Float64 \u001b[0m\u001b[90m Float64 \u001b[0m\u001b[90m Float64 \u001b[0m\u001b[90m Float64 \u001b[0m\n",
       "──────┼─────────────────────────────────────────────────────────────\n",
       " 8157 │ IEEE MAGN LETT    0.789    0.789    0.789    0.409    0.409"
      ]
     },
     "metadata": {},
     "output_type": "display_data"
    }
   ],
   "source": [
    "AIS = CSV.read(inputAIS, DataFrame; header=true)\n",
    "AIS[8157, [1, 2, 3, 14, 25, 26]]"
   ]
  },
  {
   "cell_type": "code",
   "execution_count": 5,
   "metadata": {},
   "outputs": [
    {
     "data": {
      "text/html": [
       "<p>DataFrameRow (6 columns)</p><div class=\"data-frame\"><table class=\"data-frame\"><thead><tr><th></th><th>Journal</th><th>1997</th><th>1998</th><th>2009</th><th>2020</th><th>2021</th></tr><tr><th></th><th title=\"String31\">String31</th><th title=\"Float64\">Float64</th><th title=\"Float64\">Float64</th><th title=\"Float64\">Float64</th><th title=\"Float64\">Float64</th><th title=\"Float64\">Float64</th></tr></thead><tbody><tr><th>8157</th><td>IEEE MAGN LETT</td><td>1.692</td><td>1.692</td><td>1.692</td><td>1.549</td><td>1.549</td></tr></tbody></table></div>"
      ],
      "text/latex": [
       "\\begin{tabular}{r|cccccc}\n",
       "\t& Journal & 1997 & 1998 & 2009 & 2020 & 2021\\\\\n",
       "\t\\hline\n",
       "\t& String31 & Float64 & Float64 & Float64 & Float64 & Float64\\\\\n",
       "\t\\hline\n",
       "\t8157 & IEEE MAGN LETT & 1.692 & 1.692 & 1.692 & 1.549 & 1.549 \\\\\n",
       "\\end{tabular}\n"
      ],
      "text/plain": [
       "\u001b[1mDataFrameRow\u001b[0m\n",
       "\u001b[1m  Row \u001b[0m│\u001b[1m Journal        \u001b[0m\u001b[1m 1997    \u001b[0m\u001b[1m 1998    \u001b[0m\u001b[1m 2009    \u001b[0m\u001b[1m 2020    \u001b[0m\u001b[1m 2021    \u001b[0m\n",
       "\u001b[1m      \u001b[0m│\u001b[90m String31       \u001b[0m\u001b[90m Float64 \u001b[0m\u001b[90m Float64 \u001b[0m\u001b[90m Float64 \u001b[0m\u001b[90m Float64 \u001b[0m\u001b[90m Float64 \u001b[0m\n",
       "──────┼─────────────────────────────────────────────────────────────\n",
       " 8157 │ IEEE MAGN LETT    1.692    1.692    1.692    1.549    1.549"
      ]
     },
     "metadata": {},
     "output_type": "display_data"
    }
   ],
   "source": [
    "ISI = CSV.read(inputISI, DataFrame; header=true)\n",
    "ISI[8157, [1, 2, 3, 14, 25, 26]]"
   ]
  },
  {
   "cell_type": "code",
   "execution_count": 6,
   "metadata": {},
   "outputs": [
    {
     "data": {
      "text/plain": [
       "\"/home/lali/TITAN-ROG-sync/julia/ISI/LS_savedrecs.txt\""
      ]
     },
     "metadata": {},
     "output_type": "display_data"
    }
   ],
   "source": [
    "root = dirname(@__FILE__)\n",
    "inputMINE = joinpath(root, fileOwnPapers)\n",
    "inputCIT = joinpath(root, fileCitations)"
   ]
  },
  {
   "cell_type": "code",
   "execution_count": 7,
   "metadata": {},
   "outputs": [
    {
     "name": "stderr",
     "output_type": "stream",
     "text": [
      "┌ Warning: thread = 1 warning: parsed expected 67 columns, but didn't reach end of line around data row: 1. Parsing extra columns and widening final columnset\n",
      "└ @ CSV /home/lali/.julia/packages/CSV/nofYz/src/file.jl:635\n"
     ]
    }
   ],
   "source": [
    "MINEraw = CSV.read(inputMINE, DataFrame; header=true)\n",
    "eltype.(eachcol(MINEraw));"
   ]
  },
  {
   "cell_type": "code",
   "execution_count": 8,
   "metadata": {},
   "outputs": [],
   "source": [
    "MINE = MINEraw[:, [2, 9, 24, 30, 32, 42, 45, 46, 47, 52, 53, 54, 55]];\n",
    "eltype.(eachcol(MINE));"
   ]
  },
  {
   "cell_type": "code",
   "execution_count": 9,
   "metadata": {},
   "outputs": [],
   "source": [
    "MINE[1, :PY] = 2021   # ADV MAT no year!!!!\n",
    "eltype.(eachcol(MINE));"
   ]
  },
  {
   "cell_type": "code",
   "execution_count": 10,
   "metadata": {},
   "outputs": [],
   "source": [
    "#root = dirname(\"/mnt/d/Stoleriu/\")\n",
    "#outputMINE = joinpath(root, \"MINE_test.csv\")\n",
    "#CSV.write(outputMINE, MINE)"
   ]
  },
  {
   "cell_type": "markdown",
   "metadata": {},
   "source": [
    "Pregatim MINE cu noi coloane"
   ]
  },
  {
   "cell_type": "code",
   "execution_count": 11,
   "metadata": {},
   "outputs": [],
   "source": [
    "rename!(MINE,:\"J9\" => :\"Journal\")\n",
    "insertcols!(MINE, :NA => 0);\n",
    "insertcols!(MINE, :NEFF => 0.0);\n",
    "insertcols!(MINE, :PRIM => 0);\n",
    "insertcols!(MINE, :AI => 0.0);\n",
    "insertcols!(MINE, :AINEFF => 0.0);\n",
    "insertcols!(MINE, :IF => 0.0);\n",
    "insertcols!(MINE, :IFNA => 0.0);\n",
    "insertcols!(MINE, :TIMESC => 0);"
   ]
  },
  {
   "cell_type": "markdown",
   "metadata": {},
   "source": [
    "Gasim numarul de autori si prim autor"
   ]
  },
  {
   "cell_type": "code",
   "execution_count": 12,
   "metadata": {},
   "outputs": [],
   "source": [
    "for (row_index, lucrare) in enumerate(eachrow(MINE))\n",
    "    MINE[row_index, :NA] = (1+count(\";\", lucrare[:AU]))\n",
    "\n",
    "    if MINE[row_index, :NA] <= 5\n",
    "        MINE[row_index, :NEFF] = MINE[row_index, :NA]\n",
    "    elseif MINE[row_index, :NA] <= 15\n",
    "        MINE[row_index, :NEFF] = (MINE[row_index, :NA] + 5.0) / 2.0\n",
    "    elseif MINE[row_index, :NA] <= 75\n",
    "        MINE[row_index, :NEFF] = (MINE[row_index, :NA] + 15.0) / 3.0\n",
    "    else\n",
    "        MINE[row_index, :NEFF] = (MINE[row_index, :NA] + 45.0) / 4.0\n",
    "    end\n",
    "\n",
    "    if findfirst(primAuthor, MINE[row_index, :AU])[1] == 1\n",
    "        MINE[row_index, :PRIM] = 1\n",
    "    elseif occursin(primAuthor, lucrare[:RP])\n",
    "        MINE[row_index, :PRIM] = 1\n",
    "    end\n",
    "    #println(row_index, MINE[row_index, [:NA]])\n",
    "    #println(row_index, MINE[row_index, [:PRIM]])\n",
    "end"
   ]
  },
  {
   "cell_type": "code",
   "execution_count": 13,
   "metadata": {},
   "outputs": [
    {
     "data": {
      "text/html": [
       "<div class=\"data-frame\"><p>0 rows × 9 columns</p><table class=\"data-frame\"><thead><tr><th></th><th>AU</th><th>Journal</th><th>PY</th><th>VL</th><th>AR</th><th>NA</th><th>NEFF</th><th>PRIM</th><th>AI</th></tr><tr><th></th><th title=\"String\">String</th><th title=\"Union{Missing, String31}\">String31?</th><th title=\"Int64\">Int64</th><th title=\"Union{Missing, Int64}\">Int64?</th><th title=\"Union{Missing, String7}\">String7?</th><th title=\"Int64\">Int64</th><th title=\"Float64\">Float64</th><th title=\"Int64\">Int64</th><th title=\"Float64\">Float64</th></tr></thead><tbody></tbody></table></div>"
      ],
      "text/latex": [
       "\\begin{tabular}{r|ccccccccc}\n",
       "\t& AU & Journal & PY & VL & AR & NA & NEFF & PRIM & AI\\\\\n",
       "\t\\hline\n",
       "\t& String & String31? & Int64 & Int64? & String7? & Int64 & Float64 & Int64 & Float64\\\\\n",
       "\t\\hline\n",
       "\\end{tabular}\n"
      ],
      "text/plain": [
       "\u001b[1m0×9 DataFrame\u001b[0m"
      ]
     },
     "metadata": {},
     "output_type": "display_data"
    }
   ],
   "source": [
    "#MINE[:, [6, 7, 8, 12, 14, 15, 16, 17]]\n",
    "MINE.PY = Int64.(MINE.PY)\n",
    "MINE[ismissing.(MINE[!, :PY]), [1, 6, 7, 8, 12, 14, 15, 16, 17]]"
   ]
  },
  {
   "cell_type": "code",
   "execution_count": 14,
   "metadata": {},
   "outputs": [],
   "source": [
    "#root = dirname(\"/mnt/d/Stoleriu/\")\n",
    "#outputMINE = joinpath(root, \"MINE_test.csv\")\n",
    "#CSV.write(outputMINE, MINE)"
   ]
  },
  {
   "cell_type": "code",
   "execution_count": 15,
   "metadata": {},
   "outputs": [
    {
     "data": {
      "text/plain": [
       "10"
      ]
     },
     "metadata": {},
     "output_type": "display_data"
    }
   ],
   "source": [
    "AISsubsect = filter(r -> any(occursin.(Vector(MINE[1, [:Journal]]), r.Journal)), AIS)\n",
    "#subsect2 = filter(r -> ([\"ADV MATER\"][1] .== r.Journal[1]), AIS)\n",
    "size(AISsubsect, 1)\n",
    "#[\"ADV MATER\"][1] .== subsect[1, [:Journal]][1]"
   ]
  },
  {
   "cell_type": "code",
   "execution_count": 16,
   "metadata": {},
   "outputs": [],
   "source": [
    "for (row_index, lucrare) in enumerate(eachrow(MINE))\n",
    "    #lucrare = MINE[1, :]\n",
    "    if(ismissing(lucrare[:Journal]))\n",
    "        continue\n",
    "    end\n",
    "    for AISrow in eachrow(AIS)\n",
    "        if( lucrare[:Journal] == AISrow[:Journal] )\n",
    "            anString = string(lucrare[:PY])\n",
    "            #println(AISrow[anString])\n",
    "            MINE[row_index, :AI] = AISrow[anString]\n",
    "            MINE[row_index, :AINEFF] = MINE[row_index, :AI] / MINE[row_index, :NEFF]\n",
    "        end\n",
    "    end\n",
    "    for ISIrow in eachrow(ISI)\n",
    "        if( lucrare[:Journal] == ISIrow[:Journal] )\n",
    "            anString = string(lucrare[:PY])\n",
    "            #println(ISIrow[anString])\n",
    "            MINE[row_index, :IF] = ISIrow[anString]\n",
    "            MINE[row_index, :IFNA] = ISIrow[anString] / MINE[row_index, :NA]\n",
    "        end\n",
    "    end\n",
    "end"
   ]
  },
  {
   "cell_type": "code",
   "execution_count": 17,
   "metadata": {},
   "outputs": [
    {
     "data": {
      "text/plain": [
       "\"/mnt/d/Stoleriu/MINE_test.csv\""
      ]
     },
     "metadata": {},
     "output_type": "display_data"
    }
   ],
   "source": [
    "root = dirname(\"/mnt/d/Stoleriu/\")\n",
    "outputMINE = joinpath(root, \"MINE_test.csv\")\n",
    "CSV.write(outputMINE, MINE)"
   ]
  },
  {
   "cell_type": "code",
   "execution_count": 18,
   "metadata": {},
   "outputs": [
    {
     "data": {
      "text/plain": [
       "14.938599034299036"
      ]
     },
     "metadata": {},
     "output_type": "display_data"
    }
   ],
   "source": [
    "I = sum(MINE[!, :AINEFF])"
   ]
  },
  {
   "cell_type": "code",
   "execution_count": 19,
   "metadata": {},
   "outputs": [
    {
     "data": {
      "text/plain": [
       "10.668"
      ]
     },
     "metadata": {},
     "output_type": "display_data"
    }
   ],
   "source": [
    "P = sum(MINE[!, :PRIM] .* MINE[!, :AI])"
   ]
  },
  {
   "cell_type": "markdown",
   "metadata": {},
   "source": [
    "############################\n",
    "Citations\n",
    "############################"
   ]
  },
  {
   "cell_type": "code",
   "execution_count": 20,
   "metadata": {},
   "outputs": [
    {
     "name": "stderr",
     "output_type": "stream",
     "text": [
      "┌ Warning: thread = 1 warning: parsed expected 67 columns, but didn't reach end of line around data row: 1. Parsing extra columns and widening final columnset\n",
      "└ @ CSV /home/lali/.julia/packages/CSV/nofYz/src/file.jl:635\n"
     ]
    },
    {
     "data": {
      "text/plain": [
       "68-element Vector{Type}:\n",
       " String1\n",
       " String\n",
       " Union{Missing, String63}\n",
       " Union{Missing, String}\n",
       " Union{Missing, String31}\n",
       " String\n",
       " Union{Missing, String63}\n",
       " Missing\n",
       " String\n",
       " String\n",
       " ⋮\n",
       " String\n",
       " String7\n",
       " String31\n",
       " Union{Missing, Int64}\n",
       " Union{Missing, String63}\n",
       " Union{Missing, String1}\n",
       " Union{Missing, String1}\n",
       " Dates.Date\n",
       " Missing"
      ]
     },
     "metadata": {},
     "output_type": "display_data"
    }
   ],
   "source": [
    "MINECITEraw = CSV.read(inputCIT, DataFrame; header=true)\n",
    "eltype.(eachcol(MINECITEraw));\n",
    "# autocitari\n",
    "#for (row_indexCIT, lucrareCIT) in enumerate(eachrow(MINECITEraw))\n",
    "#    if( occursin(primAuthor, lucrareCIT.AU) )\n",
    "#        println(lucrareCIT.AU)\n",
    "#    end\n",
    "#end"
   ]
  },
  {
   "cell_type": "code",
   "execution_count": 21,
   "metadata": {},
   "outputs": [],
   "source": [
    "MINECITEraw = filter(row -> !(occursin(primAuthor, row.AU)),  MINECITEraw);\n",
    "for (row_indexCIT, lucrareCIT) in enumerate(eachrow(MINECITEraw))\n",
    "    if( occursin(primAuthor, lucrareCIT.AU) )\n",
    "        println(lucrareCIT.AU)\n",
    "    end\n",
    "end"
   ]
  },
  {
   "cell_type": "code",
   "execution_count": 22,
   "metadata": {},
   "outputs": [],
   "source": [
    "MINECITE = MINECITEraw[:, [2, 9, 30, 42, 45, 46, 47, 52, 53, 54, 55]];\n",
    "eltype.(eachcol(MINECITE));"
   ]
  },
  {
   "cell_type": "code",
   "execution_count": 23,
   "metadata": {},
   "outputs": [],
   "source": [
    "CITES = fill!(Vector{Vector{Int}}(undef, size(MINE)[1]), [0]);"
   ]
  },
  {
   "cell_type": "code",
   "execution_count": 28,
   "metadata": {},
   "outputs": [
    {
     "name": "stdout",
     "output_type": "stream",
     "text": [
      "Analyzing paper 10.1002/adma.202105586\n",
      "Analyzing paper "
     ]
    },
    {
     "name": "stdout",
     "output_type": "stream",
     "text": [
      "10.1063/5.0042788\n",
      "Paper 2 cited by 5\n",
      "Paper 2 cited by 11\n",
      "Analyzing paper 10.1109/LMAG.2021.3110488\n",
      "Analyzing paper "
     ]
    },
    {
     "name": "stdout",
     "output_type": "stream",
     "text": [
      "10.1016/j.physb.2020.412038\n",
      "Analyzing paper 10.1016/j.jmmm.2019.04.080\n",
      "Paper 5 cited by 104\n",
      "Paper 5 cited by 109\n",
      "Paper 5 cited by 143\n",
      "Skip paper 6"
     ]
    },
    {
     "name": "stdout",
     "output_type": "stream",
     "text": [
      "\n",
      "Analyzing paper 10.1016/j.sna.2018.08.040\n",
      "Analyzing paper 10.1016/j.jmmm.2017.08.084\n",
      "Paper 8 cited by 77\n",
      "Analyzing paper 10.1103/PhysRevB.96.064115\n",
      "Paper 9 cited by 5\n"
     ]
    },
    {
     "name": "stdout",
     "output_type": "stream",
     "text": [
      "Paper 9 cited by 94\n",
      "Paper 9 cited by 189\n",
      "Paper 9 cited by 192\n",
      "Paper 9 cited by 206\n",
      "Paper 9 cited by 223\n",
      "Paper 9 cited by 229\n",
      "Paper 9 cited by 266\n",
      "Analyzing paper 10.1103/PhysRevB.95.224107\n",
      "Paper 10 cited by 5\n",
      "Paper 10 cited by 10\n",
      "Paper 10 cited by 15\n",
      "Paper 10 cited by 22\n",
      "Paper 10 cited by 35\n",
      "Paper 10 cited by 50\n",
      "Paper 10 cited by 96\n",
      "Paper 10 cited by 114\n",
      "Paper 10 cited by 129\n",
      "Paper 10 cited by 135\n",
      "Paper 10 cited by 138\n",
      "Paper 10 cited by 146\n",
      "Paper 10 cited by 168\n",
      "Paper 10 cited by 190\n",
      "Paper 10 cited by 192\n",
      "Paper 10 cited by 266\n",
      "Paper 10 cited by 276\n",
      "Analyzing paper 10.1038/NMAT4606\n",
      "Paper 11 cited by 5\n",
      "Paper 11 cited by 14\n",
      "Paper 11 cited by 15\n",
      "Paper 11 cited by 18\n",
      "Paper 11 cited by 23\n",
      "Paper 11 cited by 24\n",
      "Paper 11 cited by 38\n",
      "Paper 11 cited by 42\n",
      "Paper 11 cited by 43\n",
      "Paper 11 cited by 44\n",
      "Paper 11 cited by 45\n",
      "Paper 11 cited by 57\n",
      "Paper 11 cited by 63\n",
      "Paper 11 cited by 66\n",
      "Paper 11 cited by 69\n",
      "Paper 11 cited by 70\n",
      "Paper 11 cited by 71\n",
      "Paper 11 cited by 75\n",
      "Paper 11 cited by 76\n",
      "Paper 11 cited by 79\n",
      "Paper 11 cited by 88\n",
      "Paper 11 cited by 89\n",
      "Paper 11 cited by 97\n",
      "Paper 11 cited by 110\n",
      "Paper 11 cited by 111\n",
      "Paper 11 cited by 112\n",
      "Paper 11 cited by 121\n",
      "Paper 11 cited by 134\n",
      "Paper 11 cited by 135\n",
      "Paper 11 cited by 138\n",
      "Paper 11 cited by 146\n",
      "Paper 11 cited by 152\n",
      "Paper 11 cited by 154\n",
      "Paper 11 cited by 160\n",
      "Paper 11 cited by 168\n",
      "Paper 11 cited by 174\n",
      "Paper 11 cited by 178\n",
      "Paper 11 cited by 184\n",
      "Paper 11 cited by 190\n",
      "Paper 11 cited by 191\n",
      "Paper 11 cited by 192\n",
      "Paper 11 cited by 195\n",
      "Paper 11 cited by 199\n",
      "Paper 11 cited by 200\n",
      "Paper 11 cited by 201\n",
      "Paper 11 cited by 208\n"
     ]
    },
    {
     "name": "stdout",
     "output_type": "stream",
     "text": [
      "Paper 11 cited by 217\n",
      "Paper 11 cited by 218\n",
      "Paper 11 cited by 222\n",
      "Paper 11 cited by 224\n",
      "Paper 11 cited by 231\n",
      "Paper 11 cited by 237\n",
      "Paper 11 cited by 240\n",
      "Paper 11 cited by 248\n",
      "Paper 11 cited by 250\n",
      "Paper 11 cited by 252\n",
      "Paper 11 cited by 255\n",
      "Paper 11 cited by 259\n",
      "Paper 11 cited by 266\n",
      "Paper 11 cited by 268\n",
      "Paper 11 cited by 269\n",
      "Paper 11 cited by 273\n",
      "Paper 11 cited by 274\n",
      "Paper 11 cited by 275\n",
      "Paper 11 cited by 276\n",
      "Paper 11 cited by 278\n",
      "Paper 11 cited by 279\n",
      "Paper 11 cited by 283\n",
      "Paper 11 cited by 286\n",
      "Paper 11 cited by 287\n",
      "Paper 11 cited by 288\n",
      "Paper 11 cited by 290\n",
      "Paper 11 cited by 295\n",
      "Paper 11 cited by 301\n",
      "Paper 11 cited by 310\n",
      "Paper 11 cited by 320\n",
      "Paper 11 cited by 327\n",
      "Paper 11 cited by 337\n",
      "Paper 11 cited by 362\n",
      "Paper 11 cited by 365\n",
      "Analyzing paper 10.1016/j.jallcom.2016.01.183\n",
      "Paper 12 cited by 1\n",
      "Paper 12 cited by 2\n",
      "Paper 12 cited by 4\n",
      "Paper 12 cited by 12\n",
      "Paper 12 cited by 34\n",
      "Paper 12 cited by 60\n",
      "Paper 12 cited by 67\n",
      "Paper 12 cited by 80\n",
      "Paper 12 cited by 81\n",
      "Paper 12 cited by 85\n",
      "Paper 12 cited by 90\n",
      "Paper 12 cited by 91\n",
      "Paper 12 cited by 98\n",
      "Paper 12 cited by 100\n",
      "Paper 12 cited by 102\n",
      "Paper 12 cited by 116\n",
      "Paper 12 cited by 123\n",
      "Paper 12 cited by 128\n",
      "Paper 12 cited by 131\n",
      "Paper 12 cited by 132\n",
      "Paper 12 cited by 141\n",
      "Paper 12 cited by 144\n",
      "Paper 12 cited by 151\n",
      "Paper 12 cited by 159\n",
      "Paper 12 cited by 165\n",
      "Paper 12 cited by 177\n",
      "Paper 12 cited by 188\n",
      "Paper 12 cited by 198\n",
      "Paper 12 cited by 204\n",
      "Paper 12 cited by 207\n",
      "Paper 12 cited by 216\n",
      "Paper 12 cited by 220\n",
      "Paper 12 cited by 227\n",
      "Paper 12 cited by 242\n",
      "Paper 12 cited by 243\n",
      "Paper 12 cited by 258\n",
      "Paper 12 cited by 262\n",
      "Paper 12 cited by 267\n",
      "Paper 12 cited by 280\n",
      "Paper 12 cited by 281\n",
      "Paper 12 cited by 298\n",
      "Paper 12 cited by 303\n",
      "Paper 12 cited by 315"
     ]
    },
    {
     "name": "stdout",
     "output_type": "stream",
     "text": [
      "\n",
      "Paper 12 cited by 318\n",
      "Paper 12 cited by 321\n",
      "Paper 12 cited by 324\n",
      "Paper 12 cited by 328\n",
      "Paper 12 cited by 363\n",
      "Paper 12 cited by 368\n",
      "Analyzing paper 10.1016/j.physb.2015.08.035\n",
      "Paper 13 cited by 187\n",
      "Paper 13 cited by 196\n",
      "Analyzing paper 10.1016/j.physb.2015.12.002\n",
      "Analyzing paper "
     ]
    },
    {
     "name": "stdout",
     "output_type": "stream",
     "text": [
      "10.1063/1.4914953\n",
      "Paper 15 cited by 94\n",
      "Paper 15 cited by 120\n",
      "Paper 15 cited by 170\n",
      "Paper 15 cited by 192\n",
      "Paper 15 cited by 223\n",
      "Paper 15 cited by 250\n",
      "Analyzing paper 10.1109/TMAG.2014.2304916\n",
      "Analyzing paper 10.1063/1.4881135\n",
      "Paper 17 cited by 26\n",
      "Paper 17 cited by 161\n",
      "Paper 17 cited by 253\n",
      "Paper 17 cited by 302\n",
      "Paper 17 cited by 314\n"
     ]
    },
    {
     "name": "stdout",
     "output_type": "stream",
     "text": [
      "Paper 17 cited by 379\n",
      "Paper 17 cited by 381\n",
      "Analyzing paper 10.1016/j.jmmm.2013.10.001\n",
      "Paper 18 cited by 16\n",
      "Paper 18 cited by 314\n",
      "Analyzing paper 10.1063/1.4839895\n",
      "Paper 19 cited by 212\n"
     ]
    },
    {
     "name": "stdout",
     "output_type": "stream",
     "text": [
      "Paper 19 cited by 246\n",
      "Paper 19 cited by 299\n",
      "Paper 19 cited by 306\n",
      "Paper 19 cited by 340\n",
      "Paper 19 cited by 394\n",
      "Analyzing paper 10.1016/j.jmmm.2013.06.009\n",
      "Paper 20 cited by 13\n",
      "Paper 20 cited by 37\n",
      "Paper 20 cited by 82\n",
      "Paper 20 cited by 86\n",
      "Paper 20 cited by 133\n",
      "Paper 20 cited by 150\n",
      "Paper 20 cited by 155\n",
      "Paper 20 cited by 167\n",
      "Paper 20 cited by 173\n",
      "Paper 20 cited by 181\n",
      "Paper 20 cited by 182\n",
      "Paper 20 cited by 213\n",
      "Paper 20 cited by 263\n",
      "Paper 20 cited by 285\n",
      "Paper 20 cited by 311\n",
      "Paper 20 cited by 358\n",
      "Analyzing paper 10.1063/1.4810758\n"
     ]
    },
    {
     "name": "stdout",
     "output_type": "stream",
     "text": [
      "Paper 21 cited by 246\n",
      "Paper 21 cited by 271\n",
      "Paper 21 cited by 307\n",
      "Paper 21 cited by 335\n",
      "Analyzing paper 10.1063/1.4775682\n",
      "Paper 22 cited by 462\n",
      "Analyzing paper 10.1063/1.4770487\n",
      "Paper 23 cited by 37\n",
      "Paper 23 cited by 78\n",
      "Paper 23 cited by 127\n",
      "Paper 23 cited by 173\n",
      "Paper 23 cited by 214\n",
      "Paper 23 cited by 372\n",
      "Analyzing paper 10.1016/j.jeurceramsoc.2012.05.007\n",
      "Paper 24 cited by 9\n",
      "Paper 24 cited by 17\n",
      "Paper 24 cited by 33\n",
      "Paper 24 cited by 41\n",
      "Paper 24 cited by 48\n",
      "Paper 24 cited by 49\n",
      "Paper 24 cited by 58\n",
      "Paper 24 cited by 64\n",
      "Paper 24 cited by 72\n",
      "Paper 24 cited by 73\n",
      "Paper 24 cited by 83\n",
      "Paper 24 cited by 84\n",
      "Paper 24 cited by 93\n",
      "Paper 24 cited by 101\n",
      "Paper 24 cited by 103\n",
      "Paper 24 cited by 107\n",
      "Paper 24 cited by 122\n",
      "Paper 24 cited by 136\n",
      "Paper 24 cited by 149\n",
      "Paper 24 cited by 158\n",
      "Paper 24 cited by 171\n",
      "Paper 24 cited by 180\n",
      "Paper 24 cited by 183\n",
      "Paper 24 cited by 186\n",
      "Paper 24 cited by 225"
     ]
    },
    {
     "name": "stdout",
     "output_type": "stream",
     "text": [
      "\n",
      "Paper 24 cited by 228\n",
      "Paper 24 cited by 234\n",
      "Paper 24 cited by 238\n",
      "Paper 24 cited by 244\n",
      "Paper 24 cited by 247\n",
      "Paper 24 cited by 272\n",
      "Paper 24 cited by 284\n",
      "Paper 24 cited by 296\n",
      "Paper 24 cited by 312\n",
      "Paper 24 cited by 317\n",
      "Paper 24 cited by 322\n",
      "Paper 24 cited by 329\n",
      "Paper 24 cited by 330\n",
      "Paper 24 cited by 347\n",
      "Paper 24 cited by 351\n",
      "Paper 24 cited by 359\n",
      "Paper 24 cited by 374\n",
      "Paper 24 cited by 375\n",
      "Paper 24 cited by 377\n",
      "Paper 24 cited by 384\n",
      "Paper 24 cited by 388\n",
      "Paper 24 cited by 399\n",
      "Paper 24 cited by 411\n",
      "Paper 24 cited by 412\n",
      "Paper 24 cited by 414\n",
      "Paper 24 cited by 420\n",
      "Paper 24 cited by 429\n",
      "Paper 24 cited by 432\n",
      "Paper 24 cited by 436\n",
      "Paper 24 cited by 449\n",
      "Paper 24 cited by 450\n",
      "Paper 24 cited by 454\n",
      "Paper 24 cited by 464\n",
      "Paper 24 cited by 465\n",
      "Paper 24 cited by 466\n",
      "Paper 24 cited by 486\n",
      "Paper 24 cited by 487\n",
      "Analyzing paper 10.1103/PhysRevB.86.054114\n",
      "Paper 25 cited by 5\n",
      "Paper 25 cited by 11\n",
      "Paper 25 cited by 22\n",
      "Paper 25 cited by 25\n",
      "Paper 25 cited by 32\n",
      "Paper 25 cited by 45\n",
      "Paper 25 cited by 47\n",
      "Paper 25 cited by 50\n",
      "Paper 25 cited by 56\n",
      "Paper 25 cited by 75\n",
      "Paper 25 cited by 87\n",
      "Paper 25 cited by 105\n",
      "Paper 25 cited by 157\n",
      "Paper 25 cited by 189\n",
      "Paper 25 cited by 192\n",
      "Paper 25 cited by 200\n",
      "Paper 25 cited by 206\n",
      "Paper 25 cited by 209\n",
      "Paper 25 cited by 223\n",
      "Paper 25 cited by 229\n",
      "Paper 25 cited by 266\n",
      "Paper 25 cited by 273\n",
      "Paper 25 cited by 277\n",
      "Paper 25 cited by 289\n",
      "Paper 25 cited by 304\n",
      "Paper 25 cited by 327\n",
      "Paper 25 cited by 334\n",
      "Paper 25 cited by 344\n",
      "Paper 25 cited by 350\n",
      "Paper 25 cited by 352\n",
      "Paper 25 cited by 366\n",
      "Paper 25 cited by 383\n",
      "Paper 25 cited by 389\n",
      "Paper 25 cited by 398\n",
      "Paper 25 cited by 410\n",
      "Paper 25 cited by 426\n",
      "Paper 25 cited by 430\n",
      "Paper 25 cited by 438\n",
      "Paper 25 cited by 439\n",
      "Paper 25 cited by 442\n",
      "Paper 25 cited by 453\n",
      "Paper 25 cited by 457\n",
      "Paper 25 cited by 459\n",
      "Paper 25 cited by 468\n",
      "Paper 25 cited by 470\n",
      "Paper 25 cited by 483\n",
      "Analyzing paper 10.1063/1.3703672\n",
      "Paper 26 cited by 3\n",
      "Paper 26 cited by 6\n",
      "Paper 26 cited by 7\n",
      "Paper 26 cited by 21\n",
      "Paper 26 cited by 27\n",
      "Paper 26 cited by 31\n",
      "Paper 26 cited by 51\n",
      "Paper 26 cited by 58\n",
      "Paper 26 cited by 106\n",
      "Paper 26 cited by 113\n",
      "Paper 26 cited by 117\n",
      "Paper 26 cited by 119\n",
      "Paper 26 cited by 136"
     ]
    },
    {
     "name": "stdout",
     "output_type": "stream",
     "text": [
      "\n",
      "Paper 26 cited by 139\n",
      "Paper 26 cited by 145\n",
      "Paper 26 cited by 156\n",
      "Paper 26 cited by 162\n",
      "Paper 26 cited by 163\n",
      "Paper 26 cited by 166\n",
      "Paper 26 cited by 172\n",
      "Paper 26 cited by 197\n",
      "Paper 26 cited by 202\n",
      "Paper 26 cited by 203\n",
      "Paper 26 cited by 226\n",
      "Paper 26 cited by 228\n",
      "Paper 26 cited by 230\n",
      "Paper 26 cited by 233\n",
      "Paper 26 cited by 236\n",
      "Paper 26 cited by 239\n",
      "Paper 26 cited by 241\n",
      "Paper 26 cited by 257\n",
      "Paper 26 cited by 264\n",
      "Paper 26 cited by 282\n",
      "Paper 26 cited by 291\n",
      "Paper 26 cited by 313\n",
      "Paper 26 cited by 319\n",
      "Paper 26 cited by 323\n",
      "Paper 26 cited by 342\n",
      "Paper 26 cited by 343\n",
      "Paper 26 cited by 345\n",
      "Paper 26 cited by 346\n",
      "Paper 26 cited by 361\n",
      "Paper 26 cited by 373\n",
      "Paper 26 cited by 376\n",
      "Paper 26 cited by 391\n",
      "Paper 26 cited by 396\n",
      "Paper 26 cited by 404\n",
      "Paper 26 cited by 405\n",
      "Paper 26 cited by 414\n",
      "Paper 26 cited by 421\n",
      "Paper 26 cited by 422\n",
      "Paper 26 cited by 425\n",
      "Paper 26 cited by 428\n",
      "Paper 26 cited by 436\n",
      "Paper 26 cited by 458\n",
      "Paper 26 cited by 471\n",
      "Paper 26 cited by 475\n",
      "Paper 26 cited by 487\n",
      "Paper 26 cited by 491\n",
      "Analyzing paper 10.1063/1.3696046\n",
      "Analyzing paper 10.1103/PhysRevB.84.134102\n",
      "Paper 28 cited by 10\n",
      "Paper 28 cited by 14\n",
      "Paper 28 cited by 22\n",
      "Paper 28 cited by 35\n",
      "Paper 28 cited by 62\n",
      "Paper 28 cited by 94\n",
      "Paper 28 cited by 97\n",
      "Paper 28 cited by 124"
     ]
    },
    {
     "name": "stdout",
     "output_type": "stream",
     "text": [
      "\n",
      "Paper 28 cited by 129\n",
      "Paper 28 cited by 146\n",
      "Paper 28 cited by 170\n",
      "Paper 28 cited by 189\n",
      "Paper 28 cited by 192\n",
      "Paper 28 cited by 196\n",
      "Paper 28 cited by 229\n",
      "Paper 28 cited by 245\n",
      "Paper 28 cited by 250\n",
      "Paper 28 cited by 260\n",
      "Paper 28 cited by 265\n",
      "Paper 28 cited by 266\n",
      "Paper 28 cited by 290\n",
      "Paper 28 cited by 293\n",
      "Paper 28 cited by 300\n",
      "Paper 28 cited by 334\n",
      "Paper 28 cited by 336\n",
      "Paper 28 cited by 350\n",
      "Paper 28 cited by 352\n",
      "Paper 28 cited by 355\n",
      "Paper 28 cited by 398\n",
      "Paper 28 cited by 410\n",
      "Paper 28 cited by 417\n",
      "Paper 28 cited by 426\n",
      "Paper 28 cited by 427\n",
      "Paper 28 cited by 440\n",
      "Paper 28 cited by 441\n",
      "Paper 28 cited by 447\n",
      "Paper 28 cited by 448\n",
      "Paper 28 cited by 455\n",
      "Paper 28 cited by 474\n",
      "Paper 28 cited by 478\n",
      "Paper 28 cited by 483\n",
      "Paper 28 cited by 484\n",
      "Paper 28 cited by 485\n",
      "Paper 28 cited by 497\n",
      "Paper 28 cited by 498\n",
      "Paper 28 cited by 505\n",
      "Analyzing paper 10.1016/j.jmmm.2011.01.035\n",
      "Paper 29 cited by 59\n",
      "Paper 29 cited by 108\n"
     ]
    },
    {
     "name": "stdout",
     "output_type": "stream",
     "text": [
      "Paper 29 cited by 349\n",
      "Paper 29 cited by 360\n",
      "Paper 29 cited by 372\n",
      "Paper 29 cited by 416\n",
      "Paper 29 cited by 496\n",
      "Paper 29 cited by 500\n",
      "Analyzing paper 10.1063/1.3556702\n",
      "Paper 30 cited by 22\n",
      "Paper 30 cited by 192\n",
      "Paper 30 cited by 334\n",
      "Paper 30 cited by 350\n",
      "Paper 30 cited by 352\n",
      "Paper 30 cited by 383\n",
      "Paper 30 cited by 407\n",
      "Paper 30 cited by 434\n",
      "Paper 30 cited by 447\n",
      "Paper 30 cited by 448\n",
      "Paper 30 cited by 457\n",
      "Paper 30 cited by 470\n",
      "Paper 30 cited by 472\n",
      "Paper 30 cited by 479\n",
      "Paper 30 cited by 493\n",
      "Paper 30 cited by 494\n",
      "Analyzing paper 10.1109/TMAG.2010.2083679\n",
      "Paper 31 cited by 46\n",
      "Paper 31 cited by 115\n",
      "Paper 31 cited by 125\n",
      "Paper 31 cited by 194\n",
      "Paper 31 cited by 221\n",
      "Paper 31 cited by 249\n",
      "Paper 31 cited by 254\n",
      "Paper 31 cited by 297\n",
      "Paper 31 cited by 326\n",
      "Paper 31 cited by 349\n",
      "Paper 31 cited by 378\n",
      "Paper 31 cited by 401\n",
      "Paper 31 cited by 460\n",
      "Paper 31 cited by 480\n",
      "Paper 31 cited by 490\n",
      "Paper 31 cited by 507\n",
      "Analyzing paper 10.1103/PhysRevB.82.104114\n",
      "Paper 32 cited by 11\n",
      "Paper 32 cited by 30\n",
      "Paper 32 cited by 53\n",
      "Paper 32 cited by 164\n",
      "Paper 32 cited by 192\n",
      "Paper 32 cited by 266"
     ]
    },
    {
     "name": "stdout",
     "output_type": "stream",
     "text": [
      "\n",
      "Paper 32 cited by 334\n",
      "Paper 32 cited by 336\n",
      "Paper 32 cited by 398\n",
      "Paper 32 cited by 433\n",
      "Paper 32 cited by 447\n",
      "Paper 32 cited by 448\n",
      "Paper 32 cited by 456\n",
      "Paper 32 cited by 472\n",
      "Paper 32 cited by 485\n",
      "Paper 32 cited by 496\n",
      "Paper 32 cited by 497\n",
      "Paper 32 cited by 502\n",
      "Analyzing paper 10.1016/j.physb.2010.05.063\n",
      "Paper 33 cited by 55\n",
      "Paper 33 cited by 433\n",
      "Paper 33 cited by 485\n",
      "Analyzing paper 10.1209/0295-5075/91/27003\n",
      "Paper 34 cited by 11\n",
      "Paper 34 cited by 22\n",
      "Paper 34 cited by 23\n",
      "Paper 34 cited by 25\n",
      "Paper 34 cited by 28\n",
      "Paper 34 cited by 29\n",
      "Paper 34 cited by 32\n",
      "Paper 34 cited by 92\n",
      "Paper 34 cited by 146\n",
      "Paper 34 cited by 192\n",
      "Paper 34 cited by 200"
     ]
    },
    {
     "name": "stdout",
     "output_type": "stream",
     "text": [
      "\n",
      "Paper 34 cited by 260\n",
      "Paper 34 cited by 261\n",
      "Paper 34 cited by 265\n",
      "Paper 34 cited by 266\n",
      "Paper 34 cited by 270\n",
      "Paper 34 cited by 273\n",
      "Paper 34 cited by 300\n",
      "Paper 34 cited by 327\n",
      "Paper 34 cited by 334\n",
      "Paper 34 cited by 353\n",
      "Paper 34 cited by 380\n",
      "Paper 34 cited by 389\n",
      "Paper 34 cited by 390\n",
      "Paper 34 cited by 398\n",
      "Paper 34 cited by 407\n",
      "Paper 34 cited by 439\n",
      "Paper 34 cited by 447\n",
      "Paper 34 cited by 448\n",
      "Paper 34 cited by 453\n",
      "Paper 34 cited by 455\n",
      "Paper 34 cited by 461\n",
      "Paper 34 cited by 468\n",
      "Paper 34 cited by 469\n",
      "Paper 34 cited by 472\n",
      "Paper 34 cited by 473\n",
      "Paper 34 cited by 474\n",
      "Paper 34 cited by 476\n",
      "Paper 34 cited by 477\n",
      "Paper 34 cited by 478\n",
      "Paper 34 cited by 481\n",
      "Paper 34 cited by 484\n",
      "Paper 34 cited by 488\n",
      "Paper 34 cited by 497\n",
      "Paper 34 cited by 498\n",
      "Paper 34 cited by 501\n",
      "Paper 34 cited by 504\n",
      "Paper 34 cited by 505\n",
      "Paper 34 cited by 507\n",
      "Paper 34 cited by 508\n",
      "Analyzing paper 10.1109/TMAG.2010.2045643\n",
      "Paper 35 cited by 125\n",
      "Paper 35 cited by 401\n",
      "Paper 35 cited by 460\n",
      "Paper 35 cited by 515\n",
      "Skip paper 36\n",
      "Skip paper 37\n",
      "Analyzing paper 10.1103/PhysRevLett.102.257204\n",
      "Paper 38 cited by 5\n",
      "Paper 38 cited by 23\n",
      "Paper 38 cited by 25\n",
      "Paper 38 cited by 36\n",
      "Paper 38 cited by 40\n",
      "Paper 38 cited by 62\n",
      "Paper 38 cited by 87\n",
      "Paper 38 cited by 94\n",
      "Paper 38 cited by 99\n",
      "Paper 38 cited by 105"
     ]
    },
    {
     "name": "stdout",
     "output_type": "stream",
     "text": [
      "\n",
      "Paper 38 cited by 120\n",
      "Paper 38 cited by 124\n",
      "Paper 38 cited by 130\n",
      "Paper 38 cited by 138\n",
      "Paper 38 cited by 146\n",
      "Paper 38 cited by 147\n",
      "Paper 38 cited by 153\n",
      "Paper 38 cited by 164\n",
      "Paper 38 cited by 168\n",
      "Paper 38 cited by 170\n",
      "Paper 38 cited by 179\n",
      "Paper 38 cited by 189\n",
      "Paper 38 cited by 192\n",
      "Paper 38 cited by 193\n",
      "Paper 38 cited by 195\n",
      "Paper 38 cited by 200\n",
      "Paper 38 cited by 205\n",
      "Paper 38 cited by 206\n",
      "Paper 38 cited by 223\n",
      "Paper 38 cited by 224\n",
      "Paper 38 cited by 229\n",
      "Paper 38 cited by 235\n",
      "Paper 38 cited by 245\n",
      "Paper 38 cited by 250\n",
      "Paper 38 cited by 261\n",
      "Paper 38 cited by 266\n",
      "Paper 38 cited by 273\n",
      "Paper 38 cited by 289\n",
      "Paper 38 cited by 290\n",
      "Paper 38 cited by 293\n",
      "Paper 38 cited by 305\n",
      "Paper 38 cited by 325\n",
      "Paper 38 cited by 327\n",
      "Paper 38 cited by 334\n",
      "Paper 38 cited by 336\n",
      "Paper 38 cited by 353\n",
      "Paper 38 cited by 355\n",
      "Paper 38 cited by 356\n",
      "Paper 38 cited by 382\n",
      "Paper 38 cited by 386\n",
      "Paper 38 cited by 387\n",
      "Paper 38 cited by 389\n",
      "Paper 38 cited by 390\n",
      "Paper 38 cited by 393\n",
      "Paper 38 cited by 398\n",
      "Paper 38 cited by 400\n",
      "Paper 38 cited by 409\n",
      "Paper 38 cited by 417\n",
      "Paper 38 cited by 427\n",
      "Paper 38 cited by 437\n",
      "Paper 38 cited by 439\n",
      "Paper 38 cited by 440\n",
      "Paper 38 cited by 441\n",
      "Paper 38 cited by 445\n",
      "Paper 38 cited by 447\n",
      "Paper 38 cited by 448\n",
      "Paper 38 cited by 453\n",
      "Paper 38 cited by 455\n",
      "Paper 38 cited by 468\n",
      "Paper 38 cited by 472\n",
      "Paper 38 cited by 478\n",
      "Paper 38 cited by 481\n",
      "Paper 38 cited by 484\n",
      "Paper 38 cited by 485\n",
      "Paper 38 cited by 489\n",
      "Paper 38 cited by 493\n",
      "Paper 38 cited by 497\n",
      "Paper 38 cited by 498\n",
      "Paper 38 cited by 499\n",
      "Paper 38 cited by 504\n",
      "Paper 38 cited by 505\n",
      "Paper 38 cited by 506\n",
      "Paper 38 cited by 507\n",
      "Paper 38 cited by 509\n",
      "Paper 38 cited by 510\n",
      "Paper 38 cited by 512\n",
      "Paper 38 cited by 513\n",
      "Paper 38 cited by 514\n",
      "Paper 38 cited by 517\n",
      "Paper 38 cited by 518\n",
      "Paper 38 cited by 519\n",
      "Paper 38 cited by 524\n",
      "Paper 38 cited by 525\n",
      "Paper 38 cited by 528\n",
      "Paper 38 cited by 537\n",
      "Paper 38 cited by 538\n",
      "Paper 38 cited by 539\n",
      "Paper 38 cited by 546\n",
      "Analyzing paper 10.1109/TMAG.2008.2002793\n",
      "Paper 39 cited by 192\n",
      "Paper 39 cited by 270\n",
      "Paper 39 cited by 510\n",
      "Paper 39 cited by 546\n",
      "Analyzing paper 10.1063/1.2834252\n",
      "Paper 40 cited by 61\n",
      "Paper 40 cited by 408\n",
      "Analyzing paper "
     ]
    },
    {
     "name": "stdout",
     "output_type": "stream",
     "text": [
      "10.1016/j.jmmm.2007.02.137\n",
      "Paper 41 cited by 61\n",
      "Paper 41 cited by 331\n",
      "Paper 41 cited by 369\n",
      "Paper 41 cited by 406\n",
      "Paper 41 cited by 408\n",
      "Paper 41 cited by 451\n",
      "Paper 41 cited by 503\n",
      "Paper 41 cited by 534\n",
      "Paper 41 cited by 545\n",
      "Paper 41 cited by 559\n",
      "Analyzing paper 10.1016/j.jmmm.2007.02.049\n",
      "Paper 42 cited by 46\n",
      "Paper 42 cited by 59\n",
      "Paper 42 cited by 108\n",
      "Paper 42 cited by 137\n",
      "Paper 42 cited by 142\n",
      "Paper 42 cited by 175\n",
      "Paper 42 cited by 176\n",
      "Paper 42 cited by 185\n",
      "Paper 42 cited by 251\n",
      "Paper 42 cited by 294\n",
      "Paper 42 cited by 308\n",
      "Paper 42 cited by 309\n",
      "Paper 42 cited by 316\n",
      "Paper 42 cited by 332\n",
      "Paper 42 cited by 349\n",
      "Paper 42 cited by 354\n",
      "Paper 42 cited by 360\n",
      "Paper 42 cited by 367"
     ]
    },
    {
     "name": "stdout",
     "output_type": "stream",
     "text": [
      "\n",
      "Paper 42 cited by 392\n",
      "Paper 42 cited by 413\n",
      "Paper 42 cited by 416\n",
      "Paper 42 cited by 424\n",
      "Paper 42 cited by 431\n",
      "Paper 42 cited by 452\n",
      "Paper 42 cited by 467\n",
      "Paper 42 cited by 482\n",
      "Paper 42 cited by 492\n",
      "Paper 42 cited by 495\n",
      "Paper 42 cited by 500\n",
      "Paper 42 cited by 515\n",
      "Paper 42 cited by 526\n",
      "Paper 42 cited by 529\n",
      "Paper 42 cited by 530\n",
      "Paper 42 cited by 533\n",
      "Paper 42 cited by 535\n",
      "Paper 42 cited by 536\n",
      "Paper 42 cited by 542\n",
      "Paper 42 cited by 543\n",
      "Paper 42 cited by 548\n",
      "Paper 42 cited by 550\n",
      "Paper 42 cited by 557\n",
      "Paper 42 cited by 558\n",
      "Analyzing paper 10.1016/j.jmmm.2007.02.127\n",
      "Paper 43 cited by 547\n",
      "Analyzing paper 10.1016/j.jmmm.2007.02.130\n",
      "Paper 44 cited by 408"
     ]
    },
    {
     "name": "stdout",
     "output_type": "stream",
     "text": [
      "\n",
      "Skip paper 45\n",
      "Analyzing paper 10.1016/j.jeurceramsoc.2007.02.085\n",
      "Paper 46 cited by 54\n",
      "Paper 46 cited by 169\n",
      "Paper 46 cited by 211\n",
      "Paper 46 cited by 232\n",
      "Paper 46 cited by 323\n",
      "Paper 46 cited by 395\n",
      "Paper 46 cited by 397\n",
      "Paper 46 cited by 402\n",
      "Paper 46 cited by 418\n",
      "Paper 46 cited by 423\n",
      "Paper 46 cited by 443\n",
      "Paper 46 cited by 444\n",
      "Paper 46 cited by 521\n",
      "Paper 46 cited by 523\n",
      "Paper 46 cited by 531\n",
      "Paper 46 cited by 532\n",
      "Paper 46 cited by 540\n",
      "Paper 46 cited by 541\n",
      "Paper 46 cited by 544\n",
      "Paper 46 cited by 549\n",
      "Paper 46 cited by 552\n",
      "Paper 46 cited by 555\n",
      "Analyzing paper 10.1103/PhysRevB.74.174107\n",
      "Paper 47 cited by 39\n",
      "Paper 47 cited by 52\n",
      "Paper 47 cited by 54\n",
      "Paper 47 cited by 126\n",
      "Paper 47 cited by 148\n",
      "Paper 47 cited by 219"
     ]
    },
    {
     "name": "stdout",
     "output_type": "stream",
     "text": [
      "\n",
      "Paper 47 cited by 319\n",
      "Paper 47 cited by 419\n",
      "Paper 47 cited by 487\n",
      "Paper 47 cited by 540\n",
      "Paper 47 cited by 541\n",
      "Skip paper 48\n",
      "Analyzing paper 10.1109/TMAG.2006.880112\n",
      "Paper 49 cited by 413\n",
      "Analyzing paper 10.1063/1.2172539\n",
      "Paper 50 cited by 115\n",
      "Paper 50 cited by 125\n",
      "Paper 50 cited by 175\n",
      "Paper 50 cited by 194\n",
      "Paper 50 cited by 297\n",
      "Paper 50 cited by 408\n",
      "Analyzing paper "
     ]
    },
    {
     "name": "stdout",
     "output_type": "stream",
     "text": [
      "10.1016/j.physb.2005.10.054\n",
      "Paper 51 cited by 19\n",
      "Analyzing paper 10.1016/j.jeurceramsoc.2006.02.025\n",
      "Paper 52 cited by 118\n",
      "Paper 52 cited by 371\n",
      "Paper 52 cited by 435\n",
      "Paper 52 cited by 511\n",
      "Paper 52 cited by 520\n",
      "Paper 52 cited by 522\n",
      "Paper 52 cited by 540\n",
      "Paper 52 cited by 541\n",
      "Paper 52 cited by 562\n",
      "Paper 52 cited by 567\n",
      "Analyzing paper 10.1016/j.jeurceramsoc.2006.02.026\n",
      "Paper 53 cited by 19\n"
     ]
    },
    {
     "name": "stdout",
     "output_type": "stream",
     "text": [
      "Paper 53 cited by 52\n",
      "Paper 53 cited by 68\n",
      "Paper 53 cited by 74\n",
      "Paper 53 cited by 95\n",
      "Paper 53 cited by 126\n",
      "Paper 53 cited by 148\n",
      "Paper 53 cited by 219\n",
      "Paper 53 cited by 230\n",
      "Paper 53 cited by 319\n",
      "Paper 53 cited by 341\n",
      "Paper 53 cited by 364\n",
      "Paper 53 cited by 370\n",
      "Paper 53 cited by 403\n",
      "Paper 53 cited by 419\n",
      "Paper 53 cited by 487\n",
      "Paper 53 cited by 516\n",
      "Paper 53 cited by 540\n",
      "Paper 53 cited by 541\n",
      "Paper 53 cited by 551\n",
      "Paper 53 cited by 556\n",
      "Analyzing paper 10.1016/j.jmmm.2004.11.509\n",
      "Paper 54 cited by 333\n",
      "Paper 54 cited by 560"
     ]
    },
    {
     "name": "stdout",
     "output_type": "stream",
     "text": [
      "\n",
      "Paper 54 cited by 566\n",
      "Analyzing paper 10.1088/1742-6596/17/1/028\n",
      "Skip paper 56\n",
      "Analyzing paper 10.1109/tmag.2004.830456\n",
      "Paper 57 cited by 569\n",
      "Analyzing paper 10.1109/TMAG.2004.830452\n"
     ]
    },
    {
     "name": "stdout",
     "output_type": "stream",
     "text": [
      "Paper 58 cited by 527\n",
      "Analyzing paper 10.1109/TMAG.2004.830458\n",
      "Analyzing paper 10.1109/tmag.2004.830399\n",
      "Paper 60 cited by 333\n",
      "Paper 60 cited by 378\n",
      "Paper 60 cited by 460\n"
     ]
    },
    {
     "name": "stdout",
     "output_type": "stream",
     "text": [
      "Paper 60 cited by 560\n",
      "Paper 60 cited by 566\n",
      "Skip paper 61\n",
      "Analyzing paper 10.1016/j.jmmm.2003.12.631\n",
      "Analyzing paper 10.1016/j.physb.2003.08.043\n"
     ]
    },
    {
     "name": "stdout",
     "output_type": "stream",
     "text": [
      "Paper 63 cited by 297\n",
      "Paper 63 cited by 333\n",
      "Paper 63 cited by 563\n",
      "Paper 63 cited by 570\n",
      "Analyzing paper 10.3233/JAE-2004-646\n",
      "Paper 64 cited by 553"
     ]
    },
    {
     "name": "stdout",
     "output_type": "stream",
     "text": [
      "\n",
      "Skip paper 65\n",
      "Analyzing paper 10.1016/S0304-8853(03)00448-7\n",
      "Paper 66 cited by 210\n",
      "Paper 66 cited by 446\n",
      "Paper 66 cited by 564\n",
      "Analyzing paper 10.1109/TMAG.2003.816468\n",
      "Analyzing paper 10.1109/TMAG.2003.816467\n",
      "Paper 68 cited by 125\n",
      "Paper 68 cited by 333\n"
     ]
    },
    {
     "name": "stdout",
     "output_type": "stream",
     "text": [
      "Paper 68 cited by 467\n",
      "Paper 68 cited by 480\n",
      "Paper 68 cited by 482\n",
      "Paper 68 cited by 570\n",
      "Analyzing paper 10.1109/TMAG.2003.816459\n",
      "Paper 69 cited by 182\n",
      "Paper 69 cited by 246\n",
      "Analyzing paper 10.1063/1.1566088\n"
     ]
    },
    {
     "name": "stdout",
     "output_type": "stream",
     "text": [
      "Paper 70 cited by 561\n",
      "Analyzing paper 10.1063/1.1557656\n",
      "Paper 71 cited by 78\n",
      "Paper 71 cited by 109\n",
      "Paper 71 cited by 125\n",
      "Paper 71 cited by 142\n",
      "Paper 71 cited by 182\n",
      "Paper 71 cited by 185\n",
      "Paper 71 cited by 333\n",
      "Paper 71 cited by 354\n",
      "Paper 71 cited by 360\n",
      "Paper 71 cited by 378\n",
      "Paper 71 cited by 460\n",
      "Paper 71 cited by 480\n",
      "Paper 71 cited by 482\n",
      "Paper 71 cited by 490\n",
      "Paper 71 cited by 496\n",
      "Paper 71 cited by 500\n",
      "Paper 71 cited by 515\n",
      "Paper 71 cited by 533\n",
      "Paper 71 cited by 540\n",
      "Paper 71 cited by 541\n",
      "Paper 71 cited by 548\n",
      "Paper 71 cited by 553\n",
      "Paper 71 cited by 566\n",
      "Paper 71 cited by 570\n",
      "Skip paper 72\n",
      "Analyzing paper 10.1109/TMAG.2002.802823\n"
     ]
    },
    {
     "name": "stdout",
     "output_type": "stream",
     "text": [
      "Skip paper 74\n",
      "Skip paper 75\n",
      "Analyzing paper 10.1063/1.1447488\n",
      "Analyzing paper 10.1016/S0921-4526(01)00984-X\n",
      "Analyzing paper 10.1063/1.1355343\n",
      "Paper 78 cited by 297"
     ]
    },
    {
     "name": "stdout",
     "output_type": "stream",
     "text": [
      "\n",
      "Paper 78 cited by 333\n",
      "Paper 78 cited by 526\n",
      "Paper 78 cited by 536\n",
      "Paper 78 cited by 563\n",
      "Paper 78 cited by 570\n",
      "Analyzing paper 10.1016/S0304-8853(00)01353-6\n",
      "Paper 79 cited by 560\n",
      "Paper 79 cited by 566\n",
      "Paper 79 cited by 570\n",
      "Skip paper 80\n",
      "Skip paper 81\n",
      "Skip paper 82\n",
      "Skip paper 83\n",
      "Analyzing paper 10.1109/20.908799\n",
      "Paper 84 cited by 357"
     ]
    },
    {
     "name": "stdout",
     "output_type": "stream",
     "text": [
      "\n",
      "Paper 84 cited by 408\n",
      "Paper 84 cited by 553\n",
      "Analyzing paper 10.1063/1.372768\n",
      "Paper 85 cited by 408\n"
     ]
    },
    {
     "name": "stdout",
     "output_type": "stream",
     "text": [
      "Paper 85 cited by 553\n",
      "Paper 85 cited by 560\n",
      "Paper 85 cited by 568\n",
      "Paper 85 cited by 572\n",
      "Paper 85 cited by 573\n",
      "Paper 85 cited by 574\n",
      "Paper 85 cited by 575\n",
      "Paper 85 cited by 576\n",
      "Paper 85 cited by 577\n",
      "Paper 85 cited by 578\n",
      "Paper 85 cited by 579\n",
      "Paper 85 cited by 580\n",
      "Paper 85 cited by 581\n",
      "Paper 85 cited by 582\n",
      "Skip paper 86\n",
      "Skip paper 87\n",
      "Skip paper 88\n"
     ]
    }
   ],
   "source": [
    "for (row_indexMINE, lucrareMINE) in enumerate(eachrow(MINE))\n",
    "    if ( ismissing(lucrareMINE[:DI]) )\n",
    "        println(\"Skip paper $row_indexMINE\")\n",
    "        continue\n",
    "    end\n",
    "    println(\"Analyzing paper \", lucrareMINE[:DI])\n",
    "    for (row_indexCIT, lucrareCIT) in enumerate(eachrow(MINECITE))\n",
    "        if ( occursin(lucrareMINE[:DI], lucrareCIT[:CR]) )\n",
    "            println(\"Paper $row_indexMINE cited by $row_indexCIT\")\n",
    "        end\n",
    "    end\n",
    "end"
   ]
  },
  {
   "cell_type": "code",
   "execution_count": 25,
   "metadata": {},
   "outputs": [],
   "source": []
  }
 ],
 "metadata": {
  "kernelspec": {
   "display_name": "Julia 1.6.3",
   "language": "julia",
   "name": "julia-1.6"
  },
  "language_info": {
   "file_extension": ".jl",
   "mimetype": "application/julia",
   "name": "julia",
   "version": "1.6.3"
  },
  "orig_nbformat": 4
 },
 "nbformat": 4,
 "nbformat_minor": 2
}
