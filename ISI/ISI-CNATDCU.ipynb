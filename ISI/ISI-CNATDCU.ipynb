{
 "cells": [
  {
   "cell_type": "code",
   "execution_count": 1,
   "metadata": {},
   "outputs": [],
   "source": [
    "using CSV, DataFrames"
   ]
  },
  {
   "cell_type": "code",
   "execution_count": 2,
   "metadata": {},
   "outputs": [
    {
     "data": {
      "text/plain": [
       "\"LS_savedrecs_848.txt\""
      ]
     },
     "metadata": {},
     "output_type": "display_data"
    }
   ],
   "source": [
    "primAuthor = \"Stoleriu\"\n",
    "fileOwnPapers = \"LS_savedrecs_mine.txt\"\n",
    "fileCitations = \"LS_savedrecs_848.txt\""
   ]
  },
  {
   "cell_type": "code",
   "execution_count": 3,
   "metadata": {},
   "outputs": [
    {
     "data": {
      "text/plain": [
       "\"/mnt/e/Stoleriu/Doc/CV/auto/IF_factor_full_1997-2021.txt\""
      ]
     },
     "metadata": {},
     "output_type": "display_data"
    }
   ],
   "source": [
    "#root = dirname(@__FILE__)\n",
    "root = dirname(\"/mnt/e/Stoleriu/Doc/CV/auto/\")\n",
    "inputAIS = joinpath(root, \"AI_factor_full_1997-2021.txt\")\n",
    "inputISI = joinpath(root, \"IF_factor_full_1997-2021.txt\")"
   ]
  },
  {
   "cell_type": "markdown",
   "metadata": {},
   "source": [
    "Pentru calculele pe 5 ani:"
   ]
  },
  {
   "cell_type": "code",
   "execution_count": 4,
   "metadata": {},
   "outputs": [
    {
     "data": {
      "text/plain": [
       "2021"
      ]
     },
     "metadata": {},
     "output_type": "display_data"
    }
   ],
   "source": [
    "ANini = 2017\n",
    "ANfin = 2021"
   ]
  },
  {
   "cell_type": "code",
   "execution_count": 5,
   "metadata": {},
   "outputs": [
    {
     "ename": "ArgumentError",
     "evalue": "ArgumentError: \"/mnt/e/Stoleriu/Doc/CV/auto/AI_factor_full_1997-2021.txt\" is not a valid file or doesn't exist",
     "output_type": "error",
     "traceback": [
      "ArgumentError: \"/mnt/e/Stoleriu/Doc/CV/auto/AI_factor_full_1997-2021.txt\" is not a valid file or doesn't exist\n",
      "\n",
      "Stacktrace:\n",
      "  [1] CSV.Context(source::CSV.Arg, header::CSV.Arg, normalizenames::CSV.Arg, datarow::CSV.Arg, skipto::CSV.Arg, footerskip::CSV.Arg, transpose::CSV.Arg, comment::CSV.Arg, ignoreemptyrows::CSV.Arg, ignoreemptylines::CSV.Arg, select::CSV.Arg, drop::CSV.Arg, limit::CSV.Arg, buffer_in_memory::CSV.Arg, threaded::CSV.Arg, ntasks::CSV.Arg, tasks::CSV.Arg, rows_to_check::CSV.Arg, lines_to_check::CSV.Arg, missingstrings::CSV.Arg, missingstring::CSV.Arg, delim::CSV.Arg, ignorerepeated::CSV.Arg, quoted::CSV.Arg, quotechar::CSV.Arg, openquotechar::CSV.Arg, closequotechar::CSV.Arg, escapechar::CSV.Arg, dateformat::CSV.Arg, dateformats::CSV.Arg, decimal::CSV.Arg, truestrings::CSV.Arg, falsestrings::CSV.Arg, type::CSV.Arg, types::CSV.Arg, typemap::CSV.Arg, pool::CSV.Arg, downcast::CSV.Arg, lazystrings::CSV.Arg, stringtype::CSV.Arg, strict::CSV.Arg, silencewarnings::CSV.Arg, maxwarnings::CSV.Arg, debug::CSV.Arg, parsingdebug::CSV.Arg, validate::CSV.Arg, streaming::CSV.Arg)\n",
      "    @ CSV ~/.julia/packages/CSV/nofYz/src/context.jl:256\n",
      "  [2] #File#25\n",
      "    @ ~/.julia/packages/CSV/nofYz/src/file.jl:220 [inlined]\n",
      "  [3] read(source::String, sink::Type; copycols::Bool, kwargs::Base.Iterators.Pairs{Symbol, Bool, Tuple{Symbol}, NamedTuple{(:header,), Tuple{Bool}}})\n",
      "    @ CSV ~/.julia/packages/CSV/nofYz/src/CSV.jl:91\n",
      "  [4] top-level scope\n",
      "    @ ~/TITAN-ROG-sync/julia/ISI/ISI-CNATDCU.ipynb:1\n",
      "  [5] eval\n",
      "    @ ./boot.jl:360 [inlined]\n",
      "  [6] include_string(mapexpr::typeof(REPL.softscope), mod::Module, code::String, filename::String)\n",
      "    @ Base ./loading.jl:1116\n",
      "  [7] #invokelatest#2\n",
      "    @ ./essentials.jl:708 [inlined]\n",
      "  [8] invokelatest\n",
      "    @ ./essentials.jl:706 [inlined]\n",
      "  [9] (::VSCodeServer.var\"#146#147\"{VSCodeServer.NotebookRunCellArguments, String})()\n",
      "    @ VSCodeServer ~/.vscode-server/extensions/julialang.language-julia-insider-1.5.7/scripts/packages/VSCodeServer/src/serve_notebook.jl:18\n",
      " [10] withpath(f::VSCodeServer.var\"#146#147\"{VSCodeServer.NotebookRunCellArguments, String}, path::String)\n",
      "    @ VSCodeServer ~/.vscode-server/extensions/julialang.language-julia-insider-1.5.7/scripts/packages/VSCodeServer/src/repl.jl:185\n",
      " [11] notebook_runcell_request(conn::VSCodeServer.JSONRPC.JSONRPCEndpoint{Base.PipeEndpoint, Base.PipeEndpoint}, params::VSCodeServer.NotebookRunCellArguments)\n",
      "    @ VSCodeServer ~/.vscode-server/extensions/julialang.language-julia-insider-1.5.7/scripts/packages/VSCodeServer/src/serve_notebook.jl:14\n",
      " [12] dispatch_msg(x::VSCodeServer.JSONRPC.JSONRPCEndpoint{Base.PipeEndpoint, Base.PipeEndpoint}, dispatcher::VSCodeServer.JSONRPC.MsgDispatcher, msg::Dict{String, Any})\n",
      "    @ VSCodeServer.JSONRPC ~/.vscode-server/extensions/julialang.language-julia-insider-1.5.7/scripts/packages/JSONRPC/src/typed.jl:67\n",
      " [13] serve_notebook(pipename::String; crashreporting_pipename::String)\n",
      "    @ VSCodeServer ~/.vscode-server/extensions/julialang.language-julia-insider-1.5.7/scripts/packages/VSCodeServer/src/serve_notebook.jl:94\n",
      " [14] top-level scope\n",
      "    @ ~/.vscode-server/extensions/julialang.language-julia-insider-1.5.7/scripts/notebook/notebook.jl:12\n",
      " [15] include(mod::Module, _path::String)\n",
      "    @ Base ./Base.jl:386\n",
      " [16] exec_options(opts::Base.JLOptions)\n",
      "    @ Base ./client.jl:285\n",
      " [17] _start()\n",
      "    @ Base ./client.jl:485"
     ]
    }
   ],
   "source": [
    "AIS = CSV.read(inputAIS, DataFrame; header=true)\n",
    "AIS[8157, [1, 2, 3, 14, 25, 26]]"
   ]
  },
  {
   "cell_type": "code",
   "execution_count": 6,
   "metadata": {},
   "outputs": [
    {
     "ename": "ArgumentError",
     "evalue": "ArgumentError: \"/mnt/e/Stoleriu/Doc/CV/auto/IF_factor_full_1997-2021.txt\" is not a valid file or doesn't exist",
     "output_type": "error",
     "traceback": [
      "ArgumentError: \"/mnt/e/Stoleriu/Doc/CV/auto/IF_factor_full_1997-2021.txt\" is not a valid file or doesn't exist\n",
      "\n",
      "Stacktrace:\n",
      "  [1] CSV.Context(source::CSV.Arg, header::CSV.Arg, normalizenames::CSV.Arg, datarow::CSV.Arg, skipto::CSV.Arg, footerskip::CSV.Arg, transpose::CSV.Arg, comment::CSV.Arg, ignoreemptyrows::CSV.Arg, ignoreemptylines::CSV.Arg, select::CSV.Arg, drop::CSV.Arg, limit::CSV.Arg, buffer_in_memory::CSV.Arg, threaded::CSV.Arg, ntasks::CSV.Arg, tasks::CSV.Arg, rows_to_check::CSV.Arg, lines_to_check::CSV.Arg, missingstrings::CSV.Arg, missingstring::CSV.Arg, delim::CSV.Arg, ignorerepeated::CSV.Arg, quoted::CSV.Arg, quotechar::CSV.Arg, openquotechar::CSV.Arg, closequotechar::CSV.Arg, escapechar::CSV.Arg, dateformat::CSV.Arg, dateformats::CSV.Arg, decimal::CSV.Arg, truestrings::CSV.Arg, falsestrings::CSV.Arg, type::CSV.Arg, types::CSV.Arg, typemap::CSV.Arg, pool::CSV.Arg, downcast::CSV.Arg, lazystrings::CSV.Arg, stringtype::CSV.Arg, strict::CSV.Arg, silencewarnings::CSV.Arg, maxwarnings::CSV.Arg, debug::CSV.Arg, parsingdebug::CSV.Arg, validate::CSV.Arg, streaming::CSV.Arg)\n",
      "    @ CSV ~/.julia/packages/CSV/nofYz/src/context.jl:256\n",
      "  [2] #File#25\n",
      "    @ ~/.julia/packages/CSV/nofYz/src/file.jl:220 [inlined]\n",
      "  [3] read(source::String, sink::Type; copycols::Bool, kwargs::Base.Iterators.Pairs{Symbol, Bool, Tuple{Symbol}, NamedTuple{(:header,), Tuple{Bool}}})\n",
      "    @ CSV ~/.julia/packages/CSV/nofYz/src/CSV.jl:91\n",
      "  [4] top-level scope\n",
      "    @ ~/TITAN-ROG-sync/julia/ISI/ISI-CNATDCU.ipynb:1\n",
      "  [5] eval\n",
      "    @ ./boot.jl:360 [inlined]\n",
      "  [6] include_string(mapexpr::typeof(REPL.softscope), mod::Module, code::String, filename::String)\n",
      "    @ Base ./loading.jl:1116\n",
      "  [7] #invokelatest#2\n",
      "    @ ./essentials.jl:708 [inlined]\n",
      "  [8] invokelatest\n",
      "    @ ./essentials.jl:706 [inlined]\n",
      "  [9] (::VSCodeServer.var\"#146#147\"{VSCodeServer.NotebookRunCellArguments, String})()\n",
      "    @ VSCodeServer ~/.vscode-server/extensions/julialang.language-julia-insider-1.5.7/scripts/packages/VSCodeServer/src/serve_notebook.jl:18\n",
      " [10] withpath(f::VSCodeServer.var\"#146#147\"{VSCodeServer.NotebookRunCellArguments, String}, path::String)\n",
      "    @ VSCodeServer ~/.vscode-server/extensions/julialang.language-julia-insider-1.5.7/scripts/packages/VSCodeServer/src/repl.jl:185\n",
      " [11] notebook_runcell_request(conn::VSCodeServer.JSONRPC.JSONRPCEndpoint{Base.PipeEndpoint, Base.PipeEndpoint}, params::VSCodeServer.NotebookRunCellArguments)\n",
      "    @ VSCodeServer ~/.vscode-server/extensions/julialang.language-julia-insider-1.5.7/scripts/packages/VSCodeServer/src/serve_notebook.jl:14\n",
      " [12] dispatch_msg(x::VSCodeServer.JSONRPC.JSONRPCEndpoint{Base.PipeEndpoint, Base.PipeEndpoint}, dispatcher::VSCodeServer.JSONRPC.MsgDispatcher, msg::Dict{String, Any})\n",
      "    @ VSCodeServer.JSONRPC ~/.vscode-server/extensions/julialang.language-julia-insider-1.5.7/scripts/packages/JSONRPC/src/typed.jl:67\n",
      " [13] serve_notebook(pipename::String; crashreporting_pipename::String)\n",
      "    @ VSCodeServer ~/.vscode-server/extensions/julialang.language-julia-insider-1.5.7/scripts/packages/VSCodeServer/src/serve_notebook.jl:94\n",
      " [14] top-level scope\n",
      "    @ ~/.vscode-server/extensions/julialang.language-julia-insider-1.5.7/scripts/notebook/notebook.jl:12\n",
      " [15] include(mod::Module, _path::String)\n",
      "    @ Base ./Base.jl:386\n",
      " [16] exec_options(opts::Base.JLOptions)\n",
      "    @ Base ./client.jl:285\n",
      " [17] _start()\n",
      "    @ Base ./client.jl:485"
     ]
    }
   ],
   "source": [
    "ISI = CSV.read(inputISI, DataFrame; header=true)\n",
    "ISI[8157, [1, 2, 3, 14, 25, 26]]"
   ]
  },
  {
   "cell_type": "code",
   "execution_count": 7,
   "metadata": {},
   "outputs": [
    {
     "data": {
      "text/plain": [
       "\"/mnt/e/Stoleriu/Doc/CV/auto/LS_savedrecs_848.txt\""
      ]
     },
     "metadata": {},
     "output_type": "display_data"
    }
   ],
   "source": [
    "#root = dirname(@__FILE__)\n",
    "root = dirname(\"/mnt/e/Stoleriu/Doc/CV/auto/\")\n",
    "inputMINE = joinpath(root, fileOwnPapers)\n",
    "inputCIT = joinpath(root, fileCitations)"
   ]
  },
  {
   "cell_type": "code",
   "execution_count": 8,
   "metadata": {},
   "outputs": [],
   "source": [
    "MINEraw = CSV.read(inputMINE, DataFrame; header=true)\n",
    "eltype.(eachcol(MINEraw));"
   ]
  },
  {
   "cell_type": "code",
   "execution_count": 9,
   "metadata": {},
   "outputs": [],
   "source": [
    "MINE = MINEraw[:, [2, 9, 24, 30, 32, 42, 45, 46, 47, 52, 53, 54, 55]];\n",
    "eltype.(eachcol(MINE));"
   ]
  },
  {
   "cell_type": "code",
   "execution_count": 10,
   "metadata": {},
   "outputs": [
    {
     "ename": "ArgumentError",
     "evalue": "ArgumentError: Cannot assign to non-existent column: PY",
     "output_type": "error",
     "traceback": [
      "ArgumentError: Cannot assign to non-existent column: PY\n",
      "\n",
      "Stacktrace:\n",
      "  [1] insert_single_entry!(df::DataFrame, v::Int64, row_ind::Int64, col_ind::Symbol)\n",
      "    @ DataFrames ~/.julia/packages/DataFrames/vuMM8/src/dataframe/dataframe.jl:622\n",
      "  [2] setindex!(df::DataFrame, v::Int64, row_ind::Int64, col_ind::Symbol)\n",
      "    @ DataFrames ~/.julia/packages/DataFrames/vuMM8/src/dataframe/dataframe.jl:647\n",
      "  [3] top-level scope\n",
      "    @ ~/TITAN-ROG-sync/julia/ISI/ISI-CNATDCU.ipynb:1\n",
      "  [4] eval\n",
      "    @ ./boot.jl:360 [inlined]\n",
      "  [5] include_string(mapexpr::typeof(REPL.softscope), mod::Module, code::String, filename::String)\n",
      "    @ Base ./loading.jl:1116\n",
      "  [6] #invokelatest#2\n",
      "    @ ./essentials.jl:708 [inlined]\n",
      "  [7] invokelatest\n",
      "    @ ./essentials.jl:706 [inlined]\n",
      "  [8] (::VSCodeServer.var\"#146#147\"{VSCodeServer.NotebookRunCellArguments, String})()\n",
      "    @ VSCodeServer ~/.vscode-server/extensions/julialang.language-julia-insider-1.5.7/scripts/packages/VSCodeServer/src/serve_notebook.jl:18\n",
      "  [9] withpath(f::VSCodeServer.var\"#146#147\"{VSCodeServer.NotebookRunCellArguments, String}, path::String)\n",
      "    @ VSCodeServer ~/.vscode-server/extensions/julialang.language-julia-insider-1.5.7/scripts/packages/VSCodeServer/src/repl.jl:185\n",
      " [10] notebook_runcell_request(conn::VSCodeServer.JSONRPC.JSONRPCEndpoint{Base.PipeEndpoint, Base.PipeEndpoint}, params::VSCodeServer.NotebookRunCellArguments)\n",
      "    @ VSCodeServer ~/.vscode-server/extensions/julialang.language-julia-insider-1.5.7/scripts/packages/VSCodeServer/src/serve_notebook.jl:14\n",
      " [11] dispatch_msg(x::VSCodeServer.JSONRPC.JSONRPCEndpoint{Base.PipeEndpoint, Base.PipeEndpoint}, dispatcher::VSCodeServer.JSONRPC.MsgDispatcher, msg::Dict{String, Any})\n",
      "    @ VSCodeServer.JSONRPC ~/.vscode-server/extensions/julialang.language-julia-insider-1.5.7/scripts/packages/JSONRPC/src/typed.jl:67\n",
      " [12] serve_notebook(pipename::String; crashreporting_pipename::String)\n",
      "    @ VSCodeServer ~/.vscode-server/extensions/julialang.language-julia-insider-1.5.7/scripts/packages/VSCodeServer/src/serve_notebook.jl:94\n",
      " [13] top-level scope\n",
      "    @ ~/.vscode-server/extensions/julialang.language-julia-insider-1.5.7/scripts/notebook/notebook.jl:12\n",
      " [14] include(mod::Module, _path::String)\n",
      "    @ Base ./Base.jl:386\n",
      " [15] exec_options(opts::Base.JLOptions)\n",
      "    @ Base ./client.jl:285\n",
      " [16] _start()\n",
      "    @ Base ./client.jl:485"
     ]
    }
   ],
   "source": [
    "MINE[1, :PY] = 2021   # ADV MAT no year!!!!\n",
    "eltype.(eachcol(MINE));"
   ]
  },
  {
   "cell_type": "code",
   "execution_count": 11,
   "metadata": {},
   "outputs": [],
   "source": [
    "#root = dirname(\"/mnt/d/Stoleriu/\")\n",
    "#outputMINE = joinpath(root, \"MINE_test.csv\")\n",
    "#CSV.write(outputMINE, MINE)"
   ]
  },
  {
   "cell_type": "markdown",
   "metadata": {},
   "source": [
    "Pregatim MINE cu noi coloane"
   ]
  },
  {
   "cell_type": "code",
   "execution_count": 12,
   "metadata": {},
   "outputs": [
    {
     "ename": "ArgumentError",
     "evalue": "ArgumentError: Tried renaming :J9 to :Journal, when :J9 does not exist in the Index.",
     "output_type": "error",
     "traceback": [
      "ArgumentError: Tried renaming :J9 to :Journal, when :J9 does not exist in the Index.\n",
      "\n",
      "Stacktrace:\n",
      "  [1] rename!(x::DataFrames.Index, nms::Vector{Pair{Symbol, Symbol}})\n",
      "    @ DataFrames ~/.julia/packages/DataFrames/vuMM8/src/other/index.jl:87\n",
      "  [2] rename!\n",
      "    @ ~/.julia/packages/DataFrames/vuMM8/src/abstractdataframe/abstractdataframe.jl:200 [inlined]\n",
      "  [3] rename!(df::DataFrame, args::Pair{String, String})\n",
      "    @ DataFrames ~/.julia/packages/DataFrames/vuMM8/src/abstractdataframe/abstractdataframe.jl:213\n",
      "  [4] top-level scope\n",
      "    @ ~/TITAN-ROG-sync/julia/ISI/ISI-CNATDCU.ipynb:1\n",
      "  [5] eval\n",
      "    @ ./boot.jl:360 [inlined]\n",
      "  [6] include_string(mapexpr::typeof(REPL.softscope), mod::Module, code::String, filename::String)\n",
      "    @ Base ./loading.jl:1116\n",
      "  [7] #invokelatest#2\n",
      "    @ ./essentials.jl:708 [inlined]\n",
      "  [8] invokelatest\n",
      "    @ ./essentials.jl:706 [inlined]\n",
      "  [9] (::VSCodeServer.var\"#146#147\"{VSCodeServer.NotebookRunCellArguments, String})()\n",
      "    @ VSCodeServer ~/.vscode-server/extensions/julialang.language-julia-insider-1.5.7/scripts/packages/VSCodeServer/src/serve_notebook.jl:18\n",
      " [10] withpath(f::VSCodeServer.var\"#146#147\"{VSCodeServer.NotebookRunCellArguments, String}, path::String)\n",
      "    @ VSCodeServer ~/.vscode-server/extensions/julialang.language-julia-insider-1.5.7/scripts/packages/VSCodeServer/src/repl.jl:185\n",
      " [11] notebook_runcell_request(conn::VSCodeServer.JSONRPC.JSONRPCEndpoint{Base.PipeEndpoint, Base.PipeEndpoint}, params::VSCodeServer.NotebookRunCellArguments)\n",
      "    @ VSCodeServer ~/.vscode-server/extensions/julialang.language-julia-insider-1.5.7/scripts/packages/VSCodeServer/src/serve_notebook.jl:14\n",
      " [12] dispatch_msg(x::VSCodeServer.JSONRPC.JSONRPCEndpoint{Base.PipeEndpoint, Base.PipeEndpoint}, dispatcher::VSCodeServer.JSONRPC.MsgDispatcher, msg::Dict{String, Any})\n",
      "    @ VSCodeServer.JSONRPC ~/.vscode-server/extensions/julialang.language-julia-insider-1.5.7/scripts/packages/JSONRPC/src/typed.jl:67\n",
      " [13] serve_notebook(pipename::String; crashreporting_pipename::String)\n",
      "    @ VSCodeServer ~/.vscode-server/extensions/julialang.language-julia-insider-1.5.7/scripts/packages/VSCodeServer/src/serve_notebook.jl:94\n",
      " [14] top-level scope\n",
      "    @ ~/.vscode-server/extensions/julialang.language-julia-insider-1.5.7/scripts/notebook/notebook.jl:12\n",
      " [15] include(mod::Module, _path::String)\n",
      "    @ Base ./Base.jl:386\n",
      " [16] exec_options(opts::Base.JLOptions)\n",
      "    @ Base ./client.jl:285\n",
      " [17] _start()\n",
      "    @ Base ./client.jl:485"
     ]
    }
   ],
   "source": [
    "rename!(MINE,:\"J9\" => :\"Journal\")\n",
    "insertcols!(MINE, :NA => 0);\n",
    "insertcols!(MINE, :NEFF => 0.0);\n",
    "insertcols!(MINE, :PRIM => 0);\n",
    "insertcols!(MINE, :AI => 0.0);\n",
    "insertcols!(MINE, :AINEFF => 0.0);\n",
    "insertcols!(MINE, :IF => 0.0);\n",
    "insertcols!(MINE, :IFNA => 0.0);\n",
    "insertcols!(MINE, :TIMESC => 0);\n",
    "insertcols!(MINE, :CT => 0.0);\n",
    "### 5 ani\n",
    "insertcols!(MINE, :PRIM5 => 0);\n",
    "insertcols!(MINE, :AINEFF5 => 0.0);\n",
    "insertcols!(MINE, :IFNA5 => 0.0);\n",
    "insertcols!(MINE, :TIMESC5 => 0);\n",
    "insertcols!(MINE, :CT5 => 0.0);\n",
    "### UAIC\n",
    "insertcols!(MINE, :UAIC1 => 0.0);\n",
    "insertcols!(MINE, :UAIC9 => 0.0);"
   ]
  },
  {
   "cell_type": "markdown",
   "metadata": {},
   "source": [
    "Gasim numarul de autori si prim autor"
   ]
  },
  {
   "cell_type": "code",
   "execution_count": 13,
   "metadata": {},
   "outputs": [
    {
     "ename": "ArgumentError",
     "evalue": "ArgumentError: column name :AU not found in the data frame; existing most similar names are: :$AU$",
     "output_type": "error",
     "traceback": [
      "ArgumentError: column name :AU not found in the data frame; existing most similar names are: :$AU$\n",
      "\n",
      "Stacktrace:\n",
      "  [1] lookupname\n",
      "    @ ~/.julia/packages/DataFrames/vuMM8/src/other/index.jl:291 [inlined]\n",
      "  [2] getindex\n",
      "    @ ~/.julia/packages/DataFrames/vuMM8/src/other/index.jl:297 [inlined]\n",
      "  [3] parentcols\n",
      "    @ ~/.julia/packages/DataFrames/vuMM8/src/other/index.jl:344 [inlined]\n",
      "  [4] getindex(r::DataFrameRow{DataFrame, DataFrames.Index}, idx::Symbol)\n",
      "    @ DataFrames ~/.julia/packages/DataFrames/vuMM8/src/dataframerow/dataframerow.jl:212\n",
      "  [5] top-level scope\n",
      "    @ ~/TITAN-ROG-sync/julia/ISI/ISI-CNATDCU.ipynb:2\n",
      "  [6] eval\n",
      "    @ ./boot.jl:360 [inlined]\n",
      "  [7] include_string(mapexpr::typeof(REPL.softscope), mod::Module, code::String, filename::String)\n",
      "    @ Base ./loading.jl:1116\n",
      "  [8] #invokelatest#2\n",
      "    @ ./essentials.jl:708 [inlined]\n",
      "  [9] invokelatest\n",
      "    @ ./essentials.jl:706 [inlined]\n",
      " [10] (::VSCodeServer.var\"#146#147\"{VSCodeServer.NotebookRunCellArguments, String})()\n",
      "    @ VSCodeServer ~/.vscode-server/extensions/julialang.language-julia-insider-1.5.7/scripts/packages/VSCodeServer/src/serve_notebook.jl:18\n",
      " [11] withpath(f::VSCodeServer.var\"#146#147\"{VSCodeServer.NotebookRunCellArguments, String}, path::String)\n",
      "    @ VSCodeServer ~/.vscode-server/extensions/julialang.language-julia-insider-1.5.7/scripts/packages/VSCodeServer/src/repl.jl:185\n",
      " [12] notebook_runcell_request(conn::VSCodeServer.JSONRPC.JSONRPCEndpoint{Base.PipeEndpoint, Base.PipeEndpoint}, params::VSCodeServer.NotebookRunCellArguments)\n",
      "    @ VSCodeServer ~/.vscode-server/extensions/julialang.language-julia-insider-1.5.7/scripts/packages/VSCodeServer/src/serve_notebook.jl:14\n",
      " [13] dispatch_msg(x::VSCodeServer.JSONRPC.JSONRPCEndpoint{Base.PipeEndpoint, Base.PipeEndpoint}, dispatcher::VSCodeServer.JSONRPC.MsgDispatcher, msg::Dict{String, Any})\n",
      "    @ VSCodeServer.JSONRPC ~/.vscode-server/extensions/julialang.language-julia-insider-1.5.7/scripts/packages/JSONRPC/src/typed.jl:67\n",
      " [14] serve_notebook(pipename::String; crashreporting_pipename::String)\n",
      "    @ VSCodeServer ~/.vscode-server/extensions/julialang.language-julia-insider-1.5.7/scripts/packages/VSCodeServer/src/serve_notebook.jl:94\n",
      " [15] top-level scope\n",
      "    @ ~/.vscode-server/extensions/julialang.language-julia-insider-1.5.7/scripts/notebook/notebook.jl:12\n",
      " [16] include(mod::Module, _path::String)\n",
      "    @ Base ./Base.jl:386\n",
      " [17] exec_options(opts::Base.JLOptions)\n",
      "    @ Base ./client.jl:285\n",
      " [18] _start()\n",
      "    @ Base ./client.jl:485"
     ]
    }
   ],
   "source": [
    "for (row_index, lucrare) in enumerate(eachrow(MINE))\n",
    "    MINE[row_index, :NA] = (1+count(\";\", lucrare[:AU]))\n",
    "\n",
    "    if MINE[row_index, :NA] <= 5\n",
    "        MINE[row_index, :NEFF] = MINE[row_index, :NA]\n",
    "    elseif MINE[row_index, :NA] <= 15\n",
    "        MINE[row_index, :NEFF] = (MINE[row_index, :NA] + 5.0) / 2.0\n",
    "    elseif MINE[row_index, :NA] <= 75\n",
    "        MINE[row_index, :NEFF] = (MINE[row_index, :NA] + 15.0) / 3.0\n",
    "    else\n",
    "        MINE[row_index, :NEFF] = (MINE[row_index, :NA] + 45.0) / 4.0\n",
    "    end\n",
    "\n",
    "    if findfirst(primAuthor, MINE[row_index, :AU])[1] == 1\n",
    "        MINE[row_index, :PRIM] = 1\n",
    "        if (MINE[row_index, :PY] <= ANfin) && (MINE[row_index, :PY] >= ANini)\n",
    "            MINE[row_index, :PRIM5] = 1\n",
    "        end\n",
    "    elseif occursin(primAuthor, lucrare[:RP])\n",
    "        MINE[row_index, :PRIM] = 1\n",
    "        if (MINE[row_index, :PY] <= ANfin) && (MINE[row_index, :PY] >= ANini)\n",
    "            MINE[row_index, :PRIM5] = 1\n",
    "        end\n",
    "    end\n",
    "    #println(row_index, MINE[row_index, [:NA]])\n",
    "    #println(row_index, MINE[row_index, [:PRIM]])\n",
    "end"
   ]
  },
  {
   "cell_type": "code",
   "execution_count": 14,
   "metadata": {},
   "outputs": [
    {
     "ename": "ArgumentError",
     "evalue": "ArgumentError: column name :PY not found in the data frame; existing most similar names are: :$PY$",
     "output_type": "error",
     "traceback": [
      "ArgumentError: column name :PY not found in the data frame; existing most similar names are: :$PY$\n",
      "\n",
      "Stacktrace:\n",
      "  [1] lookupname\n",
      "    @ ~/.julia/packages/DataFrames/vuMM8/src/other/index.jl:291 [inlined]\n",
      "  [2] getindex\n",
      "    @ ~/.julia/packages/DataFrames/vuMM8/src/other/index.jl:297 [inlined]\n",
      "  [3] getindex(df::DataFrame, #unused#::typeof(!), col_ind::Symbol)\n",
      "    @ DataFrames ~/.julia/packages/DataFrames/vuMM8/src/dataframe/dataframe.jl:513\n",
      "  [4] getproperty(df::DataFrame, col_ind::Symbol)\n",
      "    @ DataFrames ~/.julia/packages/DataFrames/vuMM8/src/abstractdataframe/abstractdataframe.jl:356\n",
      "  [5] top-level scope\n",
      "    @ ~/TITAN-ROG-sync/julia/ISI/ISI-CNATDCU.ipynb:2\n",
      "  [6] eval\n",
      "    @ ./boot.jl:360 [inlined]\n",
      "  [7] include_string(mapexpr::typeof(REPL.softscope), mod::Module, code::String, filename::String)\n",
      "    @ Base ./loading.jl:1116\n",
      "  [8] #invokelatest#2\n",
      "    @ ./essentials.jl:708 [inlined]\n",
      "  [9] invokelatest\n",
      "    @ ./essentials.jl:706 [inlined]\n",
      " [10] (::VSCodeServer.var\"#146#147\"{VSCodeServer.NotebookRunCellArguments, String})()\n",
      "    @ VSCodeServer ~/.vscode-server/extensions/julialang.language-julia-insider-1.5.7/scripts/packages/VSCodeServer/src/serve_notebook.jl:18\n",
      " [11] withpath(f::VSCodeServer.var\"#146#147\"{VSCodeServer.NotebookRunCellArguments, String}, path::String)\n",
      "    @ VSCodeServer ~/.vscode-server/extensions/julialang.language-julia-insider-1.5.7/scripts/packages/VSCodeServer/src/repl.jl:185\n",
      " [12] notebook_runcell_request(conn::VSCodeServer.JSONRPC.JSONRPCEndpoint{Base.PipeEndpoint, Base.PipeEndpoint}, params::VSCodeServer.NotebookRunCellArguments)\n",
      "    @ VSCodeServer ~/.vscode-server/extensions/julialang.language-julia-insider-1.5.7/scripts/packages/VSCodeServer/src/serve_notebook.jl:14\n",
      " [13] dispatch_msg(x::VSCodeServer.JSONRPC.JSONRPCEndpoint{Base.PipeEndpoint, Base.PipeEndpoint}, dispatcher::VSCodeServer.JSONRPC.MsgDispatcher, msg::Dict{String, Any})\n",
      "    @ VSCodeServer.JSONRPC ~/.vscode-server/extensions/julialang.language-julia-insider-1.5.7/scripts/packages/JSONRPC/src/typed.jl:67\n",
      " [14] serve_notebook(pipename::String; crashreporting_pipename::String)\n",
      "    @ VSCodeServer ~/.vscode-server/extensions/julialang.language-julia-insider-1.5.7/scripts/packages/VSCodeServer/src/serve_notebook.jl:94\n",
      " [15] top-level scope\n",
      "    @ ~/.vscode-server/extensions/julialang.language-julia-insider-1.5.7/scripts/notebook/notebook.jl:12\n",
      " [16] include(mod::Module, _path::String)\n",
      "    @ Base ./Base.jl:386\n",
      " [17] exec_options(opts::Base.JLOptions)\n",
      "    @ Base ./client.jl:285\n",
      " [18] _start()\n",
      "    @ Base ./client.jl:485"
     ]
    }
   ],
   "source": [
    "#MINE[:, [6, 7, 8, 12, 14, 15, 16, 17]]\n",
    "MINE.PY = Int64.(MINE.PY)\n",
    "MINE[ismissing.(MINE[!, :PY]), [1, 6, 7, 8, 12, 14, 15, 16, 17]]"
   ]
  },
  {
   "cell_type": "code",
   "execution_count": 15,
   "metadata": {},
   "outputs": [],
   "source": [
    "#root = dirname(\"/mnt/d/Stoleriu/\")\n",
    "#outputMINE = joinpath(root, \"MINE_test.csv\")\n",
    "#CSV.write(outputMINE, MINE)"
   ]
  },
  {
   "cell_type": "code",
   "execution_count": 16,
   "metadata": {},
   "outputs": [
    {
     "ename": "UndefVarError",
     "evalue": "UndefVarError: AIS not defined",
     "output_type": "error",
     "traceback": [
      "UndefVarError: AIS not defined\n",
      "\n",
      "Stacktrace:\n",
      "  [1] top-level scope\n",
      "    @ ~/TITAN-ROG-sync/julia/ISI/ISI-CNATDCU.ipynb:1\n",
      "  [2] eval\n",
      "    @ ./boot.jl:360 [inlined]\n",
      "  [3] include_string(mapexpr::typeof(REPL.softscope), mod::Module, code::String, filename::String)\n",
      "    @ Base ./loading.jl:1116\n",
      "  [4] #invokelatest#2\n",
      "    @ ./essentials.jl:708 [inlined]\n",
      "  [5] invokelatest\n",
      "    @ ./essentials.jl:706 [inlined]\n",
      "  [6] (::VSCodeServer.var\"#146#147\"{VSCodeServer.NotebookRunCellArguments, String})()\n",
      "    @ VSCodeServer ~/.vscode-server/extensions/julialang.language-julia-insider-1.5.7/scripts/packages/VSCodeServer/src/serve_notebook.jl:18\n",
      "  [7] withpath(f::VSCodeServer.var\"#146#147\"{VSCodeServer.NotebookRunCellArguments, String}, path::String)\n",
      "    @ VSCodeServer ~/.vscode-server/extensions/julialang.language-julia-insider-1.5.7/scripts/packages/VSCodeServer/src/repl.jl:185\n",
      "  [8] notebook_runcell_request(conn::VSCodeServer.JSONRPC.JSONRPCEndpoint{Base.PipeEndpoint, Base.PipeEndpoint}, params::VSCodeServer.NotebookRunCellArguments)\n",
      "    @ VSCodeServer ~/.vscode-server/extensions/julialang.language-julia-insider-1.5.7/scripts/packages/VSCodeServer/src/serve_notebook.jl:14\n",
      "  [9] dispatch_msg(x::VSCodeServer.JSONRPC.JSONRPCEndpoint{Base.PipeEndpoint, Base.PipeEndpoint}, dispatcher::VSCodeServer.JSONRPC.MsgDispatcher, msg::Dict{String, Any})\n",
      "    @ VSCodeServer.JSONRPC ~/.vscode-server/extensions/julialang.language-julia-insider-1.5.7/scripts/packages/JSONRPC/src/typed.jl:67\n",
      " [10] serve_notebook(pipename::String; crashreporting_pipename::String)\n",
      "    @ VSCodeServer ~/.vscode-server/extensions/julialang.language-julia-insider-1.5.7/scripts/packages/VSCodeServer/src/serve_notebook.jl:94\n",
      " [11] top-level scope\n",
      "    @ ~/.vscode-server/extensions/julialang.language-julia-insider-1.5.7/scripts/notebook/notebook.jl:12\n",
      " [12] include(mod::Module, _path::String)\n",
      "    @ Base ./Base.jl:386\n",
      " [13] exec_options(opts::Base.JLOptions)\n",
      "    @ Base ./client.jl:285\n",
      " [14] _start()\n",
      "    @ Base ./client.jl:485"
     ]
    }
   ],
   "source": [
    "AISsubsect = filter(r -> any(occursin.(Vector(MINE[1, [:Journal]]), r.Journal)), AIS)\n",
    "#subsect2 = filter(r -> ([\"ADV MATER\"][1] .== r.Journal[1]), AIS)\n",
    "size(AISsubsect, 1)\n",
    "#[\"ADV MATER\"][1] .== subsect[1, [:Journal]][1]"
   ]
  },
  {
   "cell_type": "code",
   "execution_count": 17,
   "metadata": {},
   "outputs": [
    {
     "ename": "ArgumentError",
     "evalue": "ArgumentError: column name :Journal not found in the data frame",
     "output_type": "error",
     "traceback": [
      "ArgumentError: column name :Journal not found in the data frame\n",
      "\n",
      "Stacktrace:\n",
      "  [1] lookupname\n",
      "    @ ~/.julia/packages/DataFrames/vuMM8/src/other/index.jl:288 [inlined]\n",
      "  [2] getindex\n",
      "    @ ~/.julia/packages/DataFrames/vuMM8/src/other/index.jl:297 [inlined]\n",
      "  [3] parentcols\n",
      "    @ ~/.julia/packages/DataFrames/vuMM8/src/other/index.jl:344 [inlined]\n",
      "  [4] getindex(r::DataFrameRow{DataFrame, DataFrames.Index}, idx::Symbol)\n",
      "    @ DataFrames ~/.julia/packages/DataFrames/vuMM8/src/dataframerow/dataframerow.jl:212\n",
      "  [5] top-level scope\n",
      "    @ ~/TITAN-ROG-sync/julia/ISI/ISI-CNATDCU.ipynb:3\n",
      "  [6] eval\n",
      "    @ ./boot.jl:360 [inlined]\n",
      "  [7] include_string(mapexpr::typeof(REPL.softscope), mod::Module, code::String, filename::String)\n",
      "    @ Base ./loading.jl:1116\n",
      "  [8] #invokelatest#2\n",
      "    @ ./essentials.jl:708 [inlined]\n",
      "  [9] invokelatest\n",
      "    @ ./essentials.jl:706 [inlined]\n",
      " [10] (::VSCodeServer.var\"#146#147\"{VSCodeServer.NotebookRunCellArguments, String})()\n",
      "    @ VSCodeServer ~/.vscode-server/extensions/julialang.language-julia-insider-1.5.7/scripts/packages/VSCodeServer/src/serve_notebook.jl:18\n",
      " [11] withpath(f::VSCodeServer.var\"#146#147\"{VSCodeServer.NotebookRunCellArguments, String}, path::String)\n",
      "    @ VSCodeServer ~/.vscode-server/extensions/julialang.language-julia-insider-1.5.7/scripts/packages/VSCodeServer/src/repl.jl:185\n",
      " [12] notebook_runcell_request(conn::VSCodeServer.JSONRPC.JSONRPCEndpoint{Base.PipeEndpoint, Base.PipeEndpoint}, params::VSCodeServer.NotebookRunCellArguments)\n",
      "    @ VSCodeServer ~/.vscode-server/extensions/julialang.language-julia-insider-1.5.7/scripts/packages/VSCodeServer/src/serve_notebook.jl:14\n",
      " [13] dispatch_msg(x::VSCodeServer.JSONRPC.JSONRPCEndpoint{Base.PipeEndpoint, Base.PipeEndpoint}, dispatcher::VSCodeServer.JSONRPC.MsgDispatcher, msg::Dict{String, Any})\n",
      "    @ VSCodeServer.JSONRPC ~/.vscode-server/extensions/julialang.language-julia-insider-1.5.7/scripts/packages/JSONRPC/src/typed.jl:67\n",
      " [14] serve_notebook(pipename::String; crashreporting_pipename::String)\n",
      "    @ VSCodeServer ~/.vscode-server/extensions/julialang.language-julia-insider-1.5.7/scripts/packages/VSCodeServer/src/serve_notebook.jl:94\n",
      " [15] top-level scope\n",
      "    @ ~/.vscode-server/extensions/julialang.language-julia-insider-1.5.7/scripts/notebook/notebook.jl:12\n",
      " [16] include(mod::Module, _path::String)\n",
      "    @ Base ./Base.jl:386\n",
      " [17] exec_options(opts::Base.JLOptions)\n",
      "    @ Base ./client.jl:285\n",
      " [18] _start()\n",
      "    @ Base ./client.jl:485"
     ]
    }
   ],
   "source": [
    "for (row_index, lucrare) in enumerate(eachrow(MINE))\n",
    "    #lucrare = MINE[1, :]\n",
    "    if(ismissing(lucrare[:Journal]))\n",
    "        continue\n",
    "    end\n",
    "    for AISrow in eachrow(AIS)\n",
    "        if( lucrare[:Journal] == AISrow[:Journal] )\n",
    "            anString = string(lucrare[:PY])\n",
    "            #println(AISrow[anString])\n",
    "            MINE[row_index, :AI] = AISrow[anString]\n",
    "            MINE[row_index, :AINEFF] = MINE[row_index, :AI] / MINE[row_index, :NEFF]\n",
    "            if (MINE[row_index, :PY] <= ANfin) && (MINE[row_index, :PY] >= ANini)\n",
    "                MINE[row_index, :AINEFF5] = MINE[row_index, :AINEFF]\n",
    "            end\n",
    "            \n",
    "        end\n",
    "    end\n",
    "    for ISIrow in eachrow(ISI)\n",
    "        if( lucrare[:Journal] == ISIrow[:Journal] )\n",
    "            anString = string(lucrare[:PY])\n",
    "            #println(ISIrow[anString])\n",
    "            MINE[row_index, :IF] = ISIrow[anString]\n",
    "            MINE[row_index, :IFNA] = ISIrow[anString] / MINE[row_index, :NA]\n",
    "            if (MINE[row_index, :PY] <= ANfin) && (MINE[row_index, :PY] >= ANini)\n",
    "                MINE[row_index, :IFNA5] = MINE[row_index, :IFNA]\n",
    "                MINE[row_index, :UAIC1] = (25 + 60*MINE[row_index, :IF]) / MINE[row_index, :NA]\n",
    "            end\n",
    "        end\n",
    "    end\n",
    "end"
   ]
  },
  {
   "cell_type": "code",
   "execution_count": 18,
   "metadata": {},
   "outputs": [],
   "source": [
    "#root = dirname(\"/mnt/d/Stoleriu/\")\n",
    "#outputMINE = joinpath(root, \"MINE_test.csv\")\n",
    "#CSV.write(outputMINE, MINE)"
   ]
  },
  {
   "cell_type": "code",
   "execution_count": 19,
   "metadata": {},
   "outputs": [
    {
     "ename": "ArgumentError",
     "evalue": "ArgumentError: column name :AINEFF not found in the data frame",
     "output_type": "error",
     "traceback": [
      "ArgumentError: column name :AINEFF not found in the data frame\n",
      "\n",
      "Stacktrace:\n",
      "  [1] lookupname\n",
      "    @ ~/.julia/packages/DataFrames/vuMM8/src/other/index.jl:288 [inlined]\n",
      "  [2] getindex\n",
      "    @ ~/.julia/packages/DataFrames/vuMM8/src/other/index.jl:297 [inlined]\n",
      "  [3] getindex(df::DataFrame, #unused#::typeof(!), col_ind::Symbol)\n",
      "    @ DataFrames ~/.julia/packages/DataFrames/vuMM8/src/dataframe/dataframe.jl:513\n",
      "  [4] top-level scope\n",
      "    @ ~/TITAN-ROG-sync/julia/ISI/ISI-CNATDCU.ipynb:1\n",
      "  [5] eval\n",
      "    @ ./boot.jl:360 [inlined]\n",
      "  [6] include_string(mapexpr::typeof(REPL.softscope), mod::Module, code::String, filename::String)\n",
      "    @ Base ./loading.jl:1116\n",
      "  [7] #invokelatest#2\n",
      "    @ ./essentials.jl:708 [inlined]\n",
      "  [8] invokelatest\n",
      "    @ ./essentials.jl:706 [inlined]\n",
      "  [9] (::VSCodeServer.var\"#146#147\"{VSCodeServer.NotebookRunCellArguments, String})()\n",
      "    @ VSCodeServer ~/.vscode-server/extensions/julialang.language-julia-insider-1.5.7/scripts/packages/VSCodeServer/src/serve_notebook.jl:18\n",
      " [10] withpath(f::VSCodeServer.var\"#146#147\"{VSCodeServer.NotebookRunCellArguments, String}, path::String)\n",
      "    @ VSCodeServer ~/.vscode-server/extensions/julialang.language-julia-insider-1.5.7/scripts/packages/VSCodeServer/src/repl.jl:185\n",
      " [11] notebook_runcell_request(conn::VSCodeServer.JSONRPC.JSONRPCEndpoint{Base.PipeEndpoint, Base.PipeEndpoint}, params::VSCodeServer.NotebookRunCellArguments)\n",
      "    @ VSCodeServer ~/.vscode-server/extensions/julialang.language-julia-insider-1.5.7/scripts/packages/VSCodeServer/src/serve_notebook.jl:14\n",
      " [12] dispatch_msg(x::VSCodeServer.JSONRPC.JSONRPCEndpoint{Base.PipeEndpoint, Base.PipeEndpoint}, dispatcher::VSCodeServer.JSONRPC.MsgDispatcher, msg::Dict{String, Any})\n",
      "    @ VSCodeServer.JSONRPC ~/.vscode-server/extensions/julialang.language-julia-insider-1.5.7/scripts/packages/JSONRPC/src/typed.jl:67\n",
      " [13] serve_notebook(pipename::String; crashreporting_pipename::String)\n",
      "    @ VSCodeServer ~/.vscode-server/extensions/julialang.language-julia-insider-1.5.7/scripts/packages/VSCodeServer/src/serve_notebook.jl:94\n",
      " [14] top-level scope\n",
      "    @ ~/.vscode-server/extensions/julialang.language-julia-insider-1.5.7/scripts/notebook/notebook.jl:12\n",
      " [15] include(mod::Module, _path::String)\n",
      "    @ Base ./Base.jl:386\n",
      " [16] exec_options(opts::Base.JLOptions)\n",
      "    @ Base ./client.jl:285\n",
      " [17] _start()\n",
      "    @ Base ./client.jl:485"
     ]
    }
   ],
   "source": [
    "I = sum(MINE[!, :AINEFF])"
   ]
  },
  {
   "cell_type": "code",
   "execution_count": 20,
   "metadata": {},
   "outputs": [
    {
     "ename": "ArgumentError",
     "evalue": "ArgumentError: column name :PRIM not found in the data frame",
     "output_type": "error",
     "traceback": [
      "ArgumentError: column name :PRIM not found in the data frame\n",
      "\n",
      "Stacktrace:\n",
      "  [1] lookupname\n",
      "    @ ~/.julia/packages/DataFrames/vuMM8/src/other/index.jl:288 [inlined]\n",
      "  [2] getindex\n",
      "    @ ~/.julia/packages/DataFrames/vuMM8/src/other/index.jl:297 [inlined]\n",
      "  [3] getindex(df::DataFrame, #unused#::typeof(!), col_ind::Symbol)\n",
      "    @ DataFrames ~/.julia/packages/DataFrames/vuMM8/src/dataframe/dataframe.jl:513\n",
      "  [4] top-level scope\n",
      "    @ ~/TITAN-ROG-sync/julia/ISI/ISI-CNATDCU.ipynb:1\n",
      "  [5] eval\n",
      "    @ ./boot.jl:360 [inlined]\n",
      "  [6] include_string(mapexpr::typeof(REPL.softscope), mod::Module, code::String, filename::String)\n",
      "    @ Base ./loading.jl:1116\n",
      "  [7] #invokelatest#2\n",
      "    @ ./essentials.jl:708 [inlined]\n",
      "  [8] invokelatest\n",
      "    @ ./essentials.jl:706 [inlined]\n",
      "  [9] (::VSCodeServer.var\"#146#147\"{VSCodeServer.NotebookRunCellArguments, String})()\n",
      "    @ VSCodeServer ~/.vscode-server/extensions/julialang.language-julia-insider-1.5.7/scripts/packages/VSCodeServer/src/serve_notebook.jl:18\n",
      " [10] withpath(f::VSCodeServer.var\"#146#147\"{VSCodeServer.NotebookRunCellArguments, String}, path::String)\n",
      "    @ VSCodeServer ~/.vscode-server/extensions/julialang.language-julia-insider-1.5.7/scripts/packages/VSCodeServer/src/repl.jl:185\n",
      " [11] notebook_runcell_request(conn::VSCodeServer.JSONRPC.JSONRPCEndpoint{Base.PipeEndpoint, Base.PipeEndpoint}, params::VSCodeServer.NotebookRunCellArguments)\n",
      "    @ VSCodeServer ~/.vscode-server/extensions/julialang.language-julia-insider-1.5.7/scripts/packages/VSCodeServer/src/serve_notebook.jl:14\n",
      " [12] dispatch_msg(x::VSCodeServer.JSONRPC.JSONRPCEndpoint{Base.PipeEndpoint, Base.PipeEndpoint}, dispatcher::VSCodeServer.JSONRPC.MsgDispatcher, msg::Dict{String, Any})\n",
      "    @ VSCodeServer.JSONRPC ~/.vscode-server/extensions/julialang.language-julia-insider-1.5.7/scripts/packages/JSONRPC/src/typed.jl:67\n",
      " [13] serve_notebook(pipename::String; crashreporting_pipename::String)\n",
      "    @ VSCodeServer ~/.vscode-server/extensions/julialang.language-julia-insider-1.5.7/scripts/packages/VSCodeServer/src/serve_notebook.jl:94\n",
      " [14] top-level scope\n",
      "    @ ~/.vscode-server/extensions/julialang.language-julia-insider-1.5.7/scripts/notebook/notebook.jl:12\n",
      " [15] include(mod::Module, _path::String)\n",
      "    @ Base ./Base.jl:386\n",
      " [16] exec_options(opts::Base.JLOptions)\n",
      "    @ Base ./client.jl:285\n",
      " [17] _start()\n",
      "    @ Base ./client.jl:485"
     ]
    }
   ],
   "source": [
    "P = sum(MINE[!, :PRIM] .* MINE[!, :AI])"
   ]
  },
  {
   "cell_type": "code",
   "execution_count": 21,
   "metadata": {},
   "outputs": [
    {
     "ename": "ArgumentError",
     "evalue": "ArgumentError: column name :AINEFF5 not found in the data frame",
     "output_type": "error",
     "traceback": [
      "ArgumentError: column name :AINEFF5 not found in the data frame\n",
      "\n",
      "Stacktrace:\n",
      "  [1] lookupname\n",
      "    @ ~/.julia/packages/DataFrames/vuMM8/src/other/index.jl:288 [inlined]\n",
      "  [2] getindex\n",
      "    @ ~/.julia/packages/DataFrames/vuMM8/src/other/index.jl:297 [inlined]\n",
      "  [3] getindex(df::DataFrame, #unused#::typeof(!), col_ind::Symbol)\n",
      "    @ DataFrames ~/.julia/packages/DataFrames/vuMM8/src/dataframe/dataframe.jl:513\n",
      "  [4] top-level scope\n",
      "    @ ~/TITAN-ROG-sync/julia/ISI/ISI-CNATDCU.ipynb:1\n",
      "  [5] eval\n",
      "    @ ./boot.jl:360 [inlined]\n",
      "  [6] include_string(mapexpr::typeof(REPL.softscope), mod::Module, code::String, filename::String)\n",
      "    @ Base ./loading.jl:1116\n",
      "  [7] #invokelatest#2\n",
      "    @ ./essentials.jl:708 [inlined]\n",
      "  [8] invokelatest\n",
      "    @ ./essentials.jl:706 [inlined]\n",
      "  [9] (::VSCodeServer.var\"#146#147\"{VSCodeServer.NotebookRunCellArguments, String})()\n",
      "    @ VSCodeServer ~/.vscode-server/extensions/julialang.language-julia-insider-1.5.7/scripts/packages/VSCodeServer/src/serve_notebook.jl:18\n",
      " [10] withpath(f::VSCodeServer.var\"#146#147\"{VSCodeServer.NotebookRunCellArguments, String}, path::String)\n",
      "    @ VSCodeServer ~/.vscode-server/extensions/julialang.language-julia-insider-1.5.7/scripts/packages/VSCodeServer/src/repl.jl:185\n",
      " [11] notebook_runcell_request(conn::VSCodeServer.JSONRPC.JSONRPCEndpoint{Base.PipeEndpoint, Base.PipeEndpoint}, params::VSCodeServer.NotebookRunCellArguments)\n",
      "    @ VSCodeServer ~/.vscode-server/extensions/julialang.language-julia-insider-1.5.7/scripts/packages/VSCodeServer/src/serve_notebook.jl:14\n",
      " [12] dispatch_msg(x::VSCodeServer.JSONRPC.JSONRPCEndpoint{Base.PipeEndpoint, Base.PipeEndpoint}, dispatcher::VSCodeServer.JSONRPC.MsgDispatcher, msg::Dict{String, Any})\n",
      "    @ VSCodeServer.JSONRPC ~/.vscode-server/extensions/julialang.language-julia-insider-1.5.7/scripts/packages/JSONRPC/src/typed.jl:67\n",
      " [13] serve_notebook(pipename::String; crashreporting_pipename::String)\n",
      "    @ VSCodeServer ~/.vscode-server/extensions/julialang.language-julia-insider-1.5.7/scripts/packages/VSCodeServer/src/serve_notebook.jl:94\n",
      " [14] top-level scope\n",
      "    @ ~/.vscode-server/extensions/julialang.language-julia-insider-1.5.7/scripts/notebook/notebook.jl:12\n",
      " [15] include(mod::Module, _path::String)\n",
      "    @ Base ./Base.jl:386\n",
      " [16] exec_options(opts::Base.JLOptions)\n",
      "    @ Base ./client.jl:285\n",
      " [17] _start()\n",
      "    @ Base ./client.jl:485"
     ]
    }
   ],
   "source": [
    "I5 = sum(MINE[!, :AINEFF5])"
   ]
  },
  {
   "cell_type": "code",
   "execution_count": 22,
   "metadata": {},
   "outputs": [
    {
     "ename": "ArgumentError",
     "evalue": "ArgumentError: column name :PRIM5 not found in the data frame",
     "output_type": "error",
     "traceback": [
      "ArgumentError: column name :PRIM5 not found in the data frame\n",
      "\n",
      "Stacktrace:\n",
      "  [1] lookupname\n",
      "    @ ~/.julia/packages/DataFrames/vuMM8/src/other/index.jl:288 [inlined]\n",
      "  [2] getindex\n",
      "    @ ~/.julia/packages/DataFrames/vuMM8/src/other/index.jl:297 [inlined]\n",
      "  [3] getindex(df::DataFrame, #unused#::typeof(!), col_ind::Symbol)\n",
      "    @ DataFrames ~/.julia/packages/DataFrames/vuMM8/src/dataframe/dataframe.jl:513\n",
      "  [4] top-level scope\n",
      "    @ ~/TITAN-ROG-sync/julia/ISI/ISI-CNATDCU.ipynb:1\n",
      "  [5] eval\n",
      "    @ ./boot.jl:360 [inlined]\n",
      "  [6] include_string(mapexpr::typeof(REPL.softscope), mod::Module, code::String, filename::String)\n",
      "    @ Base ./loading.jl:1116\n",
      "  [7] #invokelatest#2\n",
      "    @ ./essentials.jl:708 [inlined]\n",
      "  [8] invokelatest\n",
      "    @ ./essentials.jl:706 [inlined]\n",
      "  [9] (::VSCodeServer.var\"#146#147\"{VSCodeServer.NotebookRunCellArguments, String})()\n",
      "    @ VSCodeServer ~/.vscode-server/extensions/julialang.language-julia-insider-1.5.7/scripts/packages/VSCodeServer/src/serve_notebook.jl:18\n",
      " [10] withpath(f::VSCodeServer.var\"#146#147\"{VSCodeServer.NotebookRunCellArguments, String}, path::String)\n",
      "    @ VSCodeServer ~/.vscode-server/extensions/julialang.language-julia-insider-1.5.7/scripts/packages/VSCodeServer/src/repl.jl:185\n",
      " [11] notebook_runcell_request(conn::VSCodeServer.JSONRPC.JSONRPCEndpoint{Base.PipeEndpoint, Base.PipeEndpoint}, params::VSCodeServer.NotebookRunCellArguments)\n",
      "    @ VSCodeServer ~/.vscode-server/extensions/julialang.language-julia-insider-1.5.7/scripts/packages/VSCodeServer/src/serve_notebook.jl:14\n",
      " [12] dispatch_msg(x::VSCodeServer.JSONRPC.JSONRPCEndpoint{Base.PipeEndpoint, Base.PipeEndpoint}, dispatcher::VSCodeServer.JSONRPC.MsgDispatcher, msg::Dict{String, Any})\n",
      "    @ VSCodeServer.JSONRPC ~/.vscode-server/extensions/julialang.language-julia-insider-1.5.7/scripts/packages/JSONRPC/src/typed.jl:67\n",
      " [13] serve_notebook(pipename::String; crashreporting_pipename::String)\n",
      "    @ VSCodeServer ~/.vscode-server/extensions/julialang.language-julia-insider-1.5.7/scripts/packages/VSCodeServer/src/serve_notebook.jl:94\n",
      " [14] top-level scope\n",
      "    @ ~/.vscode-server/extensions/julialang.language-julia-insider-1.5.7/scripts/notebook/notebook.jl:12\n",
      " [15] include(mod::Module, _path::String)\n",
      "    @ Base ./Base.jl:386\n",
      " [16] exec_options(opts::Base.JLOptions)\n",
      "    @ Base ./client.jl:285\n",
      " [17] _start()\n",
      "    @ Base ./client.jl:485"
     ]
    }
   ],
   "source": [
    "P5 = sum(MINE[!, :PRIM5] .* MINE[!, :AI])"
   ]
  },
  {
   "cell_type": "code",
   "execution_count": 23,
   "metadata": {},
   "outputs": [
    {
     "ename": "ArgumentError",
     "evalue": "ArgumentError: column name :UAIC1 not found in the data frame",
     "output_type": "error",
     "traceback": [
      "ArgumentError: column name :UAIC1 not found in the data frame\n",
      "\n",
      "Stacktrace:\n",
      "  [1] lookupname\n",
      "    @ ~/.julia/packages/DataFrames/vuMM8/src/other/index.jl:288 [inlined]\n",
      "  [2] getindex\n",
      "    @ ~/.julia/packages/DataFrames/vuMM8/src/other/index.jl:297 [inlined]\n",
      "  [3] getindex(df::DataFrame, #unused#::typeof(!), col_ind::Symbol)\n",
      "    @ DataFrames ~/.julia/packages/DataFrames/vuMM8/src/dataframe/dataframe.jl:513\n",
      "  [4] top-level scope\n",
      "    @ ~/TITAN-ROG-sync/julia/ISI/ISI-CNATDCU.ipynb:1\n",
      "  [5] eval\n",
      "    @ ./boot.jl:360 [inlined]\n",
      "  [6] include_string(mapexpr::typeof(REPL.softscope), mod::Module, code::String, filename::String)\n",
      "    @ Base ./loading.jl:1116\n",
      "  [7] #invokelatest#2\n",
      "    @ ./essentials.jl:708 [inlined]\n",
      "  [8] invokelatest\n",
      "    @ ./essentials.jl:706 [inlined]\n",
      "  [9] (::VSCodeServer.var\"#146#147\"{VSCodeServer.NotebookRunCellArguments, String})()\n",
      "    @ VSCodeServer ~/.vscode-server/extensions/julialang.language-julia-insider-1.5.7/scripts/packages/VSCodeServer/src/serve_notebook.jl:18\n",
      " [10] withpath(f::VSCodeServer.var\"#146#147\"{VSCodeServer.NotebookRunCellArguments, String}, path::String)\n",
      "    @ VSCodeServer ~/.vscode-server/extensions/julialang.language-julia-insider-1.5.7/scripts/packages/VSCodeServer/src/repl.jl:185\n",
      " [11] notebook_runcell_request(conn::VSCodeServer.JSONRPC.JSONRPCEndpoint{Base.PipeEndpoint, Base.PipeEndpoint}, params::VSCodeServer.NotebookRunCellArguments)\n",
      "    @ VSCodeServer ~/.vscode-server/extensions/julialang.language-julia-insider-1.5.7/scripts/packages/VSCodeServer/src/serve_notebook.jl:14\n",
      " [12] dispatch_msg(x::VSCodeServer.JSONRPC.JSONRPCEndpoint{Base.PipeEndpoint, Base.PipeEndpoint}, dispatcher::VSCodeServer.JSONRPC.MsgDispatcher, msg::Dict{String, Any})\n",
      "    @ VSCodeServer.JSONRPC ~/.vscode-server/extensions/julialang.language-julia-insider-1.5.7/scripts/packages/JSONRPC/src/typed.jl:67\n",
      " [13] serve_notebook(pipename::String; crashreporting_pipename::String)\n",
      "    @ VSCodeServer ~/.vscode-server/extensions/julialang.language-julia-insider-1.5.7/scripts/packages/VSCodeServer/src/serve_notebook.jl:94\n",
      " [14] top-level scope\n",
      "    @ ~/.vscode-server/extensions/julialang.language-julia-insider-1.5.7/scripts/notebook/notebook.jl:12\n",
      " [15] include(mod::Module, _path::String)\n",
      "    @ Base ./Base.jl:386\n",
      " [16] exec_options(opts::Base.JLOptions)\n",
      "    @ Base ./client.jl:285\n",
      " [17] _start()\n",
      "    @ Base ./client.jl:485"
     ]
    }
   ],
   "source": [
    "UAIC_1_1 = sum(MINE[!, :UAIC1])"
   ]
  },
  {
   "cell_type": "markdown",
   "metadata": {},
   "source": [
    "############################\n",
    "Citations\n",
    "############################"
   ]
  },
  {
   "cell_type": "code",
   "execution_count": 24,
   "metadata": {},
   "outputs": [
    {
     "ename": "ArgumentError",
     "evalue": "ArgumentError: \"/mnt/e/Stoleriu/Doc/CV/auto/LS_savedrecs_848.txt\" is not a valid file or doesn't exist",
     "output_type": "error",
     "traceback": [
      "ArgumentError: \"/mnt/e/Stoleriu/Doc/CV/auto/LS_savedrecs_848.txt\" is not a valid file or doesn't exist\n",
      "\n",
      "Stacktrace:\n",
      "  [1] CSV.Context(source::CSV.Arg, header::CSV.Arg, normalizenames::CSV.Arg, datarow::CSV.Arg, skipto::CSV.Arg, footerskip::CSV.Arg, transpose::CSV.Arg, comment::CSV.Arg, ignoreemptyrows::CSV.Arg, ignoreemptylines::CSV.Arg, select::CSV.Arg, drop::CSV.Arg, limit::CSV.Arg, buffer_in_memory::CSV.Arg, threaded::CSV.Arg, ntasks::CSV.Arg, tasks::CSV.Arg, rows_to_check::CSV.Arg, lines_to_check::CSV.Arg, missingstrings::CSV.Arg, missingstring::CSV.Arg, delim::CSV.Arg, ignorerepeated::CSV.Arg, quoted::CSV.Arg, quotechar::CSV.Arg, openquotechar::CSV.Arg, closequotechar::CSV.Arg, escapechar::CSV.Arg, dateformat::CSV.Arg, dateformats::CSV.Arg, decimal::CSV.Arg, truestrings::CSV.Arg, falsestrings::CSV.Arg, type::CSV.Arg, types::CSV.Arg, typemap::CSV.Arg, pool::CSV.Arg, downcast::CSV.Arg, lazystrings::CSV.Arg, stringtype::CSV.Arg, strict::CSV.Arg, silencewarnings::CSV.Arg, maxwarnings::CSV.Arg, debug::CSV.Arg, parsingdebug::CSV.Arg, validate::CSV.Arg, streaming::CSV.Arg)\n",
      "    @ CSV ~/.julia/packages/CSV/nofYz/src/context.jl:256\n",
      "  [2] #File#25\n",
      "    @ ~/.julia/packages/CSV/nofYz/src/file.jl:220 [inlined]\n",
      "  [3] read(source::String, sink::Type; copycols::Bool, kwargs::Base.Iterators.Pairs{Symbol, Bool, Tuple{Symbol}, NamedTuple{(:header,), Tuple{Bool}}})\n",
      "    @ CSV ~/.julia/packages/CSV/nofYz/src/CSV.jl:91\n",
      "  [4] top-level scope\n",
      "    @ ~/TITAN-ROG-sync/julia/ISI/ISI-CNATDCU.ipynb:1\n",
      "  [5] eval\n",
      "    @ ./boot.jl:360 [inlined]\n",
      "  [6] include_string(mapexpr::typeof(REPL.softscope), mod::Module, code::String, filename::String)\n",
      "    @ Base ./loading.jl:1116\n",
      "  [7] #invokelatest#2\n",
      "    @ ./essentials.jl:708 [inlined]\n",
      "  [8] invokelatest\n",
      "    @ ./essentials.jl:706 [inlined]\n",
      "  [9] (::VSCodeServer.var\"#146#147\"{VSCodeServer.NotebookRunCellArguments, String})()\n",
      "    @ VSCodeServer ~/.vscode-server/extensions/julialang.language-julia-insider-1.5.7/scripts/packages/VSCodeServer/src/serve_notebook.jl:18\n",
      " [10] withpath(f::VSCodeServer.var\"#146#147\"{VSCodeServer.NotebookRunCellArguments, String}, path::String)\n",
      "    @ VSCodeServer ~/.vscode-server/extensions/julialang.language-julia-insider-1.5.7/scripts/packages/VSCodeServer/src/repl.jl:185\n",
      " [11] notebook_runcell_request(conn::VSCodeServer.JSONRPC.JSONRPCEndpoint{Base.PipeEndpoint, Base.PipeEndpoint}, params::VSCodeServer.NotebookRunCellArguments)\n",
      "    @ VSCodeServer ~/.vscode-server/extensions/julialang.language-julia-insider-1.5.7/scripts/packages/VSCodeServer/src/serve_notebook.jl:14\n",
      " [12] dispatch_msg(x::VSCodeServer.JSONRPC.JSONRPCEndpoint{Base.PipeEndpoint, Base.PipeEndpoint}, dispatcher::VSCodeServer.JSONRPC.MsgDispatcher, msg::Dict{String, Any})\n",
      "    @ VSCodeServer.JSONRPC ~/.vscode-server/extensions/julialang.language-julia-insider-1.5.7/scripts/packages/JSONRPC/src/typed.jl:67\n",
      " [13] serve_notebook(pipename::String; crashreporting_pipename::String)\n",
      "    @ VSCodeServer ~/.vscode-server/extensions/julialang.language-julia-insider-1.5.7/scripts/packages/VSCodeServer/src/serve_notebook.jl:94\n",
      " [14] top-level scope\n",
      "    @ ~/.vscode-server/extensions/julialang.language-julia-insider-1.5.7/scripts/notebook/notebook.jl:12\n",
      " [15] include(mod::Module, _path::String)\n",
      "    @ Base ./Base.jl:386\n",
      " [16] exec_options(opts::Base.JLOptions)\n",
      "    @ Base ./client.jl:285\n",
      " [17] _start()\n",
      "    @ Base ./client.jl:485"
     ]
    }
   ],
   "source": [
    "MINECITEraw = CSV.read(inputCIT, DataFrame; header=true);\n",
    "# autocitari\n",
    "#for (row_indexCIT, lucrareCIT) in enumerate(eachrow(MINECITEraw))\n",
    "#    if( occursin(primAuthor, lucrareCIT.AU) )\n",
    "#        println(lucrareCIT.AU)\n",
    "#    end\n",
    "#end\n",
    "eltype.(eachcol(MINECITEraw));"
   ]
  },
  {
   "cell_type": "code",
   "execution_count": 25,
   "metadata": {},
   "outputs": [
    {
     "ename": "UndefVarError",
     "evalue": "UndefVarError: MINECITEraw not defined",
     "output_type": "error",
     "traceback": [
      "UndefVarError: MINECITEraw not defined\n",
      "\n",
      "Stacktrace:\n",
      "  [1] top-level scope\n",
      "    @ ~/TITAN-ROG-sync/julia/ISI/ISI-CNATDCU.ipynb:2\n",
      "  [2] eval\n",
      "    @ ./boot.jl:360 [inlined]\n",
      "  [3] include_string(mapexpr::typeof(REPL.softscope), mod::Module, code::String, filename::String)\n",
      "    @ Base ./loading.jl:1116\n",
      "  [4] #invokelatest#2\n",
      "    @ ./essentials.jl:708 [inlined]\n",
      "  [5] invokelatest\n",
      "    @ ./essentials.jl:706 [inlined]\n",
      "  [6] (::VSCodeServer.var\"#146#147\"{VSCodeServer.NotebookRunCellArguments, String})()\n",
      "    @ VSCodeServer ~/.vscode-server/extensions/julialang.language-julia-insider-1.5.7/scripts/packages/VSCodeServer/src/serve_notebook.jl:18\n",
      "  [7] withpath(f::VSCodeServer.var\"#146#147\"{VSCodeServer.NotebookRunCellArguments, String}, path::String)\n",
      "    @ VSCodeServer ~/.vscode-server/extensions/julialang.language-julia-insider-1.5.7/scripts/packages/VSCodeServer/src/repl.jl:185\n",
      "  [8] notebook_runcell_request(conn::VSCodeServer.JSONRPC.JSONRPCEndpoint{Base.PipeEndpoint, Base.PipeEndpoint}, params::VSCodeServer.NotebookRunCellArguments)\n",
      "    @ VSCodeServer ~/.vscode-server/extensions/julialang.language-julia-insider-1.5.7/scripts/packages/VSCodeServer/src/serve_notebook.jl:14\n",
      "  [9] dispatch_msg(x::VSCodeServer.JSONRPC.JSONRPCEndpoint{Base.PipeEndpoint, Base.PipeEndpoint}, dispatcher::VSCodeServer.JSONRPC.MsgDispatcher, msg::Dict{String, Any})\n",
      "    @ VSCodeServer.JSONRPC ~/.vscode-server/extensions/julialang.language-julia-insider-1.5.7/scripts/packages/JSONRPC/src/typed.jl:67\n",
      " [10] serve_notebook(pipename::String; crashreporting_pipename::String)\n",
      "    @ VSCodeServer ~/.vscode-server/extensions/julialang.language-julia-insider-1.5.7/scripts/packages/VSCodeServer/src/serve_notebook.jl:94\n",
      " [11] top-level scope\n",
      "    @ ~/.vscode-server/extensions/julialang.language-julia-insider-1.5.7/scripts/notebook/notebook.jl:12\n",
      " [12] include(mod::Module, _path::String)\n",
      "    @ Base ./Base.jl:386\n",
      " [13] exec_options(opts::Base.JLOptions)\n",
      "    @ Base ./client.jl:285\n",
      " [14] _start()\n",
      "    @ Base ./client.jl:485"
     ]
    }
   ],
   "source": [
    "# eliminare autocitari\n",
    "MINECITEraw = filter(row -> !(occursin(primAuthor, row.AU)),  MINECITEraw);\n",
    "for (row_indexCIT, lucrareCIT) in enumerate(eachrow(MINECITEraw))\n",
    "    if( occursin(primAuthor, lucrareCIT.AU) )\n",
    "        println(lucrareCIT.AU)\n",
    "    end\n",
    "end"
   ]
  },
  {
   "cell_type": "code",
   "execution_count": 26,
   "metadata": {},
   "outputs": [
    {
     "ename": "UndefVarError",
     "evalue": "UndefVarError: MINECITEraw not defined",
     "output_type": "error",
     "traceback": [
      "UndefVarError: MINECITEraw not defined\n",
      "\n",
      "Stacktrace:\n",
      "  [1] top-level scope\n",
      "    @ ~/TITAN-ROG-sync/julia/ISI/ISI-CNATDCU.ipynb:1\n",
      "  [2] eval\n",
      "    @ ./boot.jl:360 [inlined]\n",
      "  [3] include_string(mapexpr::typeof(REPL.softscope), mod::Module, code::String, filename::String)\n",
      "    @ Base ./loading.jl:1116\n",
      "  [4] #invokelatest#2\n",
      "    @ ./essentials.jl:708 [inlined]\n",
      "  [5] invokelatest\n",
      "    @ ./essentials.jl:706 [inlined]\n",
      "  [6] (::VSCodeServer.var\"#146#147\"{VSCodeServer.NotebookRunCellArguments, String})()\n",
      "    @ VSCodeServer ~/.vscode-server/extensions/julialang.language-julia-insider-1.5.7/scripts/packages/VSCodeServer/src/serve_notebook.jl:18\n",
      "  [7] withpath(f::VSCodeServer.var\"#146#147\"{VSCodeServer.NotebookRunCellArguments, String}, path::String)\n",
      "    @ VSCodeServer ~/.vscode-server/extensions/julialang.language-julia-insider-1.5.7/scripts/packages/VSCodeServer/src/repl.jl:185\n",
      "  [8] notebook_runcell_request(conn::VSCodeServer.JSONRPC.JSONRPCEndpoint{Base.PipeEndpoint, Base.PipeEndpoint}, params::VSCodeServer.NotebookRunCellArguments)\n",
      "    @ VSCodeServer ~/.vscode-server/extensions/julialang.language-julia-insider-1.5.7/scripts/packages/VSCodeServer/src/serve_notebook.jl:14\n",
      "  [9] dispatch_msg(x::VSCodeServer.JSONRPC.JSONRPCEndpoint{Base.PipeEndpoint, Base.PipeEndpoint}, dispatcher::VSCodeServer.JSONRPC.MsgDispatcher, msg::Dict{String, Any})\n",
      "    @ VSCodeServer.JSONRPC ~/.vscode-server/extensions/julialang.language-julia-insider-1.5.7/scripts/packages/JSONRPC/src/typed.jl:67\n",
      " [10] serve_notebook(pipename::String; crashreporting_pipename::String)\n",
      "    @ VSCodeServer ~/.vscode-server/extensions/julialang.language-julia-insider-1.5.7/scripts/packages/VSCodeServer/src/serve_notebook.jl:94\n",
      " [11] top-level scope\n",
      "    @ ~/.vscode-server/extensions/julialang.language-julia-insider-1.5.7/scripts/notebook/notebook.jl:12\n",
      " [12] include(mod::Module, _path::String)\n",
      "    @ Base ./Base.jl:386\n",
      " [13] exec_options(opts::Base.JLOptions)\n",
      "    @ Base ./client.jl:285\n",
      " [14] _start()\n",
      "    @ Base ./client.jl:485"
     ]
    }
   ],
   "source": [
    "MINECITE = MINECITEraw[:, [2, 9, 30, 42, 45, 46, 47, 52, 53, 54, 55]];\n",
    "eltype.(eachcol(MINECITE));\n",
    "rename!(MINECITE,:\"J9\" => :\"Journal\");"
   ]
  },
  {
   "cell_type": "code",
   "execution_count": 27,
   "metadata": {},
   "outputs": [],
   "source": [
    "#CITES = fill!(Vector{Vector{Int64}}(undef, size(MINE)[1]), [0]);\n",
    "CITES = Vector{Int64}[];\n",
    "for i in 1:size(MINE)[1]\n",
    "    push!(CITES, [0])\n",
    "end\n",
    "CITES_IFs = Vector{Float64}[];\n",
    "for i in 1:size(MINE)[1]\n",
    "    push!(CITES_IFs, [0.0])\n",
    "end"
   ]
  },
  {
   "cell_type": "code",
   "execution_count": 28,
   "metadata": {},
   "outputs": [],
   "source": [
    "CITES5 = Vector{Int64}[];\n",
    "for i in 1:size(MINE)[1]\n",
    "    push!(CITES5, [0])\n",
    "end\n",
    "CITES5_IFs = Vector{Float64}[];\n",
    "for i in 1:size(MINE)[1]\n",
    "    push!(CITES5_IFs, [0.0])\n",
    "end"
   ]
  },
  {
   "cell_type": "code",
   "execution_count": 29,
   "metadata": {},
   "outputs": [
    {
     "ename": "ArgumentError",
     "evalue": "ArgumentError: column name :DI not found in the data frame; existing most similar names are: :$DI$",
     "output_type": "error",
     "traceback": [
      "ArgumentError: column name :DI not found in the data frame; existing most similar names are: :$DI$\n",
      "\n",
      "Stacktrace:\n",
      "  [1] lookupname\n",
      "    @ ~/.julia/packages/DataFrames/vuMM8/src/other/index.jl:291 [inlined]\n",
      "  [2] getindex\n",
      "    @ ~/.julia/packages/DataFrames/vuMM8/src/other/index.jl:297 [inlined]\n",
      "  [3] parentcols\n",
      "    @ ~/.julia/packages/DataFrames/vuMM8/src/other/index.jl:344 [inlined]\n",
      "  [4] getindex(r::DataFrameRow{DataFrame, DataFrames.Index}, idx::Symbol)\n",
      "    @ DataFrames ~/.julia/packages/DataFrames/vuMM8/src/dataframerow/dataframerow.jl:212\n",
      "  [5] top-level scope\n",
      "    @ ~/TITAN-ROG-sync/julia/ISI/ISI-CNATDCU.ipynb:3\n",
      "  [6] eval\n",
      "    @ ./boot.jl:360 [inlined]\n",
      "  [7] include_string(mapexpr::typeof(REPL.softscope), mod::Module, code::String, filename::String)\n",
      "    @ Base ./loading.jl:1116\n",
      "  [8] #invokelatest#2\n",
      "    @ ./essentials.jl:708 [inlined]\n",
      "  [9] invokelatest\n",
      "    @ ./essentials.jl:706 [inlined]\n",
      " [10] (::VSCodeServer.var\"#146#147\"{VSCodeServer.NotebookRunCellArguments, String})()\n",
      "    @ VSCodeServer ~/.vscode-server/extensions/julialang.language-julia-insider-1.5.7/scripts/packages/VSCodeServer/src/serve_notebook.jl:18\n",
      " [11] withpath(f::VSCodeServer.var\"#146#147\"{VSCodeServer.NotebookRunCellArguments, String}, path::String)\n",
      "    @ VSCodeServer ~/.vscode-server/extensions/julialang.language-julia-insider-1.5.7/scripts/packages/VSCodeServer/src/repl.jl:185\n",
      " [12] notebook_runcell_request(conn::VSCodeServer.JSONRPC.JSONRPCEndpoint{Base.PipeEndpoint, Base.PipeEndpoint}, params::VSCodeServer.NotebookRunCellArguments)\n",
      "    @ VSCodeServer ~/.vscode-server/extensions/julialang.language-julia-insider-1.5.7/scripts/packages/VSCodeServer/src/serve_notebook.jl:14\n",
      " [13] dispatch_msg(x::VSCodeServer.JSONRPC.JSONRPCEndpoint{Base.PipeEndpoint, Base.PipeEndpoint}, dispatcher::VSCodeServer.JSONRPC.MsgDispatcher, msg::Dict{String, Any})\n",
      "    @ VSCodeServer.JSONRPC ~/.vscode-server/extensions/julialang.language-julia-insider-1.5.7/scripts/packages/JSONRPC/src/typed.jl:67\n",
      " [14] serve_notebook(pipename::String; crashreporting_pipename::String)\n",
      "    @ VSCodeServer ~/.vscode-server/extensions/julialang.language-julia-insider-1.5.7/scripts/packages/VSCodeServer/src/serve_notebook.jl:94\n",
      " [15] top-level scope\n",
      "    @ ~/.vscode-server/extensions/julialang.language-julia-insider-1.5.7/scripts/notebook/notebook.jl:12\n",
      " [16] include(mod::Module, _path::String)\n",
      "    @ Base ./Base.jl:386\n",
      " [17] exec_options(opts::Base.JLOptions)\n",
      "    @ Base ./client.jl:285\n",
      " [18] _start()\n",
      "    @ Base ./client.jl:485"
     ]
    }
   ],
   "source": [
    "for (row_indexMINE, lucrareMINE) in enumerate(eachrow(MINE))\n",
    "    calcul_cit_UAIC = 0.0\n",
    "    if ( ismissing(lucrareMINE[:DI]) )\n",
    "        #println(\"Skip paper $row_indexMINE noDOI\")\n",
    "        continue\n",
    "    end\n",
    "    #println(\"Analyzing paper \", lucrareMINE[:DI])\n",
    "    for (row_indexCIT, lucrareCIT) in enumerate(eachrow(MINECITE))\n",
    "        if ( occursin(lucrareMINE[:DI], lucrareCIT[:CR]) )\n",
    "            #println(\"Paper $row_indexMINE cited by $row_indexCIT\")\n",
    "            ISI_value = 0.0\n",
    "            push!(CITES[row_indexMINE], row_indexCIT)\n",
    "            push!(CITES_IFs[row_indexMINE], ISI_value)\n",
    "            if (( !ismissing(lucrareCIT[:PY]) ) && ( !ismissing(lucrareCIT[:Journal]) ))\n",
    "                for ISIrow in eachrow(ISI)\n",
    "                    if( lucrareCIT[:Journal] == ISIrow[:Journal] )\n",
    "                        an_publicare_citare = lucrareCIT[:PY]\n",
    "                        if (an_publicare_citare > ANfin)\n",
    "                            an_publicare_citare = ANfin\n",
    "                        end\n",
    "                        ISI_value = ISIrow[string(an_publicare_citare)]\n",
    "                        push!(CITES_IFs[row_indexMINE], ISI_value)\n",
    "                        #CITES_IFs[row_indexMINE, size(CITES_IFs[row_indexMINE])] = ISI_value\n",
    "                        break\n",
    "                    end\n",
    "                end\n",
    "                if (lucrareCIT[:PY] <= ANfin) && (lucrareCIT[:PY] >= ANini)\n",
    "                    push!(CITES5[row_indexMINE], row_indexCIT)\n",
    "                    push!(CITES5_IFs[row_indexMINE], ISI_value)\n",
    "                    calcul_cit_UAIC = calcul_cit_UAIC + (10 + 20 * ISI_value) / lucrareMINE[:NA]\n",
    "                end\n",
    "            end\n",
    "        end\n",
    "    end\n",
    "    MINE[row_indexMINE, :TIMESC] = size(CITES[row_indexMINE])[1]-1\n",
    "    MINE[row_indexMINE, :CT] = MINE[row_indexMINE, :TIMESC] / MINE[row_indexMINE, :NEFF]\n",
    "    MINE[row_indexMINE, :TIMESC5] = size(CITES5[row_indexMINE])[1]-1\n",
    "    MINE[row_indexMINE, :CT5] = MINE[row_indexMINE, :TIMESC5] / MINE[row_indexMINE, :NEFF]\n",
    "    MINE[row_indexMINE, :UAIC9] = calcul_cit_UAIC\n",
    "\n",
    "end;"
   ]
  },
  {
   "cell_type": "code",
   "execution_count": 30,
   "metadata": {},
   "outputs": [
    {
     "data": {
      "text/plain": [
       "1-element Vector{Int64}:\n",
       " 0"
      ]
     },
     "metadata": {},
     "output_type": "display_data"
    }
   ],
   "source": [
    "CITES5[2]"
   ]
  },
  {
   "cell_type": "code",
   "execution_count": 31,
   "metadata": {},
   "outputs": [
    {
     "data": {
      "text/plain": [
       "(1,)"
      ]
     },
     "metadata": {},
     "output_type": "display_data"
    }
   ],
   "source": [
    "size(CITES5_IFs[2])"
   ]
  },
  {
   "cell_type": "code",
   "execution_count": 32,
   "metadata": {},
   "outputs": [
    {
     "ename": "ArgumentError",
     "evalue": "ArgumentError: column name :CT not found in the data frame",
     "output_type": "error",
     "traceback": [
      "ArgumentError: column name :CT not found in the data frame\n",
      "\n",
      "Stacktrace:\n",
      "  [1] lookupname\n",
      "    @ ~/.julia/packages/DataFrames/vuMM8/src/other/index.jl:288 [inlined]\n",
      "  [2] getindex\n",
      "    @ ~/.julia/packages/DataFrames/vuMM8/src/other/index.jl:297 [inlined]\n",
      "  [3] getindex(df::DataFrame, #unused#::typeof(!), col_ind::Symbol)\n",
      "    @ DataFrames ~/.julia/packages/DataFrames/vuMM8/src/dataframe/dataframe.jl:513\n",
      "  [4] top-level scope\n",
      "    @ ~/TITAN-ROG-sync/julia/ISI/ISI-CNATDCU.ipynb:1\n",
      "  [5] eval\n",
      "    @ ./boot.jl:360 [inlined]\n",
      "  [6] include_string(mapexpr::typeof(REPL.softscope), mod::Module, code::String, filename::String)\n",
      "    @ Base ./loading.jl:1116\n",
      "  [7] #invokelatest#2\n",
      "    @ ./essentials.jl:708 [inlined]\n",
      "  [8] invokelatest\n",
      "    @ ./essentials.jl:706 [inlined]\n",
      "  [9] (::VSCodeServer.var\"#146#147\"{VSCodeServer.NotebookRunCellArguments, String})()\n",
      "    @ VSCodeServer ~/.vscode-server/extensions/julialang.language-julia-insider-1.5.7/scripts/packages/VSCodeServer/src/serve_notebook.jl:18\n",
      " [10] withpath(f::VSCodeServer.var\"#146#147\"{VSCodeServer.NotebookRunCellArguments, String}, path::String)\n",
      "    @ VSCodeServer ~/.vscode-server/extensions/julialang.language-julia-insider-1.5.7/scripts/packages/VSCodeServer/src/repl.jl:185\n",
      " [11] notebook_runcell_request(conn::VSCodeServer.JSONRPC.JSONRPCEndpoint{Base.PipeEndpoint, Base.PipeEndpoint}, params::VSCodeServer.NotebookRunCellArguments)\n",
      "    @ VSCodeServer ~/.vscode-server/extensions/julialang.language-julia-insider-1.5.7/scripts/packages/VSCodeServer/src/serve_notebook.jl:14\n",
      " [12] dispatch_msg(x::VSCodeServer.JSONRPC.JSONRPCEndpoint{Base.PipeEndpoint, Base.PipeEndpoint}, dispatcher::VSCodeServer.JSONRPC.MsgDispatcher, msg::Dict{String, Any})\n",
      "    @ VSCodeServer.JSONRPC ~/.vscode-server/extensions/julialang.language-julia-insider-1.5.7/scripts/packages/JSONRPC/src/typed.jl:67\n",
      " [13] serve_notebook(pipename::String; crashreporting_pipename::String)\n",
      "    @ VSCodeServer ~/.vscode-server/extensions/julialang.language-julia-insider-1.5.7/scripts/packages/VSCodeServer/src/serve_notebook.jl:94\n",
      " [14] top-level scope\n",
      "    @ ~/.vscode-server/extensions/julialang.language-julia-insider-1.5.7/scripts/notebook/notebook.jl:12\n",
      " [15] include(mod::Module, _path::String)\n",
      "    @ Base ./Base.jl:386\n",
      " [16] exec_options(opts::Base.JLOptions)\n",
      "    @ Base ./client.jl:285\n",
      " [17] _start()\n",
      "    @ Base ./client.jl:485"
     ]
    }
   ],
   "source": [
    "C = sum(MINE[!, :CT])"
   ]
  },
  {
   "cell_type": "code",
   "execution_count": 33,
   "metadata": {},
   "outputs": [
    {
     "ename": "ArgumentError",
     "evalue": "ArgumentError: column name :CT5 not found in the data frame",
     "output_type": "error",
     "traceback": [
      "ArgumentError: column name :CT5 not found in the data frame\n",
      "\n",
      "Stacktrace:\n",
      "  [1] lookupname\n",
      "    @ ~/.julia/packages/DataFrames/vuMM8/src/other/index.jl:288 [inlined]\n",
      "  [2] getindex\n",
      "    @ ~/.julia/packages/DataFrames/vuMM8/src/other/index.jl:297 [inlined]\n",
      "  [3] getindex(df::DataFrame, #unused#::typeof(!), col_ind::Symbol)\n",
      "    @ DataFrames ~/.julia/packages/DataFrames/vuMM8/src/dataframe/dataframe.jl:513\n",
      "  [4] top-level scope\n",
      "    @ ~/TITAN-ROG-sync/julia/ISI/ISI-CNATDCU.ipynb:1\n",
      "  [5] eval\n",
      "    @ ./boot.jl:360 [inlined]\n",
      "  [6] include_string(mapexpr::typeof(REPL.softscope), mod::Module, code::String, filename::String)\n",
      "    @ Base ./loading.jl:1116\n",
      "  [7] #invokelatest#2\n",
      "    @ ./essentials.jl:708 [inlined]\n",
      "  [8] invokelatest\n",
      "    @ ./essentials.jl:706 [inlined]\n",
      "  [9] (::VSCodeServer.var\"#146#147\"{VSCodeServer.NotebookRunCellArguments, String})()\n",
      "    @ VSCodeServer ~/.vscode-server/extensions/julialang.language-julia-insider-1.5.7/scripts/packages/VSCodeServer/src/serve_notebook.jl:18\n",
      " [10] withpath(f::VSCodeServer.var\"#146#147\"{VSCodeServer.NotebookRunCellArguments, String}, path::String)\n",
      "    @ VSCodeServer ~/.vscode-server/extensions/julialang.language-julia-insider-1.5.7/scripts/packages/VSCodeServer/src/repl.jl:185\n",
      " [11] notebook_runcell_request(conn::VSCodeServer.JSONRPC.JSONRPCEndpoint{Base.PipeEndpoint, Base.PipeEndpoint}, params::VSCodeServer.NotebookRunCellArguments)\n",
      "    @ VSCodeServer ~/.vscode-server/extensions/julialang.language-julia-insider-1.5.7/scripts/packages/VSCodeServer/src/serve_notebook.jl:14\n",
      " [12] dispatch_msg(x::VSCodeServer.JSONRPC.JSONRPCEndpoint{Base.PipeEndpoint, Base.PipeEndpoint}, dispatcher::VSCodeServer.JSONRPC.MsgDispatcher, msg::Dict{String, Any})\n",
      "    @ VSCodeServer.JSONRPC ~/.vscode-server/extensions/julialang.language-julia-insider-1.5.7/scripts/packages/JSONRPC/src/typed.jl:67\n",
      " [13] serve_notebook(pipename::String; crashreporting_pipename::String)\n",
      "    @ VSCodeServer ~/.vscode-server/extensions/julialang.language-julia-insider-1.5.7/scripts/packages/VSCodeServer/src/serve_notebook.jl:94\n",
      " [14] top-level scope\n",
      "    @ ~/.vscode-server/extensions/julialang.language-julia-insider-1.5.7/scripts/notebook/notebook.jl:12\n",
      " [15] include(mod::Module, _path::String)\n",
      "    @ Base ./Base.jl:386\n",
      " [16] exec_options(opts::Base.JLOptions)\n",
      "    @ Base ./client.jl:285\n",
      " [17] _start()\n",
      "    @ Base ./client.jl:485"
     ]
    }
   ],
   "source": [
    "C5 = sum(MINE[!, :CT5])"
   ]
  },
  {
   "cell_type": "code",
   "execution_count": 34,
   "metadata": {},
   "outputs": [
    {
     "ename": "ArgumentError",
     "evalue": "ArgumentError: column name :UAIC9 not found in the data frame",
     "output_type": "error",
     "traceback": [
      "ArgumentError: column name :UAIC9 not found in the data frame\n",
      "\n",
      "Stacktrace:\n",
      "  [1] lookupname\n",
      "    @ ~/.julia/packages/DataFrames/vuMM8/src/other/index.jl:288 [inlined]\n",
      "  [2] getindex\n",
      "    @ ~/.julia/packages/DataFrames/vuMM8/src/other/index.jl:297 [inlined]\n",
      "  [3] getindex(df::DataFrame, #unused#::typeof(!), col_ind::Symbol)\n",
      "    @ DataFrames ~/.julia/packages/DataFrames/vuMM8/src/dataframe/dataframe.jl:513\n",
      "  [4] top-level scope\n",
      "    @ ~/TITAN-ROG-sync/julia/ISI/ISI-CNATDCU.ipynb:1\n",
      "  [5] eval\n",
      "    @ ./boot.jl:360 [inlined]\n",
      "  [6] include_string(mapexpr::typeof(REPL.softscope), mod::Module, code::String, filename::String)\n",
      "    @ Base ./loading.jl:1116\n",
      "  [7] #invokelatest#2\n",
      "    @ ./essentials.jl:708 [inlined]\n",
      "  [8] invokelatest\n",
      "    @ ./essentials.jl:706 [inlined]\n",
      "  [9] (::VSCodeServer.var\"#146#147\"{VSCodeServer.NotebookRunCellArguments, String})()\n",
      "    @ VSCodeServer ~/.vscode-server/extensions/julialang.language-julia-insider-1.5.7/scripts/packages/VSCodeServer/src/serve_notebook.jl:18\n",
      " [10] withpath(f::VSCodeServer.var\"#146#147\"{VSCodeServer.NotebookRunCellArguments, String}, path::String)\n",
      "    @ VSCodeServer ~/.vscode-server/extensions/julialang.language-julia-insider-1.5.7/scripts/packages/VSCodeServer/src/repl.jl:185\n",
      " [11] notebook_runcell_request(conn::VSCodeServer.JSONRPC.JSONRPCEndpoint{Base.PipeEndpoint, Base.PipeEndpoint}, params::VSCodeServer.NotebookRunCellArguments)\n",
      "    @ VSCodeServer ~/.vscode-server/extensions/julialang.language-julia-insider-1.5.7/scripts/packages/VSCodeServer/src/serve_notebook.jl:14\n",
      " [12] dispatch_msg(x::VSCodeServer.JSONRPC.JSONRPCEndpoint{Base.PipeEndpoint, Base.PipeEndpoint}, dispatcher::VSCodeServer.JSONRPC.MsgDispatcher, msg::Dict{String, Any})\n",
      "    @ VSCodeServer.JSONRPC ~/.vscode-server/extensions/julialang.language-julia-insider-1.5.7/scripts/packages/JSONRPC/src/typed.jl:67\n",
      " [13] serve_notebook(pipename::String; crashreporting_pipename::String)\n",
      "    @ VSCodeServer ~/.vscode-server/extensions/julialang.language-julia-insider-1.5.7/scripts/packages/VSCodeServer/src/serve_notebook.jl:94\n",
      " [14] top-level scope\n",
      "    @ ~/.vscode-server/extensions/julialang.language-julia-insider-1.5.7/scripts/notebook/notebook.jl:12\n",
      " [15] include(mod::Module, _path::String)\n",
      "    @ Base ./Base.jl:386\n",
      " [16] exec_options(opts::Base.JLOptions)\n",
      "    @ Base ./client.jl:285\n",
      " [17] _start()\n",
      "    @ Base ./client.jl:485"
     ]
    }
   ],
   "source": [
    "UAIC_1_9 = sum(MINE[!, :UAIC9])"
   ]
  },
  {
   "cell_type": "code",
   "execution_count": 35,
   "metadata": {},
   "outputs": [
    {
     "data": {
      "text/plain": [
       "\"/mnt/e/Stoleriu/Doc/CV/auto/LS_MINE_test.csv\""
      ]
     },
     "metadata": {},
     "output_type": "display_data"
    }
   ],
   "source": [
    "root = dirname(\"/mnt/e/Stoleriu/Doc/CV/auto/\")\n",
    "outputMINEcsv = joinpath(root, \"LS_MINE_test.csv\")\n",
    "CSV.write(outputMINEcsv, MINE)"
   ]
  },
  {
   "cell_type": "code",
   "execution_count": 36,
   "metadata": {},
   "outputs": [
    {
     "data": {
      "text/html": [
       "<p>DataFrameRow (13 columns)</p><div class=\"data-frame\"><table class=\"data-frame\"><thead><tr><th></th><th>$AU$</th><th>$TI$</th><th>$RP$</th><th>$CR$</th></tr><tr><th></th><th title=\"String\">String</th><th title=\"String\">String</th><th title=\"String\">String</th><th title=\"String\">String</th></tr></thead><tbody><tr><th>3</th><td>$Stoleriu, L; Enachescu, C$</td><td>$ELASTIC MODEL FOR SPIN CROSSOVER NANOPARTICLES IN MATRICES$</td><td>$Enachescu, C (corresponding author), Alexandru Joan Cuza Univ Iasi, Fac Phys, Bd Carol I 11, Iasi, Romania.$</td><td>$Atitoaie A, 2012, J MAGN MAGN MATER, V324, P1596, DOI 10.1016/j.jmmm.2011.12.011; Boldog I, 2008, ANGEW CHEM INT EDIT, V47, P6433, DOI 10.1002/anie.200801673; Boukheddaden K, 2000, PHYS REV B, V62, P14796, DOI 10.1103/PhysRevB.62.14796; Delgado T, 2018, PHYS CHEM CHEM PHYS, V20, P12493, DOI 10.1039/c8cp00775f; Enachescu C, 2016, PHYS CHEM CHEM PHYS, V18, P20591, DOI 10.1039/c6cp02806c; Enachescu C, 2009, PHYS REV LETT, V102, DOI 10.1103/PhysRevLett.102.257204; Gaina R, 2017, P ROMANIAN ACAD A, V18, P215; GUTLICH P, 1994, ANGEW CHEM INT EDIT, V33, P2024, DOI 10.1002/anie.199420241; Kawamoto T, 2005, CHEM COMMUN, P3933, DOI 10.1039/b506643c; Nguyen LL, 2015, NEW J CHEM, V39, P1603, DOI 10.1039/c4nj01257g; Martinez V, 2010, CHEM MATER, V22, P4271, DOI 10.1021/cm101022u; Muraoka A., 2011, PHYS REV B, V5, P84; Oubouchou H, 2013, PHYS REV B, V87, DOI 10.1103/PhysRevB.87.104104; Raza Y, 2011, CHEM COMMUN, V47, P11501, DOI 10.1039/c1cc14463d; Stoleriu L, 2011, PHYS REV B, V84, DOI 10.1103/PhysRevB.84.134102; Tissot A, 2012, J MATER CHEM, V22, P20451, DOI 10.1039/c2jm33865c; Varret F, 2003, CR CHIM, V6, P385, DOI 10.1016/S1631-0748(03)00048-1$</td></tr></tbody></table></div>"
      ],
      "text/latex": [
       "\\begin{tabular}{r|ccccc}\n",
       "\t& \\$AU\\$ & \\$TI\\$ & \\$RP\\$ & \\$CR\\$ & \\\\\n",
       "\t\\hline\n",
       "\t& String & String & String & String & \\\\\n",
       "\t\\hline\n",
       "\t3 & \\$Stoleriu, L; Enachescu, C\\$ & \\$ELASTIC MODEL FOR SPIN CROSSOVER NANOPARTICLES IN MATRICES\\$ & \\$Enachescu, C (corresponding author), Alexandru Joan Cuza Univ Iasi, Fac Phys, Bd Carol I 11, Iasi, Romania.\\$ & \\$Atitoaie A, 2012, J MAGN MAGN MATER, V324, P1596, DOI 10.1016/j.jmmm.2011.12.011; Boldog I, 2008, ANGEW CHEM INT EDIT, V47, P6433, DOI 10.1002/anie.200801673; Boukheddaden K, 2000, PHYS REV B, V62, P14796, DOI 10.1103/PhysRevB.62.14796; Delgado T, 2018, PHYS CHEM CHEM PHYS, V20, P12493, DOI 10.1039/c8cp00775f; Enachescu C, 2016, PHYS CHEM CHEM PHYS, V18, P20591, DOI 10.1039/c6cp02806c; Enachescu C, 2009, PHYS REV LETT, V102, DOI 10.1103/PhysRevLett.102.257204; Gaina R, 2017, P ROMANIAN ACAD A, V18, P215; GUTLICH P, 1994, ANGEW CHEM INT EDIT, V33, P2024, DOI 10.1002/anie.199420241; Kawamoto T, 2005, CHEM COMMUN, P3933, DOI 10.1039/b506643c; Nguyen LL, 2015, NEW J CHEM, V39, P1603, DOI 10.1039/c4nj01257g; Martinez V, 2010, CHEM MATER, V22, P4271, DOI 10.1021/cm101022u; Muraoka A., 2011, PHYS REV B, V5, P84; Oubouchou H, 2013, PHYS REV B, V87, DOI 10.1103/PhysRevB.87.104104; Raza Y, 2011, CHEM COMMUN, V47, P11501, DOI 10.1039/c1cc14463d; Stoleriu L, 2011, PHYS REV B, V84, DOI 10.1103/PhysRevB.84.134102; Tissot A, 2012, J MATER CHEM, V22, P20451, DOI 10.1039/c2jm33865c; Varret F, 2003, CR CHIM, V6, P385, DOI 10.1016/S1631-0748(03)00048-1\\$ & $\\dots$ \\\\\n",
       "\\end{tabular}\n"
      ],
      "text/plain": [
       "\u001b[1mDataFrameRow\u001b[0m\n",
       "\u001b[1m Row \u001b[0m│\u001b[1m $AU$                        \u001b[0m\u001b[1m $TI$                              \u001b[0m\u001b[1m $RP$                              \u001b[0m\u001b[1m $CR$                              \u001b[0m\u001b[1m $TC$    \u001b[0m\u001b[1m $J9$                \u001b[0m\u001b[1m $PY$    \u001b[0m\u001b[1m $VL$    \u001b[0m\u001b[1m $IS$    \u001b[0m\u001b[1m $BP$    \u001b[0m\u001b[1m $EP$    \u001b[0m\u001b[1m $AR$     \u001b[0m\u001b[1m $DI$     \u001b[0m\n",
       "\u001b[1m     \u001b[0m│\u001b[90m String                      \u001b[0m\u001b[90m String                            \u001b[0m\u001b[90m String                            \u001b[0m\u001b[90m String                            \u001b[0m\u001b[90m String7 \u001b[0m\u001b[90m String31            \u001b[0m\u001b[90m String7 \u001b[0m\u001b[90m String7 \u001b[0m\u001b[90m String7 \u001b[0m\u001b[90m String7 \u001b[0m\u001b[90m String7 \u001b[0m\u001b[90m String15 \u001b[0m\u001b[90m String63 \u001b[0m\n",
       "─────┼─────────────────────────────────────────────────────────────────────────────────────────────────────────────────────────────────────────────────────────────────────────────────────────────────────────────────────────────────────\n",
       "   3 │ $Stoleriu, L; Enachescu, C$  $ELASTIC MODEL FOR SPIN CROSSOVE…  $Enachescu, C (corresponding aut…  $Atitoaie A, 2012, J MAGN MAGN M…  $1$      $P ROMANIAN ACAD A$  $2019$   $20$     $1$      $59$     $66$     $$        $$"
      ]
     },
     "metadata": {},
     "output_type": "display_data"
    }
   ],
   "source": [
    "ENV[\"COLUMNS\"]=500\n",
    "MINE[3, filter(x -> !(x in [\"CR\",\"RP\"]), names(MINE))]"
   ]
  },
  {
   "cell_type": "code",
   "execution_count": 37,
   "metadata": {},
   "outputs": [
    {
     "ename": "ArgumentError",
     "evalue": "ArgumentError: column name :BP not found in the data frame; existing most similar names are: :$BP$",
     "output_type": "error",
     "traceback": [
      "ArgumentError: column name :BP not found in the data frame; existing most similar names are: :$BP$\n",
      "\n",
      "Stacktrace:\n",
      "  [1] lookupname\n",
      "    @ ~/.julia/packages/DataFrames/vuMM8/src/other/index.jl:291 [inlined]\n",
      "  [2] getindex\n",
      "    @ ~/.julia/packages/DataFrames/vuMM8/src/other/index.jl:297 [inlined]\n",
      "  [3] parentcols\n",
      "    @ ~/.julia/packages/DataFrames/vuMM8/src/other/index.jl:344 [inlined]\n",
      "  [4] getindex\n",
      "    @ ~/.julia/packages/DataFrames/vuMM8/src/dataframerow/dataframerow.jl:212 [inlined]\n",
      "  [5] getproperty(r::DataFrameRow{DataFrame, DataFrames.Index}, idx::Symbol)\n",
      "    @ DataFrames ~/.julia/packages/DataFrames/vuMM8/src/dataframerow/dataframerow.jl:299\n",
      "  [6] (::var\"#9#10\")(file::IOStream)\n",
      "    @ Main ~/TITAN-ROG-sync/julia/ISI/ISI-CNATDCU.ipynb:5\n",
      "  [7] open(::var\"#9#10\", ::String, ::Vararg{String, N} where N; kwargs::Base.Iterators.Pairs{Union{}, Union{}, Tuple{}, NamedTuple{(), Tuple{}}})\n",
      "    @ Base ./io.jl:330\n",
      "  [8] open(::Function, ::String, ::String)\n",
      "    @ Base ./io.jl:328\n",
      "  [9] top-level scope\n",
      "    @ ~/TITAN-ROG-sync/julia/ISI/ISI-CNATDCU.ipynb:3\n",
      " [10] eval\n",
      "    @ ./boot.jl:360 [inlined]\n",
      " [11] include_string(mapexpr::typeof(REPL.softscope), mod::Module, code::String, filename::String)\n",
      "    @ Base ./loading.jl:1116\n",
      " [12] #invokelatest#2\n",
      "    @ ./essentials.jl:708 [inlined]\n",
      " [13] invokelatest\n",
      "    @ ./essentials.jl:706 [inlined]\n",
      " [14] (::VSCodeServer.var\"#146#147\"{VSCodeServer.NotebookRunCellArguments, String})()\n",
      "    @ VSCodeServer ~/.vscode-server/extensions/julialang.language-julia-insider-1.5.7/scripts/packages/VSCodeServer/src/serve_notebook.jl:18\n",
      " [15] withpath(f::VSCodeServer.var\"#146#147\"{VSCodeServer.NotebookRunCellArguments, String}, path::String)\n",
      "    @ VSCodeServer ~/.vscode-server/extensions/julialang.language-julia-insider-1.5.7/scripts/packages/VSCodeServer/src/repl.jl:185\n",
      " [16] notebook_runcell_request(conn::VSCodeServer.JSONRPC.JSONRPCEndpoint{Base.PipeEndpoint, Base.PipeEndpoint}, params::VSCodeServer.NotebookRunCellArguments)\n",
      "    @ VSCodeServer ~/.vscode-server/extensions/julialang.language-julia-insider-1.5.7/scripts/packages/VSCodeServer/src/serve_notebook.jl:14\n",
      " [17] dispatch_msg(x::VSCodeServer.JSONRPC.JSONRPCEndpoint{Base.PipeEndpoint, Base.PipeEndpoint}, dispatcher::VSCodeServer.JSONRPC.MsgDispatcher, msg::Dict{String, Any})\n",
      "    @ VSCodeServer.JSONRPC ~/.vscode-server/extensions/julialang.language-julia-insider-1.5.7/scripts/packages/JSONRPC/src/typed.jl:67\n",
      " [18] serve_notebook(pipename::String; crashreporting_pipename::String)\n",
      "    @ VSCodeServer ~/.vscode-server/extensions/julialang.language-julia-insider-1.5.7/scripts/packages/VSCodeServer/src/serve_notebook.jl:94\n",
      " [19] top-level scope\n",
      "    @ ~/.vscode-server/extensions/julialang.language-julia-insider-1.5.7/scripts/notebook/notebook.jl:12\n",
      " [20] include(mod::Module, _path::String)\n",
      "    @ Base ./Base.jl:386\n",
      " [21] exec_options(opts::Base.JLOptions)\n",
      "    @ Base ./client.jl:285\n",
      " [22] _start()\n",
      "    @ Base ./client.jl:485"
     ]
    }
   ],
   "source": [
    "using Printf\n",
    "outputMINEtxt = joinpath(root, \"LS_UAIC_test.txt\")\n",
    "open(outputMINEtxt, \"w\") do file\n",
    "    for (row_indexMINE, lucrareMINE) in enumerate(eachrow(MINE))\n",
    "        if ( !ismissing(lucrareMINE.BP) )\n",
    "            write(file, \"[$row_indexMINE] \\t $(lucrareMINE.AU); $(lucrareMINE.TI); $(lucrareMINE.Journal), vol.$(lucrareMINE.VL), pp.$(lucrareMINE.BP)-$(lucrareMINE.EP) ($(lucrareMINE.PY)), DOI:$(lucrareMINE.DI) \\n\")\n",
    "        else\n",
    "            write(file, \"[$row_indexMINE] \\t $(lucrareMINE.AU); $(lucrareMINE.TI); $(lucrareMINE.Journal), vol.$(lucrareMINE.VL), art.no.$(lucrareMINE.AR) ($(lucrareMINE.PY)), DOI:$(lucrareMINE.DI) \\n\")\n",
    "        end\n",
    "        contor = 1\n",
    "        for (idx_citare, citare) in enumerate(CITES5[row_indexMINE])\n",
    "            if (citare == 0)\n",
    "                continue\n",
    "            end\n",
    "            write(file, \"\\t\\t[$row_indexMINE.$contor] $(MINECITE[citare,:].AU); $(MINECITE[citare,:].TI); $(MINECITE[citare,:].Journal), vol.$(MINECITE[citare,:].VL) ($(MINECITE[citare,:].PY)), DOI:$(MINECITE[citare,:].DI) \\n\")\n",
    "            write(file, \"\\t\\t\\tIF citare: $(CITES5_IFs[row_indexMINE][idx_citare])\\n\")\n",
    "            contor = contor + 1\n",
    "        end\n",
    "        write(file, \"nr.autori: $(lucrareMINE.NA) \\t\\t IF: $(lucrareMINE.IF) \\t\\t UAIC I.1(ISI): $(@sprintf(\"%8.4f\", lucrareMINE.UAIC1)) \\t\\t nr.citari: $(lucrareMINE.TIMESC5) \\t\\t UAIC I.9(Citari): $(@sprintf(\"%9.4f\", lucrareMINE.UAIC9)) \\n\")\n",
    "        write(file, '-'^400, '\\n')\n",
    "    end\n",
    "    write(file, '-'^400, '\\n')\n",
    "    write(file, '-'^400, '\\n')\n",
    "    write(file, \"Total criteriul I.1(UAIC) = $(@sprintf(\"%9.4f\", UAIC_1_1))\\t\\t\\tTotal criteriul I.9(UAIC) = $(@sprintf(\"%9.4f\", UAIC_1_9))\")\n",
    "end"
   ]
  },
  {
   "cell_type": "code",
   "execution_count": 38,
   "metadata": {},
   "outputs": [],
   "source": []
  },
  {
   "cell_type": "code",
   "execution_count": 39,
   "metadata": {},
   "outputs": [],
   "source": []
  },
  {
   "cell_type": "code",
   "execution_count": 40,
   "metadata": {},
   "outputs": [],
   "source": []
  }
 ],
 "metadata": {
  "kernelspec": {
   "display_name": "Julia 1.6.2",
   "language": "julia",
   "name": "julia-1.6"
  },
  "language_info": {
   "file_extension": ".jl",
   "mimetype": "application/julia",
   "name": "julia",
   "version": "1.6.2"
  },
  "orig_nbformat": 4
 },
 "nbformat": 4,
 "nbformat_minor": 2
}
