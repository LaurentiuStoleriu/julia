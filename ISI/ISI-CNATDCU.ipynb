{
 "cells": [
  {
   "cell_type": "code",
   "execution_count": 8,
   "metadata": {},
   "outputs": [],
   "source": [
    "using CSV, DataFrames"
   ]
  },
  {
   "cell_type": "code",
   "execution_count": 9,
   "metadata": {},
   "outputs": [
    {
     "data": {
      "text/plain": [
       "\"MCN_JL_savedrecs.txt\""
      ]
     },
     "metadata": {},
     "output_type": "display_data"
    }
   ],
   "source": [
    "primAuthor = \"Marin\"\n",
    "fileOwnPapers = \"MCN_JL_savedrecs_mine.txt\"\n",
    "usingPART = false\n",
    "if usingPART\n",
    "    fileCitations = \"LS_JL_savedrecs_PART.txt\"\n",
    "else\n",
    "    fileCitations = \"MCN_JL_savedrecs.txt\"\n",
    "end"
   ]
  },
  {
   "cell_type": "code",
   "execution_count": 10,
   "metadata": {},
   "outputs": [
    {
     "data": {
      "text/plain": [
       "\"MCN_JL_UAIC1.txt\""
      ]
     },
     "metadata": {},
     "output_type": "display_data"
    }
   ],
   "source": [
    "fileOwnCSV  = \"MCN_JL_MINE_test.csv\"\n",
    "fileOwnTXT  = \"MCN_JL_total.txt\"\n",
    "fileOwnUAIC = \"MCN_JL_UAIC1.txt\""
   ]
  },
  {
   "cell_type": "code",
   "execution_count": 11,
   "metadata": {},
   "outputs": [
    {
     "data": {
      "text/plain": [
       "2022"
      ]
     },
     "metadata": {},
     "output_type": "display_data"
    }
   ],
   "source": [
    "#root = dirname(@__FILE__)\n",
    "root = dirname(\"/mnt/e/Stoleriu/Doc/CV/auto/\")\n",
    "inputAIS = joinpath(root, \"AI_factor_full_1997-2022.txt\")\n",
    "inputISI = joinpath(root, \"IF_factor_full_1997-2022.txt\")\n",
    "AIFirstYear = 1997\n",
    "AILastYear = 2022"
   ]
  },
  {
   "attachments": {},
   "cell_type": "markdown",
   "metadata": {},
   "source": [
    "Pentru calculele pe 5 ani (sau orice alta durata):"
   ]
  },
  {
   "cell_type": "code",
   "execution_count": 12,
   "metadata": {},
   "outputs": [
    {
     "data": {
      "text/plain": [
       "2022"
      ]
     },
     "metadata": {},
     "output_type": "display_data"
    }
   ],
   "source": [
    "ANini = 1999\n",
    "ANfin = 2022"
   ]
  },
  {
   "cell_type": "code",
   "execution_count": 13,
   "metadata": {},
   "outputs": [
    {
     "data": {
      "text/html": [
       "<div><div style = \"float: left;\"><span>DataFrameRow (7 columns)</span></div><div style = \"clear: both;\"></div></div><div class = \"data-frame\" style = \"overflow-x: scroll;\"><table class = \"data-frame\" style = \"margin-bottom: 6px;\"><thead><tr class = \"header\"><th class = \"rowLabel\" style = \"font-weight: bold; text-align: right;\">Row</th><th style = \"text-align: left;\">Journal</th><th style = \"text-align: left;\">1997</th><th style = \"text-align: left;\">1998</th><th style = \"text-align: left;\">2009</th><th style = \"text-align: left;\">2020</th><th style = \"text-align: left;\">2021</th><th style = \"text-align: left;\">2022</th></tr><tr class = \"subheader headerLastRow\"><th class = \"rowLabel\" style = \"font-weight: bold; text-align: right;\"></th><th title = \"String31\" style = \"text-align: left;\">String31</th><th title = \"Float64\" style = \"text-align: left;\">Float64</th><th title = \"Float64\" style = \"text-align: left;\">Float64</th><th title = \"Float64\" style = \"text-align: left;\">Float64</th><th title = \"Float64\" style = \"text-align: left;\">Float64</th><th title = \"Float64\" style = \"text-align: left;\">Float64</th><th title = \"Float64\" style = \"text-align: left;\">Float64</th></tr></thead><tbody><tr><td class = \"rowLabel\" style = \"font-weight: bold; text-align: right;\">8157</td><td style = \"text-align: left;\">IEEE INTEL TRANSP SY</td><td style = \"text-align: right;\">0.356</td><td style = \"text-align: right;\">0.356</td><td style = \"text-align: right;\">0.356</td><td style = \"text-align: right;\">0.989</td><td style = \"text-align: right;\">1.031</td><td style = \"text-align: right;\">1.031</td></tr></tbody></table></div>"
      ],
      "text/latex": [
       "\\begin{tabular}{r|ccccccc}\n",
       "\t& Journal & 1997 & 1998 & 2009 & 2020 & 2021 & 2022\\\\\n",
       "\t\\hline\n",
       "\t& String31 & Float64 & Float64 & Float64 & Float64 & Float64 & Float64\\\\\n",
       "\t\\hline\n",
       "\t8157 & IEEE INTEL TRANSP SY & 0.356 & 0.356 & 0.356 & 0.989 & 1.031 & 1.031 \\\\\n",
       "\\end{tabular}\n"
      ],
      "text/plain": [
       "\u001b[1mDataFrameRow\u001b[0m\n",
       "\u001b[1m  Row \u001b[0m│\u001b[1m Journal              \u001b[0m\u001b[1m 1997    \u001b[0m\u001b[1m 1998    \u001b[0m\u001b[1m 2009    \u001b[0m\u001b[1m 2020    \u001b[0m\u001b[1m 2021    \u001b[0m\u001b[1m 202\u001b[0m ⋯\n",
       "      │\u001b[90m String31             \u001b[0m\u001b[90m Float64 \u001b[0m\u001b[90m Float64 \u001b[0m\u001b[90m Float64 \u001b[0m\u001b[90m Float64 \u001b[0m\u001b[90m Float64 \u001b[0m\u001b[90m Flo\u001b[0m ⋯\n",
       "──────┼─────────────────────────────────────────────────────────────────────────\n",
       " 8157 │ IEEE INTEL TRANSP SY    0.356    0.356    0.356    0.989    1.031    1 ⋯\n",
       "\u001b[36m                                                                1 column omitted\u001b[0m"
      ]
     },
     "metadata": {},
     "output_type": "display_data"
    }
   ],
   "source": [
    "AIS = CSV.read(inputAIS, DataFrame; header=true, delim='\\t')\n",
    "AIS[8157, [1, 2, 3, 14, 25, 26, 27]]"
   ]
  },
  {
   "cell_type": "code",
   "execution_count": 14,
   "metadata": {},
   "outputs": [],
   "source": [
    "#VSCodeServer.vscodedisplay(AIS)"
   ]
  },
  {
   "cell_type": "code",
   "execution_count": 15,
   "metadata": {},
   "outputs": [
    {
     "data": {
      "text/html": [
       "<div><div style = \"float: left;\"><span>DataFrameRow (7 columns)</span></div><div style = \"clear: both;\"></div></div><div class = \"data-frame\" style = \"overflow-x: scroll;\"><table class = \"data-frame\" style = \"margin-bottom: 6px;\"><thead><tr class = \"header\"><th class = \"rowLabel\" style = \"font-weight: bold; text-align: right;\">Row</th><th style = \"text-align: left;\">Journal</th><th style = \"text-align: left;\">1997</th><th style = \"text-align: left;\">1998</th><th style = \"text-align: left;\">2009</th><th style = \"text-align: left;\">2020</th><th style = \"text-align: left;\">2021</th><th style = \"text-align: left;\">2022</th></tr><tr class = \"subheader headerLastRow\"><th class = \"rowLabel\" style = \"font-weight: bold; text-align: right;\"></th><th title = \"String31\" style = \"text-align: left;\">String31</th><th title = \"Float64\" style = \"text-align: left;\">Float64</th><th title = \"Float64\" style = \"text-align: left;\">Float64</th><th title = \"Float64\" style = \"text-align: left;\">Float64</th><th title = \"Float64\" style = \"text-align: left;\">Float64</th><th title = \"Float64\" style = \"text-align: left;\">Float64</th><th title = \"Float64\" style = \"text-align: left;\">Float64</th></tr></thead><tbody><tr><td class = \"rowLabel\" style = \"font-weight: bold; text-align: right;\">8157</td><td style = \"text-align: left;\">IEEE INTEL TRANSP SY</td><td style = \"text-align: right;\">0.821</td><td style = \"text-align: right;\">0.821</td><td style = \"text-align: right;\">0.821</td><td style = \"text-align: right;\">3.419</td><td style = \"text-align: right;\">5.293</td><td style = \"text-align: right;\">5.293</td></tr></tbody></table></div>"
      ],
      "text/latex": [
       "\\begin{tabular}{r|ccccccc}\n",
       "\t& Journal & 1997 & 1998 & 2009 & 2020 & 2021 & 2022\\\\\n",
       "\t\\hline\n",
       "\t& String31 & Float64 & Float64 & Float64 & Float64 & Float64 & Float64\\\\\n",
       "\t\\hline\n",
       "\t8157 & IEEE INTEL TRANSP SY & 0.821 & 0.821 & 0.821 & 3.419 & 5.293 & 5.293 \\\\\n",
       "\\end{tabular}\n"
      ],
      "text/plain": [
       "\u001b[1mDataFrameRow\u001b[0m\n",
       "\u001b[1m  Row \u001b[0m│\u001b[1m Journal              \u001b[0m\u001b[1m 1997    \u001b[0m\u001b[1m 1998    \u001b[0m\u001b[1m 2009    \u001b[0m\u001b[1m 2020    \u001b[0m\u001b[1m 2021    \u001b[0m\u001b[1m 202\u001b[0m ⋯\n",
       "      │\u001b[90m String31             \u001b[0m\u001b[90m Float64 \u001b[0m\u001b[90m Float64 \u001b[0m\u001b[90m Float64 \u001b[0m\u001b[90m Float64 \u001b[0m\u001b[90m Float64 \u001b[0m\u001b[90m Flo\u001b[0m ⋯\n",
       "──────┼─────────────────────────────────────────────────────────────────────────\n",
       " 8157 │ IEEE INTEL TRANSP SY    0.821    0.821    0.821    3.419    5.293    5 ⋯\n",
       "\u001b[36m                                                                1 column omitted\u001b[0m"
      ]
     },
     "metadata": {},
     "output_type": "display_data"
    }
   ],
   "source": [
    "ISI = CSV.read(inputISI, DataFrame; header=true, delim='\\t')\n",
    "ISI[8157, [1, 2, 3, 14, 25, 26, 27]]"
   ]
  },
  {
   "cell_type": "code",
   "execution_count": 16,
   "metadata": {},
   "outputs": [
    {
     "data": {
      "text/plain": [
       "\"/mnt/e/Stoleriu/Doc/CV/auto/MCN_JL_savedrecs.txt\""
      ]
     },
     "metadata": {},
     "output_type": "display_data"
    }
   ],
   "source": [
    "#root = dirname(@__FILE__)\n",
    "#root = dirname(\"/mnt/e/Stoleriu/Doc/CV/auto/\")\n",
    "inputMINE = joinpath(root, fileOwnPapers)\n",
    "inputCIT = joinpath(root, fileCitations)"
   ]
  },
  {
   "cell_type": "code",
   "execution_count": 17,
   "metadata": {},
   "outputs": [],
   "source": [
    "MINEraw = CSV.read(inputMINE, DataFrame; header=true, delim='\\t')\n",
    "sort!(MINEraw, [:PY], rev = true)\n",
    "eltype.(eachcol(MINEraw));"
   ]
  },
  {
   "cell_type": "code",
   "execution_count": 18,
   "metadata": {},
   "outputs": [],
   "source": [
    "#VSCodeServer.vscodedisplay(MINEraw)"
   ]
  },
  {
   "cell_type": "code",
   "execution_count": 19,
   "metadata": {},
   "outputs": [],
   "source": [
    "#MINE = MINEraw[:, [2, 9, 24, 30, 32, 42, 45, 46, 47, 52, 53, 54, 55]];\n",
    "#MINE = MINEraw[:, [2, 9, 24, 32, 42, 45, 46, 47, 52, 53, 54, 55]];\n",
    "#MINE = MINEraw[:, [2, 9, 25, 32, 43, 46, 47, 53, 54, 55, 56]];\n",
    "#                  AU TI  RP  NR  J9  PY  VL  BP  EP  AR  DI\n",
    "MINE = MINEraw[:, [2, 9, 25, 33, 44, 47, 48, 54, 55, 56, 57]];  # fara citari (col 30)\n",
    "eltype.(eachcol(MINE));"
   ]
  },
  {
   "cell_type": "code",
   "execution_count": 20,
   "metadata": {},
   "outputs": [],
   "source": [
    "#MINE[2, :PY] = 2021   # ADV MAT no year!!!!\n",
    "eltype.(eachcol(MINE));"
   ]
  },
  {
   "cell_type": "code",
   "execution_count": 21,
   "metadata": {},
   "outputs": [],
   "source": [
    "#VSCodeServer.vscodedisplay(MINE)"
   ]
  },
  {
   "cell_type": "markdown",
   "metadata": {},
   "source": [
    "Pregatim MINE cu noi coloane"
   ]
  },
  {
   "cell_type": "code",
   "execution_count": 22,
   "metadata": {},
   "outputs": [],
   "source": [
    "rename!(MINE,:\"J9\" => :\"Journal\")\n",
    "insertcols!(MINE, :NA => 0);\n",
    "insertcols!(MINE, :NEFF => 0.0);\n",
    "insertcols!(MINE, :PRIM => 0);\n",
    "insertcols!(MINE, :AI => 0.0);\n",
    "insertcols!(MINE, :AINEFF => 0.0);\n",
    "insertcols!(MINE, :IF => 0.0);\n",
    "insertcols!(MINE, :IFNA => 0.0);\n",
    "insertcols!(MINE, :TIMESC => 0);\n",
    "insertcols!(MINE, :CT => 0.0);\n",
    "### 5 ani\n",
    "insertcols!(MINE, :PRIM5 => 0);\n",
    "insertcols!(MINE, :AINEFF5 => 0.0);\n",
    "insertcols!(MINE, :IFNA5 => 0.0);\n",
    "insertcols!(MINE, :TIMESC5 => 0);\n",
    "insertcols!(MINE, :CT5 => 0.0);\n",
    "### UAIC\n",
    "insertcols!(MINE, :UAIC1 => 0.0);\n",
    "insertcols!(MINE, :UAIC9 => 0.0);"
   ]
  },
  {
   "cell_type": "code",
   "execution_count": 23,
   "metadata": {},
   "outputs": [],
   "source": [
    "#VSCodeServer.vscodedisplay(MINE)"
   ]
  },
  {
   "cell_type": "markdown",
   "metadata": {},
   "source": [
    "Gasim numarul de autori si prim autor"
   ]
  },
  {
   "cell_type": "code",
   "execution_count": 24,
   "metadata": {},
   "outputs": [],
   "source": [
    "for (row_index, lucrare) in enumerate(eachrow(MINE))\n",
    "    MINE[row_index, :NA] = (1+count(\";\", lucrare[:AU]))\n",
    "\n",
    "    if MINE[row_index, :NA] <= 5\n",
    "        MINE[row_index, :NEFF] = MINE[row_index, :NA]\n",
    "    elseif MINE[row_index, :NA] <= 15\n",
    "        MINE[row_index, :NEFF] = (MINE[row_index, :NA] + 5.0) / 2.0\n",
    "    elseif MINE[row_index, :NA] <= 75\n",
    "        MINE[row_index, :NEFF] = (MINE[row_index, :NA] + 15.0) / 3.0\n",
    "    else\n",
    "        MINE[row_index, :NEFF] = (MINE[row_index, :NA] + 45.0) / 4.0\n",
    "    end\n",
    "\n",
    "    #println( titlecase(MINE[row_index, :AU]))\n",
    "    #println(findfirst(primAuthor, titlecase(MINE[row_index, :AU]))[1])\n",
    "    if findfirst(primAuthor, titlecase(MINE[row_index, :AU]))[1] == 1\n",
    "        MINE[row_index, :PRIM] = 1\n",
    "        if (MINE[row_index, :PY] <= ANfin) && (MINE[row_index, :PY] >= ANini)\n",
    "            MINE[row_index, :PRIM5] = 1\n",
    "        end\n",
    "    elseif !ismissing(lucrare[:RP])\n",
    "        if occursin(primAuthor, lucrare[:RP])\n",
    "            MINE[row_index, :PRIM] = 1\n",
    "            if (MINE[row_index, :PY] <= ANfin) && (MINE[row_index, :PY] >= ANini)\n",
    "                MINE[row_index, :PRIM5] = 1\n",
    "            end\n",
    "        end\n",
    "    end\n",
    "    #println(row_index, MINE[row_index, [:NA]])\n",
    "    #println(row_index, MINE[row_index, [:PRIM]])\n",
    "end"
   ]
  },
  {
   "cell_type": "code",
   "execution_count": 25,
   "metadata": {},
   "outputs": [],
   "source": [
    "#VSCodeServer.vscodedisplay(MINE)"
   ]
  },
  {
   "cell_type": "code",
   "execution_count": 26,
   "metadata": {},
   "outputs": [
    {
     "data": {
      "text/html": [
       "<div><div style = \"float: left;\"><span>0×9 DataFrame</span></div><div style = \"clear: both;\"></div></div><div class = \"data-frame\" style = \"overflow-x: scroll;\"><table class = \"data-frame\" style = \"margin-bottom: 6px;\"><thead><tr class = \"header\"><th class = \"rowNumber\" style = \"font-weight: bold; text-align: right;\">Row</th><th style = \"text-align: left;\">AU</th><th style = \"text-align: left;\">PY</th><th style = \"text-align: left;\">VL</th><th style = \"text-align: left;\">BP</th><th style = \"text-align: left;\">NA</th><th style = \"text-align: left;\">PRIM</th><th style = \"text-align: left;\">AI</th><th style = \"text-align: left;\">AINEFF</th><th style = \"text-align: left;\">IF</th></tr><tr class = \"subheader headerLastRow\"><th class = \"rowNumber\" style = \"font-weight: bold; text-align: right;\"></th><th title = \"String\" style = \"text-align: left;\">String</th><th title = \"Int64\" style = \"text-align: left;\">Int64</th><th title = \"Union{Missing, Int64}\" style = \"text-align: left;\">Int64?</th><th title = \"Union{Missing, String7}\" style = \"text-align: left;\">String7?</th><th title = \"Int64\" style = \"text-align: left;\">Int64</th><th title = \"Int64\" style = \"text-align: left;\">Int64</th><th title = \"Float64\" style = \"text-align: left;\">Float64</th><th title = \"Float64\" style = \"text-align: left;\">Float64</th><th title = \"Float64\" style = \"text-align: left;\">Float64</th></tr></thead><tbody></tbody></table></div>"
      ],
      "text/latex": [
       "\\begin{tabular}{r|ccccccccc}\n",
       "\t& AU & PY & VL & BP & NA & PRIM & AI & AINEFF & IF\\\\\n",
       "\t\\hline\n",
       "\t& String & Int64 & Int64? & String7? & Int64 & Int64 & Float64 & Float64 & Float64\\\\\n",
       "\t\\hline\n",
       "\\end{tabular}\n"
      ],
      "text/plain": [
       "\u001b[1m0×9 DataFrame\u001b[0m\n",
       "\u001b[1m Row \u001b[0m│\u001b[1m AU     \u001b[0m\u001b[1m PY    \u001b[0m\u001b[1m VL     \u001b[0m\u001b[1m BP       \u001b[0m\u001b[1m NA    \u001b[0m\u001b[1m PRIM  \u001b[0m\u001b[1m AI      \u001b[0m\u001b[1m AINEFF  \u001b[0m\u001b[1m IF    \u001b[0m ⋯\n",
       "     │\u001b[90m String \u001b[0m\u001b[90m Int64 \u001b[0m\u001b[90m Int64? \u001b[0m\u001b[90m String7? \u001b[0m\u001b[90m Int64 \u001b[0m\u001b[90m Int64 \u001b[0m\u001b[90m Float64 \u001b[0m\u001b[90m Float64 \u001b[0m\u001b[90m Float6\u001b[0m ⋯\n",
       "─────┴──────────────────────────────────────────────────────────────────────────\n",
       "\u001b[36m                                                                1 column omitted\u001b[0m"
      ]
     },
     "metadata": {},
     "output_type": "display_data"
    }
   ],
   "source": [
    "#MINE[:, [6, 7, 8, 12, 14, 15, 16, 17]]\n",
    "MINE.PY = Int64.(MINE.PY)\n",
    "MINE[ismissing.(MINE[!, :PY]), [1, 6, 7, 8, 12, 14, 15, 16, 17]]"
   ]
  },
  {
   "cell_type": "code",
   "execution_count": 27,
   "metadata": {},
   "outputs": [],
   "source": [
    "#root = dirname(\"/mnt/d/Stoleriu/\")\n",
    "#outputMINE = joinpath(root, \"MINE_test.csv\")\n",
    "#CSV.write(outputMINE, MINE)"
   ]
  },
  {
   "cell_type": "code",
   "execution_count": 28,
   "metadata": {},
   "outputs": [
    {
     "data": {
      "text/plain": [
       "1"
      ]
     },
     "metadata": {},
     "output_type": "display_data"
    }
   ],
   "source": [
    "AISsubsect = filter(r -> any(occursin.(Vector(MINE[1, [:Journal]]), r.Journal)), AIS)\n",
    "#subsect2 = filter(r -> ([\"ADV MATER\"][1] .== r.Journal[1]), AIS)\n",
    "size(AISsubsect, 1)\n",
    "#[\"ADV MATER\"][1] .== subsect[1, [:Journal]][1]"
   ]
  },
  {
   "cell_type": "code",
   "execution_count": 29,
   "metadata": {},
   "outputs": [],
   "source": [
    "for (row_index, lucrare) in enumerate(eachrow(MINE))\n",
    "    #lucrare = MINE[1, :]\n",
    "    if(ismissing(lucrare[:Journal]))\n",
    "        continue\n",
    "    end\n",
    "    for AISrow in eachrow(AIS)\n",
    "        if( lucrare[:Journal] == AISrow[:Journal] )\n",
    "            if (lucrare[:PY] >= AIFirstYear)\n",
    "                anString = string(lucrare[:PY])\n",
    "            else\n",
    "                anString = string(AIFirstYear)\n",
    "            end\n",
    "            if (lucrare[:PY] > AILastYear)\n",
    "                anString = string(AILastYear)\n",
    "            end\n",
    "            #println(AISrow[anString])\n",
    "            MINE[row_index, :AI] = AISrow[anString]\n",
    "            MINE[row_index, :AINEFF] = MINE[row_index, :AI] / MINE[row_index, :NEFF]\n",
    "            if (MINE[row_index, :PY] <= ANfin) && (MINE[row_index, :PY] >= ANini)\n",
    "                MINE[row_index, :AINEFF5] = MINE[row_index, :AINEFF]\n",
    "            end\n",
    "            \n",
    "        end\n",
    "    end\n",
    "    for ISIrow in eachrow(ISI)\n",
    "        if( lucrare[:Journal] == ISIrow[:Journal] )\n",
    "            if (lucrare[:PY] >= AIFirstYear)\n",
    "                anString = string(lucrare[:PY])\n",
    "            else\n",
    "                anString = string(AIFirstYear)\n",
    "            end\n",
    "            if (lucrare[:PY] > AILastYear)\n",
    "                anString = string(AILastYear)\n",
    "            end\n",
    "            #println(ISIrow[anString])\n",
    "            MINE[row_index, :IF] = ISIrow[anString]\n",
    "            MINE[row_index, :IFNA] = ISIrow[anString] / MINE[row_index, :NA]\n",
    "            if (MINE[row_index, :PY] <= ANfin) && (MINE[row_index, :PY] >= ANini)\n",
    "                MINE[row_index, :IFNA5] = MINE[row_index, :IFNA]\n",
    "                MINE[row_index, :UAIC1] = (25 + 60*MINE[row_index, :IF]) / MINE[row_index, :NA]\n",
    "            end\n",
    "        end\n",
    "    end\n",
    "end"
   ]
  },
  {
   "cell_type": "code",
   "execution_count": 30,
   "metadata": {},
   "outputs": [],
   "source": [
    "#VSCodeServer.vscodedisplay(MINE)\n",
    "#outputMINE = joinpath(root, \"MINE_test.csv\")\n",
    "#CSV.write(outputMINE, MINE)"
   ]
  },
  {
   "cell_type": "code",
   "execution_count": 31,
   "metadata": {},
   "outputs": [
    {
     "data": {
      "text/plain": [
       "9.68309234099234"
      ]
     },
     "metadata": {},
     "output_type": "display_data"
    }
   ],
   "source": [
    "I = sum(MINE[!, :AINEFF])"
   ]
  },
  {
   "cell_type": "code",
   "execution_count": 32,
   "metadata": {},
   "outputs": [
    {
     "data": {
      "text/plain": [
       "18.409"
      ]
     },
     "metadata": {},
     "output_type": "display_data"
    }
   ],
   "source": [
    "P = sum(MINE[!, :PRIM] .* MINE[!, :AI])"
   ]
  },
  {
   "cell_type": "code",
   "execution_count": 33,
   "metadata": {},
   "outputs": [
    {
     "data": {
      "text/plain": [
       "9.68309234099234"
      ]
     },
     "metadata": {},
     "output_type": "display_data"
    }
   ],
   "source": [
    "I5 = sum(MINE[!, :AINEFF5])"
   ]
  },
  {
   "cell_type": "code",
   "execution_count": 34,
   "metadata": {},
   "outputs": [
    {
     "data": {
      "text/plain": [
       "18.409"
      ]
     },
     "metadata": {},
     "output_type": "display_data"
    }
   ],
   "source": [
    "P5 = sum(MINE[!, :PRIM5] .* MINE[!, :AI])"
   ]
  },
  {
   "cell_type": "code",
   "execution_count": 35,
   "metadata": {},
   "outputs": [
    {
     "data": {
      "text/plain": [
       "2622.9813492063495"
      ]
     },
     "metadata": {},
     "output_type": "display_data"
    }
   ],
   "source": [
    "UAIC_1_1 = sum(MINE[!, :UAIC1])"
   ]
  },
  {
   "cell_type": "markdown",
   "metadata": {},
   "source": [
    "############################\n",
    "Citations\n",
    "############################"
   ]
  },
  {
   "cell_type": "code",
   "execution_count": 36,
   "metadata": {},
   "outputs": [],
   "source": [
    "#   PT\tAU\tBA\tBE\tGP\tAF\tBF\tCA\tTI\tSO\tSE\tBS\tLA\tDT\tCT\tCY\tCL\tSP\tHO\tDE\tID\tAB\tC1\t\n",
    "#   1   2   3   4   5   6   7   8   9   10  11  12  13  14  15  16  17  18  19  20  21  22  23  \n",
    "\n",
    "#   C3\tRP\tEM\tRI\tOI\tFU\tFP\tFX\tCR\tNR\tTC\tZ9\tU1\tU2\tPU\tPI\tPA\tSN\tEI\tBN\tJ9\tJI\tPD\t\n",
    "#   24  25  26  27  28  29  30  31  32  33  34  35  36  37  38  39  40  41  42  43  44  45  46  \n",
    "\n",
    "#   PY\tVL\tIS\tPN\tSU\tSI\tMA\tBP\tEP\tAR\tDI\tDL\tD2\tEA\tPG\tWC\tWE\tSC\tGA\tPM\tOA\tHC\tHP\tDA\tUT\n",
    "#   47  48  49  50  51  52  53  54  55  56  57  58  59  60  61  62  63  64  65  66  67  68  69  70  71\n",
    "\n",
    "#   ######  2   9   32  44  46  47  48  54  55  56  57\n",
    "#   ######  AU  TI  CR  J9  PD  PY  VL  BP  EP  AR  DI"
   ]
  },
  {
   "cell_type": "code",
   "execution_count": 37,
   "metadata": {},
   "outputs": [],
   "source": [
    "MINECITEraw = CSV.read(inputCIT, DataFrame; header=true, delim='\\t');\n",
    "# autocitari\n",
    "#for (row_indexCIT, lucrareCIT) in enumerate(eachrow(MINECITEraw))\n",
    "#    if( occursin(primAuthor, lucrareCIT.AU) )\n",
    "#        println(lucrareCIT.AU)\n",
    "#    end\n",
    "#end\n",
    "eltype.(eachcol(MINECITEraw));"
   ]
  },
  {
   "cell_type": "code",
   "execution_count": 38,
   "metadata": {},
   "outputs": [],
   "source": [
    "#MINECITEraw\n",
    "#VSCodeServer.vscodedisplay(MINECITEraw)\n",
    "#inputCIT"
   ]
  },
  {
   "cell_type": "code",
   "execution_count": 39,
   "metadata": {},
   "outputs": [],
   "source": [
    "# eliminare autocitari\n",
    "MINECITEraw = filter(row -> !(occursin(primAuthor, row.AU)),  MINECITEraw);\n",
    "for (row_indexCIT, lucrareCIT) in enumerate(eachrow(MINECITEraw))\n",
    "    if( occursin(primAuthor, lucrareCIT.AU) )\n",
    "        println(lucrareCIT.AU)\n",
    "    end\n",
    "end"
   ]
  },
  {
   "cell_type": "code",
   "execution_count": 40,
   "metadata": {},
   "outputs": [],
   "source": [
    "#unele citari missing PY (early access) - CHECK!!!\n",
    "\n",
    "#for (row_indexCIT, lucrareCIT) in enumerate(eachrow(MINECITEraw))\n",
    "#    if( ismissing(lucrareCIT.PY) )\n",
    "#        lucrareCIT.PY = 2022\n",
    "#    end\n",
    "#end"
   ]
  },
  {
   "cell_type": "code",
   "execution_count": 41,
   "metadata": {},
   "outputs": [],
   "source": [
    "#VSCodeServer.vscodedisplay(MINECITEraw[1,1:70])"
   ]
  },
  {
   "cell_type": "code",
   "execution_count": 42,
   "metadata": {},
   "outputs": [],
   "source": [
    "#MINECITE = MINECITEraw[:, [2, 9, 31, 43, 45, 46, 47, 53, 54, 55, 56]];\n",
    "\n",
    "if usingPART\n",
    "    ## DEJA SELECTATE COLOANELE in fisierul _PART\n",
    "    MINECITE = MINECITEraw\n",
    "else\n",
    "    MINECITE = MINECITEraw[:, [2, 9, 32, 44, 46, 47, 48, 54, 55, 56, 57]];\n",
    "end\n",
    "eltype.(eachcol(MINECITE));\n",
    "rename!(MINECITE,:\"J9\" => :\"Journal\");"
   ]
  },
  {
   "cell_type": "code",
   "execution_count": 43,
   "metadata": {},
   "outputs": [],
   "source": [
    "#VSCodeServer.vscodedisplay(MINECITE)"
   ]
  },
  {
   "cell_type": "code",
   "execution_count": 44,
   "metadata": {},
   "outputs": [],
   "source": [
    "#CITES = fill!(Vector{Vector{Int64}}(undef, size(MINE)[1]), [0]);\n",
    "CITES = Vector{Int64}[];\n",
    "for i in 1:size(MINE)[1]\n",
    "    push!(CITES, [0])\n",
    "end\n",
    "CITES_IFs = Vector{Float64}[];\n",
    "for i in 1:size(MINE)[1]\n",
    "    push!(CITES_IFs, [0.0])\n",
    "end"
   ]
  },
  {
   "cell_type": "code",
   "execution_count": 45,
   "metadata": {},
   "outputs": [],
   "source": [
    "CITES5 = Vector{Int64}[];\n",
    "for i in 1:size(MINE)[1]\n",
    "    push!(CITES5, [0])\n",
    "end\n",
    "CITES5_IFs = Vector{Float64}[];\n",
    "for i in 1:size(MINE)[1]\n",
    "    push!(CITES5_IFs, [0.0])\n",
    "end"
   ]
  },
  {
   "cell_type": "code",
   "execution_count": 46,
   "metadata": {},
   "outputs": [],
   "source": [
    "for (row_indexMINE, lucrareMINE) in enumerate(eachrow(MINE))\n",
    "    calcul_cit_UAIC = 0.0\n",
    "    if ( ismissing(lucrareMINE[:DI]) )\n",
    "        #println(\"Skip paper $row_indexMINE noDOI\")\n",
    "        continue\n",
    "    end\n",
    "    #println(\"Analyzing paper \", lucrareMINE[:DI])\n",
    "    for (row_indexCIT, lucrareCIT) in enumerate(eachrow(MINECITE))\n",
    "        if ( occursin(lucrareMINE[:DI], lucrareCIT[:CR]) )\n",
    "            #println(\"Paper $row_indexMINE cited by $row_indexCIT\")\n",
    "            ISI_value = 0.0\n",
    "            push!(CITES[row_indexMINE], row_indexCIT)\n",
    "            push!(CITES_IFs[row_indexMINE], ISI_value)\n",
    "            if (( !ismissing(lucrareCIT[:PY]) ) && ( !ismissing(lucrareCIT[:Journal]) ))\n",
    "                for ISIrow in eachrow(ISI)\n",
    "                    if( lucrareCIT[:Journal] == ISIrow[:Journal] )\n",
    "                        an_publicare_citare = lucrareCIT[:PY]\n",
    "                        if (an_publicare_citare > AILastYear)\n",
    "                            an_publicare_citare = AILastYear\n",
    "                        end\n",
    "                        if (an_publicare_citare < AIFirstYear)\n",
    "                            an_publicare_citare = AIFirstYear\n",
    "                        end\n",
    "                        ISI_value = ISIrow[string(an_publicare_citare)]\n",
    "                        push!(CITES_IFs[row_indexMINE], ISI_value)\n",
    "                        #CITES_IFs[row_indexMINE, size(CITES_IFs[row_indexMINE])] = ISI_value\n",
    "                        break\n",
    "                    end\n",
    "                end\n",
    "                if (lucrareCIT[:PY] <= ANfin) && (lucrareCIT[:PY] >= ANini)\n",
    "                    push!(CITES5[row_indexMINE], row_indexCIT)\n",
    "                    push!(CITES5_IFs[row_indexMINE], ISI_value)\n",
    "                    calcul_cit_UAIC = calcul_cit_UAIC + (10 + 20 * ISI_value) / lucrareMINE[:NA]\n",
    "                end\n",
    "            end\n",
    "        end\n",
    "    end\n",
    "    MINE[row_indexMINE, :TIMESC] = size(CITES[row_indexMINE])[1]-1\n",
    "    MINE[row_indexMINE, :CT] = MINE[row_indexMINE, :TIMESC] / MINE[row_indexMINE, :NEFF]\n",
    "    MINE[row_indexMINE, :TIMESC5] = size(CITES5[row_indexMINE])[1]-1\n",
    "    MINE[row_indexMINE, :CT5] = MINE[row_indexMINE, :TIMESC5] / MINE[row_indexMINE, :NEFF]\n",
    "    MINE[row_indexMINE, :UAIC9] = calcul_cit_UAIC\n",
    "\n",
    "end;"
   ]
  },
  {
   "cell_type": "code",
   "execution_count": 47,
   "metadata": {},
   "outputs": [
    {
     "data": {
      "text/plain": [
       "1-element Vector{Int64}:\n",
       " 0"
      ]
     },
     "metadata": {},
     "output_type": "display_data"
    }
   ],
   "source": [
    "CITES5[2]"
   ]
  },
  {
   "cell_type": "code",
   "execution_count": 48,
   "metadata": {},
   "outputs": [
    {
     "data": {
      "text/plain": [
       "(1,)"
      ]
     },
     "metadata": {},
     "output_type": "display_data"
    }
   ],
   "source": [
    "size(CITES5_IFs[2])"
   ]
  },
  {
   "cell_type": "code",
   "execution_count": 49,
   "metadata": {},
   "outputs": [
    {
     "data": {
      "text/plain": [
       "126.23669663669664"
      ]
     },
     "metadata": {},
     "output_type": "display_data"
    }
   ],
   "source": [
    "C = sum(MINE[!, :CT])"
   ]
  },
  {
   "cell_type": "code",
   "execution_count": 50,
   "metadata": {},
   "outputs": [
    {
     "data": {
      "text/plain": [
       "113.67440892440892"
      ]
     },
     "metadata": {},
     "output_type": "display_data"
    }
   ],
   "source": [
    "C5 = sum(MINE[!, :CT5])"
   ]
  },
  {
   "cell_type": "code",
   "execution_count": 51,
   "metadata": {},
   "outputs": [
    {
     "data": {
      "text/plain": [
       "5863.1056746031745"
      ]
     },
     "metadata": {},
     "output_type": "display_data"
    }
   ],
   "source": [
    "UAIC_1_9 = sum(MINE[!, :UAIC9])"
   ]
  },
  {
   "cell_type": "code",
   "execution_count": 52,
   "metadata": {},
   "outputs": [
    {
     "data": {
      "text/plain": [
       "\"/mnt/e/Stoleriu/Doc/CV/auto/MCN_JL_MINE_test.csv\""
      ]
     },
     "metadata": {},
     "output_type": "display_data"
    }
   ],
   "source": [
    "outputMINEcsv = joinpath(root, fileOwnCSV)\n",
    "CSV.write(outputMINEcsv, MINE)"
   ]
  },
  {
   "cell_type": "code",
   "execution_count": 53,
   "metadata": {},
   "outputs": [],
   "source": [
    "ENV[\"COLUMNS\"]=500\n",
    "MINE[1, filter(x -> !(x in [\"CR\",\"RP\"]), names(MINE))];"
   ]
  },
  {
   "cell_type": "code",
   "execution_count": 54,
   "metadata": {},
   "outputs": [
    {
     "data": {
      "text/plain": [
       "77"
      ]
     },
     "metadata": {},
     "output_type": "display_data"
    }
   ],
   "source": [
    "using Printf\n",
    "outputMINEtxt = joinpath(root, fileOwnUAIC)\n",
    "open(outputMINEtxt, \"w\") do file\n",
    "    for (row_indexMINE, lucrareMINE) in enumerate(eachrow(MINE))\n",
    "        if ( !ismissing(lucrareMINE.BP) )\n",
    "            write(file, \"[$row_indexMINE] \\t $(lucrareMINE.AU); $(lucrareMINE.TI); $(lucrareMINE.Journal), vol.$(lucrareMINE.VL), pp.$(lucrareMINE.BP)-$(lucrareMINE.EP) ($(lucrareMINE.PY)), DOI:$(lucrareMINE.DI) \\n\")\n",
    "        else\n",
    "            write(file, \"[$row_indexMINE] \\t $(lucrareMINE.AU); $(lucrareMINE.TI); $(lucrareMINE.Journal), vol.$(lucrareMINE.VL), art.no.$(lucrareMINE.AR) ($(lucrareMINE.PY)), DOI:$(lucrareMINE.DI) \\n\")\n",
    "        end\n",
    "        contor = 1\n",
    "        for (idx_citare, citare) in enumerate(CITES5[row_indexMINE])\n",
    "            if (citare == 0)\n",
    "                continue\n",
    "            end\n",
    "            write(file, \"\\t\\t[$row_indexMINE.$contor] $(MINECITE[citare,:].AU); $(MINECITE[citare,:].TI); $(MINECITE[citare,:].Journal), vol.$(MINECITE[citare,:].VL) ($(MINECITE[citare,:].PY)), DOI:$(MINECITE[citare,:].DI) \\n\")\n",
    "            write(file, \"\\t\\t\\tIF citare: $(CITES5_IFs[row_indexMINE][idx_citare])\\n\")\n",
    "            contor = contor + 1\n",
    "        end\n",
    "        write(file, \"nr.autori: $(lucrareMINE.NA) \\t\\t IF: $(lucrareMINE.IF) \\t\\t UAIC I.1(ISI): $(@sprintf(\"%8.4f\", lucrareMINE.UAIC1)) \\t\\t nr.citari: $(lucrareMINE.TIMESC5) \\t\\t UAIC I.9(Citari): $(@sprintf(\"%9.4f\", lucrareMINE.UAIC9)) \\n\")\n",
    "        write(file, '-'^400, '\\n')\n",
    "    end\n",
    "    write(file, '-'^400, '\\n')\n",
    "    write(file, '-'^400, '\\n')\n",
    "    write(file, \"Total criteriul I.1(UAIC) = $(@sprintf(\"%9.4f\", UAIC_1_1))\\t\\t\\tTotal criteriul I.9(UAIC) = $(@sprintf(\"%9.4f\", UAIC_1_9))\")\n",
    "end"
   ]
  },
  {
   "cell_type": "code",
   "execution_count": 55,
   "metadata": {},
   "outputs": [
    {
     "data": {
      "text/plain": [
       "121"
      ]
     },
     "metadata": {},
     "output_type": "display_data"
    }
   ],
   "source": [
    "outputMINEtxt = joinpath(root, fileOwnTXT)\n",
    "open(outputMINEtxt, \"w\") do file\n",
    "    for (row_indexMINE, lucrareMINE) in enumerate(eachrow(MINE))\n",
    "        if ( !ismissing(lucrareMINE.BP) )\n",
    "            write(file, \"[$row_indexMINE] \\t $(lucrareMINE.AU); $(lucrareMINE.TI); $(lucrareMINE.Journal), vol.$(lucrareMINE.VL), pp.$(lucrareMINE.BP)-$(lucrareMINE.EP) ($(lucrareMINE.PY)), DOI:$(lucrareMINE.DI) \\n\")\n",
    "        else\n",
    "            write(file, \"[$row_indexMINE] \\t $(lucrareMINE.AU); $(lucrareMINE.TI); $(lucrareMINE.Journal), vol.$(lucrareMINE.VL), art.no.$(lucrareMINE.AR) ($(lucrareMINE.PY)), DOI:$(lucrareMINE.DI) \\n\")\n",
    "        end\n",
    "        contor = 1\n",
    "        for (idx_citare, citare) in enumerate(CITES5[row_indexMINE])\n",
    "            if (citare == 0)\n",
    "                continue\n",
    "            end\n",
    "            write(file, \"\\t\\t[$row_indexMINE.$contor] $(MINECITE[citare,:].AU); $(MINECITE[citare,:].TI); $(MINECITE[citare,:].Journal), vol.$(MINECITE[citare,:].VL) ($(MINECITE[citare,:].PY)), DOI:$(MINECITE[citare,:].DI) \\n\")\n",
    "            #write(file, \"\\t\\t\\tIF citare: $(CITES5_IFs[row_indexMINE][idx_citare])\\n\")\n",
    "            contor = contor + 1\n",
    "        end\n",
    "        write(file, \"autori=$(lucrareMINE.NA) \\t autori_eff=$(lucrareMINE.NEFF) \\t AIS=$(lucrareMINE.AI) \\t prim=$(@sprintf(\"%5.3f\", lucrareMINE.PRIM)) \\t inf=$(@sprintf(\"%5.3f\", lucrareMINE.AINEFF)) \\t citari=$(lucrareMINE.TIMESC) \\t cit=$(@sprintf(\"%5.3f\", lucrareMINE.CT)) \\n\")\n",
    "        write(file, '-'^400, '\\n')\n",
    "    end\n",
    "    write(file, '*'^120, '\\n')\n",
    "    write(file, \"P = $(@sprintf(\"%9.4f\", P)) \\t\\t\\t I = $(@sprintf(\"%9.4f\", I)) \\t\\t\\t C = $(@sprintf(\"%9.4f\", C)) \\n\")\n",
    "    write(file, '*'^120, '\\n')\n",
    "end"
   ]
  },
  {
   "cell_type": "code",
   "execution_count": 56,
   "metadata": {},
   "outputs": [
    {
     "data": {
      "text/plain": [
       "\"/mnt/e/Stoleriu/Doc/CV/auto/MCN_JL_total.txt\""
      ]
     },
     "metadata": {},
     "output_type": "display_data"
    }
   ],
   "source": [
    "outputMINEtxt\n"
   ]
  },
  {
   "cell_type": "code",
   "execution_count": null,
   "metadata": {},
   "outputs": [],
   "source": []
  }
 ],
 "metadata": {
  "kernelspec": {
   "display_name": "Julia 1.9.0",
   "language": "julia",
   "name": "julia-1.9"
  },
  "language_info": {
   "file_extension": ".jl",
   "mimetype": "application/julia",
   "name": "julia",
   "version": "1.9.0"
  },
  "orig_nbformat": 4
 },
 "nbformat": 4,
 "nbformat_minor": 2
}
