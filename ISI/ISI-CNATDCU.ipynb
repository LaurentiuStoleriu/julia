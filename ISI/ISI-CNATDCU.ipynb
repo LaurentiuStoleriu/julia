{
 "cells": [
  {
   "cell_type": "code",
   "execution_count": 403,
   "metadata": {},
   "outputs": [],
   "source": [
    "using CSV, DataFrames"
   ]
  },
  {
   "cell_type": "code",
   "execution_count": 404,
   "metadata": {},
   "outputs": [
    {
     "data": {
      "text/plain": [
       "\"/home/lali/TITAN-ROG-sync/julia/ISI/AI_factor_full.txt\""
      ]
     },
     "metadata": {},
     "output_type": "display_data"
    }
   ],
   "source": [
    "root = dirname(@__FILE__)\n",
    "inputAIS = joinpath(root, \"AI_factor_full.txt\")\n"
   ]
  },
  {
   "cell_type": "code",
   "execution_count": 405,
   "metadata": {},
   "outputs": [],
   "source": [
    "#AIS = DataFrame(CSV.File(inputAIS))\n",
    "AIS = CSV.read(inputAIS, DataFrame; header=[\"Journal\",\"1997\",\"1998\",\"1999\",\n",
    "                                            \"2000\",\"2001\",\"2002\",\"2003\",\"2004\",\n",
    "                                            \"2005\",\"2006\",\"2007\",\"2008\",\"2009\",\n",
    "                                            \"2010\",\"2011\",\"2012\",\"2013\",\"2014\",\n",
    "                                            \"2015\",\"2016\",\"2017\",\"2018\",\"2019\"], missingstring=[\"Not Available\",\"\"])\n",
    "AIS = select!(AIS, Not(:\"2019\"));\n",
    "AIS.\"2018\" = replace(AIS.\"2018\", missing => 0);\n",
    "eltype.(eachcol(AIS));"
   ]
  },
  {
   "cell_type": "code",
   "execution_count": 406,
   "metadata": {},
   "outputs": [],
   "source": []
  },
  {
   "cell_type": "code",
   "execution_count": 407,
   "metadata": {},
   "outputs": [
    {
     "data": {
      "text/plain": [
       "\"/home/lali/TITAN-ROG-sync/julia/ISI/IF_factor_full.txt\""
      ]
     },
     "metadata": {},
     "output_type": "display_data"
    }
   ],
   "source": [
    "root = dirname(@__FILE__)\n",
    "inputISI = joinpath(root, \"IF_factor_full.txt\")"
   ]
  },
  {
   "cell_type": "code",
   "execution_count": 408,
   "metadata": {},
   "outputs": [],
   "source": [
    "ISI = CSV.read(inputISI, DataFrame; header=[\"Journal\",\"1997\",\"1998\",\"1999\",\n",
    "                                            \"2000\",\"2001\",\"2002\",\"2003\",\"2004\",\n",
    "                                            \"2005\",\"2006\",\"2007\",\"2008\",\"2009\",\n",
    "                                            \"2010\",\"2011\",\"2012\",\"2013\",\"2014\",\n",
    "                                            \"2015\",\"2016\",\"2017\",\"2018\",\"2019\"], missingstring=[\"Not Available\",\"\"])\n",
    "ISI = select!(ISI, Not(:\"2019\"));\n",
    "ISI.\"2018\" = replace(ISI.\"2018\", missing => 0);\n",
    "eltype.(eachcol(ISI));"
   ]
  },
  {
   "cell_type": "code",
   "execution_count": 409,
   "metadata": {},
   "outputs": [
    {
     "data": {
      "text/html": [
       "<p>DataFrameRow (6 columns)</p><div class=\"data-frame\"><table class=\"data-frame\"><thead><tr><th></th><th>Journal</th><th>1997</th><th>2015</th><th>2016</th><th>2017</th><th>2018</th></tr><tr><th></th><th title=\"String31\">String31</th><th title=\"Float64\">Float64</th><th title=\"Float64\">Float64</th><th title=\"Float64\">Float64</th><th title=\"Float64\">Float64</th><th title=\"Float64\">Float64</th></tr></thead><tbody><tr><th>2</th><td>NAT GENET</td><td>13.779</td><td>16.807</td><td>16.456</td><td>16.652</td><td>16.807</td></tr></tbody></table></div>"
      ],
      "text/latex": [
       "\\begin{tabular}{r|cccccc}\n",
       "\t& Journal & 1997 & 2015 & 2016 & 2017 & 2018\\\\\n",
       "\t\\hline\n",
       "\t& String31 & Float64 & Float64 & Float64 & Float64 & Float64\\\\\n",
       "\t\\hline\n",
       "\t2 & NAT GENET & 13.779 & 16.807 & 16.456 & 16.652 & 16.807 \\\\\n",
       "\\end{tabular}\n"
      ],
      "text/plain": [
       "\u001b[1mDataFrameRow\u001b[0m\n",
       "\u001b[1m Row \u001b[0m│\u001b[1m Journal   \u001b[0m\u001b[1m 1997    \u001b[0m\u001b[1m 2015    \u001b[0m\u001b[1m 2016    \u001b[0m\u001b[1m 2017    \u001b[0m\u001b[1m 2018    \u001b[0m\n",
       "\u001b[1m     \u001b[0m│\u001b[90m String31  \u001b[0m\u001b[90m Float64 \u001b[0m\u001b[90m Float64 \u001b[0m\u001b[90m Float64 \u001b[0m\u001b[90m Float64 \u001b[0m\u001b[90m Float64 \u001b[0m\n",
       "─────┼────────────────────────────────────────────────────────\n",
       "   2 │ NAT GENET   13.779   16.807   16.456   16.652   16.807"
      ]
     },
     "metadata": {},
     "output_type": "display_data"
    }
   ],
   "source": [
    "AIS[2, [1, 2, 20, 21, 22, 23]]"
   ]
  },
  {
   "cell_type": "code",
   "execution_count": 410,
   "metadata": {},
   "outputs": [
    {
     "data": {
      "text/html": [
       "<p>DataFrameRow (6 columns)</p><div class=\"data-frame\"><table class=\"data-frame\"><thead><tr><th></th><th>Journal</th><th>1997</th><th>2015</th><th>2016</th><th>2017</th><th>2018</th></tr><tr><th></th><th title=\"String31\">String31</th><th title=\"Float64\">Float64</th><th title=\"Float64\">Float64</th><th title=\"Float64\">Float64</th><th title=\"Float64\">Float64</th><th title=\"Float64\">Float64</th></tr></thead><tbody><tr><th>2</th><td>NAT GENET</td><td>38.854</td><td>31.616</td><td>27.959</td><td>27.125</td><td>25.455</td></tr></tbody></table></div>"
      ],
      "text/latex": [
       "\\begin{tabular}{r|cccccc}\n",
       "\t& Journal & 1997 & 2015 & 2016 & 2017 & 2018\\\\\n",
       "\t\\hline\n",
       "\t& String31 & Float64 & Float64 & Float64 & Float64 & Float64\\\\\n",
       "\t\\hline\n",
       "\t2 & NAT GENET & 38.854 & 31.616 & 27.959 & 27.125 & 25.455 \\\\\n",
       "\\end{tabular}\n"
      ],
      "text/plain": [
       "\u001b[1mDataFrameRow\u001b[0m\n",
       "\u001b[1m Row \u001b[0m│\u001b[1m Journal   \u001b[0m\u001b[1m 1997    \u001b[0m\u001b[1m 2015    \u001b[0m\u001b[1m 2016    \u001b[0m\u001b[1m 2017    \u001b[0m\u001b[1m 2018    \u001b[0m\n",
       "\u001b[1m     \u001b[0m│\u001b[90m String31  \u001b[0m\u001b[90m Float64 \u001b[0m\u001b[90m Float64 \u001b[0m\u001b[90m Float64 \u001b[0m\u001b[90m Float64 \u001b[0m\u001b[90m Float64 \u001b[0m\n",
       "─────┼────────────────────────────────────────────────────────\n",
       "   2 │ NAT GENET   38.854   31.616   27.959   27.125   25.455"
      ]
     },
     "metadata": {},
     "output_type": "display_data"
    }
   ],
   "source": [
    "ISI[2, [1, 2, 20, 21, 22, 23]]"
   ]
  },
  {
   "cell_type": "code",
   "execution_count": 411,
   "metadata": {},
   "outputs": [
    {
     "data": {
      "text/html": [
       "<p>DataFrameRow (2 columns)</p><div class=\"data-frame\"><table class=\"data-frame\"><thead><tr><th></th><th>Journal</th><th>2019</th></tr><tr><th></th><th title=\"String31\">String31</th><th title=\"Float64\">Float64</th></tr></thead><tbody><tr><th>9567</th><td>NAT GENET</td><td>16.922</td></tr></tbody></table></div>"
      ],
      "text/latex": [
       "\\begin{tabular}{r|cc}\n",
       "\t& Journal & 2019\\\\\n",
       "\t\\hline\n",
       "\t& String31 & Float64\\\\\n",
       "\t\\hline\n",
       "\t9567 & NAT GENET & 16.922 \\\\\n",
       "\\end{tabular}\n"
      ],
      "text/plain": [
       "\u001b[1mDataFrameRow\u001b[0m\n",
       "\u001b[1m  Row \u001b[0m│\u001b[1m Journal   \u001b[0m\u001b[1m 2019    \u001b[0m\n",
       "\u001b[1m      \u001b[0m│\u001b[90m String31  \u001b[0m\u001b[90m Float64 \u001b[0m\n",
       "──────┼────────────────────\n",
       " 9567 │ NAT GENET   16.922"
      ]
     },
     "metadata": {},
     "output_type": "display_data"
    }
   ],
   "source": [
    "root = dirname(@__FILE__)\n",
    "inputAIS = joinpath(root, \"ISI_Journal_Citation_Report_2019.csv\")\n",
    "AIS2019 = CSV.read(inputAIS, DataFrame; header=true, missingstring=[\"Not Available\",\"\"])\n",
    "AIS2019.\"Article Influence Score\" = replace(AIS2019.\"Article Influence Score\", missing => 0)\n",
    "AIS2019.\"Journal Impact Factor\" = replace(AIS2019.\"Journal Impact Factor\", missing => 0)\n",
    "eltype.(eachcol(AIS2019))\n",
    "#AIS2019[9567, [3, 6, 15]]\n",
    "ISI2019 = AIS2019[!, [3, 6]]\n",
    "AIS2019 = AIS2019[!, [3, 15]]\n",
    "rename!(AIS2019,:\"JCR Abbreviated Title\" => :\"Journal\")\n",
    "#rename!(AIS2019,:\"Journal Impact Factor\" => :\"ISI2019\")\n",
    "rename!(AIS2019,:\"Article Influence Score\" => :\"2019\")\n",
    "AIS2019[9567, :]"
   ]
  },
  {
   "cell_type": "code",
   "execution_count": 412,
   "metadata": {},
   "outputs": [
    {
     "data": {
      "text/html": [
       "<p>DataFrameRow (2 columns)</p><div class=\"data-frame\"><table class=\"data-frame\"><thead><tr><th></th><th>Journal</th><th>2019</th></tr><tr><th></th><th title=\"String31\">String31</th><th title=\"Float64\">Float64</th></tr></thead><tbody><tr><th>9567</th><td>NAT GENET</td><td>27.603</td></tr></tbody></table></div>"
      ],
      "text/latex": [
       "\\begin{tabular}{r|cc}\n",
       "\t& Journal & 2019\\\\\n",
       "\t\\hline\n",
       "\t& String31 & Float64\\\\\n",
       "\t\\hline\n",
       "\t9567 & NAT GENET & 27.603 \\\\\n",
       "\\end{tabular}\n"
      ],
      "text/plain": [
       "\u001b[1mDataFrameRow\u001b[0m\n",
       "\u001b[1m  Row \u001b[0m│\u001b[1m Journal   \u001b[0m\u001b[1m 2019    \u001b[0m\n",
       "\u001b[1m      \u001b[0m│\u001b[90m String31  \u001b[0m\u001b[90m Float64 \u001b[0m\n",
       "──────┼────────────────────\n",
       " 9567 │ NAT GENET   27.603"
      ]
     },
     "metadata": {},
     "output_type": "display_data"
    }
   ],
   "source": [
    "rename!(ISI2019,:\"JCR Abbreviated Title\" => :\"Journal\")\n",
    "rename!(ISI2019,:\"Journal Impact Factor\" => :\"2019\")\n",
    "#rename!(ISI2019,:\"Article Influence Score\" => :\"2019\")\n",
    "ISI2019[9567, :]"
   ]
  },
  {
   "cell_type": "code",
   "execution_count": 413,
   "metadata": {},
   "outputs": [
    {
     "data": {
      "text/html": [
       "<p>DataFrameRow (2 columns)</p><div class=\"data-frame\"><table class=\"data-frame\"><thead><tr><th></th><th>Journal</th><th>2020</th></tr><tr><th></th><th title=\"String31\">String31</th><th title=\"Float64\">Float64</th></tr></thead><tbody><tr><th>9685</th><td>NAT GENET</td><td>19.017</td></tr></tbody></table></div>"
      ],
      "text/latex": [
       "\\begin{tabular}{r|cc}\n",
       "\t& Journal & 2020\\\\\n",
       "\t\\hline\n",
       "\t& String31 & Float64\\\\\n",
       "\t\\hline\n",
       "\t9685 & NAT GENET & 19.017 \\\\\n",
       "\\end{tabular}\n"
      ],
      "text/plain": [
       "\u001b[1mDataFrameRow\u001b[0m\n",
       "\u001b[1m  Row \u001b[0m│\u001b[1m Journal   \u001b[0m\u001b[1m 2020    \u001b[0m\n",
       "\u001b[1m      \u001b[0m│\u001b[90m String31  \u001b[0m\u001b[90m Float64 \u001b[0m\n",
       "──────┼────────────────────\n",
       " 9685 │ NAT GENET   19.017"
      ]
     },
     "metadata": {},
     "output_type": "display_data"
    }
   ],
   "source": [
    "root = dirname(@__FILE__)\n",
    "inputAIS = joinpath(root, \"ISI_Journal_Citation_Report_2020.csv\")\n",
    "AIS2020 = CSV.read(inputAIS, DataFrame; header=true, missingstring=[\"Not Available\",\"\"])\n",
    "AIS2020.\"Article Influence Score\" = replace(AIS2020.\"Article Influence Score\", missing => 0)\n",
    "AIS2020.\"Journal Impact Factor\" = replace(AIS2020.\"Journal Impact Factor\", missing => 0)\n",
    "eltype.(eachcol(AIS2020))\n",
    "#AIS2020[9685, [2, 5, 13]]\n",
    "ISI2020 = AIS2020[!, [2, 5]]\n",
    "AIS2020 = AIS2020[!, [2, 13]]\n",
    "rename!(AIS2020,:\"JCR Abbreviated Title\" => :\"Journal\")\n",
    "#rename!(AIS2020,:\"Journal Impact Factor\" => :\"ISI2020\")\n",
    "rename!(AIS2020,:\"Article Influence Score\" => :\"2020\")\n",
    "AIS2020[9685, :]"
   ]
  },
  {
   "cell_type": "code",
   "execution_count": 414,
   "metadata": {},
   "outputs": [
    {
     "data": {
      "text/html": [
       "<p>DataFrameRow (2 columns)</p><div class=\"data-frame\"><table class=\"data-frame\"><thead><tr><th></th><th>Journal</th><th>2020</th></tr><tr><th></th><th title=\"String31\">String31</th><th title=\"Float64\">Float64</th></tr></thead><tbody><tr><th>9685</th><td>NAT GENET</td><td>38.33</td></tr></tbody></table></div>"
      ],
      "text/latex": [
       "\\begin{tabular}{r|cc}\n",
       "\t& Journal & 2020\\\\\n",
       "\t\\hline\n",
       "\t& String31 & Float64\\\\\n",
       "\t\\hline\n",
       "\t9685 & NAT GENET & 38.33 \\\\\n",
       "\\end{tabular}\n"
      ],
      "text/plain": [
       "\u001b[1mDataFrameRow\u001b[0m\n",
       "\u001b[1m  Row \u001b[0m│\u001b[1m Journal   \u001b[0m\u001b[1m 2020    \u001b[0m\n",
       "\u001b[1m      \u001b[0m│\u001b[90m String31  \u001b[0m\u001b[90m Float64 \u001b[0m\n",
       "──────┼────────────────────\n",
       " 9685 │ NAT GENET    38.33"
      ]
     },
     "metadata": {},
     "output_type": "display_data"
    }
   ],
   "source": [
    "rename!(ISI2020,:\"JCR Abbreviated Title\" => :\"Journal\")\n",
    "rename!(ISI2020,:\"Journal Impact Factor\" => :\"2020\")\n",
    "#rename!(ISI2019,:\"Article Influence Score\" => :\"2019\")\n",
    "ISI2020[9685, :]"
   ]
  },
  {
   "cell_type": "code",
   "execution_count": 415,
   "metadata": {},
   "outputs": [
    {
     "data": {
      "text/html": [
       "<p>DataFrameRow (6 columns)</p><div class=\"data-frame\"><table class=\"data-frame\"><thead><tr><th></th><th>Journal</th><th>1997</th><th>2017</th><th>2018</th><th>2019</th><th>2020</th></tr><tr><th></th><th title=\"String31\">String31</th><th title=\"Float64\">Float64</th><th title=\"Float64\">Float64</th><th title=\"Float64\">Float64</th><th title=\"Float64\">Float64</th><th title=\"Float64\">Float64</th></tr></thead><tbody><tr><th>2</th><td>NAT GENET</td><td>13.779</td><td>16.652</td><td>16.807</td><td>16.922</td><td>19.017</td></tr></tbody></table></div>"
      ],
      "text/latex": [
       "\\begin{tabular}{r|cccccc}\n",
       "\t& Journal & 1997 & 2017 & 2018 & 2019 & 2020\\\\\n",
       "\t\\hline\n",
       "\t& String31 & Float64 & Float64 & Float64 & Float64 & Float64\\\\\n",
       "\t\\hline\n",
       "\t2 & NAT GENET & 13.779 & 16.652 & 16.807 & 16.922 & 19.017 \\\\\n",
       "\\end{tabular}\n"
      ],
      "text/plain": [
       "\u001b[1mDataFrameRow\u001b[0m\n",
       "\u001b[1m Row \u001b[0m│\u001b[1m Journal   \u001b[0m\u001b[1m 1997    \u001b[0m\u001b[1m 2017    \u001b[0m\u001b[1m 2018    \u001b[0m\u001b[1m 2019    \u001b[0m\u001b[1m 2020    \u001b[0m\n",
       "\u001b[1m     \u001b[0m│\u001b[90m String31  \u001b[0m\u001b[90m Float64 \u001b[0m\u001b[90m Float64 \u001b[0m\u001b[90m Float64 \u001b[0m\u001b[90m Float64 \u001b[0m\u001b[90m Float64 \u001b[0m\n",
       "─────┼────────────────────────────────────────────────────────\n",
       "   2 │ NAT GENET   13.779   16.652   16.807   16.922   19.017"
      ]
     },
     "metadata": {},
     "output_type": "display_data"
    }
   ],
   "source": [
    "AIS = leftjoin(AIS, AIS2019; on=:\"Journal\", makeunique=true)\n",
    "AIS = leftjoin(AIS, AIS2020; on=:\"Journal\", makeunique=true)\n",
    "AIS.\"2019\" = replace(AIS.\"2019\", missing => 0)\n",
    "AIS.\"2020\" = replace(AIS.\"2020\", missing => 0)\n",
    "AIS[2, [1, 2, 22, 23, 24, 25]]"
   ]
  },
  {
   "cell_type": "code",
   "execution_count": 416,
   "metadata": {},
   "outputs": [
    {
     "data": {
      "text/html": [
       "<p>DataFrameRow (6 columns)</p><div class=\"data-frame\"><table class=\"data-frame\"><thead><tr><th></th><th>Journal</th><th>1997</th><th>2017</th><th>2018</th><th>2019</th><th>2020</th></tr><tr><th></th><th title=\"String31\">String31</th><th title=\"Float64\">Float64</th><th title=\"Float64\">Float64</th><th title=\"Float64\">Float64</th><th title=\"Float64\">Float64</th><th title=\"Float64\">Float64</th></tr></thead><tbody><tr><th>2</th><td>NAT GENET</td><td>38.854</td><td>27.125</td><td>25.455</td><td>27.603</td><td>38.33</td></tr></tbody></table></div>"
      ],
      "text/latex": [
       "\\begin{tabular}{r|cccccc}\n",
       "\t& Journal & 1997 & 2017 & 2018 & 2019 & 2020\\\\\n",
       "\t\\hline\n",
       "\t& String31 & Float64 & Float64 & Float64 & Float64 & Float64\\\\\n",
       "\t\\hline\n",
       "\t2 & NAT GENET & 38.854 & 27.125 & 25.455 & 27.603 & 38.33 \\\\\n",
       "\\end{tabular}\n"
      ],
      "text/plain": [
       "\u001b[1mDataFrameRow\u001b[0m\n",
       "\u001b[1m Row \u001b[0m│\u001b[1m Journal   \u001b[0m\u001b[1m 1997    \u001b[0m\u001b[1m 2017    \u001b[0m\u001b[1m 2018    \u001b[0m\u001b[1m 2019    \u001b[0m\u001b[1m 2020    \u001b[0m\n",
       "\u001b[1m     \u001b[0m│\u001b[90m String31  \u001b[0m\u001b[90m Float64 \u001b[0m\u001b[90m Float64 \u001b[0m\u001b[90m Float64 \u001b[0m\u001b[90m Float64 \u001b[0m\u001b[90m Float64 \u001b[0m\n",
       "─────┼────────────────────────────────────────────────────────\n",
       "   2 │ NAT GENET   38.854   27.125   25.455   27.603    38.33"
      ]
     },
     "metadata": {},
     "output_type": "display_data"
    }
   ],
   "source": [
    "ISI = leftjoin(ISI, ISI2019; on=:\"Journal\", makeunique=true)\n",
    "ISI = leftjoin(ISI, ISI2020; on=:\"Journal\", makeunique=true)\n",
    "ISI.\"2019\" = replace(ISI.\"2019\", missing => 0)\n",
    "ISI.\"2020\" = replace(ISI.\"2020\", missing => 0)\n",
    "ISI[2, [1, 2, 22, 23, 24, 25]]"
   ]
  },
  {
   "cell_type": "code",
   "execution_count": 417,
   "metadata": {},
   "outputs": [],
   "source": []
  }
 ],
 "metadata": {
  "kernelspec": {
   "display_name": "Julia 1.6.3",
   "language": "julia",
   "name": "julia-1.6"
  },
  "language_info": {
   "file_extension": ".jl",
   "mimetype": "application/julia",
   "name": "julia",
   "version": "1.6.3"
  },
  "orig_nbformat": 4
 },
 "nbformat": 4,
 "nbformat_minor": 2
}
