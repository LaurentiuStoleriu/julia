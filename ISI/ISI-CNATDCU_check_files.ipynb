{
 "cells": [
  {
   "cell_type": "code",
   "execution_count": null,
   "metadata": {},
   "outputs": [],
   "source": [
    "using CSV, DataFrames"
   ]
  },
  {
   "cell_type": "code",
   "execution_count": null,
   "metadata": {},
   "outputs": [],
   "source": [
    "fileOwnPapers = \"CE_JL_savedrecs_mine.txt\"\n",
    "fileCitations = \"CE_JL_savedrecs.txt\"\n",
    "root = dirname(\"/home/lali/TITAN-ROG-sync/julia/ISI/\")\n",
    "inputMINE = joinpath(root, fileOwnPapers)\n",
    "inputCIT = joinpath(root, fileCitations)"
   ]
  },
  {
   "cell_type": "code",
   "execution_count": null,
   "metadata": {},
   "outputs": [],
   "source": [
    "###  wc -l /mnt/e/Stoleriu/Doc/CV/auto/CE_JL_savedrecs_mine.txt = 103\n",
    "#for i in 1:103\n",
    "#    @info \"Attempting\" i\n",
    "#    CSV.File(inputCIT; limit = i, ntasks = 1)\n",
    "#    @info \"Finished\" i\n",
    "#end"
   ]
  },
  {
   "cell_type": "code",
   "execution_count": null,
   "metadata": {},
   "outputs": [],
   "source": [
    "###  wc -l /mnt/e/Stoleriu/Doc/CV/auto/CE_JL_savedrecs.txt = 1351\n",
    "for i in 1:1351\n",
    "    @info \"Attempting\" i\n",
    "    CSV.File(inputCIT; limit = i, ntasks = 1, delim=\"\\t\")\n",
    "    @info \"Finished\" i\n",
    "end\n",
    "\n",
    "#MyFile = CSV.File(inputCIT; limit = 1350, ntasks = 1, delim=\"\\t\") |> DataFrame"
   ]
  },
  {
   "cell_type": "code",
   "execution_count": null,
   "metadata": {},
   "outputs": [],
   "source": [
    "VSCodeServer.vscodedisplay(MyFile)"
   ]
  },
  {
   "cell_type": "code",
   "execution_count": null,
   "metadata": {},
   "outputs": [],
   "source": []
  }
 ],
 "metadata": {
  "kernelspec": {
   "display_name": "Julia 1.10.0",
   "language": "julia",
   "name": "julia-1.10"
  },
  "language_info": {
   "file_extension": ".jl",
   "mimetype": "application/julia",
   "name": "julia",
   "version": "1.10.0"
  }
 },
 "nbformat": 4,
 "nbformat_minor": 2
}
